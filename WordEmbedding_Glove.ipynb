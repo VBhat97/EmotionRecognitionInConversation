{
  "nbformat": 4,
  "nbformat_minor": 0,
  "metadata": {
    "colab": {
      "name": "WordEmbedding_Glove.ipynb",
      "provenance": [],
      "authorship_tag": "ABX9TyNYgP6rFa4ZQ6SXwV8K9dXL",
      "include_colab_link": true
    },
    "kernelspec": {
      "name": "python3",
      "display_name": "Python 3"
    },
    "accelerator": "GPU"
  },
  "cells": [
    {
      "cell_type": "markdown",
      "metadata": {
        "id": "view-in-github",
        "colab_type": "text"
      },
      "source": [
        "<a href=\"https://colab.research.google.com/github/anitayadav3/EmotionRecognitionInConversation/blob/master/WordEmbedding_Glove.ipynb\" target=\"_parent\"><img src=\"https://colab.research.google.com/assets/colab-badge.svg\" alt=\"Open In Colab\"/></a>"
      ]
    },
    {
      "cell_type": "code",
      "metadata": {
        "id": "E9Qq6o94hrVP",
        "outputId": "660283d2-d6b5-4320-80d1-d1ad41e970df",
        "colab": {
          "base_uri": "https://localhost:8080/",
          "height": 34
        }
      },
      "source": [
        "from google.colab import drive\n",
        "drive.mount('/content/gdrive')"
      ],
      "execution_count": 1,
      "outputs": [
        {
          "output_type": "stream",
          "text": [
            "Drive already mounted at /content/gdrive; to attempt to forcibly remount, call drive.mount(\"/content/gdrive\", force_remount=True).\n"
          ],
          "name": "stdout"
        }
      ]
    },
    {
      "cell_type": "code",
      "metadata": {
        "id": "rQSquAK3jKrj"
      },
      "source": [
        "import pickle\n",
        "import pandas as pd\n",
        "import numpy as np\n",
        "import keras\n",
        "import itertools\n",
        "from sklearn.model_selection import train_test_split\n",
        "from keras.models import Sequential, Model\n",
        "from keras.layers import Dense, Dropout, LSTM, Embedding, Bidirectional, Input\n",
        "from keras.optimizers import Adam\n",
        "from keras.preprocessing.text import Tokenizer\n",
        "from keras.preprocessing.sequence import pad_sequences\n",
        "from keras.utils.np_utils import to_categorical  \n",
        "\n",
        "from keras.layers import Layer\n",
        "import keras.backend as K"
      ],
      "execution_count": 2,
      "outputs": []
    },
    {
      "cell_type": "code",
      "metadata": {
        "id": "Td2pGheih0Gc",
        "outputId": "887f37ea-ae82-4e0d-9b63-34e0401a3246",
        "colab": {
          "base_uri": "https://localhost:8080/",
          "height": 34
        }
      },
      "source": [
        "glove_6B_100d_file_path_name = \"/content/gdrive/My Drive/iemocap/glove.6B.100d.txt\"\n",
        "\n",
        "embeddings_index = dict()\n",
        "\n",
        "f = open(glove_6B_100d_file_path_name)\n",
        "\n",
        "for line in f:\n",
        "    values = line.split()\n",
        "    word = values[0]\n",
        "    coefs = np.asarray(values[1:], dtype='float32')\n",
        "    embeddings_index[word] = coefs\n",
        "    \n",
        "f.close()\n",
        "print('Loaded %s word vectors.' % len(embeddings_index))"
      ],
      "execution_count": 3,
      "outputs": [
        {
          "output_type": "stream",
          "text": [
            "Loaded 400000 word vectors.\n"
          ],
          "name": "stdout"
        }
      ]
    },
    {
      "cell_type": "code",
      "metadata": {
        "id": "Sd5nzx9Kit7K"
      },
      "source": [
        "all_glove_words = list(embeddings_index.keys())\n",
        "vocabulary_size = len(all_glove_words)\n",
        "tokenizer = Tokenizer() #num_words= vocabulary_size\n",
        "tokenizer.fit_on_texts(all_glove_words)"
      ],
      "execution_count": 4,
      "outputs": []
    },
    {
      "cell_type": "code",
      "metadata": {
        "id": "FjyGBwROkdDw",
        "outputId": "0738c774-9003-46c4-97b2-4408d4ca4ef4",
        "colab": {
          "base_uri": "https://localhost:8080/",
          "height": 34
        }
      },
      "source": [
        "print(len(all_glove_words))"
      ],
      "execution_count": 30,
      "outputs": [
        {
          "output_type": "stream",
          "text": [
            "400000\n"
          ],
          "name": "stdout"
        }
      ]
    },
    {
      "cell_type": "code",
      "metadata": {
        "id": "fO2T4gWTi12N"
      },
      "source": [
        "embedding_matrix = np.zeros((vocabulary_size, 100)) \n",
        "for word, index in tokenizer.word_index.items():\n",
        "    if index > vocabulary_size - 1:\n",
        "        break\n",
        "    else:\n",
        "        embedding_vector = embeddings_index.get(word)\n",
        "        if embedding_vector is not None:\n",
        "            embedding_matrix[index] = embedding_vector"
      ],
      "execution_count": 5,
      "outputs": []
    },
    {
      "cell_type": "code",
      "metadata": {
        "id": "8TklQP8ii5Br"
      },
      "source": [
        "with open('/content/gdrive/My Drive/iemocap/train/sentences.pkl', 'rb') as f:\n",
        "    data = pickle.load(f)\n",
        "with open('/content/gdrive/My Drive/iemocap/train/labels.pkl', 'rb') as f:\n",
        "    labels = pickle.load(f)\n",
        "with open('/content/gdrive/My Drive/iemocap/test/sentences.pkl', 'rb') as f:\n",
        "    test_data = pickle.load(f)\n",
        "with open('/content/gdrive/My Drive/iemocap/test/labels.pkl', 'rb') as f:\n",
        "    test_labels = pickle.load(f)"
      ],
      "execution_count": 6,
      "outputs": []
    },
    {
      "cell_type": "code",
      "metadata": {
        "id": "TII6K0-3jWiv"
      },
      "source": [
        "def preprocessing(data,labels):\n",
        "  processed_data=[]\n",
        "  processed_label=[]\n",
        "  for i in range(0,len(data)):\n",
        "    for j in range(0,len(data[i])):\n",
        "      intermediate_data=[]\n",
        "      intermediate_label=[]\n",
        "      for k in range(0,len(data[i][j])):\n",
        "        text=data[i][j][k]\n",
        "        if text != '<eos>'and text!='<pad>':\n",
        "          intermediate_data.append(text)\n",
        "      processed_data.append(intermediate_data)\n",
        "  for i in labels:\n",
        "    for j in i:\n",
        "      processed_label.append(j)\n",
        "  return processed_data,processed_label"
      ],
      "execution_count": 7,
      "outputs": []
    },
    {
      "cell_type": "code",
      "metadata": {
        "id": "_Vv6Px6ujYqP"
      },
      "source": [
        "processed_data,processed_label = preprocessing(data,labels)\n",
        "test_processed_data,test_processed_label = preprocessing(test_data,test_labels)"
      ],
      "execution_count": 8,
      "outputs": []
    },
    {
      "cell_type": "code",
      "metadata": {
        "id": "VIYKt_k5jcRK"
      },
      "source": [
        "def Tokenize(processed_data,processed_label):\n",
        "  X = tokenizer.texts_to_sequences(processed_data)\n",
        "  X = pad_sequences(X)\n",
        "  Y = to_categorical(processed_label, num_classes=6)\n",
        "  return X,Y"
      ],
      "execution_count": 9,
      "outputs": []
    },
    {
      "cell_type": "code",
      "metadata": {
        "id": "B2uLqK_Yjep7"
      },
      "source": [
        "X,Y = Tokenize(processed_data, processed_label)\n",
        "test_X , test_Y = Tokenize(test_processed_data,test_processed_label)"
      ],
      "execution_count": 10,
      "outputs": []
    },
    {
      "cell_type": "code",
      "metadata": {
        "id": "eR3zo9nN1r8p"
      },
      "source": [
        "class attention(Layer):\n",
        "    def __init__(self,**kwargs):\n",
        "        super(attention,self).__init__(**kwargs)\n",
        "\n",
        "    def build(self,input_shape):\n",
        "        self.W=self.add_weight(name=\"att_weight\",shape=(input_shape[-1],1),initializer=\"normal\")\n",
        "        self.b=self.add_weight(name=\"att_bias\",shape=(input_shape[1],1),initializer=\"zeros\")        \n",
        "        super(attention, self).build(input_shape)\n",
        "\n",
        "    def call(self,x):\n",
        "        et=K.squeeze(K.tanh(K.dot(x,self.W)+self.b),axis=-1)\n",
        "        at=K.softmax(et)\n",
        "        at=K.expand_dims(at,axis=-1)\n",
        "        output=x*at\n",
        "        return K.sum(output,axis=1)\n",
        "\n",
        "    def compute_output_shape(self,input_shape):\n",
        "        return (input_shape[0],input_shape[-1])\n",
        "\n",
        "    def get_config(self):\n",
        "        return super(attention,self).get_config()"
      ],
      "execution_count": 11,
      "outputs": []
    },
    {
      "cell_type": "code",
      "metadata": {
        "id": "eZZx7Iv-1-kL",
        "outputId": "d9cfda70-8a65-4188-d034-ee102654388e",
        "colab": {
          "base_uri": "https://localhost:8080/",
          "height": 336
        }
      },
      "source": [
        "inputs=Input((X.shape[1],))\n",
        "x=Embedding(input_dim=len(all_glove_words),output_dim=32,input_length=X.shape[1],\\\n",
        "            embeddings_regularizer=keras.regularizers.l2(.001))(inputs)\n",
        "att_in=LSTM(200,return_sequences=True,dropout=0.3,recurrent_dropout=0.2)(x)\n",
        "att_out=attention()(att_in)\n",
        "outputs=Dense(6,activation='softmax')(att_out)\n",
        "model=Model(inputs,outputs)\n",
        "model.summary()"
      ],
      "execution_count": 12,
      "outputs": [
        {
          "output_type": "stream",
          "text": [
            "WARNING:tensorflow:Layer lstm will not use cuDNN kernel since it doesn't meet the cuDNN kernel criteria. It will use generic GPU kernel as fallback when running on GPU\n",
            "Model: \"functional_1\"\n",
            "_________________________________________________________________\n",
            "Layer (type)                 Output Shape              Param #   \n",
            "=================================================================\n",
            "input_1 (InputLayer)         [(None, 29)]              0         \n",
            "_________________________________________________________________\n",
            "embedding (Embedding)        (None, 29, 32)            12800000  \n",
            "_________________________________________________________________\n",
            "lstm (LSTM)                  (None, 29, 200)           186400    \n",
            "_________________________________________________________________\n",
            "attention (attention)        (None, 200)               229       \n",
            "_________________________________________________________________\n",
            "dense (Dense)                (None, 6)                 1206      \n",
            "=================================================================\n",
            "Total params: 12,987,835\n",
            "Trainable params: 12,987,835\n",
            "Non-trainable params: 0\n",
            "_________________________________________________________________\n"
          ],
          "name": "stdout"
        }
      ]
    },
    {
      "cell_type": "code",
      "metadata": {
        "id": "QOsMTvWvkS0i",
        "outputId": "b8f063e2-6fe0-434f-8103-3442d939ca08",
        "colab": {
          "base_uri": "https://localhost:8080/",
          "height": 269
        }
      },
      "source": [
        "# lstm_out = 200\n",
        "# embed_dim=100\n",
        "# model = Sequential()\n",
        "# model.add(Embedding(len(all_glove_words), embed_dim,input_length = X.shape[1],weights=[embedding_matrix],trainable=False))\n",
        "# model.add(Bidirectional(LSTM(200)))\n",
        "# model.add(Dense(6,activation='softmax'))\n",
        "# model.compile(loss = 'categorical_crossentropy', optimizer='adam',metrics = ['accuracy'])\n",
        "# print(model.summary())"
      ],
      "execution_count": 37,
      "outputs": [
        {
          "output_type": "stream",
          "text": [
            "Model: \"sequential_2\"\n",
            "_________________________________________________________________\n",
            "Layer (type)                 Output Shape              Param #   \n",
            "=================================================================\n",
            "embedding_2 (Embedding)      (None, 29, 100)           40000000  \n",
            "_________________________________________________________________\n",
            "bidirectional_1 (Bidirection (None, 400)               481600    \n",
            "_________________________________________________________________\n",
            "dense_1 (Dense)              (None, 6)                 2406      \n",
            "=================================================================\n",
            "Total params: 40,484,006\n",
            "Trainable params: 484,006\n",
            "Non-trainable params: 40,000,000\n",
            "_________________________________________________________________\n",
            "None\n"
          ],
          "name": "stdout"
        }
      ]
    },
    {
      "cell_type": "code",
      "metadata": {
        "id": "nwvKkMd8k00W",
        "outputId": "f6003f3e-1387-435b-aba0-986251e4137f",
        "colab": {
          "base_uri": "https://localhost:8080/",
          "height": 440
        }
      },
      "source": [
        "model.compile(loss = 'categorical_crossentropy', optimizer='adam',metrics = ['accuracy'])\n",
        "model.fit(X, Y, epochs = 10,  verbose = 1)\n",
        "score,acc=model.evaluate(test_X,test_Y,verbose=2)\n",
        "print(\"Accuracy : \"+ str(acc))"
      ],
      "execution_count": 13,
      "outputs": [
        {
          "output_type": "stream",
          "text": [
            "Epoch 1/10\n"
          ],
          "name": "stdout"
        },
        {
          "output_type": "stream",
          "text": [
            "/usr/local/lib/python3.6/dist-packages/tensorflow/python/framework/indexed_slices.py:432: UserWarning: Converting sparse IndexedSlices to a dense Tensor of unknown shape. This may consume a large amount of memory.\n",
            "  \"Converting sparse IndexedSlices to a dense Tensor of unknown shape. \"\n"
          ],
          "name": "stderr"
        },
        {
          "output_type": "stream",
          "text": [
            "147/147 [==============================] - 36s 244ms/step - loss: 2.7649 - accuracy: 0.2605\n",
            "Epoch 2/10\n",
            "147/147 [==============================] - 36s 247ms/step - loss: 1.7162 - accuracy: 0.2739\n",
            "Epoch 3/10\n",
            "147/147 [==============================] - 36s 243ms/step - loss: 1.6833 - accuracy: 0.2981\n",
            "Epoch 4/10\n",
            "147/147 [==============================] - 37s 249ms/step - loss: 1.6173 - accuracy: 0.3428\n",
            "Epoch 5/10\n",
            "147/147 [==============================] - 36s 247ms/step - loss: 1.5512 - accuracy: 0.3818\n",
            "Epoch 6/10\n",
            "147/147 [==============================] - 36s 247ms/step - loss: 1.4787 - accuracy: 0.4158\n",
            "Epoch 7/10\n",
            "147/147 [==============================] - 37s 249ms/step - loss: 1.4109 - accuracy: 0.4516\n",
            "Epoch 8/10\n",
            "147/147 [==============================] - 36s 246ms/step - loss: 1.3455 - accuracy: 0.4837\n",
            "Epoch 9/10\n",
            "147/147 [==============================] - 37s 252ms/step - loss: 1.2981 - accuracy: 0.5195\n",
            "Epoch 10/10\n",
            "147/147 [==============================] - 37s 251ms/step - loss: 1.2488 - accuracy: 0.5325\n",
            "51/51 - 2s - loss: 1.6394 - accuracy: 0.4122\n",
            "Accuracy : 0.41219961643218994\n"
          ],
          "name": "stdout"
        }
      ]
    }
  ]
}