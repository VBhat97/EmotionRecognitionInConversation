{
  "nbformat": 4,
  "nbformat_minor": 0,
  "metadata": {
    "colab": {
      "name": "WordEmbedding_Glove.ipynb",
      "provenance": [],
      "authorship_tag": "ABX9TyMqFi0xEdIqa3W/Iug5T/9V",
      "include_colab_link": true
    },
    "kernelspec": {
      "name": "python3",
      "display_name": "Python 3"
    },
    "accelerator": "GPU"
  },
  "cells": [
    {
      "cell_type": "markdown",
      "metadata": {
        "id": "view-in-github",
        "colab_type": "text"
      },
      "source": [
        "<a href=\"https://colab.research.google.com/github/anitayadav3/EmotionRecognitionInConversation/blob/master/WordEmbedding_Glove.ipynb\" target=\"_parent\"><img src=\"https://colab.research.google.com/assets/colab-badge.svg\" alt=\"Open In Colab\"/></a>"
      ]
    },
    {
      "cell_type": "code",
      "metadata": {
        "id": "E9Qq6o94hrVP",
        "outputId": "3954e2f7-e573-4895-d9d8-18626f030ee1",
        "colab": {
          "base_uri": "https://localhost:8080/",
          "height": 34
        }
      },
      "source": [
        "from google.colab import drive\n",
        "drive.mount('/content/gdrive')"
      ],
      "execution_count": 4,
      "outputs": [
        {
          "output_type": "stream",
          "text": [
            "Mounted at /content/gdrive\n"
          ],
          "name": "stdout"
        }
      ]
    },
    {
      "cell_type": "code",
      "metadata": {
        "id": "rQSquAK3jKrj"
      },
      "source": [
        "import pickle\n",
        "import pandas as pd\n",
        "import numpy as np\n",
        "import keras\n",
        "import itertools\n",
        "from sklearn.model_selection import train_test_split\n",
        "from keras.models import Sequential\n",
        "from keras.layers import Dense, Dropout, LSTM, Embedding, Bidirectional\n",
        "from keras.optimizers import Adam\n",
        "from keras.preprocessing.text import Tokenizer\n",
        "from keras.preprocessing.sequence import pad_sequences\n",
        "from keras.utils.np_utils import to_categorical  "
      ],
      "execution_count": 10,
      "outputs": []
    },
    {
      "cell_type": "code",
      "metadata": {
        "id": "Td2pGheih0Gc",
        "outputId": "97f91ecc-b6f8-4198-e26e-acb81a4f52cf",
        "colab": {
          "base_uri": "https://localhost:8080/",
          "height": 34
        }
      },
      "source": [
        "glove_6B_100d_file_path_name = \"/content/gdrive/My Drive/iemocap/glove.6B.100d.txt\"\n",
        "\n",
        "embeddings_index = dict()\n",
        "\n",
        "f = open(glove_6B_100d_file_path_name)\n",
        "\n",
        "for line in f:\n",
        "    values = line.split()\n",
        "    word = values[0]\n",
        "    coefs = np.asarray(values[1:], dtype='float32')\n",
        "    embeddings_index[word] = coefs\n",
        "    \n",
        "f.close()\n",
        "print('Loaded %s word vectors.' % len(embeddings_index))"
      ],
      "execution_count": 5,
      "outputs": [
        {
          "output_type": "stream",
          "text": [
            "Loaded 400000 word vectors.\n"
          ],
          "name": "stdout"
        }
      ]
    },
    {
      "cell_type": "code",
      "metadata": {
        "id": "Sd5nzx9Kit7K"
      },
      "source": [
        "all_glove_words = list(embeddings_index.keys())\n",
        "vocabulary_size = len(all_glove_words)\n",
        "tokenizer = Tokenizer() #num_words= vocabulary_size\n",
        "tokenizer.fit_on_texts(all_glove_words)"
      ],
      "execution_count": 7,
      "outputs": []
    },
    {
      "cell_type": "code",
      "metadata": {
        "id": "FjyGBwROkdDw",
        "outputId": "193f34f1-c0f0-4fef-dc15-8b9813695580",
        "colab": {
          "base_uri": "https://localhost:8080/",
          "height": 34
        }
      },
      "source": [
        "print(len(all_glove_words))"
      ],
      "execution_count": 22,
      "outputs": [
        {
          "output_type": "stream",
          "text": [
            "400000\n"
          ],
          "name": "stdout"
        }
      ]
    },
    {
      "cell_type": "code",
      "metadata": {
        "id": "fO2T4gWTi12N"
      },
      "source": [
        "embedding_matrix = np.zeros((vocabulary_size, 100)) \n",
        "for word, index in tokenizer.word_index.items():\n",
        "    if index > vocabulary_size - 1:\n",
        "        break\n",
        "    else:\n",
        "        embedding_vector = embeddings_index.get(word)\n",
        "        if embedding_vector is not None:\n",
        "            embedding_matrix[index] = embedding_vector"
      ],
      "execution_count": 8,
      "outputs": []
    },
    {
      "cell_type": "code",
      "metadata": {
        "id": "8TklQP8ii5Br"
      },
      "source": [
        "with open('/content/gdrive/My Drive/iemocap/train/sentences.pkl', 'rb') as f:\n",
        "    data = pickle.load(f)\n",
        "with open('/content/gdrive/My Drive/iemocap/train/labels.pkl', 'rb') as f:\n",
        "    labels = pickle.load(f)\n",
        "with open('/content/gdrive/My Drive/iemocap/test/sentences.pkl', 'rb') as f:\n",
        "    test_data = pickle.load(f)\n",
        "with open('/content/gdrive/My Drive/iemocap/test/labels.pkl', 'rb') as f:\n",
        "    test_labels = pickle.load(f)"
      ],
      "execution_count": 11,
      "outputs": []
    },
    {
      "cell_type": "code",
      "metadata": {
        "id": "TII6K0-3jWiv"
      },
      "source": [
        "def preprocessing(data,labels):\n",
        "  processed_data=[]\n",
        "  processed_label=[]\n",
        "  for i in range(0,len(data)):\n",
        "    for j in range(0,len(data[i])):\n",
        "      intermediate_data=[]\n",
        "      intermediate_label=[]\n",
        "      for k in range(0,len(data[i][j])):\n",
        "        text=data[i][j][k]\n",
        "        if text != '<eos>'and text!='<pad>':\n",
        "          intermediate_data.append(text)\n",
        "      processed_data.append(intermediate_data)\n",
        "  for i in labels:\n",
        "    for j in i:\n",
        "      processed_label.append(j)\n",
        "  return processed_data,processed_label"
      ],
      "execution_count": 12,
      "outputs": []
    },
    {
      "cell_type": "code",
      "metadata": {
        "id": "_Vv6Px6ujYqP"
      },
      "source": [
        "processed_data,processed_label = preprocessing(data,labels)\n",
        "test_processed_data,test_processed_label = preprocessing(test_data,test_labels)"
      ],
      "execution_count": 13,
      "outputs": []
    },
    {
      "cell_type": "code",
      "metadata": {
        "id": "VIYKt_k5jcRK"
      },
      "source": [
        "def Tokenize(processed_data,processed_label):\n",
        "  X = tokenizer.texts_to_sequences(processed_data)\n",
        "  X = pad_sequences(X)\n",
        "  Y = to_categorical(processed_label, num_classes=6)\n",
        "  return X,Y"
      ],
      "execution_count": 20,
      "outputs": []
    },
    {
      "cell_type": "code",
      "metadata": {
        "id": "B2uLqK_Yjep7"
      },
      "source": [
        "X,Y = Tokenize(processed_data, processed_label)\n",
        "test_X , test_Y = Tokenize(test_processed_data,test_processed_label)"
      ],
      "execution_count": 21,
      "outputs": []
    },
    {
      "cell_type": "code",
      "metadata": {
        "id": "QOsMTvWvkS0i",
        "outputId": "2d6e6849-624b-445c-ccdb-e97cb88f0546",
        "colab": {
          "base_uri": "https://localhost:8080/",
          "height": 269
        }
      },
      "source": [
        "lstm_out = 200\n",
        "embed_dim=100\n",
        "model = Sequential()\n",
        "model.add(Embedding(len(all_glove_words), embed_dim,input_length = X.shape[1],weights=[embedding_matrix],trainable=False))\n",
        "model.add(Bidirectional(LSTM(200)))\n",
        "model.add(Dense(6,activation='softmax'))\n",
        "model.compile(loss = 'categorical_crossentropy', optimizer='adam',metrics = ['accuracy'])\n",
        "print(model.summary())"
      ],
      "execution_count": 24,
      "outputs": [
        {
          "output_type": "stream",
          "text": [
            "Model: \"sequential_1\"\n",
            "_________________________________________________________________\n",
            "Layer (type)                 Output Shape              Param #   \n",
            "=================================================================\n",
            "embedding_1 (Embedding)      (None, 29, 100)           40000000  \n",
            "_________________________________________________________________\n",
            "bidirectional (Bidirectional (None, 400)               481600    \n",
            "_________________________________________________________________\n",
            "dense (Dense)                (None, 6)                 2406      \n",
            "=================================================================\n",
            "Total params: 40,484,006\n",
            "Trainable params: 484,006\n",
            "Non-trainable params: 40,000,000\n",
            "_________________________________________________________________\n",
            "None\n"
          ],
          "name": "stdout"
        }
      ]
    },
    {
      "cell_type": "code",
      "metadata": {
        "id": "nwvKkMd8k00W",
        "outputId": "cf54adfb-0861-4d49-d6a4-6064ebfd88af",
        "colab": {
          "base_uri": "https://localhost:8080/",
          "height": 386
        }
      },
      "source": [
        "model.fit(X, Y, epochs = 10,  verbose = 1)\n",
        "score,acc=model.evaluate(test_X,test_Y,verbose=2)\n",
        "print(\"Accuracy : \"+ str(acc))"
      ],
      "execution_count": 25,
      "outputs": [
        {
          "output_type": "stream",
          "text": [
            "Epoch 1/10\n",
            "147/147 [==============================] - 4s 24ms/step - loss: 1.6875 - accuracy: 0.2930\n",
            "Epoch 2/10\n",
            "147/147 [==============================] - 3s 24ms/step - loss: 1.5872 - accuracy: 0.3507\n",
            "Epoch 3/10\n",
            "147/147 [==============================] - 4s 24ms/step - loss: 1.4956 - accuracy: 0.4075\n",
            "Epoch 4/10\n",
            "147/147 [==============================] - 3s 24ms/step - loss: 1.4131 - accuracy: 0.4561\n",
            "Epoch 5/10\n",
            "147/147 [==============================] - 3s 24ms/step - loss: 1.3309 - accuracy: 0.4897\n",
            "Epoch 6/10\n",
            "147/147 [==============================] - 4s 24ms/step - loss: 1.2369 - accuracy: 0.5305\n",
            "Epoch 7/10\n",
            "147/147 [==============================] - 3s 24ms/step - loss: 1.1355 - accuracy: 0.5667\n",
            "Epoch 8/10\n",
            "147/147 [==============================] - 4s 24ms/step - loss: 1.0335 - accuracy: 0.6093\n",
            "Epoch 9/10\n",
            "147/147 [==============================] - 4s 24ms/step - loss: 0.9160 - accuracy: 0.6593\n",
            "Epoch 10/10\n",
            "147/147 [==============================] - 4s 24ms/step - loss: 0.8142 - accuracy: 0.7014\n",
            "51/51 - 0s - loss: 1.5974 - accuracy: 0.4190\n",
            "Accuracy : 0.41897720098495483\n"
          ],
          "name": "stdout"
        }
      ]
    }
  ]
}