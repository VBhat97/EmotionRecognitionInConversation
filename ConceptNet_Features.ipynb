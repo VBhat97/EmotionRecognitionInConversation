{
  "nbformat": 4,
  "nbformat_minor": 0,
  "metadata": {
    "colab": {
      "name": "ConceptNet_Features.ipynb",
      "provenance": [],
      "collapsed_sections": [],
      "authorship_tag": "ABX9TyMYHT8tq5hrjzZ8SR4EB14X",
      "include_colab_link": true
    },
    "kernelspec": {
      "name": "python3",
      "display_name": "Python 3"
    }
  },
  "cells": [
    {
      "cell_type": "markdown",
      "metadata": {
        "id": "view-in-github",
        "colab_type": "text"
      },
      "source": [
        "<a href=\"https://colab.research.google.com/github/anitayadav3/EmotionRecognitionInConversation/blob/master/ConceptNet_Features.ipynb\" target=\"_parent\"><img src=\"https://colab.research.google.com/assets/colab-badge.svg\" alt=\"Open In Colab\"/></a>"
      ]
    },
    {
      "cell_type": "code",
      "metadata": {
        "colab": {
          "base_uri": "https://localhost:8080/"
        },
        "id": "AeBNy2OjIs0j",
        "outputId": "f2bf195a-9b12-46d3-ac03-aafa5cb47bbf"
      },
      "source": [
        "import pickle\r\n",
        "import string\r\n",
        "import nltk\r\n",
        "nltk.download('punkt')\r\n",
        "import requests\r\n",
        "import re"
      ],
      "execution_count": 23,
      "outputs": [
        {
          "output_type": "stream",
          "text": [
            "[nltk_data] Downloading package punkt to /root/nltk_data...\n",
            "[nltk_data]   Package punkt is already up-to-date!\n"
          ],
          "name": "stdout"
        }
      ]
    },
    {
      "cell_type": "code",
      "metadata": {
        "colab": {
          "base_uri": "https://localhost:8080/"
        },
        "id": "ijlG0K3eIRuP",
        "outputId": "d26d1309-432c-477d-82cd-08088101433a"
      },
      "source": [
        "from google.colab import drive\r\n",
        "drive.mount('/content/gdrive')"
      ],
      "execution_count": 1,
      "outputs": [
        {
          "output_type": "stream",
          "text": [
            "Mounted at /content/gdrive\n"
          ],
          "name": "stdout"
        }
      ]
    },
    {
      "cell_type": "code",
      "metadata": {
        "id": "81u94u6dInNg"
      },
      "source": [
        "with open('/content/gdrive/My Drive/iemocap/train/sentences.pkl', 'rb') as f:\r\n",
        "    data = pickle.load(f)\r\n",
        "with open('/content/gdrive/My Drive/iemocap/train/labels.pkl', 'rb') as f:\r\n",
        "    labels = pickle.load(f)\r\n",
        "with open('/content/gdrive/My Drive/iemocap/test/sentences.pkl', 'rb') as f:\r\n",
        "    test_data = pickle.load(f)\r\n",
        "with open('/content/gdrive/My Drive/iemocap/test/labels.pkl', 'rb') as f:\r\n",
        "    test_labels = pickle.load(f)"
      ],
      "execution_count": 4,
      "outputs": []
    },
    {
      "cell_type": "code",
      "metadata": {
        "id": "S0Bh6jNmIyUl"
      },
      "source": [
        "def preprocessing(data,labels):\r\n",
        "  processed_data=[]\r\n",
        "  processed_label=[]\r\n",
        "  for i in range(0,len(data)):\r\n",
        "    for j in range(0,len(data[i])):\r\n",
        "      intermediate_data=[]\r\n",
        "      intermediate_label=[]\r\n",
        "      for k in range(0,len(data[i][j])):\r\n",
        "        text=data[i][j][k]\r\n",
        "        if text != '<eos>'and text!='<pad>':\r\n",
        "          intermediate_data.append(text)\r\n",
        "      processed_data.append(intermediate_data)\r\n",
        "  for i in labels:\r\n",
        "    for j in i:\r\n",
        "      processed_label.append(j)\r\n",
        "  return processed_data,processed_label"
      ],
      "execution_count": 5,
      "outputs": []
    },
    {
      "cell_type": "code",
      "metadata": {
        "id": "-yco_VAfIzgu"
      },
      "source": [
        "processed_data,processed_label = preprocessing(data,labels)\r\n",
        "test_processed_data,test_processed_label = preprocessing(test_data,test_labels)"
      ],
      "execution_count": 41,
      "outputs": []
    },
    {
      "cell_type": "code",
      "metadata": {
        "id": "fa8KcKu8I4rk"
      },
      "source": [
        "for i in range(0,len(processed_data)):\r\n",
        "  processed_data[i]= ' '.join(processed_data[i])\r\n",
        "for i in range(0,len(test_processed_data)):\r\n",
        "  test_processed_data[i]=' '.join(test_processed_data[i])"
      ],
      "execution_count": 42,
      "outputs": []
    },
    {
      "cell_type": "code",
      "metadata": {
        "id": "D0KuorJkKute"
      },
      "source": [
        "conceptnet_data=[]\r\n",
        "temp=processed_data[0]\r\n",
        "vars=temp.translate(str.maketrans('', '', string.punctuation))\r\n",
        "tokens=nltk.word_tokenize(vars)\r\n",
        "for i in tokens:\r\n",
        "  obj = requests.get('http://api.conceptnet.io/related/c/en/' + i + '?filter=/c/en').json()\r\n",
        "  for j in range(1,3):\r\n",
        "    var=obj['related'][j]['@id']\r\n",
        "    ans=re.sub(r'[^\\w]', ' ', var)\r\n",
        "    ans=ans[6:]\r\n",
        "    conceptnet_data.append(ans)\r\n",
        "for i in conceptnet_data:\r\n",
        "  processed_data[0]=processed_data[0]+\" \"+str(i)"
      ],
      "execution_count": 38,
      "outputs": []
    },
    {
      "cell_type": "code",
      "metadata": {
        "id": "4wvFks37Wjdk"
      },
      "source": [
        "new_process=[]\r\n",
        "for i in range(0,2):\r\n",
        "  new_process.append(processed_data[i])"
      ],
      "execution_count": 49,
      "outputs": []
    },
    {
      "cell_type": "code",
      "metadata": {
        "id": "YxW80LhUKal5"
      },
      "source": [
        "def add_ConceptNet_Features(data):\r\n",
        "  print(len(data))\r\n",
        "  for sentences in range(0,len(data)):\r\n",
        "    conceptnet_data=[]\r\n",
        "    cleaned_sentences=data[sentences].translate(str.maketrans('', '', string.punctuation))\r\n",
        "    tokens=nltk.word_tokenize(cleaned_sentences)\r\n",
        "    for i in tokens:\r\n",
        "      obj = requests.get('http://api.conceptnet.io/related/c/en/' + i + '?filter=/c/en').json()\r\n",
        "      for j in range(1,3):\r\n",
        "        response=obj['related'][j]['@id']\r\n",
        "        response=re.sub(r'[^\\w]', ' ', response)\r\n",
        "        response=response[6:]\r\n",
        "        conceptnet_data.append(response)\r\n",
        "    for i in conceptnet_data:\r\n",
        "      print(data[sentences])\r\n",
        "      print(str(i))\r\n",
        "      data[sentences]=data[sentences]+\" \"+str(i)\r\n",
        "  return data"
      ],
      "execution_count": 47,
      "outputs": []
    },
    {
      "cell_type": "code",
      "metadata": {
        "colab": {
          "base_uri": "https://localhost:8080/"
        },
        "id": "mQ5xVDXQVoZI",
        "outputId": "0fa1e4fd-091f-4472-e472-3fc91fe75ea4"
      },
      "source": [
        "new_data = add_ConceptNet_Features(new_process)"
      ],
      "execution_count": 52,
      "outputs": [
        {
          "output_type": "stream",
          "text": [
            "2\n",
            "thank you for calling sprint . we care about everybody . how can i help you ?\n",
            "thanked\n",
            "thank you for calling sprint . we care about everybody . how can i help you ? thanked\n",
            "thank_you\n",
            "thank you for calling sprint . we care about everybody . how can i help you ? thanked thank_you\n",
            "y_all\n",
            "thank you for calling sprint . we care about everybody . how can i help you ? thanked thank_you y_all\n",
            "you ve\n",
            "thank you for calling sprint . we care about everybody . how can i help you ? thanked thank_you y_all you ve\n",
            "forthe\n",
            "thank you for calling sprint . we care about everybody . how can i help you ? thanked thank_you y_all you ve forthe\n",
            "herefor\n",
            "thank you for calling sprint . we care about everybody . how can i help you ? thanked thank_you y_all you ve forthe herefor\n",
            "calls\n",
            "thank you for calling sprint . we care about everybody . how can i help you ? thanked thank_you y_all you ve forthe herefor calls\n",
            "call\n",
            "thank you for calling sprint . we care about everybody . how can i help you ? thanked thank_you y_all you ve forthe herefor calls call\n",
            "sprints\n",
            "thank you for calling sprint . we care about everybody . how can i help you ? thanked thank_you y_all you ve forthe herefor calls call sprints\n",
            "sprinting\n",
            "thank you for calling sprint . we care about everybody . how can i help you ? thanked thank_you y_all you ve forthe herefor calls call sprints sprinting\n",
            "we re\n",
            "thank you for calling sprint . we care about everybody . how can i help you ? thanked thank_you y_all you ve forthe herefor calls call sprints sprinting we re\n",
            "we ve\n",
            "thank you for calling sprint . we care about everybody . how can i help you ? thanked thank_you y_all you ve forthe herefor calls call sprints sprinting we re we ve\n",
            "careth\n",
            "thank you for calling sprint . we care about everybody . how can i help you ? thanked thank_you y_all you ve forthe herefor calls call sprints sprinting we re we ve careth\n",
            "cared\n",
            "thank you for calling sprint . we care about everybody . how can i help you ? thanked thank_you y_all you ve forthe herefor calls call sprints sprinting we re we ve careth cared\n",
            "aboutness\n",
            "thank you for calling sprint . we care about everybody . how can i help you ? thanked thank_you y_all you ve forthe herefor calls call sprints sprinting we re we ve careth cared aboutness\n",
            "regarding\n",
            "thank you for calling sprint . we care about everybody . how can i help you ? thanked thank_you y_all you ve forthe herefor calls call sprints sprinting we re we ve careth cared aboutness regarding\n",
            "tout_le_monde\n",
            "thank you for calling sprint . we care about everybody . how can i help you ? thanked thank_you y_all you ve forthe herefor calls call sprints sprinting we re we ve careth cared aboutness regarding tout_le_monde\n",
            "everyone\n",
            "thank you for calling sprint . we care about everybody . how can i help you ? thanked thank_you y_all you ve forthe herefor calls call sprints sprinting we re we ve careth cared aboutness regarding tout_le_monde everyone\n",
            "quomodo\n",
            "thank you for calling sprint . we care about everybody . how can i help you ? thanked thank_you y_all you ve forthe herefor calls call sprints sprinting we re we ve careth cared aboutness regarding tout_le_monde everyone quomodo\n",
            "how re\n",
            "thank you for calling sprint . we care about everybody . how can i help you ? thanked thank_you y_all you ve forthe herefor calls call sprints sprinting we re we ve careth cared aboutness regarding tout_le_monde everyone quomodo how re\n",
            "could\n",
            "thank you for calling sprint . we care about everybody . how can i help you ? thanked thank_you y_all you ve forthe herefor calls call sprints sprinting we re we ve careth cared aboutness regarding tout_le_monde everyone quomodo how re could\n",
            "cannot\n",
            "thank you for calling sprint . we care about everybody . how can i help you ? thanked thank_you y_all you ve forthe herefor calls call sprints sprinting we re we ve careth cared aboutness regarding tout_le_monde everyone quomodo how re could cannot\n",
            "me\n",
            "thank you for calling sprint . we care about everybody . how can i help you ? thanked thank_you y_all you ve forthe herefor calls call sprints sprinting we re we ve careth cared aboutness regarding tout_le_monde everyone quomodo how re could cannot me\n",
            "you d\n",
            "thank you for calling sprint . we care about everybody . how can i help you ? thanked thank_you y_all you ve forthe herefor calls call sprints sprinting we re we ve careth cared aboutness regarding tout_le_monde everyone quomodo how re could cannot me you d\n",
            "helps\n",
            "thank you for calling sprint . we care about everybody . how can i help you ? thanked thank_you y_all you ve forthe herefor calls call sprints sprinting we re we ve careth cared aboutness regarding tout_le_monde everyone quomodo how re could cannot me you d helps\n",
            "lend_hand\n",
            "thank you for calling sprint . we care about everybody . how can i help you ? thanked thank_you y_all you ve forthe herefor calls call sprints sprinting we re we ve careth cared aboutness regarding tout_le_monde everyone quomodo how re could cannot me you d helps lend_hand\n",
            "y_all\n",
            "thank you for calling sprint . we care about everybody . how can i help you ? thanked thank_you y_all you ve forthe herefor calls call sprints sprinting we re we ve careth cared aboutness regarding tout_le_monde everyone quomodo how re could cannot me you d helps lend_hand y_all\n",
            "you ve\n",
            "hi . i ' ve been on the phone for an hour trying to get a little discrepancy on my bill fixed . i was charged for two hundred\n",
            "hello\n",
            "hi . i ' ve been on the phone for an hour trying to get a little discrepancy on my bill fixed . i was charged for two hundred hello\n",
            "hola\n",
            "hi . i ' ve been on the phone for an hour trying to get a little discrepancy on my bill fixed . i was charged for two hundred hello hola\n",
            "me\n",
            "hi . i ' ve been on the phone for an hour trying to get a little discrepancy on my bill fixed . i was charged for two hundred hello hola me\n",
            "you d\n",
            "hi . i ' ve been on the phone for an hour trying to get a little discrepancy on my bill fixed . i was charged for two hundred hello hola me you d\n",
            "to ve\n",
            "hi . i ' ve been on the phone for an hour trying to get a little discrepancy on my bill fixed . i was charged for two hundred hello hola me you d to ve\n",
            "had\n",
            "hi . i ' ve been on the phone for an hour trying to get a little discrepancy on my bill fixed . i was charged for two hundred hello hola me you d to ve had\n",
            "binna\n",
            "hi . i ' ve been on the phone for an hour trying to get a little discrepancy on my bill fixed . i was charged for two hundred hello hola me you d to ve had binna\n",
            "has\n",
            "hi . i ' ve been on the phone for an hour trying to get a little discrepancy on my bill fixed . i was charged for two hundred hello hola me you d to ve had binna has\n",
            "upon\n",
            "hi . i ' ve been on the phone for an hour trying to get a little discrepancy on my bill fixed . i was charged for two hundred hello hola me you d to ve had binna has upon\n",
            "onto\n",
            "hi . i ' ve been on the phone for an hour trying to get a little discrepancy on my bill fixed . i was charged for two hundred hello hola me you d to ve had binna has upon onto\n",
            "of\n",
            "hi . i ' ve been on the phone for an hour trying to get a little discrepancy on my bill fixed . i was charged for two hundred hello hola me you d to ve had binna has upon onto of\n",
            "tthe\n",
            "hi . i ' ve been on the phone for an hour trying to get a little discrepancy on my bill fixed . i was charged for two hundred hello hola me you d to ve had binna has upon onto of tthe\n",
            "phoned\n",
            "hi . i ' ve been on the phone for an hour trying to get a little discrepancy on my bill fixed . i was charged for two hundred hello hola me you d to ve had binna has upon onto of tthe phoned\n",
            "phones\n",
            "hi . i ' ve been on the phone for an hour trying to get a little discrepancy on my bill fixed . i was charged for two hundred hello hola me you d to ve had binna has upon onto of tthe phoned phones\n",
            "forthe\n",
            "hi . i ' ve been on the phone for an hour trying to get a little discrepancy on my bill fixed . i was charged for two hundred hello hola me you d to ve had binna has upon onto of tthe phoned phones forthe\n",
            "herefor\n",
            "hi . i ' ve been on the phone for an hour trying to get a little discrepancy on my bill fixed . i was charged for two hundred hello hola me you d to ve had binna has upon onto of tthe phoned phones forthe herefor\n",
            "a\n",
            "hi . i ' ve been on the phone for an hour trying to get a little discrepancy on my bill fixed . i was charged for two hundred hello hola me you d to ve had binna has upon onto of tthe phoned phones forthe herefor a\n",
            "ofan\n",
            "hi . i ' ve been on the phone for an hour trying to get a little discrepancy on my bill fixed . i was charged for two hundred hello hola me you d to ve had binna has upon onto of tthe phoned phones forthe herefor a ofan\n",
            "hours\n",
            "hi . i ' ve been on the phone for an hour trying to get a little discrepancy on my bill fixed . i was charged for two hundred hello hola me you d to ve had binna has upon onto of tthe phoned phones forthe herefor a ofan hours\n",
            "half_hour\n",
            "hi . i ' ve been on the phone for an hour trying to get a little discrepancy on my bill fixed . i was charged for two hundred hello hola me you d to ve had binna has upon onto of tthe phoned phones forthe herefor a ofan hours half_hour\n",
            "attempting\n",
            "hi . i ' ve been on the phone for an hour trying to get a little discrepancy on my bill fixed . i was charged for two hundred hello hola me you d to ve had binna has upon onto of tthe phoned phones forthe herefor a ofan hours half_hour attempting\n",
            "tries\n",
            "hi . i ' ve been on the phone for an hour trying to get a little discrepancy on my bill fixed . i was charged for two hundred hello hola me you d to ve had binna has upon onto of tthe phoned phones forthe herefor a ofan hours half_hour attempting tries\n",
            "to ve\n",
            "hi . i ' ve been on the phone for an hour trying to get a little discrepancy on my bill fixed . i was charged for two hundred hello hola me you d to ve had binna has upon onto of tthe phoned phones forthe herefor a ofan hours half_hour attempting tries to ve\n",
            "to_the\n",
            "hi . i ' ve been on the phone for an hour trying to get a little discrepancy on my bill fixed . i was charged for two hundred hello hola me you d to ve had binna has upon onto of tthe phoned phones forthe herefor a ofan hours half_hour attempting tries to ve to_the\n",
            "reget\n",
            "hi . i ' ve been on the phone for an hour trying to get a little discrepancy on my bill fixed . i was charged for two hundred hello hola me you d to ve had binna has upon onto of tthe phoned phones forthe herefor a ofan hours half_hour attempting tries to ve to_the reget\n",
            "gets\n",
            "hi . i ' ve been on the phone for an hour trying to get a little discrepancy on my bill fixed . i was charged for two hundred hello hola me you d to ve had binna has upon onto of tthe phoned phones forthe herefor a ofan hours half_hour attempting tries to ve to_the reget gets\n",
            "an\n",
            "hi . i ' ve been on the phone for an hour trying to get a little discrepancy on my bill fixed . i was charged for two hundred hello hola me you d to ve had binna has upon onto of tthe phoned phones forthe herefor a ofan hours half_hour attempting tries to ve to_the reget gets an\n",
            "another\n",
            "hi . i ' ve been on the phone for an hour trying to get a little discrepancy on my bill fixed . i was charged for two hundred hello hola me you d to ve had binna has upon onto of tthe phoned phones forthe herefor a ofan hours half_hour attempting tries to ve to_the reget gets an another\n",
            "weensy\n",
            "hi . i ' ve been on the phone for an hour trying to get a little discrepancy on my bill fixed . i was charged for two hundred hello hola me you d to ve had binna has upon onto of tthe phoned phones forthe herefor a ofan hours half_hour attempting tries to ve to_the reget gets an another weensy\n",
            "itty_bitty\n",
            "hi . i ' ve been on the phone for an hour trying to get a little discrepancy on my bill fixed . i was charged for two hundred hello hola me you d to ve had binna has upon onto of tthe phoned phones forthe herefor a ofan hours half_hour attempting tries to ve to_the reget gets an another weensy itty_bitty\n",
            "discrepancies\n",
            "hi . i ' ve been on the phone for an hour trying to get a little discrepancy on my bill fixed . i was charged for two hundred hello hola me you d to ve had binna has upon onto of tthe phoned phones forthe herefor a ofan hours half_hour attempting tries to ve to_the reget gets an another weensy itty_bitty discrepancies\n",
            "disparity\n",
            "hi . i ' ve been on the phone for an hour trying to get a little discrepancy on my bill fixed . i was charged for two hundred hello hola me you d to ve had binna has upon onto of tthe phoned phones forthe herefor a ofan hours half_hour attempting tries to ve to_the reget gets an another weensy itty_bitty discrepancies disparity\n",
            "upon\n",
            "hi . i ' ve been on the phone for an hour trying to get a little discrepancy on my bill fixed . i was charged for two hundred hello hola me you d to ve had binna has upon onto of tthe phoned phones forthe herefor a ofan hours half_hour attempting tries to ve to_the reget gets an another weensy itty_bitty discrepancies disparity upon\n",
            "onto\n",
            "hi . i ' ve been on the phone for an hour trying to get a little discrepancy on my bill fixed . i was charged for two hundred hello hola me you d to ve had binna has upon onto of tthe phoned phones forthe herefor a ofan hours half_hour attempting tries to ve to_the reget gets an another weensy itty_bitty discrepancies disparity upon onto\n",
            "mine\n",
            "hi . i ' ve been on the phone for an hour trying to get a little discrepancy on my bill fixed . i was charged for two hundred hello hola me you d to ve had binna has upon onto of tthe phoned phones forthe herefor a ofan hours half_hour attempting tries to ve to_the reget gets an another weensy itty_bitty discrepancies disparity upon onto mine\n",
            "for_me\n",
            "hi . i ' ve been on the phone for an hour trying to get a little discrepancy on my bill fixed . i was charged for two hundred hello hola me you d to ve had binna has upon onto of tthe phoned phones forthe herefor a ofan hours half_hour attempting tries to ve to_the reget gets an another weensy itty_bitty discrepancies disparity upon onto mine for_me\n",
            "appropriation_bill\n",
            "hi . i ' ve been on the phone for an hour trying to get a little discrepancy on my bill fixed . i was charged for two hundred hello hola me you d to ve had binna has upon onto of tthe phoned phones forthe herefor a ofan hours half_hour attempting tries to ve to_the reget gets an another weensy itty_bitty discrepancies disparity upon onto mine for_me appropriation_bill\n",
            "bills\n",
            "hi . i ' ve been on the phone for an hour trying to get a little discrepancy on my bill fixed . i was charged for two hundred hello hola me you d to ve had binna has upon onto of tthe phoned phones forthe herefor a ofan hours half_hour attempting tries to ve to_the reget gets an another weensy itty_bitty discrepancies disparity upon onto mine for_me appropriation_bill bills\n",
            "fixed_charges\n",
            "hi . i ' ve been on the phone for an hour trying to get a little discrepancy on my bill fixed . i was charged for two hundred hello hola me you d to ve had binna has upon onto of tthe phoned phones forthe herefor a ofan hours half_hour attempting tries to ve to_the reget gets an another weensy itty_bitty discrepancies disparity upon onto mine for_me appropriation_bill bills fixed_charges\n",
            "fixt\n",
            "hi . i ' ve been on the phone for an hour trying to get a little discrepancy on my bill fixed . i was charged for two hundred hello hola me you d to ve had binna has upon onto of tthe phoned phones forthe herefor a ofan hours half_hour attempting tries to ve to_the reget gets an another weensy itty_bitty discrepancies disparity upon onto mine for_me appropriation_bill bills fixed_charges fixt\n",
            "me\n",
            "hi . i ' ve been on the phone for an hour trying to get a little discrepancy on my bill fixed . i was charged for two hundred hello hola me you d to ve had binna has upon onto of tthe phoned phones forthe herefor a ofan hours half_hour attempting tries to ve to_the reget gets an another weensy itty_bitty discrepancies disparity upon onto mine for_me appropriation_bill bills fixed_charges fixt me\n",
            "you d\n",
            "hi . i ' ve been on the phone for an hour trying to get a little discrepancy on my bill fixed . i was charged for two hundred hello hola me you d to ve had binna has upon onto of tthe phoned phones forthe herefor a ofan hours half_hour attempting tries to ve to_the reget gets an another weensy itty_bitty discrepancies disparity upon onto mine for_me appropriation_bill bills fixed_charges fixt me you d\n",
            "wasn t\n",
            "hi . i ' ve been on the phone for an hour trying to get a little discrepancy on my bill fixed . i was charged for two hundred hello hola me you d to ve had binna has upon onto of tthe phoned phones forthe herefor a ofan hours half_hour attempting tries to ve to_the reget gets an another weensy itty_bitty discrepancies disparity upon onto mine for_me appropriation_bill bills fixed_charges fixt me you d wasn t\n",
            "weren t\n",
            "hi . i ' ve been on the phone for an hour trying to get a little discrepancy on my bill fixed . i was charged for two hundred hello hola me you d to ve had binna has upon onto of tthe phoned phones forthe herefor a ofan hours half_hour attempting tries to ve to_the reget gets an another weensy itty_bitty discrepancies disparity upon onto mine for_me appropriation_bill bills fixed_charges fixt me you d wasn t weren t\n",
            "charge\n",
            "hi . i ' ve been on the phone for an hour trying to get a little discrepancy on my bill fixed . i was charged for two hundred hello hola me you d to ve had binna has upon onto of tthe phoned phones forthe herefor a ofan hours half_hour attempting tries to ve to_the reget gets an another weensy itty_bitty discrepancies disparity upon onto mine for_me appropriation_bill bills fixed_charges fixt me you d wasn t weren t charge\n",
            "charges\n",
            "hi . i ' ve been on the phone for an hour trying to get a little discrepancy on my bill fixed . i was charged for two hundred hello hola me you d to ve had binna has upon onto of tthe phoned phones forthe herefor a ofan hours half_hour attempting tries to ve to_the reget gets an another weensy itty_bitty discrepancies disparity upon onto mine for_me appropriation_bill bills fixed_charges fixt me you d wasn t weren t charge charges\n",
            "forthe\n",
            "hi . i ' ve been on the phone for an hour trying to get a little discrepancy on my bill fixed . i was charged for two hundred hello hola me you d to ve had binna has upon onto of tthe phoned phones forthe herefor a ofan hours half_hour attempting tries to ve to_the reget gets an another weensy itty_bitty discrepancies disparity upon onto mine for_me appropriation_bill bills fixed_charges fixt me you d wasn t weren t charge charges forthe\n",
            "herefor\n",
            "hi . i ' ve been on the phone for an hour trying to get a little discrepancy on my bill fixed . i was charged for two hundred hello hola me you d to ve had binna has upon onto of tthe phoned phones forthe herefor a ofan hours half_hour attempting tries to ve to_the reget gets an another weensy itty_bitty discrepancies disparity upon onto mine for_me appropriation_bill bills fixed_charges fixt me you d wasn t weren t charge charges forthe herefor\n",
            "three\n",
            "hi . i ' ve been on the phone for an hour trying to get a little discrepancy on my bill fixed . i was charged for two hundred hello hola me you d to ve had binna has upon onto of tthe phoned phones forthe herefor a ofan hours half_hour attempting tries to ve to_the reget gets an another weensy itty_bitty discrepancies disparity upon onto mine for_me appropriation_bill bills fixed_charges fixt me you d wasn t weren t charge charges forthe herefor three\n",
            "four\n",
            "hi . i ' ve been on the phone for an hour trying to get a little discrepancy on my bill fixed . i was charged for two hundred hello hola me you d to ve had binna has upon onto of tthe phoned phones forthe herefor a ofan hours half_hour attempting tries to ve to_the reget gets an another weensy itty_bitty discrepancies disparity upon onto mine for_me appropriation_bill bills fixed_charges fixt me you d wasn t weren t charge charges forthe herefor three four\n",
            "thousand\n",
            "hi . i ' ve been on the phone for an hour trying to get a little discrepancy on my bill fixed . i was charged for two hundred hello hola me you d to ve had binna has upon onto of tthe phoned phones forthe herefor a ofan hours half_hour attempting tries to ve to_the reget gets an another weensy itty_bitty discrepancies disparity upon onto mine for_me appropriation_bill bills fixed_charges fixt me you d wasn t weren t charge charges forthe herefor three four thousand\n",
            "fifty\n"
          ],
          "name": "stdout"
        }
      ]
    }
  ]
}