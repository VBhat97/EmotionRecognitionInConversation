{
  "nbformat": 4,
  "nbformat_minor": 0,
  "metadata": {
    "colab": {
      "name": "WordEmbedding_Glove.ipynb",
      "provenance": [],
      "include_colab_link": true
    },
    "kernelspec": {
      "name": "python3",
      "display_name": "Python 3"
    },
    "accelerator": "GPU"
  },
  "cells": [
    {
      "cell_type": "markdown",
      "metadata": {
        "id": "view-in-github",
        "colab_type": "text"
      },
      "source": [
        "<a href=\"https://colab.research.google.com/github/anitayadav3/EmotionRecognitionInConversation/blob/master/WordEmbedding_Glove_With_Attention.ipynb\" target=\"_parent\"><img src=\"https://colab.research.google.com/assets/colab-badge.svg\" alt=\"Open In Colab\"/></a>"
      ]
    },
    {
      "cell_type": "code",
      "metadata": {
        "id": "E9Qq6o94hrVP",
        "outputId": "d862d6eb-7a48-4859-d1db-6504cf4b4976",
        "colab": {
          "base_uri": "https://localhost:8080/"
        }
      },
      "source": [
        "from google.colab import drive\n",
        "drive.mount('/content/gdrive')"
      ],
      "execution_count": 1,
      "outputs": [
        {
          "output_type": "stream",
          "text": [
            "Drive already mounted at /content/gdrive; to attempt to forcibly remount, call drive.mount(\"/content/gdrive\", force_remount=True).\n"
          ],
          "name": "stdout"
        }
      ]
    },
    {
      "cell_type": "code",
      "metadata": {
        "id": "rQSquAK3jKrj"
      },
      "source": [
        "import pickle\n",
        "import pandas as pd\n",
        "import numpy as np\n",
        "import keras\n",
        "import itertools\n",
        "from sklearn.model_selection import train_test_split\n",
        "from keras.models import Sequential, Model\n",
        "from keras.layers import Dense, Dropout, LSTM, Embedding, Bidirectional, Input\n",
        "from keras.optimizers import Adam\n",
        "from keras.preprocessing.text import Tokenizer\n",
        "from keras.preprocessing.sequence import pad_sequences\n",
        "from keras.utils.np_utils import to_categorical  \n",
        "\n",
        "from keras.layers import Layer\n",
        "import keras.backend as K"
      ],
      "execution_count": 2,
      "outputs": []
    },
    {
      "cell_type": "code",
      "metadata": {
        "id": "Td2pGheih0Gc",
        "outputId": "f94b4704-0004-46ab-a240-661dce7389ac",
        "colab": {
          "base_uri": "https://localhost:8080/"
        }
      },
      "source": [
        "glove_6B_100d_file_path_name = \"/content/gdrive/My Drive/iemocap/glove.6B.100d.txt\"\n",
        "\n",
        "embeddings_index = dict()\n",
        "\n",
        "f = open(glove_6B_100d_file_path_name)\n",
        "\n",
        "for line in f:\n",
        "    values = line.split()\n",
        "    word = values[0]\n",
        "    coefs = np.asarray(values[1:], dtype='float32')\n",
        "    embeddings_index[word] = coefs\n",
        "    \n",
        "f.close()\n",
        "print('Loaded %s word vectors.' % len(embeddings_index))"
      ],
      "execution_count": 3,
      "outputs": [
        {
          "output_type": "stream",
          "text": [
            "Loaded 400000 word vectors.\n"
          ],
          "name": "stdout"
        }
      ]
    },
    {
      "cell_type": "code",
      "metadata": {
        "id": "Sd5nzx9Kit7K"
      },
      "source": [
        "all_glove_words = list(embeddings_index.keys())\n",
        "vocabulary_size = len(all_glove_words)\n",
        "tokenizer = Tokenizer() #num_words= vocabulary_size\n",
        "tokenizer.fit_on_texts(all_glove_words)"
      ],
      "execution_count": 4,
      "outputs": []
    },
    {
      "cell_type": "code",
      "metadata": {
        "id": "FjyGBwROkdDw",
        "outputId": "536d867e-7140-49c1-82b1-d32c0fe6e47b",
        "colab": {
          "base_uri": "https://localhost:8080/"
        }
      },
      "source": [
        "print(len(all_glove_words))"
      ],
      "execution_count": 5,
      "outputs": [
        {
          "output_type": "stream",
          "text": [
            "400000\n"
          ],
          "name": "stdout"
        }
      ]
    },
    {
      "cell_type": "code",
      "metadata": {
        "id": "fO2T4gWTi12N"
      },
      "source": [
        "embedding_matrix = np.zeros((vocabulary_size, 100)) \n",
        "for word, index in tokenizer.word_index.items():\n",
        "    if index > vocabulary_size - 1:\n",
        "        break\n",
        "    else:\n",
        "        embedding_vector = embeddings_index.get(word)\n",
        "        if embedding_vector is not None:\n",
        "            embedding_matrix[index] = embedding_vector"
      ],
      "execution_count": 6,
      "outputs": []
    },
    {
      "cell_type": "code",
      "metadata": {
        "id": "8TklQP8ii5Br"
      },
      "source": [
        "with open('/content/gdrive/My Drive/iemocap/train/sentences.pkl', 'rb') as f:\n",
        "    data = pickle.load(f)\n",
        "with open('/content/gdrive/My Drive/iemocap/train/labels.pkl', 'rb') as f:\n",
        "    labels = pickle.load(f)\n",
        "with open('/content/gdrive/My Drive/iemocap/test/sentences.pkl', 'rb') as f:\n",
        "    test_data = pickle.load(f)\n",
        "with open('/content/gdrive/My Drive/iemocap/test/labels.pkl', 'rb') as f:\n",
        "    test_labels = pickle.load(f)"
      ],
      "execution_count": 7,
      "outputs": []
    },
    {
      "cell_type": "code",
      "metadata": {
        "id": "TII6K0-3jWiv"
      },
      "source": [
        "def preprocessing(data,labels):\n",
        "  processed_data=[]\n",
        "  processed_label=[]\n",
        "  for i in range(0,len(data)):\n",
        "    for j in range(0,len(data[i])):\n",
        "      intermediate_data=[]\n",
        "      intermediate_label=[]\n",
        "      for k in range(0,len(data[i][j])):\n",
        "        text=data[i][j][k]\n",
        "        if text != '<eos>'and text!='<pad>':\n",
        "          intermediate_data.append(text)\n",
        "      processed_data.append(intermediate_data)\n",
        "  for i in labels:\n",
        "    for j in i:\n",
        "      processed_label.append(j)\n",
        "  return processed_data,processed_label"
      ],
      "execution_count": 8,
      "outputs": []
    },
    {
      "cell_type": "code",
      "metadata": {
        "id": "_Vv6Px6ujYqP"
      },
      "source": [
        "processed_data,processed_label = preprocessing(data,labels)\n",
        "test_processed_data,test_processed_label = preprocessing(test_data,test_labels)"
      ],
      "execution_count": 9,
      "outputs": []
    },
    {
      "cell_type": "code",
      "metadata": {
        "id": "VIYKt_k5jcRK"
      },
      "source": [
        "def Tokenize(processed_data,processed_label):\n",
        "  X = tokenizer.texts_to_sequences(processed_data)\n",
        "  X = pad_sequences(X)\n",
        "  Y = to_categorical(processed_label, num_classes=6)\n",
        "  return X,Y"
      ],
      "execution_count": 10,
      "outputs": []
    },
    {
      "cell_type": "code",
      "metadata": {
        "id": "B2uLqK_Yjep7"
      },
      "source": [
        "X,Y = Tokenize(processed_data, processed_label)\n",
        "test_X , test_Y = Tokenize(test_processed_data,test_processed_label)"
      ],
      "execution_count": 11,
      "outputs": []
    },
    {
      "cell_type": "code",
      "metadata": {
        "id": "eR3zo9nN1r8p"
      },
      "source": [
        "class attention(Layer):\n",
        "    def __init__(self,**kwargs):\n",
        "        super(attention,self).__init__(**kwargs)\n",
        "\n",
        "    def build(self,input_shape):\n",
        "        self.W=self.add_weight(name=\"att_weight\",shape=(input_shape[-1],1),initializer=\"normal\")\n",
        "        self.b=self.add_weight(name=\"att_bias\",shape=(input_shape[1],1),initializer=\"zeros\")        \n",
        "        super(attention, self).build(input_shape)\n",
        "\n",
        "    def call(self,x):\n",
        "        et=K.squeeze(K.tanh(K.dot(x,self.W)+self.b),axis=-1)\n",
        "        at=K.softmax(et)\n",
        "        at=K.expand_dims(at,axis=-1)\n",
        "        output=x*at\n",
        "        return K.sum(output,axis=1)\n",
        "\n",
        "    def compute_output_shape(self,input_shape):\n",
        "        return (input_shape[0],input_shape[-1])\n",
        "\n",
        "    def get_config(self):\n",
        "        return super(attention,self).get_config()"
      ],
      "execution_count": 12,
      "outputs": []
    },
    {
      "cell_type": "code",
      "metadata": {
        "id": "eZZx7Iv-1-kL",
        "outputId": "5c69a0aa-53f4-44c4-8090-a20cd25ffaa5",
        "colab": {
          "base_uri": "https://localhost:8080/"
        }
      },
      "source": [
        "inputs=Input((X.shape[1],))\n",
        "x=Embedding(input_dim=len(all_glove_words),output_dim=32,input_length=X.shape[1],\\\n",
        "            embeddings_regularizer=keras.regularizers.l2(.001))(inputs)\n",
        "att_in=LSTM(200,return_sequences=True,dropout=0.3,recurrent_dropout=0.2)(x)\n",
        "att_out=attention()(att_in)\n",
        "outputs=Dense(6,activation='softmax')(att_out)\n",
        "model=Model(inputs,outputs)\n",
        "model.summary()"
      ],
      "execution_count": 13,
      "outputs": [
        {
          "output_type": "stream",
          "text": [
            "WARNING:tensorflow:Layer lstm will not use cuDNN kernel since it doesn't meet the cuDNN kernel criteria. It will use generic GPU kernel as fallback when running on GPU\n",
            "Model: \"functional_1\"\n",
            "_________________________________________________________________\n",
            "Layer (type)                 Output Shape              Param #   \n",
            "=================================================================\n",
            "input_1 (InputLayer)         [(None, 29)]              0         \n",
            "_________________________________________________________________\n",
            "embedding (Embedding)        (None, 29, 32)            12800000  \n",
            "_________________________________________________________________\n",
            "lstm (LSTM)                  (None, 29, 200)           186400    \n",
            "_________________________________________________________________\n",
            "attention (attention)        (None, 200)               229       \n",
            "_________________________________________________________________\n",
            "dense (Dense)                (None, 6)                 1206      \n",
            "=================================================================\n",
            "Total params: 12,987,835\n",
            "Trainable params: 12,987,835\n",
            "Non-trainable params: 0\n",
            "_________________________________________________________________\n"
          ],
          "name": "stdout"
        }
      ]
    },
    {
      "cell_type": "code",
      "metadata": {
        "id": "QOsMTvWvkS0i"
      },
      "source": [
        "# lstm_out = 200\n",
        "# embed_dim=100\n",
        "# model = Sequential()\n",
        "# model.add(Embedding(len(all_glove_words), embed_dim,input_length = X.shape[1],weights=[embedding_matrix],trainable=False))\n",
        "# model.add(Bidirectional(LSTM(200)))\n",
        "# model.add(Dense(6,activation='softmax'))\n",
        "# model.compile(loss = 'categorical_crossentropy', optimizer='adam',metrics = ['accuracy'])\n",
        "# print(model.summary())"
      ],
      "execution_count": 14,
      "outputs": []
    },
    {
      "cell_type": "code",
      "metadata": {
        "id": "nwvKkMd8k00W",
        "outputId": "f51c7806-81cc-4cab-beb4-fea8c9205712",
        "colab": {
          "base_uri": "https://localhost:8080/"
        }
      },
      "source": [
        "model.compile(loss = 'categorical_crossentropy', optimizer='adam',metrics = ['accuracy'])\n",
        "history=model.fit(X, Y, epochs = 100,  verbose = 1)\n",
        "score,acc=model.evaluate(test_X,test_Y,verbose=2)\n",
        "print(\"Accuracy : \"+ str(acc))"
      ],
      "execution_count": 15,
      "outputs": [
        {
          "output_type": "stream",
          "text": [
            "Epoch 1/100\n"
          ],
          "name": "stdout"
        },
        {
          "output_type": "stream",
          "text": [
            "/usr/local/lib/python3.6/dist-packages/tensorflow/python/framework/indexed_slices.py:432: UserWarning: Converting sparse IndexedSlices to a dense Tensor of unknown shape. This may consume a large amount of memory.\n",
            "  \"Converting sparse IndexedSlices to a dense Tensor of unknown shape. \"\n"
          ],
          "name": "stderr"
        },
        {
          "output_type": "stream",
          "text": [
            "147/147 [==============================] - 25s 167ms/step - loss: 2.7646 - accuracy: 0.2539\n",
            "Epoch 2/100\n",
            "147/147 [==============================] - 24s 166ms/step - loss: 1.7120 - accuracy: 0.2809\n",
            "Epoch 3/100\n",
            "147/147 [==============================] - 24s 166ms/step - loss: 1.6668 - accuracy: 0.3120\n",
            "Epoch 4/100\n",
            "147/147 [==============================] - 24s 166ms/step - loss: 1.5914 - accuracy: 0.3452\n",
            "Epoch 5/100\n",
            "147/147 [==============================] - 24s 167ms/step - loss: 1.5234 - accuracy: 0.3856\n",
            "Epoch 6/100\n",
            "147/147 [==============================] - 24s 166ms/step - loss: 1.4505 - accuracy: 0.4339\n",
            "Epoch 7/100\n",
            "147/147 [==============================] - 25s 167ms/step - loss: 1.3791 - accuracy: 0.4690\n",
            "Epoch 8/100\n",
            "147/147 [==============================] - 24s 165ms/step - loss: 1.3334 - accuracy: 0.4912\n",
            "Epoch 9/100\n",
            "147/147 [==============================] - 24s 165ms/step - loss: 1.2772 - accuracy: 0.5210\n",
            "Epoch 10/100\n",
            "147/147 [==============================] - 25s 167ms/step - loss: 1.2343 - accuracy: 0.5463\n",
            "Epoch 11/100\n",
            "147/147 [==============================] - 25s 167ms/step - loss: 1.2008 - accuracy: 0.5582\n",
            "Epoch 12/100\n",
            "147/147 [==============================] - 24s 165ms/step - loss: 1.1601 - accuracy: 0.5761\n",
            "Epoch 13/100\n",
            "147/147 [==============================] - 24s 165ms/step - loss: 1.1309 - accuracy: 0.5965\n",
            "Epoch 14/100\n",
            "147/147 [==============================] - 24s 165ms/step - loss: 1.1039 - accuracy: 0.6191\n",
            "Epoch 15/100\n",
            "147/147 [==============================] - 24s 167ms/step - loss: 1.0866 - accuracy: 0.6252\n",
            "Epoch 16/100\n",
            "147/147 [==============================] - 24s 165ms/step - loss: 1.0636 - accuracy: 0.6355\n",
            "Epoch 17/100\n",
            "147/147 [==============================] - 24s 165ms/step - loss: 1.0409 - accuracy: 0.6452\n",
            "Epoch 18/100\n",
            "147/147 [==============================] - 24s 166ms/step - loss: 1.0189 - accuracy: 0.6461\n",
            "Epoch 19/100\n",
            "147/147 [==============================] - 24s 165ms/step - loss: 1.0110 - accuracy: 0.6595\n",
            "Epoch 20/100\n",
            "147/147 [==============================] - 24s 167ms/step - loss: 0.9953 - accuracy: 0.6672\n",
            "Epoch 21/100\n",
            "147/147 [==============================] - 25s 167ms/step - loss: 0.9810 - accuracy: 0.6710\n",
            "Epoch 22/100\n",
            "147/147 [==============================] - 24s 166ms/step - loss: 0.9601 - accuracy: 0.6746\n",
            "Epoch 23/100\n",
            "147/147 [==============================] - 24s 165ms/step - loss: 0.9570 - accuracy: 0.6721\n",
            "Epoch 24/100\n",
            "147/147 [==============================] - 24s 167ms/step - loss: 0.9441 - accuracy: 0.6895\n",
            "Epoch 25/100\n",
            "147/147 [==============================] - 24s 166ms/step - loss: 0.9269 - accuracy: 0.6910\n",
            "Epoch 26/100\n",
            "147/147 [==============================] - 25s 167ms/step - loss: 0.9141 - accuracy: 0.6987\n",
            "Epoch 27/100\n",
            "147/147 [==============================] - 24s 165ms/step - loss: 0.9085 - accuracy: 0.6993\n",
            "Epoch 28/100\n",
            "147/147 [==============================] - 24s 165ms/step - loss: 0.8835 - accuracy: 0.7114\n",
            "Epoch 29/100\n",
            "147/147 [==============================] - 24s 166ms/step - loss: 0.8852 - accuracy: 0.7099\n",
            "Epoch 30/100\n",
            "147/147 [==============================] - 24s 165ms/step - loss: 0.8764 - accuracy: 0.7131\n",
            "Epoch 31/100\n",
            "147/147 [==============================] - 24s 164ms/step - loss: 0.8642 - accuracy: 0.7182\n",
            "Epoch 32/100\n",
            "147/147 [==============================] - 24s 165ms/step - loss: 0.8610 - accuracy: 0.7185\n",
            "Epoch 33/100\n",
            "147/147 [==============================] - 24s 166ms/step - loss: 0.8488 - accuracy: 0.7236\n",
            "Epoch 34/100\n",
            "147/147 [==============================] - 24s 166ms/step - loss: 0.8475 - accuracy: 0.7208\n",
            "Epoch 35/100\n",
            "147/147 [==============================] - 24s 165ms/step - loss: 0.8359 - accuracy: 0.7248\n",
            "Epoch 36/100\n",
            "147/147 [==============================] - 24s 166ms/step - loss: 0.8292 - accuracy: 0.7340\n",
            "Epoch 37/100\n",
            "147/147 [==============================] - 25s 167ms/step - loss: 0.8057 - accuracy: 0.7365\n",
            "Epoch 38/100\n",
            "147/147 [==============================] - 24s 167ms/step - loss: 0.8163 - accuracy: 0.7329\n",
            "Epoch 39/100\n",
            "147/147 [==============================] - 24s 166ms/step - loss: 0.8100 - accuracy: 0.7351\n",
            "Epoch 40/100\n",
            "147/147 [==============================] - 24s 166ms/step - loss: 0.8032 - accuracy: 0.7419\n",
            "Epoch 41/100\n",
            "147/147 [==============================] - 24s 166ms/step - loss: 0.7915 - accuracy: 0.7404\n",
            "Epoch 42/100\n",
            "147/147 [==============================] - 24s 166ms/step - loss: 0.7847 - accuracy: 0.7427\n",
            "Epoch 43/100\n",
            "147/147 [==============================] - 24s 167ms/step - loss: 0.7890 - accuracy: 0.7457\n",
            "Epoch 44/100\n",
            "147/147 [==============================] - 24s 166ms/step - loss: 0.7637 - accuracy: 0.7542\n",
            "Epoch 45/100\n",
            "147/147 [==============================] - 24s 165ms/step - loss: 0.7798 - accuracy: 0.7410\n",
            "Epoch 46/100\n",
            "147/147 [==============================] - 24s 164ms/step - loss: 0.7556 - accuracy: 0.7557\n",
            "Epoch 47/100\n",
            "147/147 [==============================] - 24s 166ms/step - loss: 0.7617 - accuracy: 0.7536\n",
            "Epoch 48/100\n",
            "147/147 [==============================] - 24s 165ms/step - loss: 0.7609 - accuracy: 0.7563\n",
            "Epoch 49/100\n",
            "147/147 [==============================] - 24s 166ms/step - loss: 0.7646 - accuracy: 0.7557\n",
            "Epoch 50/100\n",
            "147/147 [==============================] - 25s 167ms/step - loss: 0.7483 - accuracy: 0.7593\n",
            "Epoch 51/100\n",
            "147/147 [==============================] - 25s 167ms/step - loss: 0.7502 - accuracy: 0.7644\n",
            "Epoch 52/100\n",
            "147/147 [==============================] - 24s 165ms/step - loss: 0.7326 - accuracy: 0.7687\n",
            "Epoch 53/100\n",
            "147/147 [==============================] - 24s 167ms/step - loss: 0.7221 - accuracy: 0.7708\n",
            "Epoch 54/100\n",
            "147/147 [==============================] - 24s 166ms/step - loss: 0.7231 - accuracy: 0.7704\n",
            "Epoch 55/100\n",
            "147/147 [==============================] - 24s 166ms/step - loss: 0.7146 - accuracy: 0.7761\n",
            "Epoch 56/100\n",
            "147/147 [==============================] - 24s 166ms/step - loss: 0.7127 - accuracy: 0.7729\n",
            "Epoch 57/100\n",
            "147/147 [==============================] - 25s 167ms/step - loss: 0.7131 - accuracy: 0.7695\n",
            "Epoch 58/100\n",
            "147/147 [==============================] - 25s 167ms/step - loss: 0.7107 - accuracy: 0.7785\n",
            "Epoch 59/100\n",
            "147/147 [==============================] - 24s 166ms/step - loss: 0.6848 - accuracy: 0.7829\n",
            "Epoch 60/100\n",
            "147/147 [==============================] - 24s 165ms/step - loss: 0.6826 - accuracy: 0.7768\n",
            "Epoch 61/100\n",
            "147/147 [==============================] - 24s 166ms/step - loss: 0.6884 - accuracy: 0.7846\n",
            "Epoch 62/100\n",
            "147/147 [==============================] - 24s 165ms/step - loss: 0.6959 - accuracy: 0.7753\n",
            "Epoch 63/100\n",
            "147/147 [==============================] - 24s 166ms/step - loss: 0.6793 - accuracy: 0.7908\n",
            "Epoch 64/100\n",
            "147/147 [==============================] - 25s 168ms/step - loss: 0.6771 - accuracy: 0.7897\n",
            "Epoch 65/100\n",
            "147/147 [==============================] - 24s 165ms/step - loss: 0.6621 - accuracy: 0.7912\n",
            "Epoch 66/100\n",
            "147/147 [==============================] - 25s 168ms/step - loss: 0.6590 - accuracy: 0.7902\n",
            "Epoch 67/100\n",
            "147/147 [==============================] - 24s 166ms/step - loss: 0.6726 - accuracy: 0.7904\n",
            "Epoch 68/100\n",
            "147/147 [==============================] - 24s 166ms/step - loss: 0.6688 - accuracy: 0.7908\n",
            "Epoch 69/100\n",
            "147/147 [==============================] - 25s 167ms/step - loss: 0.6602 - accuracy: 0.7936\n",
            "Epoch 70/100\n",
            "147/147 [==============================] - 25s 167ms/step - loss: 0.6516 - accuracy: 0.7902\n",
            "Epoch 71/100\n",
            "147/147 [==============================] - 24s 166ms/step - loss: 0.6470 - accuracy: 0.7976\n",
            "Epoch 72/100\n",
            "147/147 [==============================] - 24s 166ms/step - loss: 0.6439 - accuracy: 0.8025\n",
            "Epoch 73/100\n",
            "147/147 [==============================] - 25s 167ms/step - loss: 0.6471 - accuracy: 0.7957\n",
            "Epoch 74/100\n",
            "147/147 [==============================] - 25s 167ms/step - loss: 0.6439 - accuracy: 0.8040\n",
            "Epoch 75/100\n",
            "147/147 [==============================] - 24s 166ms/step - loss: 0.6278 - accuracy: 0.8055\n",
            "Epoch 76/100\n",
            "147/147 [==============================] - 24s 167ms/step - loss: 0.6290 - accuracy: 0.8057\n",
            "Epoch 77/100\n",
            "147/147 [==============================] - 25s 168ms/step - loss: 0.6262 - accuracy: 0.8085\n",
            "Epoch 78/100\n",
            "147/147 [==============================] - 24s 166ms/step - loss: 0.6196 - accuracy: 0.8129\n",
            "Epoch 79/100\n",
            "147/147 [==============================] - 25s 167ms/step - loss: 0.6176 - accuracy: 0.8078\n",
            "Epoch 80/100\n",
            "147/147 [==============================] - 25s 167ms/step - loss: 0.6236 - accuracy: 0.8104\n",
            "Epoch 81/100\n",
            "147/147 [==============================] - 24s 165ms/step - loss: 0.6168 - accuracy: 0.8121\n",
            "Epoch 82/100\n",
            "147/147 [==============================] - 24s 165ms/step - loss: 0.6042 - accuracy: 0.8129\n",
            "Epoch 83/100\n",
            "147/147 [==============================] - 24s 166ms/step - loss: 0.6049 - accuracy: 0.8153\n",
            "Epoch 84/100\n",
            "147/147 [==============================] - 24s 165ms/step - loss: 0.6096 - accuracy: 0.8108\n",
            "Epoch 85/100\n",
            "147/147 [==============================] - 24s 166ms/step - loss: 0.6102 - accuracy: 0.8104\n",
            "Epoch 86/100\n",
            "147/147 [==============================] - 24s 166ms/step - loss: 0.5987 - accuracy: 0.8183\n",
            "Epoch 87/100\n",
            "147/147 [==============================] - 24s 165ms/step - loss: 0.6014 - accuracy: 0.8151\n",
            "Epoch 88/100\n",
            "147/147 [==============================] - 24s 165ms/step - loss: 0.5947 - accuracy: 0.8240\n",
            "Epoch 89/100\n",
            "147/147 [==============================] - 24s 167ms/step - loss: 0.5788 - accuracy: 0.8221\n",
            "Epoch 90/100\n",
            "147/147 [==============================] - 24s 165ms/step - loss: 0.5881 - accuracy: 0.8210\n",
            "Epoch 91/100\n",
            "147/147 [==============================] - 24s 166ms/step - loss: 0.5896 - accuracy: 0.8189\n",
            "Epoch 92/100\n",
            "147/147 [==============================] - 25s 167ms/step - loss: 0.5831 - accuracy: 0.8240\n",
            "Epoch 93/100\n",
            "147/147 [==============================] - 25s 167ms/step - loss: 0.5775 - accuracy: 0.8276\n",
            "Epoch 94/100\n",
            "147/147 [==============================] - 25s 167ms/step - loss: 0.5887 - accuracy: 0.8221\n",
            "Epoch 95/100\n",
            "147/147 [==============================] - 25s 168ms/step - loss: 0.5780 - accuracy: 0.8255\n",
            "Epoch 96/100\n",
            "147/147 [==============================] - 25s 167ms/step - loss: 0.5680 - accuracy: 0.8272\n",
            "Epoch 97/100\n",
            "147/147 [==============================] - 24s 166ms/step - loss: 0.5746 - accuracy: 0.8283\n",
            "Epoch 98/100\n",
            "147/147 [==============================] - 24s 166ms/step - loss: 0.5599 - accuracy: 0.8332\n",
            "Epoch 99/100\n",
            "147/147 [==============================] - 24s 167ms/step - loss: 0.5594 - accuracy: 0.8336\n",
            "Epoch 100/100\n",
            "147/147 [==============================] - 24s 165ms/step - loss: 0.5663 - accuracy: 0.8246\n",
            "51/51 - 1s - loss: 2.4046 - accuracy: 0.4677\n",
            "Accuracy : 0.46765249967575073\n"
          ],
          "name": "stdout"
        }
      ]
    },
    {
      "cell_type": "code",
      "metadata": {
        "id": "IwkpJ7_KNuSI",
        "outputId": "ca1da29e-c18e-4556-a0ec-357cff7be120",
        "colab": {
          "base_uri": "https://localhost:8080/",
          "height": 295
        }
      },
      "source": [
        "import keras\n",
        "from matplotlib import pyplot as plt\n",
        "plt.plot(history.history['accuracy'])\n",
        "plt.title('model accuracy')\n",
        "plt.ylabel('accuracy')\n",
        "plt.xlabel('epoch')\n",
        "plt.legend(['train', 'val'], loc='upper left')\n",
        "plt.show()"
      ],
      "execution_count": 16,
      "outputs": [
        {
          "output_type": "display_data",
          "data": {
            "image/png": "[encoded data removed]",
            "text/plain": [
              "<Figure size 432x288 with 1 Axes>"
            ]
          },
          "metadata": {
            "tags": [],
            "needs_background": "light"
          }
        }
      ]
    }
  ]
}