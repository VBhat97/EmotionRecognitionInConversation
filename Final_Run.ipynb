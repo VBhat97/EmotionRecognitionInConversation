{
  "nbformat": 4,
  "nbformat_minor": 0,
  "metadata": {
    "colab": {
      "name": "Final_Run.ipynb",
      "provenance": [],
      "authorship_tag": "ABX9TyM0CBphebQ1eFLiPHXI4ttV",
      "include_colab_link": true
    },
    "kernelspec": {
      "name": "python3",
      "display_name": "Python 3"
    },
    "accelerator": "GPU"
  },
  "cells": [
    {
      "cell_type": "markdown",
      "metadata": {
        "id": "view-in-github",
        "colab_type": "text"
      },
      "source": [
        "<a href=\"https://colab.research.google.com/github/anitayadav3/EmotionRecognitionInConversation/blob/master/Final_Run.ipynb\" target=\"_parent\"><img src=\"https://colab.research.google.com/assets/colab-badge.svg\" alt=\"Open In Colab\"/></a>"
      ]
    },
    {
      "cell_type": "code",
      "metadata": {
        "id": "OzkU_hoKjgje"
      },
      "source": [
        "import pickle"
      ],
      "execution_count": 1,
      "outputs": []
    },
    {
      "cell_type": "code",
      "metadata": {
        "colab": {
          "base_uri": "https://localhost:8080/"
        },
        "id": "ZMR8lr1Eh2tB",
        "outputId": "39f71f13-b39e-420d-f8cd-a71c3a16cc3c"
      },
      "source": [
        "from google.colab import drive\r\n",
        "drive.mount('/content/gdrive')"
      ],
      "execution_count": 2,
      "outputs": [
        {
          "output_type": "stream",
          "text": [
            "Mounted at /content/gdrive\n"
          ],
          "name": "stdout"
        }
      ]
    },
    {
      "cell_type": "markdown",
      "metadata": {
        "id": "C7LHCpK4i-Wa"
      },
      "source": [
        "**Combining the pretrained ConceptNet Features **"
      ]
    },
    {
      "cell_type": "code",
      "metadata": {
        "id": "1EmFKu4li9ko"
      },
      "source": [
        "with open('/content/processed_data1.pkl', 'rb') as f:\r\n",
        "    processed_data1 = pickle.load(f)\r\n",
        "with open('/content/processed_data2.pkl', 'rb') as f:\r\n",
        "    processed_data2 = pickle.load(f)\r\n",
        "with open('/content/processed_data3.pkl', 'rb') as f:\r\n",
        "    processed_data3 = pickle.load(f)"
      ],
      "execution_count": 5,
      "outputs": []
    },
    {
      "cell_type": "code",
      "metadata": {
        "id": "nsN209idk2mm"
      },
      "source": [
        "processed_data = processed_data1 + processed_data2 + processed_data3"
      ],
      "execution_count": 6,
      "outputs": []
    },
    {
      "cell_type": "code",
      "metadata": {
        "id": "C773QvnumRRy"
      },
      "source": [
        "with open('/content/test_processed_data1.pkl', 'rb') as f:\r\n",
        "    test_processed_data1 = pickle.load(f)\r\n",
        "with open('/content/test_processed_data2.pkl', 'rb') as f:\r\n",
        "    test_processed_data2 = pickle.load(f)\r\n",
        "with open('/content/test_processed_data3.pkl', 'rb') as f:\r\n",
        "    test_processed_data3 = pickle.load(f)"
      ],
      "execution_count": 7,
      "outputs": []
    },
    {
      "cell_type": "code",
      "metadata": {
        "id": "3rzqOaI2mWIQ"
      },
      "source": [
        "test_processed_data = test_processed_data1 + test_processed_data2 + test_processed_data3"
      ],
      "execution_count": 8,
      "outputs": []
    },
    {
      "cell_type": "code",
      "metadata": {
        "id": "eg7nYJeBmxi3"
      },
      "source": [
        "with open('/content/gdrive/My Drive/iemocap/train/labels.pkl', 'rb') as f:\r\n",
        "    labels = pickle.load(f)\r\n",
        "with open('/content/gdrive/My Drive/iemocap/test/labels.pkl', 'rb') as f:\r\n",
        "    test_labels = pickle.load(f)"
      ],
      "execution_count": 9,
      "outputs": []
    },
    {
      "cell_type": "code",
      "metadata": {
        "id": "1ERou9MSm4ek"
      },
      "source": [
        "def preprocessing(labels):\r\n",
        "  processed_label=[]\r\n",
        "  for i in labels:\r\n",
        "    for j in i:\r\n",
        "      processed_label.append(j)\r\n",
        "  return processed_label"
      ],
      "execution_count": 10,
      "outputs": []
    },
    {
      "cell_type": "code",
      "metadata": {
        "id": "d9b14jWXoqW1"
      },
      "source": [
        "processed_label = preprocessing(labels)\r\n",
        "test_processed_label = preprocessing(test_labels)"
      ],
      "execution_count": 11,
      "outputs": []
    },
    {
      "cell_type": "markdown",
      "metadata": {
        "id": "5unwbM2mlWuZ"
      },
      "source": [
        "**BERT FE and Model Creation**"
      ]
    },
    {
      "cell_type": "code",
      "metadata": {
        "id": "khXuX3R4lsbQ"
      },
      "source": [
        "#Imports for Model\r\n",
        "import tensorflow_hub as hub\r\n",
        "import numpy as np\r\n",
        "from keras.utils.np_utils import to_categorical "
      ],
      "execution_count": 12,
      "outputs": []
    },
    {
      "cell_type": "code",
      "metadata": {
        "colab": {
          "base_uri": "https://localhost:8080/"
        },
        "id": "DTxhGlOClWBb",
        "outputId": "ee5747ff-18ae-49ec-d53c-4c7a585b5433"
      },
      "source": [
        "!wget --quiet https://raw.githubusercontent.com/tensorflow/models/master/official/nlp/bert/tokenization.py\r\n",
        "!pip install sentencepiece\r\n",
        "import tokenization"
      ],
      "execution_count": 13,
      "outputs": [
        {
          "output_type": "stream",
          "text": [
            "Collecting sentencepiece\n",
            "\u001b[?25l  Downloading https://files.pythonhosted.org/packages/14/67/e42bd1181472c95c8cda79305df848264f2a7f62740995a46945d9797b67/sentencepiece-0.1.95-cp36-cp36m-manylinux2014_x86_64.whl (1.2MB)\n",
            "\r\u001b[K     |▎                               | 10kB 23.7MB/s eta 0:00:01\r\u001b[K     |▌                               | 20kB 30.3MB/s eta 0:00:01\r\u001b[K     |▉                               | 30kB 23.8MB/s eta 0:00:01\r\u001b[K     |█                               | 40kB 27.6MB/s eta 0:00:01\r\u001b[K     |█▍                              | 51kB 28.1MB/s eta 0:00:01\r\u001b[K     |█▋                              | 61kB 30.4MB/s eta 0:00:01\r\u001b[K     |██                              | 71kB 20.3MB/s eta 0:00:01\r\u001b[K     |██▏                             | 81kB 21.5MB/s eta 0:00:01\r\u001b[K     |██▌                             | 92kB 20.2MB/s eta 0:00:01\r\u001b[K     |██▊                             | 102kB 19.8MB/s eta 0:00:01\r\u001b[K     |███                             | 112kB 19.8MB/s eta 0:00:01\r\u001b[K     |███▎                            | 122kB 19.8MB/s eta 0:00:01\r\u001b[K     |███▌                            | 133kB 19.8MB/s eta 0:00:01\r\u001b[K     |███▉                            | 143kB 19.8MB/s eta 0:00:01\r\u001b[K     |████                            | 153kB 19.8MB/s eta 0:00:01\r\u001b[K     |████▍                           | 163kB 19.8MB/s eta 0:00:01\r\u001b[K     |████▋                           | 174kB 19.8MB/s eta 0:00:01\r\u001b[K     |█████                           | 184kB 19.8MB/s eta 0:00:01\r\u001b[K     |█████▏                          | 194kB 19.8MB/s eta 0:00:01\r\u001b[K     |█████▌                          | 204kB 19.8MB/s eta 0:00:01\r\u001b[K     |█████▊                          | 215kB 19.8MB/s eta 0:00:01\r\u001b[K     |██████                          | 225kB 19.8MB/s eta 0:00:01\r\u001b[K     |██████▎                         | 235kB 19.8MB/s eta 0:00:01\r\u001b[K     |██████▌                         | 245kB 19.8MB/s eta 0:00:01\r\u001b[K     |██████▉                         | 256kB 19.8MB/s eta 0:00:01\r\u001b[K     |███████                         | 266kB 19.8MB/s eta 0:00:01\r\u001b[K     |███████▍                        | 276kB 19.8MB/s eta 0:00:01\r\u001b[K     |███████▋                        | 286kB 19.8MB/s eta 0:00:01\r\u001b[K     |████████                        | 296kB 19.8MB/s eta 0:00:01\r\u001b[K     |████████▏                       | 307kB 19.8MB/s eta 0:00:01\r\u001b[K     |████████▍                       | 317kB 19.8MB/s eta 0:00:01\r\u001b[K     |████████▊                       | 327kB 19.8MB/s eta 0:00:01\r\u001b[K     |█████████                       | 337kB 19.8MB/s eta 0:00:01\r\u001b[K     |█████████▎                      | 348kB 19.8MB/s eta 0:00:01\r\u001b[K     |█████████▌                      | 358kB 19.8MB/s eta 0:00:01\r\u001b[K     |█████████▉                      | 368kB 19.8MB/s eta 0:00:01\r\u001b[K     |██████████                      | 378kB 19.8MB/s eta 0:00:01\r\u001b[K     |██████████▍                     | 389kB 19.8MB/s eta 0:00:01\r\u001b[K     |██████████▋                     | 399kB 19.8MB/s eta 0:00:01\r\u001b[K     |███████████                     | 409kB 19.8MB/s eta 0:00:01\r\u001b[K     |███████████▏                    | 419kB 19.8MB/s eta 0:00:01\r\u001b[K     |███████████▍                    | 430kB 19.8MB/s eta 0:00:01\r\u001b[K     |███████████▊                    | 440kB 19.8MB/s eta 0:00:01\r\u001b[K     |████████████                    | 450kB 19.8MB/s eta 0:00:01\r\u001b[K     |████████████▎                   | 460kB 19.8MB/s eta 0:00:01\r\u001b[K     |████████████▌                   | 471kB 19.8MB/s eta 0:00:01\r\u001b[K     |████████████▉                   | 481kB 19.8MB/s eta 0:00:01\r\u001b[K     |█████████████                   | 491kB 19.8MB/s eta 0:00:01\r\u001b[K     |█████████████▍                  | 501kB 19.8MB/s eta 0:00:01\r\u001b[K     |█████████████▋                  | 512kB 19.8MB/s eta 0:00:01\r\u001b[K     |█████████████▉                  | 522kB 19.8MB/s eta 0:00:01\r\u001b[K     |██████████████▏                 | 532kB 19.8MB/s eta 0:00:01\r\u001b[K     |██████████████▍                 | 542kB 19.8MB/s eta 0:00:01\r\u001b[K     |██████████████▊                 | 552kB 19.8MB/s eta 0:00:01\r\u001b[K     |███████████████                 | 563kB 19.8MB/s eta 0:00:01\r\u001b[K     |███████████████▎                | 573kB 19.8MB/s eta 0:00:01\r\u001b[K     |███████████████▌                | 583kB 19.8MB/s eta 0:00:01\r\u001b[K     |███████████████▉                | 593kB 19.8MB/s eta 0:00:01\r\u001b[K     |████████████████                | 604kB 19.8MB/s eta 0:00:01\r\u001b[K     |████████████████▍               | 614kB 19.8MB/s eta 0:00:01\r\u001b[K     |████████████████▋               | 624kB 19.8MB/s eta 0:00:01\r\u001b[K     |████████████████▉               | 634kB 19.8MB/s eta 0:00:01\r\u001b[K     |█████████████████▏              | 645kB 19.8MB/s eta 0:00:01\r\u001b[K     |█████████████████▍              | 655kB 19.8MB/s eta 0:00:01\r\u001b[K     |█████████████████▊              | 665kB 19.8MB/s eta 0:00:01\r\u001b[K     |██████████████████              | 675kB 19.8MB/s eta 0:00:01\r\u001b[K     |██████████████████▎             | 686kB 19.8MB/s eta 0:00:01\r\u001b[K     |██████████████████▌             | 696kB 19.8MB/s eta 0:00:01\r\u001b[K     |██████████████████▉             | 706kB 19.8MB/s eta 0:00:01\r\u001b[K     |███████████████████             | 716kB 19.8MB/s eta 0:00:01\r\u001b[K     |███████████████████▎            | 727kB 19.8MB/s eta 0:00:01\r\u001b[K     |███████████████████▋            | 737kB 19.8MB/s eta 0:00:01\r\u001b[K     |███████████████████▉            | 747kB 19.8MB/s eta 0:00:01\r\u001b[K     |████████████████████▏           | 757kB 19.8MB/s eta 0:00:01\r\u001b[K     |████████████████████▍           | 768kB 19.8MB/s eta 0:00:01\r\u001b[K     |████████████████████▊           | 778kB 19.8MB/s eta 0:00:01\r\u001b[K     |█████████████████████           | 788kB 19.8MB/s eta 0:00:01\r\u001b[K     |█████████████████████▎          | 798kB 19.8MB/s eta 0:00:01\r\u001b[K     |█████████████████████▌          | 808kB 19.8MB/s eta 0:00:01\r\u001b[K     |█████████████████████▉          | 819kB 19.8MB/s eta 0:00:01\r\u001b[K     |██████████████████████          | 829kB 19.8MB/s eta 0:00:01\r\u001b[K     |██████████████████████▎         | 839kB 19.8MB/s eta 0:00:01\r\u001b[K     |██████████████████████▋         | 849kB 19.8MB/s eta 0:00:01\r\u001b[K     |██████████████████████▉         | 860kB 19.8MB/s eta 0:00:01\r\u001b[K     |███████████████████████▏        | 870kB 19.8MB/s eta 0:00:01\r\u001b[K     |███████████████████████▍        | 880kB 19.8MB/s eta 0:00:01\r\u001b[K     |███████████████████████▊        | 890kB 19.8MB/s eta 0:00:01\r\u001b[K     |████████████████████████        | 901kB 19.8MB/s eta 0:00:01\r\u001b[K     |████████████████████████▎       | 911kB 19.8MB/s eta 0:00:01\r\u001b[K     |████████████████████████▌       | 921kB 19.8MB/s eta 0:00:01\r\u001b[K     |████████████████████████▊       | 931kB 19.8MB/s eta 0:00:01\r\u001b[K     |█████████████████████████       | 942kB 19.8MB/s eta 0:00:01\r\u001b[K     |█████████████████████████▎      | 952kB 19.8MB/s eta 0:00:01\r\u001b[K     |█████████████████████████▋      | 962kB 19.8MB/s eta 0:00:01\r\u001b[K     |█████████████████████████▉      | 972kB 19.8MB/s eta 0:00:01\r\u001b[K     |██████████████████████████▏     | 983kB 19.8MB/s eta 0:00:01\r\u001b[K     |██████████████████████████▍     | 993kB 19.8MB/s eta 0:00:01\r\u001b[K     |██████████████████████████▊     | 1.0MB 19.8MB/s eta 0:00:01\r\u001b[K     |███████████████████████████     | 1.0MB 19.8MB/s eta 0:00:01\r\u001b[K     |███████████████████████████▎    | 1.0MB 19.8MB/s eta 0:00:01\r\u001b[K     |███████████████████████████▌    | 1.0MB 19.8MB/s eta 0:00:01\r\u001b[K     |███████████████████████████▊    | 1.0MB 19.8MB/s eta 0:00:01\r\u001b[K     |████████████████████████████    | 1.1MB 19.8MB/s eta 0:00:01\r\u001b[K     |████████████████████████████▎   | 1.1MB 19.8MB/s eta 0:00:01\r\u001b[K     |████████████████████████████▋   | 1.1MB 19.8MB/s eta 0:00:01\r\u001b[K     |████████████████████████████▉   | 1.1MB 19.8MB/s eta 0:00:01\r\u001b[K     |█████████████████████████████▏  | 1.1MB 19.8MB/s eta 0:00:01\r\u001b[K     |█████████████████████████████▍  | 1.1MB 19.8MB/s eta 0:00:01\r\u001b[K     |█████████████████████████████▊  | 1.1MB 19.8MB/s eta 0:00:01\r\u001b[K     |██████████████████████████████  | 1.1MB 19.8MB/s eta 0:00:01\r\u001b[K     |██████████████████████████████▏ | 1.1MB 19.8MB/s eta 0:00:01\r\u001b[K     |██████████████████████████████▌ | 1.1MB 19.8MB/s eta 0:00:01\r\u001b[K     |██████████████████████████████▊ | 1.2MB 19.8MB/s eta 0:00:01\r\u001b[K     |███████████████████████████████ | 1.2MB 19.8MB/s eta 0:00:01\r\u001b[K     |███████████████████████████████▎| 1.2MB 19.8MB/s eta 0:00:01\r\u001b[K     |███████████████████████████████▋| 1.2MB 19.8MB/s eta 0:00:01\r\u001b[K     |███████████████████████████████▉| 1.2MB 19.8MB/s eta 0:00:01\r\u001b[K     |████████████████████████████████| 1.2MB 19.8MB/s \n",
            "\u001b[?25hInstalling collected packages: sentencepiece\n",
            "Successfully installed sentencepiece-0.1.95\n"
          ],
          "name": "stdout"
        }
      ]
    },
    {
      "cell_type": "code",
      "metadata": {
        "id": "_zwvDGflliIM"
      },
      "source": [
        "def bert_encode(texts, tokenizer, max_len=512):\r\n",
        "    all_tokens = []\r\n",
        "    all_masks = []\r\n",
        "    all_segments = []\r\n",
        "    \r\n",
        "    for text in texts:\r\n",
        "        text = tokenizer.tokenize(text)\r\n",
        "            \r\n",
        "        text = text[:max_len-2]\r\n",
        "        input_sequence = [\"[CLS]\"] + text + [\"[SEP]\"]\r\n",
        "        pad_len = max_len - len(input_sequence)\r\n",
        "        \r\n",
        "        tokens = tokenizer.convert_tokens_to_ids(input_sequence)\r\n",
        "        tokens += [0] * pad_len\r\n",
        "        pad_masks = [1] * len(input_sequence) + [0] * pad_len\r\n",
        "        segment_ids = [0] * max_len\r\n",
        "        \r\n",
        "        all_tokens.append(tokens)\r\n",
        "        all_masks.append(pad_masks)\r\n",
        "        all_segments.append(segment_ids)\r\n",
        "    \r\n",
        "    return np.array(all_tokens), np.array(all_masks), np.array(all_segments)"
      ],
      "execution_count": 14,
      "outputs": []
    },
    {
      "cell_type": "code",
      "metadata": {
        "id": "tJLOyioxlkqX"
      },
      "source": [
        "def build_model(bert_layer, max_len=512):\r\n",
        "    input_word_ids = Input(shape=(max_len,), dtype=tf.int32, name=\"input_word_ids\")\r\n",
        "    input_mask = Input(shape=(max_len,), dtype=tf.int32, name=\"input_mask\")\r\n",
        "    segment_ids = Input(shape=(max_len,), dtype=tf.int32, name=\"segment_ids\")\r\n",
        "\r\n",
        "    pooled_output, sequence_output = bert_layer([input_word_ids, input_mask, segment_ids])\r\n",
        "    clf_output = pooled_output\r\n",
        "    clf_output1=tf.reshape(clf_output,[1,1,1024])\r\n",
        "    gru_output1 = GRU(100, input_shape=(1024,), return_sequences=True)(clf_output1)\r\n",
        "    dp_output1 = Dropout(0.2)(gru_output1)\r\n",
        "    gru_output2 = GRU(100, return_sequences=True)(dp_output1)\r\n",
        "    dp_output2 = Dropout(0.2)(gru_output2)\r\n",
        "    gru_output3 = GRU(100)(dp_output2)\r\n",
        "    dp_output3 = Dropout(0.2)(gru_output3)\r\n",
        "    out = Dense(6, activation='softmax')(dp_output3)\r\n",
        "    \r\n",
        "    model = Model(inputs=[input_word_ids, input_mask, segment_ids], outputs=out)\r\n",
        "    model.compile(Adam(lr=2e-6), loss='binary_crossentropy', metrics=['accuracy'])\r\n",
        "    \r\n",
        "    return model"
      ],
      "execution_count": 15,
      "outputs": []
    },
    {
      "cell_type": "code",
      "metadata": {
        "colab": {
          "base_uri": "https://localhost:8080/"
        },
        "id": "7noLHpzlllYX",
        "outputId": "851cf5a3-03ad-487c-c1e5-2e207a5379e7"
      },
      "source": [
        "%%time\r\n",
        "module_url = \"https://tfhub.dev/tensorflow/bert_en_uncased_L-24_H-1024_A-16/1\"\r\n",
        "bert_layer = hub.KerasLayer(module_url, trainable=True)"
      ],
      "execution_count": 16,
      "outputs": [
        {
          "output_type": "stream",
          "text": [
            "CPU times: user 20.9 s, sys: 4.33 s, total: 25.2 s\n",
            "Wall time: 30.5 s\n"
          ],
          "name": "stdout"
        }
      ]
    },
    {
      "cell_type": "markdown",
      "metadata": {
        "id": "hQKrJqlImCt0"
      },
      "source": [
        "**Processing the text for passing to BERT pretrained model**"
      ]
    },
    {
      "cell_type": "code",
      "metadata": {
        "id": "szFBRveel5Dq"
      },
      "source": [
        "processed_data=np.asarray(processed_data)\r\n",
        "test_processed_data=np.asarray(test_processed_data)\r\n",
        "Y=to_categorical(processed_label, num_classes=6)\r\n",
        "test_Y=to_categorical(test_processed_label, num_classes=6)"
      ],
      "execution_count": 17,
      "outputs": []
    },
    {
      "cell_type": "code",
      "metadata": {
        "id": "ePN2TO5TmKMj"
      },
      "source": [
        "vocab_file = bert_layer.resolved_object.vocab_file.asset_path.numpy()\r\n",
        "do_lower_case = bert_layer.resolved_object.do_lower_case.numpy()\r\n",
        "tokenizer = tokenization.FullTokenizer(vocab_file, do_lower_case)"
      ],
      "execution_count": 18,
      "outputs": []
    },
    {
      "cell_type": "code",
      "metadata": {
        "id": "w_1xxFDBqE07"
      },
      "source": [
        "train_input = bert_encode(processed_data, tokenizer, max_len=458)\r\n",
        "test_input = bert_encode(test_processed_data, tokenizer, max_len=458)\r\n",
        "train_labels = Y\r\n",
        "test_labels = test_Y"
      ],
      "execution_count": 19,
      "outputs": []
    },
    {
      "cell_type": "markdown",
      "metadata": {
        "id": "jfPpm8fpqJwf"
      },
      "source": [
        "**Creating the Model**"
      ]
    },
    {
      "cell_type": "code",
      "metadata": {
        "id": "rQBFxButrfFg"
      },
      "source": [
        "#Import for model\r\n",
        "import tensorflow as tf\r\n",
        "from tensorflow.keras.layers import Dense, Input, GRU, Dropout\r\n",
        "from tensorflow.keras.models import Model\r\n",
        "from tensorflow.keras.optimizers import Adam\r\n",
        "from sklearn.metrics import f1_score\r\n",
        "from sklearn.metrics import accuracy_score"
      ],
      "execution_count": 25,
      "outputs": []
    },
    {
      "cell_type": "code",
      "metadata": {
        "colab": {
          "base_uri": "https://localhost:8080/"
        },
        "id": "h0jqXN9ZqIpX",
        "outputId": "6a49af94-ff05-4ab6-864b-e9aff4eb1397"
      },
      "source": [
        "model = build_model(bert_layer, max_len=458)\r\n",
        "model.summary()"
      ],
      "execution_count": 21,
      "outputs": [
        {
          "output_type": "stream",
          "text": [
            "Model: \"model\"\n",
            "__________________________________________________________________________________________________\n",
            "Layer (type)                    Output Shape         Param #     Connected to                     \n",
            "==================================================================================================\n",
            "input_word_ids (InputLayer)     [(None, 458)]        0                                            \n",
            "__________________________________________________________________________________________________\n",
            "input_mask (InputLayer)         [(None, 458)]        0                                            \n",
            "__________________________________________________________________________________________________\n",
            "segment_ids (InputLayer)        [(None, 458)]        0                                            \n",
            "__________________________________________________________________________________________________\n",
            "keras_layer (KerasLayer)        [(None, 1024), (None 335141889   input_word_ids[0][0]             \n",
            "                                                                 input_mask[0][0]                 \n",
            "                                                                 segment_ids[0][0]                \n",
            "__________________________________________________________________________________________________\n",
            "tf.reshape (TFOpLambda)         (1, 1, 1024)         0           keras_layer[0][0]                \n",
            "__________________________________________________________________________________________________\n",
            "gru (GRU)                       (1, 1, 100)          337800      tf.reshape[0][0]                 \n",
            "__________________________________________________________________________________________________\n",
            "dropout (Dropout)               (1, 1, 100)          0           gru[0][0]                        \n",
            "__________________________________________________________________________________________________\n",
            "gru_1 (GRU)                     (1, 1, 100)          60600       dropout[0][0]                    \n",
            "__________________________________________________________________________________________________\n",
            "dropout_1 (Dropout)             (1, 1, 100)          0           gru_1[0][0]                      \n",
            "__________________________________________________________________________________________________\n",
            "gru_2 (GRU)                     (1, 100)             60600       dropout_1[0][0]                  \n",
            "__________________________________________________________________________________________________\n",
            "dropout_2 (Dropout)             (1, 100)             0           gru_2[0][0]                      \n",
            "__________________________________________________________________________________________________\n",
            "dense (Dense)                   (1, 6)               606         dropout_2[0][0]                  \n",
            "==================================================================================================\n",
            "Total params: 335,601,495\n",
            "Trainable params: 335,601,494\n",
            "Non-trainable params: 1\n",
            "__________________________________________________________________________________________________\n"
          ],
          "name": "stdout"
        }
      ]
    },
    {
      "cell_type": "code",
      "metadata": {
        "colab": {
          "base_uri": "https://localhost:8080/"
        },
        "id": "2s3vB7sGry2H",
        "outputId": "af7dfa0f-04a5-4ebd-fdd8-628d5508e768"
      },
      "source": [
        "train_history = model.fit(\r\n",
        "    train_input, train_labels,\r\n",
        "    epochs=6,\r\n",
        "    batch_size=1\r\n",
        ")"
      ],
      "execution_count": 22,
      "outputs": [
        {
          "output_type": "stream",
          "text": [
            "Epoch 1/6\n",
            "4699/4699 [==============================] - 1933s 404ms/step - loss: 0.6104 - accuracy: 0.1711\n",
            "Epoch 2/6\n",
            "4699/4699 [==============================] - 1901s 405ms/step - loss: 0.4876 - accuracy: 0.1977\n",
            "Epoch 3/6\n",
            "4699/4699 [==============================] - 1900s 404ms/step - loss: 0.4471 - accuracy: 0.3056\n",
            "Epoch 4/6\n",
            "4699/4699 [==============================] - 1900s 404ms/step - loss: 0.4165 - accuracy: 0.4961\n",
            "Epoch 5/6\n",
            "4699/4699 [==============================] - 1902s 405ms/step - loss: 0.3805 - accuracy: 0.6940\n",
            "Epoch 6/6\n",
            "4699/4699 [==============================] - 1903s 405ms/step - loss: 0.3462 - accuracy: 0.7819\n"
          ],
          "name": "stdout"
        }
      ]
    },
    {
      "cell_type": "code",
      "metadata": {
        "id": "RMa2ofFwr5gq"
      },
      "source": [
        "y_pred=model.predict(test_input, batch_size=1)"
      ],
      "execution_count": 27,
      "outputs": []
    },
    {
      "cell_type": "code",
      "metadata": {
        "id": "pk9i8nw2r7M1",
        "colab": {
          "base_uri": "https://localhost:8080/"
        },
        "outputId": "f9921a80-562e-435f-f194-80a2ca664add"
      },
      "source": [
        "y_pred1=np.argmax(y_pred,axis=1)\r\n",
        "test_processed_label=np.asarray(test_processed_label)\r\n",
        "print(\"Accuracy : \" + str(accuracy_score(test_processed_label, y_pred1)))\r\n",
        "print(\"Weighted F1-score : \" + str(f1_score(test_processed_label, y_pred1, average='weighted')))"
      ],
      "execution_count": 28,
      "outputs": [
        {
          "output_type": "stream",
          "text": [
            "Accuracy : 0.4824399260628466\n",
            "Weighted F1-score : 0.4567251926053884\n"
          ],
          "name": "stdout"
        }
      ]
    }
  ]
}