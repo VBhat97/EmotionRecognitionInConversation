{
  "nbformat": 4,
  "nbformat_minor": 0,
  "metadata": {
    "colab": {
      "name": "Idea_Generator_ BERT.ipynb",
      "provenance": [],
      "authorship_tag": "ABX9TyOvlfw2de04Sh3/ho4L3PkR",
      "include_colab_link": true
    },
    "kernelspec": {
      "name": "python3",
      "display_name": "Python 3"
    },
    "accelerator": "TPU"
  },
  "cells": [
    {
      "cell_type": "markdown",
      "metadata": {
        "id": "view-in-github",
        "colab_type": "text"
      },
      "source": [
        "<a href=\"https://colab.research.google.com/github/anitayadav3/EmotionRecognitionInConversation/blob/master/Idea_Generator__BERT.ipynb\" target=\"_parent\"><img src=\"https://colab.research.google.com/assets/colab-badge.svg\" alt=\"Open In Colab\"/></a>"
      ]
    },
    {
      "cell_type": "code",
      "metadata": {
        "id": "h7q80HhvaYTM",
        "outputId": "24517b5d-e70b-4ce2-8002-a319dd5f8902",
        "colab": {
          "base_uri": "https://localhost:8080/"
        }
      },
      "source": [
        "%tensorflow_version 1.x"
      ],
      "execution_count": 1,
      "outputs": [
        {
          "output_type": "stream",
          "text": [
            "TensorFlow 1.x selected.\n"
          ],
          "name": "stdout"
        }
      ]
    },
    {
      "cell_type": "code",
      "metadata": {
        "id": "bDwHS1OiagJN",
        "outputId": "b6c08d93-c88f-439b-e826-ccfa2dfddcb4",
        "colab": {
          "base_uri": "https://localhost:8080/"
        }
      },
      "source": [
        "!rm -rf bert\n",
        "!git clone https://github.com/google-research/bert\n",
        "\n",
        "import sys\n",
        "\n",
        "sys.path.append('bert/')\n",
        "\n",
        "from __future__ import absolute_import\n",
        "from __future__ import division\n",
        "from __future__ import print_function\n",
        "\n",
        "import codecs\n",
        "import collections\n",
        "import json\n",
        "import re\n",
        "import os\n",
        "import pprint\n",
        "import numpy as np\n",
        "import tensorflow as tf\n",
        "\n",
        "import modeling\n",
        "import tokenization"
      ],
      "execution_count": 2,
      "outputs": [
        {
          "output_type": "stream",
          "text": [
            "Cloning into 'bert'...\n",
            "remote: Enumerating objects: 340, done.\u001b[K\n",
            "remote: Total 340 (delta 0), reused 0 (delta 0), pack-reused 340\u001b[K\n",
            "Receiving objects: 100% (340/340), 317.85 KiB | 4.07 MiB/s, done.\n",
            "Resolving deltas: 100% (185/185), done.\n"
          ],
          "name": "stdout"
        }
      ]
    },
    {
      "cell_type": "code",
      "metadata": {
        "id": "OKBVcr8hajim",
        "outputId": "bbf1375d-a57e-4092-f210-0fd84951b888",
        "colab": {
          "base_uri": "https://localhost:8080/"
        }
      },
      "source": [
        "assert 'COLAB_TPU_ADDR' in os.environ, 'ERROR: Not connected to a TPU runtime; please see the first cell in this notebook for instructions!'\n",
        "TPU_ADDRESS = 'grpc://' + os.environ['COLAB_TPU_ADDR']\n",
        "print('TPU address is', TPU_ADDRESS)\n",
        "\n",
        "from google.colab import auth\n",
        "auth.authenticate_user()\n",
        "with tf.compat.v1.Session(TPU_ADDRESS) as session:\n",
        "  print('TPU devices:')\n",
        "  pprint.pprint(session.list_devices())\n",
        "\n",
        "  # Upload credentials to TPU.\n",
        "  with open('/content/adc.json', 'r') as f:\n",
        "    auth_info = json.load(f)\n",
        "  tf.contrib.cloud.configure_gcs(session, credentials=auth_info)\n",
        "  # Now credentials are set for all future sessions on this TPU."
      ],
      "execution_count": 3,
      "outputs": [
        {
          "output_type": "stream",
          "text": [
            "TPU address is grpc://10.118.152.26:8470\n",
            "WARNING:tensorflow:\n",
            "The TensorFlow contrib module will not be included in TensorFlow 2.0.\n",
            "For more information, please see:\n",
            "  * https://github.com/tensorflow/community/blob/master/rfcs/20180907-contrib-sunset.md\n",
            "  * https://github.com/tensorflow/addons\n",
            "  * https://github.com/tensorflow/io (for I/O related ops)\n",
            "If you depend on functionality not listed there, please file an issue.\n",
            "\n",
            "TPU devices:\n",
            "[_DeviceAttributes(/job:tpu_worker/replica:0/task:0/device:CPU:0, CPU, -1, 15336593729352476029),\n",
            " _DeviceAttributes(/job:tpu_worker/replica:0/task:0/device:XLA_CPU:0, XLA_CPU, 17179869184, 11735638196313412239),\n",
            " _DeviceAttributes(/job:tpu_worker/replica:0/task:0/device:TPU:0, TPU, 17179869184, 16233914059192536982),\n",
            " _DeviceAttributes(/job:tpu_worker/replica:0/task:0/device:TPU:1, TPU, 17179869184, 9351657607675287645),\n",
            " _DeviceAttributes(/job:tpu_worker/replica:0/task:0/device:TPU:2, TPU, 17179869184, 6377039075646162038),\n",
            " _DeviceAttributes(/job:tpu_worker/replica:0/task:0/device:TPU:3, TPU, 17179869184, 3086748791788632311),\n",
            " _DeviceAttributes(/job:tpu_worker/replica:0/task:0/device:TPU:4, TPU, 17179869184, 2522043817190841627),\n",
            " _DeviceAttributes(/job:tpu_worker/replica:0/task:0/device:TPU:5, TPU, 17179869184, 18085519324529730453),\n",
            " _DeviceAttributes(/job:tpu_worker/replica:0/task:0/device:TPU:6, TPU, 17179869184, 6188935814041564067),\n",
            " _DeviceAttributes(/job:tpu_worker/replica:0/task:0/device:TPU:7, TPU, 17179869184, 8839091551034114014),\n",
            " _DeviceAttributes(/job:tpu_worker/replica:0/task:0/device:TPU_SYSTEM:0, TPU_SYSTEM, 8589934592, 10066613912743332424)]\n"
          ],
          "name": "stdout"
        }
      ]
    },
    {
      "cell_type": "code",
      "metadata": {
        "id": "PT9OSxYWavQJ",
        "outputId": "993ff4b3-9df9-4fa1-c600-1d6fd1225726",
        "colab": {
          "base_uri": "https://localhost:8080/"
        }
      },
      "source": [
        "# Available pretrained model checkpoints:\n",
        "#   uncased_L-12_H-768_A-12: uncased BERT base model\n",
        "#   uncased_L-24_H-1024_A-16: uncased BERT large model\n",
        "#   cased_L-12_H-768_A-12: cased BERT large model\n",
        "BERT_MODEL = 'uncased_L-12_H-768_A-12' #@param {type:\"string\"}\n",
        "BERT_PRETRAINED_DIR = 'gs://cloud-tpu-checkpoints/bert/' + BERT_MODEL\n",
        "print('***** BERT pretrained directory: {} *****'.format(BERT_PRETRAINED_DIR))\n",
        "!gsutil ls $BERT_PRETRAINED_DIR"
      ],
      "execution_count": 4,
      "outputs": [
        {
          "output_type": "stream",
          "text": [
            "***** BERT pretrained directory: gs://cloud-tpu-checkpoints/bert/uncased_L-12_H-768_A-12 *****\n",
            "gs://cloud-tpu-checkpoints/bert/uncased_L-12_H-768_A-12/bert_config.json\n",
            "gs://cloud-tpu-checkpoints/bert/uncased_L-12_H-768_A-12/bert_model.ckpt.data-00000-of-00001\n",
            "gs://cloud-tpu-checkpoints/bert/uncased_L-12_H-768_A-12/bert_model.ckpt.index\n",
            "gs://cloud-tpu-checkpoints/bert/uncased_L-12_H-768_A-12/bert_model.ckpt.meta\n",
            "gs://cloud-tpu-checkpoints/bert/uncased_L-12_H-768_A-12/checkpoint\n",
            "gs://cloud-tpu-checkpoints/bert/uncased_L-12_H-768_A-12/vocab.txt\n"
          ],
          "name": "stdout"
        }
      ]
    },
    {
      "cell_type": "code",
      "metadata": {
        "id": "6bV7ISJVaya9"
      },
      "source": [
        "LAYERS = [-1,-2,-3,-4]\n",
        "NUM_TPU_CORES = 8\n",
        "MAX_SEQ_LENGTH = 87\n",
        "BERT_CONFIG = BERT_PRETRAINED_DIR + '/bert_config.json'\n",
        "CHKPT_DIR = BERT_PRETRAINED_DIR + '/bert_model.ckpt'\n",
        "VOCAB_FILE = BERT_PRETRAINED_DIR + '/vocab.txt'\n",
        "INIT_CHECKPOINT = BERT_PRETRAINED_DIR + '/bert_model.ckpt'\n",
        "BATCH_SIZE = 128"
      ],
      "execution_count": 5,
      "outputs": []
    },
    {
      "cell_type": "code",
      "metadata": {
        "id": "Ttet-Xxba02k"
      },
      "source": [
        "class InputExample(object):\n",
        "\n",
        "  def __init__(self, unique_id, text_a, text_b=None):\n",
        "    self.unique_id = unique_id\n",
        "    self.text_a = text_a\n",
        "    self.text_b = text_b\n"
      ],
      "execution_count": 6,
      "outputs": []
    },
    {
      "cell_type": "code",
      "metadata": {
        "id": "WHSYz_u5a34p"
      },
      "source": [
        "class InputFeatures(object):\n",
        "  \"\"\"A single set of features of data.\"\"\"\n",
        "\n",
        "  def __init__(self, unique_id, tokens, input_ids, input_mask, input_type_ids):\n",
        "    self.unique_id = unique_id\n",
        "    self.tokens = tokens\n",
        "    self.input_ids = input_ids\n",
        "    self.input_mask = input_mask\n",
        "    self.input_type_ids = input_type_ids"
      ],
      "execution_count": 7,
      "outputs": []
    },
    {
      "cell_type": "code",
      "metadata": {
        "id": "WAKb5t4ta9BQ"
      },
      "source": [
        "def input_fn_builder(features, seq_length):\n",
        "  \"\"\"Creates an `input_fn` closure to be passed to TPUEstimator.\"\"\"\n",
        "\n",
        "  all_unique_ids = []\n",
        "  all_input_ids = []\n",
        "  all_input_mask = []\n",
        "  all_input_type_ids = []\n",
        "\n",
        "  for feature in features:\n",
        "    all_unique_ids.append(feature.unique_id)\n",
        "    all_input_ids.append(feature.input_ids)\n",
        "    all_input_mask.append(feature.input_mask)\n",
        "    all_input_type_ids.append(feature.input_type_ids)\n",
        "\n",
        "  def input_fn(params):\n",
        "    \"\"\"The actual input function.\"\"\"\n",
        "    batch_size = params[\"batch_size\"]\n",
        "\n",
        "    num_examples = len(features)\n",
        "\n",
        "    # This is for demo purposes and does NOT scale to large data sets. We do\n",
        "    # not use Dataset.from_generator() because that uses tf.py_func which is\n",
        "    # not TPU compatible. The right way to load data is with TFRecordReader.\n",
        "    d = tf.data.Dataset.from_tensor_slices({\n",
        "        \"unique_ids\":\n",
        "            tf.constant(all_unique_ids, shape=[num_examples], dtype=tf.int32),\n",
        "        \"input_ids\":\n",
        "            tf.constant(\n",
        "                all_input_ids, shape=[num_examples, seq_length],\n",
        "                dtype=tf.int32),\n",
        "        \"input_mask\":\n",
        "            tf.constant(\n",
        "                all_input_mask,\n",
        "                shape=[num_examples, seq_length],\n",
        "                dtype=tf.int32),\n",
        "        \"input_type_ids\":\n",
        "            tf.constant(\n",
        "                all_input_type_ids,\n",
        "                shape=[num_examples, seq_length],\n",
        "                dtype=tf.int32),\n",
        "    })\n",
        "\n",
        "    d = d.batch(batch_size=batch_size, drop_remainder=False)\n",
        "    return d\n",
        "\n",
        "  return input_fn"
      ],
      "execution_count": 8,
      "outputs": []
    },
    {
      "cell_type": "code",
      "metadata": {
        "id": "VA3N7qwqa-WN"
      },
      "source": [
        "def model_fn_builder(bert_config, init_checkpoint, layer_indexes, use_tpu,\n",
        "                     use_one_hot_embeddings):\n",
        "  \"\"\"Returns `model_fn` closure for TPUEstimator.\"\"\"\n",
        "\n",
        "  def model_fn(features, labels, mode, params):  # pylint: disable=unused-argument\n",
        "    \"\"\"The `model_fn` for TPUEstimator.\"\"\"\n",
        "\n",
        "    unique_ids = features[\"unique_ids\"]\n",
        "    input_ids = features[\"input_ids\"]\n",
        "    input_mask = features[\"input_mask\"]\n",
        "    input_type_ids = features[\"input_type_ids\"]\n",
        "\n",
        "    model = modeling.BertModel(\n",
        "        config=bert_config,\n",
        "        is_training=False,\n",
        "        input_ids=input_ids,\n",
        "        input_mask=input_mask,\n",
        "        token_type_ids=input_type_ids,\n",
        "        use_one_hot_embeddings=use_one_hot_embeddings)\n",
        "\n",
        "    if mode != tf.estimator.ModeKeys.PREDICT:\n",
        "      raise ValueError(\"Only PREDICT modes are supported: %s\" % (mode))\n",
        "\n",
        "    tvars = tf.trainable_variables()\n",
        "    scaffold_fn = None\n",
        "    (assignment_map,\n",
        "     initialized_variable_names) = modeling.get_assignment_map_from_checkpoint(\n",
        "         tvars, init_checkpoint)\n",
        "    if use_tpu:\n",
        "\n",
        "      def tpu_scaffold():\n",
        "        tf.train.init_from_checkpoint(init_checkpoint, assignment_map)\n",
        "        return tf.train.Scaffold()\n",
        "\n",
        "      scaffold_fn = tpu_scaffold\n",
        "    else:\n",
        "      tf.train.init_from_checkpoint(init_checkpoint, assignment_map)\n",
        "\n",
        "    tf.logging.info(\"**** Trainable Variables ****\")\n",
        "    for var in tvars:\n",
        "      init_string = \"\"\n",
        "      if var.name in initialized_variable_names:\n",
        "        init_string = \", *INIT_FROM_CKPT*\"\n",
        "      tf.logging.info(\"  name = %s, shape = %s%s\", var.name, var.shape,\n",
        "                      init_string)\n",
        "\n",
        "    all_layers = model.get_all_encoder_layers()\n",
        "\n",
        "    predictions = {\n",
        "        \"unique_id\": unique_ids,\n",
        "    }\n",
        "\n",
        "    for (i, layer_index) in enumerate(layer_indexes):\n",
        "      predictions[\"layer_output_%d\" % i] = all_layers[layer_index]\n",
        "\n",
        "    output_spec = tf.contrib.tpu.TPUEstimatorSpec(\n",
        "        mode=mode, predictions=predictions, scaffold_fn=scaffold_fn)\n",
        "    return output_spec\n",
        "\n",
        "  return model_fn"
      ],
      "execution_count": 9,
      "outputs": []
    },
    {
      "cell_type": "code",
      "metadata": {
        "id": "m7uS21ZTJYTT"
      },
      "source": [
        "def convert_examples_to_features(examples, seq_length, tokenizer):\n",
        "  \"\"\"Loads a data file into a list of `InputBatch`s.\"\"\"\n",
        "\n",
        "  features = []\n",
        "  for (ex_index, example) in enumerate(examples):\n",
        "    tokens_a = tokenizer.tokenize(example.text_a)\n",
        "\n",
        "    tokens_b = None\n",
        "    if example.text_b:\n",
        "      tokens_b = tokenizer.tokenize(example.text_b)\n",
        "\n",
        "    if tokens_b:\n",
        "      # Modifies `tokens_a` and `tokens_b` in place so that the total\n",
        "      # length is less than the specified length.\n",
        "      # Account for [CLS], [SEP], [SEP] with \"- 3\"\n",
        "      _truncate_seq_pair(tokens_a, tokens_b, seq_length - 3)\n",
        "    else:\n",
        "      # Account for [CLS] and [SEP] with \"- 2\"\n",
        "      if len(tokens_a) > seq_length - 2:\n",
        "        tokens_a = tokens_a[0:(seq_length - 2)]\n",
        "\n",
        "    # The convention in BERT is:\n",
        "    # (a) For sequence pairs:\n",
        "    #  tokens:   [CLS] is this jack ##son ##ville ? [SEP] no it is not . [SEP]\n",
        "    #  type_ids: 0     0  0    0    0     0       0 0     1  1  1  1   1 1\n",
        "    # (b) For single sequences:\n",
        "    #  tokens:   [CLS] the dog is hairy . [SEP]\n",
        "    #  type_ids: 0     0   0   0  0     0 0\n",
        "    #\n",
        "    # Where \"type_ids\" are used to indicate whether this is the first\n",
        "    # sequence or the second sequence. The embedding vectors for `type=0` and\n",
        "    # `type=1` were learned during pre-training and are added to the wordpiece\n",
        "    # embedding vector (and position vector). This is not *strictly* necessary\n",
        "    # since the [SEP] token unambiguously separates the sequences, but it makes\n",
        "    # it easier for the model to learn the concept of sequences.\n",
        "    #\n",
        "    # For classification tasks, the first vector (corresponding to [CLS]) is\n",
        "    # used as as the \"sentence vector\". Note that this only makes sense because\n",
        "    # the entire model is fine-tuned.\n",
        "    tokens = []\n",
        "    input_type_ids = []\n",
        "    tokens.append(\"[CLS]\")\n",
        "    input_type_ids.append(0)\n",
        "    for token in tokens_a:\n",
        "      tokens.append(token)\n",
        "      input_type_ids.append(0)\n",
        "    tokens.append(\"[SEP]\")\n",
        "    input_type_ids.append(0)\n",
        "\n",
        "    if tokens_b:\n",
        "      for token in tokens_b:\n",
        "        tokens.append(token)\n",
        "        input_type_ids.append(1)\n",
        "      tokens.append(\"[SEP]\")\n",
        "      input_type_ids.append(1)\n",
        "\n",
        "    input_ids = tokenizer.convert_tokens_to_ids(tokens)\n",
        "\n",
        "    # The mask has 1 for real tokens and 0 for padding tokens. Only real\n",
        "    # tokens are attended to.\n",
        "    input_mask = [1] * len(input_ids)\n",
        "\n",
        "    # Zero-pad up to the sequence length.\n",
        "    while len(input_ids) < seq_length:\n",
        "      input_ids.append(0)\n",
        "      input_mask.append(0)\n",
        "      input_type_ids.append(0)\n",
        "\n",
        "    assert len(input_ids) == seq_length\n",
        "    assert len(input_mask) == seq_length\n",
        "    assert len(input_type_ids) == seq_length\n",
        "\n",
        "    if ex_index < 5:\n",
        "      tf.logging.info(\"*** Example ***\")\n",
        "      tf.logging.info(\"unique_id: %s\" % (example.unique_id))\n",
        "      tf.logging.info(\"tokens: %s\" % \" \".join(\n",
        "          [tokenization.printable_text(x) for x in tokens]))\n",
        "      tf.logging.info(\"input_ids: %s\" % \" \".join([str(x) for x in input_ids]))\n",
        "      tf.logging.info(\"input_mask: %s\" % \" \".join([str(x) for x in input_mask]))\n",
        "      tf.logging.info(\n",
        "          \"input_type_ids: %s\" % \" \".join([str(x) for x in input_type_ids]))\n",
        "\n",
        "    features.append(\n",
        "        InputFeatures(\n",
        "            unique_id=example.unique_id,\n",
        "            tokens=tokens,\n",
        "            input_ids=input_ids,\n",
        "            input_mask=input_mask,\n",
        "            input_type_ids=input_type_ids))\n",
        "  return features"
      ],
      "execution_count": 10,
      "outputs": []
    },
    {
      "cell_type": "code",
      "metadata": {
        "id": "8kv4oBpaJfKl"
      },
      "source": [
        "def _truncate_seq_pair(tokens_a, tokens_b, max_length):\n",
        "  \"\"\"Truncates a sequence pair in place to the maximum length.\"\"\"\n",
        "\n",
        "  # This is a simple heuristic which will always truncate the longer sequence\n",
        "  # one token at a time. This makes more sense than truncating an equal percent\n",
        "  # of tokens from each, since if one sequence is very short then each token\n",
        "  # that's truncated likely contains more information than a longer sequence.\n",
        "  while True:\n",
        "    total_length = len(tokens_a) + len(tokens_b)\n",
        "    if total_length <= max_length:\n",
        "      break\n",
        "    if len(tokens_a) > len(tokens_b):\n",
        "      tokens_a.pop()\n",
        "    else:\n",
        "      tokens_b.pop()"
      ],
      "execution_count": 11,
      "outputs": []
    },
    {
      "cell_type": "code",
      "metadata": {
        "id": "3ybhvF0hJhTO"
      },
      "source": [
        "def read_sequence(input_sentences):\n",
        "  examples = []\n",
        "  unique_id = 0\n",
        "  for sentence in input_sentences:\n",
        "    line = tokenization.convert_to_unicode(sentence)\n",
        "    examples.append(InputExample(unique_id=unique_id, text_a=line))\n",
        "    unique_id += 1\n",
        "  return examples\n",
        "  "
      ],
      "execution_count": 12,
      "outputs": []
    },
    {
      "cell_type": "code",
      "metadata": {
        "id": "4kzMl3rQJjgV"
      },
      "source": [
        "def get_features(input_text, dim=768):\n",
        "#   tf.logging.set_verbosity(tf.logging.INFO)\n",
        "\n",
        "  layer_indexes = LAYERS\n",
        "\n",
        "  bert_config = modeling.BertConfig.from_json_file(BERT_CONFIG)\n",
        "\n",
        "  tokenizer = tokenization.FullTokenizer(\n",
        "      vocab_file=VOCAB_FILE, do_lower_case=True)\n",
        "\n",
        "  is_per_host = tf.contrib.tpu.InputPipelineConfig.PER_HOST_V2\n",
        "  tpu_cluster_resolver = tf.contrib.cluster_resolver.TPUClusterResolver(TPU_ADDRESS)\n",
        "  run_config = tf.contrib.tpu.RunConfig(\n",
        "      cluster=tpu_cluster_resolver,\n",
        "      tpu_config=tf.contrib.tpu.TPUConfig(\n",
        "          num_shards=NUM_TPU_CORES,\n",
        "          per_host_input_for_training=is_per_host))\n",
        "\n",
        "  examples = read_sequence(input_text)\n",
        "\n",
        "  features = convert_examples_to_features(\n",
        "      examples=examples, seq_length=MAX_SEQ_LENGTH, tokenizer=tokenizer)\n",
        "\n",
        "  unique_id_to_feature = {}\n",
        "  for feature in features:\n",
        "    unique_id_to_feature[feature.unique_id] = feature\n",
        "\n",
        "  model_fn = model_fn_builder(\n",
        "      bert_config=bert_config,\n",
        "      init_checkpoint=INIT_CHECKPOINT,\n",
        "      layer_indexes=layer_indexes,\n",
        "      use_tpu=True,\n",
        "      use_one_hot_embeddings=True)\n",
        "\n",
        "  # If TPU is not available, this will fall back to normal Estimator on CPU\n",
        "  # or GPU.\n",
        "  estimator = tf.contrib.tpu.TPUEstimator(\n",
        "      use_tpu=True,\n",
        "      model_fn=model_fn,\n",
        "      config=run_config,\n",
        "      predict_batch_size=BATCH_SIZE,\n",
        "      train_batch_size=BATCH_SIZE)\n",
        "\n",
        "  input_fn = input_fn_builder(\n",
        "      features=features, seq_length=MAX_SEQ_LENGTH)\n",
        "\n",
        "  # Get features\n",
        "  for result in estimator.predict(input_fn, yield_single_examples=True):\n",
        "    unique_id = int(result[\"unique_id\"])\n",
        "    feature = unique_id_to_feature[unique_id]\n",
        "    output = collections.OrderedDict()\n",
        "    for (i, token) in enumerate(feature.tokens):\n",
        "      layers = []\n",
        "      for (j, layer_index) in enumerate(layer_indexes):\n",
        "        layer_output = result[\"layer_output_%d\" % j]\n",
        "        layer_output_flat = np.array([x for x in layer_output[i:(i + 1)].flat])\n",
        "        layers.append(layer_output_flat)\n",
        "      output[token] = sum(layers)[:dim]\n",
        "  \n",
        "  return output"
      ],
      "execution_count": 13,
      "outputs": []
    },
    {
      "cell_type": "code",
      "metadata": {
        "id": "LiTdKGYdHsCB",
        "outputId": "6fd970be-27aa-48b5-9a01-87c237995edb",
        "colab": {
          "base_uri": "https://localhost:8080/"
        }
      },
      "source": [
        "from google.colab import drive\n",
        "drive.mount('/content/gdrive')"
      ],
      "execution_count": 14,
      "outputs": [
        {
          "output_type": "stream",
          "text": [
            "Mounted at /content/gdrive\n"
          ],
          "name": "stdout"
        }
      ]
    },
    {
      "cell_type": "code",
      "metadata": {
        "id": "YgE_o331H_Q4",
        "outputId": "3a06789b-c98d-4ffe-f189-8d3edd6dea12",
        "colab": {
          "base_uri": "https://localhost:8080/"
        }
      },
      "source": [
        "import pickle\n",
        "import pandas as pd\n",
        "import numpy as np\n",
        "import keras\n",
        "from sklearn.model_selection import train_test_split\n",
        "from keras.models import Sequential\n",
        "from keras.layers import Dense, Dropout, LSTM, Embedding, Bidirectional\n",
        "from keras.optimizers import Adam\n",
        "from keras.preprocessing.text import Tokenizer\n",
        "from keras.preprocessing.sequence import pad_sequences\n",
        "from keras.utils.np_utils import to_categorical  "
      ],
      "execution_count": 15,
      "outputs": [
        {
          "output_type": "stream",
          "text": [
            "Using TensorFlow backend.\n"
          ],
          "name": "stderr"
        }
      ]
    },
    {
      "cell_type": "code",
      "metadata": {
        "id": "Zsm8ZKWQIBGA"
      },
      "source": [
        "with open('/content/gdrive/My Drive/iemocap/train/sentences.pkl', 'rb') as f:\n",
        "    data = pickle.load(f)\n",
        "with open('/content/gdrive/My Drive/iemocap/train/labels.pkl', 'rb') as f:\n",
        "    labels = pickle.load(f)\n",
        "with open('/content/gdrive/My Drive/iemocap/test/sentences.pkl', 'rb') as f:\n",
        "    test_data = pickle.load(f)\n",
        "with open('/content/gdrive/My Drive/iemocap/test/labels.pkl', 'rb') as f:\n",
        "    test_labels = pickle.load(f)\n",
        "    "
      ],
      "execution_count": 16,
      "outputs": []
    },
    {
      "cell_type": "code",
      "metadata": {
        "id": "FPf1LleKIY8I"
      },
      "source": [
        "def preprocessing(data,labels):\n",
        "  processed_data=[]\n",
        "  processed_label=[]\n",
        "  for i in range(0,len(data)):\n",
        "    for j in range(0,len(data[i])):\n",
        "      intermediate_data=[]\n",
        "      intermediate_label=[]\n",
        "      for k in range(0,len(data[i][j])):\n",
        "        text=data[i][j][k]\n",
        "        if text != '<eos>'and text!='<pad>':\n",
        "          intermediate_data.append(text)\n",
        "      processed_data.append(intermediate_data)\n",
        "  for i in labels:\n",
        "    for j in i:\n",
        "      processed_label.append(j)\n",
        "  return processed_data,processed_label"
      ],
      "execution_count": 17,
      "outputs": []
    },
    {
      "cell_type": "code",
      "metadata": {
        "id": "IcPC5bPRZY1q"
      },
      "source": [
        "processed_data,processed_label = preprocessing(data,labels)\n",
        "test_processed_data,test_processed_label = preprocessing(test_data,test_labels)"
      ],
      "execution_count": 18,
      "outputs": []
    },
    {
      "cell_type": "markdown",
      "metadata": {
        "id": "6xl9LBf6ZsQl"
      },
      "source": [
        "**BERT CODE**"
      ]
    },
    {
      "cell_type": "code",
      "metadata": {
        "id": "_DkuTTYXZhOP"
      },
      "source": [
        "# final_weights=[]\n",
        "# for i in processed_data:\n",
        "#   embedding_input= ' '.join(i)\n",
        "#   embeddings = get_features(embedding_input)\n",
        "#   final_weights.append(embeddings)"
      ],
      "execution_count": 21,
      "outputs": []
    },
    {
      "cell_type": "code",
      "metadata": {
        "id": "4TL2JmatArWd",
        "outputId": "41591607-a804-4669-b538-cfb4317386c2",
        "colab": {
          "base_uri": "https://localhost:8080/"
        }
      },
      "source": [
        "embeddings = get_features([\"This is a one sentence embedding\"])\n",
        "print(embeddings)"
      ],
      "execution_count": 22,
      "outputs": [
        {
          "output_type": "stream",
          "text": [
            "INFO:tensorflow:*** Example ***\n"
          ],
          "name": "stdout"
        },
        {
          "output_type": "stream",
          "text": [
            "INFO:tensorflow:*** Example ***\n"
          ],
          "name": "stderr"
        },
        {
          "output_type": "stream",
          "text": [
            "INFO:tensorflow:unique_id: 0\n"
          ],
          "name": "stdout"
        },
        {
          "output_type": "stream",
          "text": [
            "INFO:tensorflow:unique_id: 0\n"
          ],
          "name": "stderr"
        },
        {
          "output_type": "stream",
          "text": [
            "INFO:tensorflow:tokens: [CLS] this is a one sentence em ##bed ##ding [SEP]\n"
          ],
          "name": "stdout"
        },
        {
          "output_type": "stream",
          "text": [
            "INFO:tensorflow:tokens: [CLS] this is a one sentence em ##bed ##ding [SEP]\n"
          ],
          "name": "stderr"
        },
        {
          "output_type": "stream",
          "text": [
            "INFO:tensorflow:input_ids: 101 2023 2003 1037 2028 6251 7861 8270 4667 102 0 0 0 0 0 0 0 0 0 0 0 0 0 0 0 0 0 0 0 0 0 0 0 0 0 0 0 0 0 0 0 0 0 0 0 0 0 0 0 0 0 0 0 0 0 0 0 0 0 0 0 0 0 0 0 0 0 0 0 0 0 0 0 0 0 0 0 0 0 0 0 0 0 0 0 0 0\n"
          ],
          "name": "stdout"
        },
        {
          "output_type": "stream",
          "text": [
            "INFO:tensorflow:input_ids: 101 2023 2003 1037 2028 6251 7861 8270 4667 102 0 0 0 0 0 0 0 0 0 0 0 0 0 0 0 0 0 0 0 0 0 0 0 0 0 0 0 0 0 0 0 0 0 0 0 0 0 0 0 0 0 0 0 0 0 0 0 0 0 0 0 0 0 0 0 0 0 0 0 0 0 0 0 0 0 0 0 0 0 0 0 0 0 0 0 0 0\n"
          ],
          "name": "stderr"
        },
        {
          "output_type": "stream",
          "text": [
            "INFO:tensorflow:input_mask: 1 1 1 1 1 1 1 1 1 1 0 0 0 0 0 0 0 0 0 0 0 0 0 0 0 0 0 0 0 0 0 0 0 0 0 0 0 0 0 0 0 0 0 0 0 0 0 0 0 0 0 0 0 0 0 0 0 0 0 0 0 0 0 0 0 0 0 0 0 0 0 0 0 0 0 0 0 0 0 0 0 0 0 0 0 0 0\n"
          ],
          "name": "stdout"
        },
        {
          "output_type": "stream",
          "text": [
            "INFO:tensorflow:input_mask: 1 1 1 1 1 1 1 1 1 1 0 0 0 0 0 0 0 0 0 0 0 0 0 0 0 0 0 0 0 0 0 0 0 0 0 0 0 0 0 0 0 0 0 0 0 0 0 0 0 0 0 0 0 0 0 0 0 0 0 0 0 0 0 0 0 0 0 0 0 0 0 0 0 0 0 0 0 0 0 0 0 0 0 0 0 0 0\n"
          ],
          "name": "stderr"
        },
        {
          "output_type": "stream",
          "text": [
            "INFO:tensorflow:input_type_ids: 0 0 0 0 0 0 0 0 0 0 0 0 0 0 0 0 0 0 0 0 0 0 0 0 0 0 0 0 0 0 0 0 0 0 0 0 0 0 0 0 0 0 0 0 0 0 0 0 0 0 0 0 0 0 0 0 0 0 0 0 0 0 0 0 0 0 0 0 0 0 0 0 0 0 0 0 0 0 0 0 0 0 0 0 0 0 0\n"
          ],
          "name": "stdout"
        },
        {
          "output_type": "stream",
          "text": [
            "INFO:tensorflow:input_type_ids: 0 0 0 0 0 0 0 0 0 0 0 0 0 0 0 0 0 0 0 0 0 0 0 0 0 0 0 0 0 0 0 0 0 0 0 0 0 0 0 0 0 0 0 0 0 0 0 0 0 0 0 0 0 0 0 0 0 0 0 0 0 0 0 0 0 0 0 0 0 0 0 0 0 0 0 0 0 0 0 0 0 0 0 0 0 0 0\n"
          ],
          "name": "stderr"
        },
        {
          "output_type": "stream",
          "text": [
            "WARNING:tensorflow:Estimator's model_fn (<function model_fn_builder.<locals>.model_fn at 0x7fe9a8085e18>) includes params argument, but params are not passed to Estimator.\n"
          ],
          "name": "stdout"
        },
        {
          "output_type": "stream",
          "text": [
            "WARNING:tensorflow:Estimator's model_fn (<function model_fn_builder.<locals>.model_fn at 0x7fe9a8085e18>) includes params argument, but params are not passed to Estimator.\n"
          ],
          "name": "stderr"
        },
        {
          "output_type": "stream",
          "text": [
            "WARNING:tensorflow:Using temporary folder as model directory: /tmp/tmpjq1qw_a3\n"
          ],
          "name": "stdout"
        },
        {
          "output_type": "stream",
          "text": [
            "WARNING:tensorflow:Using temporary folder as model directory: /tmp/tmpjq1qw_a3\n"
          ],
          "name": "stderr"
        },
        {
          "output_type": "stream",
          "text": [
            "INFO:tensorflow:Using config: {'_model_dir': '/tmp/tmpjq1qw_a3', '_tf_random_seed': None, '_save_summary_steps': 100, '_save_checkpoints_steps': None, '_save_checkpoints_secs': 600, '_session_config': allow_soft_placement: true\n",
            "cluster_def {\n",
            "  job {\n",
            "    name: \"worker\"\n",
            "    tasks {\n",
            "      key: 0\n",
            "      value: \"10.118.152.26:8470\"\n",
            "    }\n",
            "  }\n",
            "}\n",
            "isolate_session_state: true\n",
            ", '_keep_checkpoint_max': 5, '_keep_checkpoint_every_n_hours': 10000, '_log_step_count_steps': None, '_train_distribute': None, '_device_fn': None, '_protocol': None, '_eval_distribute': None, '_experimental_distribute': None, '_experimental_max_worker_delay_secs': None, '_session_creation_timeout_secs': 7200, '_service': None, '_cluster_spec': <tensorflow.python.training.server_lib.ClusterSpec object at 0x7fe9a2da72e8>, '_task_type': 'worker', '_task_id': 0, '_global_id_in_cluster': 0, '_master': 'grpc://10.118.152.26:8470', '_evaluation_master': 'grpc://10.118.152.26:8470', '_is_chief': True, '_num_ps_replicas': 0, '_num_worker_replicas': 1, '_tpu_config': TPUConfig(iterations_per_loop=2, num_shards=8, num_cores_per_replica=None, per_host_input_for_training=3, tpu_job_name=None, initial_infeed_sleep_secs=None, input_partition_dims=None, eval_training_input_configuration=2, experimental_host_call_every_n_steps=1), '_cluster': <tensorflow.python.distribute.cluster_resolver.tpu_cluster_resolver.TPUClusterResolver object at 0x7fe9a2e05470>}\n"
          ],
          "name": "stdout"
        },
        {
          "output_type": "stream",
          "text": [
            "INFO:tensorflow:Using config: {'_model_dir': '/tmp/tmpjq1qw_a3', '_tf_random_seed': None, '_save_summary_steps': 100, '_save_checkpoints_steps': None, '_save_checkpoints_secs': 600, '_session_config': allow_soft_placement: true\n",
            "cluster_def {\n",
            "  job {\n",
            "    name: \"worker\"\n",
            "    tasks {\n",
            "      key: 0\n",
            "      value: \"10.118.152.26:8470\"\n",
            "    }\n",
            "  }\n",
            "}\n",
            "isolate_session_state: true\n",
            ", '_keep_checkpoint_max': 5, '_keep_checkpoint_every_n_hours': 10000, '_log_step_count_steps': None, '_train_distribute': None, '_device_fn': None, '_protocol': None, '_eval_distribute': None, '_experimental_distribute': None, '_experimental_max_worker_delay_secs': None, '_session_creation_timeout_secs': 7200, '_service': None, '_cluster_spec': <tensorflow.python.training.server_lib.ClusterSpec object at 0x7fe9a2da72e8>, '_task_type': 'worker', '_task_id': 0, '_global_id_in_cluster': 0, '_master': 'grpc://10.118.152.26:8470', '_evaluation_master': 'grpc://10.118.152.26:8470', '_is_chief': True, '_num_ps_replicas': 0, '_num_worker_replicas': 1, '_tpu_config': TPUConfig(iterations_per_loop=2, num_shards=8, num_cores_per_replica=None, per_host_input_for_training=3, tpu_job_name=None, initial_infeed_sleep_secs=None, input_partition_dims=None, eval_training_input_configuration=2, experimental_host_call_every_n_steps=1), '_cluster': <tensorflow.python.distribute.cluster_resolver.tpu_cluster_resolver.TPUClusterResolver object at 0x7fe9a2e05470>}\n"
          ],
          "name": "stderr"
        },
        {
          "output_type": "stream",
          "text": [
            "INFO:tensorflow:_TPUContext: eval_on_tpu True\n"
          ],
          "name": "stdout"
        },
        {
          "output_type": "stream",
          "text": [
            "INFO:tensorflow:_TPUContext: eval_on_tpu True\n"
          ],
          "name": "stderr"
        },
        {
          "output_type": "stream",
          "text": [
            "INFO:tensorflow:Could not find trained model in model_dir: /tmp/tmpjq1qw_a3, running initialization to predict.\n"
          ],
          "name": "stdout"
        },
        {
          "output_type": "stream",
          "text": [
            "INFO:tensorflow:Could not find trained model in model_dir: /tmp/tmpjq1qw_a3, running initialization to predict.\n"
          ],
          "name": "stderr"
        },
        {
          "output_type": "stream",
          "text": [
            "INFO:tensorflow:Querying Tensorflow master (grpc://10.118.152.26:8470) for TPU system metadata.\n"
          ],
          "name": "stdout"
        },
        {
          "output_type": "stream",
          "text": [
            "INFO:tensorflow:Querying Tensorflow master (grpc://10.118.152.26:8470) for TPU system metadata.\n"
          ],
          "name": "stderr"
        },
        {
          "output_type": "stream",
          "text": [
            "INFO:tensorflow:Found TPU system:\n"
          ],
          "name": "stdout"
        },
        {
          "output_type": "stream",
          "text": [
            "INFO:tensorflow:Found TPU system:\n"
          ],
          "name": "stderr"
        },
        {
          "output_type": "stream",
          "text": [
            "INFO:tensorflow:*** Num TPU Cores: 8\n"
          ],
          "name": "stdout"
        },
        {
          "output_type": "stream",
          "text": [
            "INFO:tensorflow:*** Num TPU Cores: 8\n"
          ],
          "name": "stderr"
        },
        {
          "output_type": "stream",
          "text": [
            "INFO:tensorflow:*** Num TPU Workers: 1\n"
          ],
          "name": "stdout"
        },
        {
          "output_type": "stream",
          "text": [
            "INFO:tensorflow:*** Num TPU Workers: 1\n"
          ],
          "name": "stderr"
        },
        {
          "output_type": "stream",
          "text": [
            "INFO:tensorflow:*** Num TPU Cores Per Worker: 8\n"
          ],
          "name": "stdout"
        },
        {
          "output_type": "stream",
          "text": [
            "INFO:tensorflow:*** Num TPU Cores Per Worker: 8\n"
          ],
          "name": "stderr"
        },
        {
          "output_type": "stream",
          "text": [
            "INFO:tensorflow:*** Available Device: _DeviceAttributes(/job:worker/replica:0/task:0/device:CPU:0, CPU, -1, 15336593729352476029)\n"
          ],
          "name": "stdout"
        },
        {
          "output_type": "stream",
          "text": [
            "INFO:tensorflow:*** Available Device: _DeviceAttributes(/job:worker/replica:0/task:0/device:CPU:0, CPU, -1, 15336593729352476029)\n"
          ],
          "name": "stderr"
        },
        {
          "output_type": "stream",
          "text": [
            "INFO:tensorflow:*** Available Device: _DeviceAttributes(/job:worker/replica:0/task:0/device:TPU:0, TPU, 17179869184, 16233914059192536982)\n"
          ],
          "name": "stdout"
        },
        {
          "output_type": "stream",
          "text": [
            "INFO:tensorflow:*** Available Device: _DeviceAttributes(/job:worker/replica:0/task:0/device:TPU:0, TPU, 17179869184, 16233914059192536982)\n"
          ],
          "name": "stderr"
        },
        {
          "output_type": "stream",
          "text": [
            "INFO:tensorflow:*** Available Device: _DeviceAttributes(/job:worker/replica:0/task:0/device:TPU:1, TPU, 17179869184, 9351657607675287645)\n"
          ],
          "name": "stdout"
        },
        {
          "output_type": "stream",
          "text": [
            "INFO:tensorflow:*** Available Device: _DeviceAttributes(/job:worker/replica:0/task:0/device:TPU:1, TPU, 17179869184, 9351657607675287645)\n"
          ],
          "name": "stderr"
        },
        {
          "output_type": "stream",
          "text": [
            "INFO:tensorflow:*** Available Device: _DeviceAttributes(/job:worker/replica:0/task:0/device:TPU:2, TPU, 17179869184, 6377039075646162038)\n"
          ],
          "name": "stdout"
        },
        {
          "output_type": "stream",
          "text": [
            "INFO:tensorflow:*** Available Device: _DeviceAttributes(/job:worker/replica:0/task:0/device:TPU:2, TPU, 17179869184, 6377039075646162038)\n"
          ],
          "name": "stderr"
        },
        {
          "output_type": "stream",
          "text": [
            "INFO:tensorflow:*** Available Device: _DeviceAttributes(/job:worker/replica:0/task:0/device:TPU:3, TPU, 17179869184, 3086748791788632311)\n"
          ],
          "name": "stdout"
        },
        {
          "output_type": "stream",
          "text": [
            "INFO:tensorflow:*** Available Device: _DeviceAttributes(/job:worker/replica:0/task:0/device:TPU:3, TPU, 17179869184, 3086748791788632311)\n"
          ],
          "name": "stderr"
        },
        {
          "output_type": "stream",
          "text": [
            "INFO:tensorflow:*** Available Device: _DeviceAttributes(/job:worker/replica:0/task:0/device:TPU:4, TPU, 17179869184, 2522043817190841627)\n"
          ],
          "name": "stdout"
        },
        {
          "output_type": "stream",
          "text": [
            "INFO:tensorflow:*** Available Device: _DeviceAttributes(/job:worker/replica:0/task:0/device:TPU:4, TPU, 17179869184, 2522043817190841627)\n"
          ],
          "name": "stderr"
        },
        {
          "output_type": "stream",
          "text": [
            "INFO:tensorflow:*** Available Device: _DeviceAttributes(/job:worker/replica:0/task:0/device:TPU:5, TPU, 17179869184, 18085519324529730453)\n"
          ],
          "name": "stdout"
        },
        {
          "output_type": "stream",
          "text": [
            "INFO:tensorflow:*** Available Device: _DeviceAttributes(/job:worker/replica:0/task:0/device:TPU:5, TPU, 17179869184, 18085519324529730453)\n"
          ],
          "name": "stderr"
        },
        {
          "output_type": "stream",
          "text": [
            "INFO:tensorflow:*** Available Device: _DeviceAttributes(/job:worker/replica:0/task:0/device:TPU:6, TPU, 17179869184, 6188935814041564067)\n"
          ],
          "name": "stdout"
        },
        {
          "output_type": "stream",
          "text": [
            "INFO:tensorflow:*** Available Device: _DeviceAttributes(/job:worker/replica:0/task:0/device:TPU:6, TPU, 17179869184, 6188935814041564067)\n"
          ],
          "name": "stderr"
        },
        {
          "output_type": "stream",
          "text": [
            "INFO:tensorflow:*** Available Device: _DeviceAttributes(/job:worker/replica:0/task:0/device:TPU:7, TPU, 17179869184, 8839091551034114014)\n"
          ],
          "name": "stdout"
        },
        {
          "output_type": "stream",
          "text": [
            "INFO:tensorflow:*** Available Device: _DeviceAttributes(/job:worker/replica:0/task:0/device:TPU:7, TPU, 17179869184, 8839091551034114014)\n"
          ],
          "name": "stderr"
        },
        {
          "output_type": "stream",
          "text": [
            "INFO:tensorflow:*** Available Device: _DeviceAttributes(/job:worker/replica:0/task:0/device:TPU_SYSTEM:0, TPU_SYSTEM, 8589934592, 10066613912743332424)\n"
          ],
          "name": "stdout"
        },
        {
          "output_type": "stream",
          "text": [
            "INFO:tensorflow:*** Available Device: _DeviceAttributes(/job:worker/replica:0/task:0/device:TPU_SYSTEM:0, TPU_SYSTEM, 8589934592, 10066613912743332424)\n"
          ],
          "name": "stderr"
        },
        {
          "output_type": "stream",
          "text": [
            "INFO:tensorflow:*** Available Device: _DeviceAttributes(/job:worker/replica:0/task:0/device:XLA_CPU:0, XLA_CPU, 17179869184, 11735638196313412239)\n"
          ],
          "name": "stdout"
        },
        {
          "output_type": "stream",
          "text": [
            "INFO:tensorflow:*** Available Device: _DeviceAttributes(/job:worker/replica:0/task:0/device:XLA_CPU:0, XLA_CPU, 17179869184, 11735638196313412239)\n"
          ],
          "name": "stderr"
        },
        {
          "output_type": "stream",
          "text": [
            "INFO:tensorflow:Calling model_fn.\n"
          ],
          "name": "stdout"
        },
        {
          "output_type": "stream",
          "text": [
            "INFO:tensorflow:Calling model_fn.\n"
          ],
          "name": "stderr"
        },
        {
          "output_type": "stream",
          "text": [
            "WARNING:tensorflow:Entity <function _InputsWithStoppingSignals.insert_stopping_signal.<locals>._map_fn at 0x7fe9a2dba1e0> could not be transformed and will be executed as-is. Please report this to the AutoGraph team. When filing the bug, set the verbosity to 10 (on Linux, `export AUTOGRAPH_VERBOSITY=10`) and attach the full output. Cause: module 'gast' has no attribute 'Num'\n"
          ],
          "name": "stdout"
        },
        {
          "output_type": "stream",
          "text": [
            "WARNING:tensorflow:Entity <function _InputsWithStoppingSignals.insert_stopping_signal.<locals>._map_fn at 0x7fe9a2dba1e0> could not be transformed and will be executed as-is. Please report this to the AutoGraph team. When filing the bug, set the verbosity to 10 (on Linux, `export AUTOGRAPH_VERBOSITY=10`) and attach the full output. Cause: module 'gast' has no attribute 'Num'\n"
          ],
          "name": "stderr"
        },
        {
          "output_type": "stream",
          "text": [
            "WARNING: Entity <function _InputsWithStoppingSignals.insert_stopping_signal.<locals>._map_fn at 0x7fe9a2dba1e0> could not be transformed and will be executed as-is. Please report this to the AutoGraph team. When filing the bug, set the verbosity to 10 (on Linux, `export AUTOGRAPH_VERBOSITY=10`) and attach the full output. Cause: module 'gast' has no attribute 'Num'\n",
            "WARNING:tensorflow:Entity <function _InputsWithStoppingSignals.insert_stopping_signal.<locals>._map_fn at 0x7fe9a2dba510> could not be transformed and will be executed as-is. Please report this to the AutoGraph team. When filing the bug, set the verbosity to 10 (on Linux, `export AUTOGRAPH_VERBOSITY=10`) and attach the full output. Cause: module 'gast' has no attribute 'Num'\n"
          ],
          "name": "stdout"
        },
        {
          "output_type": "stream",
          "text": [
            "WARNING:tensorflow:Entity <function _InputsWithStoppingSignals.insert_stopping_signal.<locals>._map_fn at 0x7fe9a2dba510> could not be transformed and will be executed as-is. Please report this to the AutoGraph team. When filing the bug, set the verbosity to 10 (on Linux, `export AUTOGRAPH_VERBOSITY=10`) and attach the full output. Cause: module 'gast' has no attribute 'Num'\n"
          ],
          "name": "stderr"
        },
        {
          "output_type": "stream",
          "text": [
            "WARNING: Entity <function _InputsWithStoppingSignals.insert_stopping_signal.<locals>._map_fn at 0x7fe9a2dba510> could not be transformed and will be executed as-is. Please report this to the AutoGraph team. When filing the bug, set the verbosity to 10 (on Linux, `export AUTOGRAPH_VERBOSITY=10`) and attach the full output. Cause: module 'gast' has no attribute 'Num'\n",
            "WARNING:tensorflow:Entity <function _InputsWithStoppingSignals.__init__.<locals>._set_mask at 0x7fe9a2dbaae8> could not be transformed and will be executed as-is. Please report this to the AutoGraph team. When filing the bug, set the verbosity to 10 (on Linux, `export AUTOGRAPH_VERBOSITY=10`) and attach the full output. Cause: module 'gast' has no attribute 'Num'\n"
          ],
          "name": "stdout"
        },
        {
          "output_type": "stream",
          "text": [
            "WARNING:tensorflow:Entity <function _InputsWithStoppingSignals.__init__.<locals>._set_mask at 0x7fe9a2dbaae8> could not be transformed and will be executed as-is. Please report this to the AutoGraph team. When filing the bug, set the verbosity to 10 (on Linux, `export AUTOGRAPH_VERBOSITY=10`) and attach the full output. Cause: module 'gast' has no attribute 'Num'\n"
          ],
          "name": "stderr"
        },
        {
          "output_type": "stream",
          "text": [
            "WARNING: Entity <function _InputsWithStoppingSignals.__init__.<locals>._set_mask at 0x7fe9a2dbaae8> could not be transformed and will be executed as-is. Please report this to the AutoGraph team. When filing the bug, set the verbosity to 10 (on Linux, `export AUTOGRAPH_VERBOSITY=10`) and attach the full output. Cause: module 'gast' has no attribute 'Num'\n",
            "INFO:tensorflow:**** Trainable Variables ****\n"
          ],
          "name": "stdout"
        },
        {
          "output_type": "stream",
          "text": [
            "INFO:tensorflow:**** Trainable Variables ****\n"
          ],
          "name": "stderr"
        },
        {
          "output_type": "stream",
          "text": [
            "INFO:tensorflow:  name = bert/embeddings/word_embeddings:0, shape = (30522, 768), *INIT_FROM_CKPT*\n"
          ],
          "name": "stdout"
        },
        {
          "output_type": "stream",
          "text": [
            "INFO:tensorflow:  name = bert/embeddings/word_embeddings:0, shape = (30522, 768), *INIT_FROM_CKPT*\n"
          ],
          "name": "stderr"
        },
        {
          "output_type": "stream",
          "text": [
            "INFO:tensorflow:  name = bert/embeddings/token_type_embeddings:0, shape = (2, 768), *INIT_FROM_CKPT*\n"
          ],
          "name": "stdout"
        },
        {
          "output_type": "stream",
          "text": [
            "INFO:tensorflow:  name = bert/embeddings/token_type_embeddings:0, shape = (2, 768), *INIT_FROM_CKPT*\n"
          ],
          "name": "stderr"
        },
        {
          "output_type": "stream",
          "text": [
            "INFO:tensorflow:  name = bert/embeddings/position_embeddings:0, shape = (512, 768), *INIT_FROM_CKPT*\n"
          ],
          "name": "stdout"
        },
        {
          "output_type": "stream",
          "text": [
            "INFO:tensorflow:  name = bert/embeddings/position_embeddings:0, shape = (512, 768), *INIT_FROM_CKPT*\n"
          ],
          "name": "stderr"
        },
        {
          "output_type": "stream",
          "text": [
            "INFO:tensorflow:  name = bert/embeddings/LayerNorm/beta:0, shape = (768,), *INIT_FROM_CKPT*\n"
          ],
          "name": "stdout"
        },
        {
          "output_type": "stream",
          "text": [
            "INFO:tensorflow:  name = bert/embeddings/LayerNorm/beta:0, shape = (768,), *INIT_FROM_CKPT*\n"
          ],
          "name": "stderr"
        },
        {
          "output_type": "stream",
          "text": [
            "INFO:tensorflow:  name = bert/embeddings/LayerNorm/gamma:0, shape = (768,), *INIT_FROM_CKPT*\n"
          ],
          "name": "stdout"
        },
        {
          "output_type": "stream",
          "text": [
            "INFO:tensorflow:  name = bert/embeddings/LayerNorm/gamma:0, shape = (768,), *INIT_FROM_CKPT*\n"
          ],
          "name": "stderr"
        },
        {
          "output_type": "stream",
          "text": [
            "INFO:tensorflow:  name = bert/encoder/layer_0/attention/self/query/kernel:0, shape = (768, 768), *INIT_FROM_CKPT*\n"
          ],
          "name": "stdout"
        },
        {
          "output_type": "stream",
          "text": [
            "INFO:tensorflow:  name = bert/encoder/layer_0/attention/self/query/kernel:0, shape = (768, 768), *INIT_FROM_CKPT*\n"
          ],
          "name": "stderr"
        },
        {
          "output_type": "stream",
          "text": [
            "INFO:tensorflow:  name = bert/encoder/layer_0/attention/self/query/bias:0, shape = (768,), *INIT_FROM_CKPT*\n"
          ],
          "name": "stdout"
        },
        {
          "output_type": "stream",
          "text": [
            "INFO:tensorflow:  name = bert/encoder/layer_0/attention/self/query/bias:0, shape = (768,), *INIT_FROM_CKPT*\n"
          ],
          "name": "stderr"
        },
        {
          "output_type": "stream",
          "text": [
            "INFO:tensorflow:  name = bert/encoder/layer_0/attention/self/key/kernel:0, shape = (768, 768), *INIT_FROM_CKPT*\n"
          ],
          "name": "stdout"
        },
        {
          "output_type": "stream",
          "text": [
            "INFO:tensorflow:  name = bert/encoder/layer_0/attention/self/key/kernel:0, shape = (768, 768), *INIT_FROM_CKPT*\n"
          ],
          "name": "stderr"
        },
        {
          "output_type": "stream",
          "text": [
            "INFO:tensorflow:  name = bert/encoder/layer_0/attention/self/key/bias:0, shape = (768,), *INIT_FROM_CKPT*\n"
          ],
          "name": "stdout"
        },
        {
          "output_type": "stream",
          "text": [
            "INFO:tensorflow:  name = bert/encoder/layer_0/attention/self/key/bias:0, shape = (768,), *INIT_FROM_CKPT*\n"
          ],
          "name": "stderr"
        },
        {
          "output_type": "stream",
          "text": [
            "INFO:tensorflow:  name = bert/encoder/layer_0/attention/self/value/kernel:0, shape = (768, 768), *INIT_FROM_CKPT*\n"
          ],
          "name": "stdout"
        },
        {
          "output_type": "stream",
          "text": [
            "INFO:tensorflow:  name = bert/encoder/layer_0/attention/self/value/kernel:0, shape = (768, 768), *INIT_FROM_CKPT*\n"
          ],
          "name": "stderr"
        },
        {
          "output_type": "stream",
          "text": [
            "INFO:tensorflow:  name = bert/encoder/layer_0/attention/self/value/bias:0, shape = (768,), *INIT_FROM_CKPT*\n"
          ],
          "name": "stdout"
        },
        {
          "output_type": "stream",
          "text": [
            "INFO:tensorflow:  name = bert/encoder/layer_0/attention/self/value/bias:0, shape = (768,), *INIT_FROM_CKPT*\n"
          ],
          "name": "stderr"
        },
        {
          "output_type": "stream",
          "text": [
            "INFO:tensorflow:  name = bert/encoder/layer_0/attention/output/dense/kernel:0, shape = (768, 768), *INIT_FROM_CKPT*\n"
          ],
          "name": "stdout"
        },
        {
          "output_type": "stream",
          "text": [
            "INFO:tensorflow:  name = bert/encoder/layer_0/attention/output/dense/kernel:0, shape = (768, 768), *INIT_FROM_CKPT*\n"
          ],
          "name": "stderr"
        },
        {
          "output_type": "stream",
          "text": [
            "INFO:tensorflow:  name = bert/encoder/layer_0/attention/output/dense/bias:0, shape = (768,), *INIT_FROM_CKPT*\n"
          ],
          "name": "stdout"
        },
        {
          "output_type": "stream",
          "text": [
            "INFO:tensorflow:  name = bert/encoder/layer_0/attention/output/dense/bias:0, shape = (768,), *INIT_FROM_CKPT*\n"
          ],
          "name": "stderr"
        },
        {
          "output_type": "stream",
          "text": [
            "INFO:tensorflow:  name = bert/encoder/layer_0/attention/output/LayerNorm/beta:0, shape = (768,), *INIT_FROM_CKPT*\n"
          ],
          "name": "stdout"
        },
        {
          "output_type": "stream",
          "text": [
            "INFO:tensorflow:  name = bert/encoder/layer_0/attention/output/LayerNorm/beta:0, shape = (768,), *INIT_FROM_CKPT*\n"
          ],
          "name": "stderr"
        },
        {
          "output_type": "stream",
          "text": [
            "INFO:tensorflow:  name = bert/encoder/layer_0/attention/output/LayerNorm/gamma:0, shape = (768,), *INIT_FROM_CKPT*\n"
          ],
          "name": "stdout"
        },
        {
          "output_type": "stream",
          "text": [
            "INFO:tensorflow:  name = bert/encoder/layer_0/attention/output/LayerNorm/gamma:0, shape = (768,), *INIT_FROM_CKPT*\n"
          ],
          "name": "stderr"
        },
        {
          "output_type": "stream",
          "text": [
            "INFO:tensorflow:  name = bert/encoder/layer_0/intermediate/dense/kernel:0, shape = (768, 3072), *INIT_FROM_CKPT*\n"
          ],
          "name": "stdout"
        },
        {
          "output_type": "stream",
          "text": [
            "INFO:tensorflow:  name = bert/encoder/layer_0/intermediate/dense/kernel:0, shape = (768, 3072), *INIT_FROM_CKPT*\n"
          ],
          "name": "stderr"
        },
        {
          "output_type": "stream",
          "text": [
            "INFO:tensorflow:  name = bert/encoder/layer_0/intermediate/dense/bias:0, shape = (3072,), *INIT_FROM_CKPT*\n"
          ],
          "name": "stdout"
        },
        {
          "output_type": "stream",
          "text": [
            "INFO:tensorflow:  name = bert/encoder/layer_0/intermediate/dense/bias:0, shape = (3072,), *INIT_FROM_CKPT*\n"
          ],
          "name": "stderr"
        },
        {
          "output_type": "stream",
          "text": [
            "INFO:tensorflow:  name = bert/encoder/layer_0/output/dense/kernel:0, shape = (3072, 768), *INIT_FROM_CKPT*\n"
          ],
          "name": "stdout"
        },
        {
          "output_type": "stream",
          "text": [
            "INFO:tensorflow:  name = bert/encoder/layer_0/output/dense/kernel:0, shape = (3072, 768), *INIT_FROM_CKPT*\n"
          ],
          "name": "stderr"
        },
        {
          "output_type": "stream",
          "text": [
            "INFO:tensorflow:  name = bert/encoder/layer_0/output/dense/bias:0, shape = (768,), *INIT_FROM_CKPT*\n"
          ],
          "name": "stdout"
        },
        {
          "output_type": "stream",
          "text": [
            "INFO:tensorflow:  name = bert/encoder/layer_0/output/dense/bias:0, shape = (768,), *INIT_FROM_CKPT*\n"
          ],
          "name": "stderr"
        },
        {
          "output_type": "stream",
          "text": [
            "INFO:tensorflow:  name = bert/encoder/layer_0/output/LayerNorm/beta:0, shape = (768,), *INIT_FROM_CKPT*\n"
          ],
          "name": "stdout"
        },
        {
          "output_type": "stream",
          "text": [
            "INFO:tensorflow:  name = bert/encoder/layer_0/output/LayerNorm/beta:0, shape = (768,), *INIT_FROM_CKPT*\n"
          ],
          "name": "stderr"
        },
        {
          "output_type": "stream",
          "text": [
            "INFO:tensorflow:  name = bert/encoder/layer_0/output/LayerNorm/gamma:0, shape = (768,), *INIT_FROM_CKPT*\n"
          ],
          "name": "stdout"
        },
        {
          "output_type": "stream",
          "text": [
            "INFO:tensorflow:  name = bert/encoder/layer_0/output/LayerNorm/gamma:0, shape = (768,), *INIT_FROM_CKPT*\n"
          ],
          "name": "stderr"
        },
        {
          "output_type": "stream",
          "text": [
            "INFO:tensorflow:  name = bert/encoder/layer_1/attention/self/query/kernel:0, shape = (768, 768), *INIT_FROM_CKPT*\n"
          ],
          "name": "stdout"
        },
        {
          "output_type": "stream",
          "text": [
            "INFO:tensorflow:  name = bert/encoder/layer_1/attention/self/query/kernel:0, shape = (768, 768), *INIT_FROM_CKPT*\n"
          ],
          "name": "stderr"
        },
        {
          "output_type": "stream",
          "text": [
            "INFO:tensorflow:  name = bert/encoder/layer_1/attention/self/query/bias:0, shape = (768,), *INIT_FROM_CKPT*\n"
          ],
          "name": "stdout"
        },
        {
          "output_type": "stream",
          "text": [
            "INFO:tensorflow:  name = bert/encoder/layer_1/attention/self/query/bias:0, shape = (768,), *INIT_FROM_CKPT*\n"
          ],
          "name": "stderr"
        },
        {
          "output_type": "stream",
          "text": [
            "INFO:tensorflow:  name = bert/encoder/layer_1/attention/self/key/kernel:0, shape = (768, 768), *INIT_FROM_CKPT*\n"
          ],
          "name": "stdout"
        },
        {
          "output_type": "stream",
          "text": [
            "INFO:tensorflow:  name = bert/encoder/layer_1/attention/self/key/kernel:0, shape = (768, 768), *INIT_FROM_CKPT*\n"
          ],
          "name": "stderr"
        },
        {
          "output_type": "stream",
          "text": [
            "INFO:tensorflow:  name = bert/encoder/layer_1/attention/self/key/bias:0, shape = (768,), *INIT_FROM_CKPT*\n"
          ],
          "name": "stdout"
        },
        {
          "output_type": "stream",
          "text": [
            "INFO:tensorflow:  name = bert/encoder/layer_1/attention/self/key/bias:0, shape = (768,), *INIT_FROM_CKPT*\n"
          ],
          "name": "stderr"
        },
        {
          "output_type": "stream",
          "text": [
            "INFO:tensorflow:  name = bert/encoder/layer_1/attention/self/value/kernel:0, shape = (768, 768), *INIT_FROM_CKPT*\n"
          ],
          "name": "stdout"
        },
        {
          "output_type": "stream",
          "text": [
            "INFO:tensorflow:  name = bert/encoder/layer_1/attention/self/value/kernel:0, shape = (768, 768), *INIT_FROM_CKPT*\n"
          ],
          "name": "stderr"
        },
        {
          "output_type": "stream",
          "text": [
            "INFO:tensorflow:  name = bert/encoder/layer_1/attention/self/value/bias:0, shape = (768,), *INIT_FROM_CKPT*\n"
          ],
          "name": "stdout"
        },
        {
          "output_type": "stream",
          "text": [
            "INFO:tensorflow:  name = bert/encoder/layer_1/attention/self/value/bias:0, shape = (768,), *INIT_FROM_CKPT*\n"
          ],
          "name": "stderr"
        },
        {
          "output_type": "stream",
          "text": [
            "INFO:tensorflow:  name = bert/encoder/layer_1/attention/output/dense/kernel:0, shape = (768, 768), *INIT_FROM_CKPT*\n"
          ],
          "name": "stdout"
        },
        {
          "output_type": "stream",
          "text": [
            "INFO:tensorflow:  name = bert/encoder/layer_1/attention/output/dense/kernel:0, shape = (768, 768), *INIT_FROM_CKPT*\n"
          ],
          "name": "stderr"
        },
        {
          "output_type": "stream",
          "text": [
            "INFO:tensorflow:  name = bert/encoder/layer_1/attention/output/dense/bias:0, shape = (768,), *INIT_FROM_CKPT*\n"
          ],
          "name": "stdout"
        },
        {
          "output_type": "stream",
          "text": [
            "INFO:tensorflow:  name = bert/encoder/layer_1/attention/output/dense/bias:0, shape = (768,), *INIT_FROM_CKPT*\n"
          ],
          "name": "stderr"
        },
        {
          "output_type": "stream",
          "text": [
            "INFO:tensorflow:  name = bert/encoder/layer_1/attention/output/LayerNorm/beta:0, shape = (768,), *INIT_FROM_CKPT*\n"
          ],
          "name": "stdout"
        },
        {
          "output_type": "stream",
          "text": [
            "INFO:tensorflow:  name = bert/encoder/layer_1/attention/output/LayerNorm/beta:0, shape = (768,), *INIT_FROM_CKPT*\n"
          ],
          "name": "stderr"
        },
        {
          "output_type": "stream",
          "text": [
            "INFO:tensorflow:  name = bert/encoder/layer_1/attention/output/LayerNorm/gamma:0, shape = (768,), *INIT_FROM_CKPT*\n"
          ],
          "name": "stdout"
        },
        {
          "output_type": "stream",
          "text": [
            "INFO:tensorflow:  name = bert/encoder/layer_1/attention/output/LayerNorm/gamma:0, shape = (768,), *INIT_FROM_CKPT*\n"
          ],
          "name": "stderr"
        },
        {
          "output_type": "stream",
          "text": [
            "INFO:tensorflow:  name = bert/encoder/layer_1/intermediate/dense/kernel:0, shape = (768, 3072), *INIT_FROM_CKPT*\n"
          ],
          "name": "stdout"
        },
        {
          "output_type": "stream",
          "text": [
            "INFO:tensorflow:  name = bert/encoder/layer_1/intermediate/dense/kernel:0, shape = (768, 3072), *INIT_FROM_CKPT*\n"
          ],
          "name": "stderr"
        },
        {
          "output_type": "stream",
          "text": [
            "INFO:tensorflow:  name = bert/encoder/layer_1/intermediate/dense/bias:0, shape = (3072,), *INIT_FROM_CKPT*\n"
          ],
          "name": "stdout"
        },
        {
          "output_type": "stream",
          "text": [
            "INFO:tensorflow:  name = bert/encoder/layer_1/intermediate/dense/bias:0, shape = (3072,), *INIT_FROM_CKPT*\n"
          ],
          "name": "stderr"
        },
        {
          "output_type": "stream",
          "text": [
            "INFO:tensorflow:  name = bert/encoder/layer_1/output/dense/kernel:0, shape = (3072, 768), *INIT_FROM_CKPT*\n"
          ],
          "name": "stdout"
        },
        {
          "output_type": "stream",
          "text": [
            "INFO:tensorflow:  name = bert/encoder/layer_1/output/dense/kernel:0, shape = (3072, 768), *INIT_FROM_CKPT*\n"
          ],
          "name": "stderr"
        },
        {
          "output_type": "stream",
          "text": [
            "INFO:tensorflow:  name = bert/encoder/layer_1/output/dense/bias:0, shape = (768,), *INIT_FROM_CKPT*\n"
          ],
          "name": "stdout"
        },
        {
          "output_type": "stream",
          "text": [
            "INFO:tensorflow:  name = bert/encoder/layer_1/output/dense/bias:0, shape = (768,), *INIT_FROM_CKPT*\n"
          ],
          "name": "stderr"
        },
        {
          "output_type": "stream",
          "text": [
            "INFO:tensorflow:  name = bert/encoder/layer_1/output/LayerNorm/beta:0, shape = (768,), *INIT_FROM_CKPT*\n"
          ],
          "name": "stdout"
        },
        {
          "output_type": "stream",
          "text": [
            "INFO:tensorflow:  name = bert/encoder/layer_1/output/LayerNorm/beta:0, shape = (768,), *INIT_FROM_CKPT*\n"
          ],
          "name": "stderr"
        },
        {
          "output_type": "stream",
          "text": [
            "INFO:tensorflow:  name = bert/encoder/layer_1/output/LayerNorm/gamma:0, shape = (768,), *INIT_FROM_CKPT*\n"
          ],
          "name": "stdout"
        },
        {
          "output_type": "stream",
          "text": [
            "INFO:tensorflow:  name = bert/encoder/layer_1/output/LayerNorm/gamma:0, shape = (768,), *INIT_FROM_CKPT*\n"
          ],
          "name": "stderr"
        },
        {
          "output_type": "stream",
          "text": [
            "INFO:tensorflow:  name = bert/encoder/layer_2/attention/self/query/kernel:0, shape = (768, 768), *INIT_FROM_CKPT*\n"
          ],
          "name": "stdout"
        },
        {
          "output_type": "stream",
          "text": [
            "INFO:tensorflow:  name = bert/encoder/layer_2/attention/self/query/kernel:0, shape = (768, 768), *INIT_FROM_CKPT*\n"
          ],
          "name": "stderr"
        },
        {
          "output_type": "stream",
          "text": [
            "INFO:tensorflow:  name = bert/encoder/layer_2/attention/self/query/bias:0, shape = (768,), *INIT_FROM_CKPT*\n"
          ],
          "name": "stdout"
        },
        {
          "output_type": "stream",
          "text": [
            "INFO:tensorflow:  name = bert/encoder/layer_2/attention/self/query/bias:0, shape = (768,), *INIT_FROM_CKPT*\n"
          ],
          "name": "stderr"
        },
        {
          "output_type": "stream",
          "text": [
            "INFO:tensorflow:  name = bert/encoder/layer_2/attention/self/key/kernel:0, shape = (768, 768), *INIT_FROM_CKPT*\n"
          ],
          "name": "stdout"
        },
        {
          "output_type": "stream",
          "text": [
            "INFO:tensorflow:  name = bert/encoder/layer_2/attention/self/key/kernel:0, shape = (768, 768), *INIT_FROM_CKPT*\n"
          ],
          "name": "stderr"
        },
        {
          "output_type": "stream",
          "text": [
            "INFO:tensorflow:  name = bert/encoder/layer_2/attention/self/key/bias:0, shape = (768,), *INIT_FROM_CKPT*\n"
          ],
          "name": "stdout"
        },
        {
          "output_type": "stream",
          "text": [
            "INFO:tensorflow:  name = bert/encoder/layer_2/attention/self/key/bias:0, shape = (768,), *INIT_FROM_CKPT*\n"
          ],
          "name": "stderr"
        },
        {
          "output_type": "stream",
          "text": [
            "INFO:tensorflow:  name = bert/encoder/layer_2/attention/self/value/kernel:0, shape = (768, 768), *INIT_FROM_CKPT*\n"
          ],
          "name": "stdout"
        },
        {
          "output_type": "stream",
          "text": [
            "INFO:tensorflow:  name = bert/encoder/layer_2/attention/self/value/kernel:0, shape = (768, 768), *INIT_FROM_CKPT*\n"
          ],
          "name": "stderr"
        },
        {
          "output_type": "stream",
          "text": [
            "INFO:tensorflow:  name = bert/encoder/layer_2/attention/self/value/bias:0, shape = (768,), *INIT_FROM_CKPT*\n"
          ],
          "name": "stdout"
        },
        {
          "output_type": "stream",
          "text": [
            "INFO:tensorflow:  name = bert/encoder/layer_2/attention/self/value/bias:0, shape = (768,), *INIT_FROM_CKPT*\n"
          ],
          "name": "stderr"
        },
        {
          "output_type": "stream",
          "text": [
            "INFO:tensorflow:  name = bert/encoder/layer_2/attention/output/dense/kernel:0, shape = (768, 768), *INIT_FROM_CKPT*\n"
          ],
          "name": "stdout"
        },
        {
          "output_type": "stream",
          "text": [
            "INFO:tensorflow:  name = bert/encoder/layer_2/attention/output/dense/kernel:0, shape = (768, 768), *INIT_FROM_CKPT*\n"
          ],
          "name": "stderr"
        },
        {
          "output_type": "stream",
          "text": [
            "INFO:tensorflow:  name = bert/encoder/layer_2/attention/output/dense/bias:0, shape = (768,), *INIT_FROM_CKPT*\n"
          ],
          "name": "stdout"
        },
        {
          "output_type": "stream",
          "text": [
            "INFO:tensorflow:  name = bert/encoder/layer_2/attention/output/dense/bias:0, shape = (768,), *INIT_FROM_CKPT*\n"
          ],
          "name": "stderr"
        },
        {
          "output_type": "stream",
          "text": [
            "INFO:tensorflow:  name = bert/encoder/layer_2/attention/output/LayerNorm/beta:0, shape = (768,), *INIT_FROM_CKPT*\n"
          ],
          "name": "stdout"
        },
        {
          "output_type": "stream",
          "text": [
            "INFO:tensorflow:  name = bert/encoder/layer_2/attention/output/LayerNorm/beta:0, shape = (768,), *INIT_FROM_CKPT*\n"
          ],
          "name": "stderr"
        },
        {
          "output_type": "stream",
          "text": [
            "INFO:tensorflow:  name = bert/encoder/layer_2/attention/output/LayerNorm/gamma:0, shape = (768,), *INIT_FROM_CKPT*\n"
          ],
          "name": "stdout"
        },
        {
          "output_type": "stream",
          "text": [
            "INFO:tensorflow:  name = bert/encoder/layer_2/attention/output/LayerNorm/gamma:0, shape = (768,), *INIT_FROM_CKPT*\n"
          ],
          "name": "stderr"
        },
        {
          "output_type": "stream",
          "text": [
            "INFO:tensorflow:  name = bert/encoder/layer_2/intermediate/dense/kernel:0, shape = (768, 3072), *INIT_FROM_CKPT*\n"
          ],
          "name": "stdout"
        },
        {
          "output_type": "stream",
          "text": [
            "INFO:tensorflow:  name = bert/encoder/layer_2/intermediate/dense/kernel:0, shape = (768, 3072), *INIT_FROM_CKPT*\n"
          ],
          "name": "stderr"
        },
        {
          "output_type": "stream",
          "text": [
            "INFO:tensorflow:  name = bert/encoder/layer_2/intermediate/dense/bias:0, shape = (3072,), *INIT_FROM_CKPT*\n"
          ],
          "name": "stdout"
        },
        {
          "output_type": "stream",
          "text": [
            "INFO:tensorflow:  name = bert/encoder/layer_2/intermediate/dense/bias:0, shape = (3072,), *INIT_FROM_CKPT*\n"
          ],
          "name": "stderr"
        },
        {
          "output_type": "stream",
          "text": [
            "INFO:tensorflow:  name = bert/encoder/layer_2/output/dense/kernel:0, shape = (3072, 768), *INIT_FROM_CKPT*\n"
          ],
          "name": "stdout"
        },
        {
          "output_type": "stream",
          "text": [
            "INFO:tensorflow:  name = bert/encoder/layer_2/output/dense/kernel:0, shape = (3072, 768), *INIT_FROM_CKPT*\n"
          ],
          "name": "stderr"
        },
        {
          "output_type": "stream",
          "text": [
            "INFO:tensorflow:  name = bert/encoder/layer_2/output/dense/bias:0, shape = (768,), *INIT_FROM_CKPT*\n"
          ],
          "name": "stdout"
        },
        {
          "output_type": "stream",
          "text": [
            "INFO:tensorflow:  name = bert/encoder/layer_2/output/dense/bias:0, shape = (768,), *INIT_FROM_CKPT*\n"
          ],
          "name": "stderr"
        },
        {
          "output_type": "stream",
          "text": [
            "INFO:tensorflow:  name = bert/encoder/layer_2/output/LayerNorm/beta:0, shape = (768,), *INIT_FROM_CKPT*\n"
          ],
          "name": "stdout"
        },
        {
          "output_type": "stream",
          "text": [
            "INFO:tensorflow:  name = bert/encoder/layer_2/output/LayerNorm/beta:0, shape = (768,), *INIT_FROM_CKPT*\n"
          ],
          "name": "stderr"
        },
        {
          "output_type": "stream",
          "text": [
            "INFO:tensorflow:  name = bert/encoder/layer_2/output/LayerNorm/gamma:0, shape = (768,), *INIT_FROM_CKPT*\n"
          ],
          "name": "stdout"
        },
        {
          "output_type": "stream",
          "text": [
            "INFO:tensorflow:  name = bert/encoder/layer_2/output/LayerNorm/gamma:0, shape = (768,), *INIT_FROM_CKPT*\n"
          ],
          "name": "stderr"
        },
        {
          "output_type": "stream",
          "text": [
            "INFO:tensorflow:  name = bert/encoder/layer_3/attention/self/query/kernel:0, shape = (768, 768), *INIT_FROM_CKPT*\n"
          ],
          "name": "stdout"
        },
        {
          "output_type": "stream",
          "text": [
            "INFO:tensorflow:  name = bert/encoder/layer_3/attention/self/query/kernel:0, shape = (768, 768), *INIT_FROM_CKPT*\n"
          ],
          "name": "stderr"
        },
        {
          "output_type": "stream",
          "text": [
            "INFO:tensorflow:  name = bert/encoder/layer_3/attention/self/query/bias:0, shape = (768,), *INIT_FROM_CKPT*\n"
          ],
          "name": "stdout"
        },
        {
          "output_type": "stream",
          "text": [
            "INFO:tensorflow:  name = bert/encoder/layer_3/attention/self/query/bias:0, shape = (768,), *INIT_FROM_CKPT*\n"
          ],
          "name": "stderr"
        },
        {
          "output_type": "stream",
          "text": [
            "INFO:tensorflow:  name = bert/encoder/layer_3/attention/self/key/kernel:0, shape = (768, 768), *INIT_FROM_CKPT*\n"
          ],
          "name": "stdout"
        },
        {
          "output_type": "stream",
          "text": [
            "INFO:tensorflow:  name = bert/encoder/layer_3/attention/self/key/kernel:0, shape = (768, 768), *INIT_FROM_CKPT*\n"
          ],
          "name": "stderr"
        },
        {
          "output_type": "stream",
          "text": [
            "INFO:tensorflow:  name = bert/encoder/layer_3/attention/self/key/bias:0, shape = (768,), *INIT_FROM_CKPT*\n"
          ],
          "name": "stdout"
        },
        {
          "output_type": "stream",
          "text": [
            "INFO:tensorflow:  name = bert/encoder/layer_3/attention/self/key/bias:0, shape = (768,), *INIT_FROM_CKPT*\n"
          ],
          "name": "stderr"
        },
        {
          "output_type": "stream",
          "text": [
            "INFO:tensorflow:  name = bert/encoder/layer_3/attention/self/value/kernel:0, shape = (768, 768), *INIT_FROM_CKPT*\n"
          ],
          "name": "stdout"
        },
        {
          "output_type": "stream",
          "text": [
            "INFO:tensorflow:  name = bert/encoder/layer_3/attention/self/value/kernel:0, shape = (768, 768), *INIT_FROM_CKPT*\n"
          ],
          "name": "stderr"
        },
        {
          "output_type": "stream",
          "text": [
            "INFO:tensorflow:  name = bert/encoder/layer_3/attention/self/value/bias:0, shape = (768,), *INIT_FROM_CKPT*\n"
          ],
          "name": "stdout"
        },
        {
          "output_type": "stream",
          "text": [
            "INFO:tensorflow:  name = bert/encoder/layer_3/attention/self/value/bias:0, shape = (768,), *INIT_FROM_CKPT*\n"
          ],
          "name": "stderr"
        },
        {
          "output_type": "stream",
          "text": [
            "INFO:tensorflow:  name = bert/encoder/layer_3/attention/output/dense/kernel:0, shape = (768, 768), *INIT_FROM_CKPT*\n"
          ],
          "name": "stdout"
        },
        {
          "output_type": "stream",
          "text": [
            "INFO:tensorflow:  name = bert/encoder/layer_3/attention/output/dense/kernel:0, shape = (768, 768), *INIT_FROM_CKPT*\n"
          ],
          "name": "stderr"
        },
        {
          "output_type": "stream",
          "text": [
            "INFO:tensorflow:  name = bert/encoder/layer_3/attention/output/dense/bias:0, shape = (768,), *INIT_FROM_CKPT*\n"
          ],
          "name": "stdout"
        },
        {
          "output_type": "stream",
          "text": [
            "INFO:tensorflow:  name = bert/encoder/layer_3/attention/output/dense/bias:0, shape = (768,), *INIT_FROM_CKPT*\n"
          ],
          "name": "stderr"
        },
        {
          "output_type": "stream",
          "text": [
            "INFO:tensorflow:  name = bert/encoder/layer_3/attention/output/LayerNorm/beta:0, shape = (768,), *INIT_FROM_CKPT*\n"
          ],
          "name": "stdout"
        },
        {
          "output_type": "stream",
          "text": [
            "INFO:tensorflow:  name = bert/encoder/layer_3/attention/output/LayerNorm/beta:0, shape = (768,), *INIT_FROM_CKPT*\n"
          ],
          "name": "stderr"
        },
        {
          "output_type": "stream",
          "text": [
            "INFO:tensorflow:  name = bert/encoder/layer_3/attention/output/LayerNorm/gamma:0, shape = (768,), *INIT_FROM_CKPT*\n"
          ],
          "name": "stdout"
        },
        {
          "output_type": "stream",
          "text": [
            "INFO:tensorflow:  name = bert/encoder/layer_3/attention/output/LayerNorm/gamma:0, shape = (768,), *INIT_FROM_CKPT*\n"
          ],
          "name": "stderr"
        },
        {
          "output_type": "stream",
          "text": [
            "INFO:tensorflow:  name = bert/encoder/layer_3/intermediate/dense/kernel:0, shape = (768, 3072), *INIT_FROM_CKPT*\n"
          ],
          "name": "stdout"
        },
        {
          "output_type": "stream",
          "text": [
            "INFO:tensorflow:  name = bert/encoder/layer_3/intermediate/dense/kernel:0, shape = (768, 3072), *INIT_FROM_CKPT*\n"
          ],
          "name": "stderr"
        },
        {
          "output_type": "stream",
          "text": [
            "INFO:tensorflow:  name = bert/encoder/layer_3/intermediate/dense/bias:0, shape = (3072,), *INIT_FROM_CKPT*\n"
          ],
          "name": "stdout"
        },
        {
          "output_type": "stream",
          "text": [
            "INFO:tensorflow:  name = bert/encoder/layer_3/intermediate/dense/bias:0, shape = (3072,), *INIT_FROM_CKPT*\n"
          ],
          "name": "stderr"
        },
        {
          "output_type": "stream",
          "text": [
            "INFO:tensorflow:  name = bert/encoder/layer_3/output/dense/kernel:0, shape = (3072, 768), *INIT_FROM_CKPT*\n"
          ],
          "name": "stdout"
        },
        {
          "output_type": "stream",
          "text": [
            "INFO:tensorflow:  name = bert/encoder/layer_3/output/dense/kernel:0, shape = (3072, 768), *INIT_FROM_CKPT*\n"
          ],
          "name": "stderr"
        },
        {
          "output_type": "stream",
          "text": [
            "INFO:tensorflow:  name = bert/encoder/layer_3/output/dense/bias:0, shape = (768,), *INIT_FROM_CKPT*\n"
          ],
          "name": "stdout"
        },
        {
          "output_type": "stream",
          "text": [
            "INFO:tensorflow:  name = bert/encoder/layer_3/output/dense/bias:0, shape = (768,), *INIT_FROM_CKPT*\n"
          ],
          "name": "stderr"
        },
        {
          "output_type": "stream",
          "text": [
            "INFO:tensorflow:  name = bert/encoder/layer_3/output/LayerNorm/beta:0, shape = (768,), *INIT_FROM_CKPT*\n"
          ],
          "name": "stdout"
        },
        {
          "output_type": "stream",
          "text": [
            "INFO:tensorflow:  name = bert/encoder/layer_3/output/LayerNorm/beta:0, shape = (768,), *INIT_FROM_CKPT*\n"
          ],
          "name": "stderr"
        },
        {
          "output_type": "stream",
          "text": [
            "INFO:tensorflow:  name = bert/encoder/layer_3/output/LayerNorm/gamma:0, shape = (768,), *INIT_FROM_CKPT*\n"
          ],
          "name": "stdout"
        },
        {
          "output_type": "stream",
          "text": [
            "INFO:tensorflow:  name = bert/encoder/layer_3/output/LayerNorm/gamma:0, shape = (768,), *INIT_FROM_CKPT*\n"
          ],
          "name": "stderr"
        },
        {
          "output_type": "stream",
          "text": [
            "INFO:tensorflow:  name = bert/encoder/layer_4/attention/self/query/kernel:0, shape = (768, 768), *INIT_FROM_CKPT*\n"
          ],
          "name": "stdout"
        },
        {
          "output_type": "stream",
          "text": [
            "INFO:tensorflow:  name = bert/encoder/layer_4/attention/self/query/kernel:0, shape = (768, 768), *INIT_FROM_CKPT*\n"
          ],
          "name": "stderr"
        },
        {
          "output_type": "stream",
          "text": [
            "INFO:tensorflow:  name = bert/encoder/layer_4/attention/self/query/bias:0, shape = (768,), *INIT_FROM_CKPT*\n"
          ],
          "name": "stdout"
        },
        {
          "output_type": "stream",
          "text": [
            "INFO:tensorflow:  name = bert/encoder/layer_4/attention/self/query/bias:0, shape = (768,), *INIT_FROM_CKPT*\n"
          ],
          "name": "stderr"
        },
        {
          "output_type": "stream",
          "text": [
            "INFO:tensorflow:  name = bert/encoder/layer_4/attention/self/key/kernel:0, shape = (768, 768), *INIT_FROM_CKPT*\n"
          ],
          "name": "stdout"
        },
        {
          "output_type": "stream",
          "text": [
            "INFO:tensorflow:  name = bert/encoder/layer_4/attention/self/key/kernel:0, shape = (768, 768), *INIT_FROM_CKPT*\n"
          ],
          "name": "stderr"
        },
        {
          "output_type": "stream",
          "text": [
            "INFO:tensorflow:  name = bert/encoder/layer_4/attention/self/key/bias:0, shape = (768,), *INIT_FROM_CKPT*\n"
          ],
          "name": "stdout"
        },
        {
          "output_type": "stream",
          "text": [
            "INFO:tensorflow:  name = bert/encoder/layer_4/attention/self/key/bias:0, shape = (768,), *INIT_FROM_CKPT*\n"
          ],
          "name": "stderr"
        },
        {
          "output_type": "stream",
          "text": [
            "INFO:tensorflow:  name = bert/encoder/layer_4/attention/self/value/kernel:0, shape = (768, 768), *INIT_FROM_CKPT*\n"
          ],
          "name": "stdout"
        },
        {
          "output_type": "stream",
          "text": [
            "INFO:tensorflow:  name = bert/encoder/layer_4/attention/self/value/kernel:0, shape = (768, 768), *INIT_FROM_CKPT*\n"
          ],
          "name": "stderr"
        },
        {
          "output_type": "stream",
          "text": [
            "INFO:tensorflow:  name = bert/encoder/layer_4/attention/self/value/bias:0, shape = (768,), *INIT_FROM_CKPT*\n"
          ],
          "name": "stdout"
        },
        {
          "output_type": "stream",
          "text": [
            "INFO:tensorflow:  name = bert/encoder/layer_4/attention/self/value/bias:0, shape = (768,), *INIT_FROM_CKPT*\n"
          ],
          "name": "stderr"
        },
        {
          "output_type": "stream",
          "text": [
            "INFO:tensorflow:  name = bert/encoder/layer_4/attention/output/dense/kernel:0, shape = (768, 768), *INIT_FROM_CKPT*\n"
          ],
          "name": "stdout"
        },
        {
          "output_type": "stream",
          "text": [
            "INFO:tensorflow:  name = bert/encoder/layer_4/attention/output/dense/kernel:0, shape = (768, 768), *INIT_FROM_CKPT*\n"
          ],
          "name": "stderr"
        },
        {
          "output_type": "stream",
          "text": [
            "INFO:tensorflow:  name = bert/encoder/layer_4/attention/output/dense/bias:0, shape = (768,), *INIT_FROM_CKPT*\n"
          ],
          "name": "stdout"
        },
        {
          "output_type": "stream",
          "text": [
            "INFO:tensorflow:  name = bert/encoder/layer_4/attention/output/dense/bias:0, shape = (768,), *INIT_FROM_CKPT*\n"
          ],
          "name": "stderr"
        },
        {
          "output_type": "stream",
          "text": [
            "INFO:tensorflow:  name = bert/encoder/layer_4/attention/output/LayerNorm/beta:0, shape = (768,), *INIT_FROM_CKPT*\n"
          ],
          "name": "stdout"
        },
        {
          "output_type": "stream",
          "text": [
            "INFO:tensorflow:  name = bert/encoder/layer_4/attention/output/LayerNorm/beta:0, shape = (768,), *INIT_FROM_CKPT*\n"
          ],
          "name": "stderr"
        },
        {
          "output_type": "stream",
          "text": [
            "INFO:tensorflow:  name = bert/encoder/layer_4/attention/output/LayerNorm/gamma:0, shape = (768,), *INIT_FROM_CKPT*\n"
          ],
          "name": "stdout"
        },
        {
          "output_type": "stream",
          "text": [
            "INFO:tensorflow:  name = bert/encoder/layer_4/attention/output/LayerNorm/gamma:0, shape = (768,), *INIT_FROM_CKPT*\n"
          ],
          "name": "stderr"
        },
        {
          "output_type": "stream",
          "text": [
            "INFO:tensorflow:  name = bert/encoder/layer_4/intermediate/dense/kernel:0, shape = (768, 3072), *INIT_FROM_CKPT*\n"
          ],
          "name": "stdout"
        },
        {
          "output_type": "stream",
          "text": [
            "INFO:tensorflow:  name = bert/encoder/layer_4/intermediate/dense/kernel:0, shape = (768, 3072), *INIT_FROM_CKPT*\n"
          ],
          "name": "stderr"
        },
        {
          "output_type": "stream",
          "text": [
            "INFO:tensorflow:  name = bert/encoder/layer_4/intermediate/dense/bias:0, shape = (3072,), *INIT_FROM_CKPT*\n"
          ],
          "name": "stdout"
        },
        {
          "output_type": "stream",
          "text": [
            "INFO:tensorflow:  name = bert/encoder/layer_4/intermediate/dense/bias:0, shape = (3072,), *INIT_FROM_CKPT*\n"
          ],
          "name": "stderr"
        },
        {
          "output_type": "stream",
          "text": [
            "INFO:tensorflow:  name = bert/encoder/layer_4/output/dense/kernel:0, shape = (3072, 768), *INIT_FROM_CKPT*\n"
          ],
          "name": "stdout"
        },
        {
          "output_type": "stream",
          "text": [
            "INFO:tensorflow:  name = bert/encoder/layer_4/output/dense/kernel:0, shape = (3072, 768), *INIT_FROM_CKPT*\n"
          ],
          "name": "stderr"
        },
        {
          "output_type": "stream",
          "text": [
            "INFO:tensorflow:  name = bert/encoder/layer_4/output/dense/bias:0, shape = (768,), *INIT_FROM_CKPT*\n"
          ],
          "name": "stdout"
        },
        {
          "output_type": "stream",
          "text": [
            "INFO:tensorflow:  name = bert/encoder/layer_4/output/dense/bias:0, shape = (768,), *INIT_FROM_CKPT*\n"
          ],
          "name": "stderr"
        },
        {
          "output_type": "stream",
          "text": [
            "INFO:tensorflow:  name = bert/encoder/layer_4/output/LayerNorm/beta:0, shape = (768,), *INIT_FROM_CKPT*\n"
          ],
          "name": "stdout"
        },
        {
          "output_type": "stream",
          "text": [
            "INFO:tensorflow:  name = bert/encoder/layer_4/output/LayerNorm/beta:0, shape = (768,), *INIT_FROM_CKPT*\n"
          ],
          "name": "stderr"
        },
        {
          "output_type": "stream",
          "text": [
            "INFO:tensorflow:  name = bert/encoder/layer_4/output/LayerNorm/gamma:0, shape = (768,), *INIT_FROM_CKPT*\n"
          ],
          "name": "stdout"
        },
        {
          "output_type": "stream",
          "text": [
            "INFO:tensorflow:  name = bert/encoder/layer_4/output/LayerNorm/gamma:0, shape = (768,), *INIT_FROM_CKPT*\n"
          ],
          "name": "stderr"
        },
        {
          "output_type": "stream",
          "text": [
            "INFO:tensorflow:  name = bert/encoder/layer_5/attention/self/query/kernel:0, shape = (768, 768), *INIT_FROM_CKPT*\n"
          ],
          "name": "stdout"
        },
        {
          "output_type": "stream",
          "text": [
            "INFO:tensorflow:  name = bert/encoder/layer_5/attention/self/query/kernel:0, shape = (768, 768), *INIT_FROM_CKPT*\n"
          ],
          "name": "stderr"
        },
        {
          "output_type": "stream",
          "text": [
            "INFO:tensorflow:  name = bert/encoder/layer_5/attention/self/query/bias:0, shape = (768,), *INIT_FROM_CKPT*\n"
          ],
          "name": "stdout"
        },
        {
          "output_type": "stream",
          "text": [
            "INFO:tensorflow:  name = bert/encoder/layer_5/attention/self/query/bias:0, shape = (768,), *INIT_FROM_CKPT*\n"
          ],
          "name": "stderr"
        },
        {
          "output_type": "stream",
          "text": [
            "INFO:tensorflow:  name = bert/encoder/layer_5/attention/self/key/kernel:0, shape = (768, 768), *INIT_FROM_CKPT*\n"
          ],
          "name": "stdout"
        },
        {
          "output_type": "stream",
          "text": [
            "INFO:tensorflow:  name = bert/encoder/layer_5/attention/self/key/kernel:0, shape = (768, 768), *INIT_FROM_CKPT*\n"
          ],
          "name": "stderr"
        },
        {
          "output_type": "stream",
          "text": [
            "INFO:tensorflow:  name = bert/encoder/layer_5/attention/self/key/bias:0, shape = (768,), *INIT_FROM_CKPT*\n"
          ],
          "name": "stdout"
        },
        {
          "output_type": "stream",
          "text": [
            "INFO:tensorflow:  name = bert/encoder/layer_5/attention/self/key/bias:0, shape = (768,), *INIT_FROM_CKPT*\n"
          ],
          "name": "stderr"
        },
        {
          "output_type": "stream",
          "text": [
            "INFO:tensorflow:  name = bert/encoder/layer_5/attention/self/value/kernel:0, shape = (768, 768), *INIT_FROM_CKPT*\n"
          ],
          "name": "stdout"
        },
        {
          "output_type": "stream",
          "text": [
            "INFO:tensorflow:  name = bert/encoder/layer_5/attention/self/value/kernel:0, shape = (768, 768), *INIT_FROM_CKPT*\n"
          ],
          "name": "stderr"
        },
        {
          "output_type": "stream",
          "text": [
            "INFO:tensorflow:  name = bert/encoder/layer_5/attention/self/value/bias:0, shape = (768,), *INIT_FROM_CKPT*\n"
          ],
          "name": "stdout"
        },
        {
          "output_type": "stream",
          "text": [
            "INFO:tensorflow:  name = bert/encoder/layer_5/attention/self/value/bias:0, shape = (768,), *INIT_FROM_CKPT*\n"
          ],
          "name": "stderr"
        },
        {
          "output_type": "stream",
          "text": [
            "INFO:tensorflow:  name = bert/encoder/layer_5/attention/output/dense/kernel:0, shape = (768, 768), *INIT_FROM_CKPT*\n"
          ],
          "name": "stdout"
        },
        {
          "output_type": "stream",
          "text": [
            "INFO:tensorflow:  name = bert/encoder/layer_5/attention/output/dense/kernel:0, shape = (768, 768), *INIT_FROM_CKPT*\n"
          ],
          "name": "stderr"
        },
        {
          "output_type": "stream",
          "text": [
            "INFO:tensorflow:  name = bert/encoder/layer_5/attention/output/dense/bias:0, shape = (768,), *INIT_FROM_CKPT*\n"
          ],
          "name": "stdout"
        },
        {
          "output_type": "stream",
          "text": [
            "INFO:tensorflow:  name = bert/encoder/layer_5/attention/output/dense/bias:0, shape = (768,), *INIT_FROM_CKPT*\n"
          ],
          "name": "stderr"
        },
        {
          "output_type": "stream",
          "text": [
            "INFO:tensorflow:  name = bert/encoder/layer_5/attention/output/LayerNorm/beta:0, shape = (768,), *INIT_FROM_CKPT*\n"
          ],
          "name": "stdout"
        },
        {
          "output_type": "stream",
          "text": [
            "INFO:tensorflow:  name = bert/encoder/layer_5/attention/output/LayerNorm/beta:0, shape = (768,), *INIT_FROM_CKPT*\n"
          ],
          "name": "stderr"
        },
        {
          "output_type": "stream",
          "text": [
            "INFO:tensorflow:  name = bert/encoder/layer_5/attention/output/LayerNorm/gamma:0, shape = (768,), *INIT_FROM_CKPT*\n"
          ],
          "name": "stdout"
        },
        {
          "output_type": "stream",
          "text": [
            "INFO:tensorflow:  name = bert/encoder/layer_5/attention/output/LayerNorm/gamma:0, shape = (768,), *INIT_FROM_CKPT*\n"
          ],
          "name": "stderr"
        },
        {
          "output_type": "stream",
          "text": [
            "INFO:tensorflow:  name = bert/encoder/layer_5/intermediate/dense/kernel:0, shape = (768, 3072), *INIT_FROM_CKPT*\n"
          ],
          "name": "stdout"
        },
        {
          "output_type": "stream",
          "text": [
            "INFO:tensorflow:  name = bert/encoder/layer_5/intermediate/dense/kernel:0, shape = (768, 3072), *INIT_FROM_CKPT*\n"
          ],
          "name": "stderr"
        },
        {
          "output_type": "stream",
          "text": [
            "INFO:tensorflow:  name = bert/encoder/layer_5/intermediate/dense/bias:0, shape = (3072,), *INIT_FROM_CKPT*\n"
          ],
          "name": "stdout"
        },
        {
          "output_type": "stream",
          "text": [
            "INFO:tensorflow:  name = bert/encoder/layer_5/intermediate/dense/bias:0, shape = (3072,), *INIT_FROM_CKPT*\n"
          ],
          "name": "stderr"
        },
        {
          "output_type": "stream",
          "text": [
            "INFO:tensorflow:  name = bert/encoder/layer_5/output/dense/kernel:0, shape = (3072, 768), *INIT_FROM_CKPT*\n"
          ],
          "name": "stdout"
        },
        {
          "output_type": "stream",
          "text": [
            "INFO:tensorflow:  name = bert/encoder/layer_5/output/dense/kernel:0, shape = (3072, 768), *INIT_FROM_CKPT*\n"
          ],
          "name": "stderr"
        },
        {
          "output_type": "stream",
          "text": [
            "INFO:tensorflow:  name = bert/encoder/layer_5/output/dense/bias:0, shape = (768,), *INIT_FROM_CKPT*\n"
          ],
          "name": "stdout"
        },
        {
          "output_type": "stream",
          "text": [
            "INFO:tensorflow:  name = bert/encoder/layer_5/output/dense/bias:0, shape = (768,), *INIT_FROM_CKPT*\n"
          ],
          "name": "stderr"
        },
        {
          "output_type": "stream",
          "text": [
            "INFO:tensorflow:  name = bert/encoder/layer_5/output/LayerNorm/beta:0, shape = (768,), *INIT_FROM_CKPT*\n"
          ],
          "name": "stdout"
        },
        {
          "output_type": "stream",
          "text": [
            "INFO:tensorflow:  name = bert/encoder/layer_5/output/LayerNorm/beta:0, shape = (768,), *INIT_FROM_CKPT*\n"
          ],
          "name": "stderr"
        },
        {
          "output_type": "stream",
          "text": [
            "INFO:tensorflow:  name = bert/encoder/layer_5/output/LayerNorm/gamma:0, shape = (768,), *INIT_FROM_CKPT*\n"
          ],
          "name": "stdout"
        },
        {
          "output_type": "stream",
          "text": [
            "INFO:tensorflow:  name = bert/encoder/layer_5/output/LayerNorm/gamma:0, shape = (768,), *INIT_FROM_CKPT*\n"
          ],
          "name": "stderr"
        },
        {
          "output_type": "stream",
          "text": [
            "INFO:tensorflow:  name = bert/encoder/layer_6/attention/self/query/kernel:0, shape = (768, 768), *INIT_FROM_CKPT*\n"
          ],
          "name": "stdout"
        },
        {
          "output_type": "stream",
          "text": [
            "INFO:tensorflow:  name = bert/encoder/layer_6/attention/self/query/kernel:0, shape = (768, 768), *INIT_FROM_CKPT*\n"
          ],
          "name": "stderr"
        },
        {
          "output_type": "stream",
          "text": [
            "INFO:tensorflow:  name = bert/encoder/layer_6/attention/self/query/bias:0, shape = (768,), *INIT_FROM_CKPT*\n"
          ],
          "name": "stdout"
        },
        {
          "output_type": "stream",
          "text": [
            "INFO:tensorflow:  name = bert/encoder/layer_6/attention/self/query/bias:0, shape = (768,), *INIT_FROM_CKPT*\n"
          ],
          "name": "stderr"
        },
        {
          "output_type": "stream",
          "text": [
            "INFO:tensorflow:  name = bert/encoder/layer_6/attention/self/key/kernel:0, shape = (768, 768), *INIT_FROM_CKPT*\n"
          ],
          "name": "stdout"
        },
        {
          "output_type": "stream",
          "text": [
            "INFO:tensorflow:  name = bert/encoder/layer_6/attention/self/key/kernel:0, shape = (768, 768), *INIT_FROM_CKPT*\n"
          ],
          "name": "stderr"
        },
        {
          "output_type": "stream",
          "text": [
            "INFO:tensorflow:  name = bert/encoder/layer_6/attention/self/key/bias:0, shape = (768,), *INIT_FROM_CKPT*\n"
          ],
          "name": "stdout"
        },
        {
          "output_type": "stream",
          "text": [
            "INFO:tensorflow:  name = bert/encoder/layer_6/attention/self/key/bias:0, shape = (768,), *INIT_FROM_CKPT*\n"
          ],
          "name": "stderr"
        },
        {
          "output_type": "stream",
          "text": [
            "INFO:tensorflow:  name = bert/encoder/layer_6/attention/self/value/kernel:0, shape = (768, 768), *INIT_FROM_CKPT*\n"
          ],
          "name": "stdout"
        },
        {
          "output_type": "stream",
          "text": [
            "INFO:tensorflow:  name = bert/encoder/layer_6/attention/self/value/kernel:0, shape = (768, 768), *INIT_FROM_CKPT*\n"
          ],
          "name": "stderr"
        },
        {
          "output_type": "stream",
          "text": [
            "INFO:tensorflow:  name = bert/encoder/layer_6/attention/self/value/bias:0, shape = (768,), *INIT_FROM_CKPT*\n"
          ],
          "name": "stdout"
        },
        {
          "output_type": "stream",
          "text": [
            "INFO:tensorflow:  name = bert/encoder/layer_6/attention/self/value/bias:0, shape = (768,), *INIT_FROM_CKPT*\n"
          ],
          "name": "stderr"
        },
        {
          "output_type": "stream",
          "text": [
            "INFO:tensorflow:  name = bert/encoder/layer_6/attention/output/dense/kernel:0, shape = (768, 768), *INIT_FROM_CKPT*\n"
          ],
          "name": "stdout"
        },
        {
          "output_type": "stream",
          "text": [
            "INFO:tensorflow:  name = bert/encoder/layer_6/attention/output/dense/kernel:0, shape = (768, 768), *INIT_FROM_CKPT*\n"
          ],
          "name": "stderr"
        },
        {
          "output_type": "stream",
          "text": [
            "INFO:tensorflow:  name = bert/encoder/layer_6/attention/output/dense/bias:0, shape = (768,), *INIT_FROM_CKPT*\n"
          ],
          "name": "stdout"
        },
        {
          "output_type": "stream",
          "text": [
            "INFO:tensorflow:  name = bert/encoder/layer_6/attention/output/dense/bias:0, shape = (768,), *INIT_FROM_CKPT*\n"
          ],
          "name": "stderr"
        },
        {
          "output_type": "stream",
          "text": [
            "INFO:tensorflow:  name = bert/encoder/layer_6/attention/output/LayerNorm/beta:0, shape = (768,), *INIT_FROM_CKPT*\n"
          ],
          "name": "stdout"
        },
        {
          "output_type": "stream",
          "text": [
            "INFO:tensorflow:  name = bert/encoder/layer_6/attention/output/LayerNorm/beta:0, shape = (768,), *INIT_FROM_CKPT*\n"
          ],
          "name": "stderr"
        },
        {
          "output_type": "stream",
          "text": [
            "INFO:tensorflow:  name = bert/encoder/layer_6/attention/output/LayerNorm/gamma:0, shape = (768,), *INIT_FROM_CKPT*\n"
          ],
          "name": "stdout"
        },
        {
          "output_type": "stream",
          "text": [
            "INFO:tensorflow:  name = bert/encoder/layer_6/attention/output/LayerNorm/gamma:0, shape = (768,), *INIT_FROM_CKPT*\n"
          ],
          "name": "stderr"
        },
        {
          "output_type": "stream",
          "text": [
            "INFO:tensorflow:  name = bert/encoder/layer_6/intermediate/dense/kernel:0, shape = (768, 3072), *INIT_FROM_CKPT*\n"
          ],
          "name": "stdout"
        },
        {
          "output_type": "stream",
          "text": [
            "INFO:tensorflow:  name = bert/encoder/layer_6/intermediate/dense/kernel:0, shape = (768, 3072), *INIT_FROM_CKPT*\n"
          ],
          "name": "stderr"
        },
        {
          "output_type": "stream",
          "text": [
            "INFO:tensorflow:  name = bert/encoder/layer_6/intermediate/dense/bias:0, shape = (3072,), *INIT_FROM_CKPT*\n"
          ],
          "name": "stdout"
        },
        {
          "output_type": "stream",
          "text": [
            "INFO:tensorflow:  name = bert/encoder/layer_6/intermediate/dense/bias:0, shape = (3072,), *INIT_FROM_CKPT*\n"
          ],
          "name": "stderr"
        },
        {
          "output_type": "stream",
          "text": [
            "INFO:tensorflow:  name = bert/encoder/layer_6/output/dense/kernel:0, shape = (3072, 768), *INIT_FROM_CKPT*\n"
          ],
          "name": "stdout"
        },
        {
          "output_type": "stream",
          "text": [
            "INFO:tensorflow:  name = bert/encoder/layer_6/output/dense/kernel:0, shape = (3072, 768), *INIT_FROM_CKPT*\n"
          ],
          "name": "stderr"
        },
        {
          "output_type": "stream",
          "text": [
            "INFO:tensorflow:  name = bert/encoder/layer_6/output/dense/bias:0, shape = (768,), *INIT_FROM_CKPT*\n"
          ],
          "name": "stdout"
        },
        {
          "output_type": "stream",
          "text": [
            "INFO:tensorflow:  name = bert/encoder/layer_6/output/dense/bias:0, shape = (768,), *INIT_FROM_CKPT*\n"
          ],
          "name": "stderr"
        },
        {
          "output_type": "stream",
          "text": [
            "INFO:tensorflow:  name = bert/encoder/layer_6/output/LayerNorm/beta:0, shape = (768,), *INIT_FROM_CKPT*\n"
          ],
          "name": "stdout"
        },
        {
          "output_type": "stream",
          "text": [
            "INFO:tensorflow:  name = bert/encoder/layer_6/output/LayerNorm/beta:0, shape = (768,), *INIT_FROM_CKPT*\n"
          ],
          "name": "stderr"
        },
        {
          "output_type": "stream",
          "text": [
            "INFO:tensorflow:  name = bert/encoder/layer_6/output/LayerNorm/gamma:0, shape = (768,), *INIT_FROM_CKPT*\n"
          ],
          "name": "stdout"
        },
        {
          "output_type": "stream",
          "text": [
            "INFO:tensorflow:  name = bert/encoder/layer_6/output/LayerNorm/gamma:0, shape = (768,), *INIT_FROM_CKPT*\n"
          ],
          "name": "stderr"
        },
        {
          "output_type": "stream",
          "text": [
            "INFO:tensorflow:  name = bert/encoder/layer_7/attention/self/query/kernel:0, shape = (768, 768), *INIT_FROM_CKPT*\n"
          ],
          "name": "stdout"
        },
        {
          "output_type": "stream",
          "text": [
            "INFO:tensorflow:  name = bert/encoder/layer_7/attention/self/query/kernel:0, shape = (768, 768), *INIT_FROM_CKPT*\n"
          ],
          "name": "stderr"
        },
        {
          "output_type": "stream",
          "text": [
            "INFO:tensorflow:  name = bert/encoder/layer_7/attention/self/query/bias:0, shape = (768,), *INIT_FROM_CKPT*\n"
          ],
          "name": "stdout"
        },
        {
          "output_type": "stream",
          "text": [
            "INFO:tensorflow:  name = bert/encoder/layer_7/attention/self/query/bias:0, shape = (768,), *INIT_FROM_CKPT*\n"
          ],
          "name": "stderr"
        },
        {
          "output_type": "stream",
          "text": [
            "INFO:tensorflow:  name = bert/encoder/layer_7/attention/self/key/kernel:0, shape = (768, 768), *INIT_FROM_CKPT*\n"
          ],
          "name": "stdout"
        },
        {
          "output_type": "stream",
          "text": [
            "INFO:tensorflow:  name = bert/encoder/layer_7/attention/self/key/kernel:0, shape = (768, 768), *INIT_FROM_CKPT*\n"
          ],
          "name": "stderr"
        },
        {
          "output_type": "stream",
          "text": [
            "INFO:tensorflow:  name = bert/encoder/layer_7/attention/self/key/bias:0, shape = (768,), *INIT_FROM_CKPT*\n"
          ],
          "name": "stdout"
        },
        {
          "output_type": "stream",
          "text": [
            "INFO:tensorflow:  name = bert/encoder/layer_7/attention/self/key/bias:0, shape = (768,), *INIT_FROM_CKPT*\n"
          ],
          "name": "stderr"
        },
        {
          "output_type": "stream",
          "text": [
            "INFO:tensorflow:  name = bert/encoder/layer_7/attention/self/value/kernel:0, shape = (768, 768), *INIT_FROM_CKPT*\n"
          ],
          "name": "stdout"
        },
        {
          "output_type": "stream",
          "text": [
            "INFO:tensorflow:  name = bert/encoder/layer_7/attention/self/value/kernel:0, shape = (768, 768), *INIT_FROM_CKPT*\n"
          ],
          "name": "stderr"
        },
        {
          "output_type": "stream",
          "text": [
            "INFO:tensorflow:  name = bert/encoder/layer_7/attention/self/value/bias:0, shape = (768,), *INIT_FROM_CKPT*\n"
          ],
          "name": "stdout"
        },
        {
          "output_type": "stream",
          "text": [
            "INFO:tensorflow:  name = bert/encoder/layer_7/attention/self/value/bias:0, shape = (768,), *INIT_FROM_CKPT*\n"
          ],
          "name": "stderr"
        },
        {
          "output_type": "stream",
          "text": [
            "INFO:tensorflow:  name = bert/encoder/layer_7/attention/output/dense/kernel:0, shape = (768, 768), *INIT_FROM_CKPT*\n"
          ],
          "name": "stdout"
        },
        {
          "output_type": "stream",
          "text": [
            "INFO:tensorflow:  name = bert/encoder/layer_7/attention/output/dense/kernel:0, shape = (768, 768), *INIT_FROM_CKPT*\n"
          ],
          "name": "stderr"
        },
        {
          "output_type": "stream",
          "text": [
            "INFO:tensorflow:  name = bert/encoder/layer_7/attention/output/dense/bias:0, shape = (768,), *INIT_FROM_CKPT*\n"
          ],
          "name": "stdout"
        },
        {
          "output_type": "stream",
          "text": [
            "INFO:tensorflow:  name = bert/encoder/layer_7/attention/output/dense/bias:0, shape = (768,), *INIT_FROM_CKPT*\n"
          ],
          "name": "stderr"
        },
        {
          "output_type": "stream",
          "text": [
            "INFO:tensorflow:  name = bert/encoder/layer_7/attention/output/LayerNorm/beta:0, shape = (768,), *INIT_FROM_CKPT*\n"
          ],
          "name": "stdout"
        },
        {
          "output_type": "stream",
          "text": [
            "INFO:tensorflow:  name = bert/encoder/layer_7/attention/output/LayerNorm/beta:0, shape = (768,), *INIT_FROM_CKPT*\n"
          ],
          "name": "stderr"
        },
        {
          "output_type": "stream",
          "text": [
            "INFO:tensorflow:  name = bert/encoder/layer_7/attention/output/LayerNorm/gamma:0, shape = (768,), *INIT_FROM_CKPT*\n"
          ],
          "name": "stdout"
        },
        {
          "output_type": "stream",
          "text": [
            "INFO:tensorflow:  name = bert/encoder/layer_7/attention/output/LayerNorm/gamma:0, shape = (768,), *INIT_FROM_CKPT*\n"
          ],
          "name": "stderr"
        },
        {
          "output_type": "stream",
          "text": [
            "INFO:tensorflow:  name = bert/encoder/layer_7/intermediate/dense/kernel:0, shape = (768, 3072), *INIT_FROM_CKPT*\n"
          ],
          "name": "stdout"
        },
        {
          "output_type": "stream",
          "text": [
            "INFO:tensorflow:  name = bert/encoder/layer_7/intermediate/dense/kernel:0, shape = (768, 3072), *INIT_FROM_CKPT*\n"
          ],
          "name": "stderr"
        },
        {
          "output_type": "stream",
          "text": [
            "INFO:tensorflow:  name = bert/encoder/layer_7/intermediate/dense/bias:0, shape = (3072,), *INIT_FROM_CKPT*\n"
          ],
          "name": "stdout"
        },
        {
          "output_type": "stream",
          "text": [
            "INFO:tensorflow:  name = bert/encoder/layer_7/intermediate/dense/bias:0, shape = (3072,), *INIT_FROM_CKPT*\n"
          ],
          "name": "stderr"
        },
        {
          "output_type": "stream",
          "text": [
            "INFO:tensorflow:  name = bert/encoder/layer_7/output/dense/kernel:0, shape = (3072, 768), *INIT_FROM_CKPT*\n"
          ],
          "name": "stdout"
        },
        {
          "output_type": "stream",
          "text": [
            "INFO:tensorflow:  name = bert/encoder/layer_7/output/dense/kernel:0, shape = (3072, 768), *INIT_FROM_CKPT*\n"
          ],
          "name": "stderr"
        },
        {
          "output_type": "stream",
          "text": [
            "INFO:tensorflow:  name = bert/encoder/layer_7/output/dense/bias:0, shape = (768,), *INIT_FROM_CKPT*\n"
          ],
          "name": "stdout"
        },
        {
          "output_type": "stream",
          "text": [
            "INFO:tensorflow:  name = bert/encoder/layer_7/output/dense/bias:0, shape = (768,), *INIT_FROM_CKPT*\n"
          ],
          "name": "stderr"
        },
        {
          "output_type": "stream",
          "text": [
            "INFO:tensorflow:  name = bert/encoder/layer_7/output/LayerNorm/beta:0, shape = (768,), *INIT_FROM_CKPT*\n"
          ],
          "name": "stdout"
        },
        {
          "output_type": "stream",
          "text": [
            "INFO:tensorflow:  name = bert/encoder/layer_7/output/LayerNorm/beta:0, shape = (768,), *INIT_FROM_CKPT*\n"
          ],
          "name": "stderr"
        },
        {
          "output_type": "stream",
          "text": [
            "INFO:tensorflow:  name = bert/encoder/layer_7/output/LayerNorm/gamma:0, shape = (768,), *INIT_FROM_CKPT*\n"
          ],
          "name": "stdout"
        },
        {
          "output_type": "stream",
          "text": [
            "INFO:tensorflow:  name = bert/encoder/layer_7/output/LayerNorm/gamma:0, shape = (768,), *INIT_FROM_CKPT*\n"
          ],
          "name": "stderr"
        },
        {
          "output_type": "stream",
          "text": [
            "INFO:tensorflow:  name = bert/encoder/layer_8/attention/self/query/kernel:0, shape = (768, 768), *INIT_FROM_CKPT*\n"
          ],
          "name": "stdout"
        },
        {
          "output_type": "stream",
          "text": [
            "INFO:tensorflow:  name = bert/encoder/layer_8/attention/self/query/kernel:0, shape = (768, 768), *INIT_FROM_CKPT*\n"
          ],
          "name": "stderr"
        },
        {
          "output_type": "stream",
          "text": [
            "INFO:tensorflow:  name = bert/encoder/layer_8/attention/self/query/bias:0, shape = (768,), *INIT_FROM_CKPT*\n"
          ],
          "name": "stdout"
        },
        {
          "output_type": "stream",
          "text": [
            "INFO:tensorflow:  name = bert/encoder/layer_8/attention/self/query/bias:0, shape = (768,), *INIT_FROM_CKPT*\n"
          ],
          "name": "stderr"
        },
        {
          "output_type": "stream",
          "text": [
            "INFO:tensorflow:  name = bert/encoder/layer_8/attention/self/key/kernel:0, shape = (768, 768), *INIT_FROM_CKPT*\n"
          ],
          "name": "stdout"
        },
        {
          "output_type": "stream",
          "text": [
            "INFO:tensorflow:  name = bert/encoder/layer_8/attention/self/key/kernel:0, shape = (768, 768), *INIT_FROM_CKPT*\n"
          ],
          "name": "stderr"
        },
        {
          "output_type": "stream",
          "text": [
            "INFO:tensorflow:  name = bert/encoder/layer_8/attention/self/key/bias:0, shape = (768,), *INIT_FROM_CKPT*\n"
          ],
          "name": "stdout"
        },
        {
          "output_type": "stream",
          "text": [
            "INFO:tensorflow:  name = bert/encoder/layer_8/attention/self/key/bias:0, shape = (768,), *INIT_FROM_CKPT*\n"
          ],
          "name": "stderr"
        },
        {
          "output_type": "stream",
          "text": [
            "INFO:tensorflow:  name = bert/encoder/layer_8/attention/self/value/kernel:0, shape = (768, 768), *INIT_FROM_CKPT*\n"
          ],
          "name": "stdout"
        },
        {
          "output_type": "stream",
          "text": [
            "INFO:tensorflow:  name = bert/encoder/layer_8/attention/self/value/kernel:0, shape = (768, 768), *INIT_FROM_CKPT*\n"
          ],
          "name": "stderr"
        },
        {
          "output_type": "stream",
          "text": [
            "INFO:tensorflow:  name = bert/encoder/layer_8/attention/self/value/bias:0, shape = (768,), *INIT_FROM_CKPT*\n"
          ],
          "name": "stdout"
        },
        {
          "output_type": "stream",
          "text": [
            "INFO:tensorflow:  name = bert/encoder/layer_8/attention/self/value/bias:0, shape = (768,), *INIT_FROM_CKPT*\n"
          ],
          "name": "stderr"
        },
        {
          "output_type": "stream",
          "text": [
            "INFO:tensorflow:  name = bert/encoder/layer_8/attention/output/dense/kernel:0, shape = (768, 768), *INIT_FROM_CKPT*\n"
          ],
          "name": "stdout"
        },
        {
          "output_type": "stream",
          "text": [
            "INFO:tensorflow:  name = bert/encoder/layer_8/attention/output/dense/kernel:0, shape = (768, 768), *INIT_FROM_CKPT*\n"
          ],
          "name": "stderr"
        },
        {
          "output_type": "stream",
          "text": [
            "INFO:tensorflow:  name = bert/encoder/layer_8/attention/output/dense/bias:0, shape = (768,), *INIT_FROM_CKPT*\n"
          ],
          "name": "stdout"
        },
        {
          "output_type": "stream",
          "text": [
            "INFO:tensorflow:  name = bert/encoder/layer_8/attention/output/dense/bias:0, shape = (768,), *INIT_FROM_CKPT*\n"
          ],
          "name": "stderr"
        },
        {
          "output_type": "stream",
          "text": [
            "INFO:tensorflow:  name = bert/encoder/layer_8/attention/output/LayerNorm/beta:0, shape = (768,), *INIT_FROM_CKPT*\n"
          ],
          "name": "stdout"
        },
        {
          "output_type": "stream",
          "text": [
            "INFO:tensorflow:  name = bert/encoder/layer_8/attention/output/LayerNorm/beta:0, shape = (768,), *INIT_FROM_CKPT*\n"
          ],
          "name": "stderr"
        },
        {
          "output_type": "stream",
          "text": [
            "INFO:tensorflow:  name = bert/encoder/layer_8/attention/output/LayerNorm/gamma:0, shape = (768,), *INIT_FROM_CKPT*\n"
          ],
          "name": "stdout"
        },
        {
          "output_type": "stream",
          "text": [
            "INFO:tensorflow:  name = bert/encoder/layer_8/attention/output/LayerNorm/gamma:0, shape = (768,), *INIT_FROM_CKPT*\n"
          ],
          "name": "stderr"
        },
        {
          "output_type": "stream",
          "text": [
            "INFO:tensorflow:  name = bert/encoder/layer_8/intermediate/dense/kernel:0, shape = (768, 3072), *INIT_FROM_CKPT*\n"
          ],
          "name": "stdout"
        },
        {
          "output_type": "stream",
          "text": [
            "INFO:tensorflow:  name = bert/encoder/layer_8/intermediate/dense/kernel:0, shape = (768, 3072), *INIT_FROM_CKPT*\n"
          ],
          "name": "stderr"
        },
        {
          "output_type": "stream",
          "text": [
            "INFO:tensorflow:  name = bert/encoder/layer_8/intermediate/dense/bias:0, shape = (3072,), *INIT_FROM_CKPT*\n"
          ],
          "name": "stdout"
        },
        {
          "output_type": "stream",
          "text": [
            "INFO:tensorflow:  name = bert/encoder/layer_8/intermediate/dense/bias:0, shape = (3072,), *INIT_FROM_CKPT*\n"
          ],
          "name": "stderr"
        },
        {
          "output_type": "stream",
          "text": [
            "INFO:tensorflow:  name = bert/encoder/layer_8/output/dense/kernel:0, shape = (3072, 768), *INIT_FROM_CKPT*\n"
          ],
          "name": "stdout"
        },
        {
          "output_type": "stream",
          "text": [
            "INFO:tensorflow:  name = bert/encoder/layer_8/output/dense/kernel:0, shape = (3072, 768), *INIT_FROM_CKPT*\n"
          ],
          "name": "stderr"
        },
        {
          "output_type": "stream",
          "text": [
            "INFO:tensorflow:  name = bert/encoder/layer_8/output/dense/bias:0, shape = (768,), *INIT_FROM_CKPT*\n"
          ],
          "name": "stdout"
        },
        {
          "output_type": "stream",
          "text": [
            "INFO:tensorflow:  name = bert/encoder/layer_8/output/dense/bias:0, shape = (768,), *INIT_FROM_CKPT*\n"
          ],
          "name": "stderr"
        },
        {
          "output_type": "stream",
          "text": [
            "INFO:tensorflow:  name = bert/encoder/layer_8/output/LayerNorm/beta:0, shape = (768,), *INIT_FROM_CKPT*\n"
          ],
          "name": "stdout"
        },
        {
          "output_type": "stream",
          "text": [
            "INFO:tensorflow:  name = bert/encoder/layer_8/output/LayerNorm/beta:0, shape = (768,), *INIT_FROM_CKPT*\n"
          ],
          "name": "stderr"
        },
        {
          "output_type": "stream",
          "text": [
            "INFO:tensorflow:  name = bert/encoder/layer_8/output/LayerNorm/gamma:0, shape = (768,), *INIT_FROM_CKPT*\n"
          ],
          "name": "stdout"
        },
        {
          "output_type": "stream",
          "text": [
            "INFO:tensorflow:  name = bert/encoder/layer_8/output/LayerNorm/gamma:0, shape = (768,), *INIT_FROM_CKPT*\n"
          ],
          "name": "stderr"
        },
        {
          "output_type": "stream",
          "text": [
            "INFO:tensorflow:  name = bert/encoder/layer_9/attention/self/query/kernel:0, shape = (768, 768), *INIT_FROM_CKPT*\n"
          ],
          "name": "stdout"
        },
        {
          "output_type": "stream",
          "text": [
            "INFO:tensorflow:  name = bert/encoder/layer_9/attention/self/query/kernel:0, shape = (768, 768), *INIT_FROM_CKPT*\n"
          ],
          "name": "stderr"
        },
        {
          "output_type": "stream",
          "text": [
            "INFO:tensorflow:  name = bert/encoder/layer_9/attention/self/query/bias:0, shape = (768,), *INIT_FROM_CKPT*\n"
          ],
          "name": "stdout"
        },
        {
          "output_type": "stream",
          "text": [
            "INFO:tensorflow:  name = bert/encoder/layer_9/attention/self/query/bias:0, shape = (768,), *INIT_FROM_CKPT*\n"
          ],
          "name": "stderr"
        },
        {
          "output_type": "stream",
          "text": [
            "INFO:tensorflow:  name = bert/encoder/layer_9/attention/self/key/kernel:0, shape = (768, 768), *INIT_FROM_CKPT*\n"
          ],
          "name": "stdout"
        },
        {
          "output_type": "stream",
          "text": [
            "INFO:tensorflow:  name = bert/encoder/layer_9/attention/self/key/kernel:0, shape = (768, 768), *INIT_FROM_CKPT*\n"
          ],
          "name": "stderr"
        },
        {
          "output_type": "stream",
          "text": [
            "INFO:tensorflow:  name = bert/encoder/layer_9/attention/self/key/bias:0, shape = (768,), *INIT_FROM_CKPT*\n"
          ],
          "name": "stdout"
        },
        {
          "output_type": "stream",
          "text": [
            "INFO:tensorflow:  name = bert/encoder/layer_9/attention/self/key/bias:0, shape = (768,), *INIT_FROM_CKPT*\n"
          ],
          "name": "stderr"
        },
        {
          "output_type": "stream",
          "text": [
            "INFO:tensorflow:  name = bert/encoder/layer_9/attention/self/value/kernel:0, shape = (768, 768), *INIT_FROM_CKPT*\n"
          ],
          "name": "stdout"
        },
        {
          "output_type": "stream",
          "text": [
            "INFO:tensorflow:  name = bert/encoder/layer_9/attention/self/value/kernel:0, shape = (768, 768), *INIT_FROM_CKPT*\n"
          ],
          "name": "stderr"
        },
        {
          "output_type": "stream",
          "text": [
            "INFO:tensorflow:  name = bert/encoder/layer_9/attention/self/value/bias:0, shape = (768,), *INIT_FROM_CKPT*\n"
          ],
          "name": "stdout"
        },
        {
          "output_type": "stream",
          "text": [
            "INFO:tensorflow:  name = bert/encoder/layer_9/attention/self/value/bias:0, shape = (768,), *INIT_FROM_CKPT*\n"
          ],
          "name": "stderr"
        },
        {
          "output_type": "stream",
          "text": [
            "INFO:tensorflow:  name = bert/encoder/layer_9/attention/output/dense/kernel:0, shape = (768, 768), *INIT_FROM_CKPT*\n"
          ],
          "name": "stdout"
        },
        {
          "output_type": "stream",
          "text": [
            "INFO:tensorflow:  name = bert/encoder/layer_9/attention/output/dense/kernel:0, shape = (768, 768), *INIT_FROM_CKPT*\n"
          ],
          "name": "stderr"
        },
        {
          "output_type": "stream",
          "text": [
            "INFO:tensorflow:  name = bert/encoder/layer_9/attention/output/dense/bias:0, shape = (768,), *INIT_FROM_CKPT*\n"
          ],
          "name": "stdout"
        },
        {
          "output_type": "stream",
          "text": [
            "INFO:tensorflow:  name = bert/encoder/layer_9/attention/output/dense/bias:0, shape = (768,), *INIT_FROM_CKPT*\n"
          ],
          "name": "stderr"
        },
        {
          "output_type": "stream",
          "text": [
            "INFO:tensorflow:  name = bert/encoder/layer_9/attention/output/LayerNorm/beta:0, shape = (768,), *INIT_FROM_CKPT*\n"
          ],
          "name": "stdout"
        },
        {
          "output_type": "stream",
          "text": [
            "INFO:tensorflow:  name = bert/encoder/layer_9/attention/output/LayerNorm/beta:0, shape = (768,), *INIT_FROM_CKPT*\n"
          ],
          "name": "stderr"
        },
        {
          "output_type": "stream",
          "text": [
            "INFO:tensorflow:  name = bert/encoder/layer_9/attention/output/LayerNorm/gamma:0, shape = (768,), *INIT_FROM_CKPT*\n"
          ],
          "name": "stdout"
        },
        {
          "output_type": "stream",
          "text": [
            "INFO:tensorflow:  name = bert/encoder/layer_9/attention/output/LayerNorm/gamma:0, shape = (768,), *INIT_FROM_CKPT*\n"
          ],
          "name": "stderr"
        },
        {
          "output_type": "stream",
          "text": [
            "INFO:tensorflow:  name = bert/encoder/layer_9/intermediate/dense/kernel:0, shape = (768, 3072), *INIT_FROM_CKPT*\n"
          ],
          "name": "stdout"
        },
        {
          "output_type": "stream",
          "text": [
            "INFO:tensorflow:  name = bert/encoder/layer_9/intermediate/dense/kernel:0, shape = (768, 3072), *INIT_FROM_CKPT*\n"
          ],
          "name": "stderr"
        },
        {
          "output_type": "stream",
          "text": [
            "INFO:tensorflow:  name = bert/encoder/layer_9/intermediate/dense/bias:0, shape = (3072,), *INIT_FROM_CKPT*\n"
          ],
          "name": "stdout"
        },
        {
          "output_type": "stream",
          "text": [
            "INFO:tensorflow:  name = bert/encoder/layer_9/intermediate/dense/bias:0, shape = (3072,), *INIT_FROM_CKPT*\n"
          ],
          "name": "stderr"
        },
        {
          "output_type": "stream",
          "text": [
            "INFO:tensorflow:  name = bert/encoder/layer_9/output/dense/kernel:0, shape = (3072, 768), *INIT_FROM_CKPT*\n"
          ],
          "name": "stdout"
        },
        {
          "output_type": "stream",
          "text": [
            "INFO:tensorflow:  name = bert/encoder/layer_9/output/dense/kernel:0, shape = (3072, 768), *INIT_FROM_CKPT*\n"
          ],
          "name": "stderr"
        },
        {
          "output_type": "stream",
          "text": [
            "INFO:tensorflow:  name = bert/encoder/layer_9/output/dense/bias:0, shape = (768,), *INIT_FROM_CKPT*\n"
          ],
          "name": "stdout"
        },
        {
          "output_type": "stream",
          "text": [
            "INFO:tensorflow:  name = bert/encoder/layer_9/output/dense/bias:0, shape = (768,), *INIT_FROM_CKPT*\n"
          ],
          "name": "stderr"
        },
        {
          "output_type": "stream",
          "text": [
            "INFO:tensorflow:  name = bert/encoder/layer_9/output/LayerNorm/beta:0, shape = (768,), *INIT_FROM_CKPT*\n"
          ],
          "name": "stdout"
        },
        {
          "output_type": "stream",
          "text": [
            "INFO:tensorflow:  name = bert/encoder/layer_9/output/LayerNorm/beta:0, shape = (768,), *INIT_FROM_CKPT*\n"
          ],
          "name": "stderr"
        },
        {
          "output_type": "stream",
          "text": [
            "INFO:tensorflow:  name = bert/encoder/layer_9/output/LayerNorm/gamma:0, shape = (768,), *INIT_FROM_CKPT*\n"
          ],
          "name": "stdout"
        },
        {
          "output_type": "stream",
          "text": [
            "INFO:tensorflow:  name = bert/encoder/layer_9/output/LayerNorm/gamma:0, shape = (768,), *INIT_FROM_CKPT*\n"
          ],
          "name": "stderr"
        },
        {
          "output_type": "stream",
          "text": [
            "INFO:tensorflow:  name = bert/encoder/layer_10/attention/self/query/kernel:0, shape = (768, 768), *INIT_FROM_CKPT*\n"
          ],
          "name": "stdout"
        },
        {
          "output_type": "stream",
          "text": [
            "INFO:tensorflow:  name = bert/encoder/layer_10/attention/self/query/kernel:0, shape = (768, 768), *INIT_FROM_CKPT*\n"
          ],
          "name": "stderr"
        },
        {
          "output_type": "stream",
          "text": [
            "INFO:tensorflow:  name = bert/encoder/layer_10/attention/self/query/bias:0, shape = (768,), *INIT_FROM_CKPT*\n"
          ],
          "name": "stdout"
        },
        {
          "output_type": "stream",
          "text": [
            "INFO:tensorflow:  name = bert/encoder/layer_10/attention/self/query/bias:0, shape = (768,), *INIT_FROM_CKPT*\n"
          ],
          "name": "stderr"
        },
        {
          "output_type": "stream",
          "text": [
            "INFO:tensorflow:  name = bert/encoder/layer_10/attention/self/key/kernel:0, shape = (768, 768), *INIT_FROM_CKPT*\n"
          ],
          "name": "stdout"
        },
        {
          "output_type": "stream",
          "text": [
            "INFO:tensorflow:  name = bert/encoder/layer_10/attention/self/key/kernel:0, shape = (768, 768), *INIT_FROM_CKPT*\n"
          ],
          "name": "stderr"
        },
        {
          "output_type": "stream",
          "text": [
            "INFO:tensorflow:  name = bert/encoder/layer_10/attention/self/key/bias:0, shape = (768,), *INIT_FROM_CKPT*\n"
          ],
          "name": "stdout"
        },
        {
          "output_type": "stream",
          "text": [
            "INFO:tensorflow:  name = bert/encoder/layer_10/attention/self/key/bias:0, shape = (768,), *INIT_FROM_CKPT*\n"
          ],
          "name": "stderr"
        },
        {
          "output_type": "stream",
          "text": [
            "INFO:tensorflow:  name = bert/encoder/layer_10/attention/self/value/kernel:0, shape = (768, 768), *INIT_FROM_CKPT*\n"
          ],
          "name": "stdout"
        },
        {
          "output_type": "stream",
          "text": [
            "INFO:tensorflow:  name = bert/encoder/layer_10/attention/self/value/kernel:0, shape = (768, 768), *INIT_FROM_CKPT*\n"
          ],
          "name": "stderr"
        },
        {
          "output_type": "stream",
          "text": [
            "INFO:tensorflow:  name = bert/encoder/layer_10/attention/self/value/bias:0, shape = (768,), *INIT_FROM_CKPT*\n"
          ],
          "name": "stdout"
        },
        {
          "output_type": "stream",
          "text": [
            "INFO:tensorflow:  name = bert/encoder/layer_10/attention/self/value/bias:0, shape = (768,), *INIT_FROM_CKPT*\n"
          ],
          "name": "stderr"
        },
        {
          "output_type": "stream",
          "text": [
            "INFO:tensorflow:  name = bert/encoder/layer_10/attention/output/dense/kernel:0, shape = (768, 768), *INIT_FROM_CKPT*\n"
          ],
          "name": "stdout"
        },
        {
          "output_type": "stream",
          "text": [
            "INFO:tensorflow:  name = bert/encoder/layer_10/attention/output/dense/kernel:0, shape = (768, 768), *INIT_FROM_CKPT*\n"
          ],
          "name": "stderr"
        },
        {
          "output_type": "stream",
          "text": [
            "INFO:tensorflow:  name = bert/encoder/layer_10/attention/output/dense/bias:0, shape = (768,), *INIT_FROM_CKPT*\n"
          ],
          "name": "stdout"
        },
        {
          "output_type": "stream",
          "text": [
            "INFO:tensorflow:  name = bert/encoder/layer_10/attention/output/dense/bias:0, shape = (768,), *INIT_FROM_CKPT*\n"
          ],
          "name": "stderr"
        },
        {
          "output_type": "stream",
          "text": [
            "INFO:tensorflow:  name = bert/encoder/layer_10/attention/output/LayerNorm/beta:0, shape = (768,), *INIT_FROM_CKPT*\n"
          ],
          "name": "stdout"
        },
        {
          "output_type": "stream",
          "text": [
            "INFO:tensorflow:  name = bert/encoder/layer_10/attention/output/LayerNorm/beta:0, shape = (768,), *INIT_FROM_CKPT*\n"
          ],
          "name": "stderr"
        },
        {
          "output_type": "stream",
          "text": [
            "INFO:tensorflow:  name = bert/encoder/layer_10/attention/output/LayerNorm/gamma:0, shape = (768,), *INIT_FROM_CKPT*\n"
          ],
          "name": "stdout"
        },
        {
          "output_type": "stream",
          "text": [
            "INFO:tensorflow:  name = bert/encoder/layer_10/attention/output/LayerNorm/gamma:0, shape = (768,), *INIT_FROM_CKPT*\n"
          ],
          "name": "stderr"
        },
        {
          "output_type": "stream",
          "text": [
            "INFO:tensorflow:  name = bert/encoder/layer_10/intermediate/dense/kernel:0, shape = (768, 3072), *INIT_FROM_CKPT*\n"
          ],
          "name": "stdout"
        },
        {
          "output_type": "stream",
          "text": [
            "INFO:tensorflow:  name = bert/encoder/layer_10/intermediate/dense/kernel:0, shape = (768, 3072), *INIT_FROM_CKPT*\n"
          ],
          "name": "stderr"
        },
        {
          "output_type": "stream",
          "text": [
            "INFO:tensorflow:  name = bert/encoder/layer_10/intermediate/dense/bias:0, shape = (3072,), *INIT_FROM_CKPT*\n"
          ],
          "name": "stdout"
        },
        {
          "output_type": "stream",
          "text": [
            "INFO:tensorflow:  name = bert/encoder/layer_10/intermediate/dense/bias:0, shape = (3072,), *INIT_FROM_CKPT*\n"
          ],
          "name": "stderr"
        },
        {
          "output_type": "stream",
          "text": [
            "INFO:tensorflow:  name = bert/encoder/layer_10/output/dense/kernel:0, shape = (3072, 768), *INIT_FROM_CKPT*\n"
          ],
          "name": "stdout"
        },
        {
          "output_type": "stream",
          "text": [
            "INFO:tensorflow:  name = bert/encoder/layer_10/output/dense/kernel:0, shape = (3072, 768), *INIT_FROM_CKPT*\n"
          ],
          "name": "stderr"
        },
        {
          "output_type": "stream",
          "text": [
            "INFO:tensorflow:  name = bert/encoder/layer_10/output/dense/bias:0, shape = (768,), *INIT_FROM_CKPT*\n"
          ],
          "name": "stdout"
        },
        {
          "output_type": "stream",
          "text": [
            "INFO:tensorflow:  name = bert/encoder/layer_10/output/dense/bias:0, shape = (768,), *INIT_FROM_CKPT*\n"
          ],
          "name": "stderr"
        },
        {
          "output_type": "stream",
          "text": [
            "INFO:tensorflow:  name = bert/encoder/layer_10/output/LayerNorm/beta:0, shape = (768,), *INIT_FROM_CKPT*\n"
          ],
          "name": "stdout"
        },
        {
          "output_type": "stream",
          "text": [
            "INFO:tensorflow:  name = bert/encoder/layer_10/output/LayerNorm/beta:0, shape = (768,), *INIT_FROM_CKPT*\n"
          ],
          "name": "stderr"
        },
        {
          "output_type": "stream",
          "text": [
            "INFO:tensorflow:  name = bert/encoder/layer_10/output/LayerNorm/gamma:0, shape = (768,), *INIT_FROM_CKPT*\n"
          ],
          "name": "stdout"
        },
        {
          "output_type": "stream",
          "text": [
            "INFO:tensorflow:  name = bert/encoder/layer_10/output/LayerNorm/gamma:0, shape = (768,), *INIT_FROM_CKPT*\n"
          ],
          "name": "stderr"
        },
        {
          "output_type": "stream",
          "text": [
            "INFO:tensorflow:  name = bert/encoder/layer_11/attention/self/query/kernel:0, shape = (768, 768), *INIT_FROM_CKPT*\n"
          ],
          "name": "stdout"
        },
        {
          "output_type": "stream",
          "text": [
            "INFO:tensorflow:  name = bert/encoder/layer_11/attention/self/query/kernel:0, shape = (768, 768), *INIT_FROM_CKPT*\n"
          ],
          "name": "stderr"
        },
        {
          "output_type": "stream",
          "text": [
            "INFO:tensorflow:  name = bert/encoder/layer_11/attention/self/query/bias:0, shape = (768,), *INIT_FROM_CKPT*\n"
          ],
          "name": "stdout"
        },
        {
          "output_type": "stream",
          "text": [
            "INFO:tensorflow:  name = bert/encoder/layer_11/attention/self/query/bias:0, shape = (768,), *INIT_FROM_CKPT*\n"
          ],
          "name": "stderr"
        },
        {
          "output_type": "stream",
          "text": [
            "INFO:tensorflow:  name = bert/encoder/layer_11/attention/self/key/kernel:0, shape = (768, 768), *INIT_FROM_CKPT*\n"
          ],
          "name": "stdout"
        },
        {
          "output_type": "stream",
          "text": [
            "INFO:tensorflow:  name = bert/encoder/layer_11/attention/self/key/kernel:0, shape = (768, 768), *INIT_FROM_CKPT*\n"
          ],
          "name": "stderr"
        },
        {
          "output_type": "stream",
          "text": [
            "INFO:tensorflow:  name = bert/encoder/layer_11/attention/self/key/bias:0, shape = (768,), *INIT_FROM_CKPT*\n"
          ],
          "name": "stdout"
        },
        {
          "output_type": "stream",
          "text": [
            "INFO:tensorflow:  name = bert/encoder/layer_11/attention/self/key/bias:0, shape = (768,), *INIT_FROM_CKPT*\n"
          ],
          "name": "stderr"
        },
        {
          "output_type": "stream",
          "text": [
            "INFO:tensorflow:  name = bert/encoder/layer_11/attention/self/value/kernel:0, shape = (768, 768), *INIT_FROM_CKPT*\n"
          ],
          "name": "stdout"
        },
        {
          "output_type": "stream",
          "text": [
            "INFO:tensorflow:  name = bert/encoder/layer_11/attention/self/value/kernel:0, shape = (768, 768), *INIT_FROM_CKPT*\n"
          ],
          "name": "stderr"
        },
        {
          "output_type": "stream",
          "text": [
            "INFO:tensorflow:  name = bert/encoder/layer_11/attention/self/value/bias:0, shape = (768,), *INIT_FROM_CKPT*\n"
          ],
          "name": "stdout"
        },
        {
          "output_type": "stream",
          "text": [
            "INFO:tensorflow:  name = bert/encoder/layer_11/attention/self/value/bias:0, shape = (768,), *INIT_FROM_CKPT*\n"
          ],
          "name": "stderr"
        },
        {
          "output_type": "stream",
          "text": [
            "INFO:tensorflow:  name = bert/encoder/layer_11/attention/output/dense/kernel:0, shape = (768, 768), *INIT_FROM_CKPT*\n"
          ],
          "name": "stdout"
        },
        {
          "output_type": "stream",
          "text": [
            "INFO:tensorflow:  name = bert/encoder/layer_11/attention/output/dense/kernel:0, shape = (768, 768), *INIT_FROM_CKPT*\n"
          ],
          "name": "stderr"
        },
        {
          "output_type": "stream",
          "text": [
            "INFO:tensorflow:  name = bert/encoder/layer_11/attention/output/dense/bias:0, shape = (768,), *INIT_FROM_CKPT*\n"
          ],
          "name": "stdout"
        },
        {
          "output_type": "stream",
          "text": [
            "INFO:tensorflow:  name = bert/encoder/layer_11/attention/output/dense/bias:0, shape = (768,), *INIT_FROM_CKPT*\n"
          ],
          "name": "stderr"
        },
        {
          "output_type": "stream",
          "text": [
            "INFO:tensorflow:  name = bert/encoder/layer_11/attention/output/LayerNorm/beta:0, shape = (768,), *INIT_FROM_CKPT*\n"
          ],
          "name": "stdout"
        },
        {
          "output_type": "stream",
          "text": [
            "INFO:tensorflow:  name = bert/encoder/layer_11/attention/output/LayerNorm/beta:0, shape = (768,), *INIT_FROM_CKPT*\n"
          ],
          "name": "stderr"
        },
        {
          "output_type": "stream",
          "text": [
            "INFO:tensorflow:  name = bert/encoder/layer_11/attention/output/LayerNorm/gamma:0, shape = (768,), *INIT_FROM_CKPT*\n"
          ],
          "name": "stdout"
        },
        {
          "output_type": "stream",
          "text": [
            "INFO:tensorflow:  name = bert/encoder/layer_11/attention/output/LayerNorm/gamma:0, shape = (768,), *INIT_FROM_CKPT*\n"
          ],
          "name": "stderr"
        },
        {
          "output_type": "stream",
          "text": [
            "INFO:tensorflow:  name = bert/encoder/layer_11/intermediate/dense/kernel:0, shape = (768, 3072), *INIT_FROM_CKPT*\n"
          ],
          "name": "stdout"
        },
        {
          "output_type": "stream",
          "text": [
            "INFO:tensorflow:  name = bert/encoder/layer_11/intermediate/dense/kernel:0, shape = (768, 3072), *INIT_FROM_CKPT*\n"
          ],
          "name": "stderr"
        },
        {
          "output_type": "stream",
          "text": [
            "INFO:tensorflow:  name = bert/encoder/layer_11/intermediate/dense/bias:0, shape = (3072,), *INIT_FROM_CKPT*\n"
          ],
          "name": "stdout"
        },
        {
          "output_type": "stream",
          "text": [
            "INFO:tensorflow:  name = bert/encoder/layer_11/intermediate/dense/bias:0, shape = (3072,), *INIT_FROM_CKPT*\n"
          ],
          "name": "stderr"
        },
        {
          "output_type": "stream",
          "text": [
            "INFO:tensorflow:  name = bert/encoder/layer_11/output/dense/kernel:0, shape = (3072, 768), *INIT_FROM_CKPT*\n"
          ],
          "name": "stdout"
        },
        {
          "output_type": "stream",
          "text": [
            "INFO:tensorflow:  name = bert/encoder/layer_11/output/dense/kernel:0, shape = (3072, 768), *INIT_FROM_CKPT*\n"
          ],
          "name": "stderr"
        },
        {
          "output_type": "stream",
          "text": [
            "INFO:tensorflow:  name = bert/encoder/layer_11/output/dense/bias:0, shape = (768,), *INIT_FROM_CKPT*\n"
          ],
          "name": "stdout"
        },
        {
          "output_type": "stream",
          "text": [
            "INFO:tensorflow:  name = bert/encoder/layer_11/output/dense/bias:0, shape = (768,), *INIT_FROM_CKPT*\n"
          ],
          "name": "stderr"
        },
        {
          "output_type": "stream",
          "text": [
            "INFO:tensorflow:  name = bert/encoder/layer_11/output/LayerNorm/beta:0, shape = (768,), *INIT_FROM_CKPT*\n"
          ],
          "name": "stdout"
        },
        {
          "output_type": "stream",
          "text": [
            "INFO:tensorflow:  name = bert/encoder/layer_11/output/LayerNorm/beta:0, shape = (768,), *INIT_FROM_CKPT*\n"
          ],
          "name": "stderr"
        },
        {
          "output_type": "stream",
          "text": [
            "INFO:tensorflow:  name = bert/encoder/layer_11/output/LayerNorm/gamma:0, shape = (768,), *INIT_FROM_CKPT*\n"
          ],
          "name": "stdout"
        },
        {
          "output_type": "stream",
          "text": [
            "INFO:tensorflow:  name = bert/encoder/layer_11/output/LayerNorm/gamma:0, shape = (768,), *INIT_FROM_CKPT*\n"
          ],
          "name": "stderr"
        },
        {
          "output_type": "stream",
          "text": [
            "INFO:tensorflow:  name = bert/pooler/dense/kernel:0, shape = (768, 768), *INIT_FROM_CKPT*\n"
          ],
          "name": "stdout"
        },
        {
          "output_type": "stream",
          "text": [
            "INFO:tensorflow:  name = bert/pooler/dense/kernel:0, shape = (768, 768), *INIT_FROM_CKPT*\n"
          ],
          "name": "stderr"
        },
        {
          "output_type": "stream",
          "text": [
            "INFO:tensorflow:  name = bert/pooler/dense/bias:0, shape = (768,), *INIT_FROM_CKPT*\n"
          ],
          "name": "stdout"
        },
        {
          "output_type": "stream",
          "text": [
            "INFO:tensorflow:  name = bert/pooler/dense/bias:0, shape = (768,), *INIT_FROM_CKPT*\n"
          ],
          "name": "stderr"
        },
        {
          "output_type": "stream",
          "text": [
            "INFO:tensorflow:Done calling model_fn.\n"
          ],
          "name": "stdout"
        },
        {
          "output_type": "stream",
          "text": [
            "INFO:tensorflow:Done calling model_fn.\n"
          ],
          "name": "stderr"
        },
        {
          "output_type": "stream",
          "text": [
            "INFO:tensorflow:TPU job name worker\n"
          ],
          "name": "stdout"
        },
        {
          "output_type": "stream",
          "text": [
            "INFO:tensorflow:TPU job name worker\n"
          ],
          "name": "stderr"
        },
        {
          "output_type": "stream",
          "text": [
            "INFO:tensorflow:Graph was finalized.\n"
          ],
          "name": "stdout"
        },
        {
          "output_type": "stream",
          "text": [
            "INFO:tensorflow:Graph was finalized.\n"
          ],
          "name": "stderr"
        },
        {
          "output_type": "stream",
          "text": [
            "INFO:tensorflow:Running local_init_op.\n"
          ],
          "name": "stdout"
        },
        {
          "output_type": "stream",
          "text": [
            "INFO:tensorflow:Running local_init_op.\n"
          ],
          "name": "stderr"
        },
        {
          "output_type": "stream",
          "text": [
            "INFO:tensorflow:Done running local_init_op.\n"
          ],
          "name": "stdout"
        },
        {
          "output_type": "stream",
          "text": [
            "INFO:tensorflow:Done running local_init_op.\n"
          ],
          "name": "stderr"
        },
        {
          "output_type": "stream",
          "text": [
            "WARNING:tensorflow:From /tensorflow-1.15.2/python3.6/tensorflow_estimator/python/estimator/tpu/tpu_estimator.py:818: Variable.load (from tensorflow.python.ops.variables) is deprecated and will be removed in a future version.\n",
            "Instructions for updating:\n",
            "Prefer Variable.assign which has equivalent behavior in 2.X.\n"
          ],
          "name": "stdout"
        },
        {
          "output_type": "stream",
          "text": [
            "WARNING:tensorflow:From /tensorflow-1.15.2/python3.6/tensorflow_estimator/python/estimator/tpu/tpu_estimator.py:818: Variable.load (from tensorflow.python.ops.variables) is deprecated and will be removed in a future version.\n",
            "Instructions for updating:\n",
            "Prefer Variable.assign which has equivalent behavior in 2.X.\n"
          ],
          "name": "stderr"
        },
        {
          "output_type": "stream",
          "text": [
            "INFO:tensorflow:Init TPU system\n"
          ],
          "name": "stdout"
        },
        {
          "output_type": "stream",
          "text": [
            "INFO:tensorflow:Init TPU system\n"
          ],
          "name": "stderr"
        },
        {
          "output_type": "stream",
          "text": [
            "INFO:tensorflow:Initialized TPU in 16 seconds\n"
          ],
          "name": "stdout"
        },
        {
          "output_type": "stream",
          "text": [
            "INFO:tensorflow:Initialized TPU in 16 seconds\n"
          ],
          "name": "stderr"
        },
        {
          "output_type": "stream",
          "text": [
            "INFO:tensorflow:Starting infeed thread controller.\n"
          ],
          "name": "stdout"
        },
        {
          "output_type": "stream",
          "text": [
            "INFO:tensorflow:Starting infeed thread controller.\n"
          ],
          "name": "stderr"
        },
        {
          "output_type": "stream",
          "text": [
            "INFO:tensorflow:Starting outfeed thread controller.\n"
          ],
          "name": "stdout"
        },
        {
          "output_type": "stream",
          "text": [
            "INFO:tensorflow:Starting outfeed thread controller.\n"
          ],
          "name": "stderr"
        },
        {
          "output_type": "stream",
          "text": [
            "INFO:tensorflow:Initialized dataset iterators in 0 seconds\n"
          ],
          "name": "stdout"
        },
        {
          "output_type": "stream",
          "text": [
            "INFO:tensorflow:Initialized dataset iterators in 0 seconds\n"
          ],
          "name": "stderr"
        },
        {
          "output_type": "stream",
          "text": [
            "INFO:tensorflow:Enqueue next (1) batch(es) of data to infeed.\n"
          ],
          "name": "stdout"
        },
        {
          "output_type": "stream",
          "text": [
            "INFO:tensorflow:Enqueue next (1) batch(es) of data to infeed.\n"
          ],
          "name": "stderr"
        },
        {
          "output_type": "stream",
          "text": [
            "INFO:tensorflow:Dequeue next (1) batch(es) of data from outfeed.\n"
          ],
          "name": "stdout"
        },
        {
          "output_type": "stream",
          "text": [
            "INFO:tensorflow:Dequeue next (1) batch(es) of data from outfeed.\n"
          ],
          "name": "stderr"
        },
        {
          "output_type": "stream",
          "text": [
            "INFO:tensorflow:Outfeed finished for iteration (0, 0)\n"
          ],
          "name": "stdout"
        },
        {
          "output_type": "stream",
          "text": [
            "INFO:tensorflow:Outfeed finished for iteration (0, 0)\n"
          ],
          "name": "stderr"
        },
        {
          "output_type": "stream",
          "text": [
            "INFO:tensorflow:Enqueue next (1) batch(es) of data to infeed.\n"
          ],
          "name": "stdout"
        },
        {
          "output_type": "stream",
          "text": [
            "INFO:tensorflow:Enqueue next (1) batch(es) of data to infeed.\n"
          ],
          "name": "stderr"
        },
        {
          "output_type": "stream",
          "text": [
            "INFO:tensorflow:Dequeue next (1) batch(es) of data from outfeed.\n"
          ],
          "name": "stdout"
        },
        {
          "output_type": "stream",
          "text": [
            "INFO:tensorflow:Dequeue next (1) batch(es) of data from outfeed.\n"
          ],
          "name": "stderr"
        },
        {
          "output_type": "stream",
          "text": [
            "INFO:tensorflow:Stop infeed thread controller\n"
          ],
          "name": "stdout"
        },
        {
          "output_type": "stream",
          "text": [
            "INFO:tensorflow:Stop infeed thread controller\n"
          ],
          "name": "stderr"
        },
        {
          "output_type": "stream",
          "text": [
            "INFO:tensorflow:Shutting down InfeedController thread.\n"
          ],
          "name": "stdout"
        },
        {
          "output_type": "stream",
          "text": [
            "INFO:tensorflow:Shutting down InfeedController thread.\n"
          ],
          "name": "stderr"
        },
        {
          "output_type": "stream",
          "text": [
            "INFO:tensorflow:InfeedController received shutdown signal, stopping.\n"
          ],
          "name": "stdout"
        },
        {
          "output_type": "stream",
          "text": [
            "INFO:tensorflow:InfeedController received shutdown signal, stopping.\n"
          ],
          "name": "stderr"
        },
        {
          "output_type": "stream",
          "text": [
            "INFO:tensorflow:Infeed thread finished, shutting down.\n"
          ],
          "name": "stdout"
        },
        {
          "output_type": "stream",
          "text": [
            "INFO:tensorflow:Infeed thread finished, shutting down.\n"
          ],
          "name": "stderr"
        },
        {
          "output_type": "stream",
          "text": [
            "INFO:tensorflow:infeed marked as finished\n"
          ],
          "name": "stdout"
        },
        {
          "output_type": "stream",
          "text": [
            "INFO:tensorflow:infeed marked as finished\n"
          ],
          "name": "stderr"
        },
        {
          "output_type": "stream",
          "text": [
            "INFO:tensorflow:Stop output thread controller\n"
          ],
          "name": "stdout"
        },
        {
          "output_type": "stream",
          "text": [
            "INFO:tensorflow:Stop output thread controller\n"
          ],
          "name": "stderr"
        },
        {
          "output_type": "stream",
          "text": [
            "INFO:tensorflow:Shutting down OutfeedController thread.\n"
          ],
          "name": "stdout"
        },
        {
          "output_type": "stream",
          "text": [
            "INFO:tensorflow:Shutting down OutfeedController thread.\n"
          ],
          "name": "stderr"
        },
        {
          "output_type": "stream",
          "text": [
            "INFO:tensorflow:OutfeedController received shutdown signal, stopping.\n"
          ],
          "name": "stdout"
        },
        {
          "output_type": "stream",
          "text": [
            "INFO:tensorflow:OutfeedController received shutdown signal, stopping.\n"
          ],
          "name": "stderr"
        },
        {
          "output_type": "stream",
          "text": [
            "INFO:tensorflow:Outfeed thread finished, shutting down.\n"
          ],
          "name": "stdout"
        },
        {
          "output_type": "stream",
          "text": [
            "INFO:tensorflow:Outfeed thread finished, shutting down.\n"
          ],
          "name": "stderr"
        },
        {
          "output_type": "stream",
          "text": [
            "INFO:tensorflow:outfeed marked as finished\n"
          ],
          "name": "stdout"
        },
        {
          "output_type": "stream",
          "text": [
            "INFO:tensorflow:outfeed marked as finished\n"
          ],
          "name": "stderr"
        },
        {
          "output_type": "stream",
          "text": [
            "INFO:tensorflow:Shutdown TPU system.\n"
          ],
          "name": "stdout"
        },
        {
          "output_type": "stream",
          "text": [
            "INFO:tensorflow:Shutdown TPU system.\n"
          ],
          "name": "stderr"
        },
        {
          "output_type": "stream",
          "text": [
            "INFO:tensorflow:prediction_loop marked as finished\n"
          ],
          "name": "stdout"
        },
        {
          "output_type": "stream",
          "text": [
            "INFO:tensorflow:prediction_loop marked as finished\n"
          ],
          "name": "stderr"
        },
        {
          "output_type": "stream",
          "text": [
            "INFO:tensorflow:prediction_loop marked as finished\n"
          ],
          "name": "stdout"
        },
        {
          "output_type": "stream",
          "text": [
            "INFO:tensorflow:prediction_loop marked as finished\n"
          ],
          "name": "stderr"
        },
        {
          "output_type": "stream",
          "text": [
            "OrderedDict([('[CLS]', array([-1.8256524e+00, -1.6272218e+00, -7.3927760e-02, -2.3318090e+00,\n",
            "       -2.2003012e+00, -1.0143783e+00,  1.4169476e+00,  1.9065857e-02,\n",
            "        3.2598293e-01, -3.3898814e+00, -9.2200911e-01, -4.5324513e-01,\n",
            "       -8.6799455e-01,  4.3725359e-01, -1.3373380e+00, -8.9348030e-01,\n",
            "       -1.9708507e+00,  1.6124169e+00,  1.6284986e+00, -2.7341418e+00,\n",
            "       -1.2729206e+00, -1.6244650e+00, -1.7156843e+00, -1.8934038e+00,\n",
            "        1.8198952e-01,  7.2866417e-02, -8.5870302e-01, -1.4986724e+00,\n",
            "        6.6446263e-01,  1.2585778e+00,  4.7753975e-02,  3.4076171e+00,\n",
            "       -1.3591998e+00, -3.5601914e-01,  3.6603901e+00,  9.7244322e-01,\n",
            "        9.7848719e-01, -2.8597033e-01,  7.5878754e-02,  1.2529864e+00,\n",
            "       -4.9147645e-01, -2.1118531e-01,  2.1499479e+00, -9.2591274e-01,\n",
            "       -1.4342699e+00, -8.7128729e-01, -1.6670380e+01,  8.3706570e-01,\n",
            "       -1.1191132e+00, -4.6321197e+00, -2.0012069e+00, -7.2547227e-02,\n",
            "       -4.3876392e-01,  4.5691786e+00,  1.9692523e+00,  1.1659527e+00,\n",
            "       -1.9569719e+00, -1.8262258e+00,  1.1105490e+00,  5.8629906e-01,\n",
            "        4.9633014e-01, -2.6384512e-01, -1.2335215e+00,  9.9774188e-01,\n",
            "       -1.7312214e-02,  9.0954518e-01,  8.7393004e-01,  1.1688396e+00,\n",
            "       -3.4379232e+00,  3.3752520e+00, -2.7318730e+00,  3.2355750e-01,\n",
            "       -1.3910186e-01, -8.5510814e-01,  8.2180780e-01, -2.9464230e-02,\n",
            "       -1.1259775e+00,  1.3803141e+00, -5.9717762e-01, -2.9373142e-01,\n",
            "       -1.8172008e+00,  1.8824474e+00,  1.6643717e+00, -1.1124242e-01,\n",
            "        1.1515881e+00,  2.5760570e+00, -8.4774411e-01, -2.2886238e+00,\n",
            "       -2.0887260e+00,  3.4488053e+00, -5.7425511e-01,  1.6608998e+00,\n",
            "        1.0427818e-02,  2.0308782e-01,  2.3345006e+00, -1.2865694e+00,\n",
            "       -3.5352707e-01, -8.3639324e-01,  1.6706830e+00,  8.5113907e-01,\n",
            "        6.2292337e-02, -1.4265265e+00, -1.6644126e-01, -2.7964275e+00,\n",
            "        1.7771497e-01, -1.3301938e+00, -1.0443223e+00,  7.7516630e-02,\n",
            "       -8.8223922e-01, -3.0818524e+00,  9.0058529e-01,  1.9882635e+00,\n",
            "        3.7666684e-01, -3.3287377e+00, -3.1216699e-01,  6.3551438e-01,\n",
            "        8.8977143e-02, -1.8261172e-02,  2.1491246e+00, -1.4246212e+00,\n",
            "       -6.2399662e-01,  1.0111738e+00, -1.3637370e-01, -1.4919694e-01,\n",
            "        2.6560307e+00,  1.8911849e+00, -4.4711322e-01,  1.3255923e+00,\n",
            "        8.5254115e-01,  1.2714741e+00,  2.4666291e-01,  2.7824078e+00,\n",
            "        1.8500915e+00,  5.6553113e-01, -1.3753977e+00,  1.6123385e+00,\n",
            "        4.3486345e-01, -1.3822750e+00, -3.1005192e+00,  2.2331138e+00,\n",
            "       -2.7445288e+00, -8.1393433e-01, -5.7237206e+00,  1.4510419e+00,\n",
            "        3.4231491e+00,  1.5805502e+00, -2.3241453e+00,  6.3132882e-01,\n",
            "        9.2654473e-01,  9.7930953e-03,  1.4000285e-01,  6.2274534e-01,\n",
            "       -7.9152799e-01,  9.1770786e-01, -1.9636251e+00, -3.6165887e-01,\n",
            "       -1.2984410e-01, -7.3154718e-01, -9.7934932e-02,  1.7572529e+00,\n",
            "       -1.1225733e-01, -7.0721531e-01, -4.7509807e-01, -1.0598432e+00,\n",
            "        4.9617523e-01, -1.6355088e+00,  5.5900204e-01,  2.6570187e+00,\n",
            "        9.3637472e-01, -1.4476961e-01, -1.5405071e+00, -6.4988434e-01,\n",
            "        3.5563653e+00, -1.0524776e+00,  1.4774187e+00, -8.4692186e-01,\n",
            "        6.6696599e-02,  3.0144596e-01,  1.6371256e+00,  1.1052868e+00,\n",
            "       -1.4098823e+00,  1.1689211e+00,  2.3806104e-01,  5.9463239e-01,\n",
            "        4.5612258e-01,  3.9046156e-01,  1.5577205e+00, -2.6928596e+00,\n",
            "       -1.2530582e-01,  6.7084658e-01, -1.8947620e+00, -5.9658289e-04,\n",
            "       -6.2935555e-01, -2.8705566e+00,  1.0725398e+00,  2.3636799e+00,\n",
            "       -4.2108107e-01, -1.9300299e+00,  6.8309650e-02, -8.2163364e-02,\n",
            "       -1.4871130e+00,  1.3964121e+00, -2.8262882e+00, -2.6367962e-01,\n",
            "       -3.7302351e-01,  1.0497118e+01,  2.9634026e-01, -2.1041328e-01,\n",
            "        1.2174097e+00,  1.0635748e+00, -4.0100521e-01,  1.7920026e+00,\n",
            "       -1.1823888e+00, -2.0089040e+00,  9.5168877e-01,  2.1932496e-01,\n",
            "        1.2127727e+00, -2.0936072e-01,  1.3620528e+00,  1.3351573e-01,\n",
            "        6.1516786e-01,  3.4484154e-01, -5.0982767e-01,  1.1994365e+00,\n",
            "       -1.4940050e+00,  2.0948591e+00,  2.3790801e+00,  1.0458940e+00,\n",
            "        1.1118422e+00, -6.8626032e+00,  1.1387906e+00, -3.7888518e-01,\n",
            "        6.6797495e-01,  5.0198570e-02, -1.3722278e+00, -6.2295270e-01,\n",
            "        2.1227257e+00,  1.0782671e+00, -9.0057850e-02, -2.6230917e+00,\n",
            "       -1.3141159e+00,  2.7204933e+00,  1.4842765e+00, -1.7432942e+00,\n",
            "        1.9568559e+00, -2.6861340e-01,  1.1362860e+00, -1.7616630e+00,\n",
            "        1.0585151e+00,  7.2178280e-01,  1.5200725e+00, -6.9556272e-01,\n",
            "       -1.1762263e+00, -1.8670632e+00, -6.6113883e-01,  1.3289710e+00,\n",
            "       -4.2490667e-01, -1.0982087e+00, -3.1903854e-01,  6.7388666e-01,\n",
            "       -1.4625065e+00, -1.2059643e+00,  6.3888878e-02,  7.5892305e-01,\n",
            "       -1.9056590e+00, -3.2404929e-01, -5.1639211e-01,  7.2029203e-02,\n",
            "        1.8410465e+00, -1.5711057e+00, -1.0926725e+00, -2.9232187e+00,\n",
            "       -3.7563806e+00, -4.0644903e+00, -1.4680659e+00, -2.9553010e+00,\n",
            "       -6.1380851e-01,  2.3470888e+00, -1.9839531e-01, -7.5113344e-01,\n",
            "        3.1525800e-01,  5.8124840e-01, -1.3242992e+00,  3.0999681e-01,\n",
            "        2.0684280e+00,  1.4542382e+00, -1.1655732e+00, -3.2619698e+00,\n",
            "        2.9122889e+00, -1.3701401e+00, -1.6876504e+00, -1.2025170e+00,\n",
            "       -2.8677874e+00, -1.0458186e+00,  2.1998897e+00,  5.3065896e-01,\n",
            "        3.9798272e-01, -3.4653455e-01, -3.6397946e-01, -3.4177620e+00,\n",
            "       -2.1620145e+00, -4.4537583e-01,  2.1525817e+00, -1.9301894e+00,\n",
            "       -1.3280754e+00, -2.2171307e-01, -1.3767147e+00, -6.7967975e-01,\n",
            "       -3.6390823e+01,  1.3966179e+00, -5.1309019e-02, -8.7164897e-01,\n",
            "        2.7962822e-01, -5.6755269e-01, -2.9723662e-01, -6.4690009e-02,\n",
            "       -2.1204133e-01,  3.9877412e-01,  9.6512377e-01, -1.4657483e+00,\n",
            "       -2.4297144e+00, -2.3670137e-01,  1.4271460e+00, -1.0574106e+00,\n",
            "        1.7839799e+00, -8.2824224e-01,  1.6928396e+00, -2.0491440e+00,\n",
            "       -2.6346259e+00,  9.2591882e-02, -8.4085447e-01,  1.5253083e-01,\n",
            "       -3.5281152e-01, -1.6583586e+00, -2.6827946e+00, -1.1905437e+00,\n",
            "        1.2170174e+00, -2.3834648e+00, -3.0526167e-01, -2.2459466e+00,\n",
            "       -4.0850979e-01, -1.0587107e+00, -4.0117588e+00, -2.7800804e-01,\n",
            "       -1.1661980e+00, -5.4082662e-01,  4.4999628e+00, -2.9025236e-01,\n",
            "       -1.8523612e+00,  2.8575728e+00,  1.0420604e+00,  8.2355106e-01,\n",
            "        2.3209605e+00, -8.4274465e-01,  1.6268218e+00,  2.1167658e-01,\n",
            "        2.2397333e-01,  1.9858212e+00,  6.3060957e-01, -2.1915460e-01,\n",
            "        5.0739903e+00, -1.0481715e+00,  2.2256823e+00, -1.8500600e+00,\n",
            "        1.5895854e+00,  6.4193839e-01,  8.0523461e-01, -5.0478894e-01,\n",
            "        4.8116813e+00, -1.1885800e+00,  2.3690763e+00, -1.2042181e-01,\n",
            "        7.2281134e-01, -1.3122942e+00,  1.3482789e+00, -1.0485179e+00,\n",
            "       -5.0275040e-01, -1.8930008e-01, -6.5063483e-01,  2.5266166e+00,\n",
            "       -5.6565344e-02, -1.2290529e+01, -3.8543969e-01, -1.7535410e+00,\n",
            "       -1.1027489e+00,  1.2109625e+00, -1.2491381e-01,  4.9169832e-01,\n",
            "       -1.5619794e+00, -9.8342144e-01, -1.2474462e+00,  2.1219966e-01,\n",
            "       -7.1299183e-01, -1.0606304e-01, -1.4182440e+00, -9.3089867e-01,\n",
            "       -2.6244974e-01, -5.7331406e-02,  6.0928658e-02,  1.0195040e+00,\n",
            "        3.5701996e-01,  1.8888018e+00, -2.0562313e-02,  1.1053594e+00,\n",
            "        4.6163017e-01, -1.7836998e+00,  1.1979905e+00, -3.2418749e-01,\n",
            "       -4.0457624e-01, -1.5436769e+00, -1.8552730e+00,  1.9031986e+00,\n",
            "       -3.7803710e-02, -1.3852143e+00, -1.0419145e+00,  2.5688748e+00,\n",
            "        3.0983943e-01,  2.2915561e+00, -7.7820843e-01,  9.9660850e-01,\n",
            "        1.4470794e+00,  1.6088200e+00,  3.2549300e+00,  4.3227491e-01,\n",
            "       -1.6643646e+00,  1.3930743e+00,  1.4542791e+00, -1.6781433e+00,\n",
            "        1.1289158e+00, -1.8119844e+00,  3.0256438e+00, -1.3552445e-01,\n",
            "       -9.2703867e-01,  5.0102812e-01, -1.4104614e+00, -1.2884543e+00,\n",
            "       -2.0731018e+00, -9.3764937e-01,  1.8418150e+00,  1.1792794e+00,\n",
            "       -1.7950161e+00, -1.6052614e+00, -9.5339489e-01, -1.6202103e+00,\n",
            "       -2.8863525e-01,  4.6624002e+00,  1.6638529e+00,  1.2432510e+00,\n",
            "        3.5963922e+00,  1.3486599e+00, -2.1592250e+00,  1.6650534e+00,\n",
            "       -2.8796259e-01,  1.4491166e+00, -1.2433017e+00,  4.3142512e-01,\n",
            "        7.8638506e-01,  1.8906434e+00,  1.3694608e+00, -2.2630494e+00,\n",
            "        1.0618868e+00, -1.3423618e+00, -3.3847359e-01,  4.4775760e-01,\n",
            "       -1.4362820e+00, -9.9889475e-01,  9.5584661e-01, -1.5052546e+00,\n",
            "        2.9785929e+00,  1.5757320e+00, -9.5039968e+00,  1.1276435e+00,\n",
            "        1.3268173e+00, -9.4854116e-01, -7.1310186e-01, -1.4232692e-01,\n",
            "       -1.5217185e-01,  7.9518008e-01, -7.7404338e-01, -4.0190735e-01,\n",
            "       -1.1688863e+00,  6.3197064e-01, -1.4361229e+00, -8.0169338e-01,\n",
            "        2.8348982e+00, -8.8073349e-01,  3.6034477e-01, -6.9180518e-01,\n",
            "        1.9152325e+00,  1.8636345e+00, -3.7590784e-01,  3.3729026e+00,\n",
            "        2.7814677e-01, -8.8014638e-01, -8.8396192e-01,  1.4022717e-01,\n",
            "       -9.4847673e-01,  6.3937134e-01,  3.8977757e-01,  1.2293279e+00,\n",
            "        1.6541340e+00, -2.3025036e+00, -2.1851559e+00, -1.1992797e+00,\n",
            "        1.0421231e+00,  7.4570811e-01,  8.3737481e-01, -3.4821346e+00,\n",
            "        7.3946083e-01,  2.8079574e+00, -1.4435029e+00,  2.1154869e+00,\n",
            "        7.3718572e-01,  9.3186516e-01,  1.7913060e+00,  4.8634320e-02,\n",
            "       -3.1715488e-01, -4.6485355e-01,  2.0928576e+00, -1.5671438e-01,\n",
            "       -1.0563743e+00, -2.4711618e+00, -2.0241373e+00,  8.3380044e-01,\n",
            "       -2.5870046e-01,  3.6338162e-01, -6.7347169e-01, -1.0386354e+00,\n",
            "       -1.7219391e+00, -2.3914678e+00,  4.2085748e+00,  5.5419821e-01,\n",
            "        6.9863021e-01,  1.0126035e+00, -2.6917245e+00, -5.3303084e+00,\n",
            "       -1.7881402e-01,  2.2182621e-01, -2.0623286e+00,  1.2286570e+00,\n",
            "        1.6731913e-01, -4.3740638e-02,  9.4778967e-01, -7.6322043e-01,\n",
            "       -2.6707876e+00,  3.7885613e+00, -1.5856674e+00, -2.0063152e+00,\n",
            "        4.4518387e-01, -1.5786116e+00, -2.9277432e-01, -6.6827047e-01,\n",
            "        9.8482692e-01,  8.2048440e-01, -8.8978186e-02, -8.5132688e-01,\n",
            "        1.8212721e-02,  5.4272014e-01, -1.4518375e+00,  6.5487343e-01,\n",
            "       -2.1233084e+00, -1.9062024e+00,  2.8243890e+00,  1.5233293e-02,\n",
            "        2.1871953e+00, -1.2585256e-01,  2.1548873e-01, -8.0009562e-01,\n",
            "       -1.7905040e-01, -3.4284598e-01, -1.2808923e+00,  1.1744134e+00,\n",
            "        1.0718844e+00,  9.0596521e-01,  7.7527589e-01,  2.0794067e+00,\n",
            "        1.7298952e+00,  5.5763698e-01, -4.7168082e-01,  3.2792434e-01,\n",
            "        4.5988974e-01,  2.0659242e+00,  3.8903677e-01,  6.5101492e-01,\n",
            "        4.1581118e-01,  1.1727393e-02,  4.0542409e-01,  1.9199118e-01,\n",
            "        2.1790369e+00, -5.3105801e-02, -9.8429430e-01,  1.0888371e+00,\n",
            "        1.2445430e+00,  2.2668750e+00,  7.5597882e-01, -5.2061236e-01,\n",
            "        9.6363449e-01, -4.8056164e-01, -5.0711888e-01,  7.4606454e-01,\n",
            "       -6.2848240e-01, -3.9956415e-01,  1.8580122e+00,  1.8632609e+00,\n",
            "       -4.9418175e-01,  1.2802857e+00, -2.7590165e+00, -1.1580247e-01,\n",
            "       -8.3784485e-01,  3.0215206e+00, -1.7640718e+00, -1.3595901e+00,\n",
            "       -4.6900287e-01,  5.5062002e-01, -4.3341070e-03,  2.8626931e-01,\n",
            "        6.3151842e-01,  6.1996466e-01, -4.0052137e-01,  1.2857056e+00,\n",
            "        9.9755287e-01,  9.1249448e-01, -7.8024626e-01, -5.5321634e-01,\n",
            "       -1.0109184e+00,  5.1733211e-02, -1.1835792e+00, -4.9712443e-01,\n",
            "       -8.9614940e-01, -1.6998727e+00,  2.6414914e+00, -8.6480844e-01,\n",
            "       -2.4549005e+00,  1.8654957e+00, -2.6412699e-01, -3.1200058e+00,\n",
            "       -7.3756480e-01,  2.1820476e+00,  2.6877022e+00, -8.5621989e-01,\n",
            "        5.8274245e-01,  1.8941565e+00,  1.5014505e-01, -1.2147707e+00,\n",
            "        5.5516839e-01,  1.2963123e+00, -2.3320911e+00,  1.2123020e+00,\n",
            "       -4.7860235e-02,  1.8413994e+00, -2.5618610e-01, -1.9346270e-01,\n",
            "        7.5019419e-01, -1.2623942e+00, -5.8735967e-01,  8.6358064e-01,\n",
            "       -2.0555444e+00,  8.7838209e-01,  7.3434748e-03,  2.8264751e+00,\n",
            "        1.2673330e+00,  2.4141507e+00,  8.3663714e-01,  5.4803634e-01,\n",
            "        3.7767916e+00, -1.5078261e+00, -3.3228830e-01, -2.3350663e+00,\n",
            "        1.1821581e-01,  2.3424044e+00,  1.0456237e+00, -7.3342514e-01,\n",
            "        2.4007597e+00,  1.4198202e-01, -9.8400873e-01, -1.0693104e+00,\n",
            "        1.4448915e-01,  3.1122661e-01,  1.2428544e+00,  3.0189686e+00,\n",
            "        1.6328187e+00,  1.2606862e+00,  2.8467160e-01, -1.5930395e+00,\n",
            "       -1.8858798e+00,  1.2614474e+00, -1.5983379e+00, -6.3471252e-01,\n",
            "        7.2359562e-01, -1.0906048e+00, -1.4567604e+00, -7.4545026e-01,\n",
            "        1.6198513e-01, -8.9007419e-01, -2.1753218e+00,  1.2902434e-01,\n",
            "       -3.5922176e-01,  3.5807985e-01,  5.2651525e-01,  5.9072137e-01,\n",
            "       -5.8459687e-01, -7.3705530e-01,  9.8890018e-01,  5.5377889e-01,\n",
            "       -1.3717768e+00,  1.3618056e+00,  1.2635721e+00, -7.6742554e-01,\n",
            "        2.3831441e+00, -6.2106347e-01,  7.2909230e-01, -2.7287350e+00,\n",
            "       -1.6022413e+00,  2.0890806e+00, -1.4174666e+00,  1.8164916e+00,\n",
            "       -7.6510006e-01,  2.7693209e-01,  2.4840331e+00, -5.5394733e-01,\n",
            "        1.4952030e+00,  5.4642546e-01,  1.3865642e-01, -4.1369870e-02,\n",
            "        1.0453727e+00, -7.4985218e-01, -4.7393420e-01,  7.1221673e-01,\n",
            "       -2.5758076e+00, -2.2593570e+00,  3.0212998e-02,  1.7986746e+00,\n",
            "       -2.3053746e+00,  8.0899882e-01,  7.6902634e-01, -1.9919300e+00,\n",
            "       -1.0089383e+00,  4.6381542e-01,  1.9541352e+00,  1.5461830e+00,\n",
            "        7.6067328e-01,  4.2939224e+00,  6.4556354e-01, -1.4389329e+00,\n",
            "        2.6636696e-01,  1.5446955e+00, -2.4169692e-01,  1.0725195e+00,\n",
            "       -2.5312545e+00,  8.3084089e-01, -1.7693368e+00,  1.7749159e+00,\n",
            "       -7.8980966e+00, -9.8085159e-01, -7.8740305e-01,  1.4223528e+00,\n",
            "       -9.4642811e-02, -7.1288955e-01, -1.0323442e+00, -1.6847072e+00,\n",
            "       -2.5736351e+00, -1.2925518e+00,  9.9135619e-01,  5.6461835e-01,\n",
            "        1.4994928e+00, -1.1968896e+00, -5.7852411e-01,  3.7168097e+00],\n",
            "      dtype=float32)), ('this', array([-2.35620022e+00, -1.11857998e+00,  1.66309863e-01,  7.72423983e-01,\n",
            "        1.45928466e+00, -8.65517437e-01, -2.50563711e-01,  1.35420167e+00,\n",
            "       -1.40688872e+00, -1.33665872e+00, -8.74201894e-01, -2.48968422e-01,\n",
            "       -2.19416189e+00, -9.19849873e-01,  1.49986744e+00,  6.23757720e-01,\n",
            "       -1.40826792e-01,  6.57204866e-01,  1.75440836e+00, -2.67754221e+00,\n",
            "        3.78926063e+00,  2.40678263e+00, -3.75519419e+00,  8.47711325e-01,\n",
            "        4.60942459e+00, -1.16633213e+00,  9.02795315e-01, -2.76082635e-01,\n",
            "       -2.13567472e+00, -1.66365552e+00, -2.60232508e-01,  2.97501683e+00,\n",
            "        2.73331952e+00, -7.12737262e-01,  7.25531518e-01, -1.76790953e+00,\n",
            "        4.33892250e-01, -1.44755971e+00, -2.45611691e+00,  2.75218725e+00,\n",
            "        1.13366365e+00,  4.30894494e-01,  3.61465836e+00, -1.31339264e+00,\n",
            "       -5.75095892e-01, -2.30899858e+00,  8.57530594e-01, -2.05846834e+00,\n",
            "       -1.89800107e+00, -4.33233404e+00, -7.51125765e+00,  2.75481820e-01,\n",
            "       -7.15921760e-01,  2.14657784e+00, -1.91775584e+00,  8.50290477e-01,\n",
            "        1.22686490e-01, -4.13686371e+00,  1.66168964e+00, -1.98148656e+00,\n",
            "        1.33240491e-01, -1.62892783e+00, -6.66982234e-01,  9.47454751e-01,\n",
            "        8.97070706e-01,  9.71622705e-01,  1.74387562e+00,  2.90103436e+00,\n",
            "       -1.96548128e+00,  6.35999739e-01, -2.21989036e+00, -2.39748526e+00,\n",
            "       -1.46219826e+00,  1.00686264e+00,  7.25006104e-01,  2.15729284e+00,\n",
            "       -8.91102314e-01,  4.70961750e-01,  9.87352550e-01, -2.21348572e+00,\n",
            "        5.63874125e-01,  4.33952332e+00,  1.80093145e+00,  1.61963314e-01,\n",
            "        8.13745916e-01,  2.91800356e+00, -2.21832919e+00,  6.45729601e-01,\n",
            "       -2.90648890e+00,  3.46005678e+00, -4.47800308e-01, -9.56401289e-01,\n",
            "       -1.44986510e+00, -2.34427735e-01,  2.03386807e+00, -3.40119624e+00,\n",
            "       -5.47510237e-02, -2.58241177e+00,  2.12993073e+00, -3.73232937e+00,\n",
            "       -1.52081704e+00, -7.42743349e+00, -7.96071410e-01, -5.73821247e-01,\n",
            "       -3.91667932e-01, -2.19084930e+00, -5.13286173e-01,  2.34915376e+00,\n",
            "        9.94786441e-01, -2.61996841e+00, -1.04917812e+00,  4.10445023e+00,\n",
            "       -4.37957942e-01, -1.45413923e+00, -1.11273694e+00,  8.26057136e-01,\n",
            "       -1.58507311e+00,  2.78434366e-01,  8.26909781e-01, -2.13807917e+00,\n",
            "       -2.12920666e+00,  3.41722608e+00,  2.24641514e+00,  1.94451046e+00,\n",
            "        1.29648423e+00,  9.30247188e-01,  9.12779152e-01,  3.26108909e+00,\n",
            "        7.61828572e-02, -7.47290969e-01,  3.87108624e-01,  5.09908962e+00,\n",
            "        5.30396366e+00,  7.29411423e-01, -2.18661070e+00, -5.70565581e-01,\n",
            "       -4.49633002e-01, -2.55804873e+00, -4.16978741e+00,  1.04990736e-01,\n",
            "        1.20092177e+00,  1.42051864e+00,  1.98993158e+00, -1.41457963e+00,\n",
            "        2.37261963e+00,  1.12009716e+00, -1.46523476e+00, -2.13870335e+00,\n",
            "       -7.08585903e-02,  3.39623809e-01,  5.85933685e-01,  1.30007780e+00,\n",
            "       -4.66565943e+00, -1.89225101e+00,  1.48696929e-01, -8.56452227e-01,\n",
            "        1.12950778e+00,  3.06505513e+00, -3.56121629e-01,  1.66647565e+00,\n",
            "        1.56068695e+00,  1.15890884e+00,  9.36326206e-01,  1.35020065e+00,\n",
            "        2.05061674e+00, -3.49027371e+00, -2.50440001e+00,  1.32977933e-01,\n",
            "       -1.50554091e-01, -4.62673068e-01,  5.53330839e-01, -3.09725714e+00,\n",
            "        2.33204269e+00, -9.35201645e-01, -2.45409060e+00, -7.02327251e-01,\n",
            "        1.42003810e+00, -2.98882222e+00,  1.35870838e+00,  3.29271030e+00,\n",
            "       -2.72156715e+00,  7.07733989e-01, -8.31961513e-01, -1.79153693e+00,\n",
            "        1.64911613e-01,  2.04894781e+00, -1.39959478e+00, -4.51439142e+00,\n",
            "        1.80158687e+00,  4.25790071e+00, -1.28103137e+00,  2.81289411e+00,\n",
            "        8.31254661e-01, -4.60497713e+00,  1.80992866e+00,  6.63122118e-01,\n",
            "       -1.67530668e+00, -1.99687934e+00,  1.84924197e+00, -8.54307771e-01,\n",
            "        8.04970264e-01,  1.90179896e+00, -1.41518164e+00,  1.16007924e+00,\n",
            "        5.50559163e-01,  3.86003542e+00, -1.13685632e+00, -3.94059628e-01,\n",
            "        1.58488452e-01,  4.84952331e-03, -1.02191532e+00,  4.80741072e+00,\n",
            "       -1.79715776e+00,  2.31418997e-01,  2.85666060e+00,  1.43227649e+00,\n",
            "       -2.90316582e+00,  1.69811702e+00,  1.41262150e+00, -3.28376532e-01,\n",
            "        1.07217360e+00, -3.79642963e+00, -9.40638125e-01,  2.23999500e+00,\n",
            "       -9.23121095e-01,  6.36039543e+00,  1.68394136e+00,  1.85592389e+00,\n",
            "        2.02068138e+00,  1.86003470e+00,  1.20289648e+00, -1.58483791e+00,\n",
            "        8.52397084e-01, -1.35338950e+00, -5.41942716e-01,  3.12412143e+00,\n",
            "        2.36921167e+00, -1.76772678e+00,  3.52467746e-01,  9.45522428e-01,\n",
            "       -1.43602204e+00,  8.11889410e-01,  4.45608824e-01, -6.69834137e-01,\n",
            "       -2.80007792e+00, -1.57464480e+00, -5.03969133e-01, -2.06225848e+00,\n",
            "       -2.82386780e+00, -2.65506744e-01, -2.10349536e+00,  8.22553277e-01,\n",
            "       -7.85297751e-01, -2.95685244e+00, -2.76770210e+00,  7.74539590e-01,\n",
            "       -5.28615713e-01,  6.80848837e-01,  1.48854995e+00,  3.17436635e-01,\n",
            "        1.56611347e+00,  5.39205492e-01,  3.14807713e-01,  1.07953882e+00,\n",
            "       -2.65112686e+00,  1.99014091e+00, -1.87484550e+00,  3.37830639e+00,\n",
            "        2.33441114e+00,  2.44041920e+00, -4.83795214e+00, -3.01476312e+00,\n",
            "       -2.17544270e+00, -2.61402607e+00, -5.68401432e+00, -3.61568046e+00,\n",
            "       -2.07794142e+00, -1.04898715e+00, -3.40163851e+00, -1.33517373e+00,\n",
            "        3.24332714e-01,  4.70258951e+00,  5.56096673e-01, -5.53507924e-01,\n",
            "       -4.08317745e-01,  1.60961580e+00, -1.38290846e+00, -1.54862750e+00,\n",
            "        7.19796121e-02, -6.04374051e-01, -2.01552486e+00,  1.47884011e+00,\n",
            "       -3.58793402e+00, -5.14424896e+00,  2.82161832e+00,  1.89885807e+00,\n",
            "        2.84334469e+00,  7.64322042e-01, -1.35481453e+00, -2.83000088e+00,\n",
            "       -4.22391474e-01, -2.55878186e+00,  1.68230820e+00, -1.62574482e+00,\n",
            "       -1.82837367e+00,  2.53880024e+00, -1.82015145e+00, -1.74194348e+00,\n",
            "       -3.02682724e+01,  3.82715434e-01, -2.80945897e+00, -5.22607327e-01,\n",
            "       -2.18502569e+00, -1.10544324e+00, -1.18006003e+00,  3.94108713e-01,\n",
            "        9.28152323e-01, -2.02727842e+00, -3.37662435e+00, -3.36500382e+00,\n",
            "       -2.83431244e+00,  1.04294729e+00,  6.34034798e-02, -1.48435450e+00,\n",
            "        1.23797941e+00,  1.97003710e+00,  1.28148997e+00,  2.87285399e+00,\n",
            "       -5.79824090e-01, -4.37285364e-01,  2.48414129e-01, -1.50192881e+00,\n",
            "       -4.50831985e+00,  1.40271163e+00, -1.44719374e+00,  1.89962387e-01,\n",
            "       -1.73229218e-01, -2.71111906e-01, -6.71091437e-01, -1.79704928e+00,\n",
            "        4.72828507e-01,  2.58237600e+00, -3.71107483e+00,  9.52147245e-01,\n",
            "       -8.83544922e-01, -7.04373598e-01,  3.78989434e+00,  3.23835611e-01,\n",
            "        5.65838695e-01,  2.68797445e+00,  3.47258949e+00,  3.95562887e-01,\n",
            "        2.72374320e+00,  6.42842889e-01, -1.65994167e-01, -1.36033505e-01,\n",
            "        3.01423222e-01,  9.18364406e-01, -2.22675228e+00, -1.79453444e+00,\n",
            "        1.36309600e+00,  2.49675095e-01,  1.13934243e+00,  7.46527374e-01,\n",
            "       -4.11002636e-02, -2.37712651e-01,  7.76864946e-01, -3.66025120e-01,\n",
            "        1.66912830e+00, -1.58502853e+00, -4.38776970e+00,  6.36688948e-01,\n",
            "       -1.84997499e+00, -3.95855546e+00, -1.97240937e+00, -2.62128162e+00,\n",
            "       -2.07029533e+00,  1.10583353e+00, -1.55126548e+00, -1.75473571e-01,\n",
            "        3.48892212e+00, -1.05271406e+01, -2.85234749e-01, -3.05800796e+00,\n",
            "        2.05185008e+00,  9.39142823e-01,  2.56359673e+00, -3.00407219e+00,\n",
            "       -5.18588543e-01, -4.21030998e+00,  1.04664552e+00,  1.04306626e+00,\n",
            "        1.49692953e+00,  6.06880188e-01,  2.85607904e-01, -2.21422696e+00,\n",
            "       -3.80583525e-01,  3.98226976e-01, -3.36192155e+00,  3.00117207e+00,\n",
            "       -6.33570910e-01,  8.67550433e-01,  3.01050991e-01, -1.78455019e+00,\n",
            "        1.06336927e+00, -3.12352371e+00,  5.68766594e-01,  3.19072461e+00,\n",
            "        1.28806901e+00, -8.01815569e-01,  1.32250214e+00,  3.16124058e+00,\n",
            "        4.49571657e+00,  9.97212291e-01, -1.92889953e+00,  1.37252772e+00,\n",
            "        4.09529239e-01,  4.10737896e+00, -4.52384186e+00, -1.54349124e+00,\n",
            "       -3.09637487e-02, -1.80981964e-01, -1.76659417e+00,  2.67063880e+00,\n",
            "       -1.35303640e+00, -3.61401260e-01,  2.09646440e+00, -3.61193562e+00,\n",
            "       -6.91619039e-01,  2.13967061e+00, -1.18208849e+00, -3.31592232e-01,\n",
            "       -1.18563640e+00,  8.19919825e-01, -3.48867416e+00,  3.40113020e+00,\n",
            "       -2.59839773e+00,  1.42112076e+00, -1.66394413e-01,  4.88597631e-01,\n",
            "       -3.67623806e+00, -3.38071197e-01,  1.75852180e+00, -1.61601615e+00,\n",
            "       -4.86027122e-01,  4.84247398e+00,  3.85630345e+00, -2.93014836e+00,\n",
            "        1.06608224e+00,  2.42743611e+00,  8.30794871e-01,  2.19041657e+00,\n",
            "        2.94357491e+00,  2.93638444e+00, -1.17400467e+00, -2.12018847e+00,\n",
            "       -1.00857091e+00, -2.84874678e+00,  3.29255164e-01, -3.21061850e+00,\n",
            "        1.12564552e+00, -3.58572054e+00,  4.88567263e-01,  7.61265874e-01,\n",
            "        3.95108652e+00,  8.32675457e-01,  9.43237364e-01, -2.58407831e+00,\n",
            "        2.00920892e+00,  2.33938909e+00, -1.25634134e-01,  1.60791326e+00,\n",
            "        1.46487951e+00, -3.77774462e-02, -1.70032847e+00,  2.95444906e-01,\n",
            "       -6.86618984e-01, -1.91047525e+00, -1.83636510e+00,  2.17386913e+00,\n",
            "        1.53475952e+00, -3.06767249e+00,  2.31356215e+00, -1.03317451e+00,\n",
            "        8.32100511e-01,  1.48475975e-01,  3.62771720e-01,  1.59621000e+00,\n",
            "        1.59274650e+00,  1.51023519e+00,  1.99004352e+00,  2.32286692e+00,\n",
            "        3.03641462e+00, -1.43702459e+00, -3.01772928e+00,  1.03856242e+00,\n",
            "       -1.00509107e+00,  3.73515582e+00, -1.09552050e+00,  1.79538429e+00,\n",
            "       -3.13084912e+00, -1.03372741e+00, -3.00444603e+00, -2.69450903e+00,\n",
            "        8.52431893e-01, -6.16444707e-01,  2.83208823e+00, -1.54529464e+00,\n",
            "        6.13398910e-01,  2.74633956e+00, -2.05665255e+00, -2.32612991e+00,\n",
            "        1.09600043e+00,  4.69885945e-01,  1.75094986e+00,  5.19741178e-01,\n",
            "        4.15028721e-01, -1.46653783e+00, -1.74356329e+00, -5.66425323e-01,\n",
            "       -1.94091320e+00, -6.11809635e+00, -1.93841279e+00, -2.17621732e+00,\n",
            "       -1.09949934e+00,  6.43323302e-01, -1.83830822e+00, -2.74009657e+00,\n",
            "       -2.71909928e+00, -1.97036409e+00,  2.70801973e+00,  1.42383122e+00,\n",
            "        9.30037498e-02, -2.58460617e+00,  1.40081036e+00, -3.73107839e+00,\n",
            "        3.03151083e+00,  6.98954105e-01, -1.12643051e+00, -3.68589401e+00,\n",
            "        8.91135395e-01,  1.99323964e+00,  2.02787474e-01, -3.46400094e+00,\n",
            "       -3.52722383e+00,  2.28716701e-01, -1.24070251e+00, -1.84220231e+00,\n",
            "        2.34834814e+00, -3.01223063e+00,  1.59048915e+00,  4.43670869e-01,\n",
            "       -3.29297638e+00, -4.25063896e+00, -8.29217970e-01, -2.06139302e+00,\n",
            "        1.73560524e+00,  1.72532320e+00, -1.21724725e+00,  3.66679668e+00,\n",
            "       -9.17252958e-01, -2.17319345e+00,  1.20941305e+00, -2.15987182e+00,\n",
            "        1.76535594e+00, -2.15579414e+00, -3.27820808e-01,  2.07092953e+00,\n",
            "        1.33284223e+00,  1.06704533e+00,  2.62217283e+00,  4.57279205e+00,\n",
            "       -1.38639927e+00,  1.47872496e+00, -9.19872165e-01, -8.51418495e-01,\n",
            "        1.72283006e+00,  2.02908659e+00, -3.41592383e+00,  2.92667937e+00,\n",
            "        6.74810886e-01,  2.11298394e+00,  2.14412189e+00, -2.58149958e+00,\n",
            "        1.81397215e-01, -8.03017020e-01, -3.63896060e+00, -1.10887989e-01,\n",
            "        1.13219452e+00,  5.82042217e-01, -4.85646725e+00,  1.23977995e+00,\n",
            "       -2.68725824e+00,  3.15896273e+00, -2.27429366e+00, -2.49889207e+00,\n",
            "        4.58156109e+00, -1.78458178e+00, -2.16285610e+00,  4.13741618e-01,\n",
            "        1.23420990e+00,  4.16582227e-01,  2.07283902e+00,  1.23682284e+00,\n",
            "        2.64514637e+00,  9.37068105e-01,  1.07692331e-01,  2.87974626e-02,\n",
            "        6.85405374e-01,  1.82493842e+00, -1.95267189e+00,  2.01451850e+00,\n",
            "       -2.09759057e-01, -1.18578064e+00,  2.50680470e+00,  2.56264400e+00,\n",
            "        1.47831607e+00,  1.09935760e+00, -4.66810316e-01,  4.58920717e-01,\n",
            "        1.33446288e+00,  1.68661177e-02,  1.62934470e+00, -1.17298722e+00,\n",
            "        3.79545784e+00, -1.30921960e+00, -5.92968285e-01,  1.02624059e+00,\n",
            "       -3.70925522e+00,  1.39023507e+00, -5.52004218e-01, -2.72760201e+00,\n",
            "       -2.89888573e+00, -1.11324823e+00, -1.25445831e+00, -2.73287266e-01,\n",
            "       -2.03301549e+00, -1.17911434e+00,  1.52408051e+00,  1.35745740e+00,\n",
            "       -1.08329332e+00,  4.42173100e+00, -2.54046053e-01,  8.75454009e-01,\n",
            "       -1.95392227e+00, -7.69184291e-01,  5.57523429e-01,  5.98706365e-01,\n",
            "       -1.07243109e+00,  2.60576129e+00,  2.79644996e-01,  2.50692272e+00,\n",
            "       -5.37911892e-01, -2.32207090e-01, -5.86133003e-01,  6.24436855e-01,\n",
            "       -1.48232675e+00,  2.99595737e+00,  4.53868675e+00,  5.88292360e-01,\n",
            "        1.01520419e+00, -7.62540698e-01,  5.23660183e-01,  3.61204982e+00,\n",
            "        1.95485425e+00,  5.10227561e-01,  3.37802410e+00, -4.84271422e-02,\n",
            "        2.74695325e+00,  1.23510134e+00,  1.63499093e+00, -2.26153922e+00,\n",
            "        6.38298690e-01,  3.46448213e-01,  4.09493971e+00,  7.06559896e-01,\n",
            "        2.27768826e+00, -2.20109487e+00, -1.16258264e-01,  3.93531299e+00,\n",
            "        2.29964447e+00, -8.16709697e-02, -2.07516456e+00,  2.03995824e+00,\n",
            "        4.22938704e-01,  8.44982028e-01, -8.39258730e-01, -9.59420145e-01,\n",
            "        1.53982091e+00,  4.05063629e-02,  5.75197935e-02,  1.56351581e-01,\n",
            "       -2.02082467e+00, -2.49505329e+00, -2.41994470e-01, -1.20912290e+00,\n",
            "        4.18260336e-01,  1.82223797e+00, -8.56142879e-01,  6.09380245e-01,\n",
            "       -9.70710874e-01, -3.43694091e+00,  5.69467211e+00,  1.14762461e+00,\n",
            "       -3.19300985e+00,  1.82419407e+00,  2.19161391e+00, -8.61003757e-01,\n",
            "        3.18899179e+00,  5.03023267e-01,  1.67153454e+00, -3.51283026e+00,\n",
            "       -3.49081659e+00,  1.22052372e+00, -1.49279928e+00,  3.62583685e+00,\n",
            "       -1.80259395e+00, -1.16372108e-02,  2.57909417e+00,  1.29553223e+00,\n",
            "        1.25900364e+00, -3.53775907e+00, -1.75113440e+00,  2.41199613e-01,\n",
            "       -5.54930680e-02, -2.79316330e+00, -2.29727602e+00,  1.11883557e+00,\n",
            "       -2.91963172e+00, -1.90937781e+00,  7.77175367e-01,  3.33807969e+00,\n",
            "        7.09599972e-01, -2.23845649e+00,  5.29924035e-01, -7.96891451e-01,\n",
            "       -2.55835176e+00, -2.93899012e+00,  2.24737740e+00,  1.84763741e+00,\n",
            "        3.32655907e-02,  2.35376716e+00,  8.05355906e-02, -3.34252000e+00,\n",
            "        2.95913398e-01,  2.78572291e-01,  1.58611786e+00, -2.82432485e+00,\n",
            "       -2.42875791e+00,  3.70401859e+00, -2.14338303e+00,  2.49473524e+00,\n",
            "       -1.49829102e+00, -8.58162045e-01,  9.77929235e-02, -1.86014581e+00,\n",
            "        1.34337616e+00, -9.07014489e-01,  2.68574309e+00, -1.55719519e+00,\n",
            "       -2.60401678e+00, -3.72714114e+00, -1.60040796e+00,  5.50960445e+00,\n",
            "        4.23869967e-01, -1.70667124e+00,  7.41516173e-01,  2.55942774e+00],\n",
            "      dtype=float32)), ('is', array([-3.6936131e+00, -6.4916480e-01,  1.3264152e+00,  6.3745856e-01,\n",
            "       -2.2383337e+00, -9.2996550e-01, -8.6979824e-01, -1.1046201e-02,\n",
            "        7.1780163e-01, -4.1533618e+00, -6.7654359e-01,  9.2438513e-01,\n",
            "       -3.7866504e+00,  5.4007459e-01, -1.9053508e+00, -7.4335361e-01,\n",
            "       -1.5402403e+00, -8.9102221e-01,  1.7406009e+00, -4.7409892e-01,\n",
            "        3.9283261e+00,  3.2424502e+00, -2.3599896e+00, -2.2649513e-01,\n",
            "       -1.7276913e-01,  9.4649380e-01,  2.2080216e+00,  4.3508965e-01,\n",
            "       -9.4457942e-01, -1.1336756e+00,  1.9384911e+00,  3.4512353e+00,\n",
            "        2.4484239e+00, -2.5752983e+00,  8.1204861e-01, -4.1874337e-01,\n",
            "        1.9420046e+00, -1.5825703e+00, -3.8143406e+00,  3.4092838e-01,\n",
            "        3.2915306e-01, -3.8838043e+00,  1.7967271e+00,  7.3748684e-01,\n",
            "       -1.6416945e+00, -7.0970857e-01,  3.7090528e+00, -1.2750698e+00,\n",
            "       -1.0187578e+00, -1.5557512e+00, -7.9777403e+00, -1.4395469e+00,\n",
            "        3.7259591e-01,  3.7395835e+00,  1.7665012e+00,  2.4059501e+00,\n",
            "       -7.0090449e-01, -3.7366152e+00,  3.1233816e+00, -2.1991763e+00,\n",
            "       -6.0796559e-01, -2.0431819e+00,  1.0210094e+00,  9.1822428e-01,\n",
            "        2.1195467e+00,  1.4652407e+00,  2.3167212e-02,  5.7806051e-01,\n",
            "       -1.1911511e+00,  2.9820149e+00, -2.1114869e-01, -9.1969609e-01,\n",
            "        1.9741473e+00,  8.9399332e-01, -1.5321095e+00,  1.6010913e+00,\n",
            "       -2.2357775e-01, -6.3573956e-01,  3.2017798e+00, -1.5108937e+00,\n",
            "       -1.3894113e+00,  4.8757925e+00,  8.0650437e-01, -3.3077779e-01,\n",
            "        2.7638166e+00, -2.4250245e+00, -1.7225134e+00,  7.4639630e-01,\n",
            "       -1.2955427e+00,  1.1609869e+00,  1.8585016e+00, -1.0732962e+00,\n",
            "       -3.3274078e-01, -1.9028125e+00,  2.0175402e+00, -4.1742282e+00,\n",
            "        1.0388137e+00, -5.9108949e-01,  2.2885070e+00, -1.3874278e+00,\n",
            "       -2.5663865e+00, -5.1375585e+00,  1.4000945e+00, -1.8661795e+00,\n",
            "       -3.5389259e-01, -1.5956144e+00, -2.4151330e+00,  4.0941267e+00,\n",
            "        7.3022068e-01, -2.6975632e+00,  5.2177590e-01,  1.9661360e+00,\n",
            "       -6.3014656e-01, -1.5782938e+00, -1.2491441e+00, -5.0643420e-01,\n",
            "       -8.8002867e-01, -4.8835501e-01,  8.6066151e-01, -2.5432725e+00,\n",
            "        3.3892609e-02,  2.8314576e+00,  7.6257956e-01,  1.9100407e+00,\n",
            "        1.9135007e+00,  2.0190988e+00, -2.4984059e+00,  3.9349279e+00,\n",
            "       -1.5338621e+00, -1.1455339e+00,  2.0406339e+00,  2.8334510e+00,\n",
            "        5.1817360e+00, -1.8117393e+00,  9.9484640e-01,  1.4365437e+00,\n",
            "       -5.2149963e-01, -1.0414543e+00, -4.1677694e+00,  5.8752656e-01,\n",
            "       -1.3732055e-01,  1.8091953e+00,  2.1019194e+00, -1.2721183e+00,\n",
            "        1.0105914e-01, -9.0509653e-01, -9.7939414e-01, -1.1741219e+00,\n",
            "        7.6194787e-01,  1.3321075e+00, -8.9778554e-01,  1.3082376e+00,\n",
            "       -3.5242457e+00, -1.3711685e+00,  7.5260168e-01, -1.4826318e+00,\n",
            "        1.5443845e+00,  2.5748980e+00, -2.6413279e+00,  7.6403487e-01,\n",
            "        6.0673636e-01, -5.0351310e-01, -1.2460723e+00, -4.7198391e-01,\n",
            "        1.2635893e+00, -2.2631168e+00,  2.4811983e-01,  2.3234904e+00,\n",
            "        5.0420654e-01, -1.6477125e+00, -6.1991408e-02, -7.4393934e-01,\n",
            "       -1.1239361e+00, -1.7165140e+00,  1.8859386e-02,  1.6821129e+00,\n",
            "       -2.8499866e+00, -2.7430910e-01,  3.3396909e+00,  1.8888724e+00,\n",
            "       -1.4509302e+00,  1.0579758e+00,  4.1947663e-03, -4.5998621e+00,\n",
            "       -1.9142792e+00,  8.4043241e-01, -1.5852840e+00, -1.9978207e+00,\n",
            "       -9.2427897e-01,  2.6883612e+00, -3.3849230e+00,  3.4572864e+00,\n",
            "       -7.9968357e-01, -2.1188581e+00, -2.9475966e-01,  2.1394563e+00,\n",
            "       -1.4348196e+00, -2.7804601e+00, -2.6450725e+00, -9.1196430e-01,\n",
            "        2.0454125e+00,  3.0591288e+00, -3.1546342e-01,  7.2125214e-01,\n",
            "       -1.8134420e+00,  2.8138576e+00,  4.3759400e-01, -1.3370022e-01,\n",
            "       -3.0754519e+00,  1.4638140e+00,  5.9340554e-01,  3.2940168e+00,\n",
            "       -8.5106182e-01, -5.2346015e-01,  2.6472681e+00,  1.6829696e+00,\n",
            "       -1.8709942e+00, -1.2642447e+00,  2.7336733e+00,  9.5997733e-01,\n",
            "        1.6197171e+00, -4.3186803e+00, -3.3381429e+00,  1.4881967e+00,\n",
            "       -6.3726902e-01,  4.5446162e+00,  2.4292254e+00,  2.6097066e+00,\n",
            "        2.6960456e+00,  7.7185643e-01,  2.8025877e+00, -4.5449594e-01,\n",
            "        1.9008429e+00,  7.9993501e-02,  3.9220026e-01,  3.2386413e+00,\n",
            "        1.8475758e+00, -5.7649833e-01,  1.9831605e+00,  9.1400909e-01,\n",
            "        1.1994431e+00,  1.5564363e+00,  4.3395228e+00, -3.7026868e+00,\n",
            "        1.8227100e-02, -3.2166612e-01, -2.1996241e+00, -5.3418231e-01,\n",
            "       -3.3306353e+00, -6.9661236e-01, -2.9941669e+00, -2.2622876e+00,\n",
            "        2.7006236e-01, -7.4965590e-01, -2.3156698e+00,  5.7799518e-01,\n",
            "       -2.4964223e+00, -1.0400088e+00,  1.0275784e+00,  4.3965858e-01,\n",
            "       -4.2481795e-01,  7.8556442e-01, -1.5176001e+00, -2.6731905e-01,\n",
            "       -1.8588412e+00,  2.0664361e-01, -9.5453000e-01,  2.2280397e+00,\n",
            "        4.5503035e+00,  1.4876662e+00, -2.0743876e+00, -2.6986020e+00,\n",
            "        8.3348608e-01, -1.2214476e-01, -2.6996076e+00, -3.4740601e+00,\n",
            "       -3.4443116e+00, -1.5493644e+00, -5.0032368e+00,  1.3049555e+00,\n",
            "        1.6820889e+00,  1.2403417e+00, -1.1039284e+00, -1.3724066e+00,\n",
            "        3.3777773e-02,  5.2272439e-01, -2.0406072e+00, -1.5048784e+00,\n",
            "       -2.2662427e+00, -2.5664444e+00, -4.0494499e+00,  1.7159024e+00,\n",
            "       -3.0760126e+00, -6.3956089e+00,  4.5678120e+00,  1.2003735e+00,\n",
            "        1.2731895e+00,  7.0134538e-01, -5.2015597e-01, -1.1901553e+00,\n",
            "       -4.8421025e-03, -3.7701743e+00, -4.3924063e-01, -3.1648986e+00,\n",
            "       -1.4667506e+00,  5.9081447e-01, -9.7630203e-01,  3.4653580e-01,\n",
            "       -3.6619640e+01, -2.5459747e+00, -1.3552889e+00, -5.9234142e-01,\n",
            "        9.6094054e-01, -2.9003024e-03, -4.7794604e-01, -2.8228760e-03,\n",
            "       -1.4871324e+00, -3.2601351e-01, -2.8538816e+00, -2.5150001e+00,\n",
            "       -2.9965420e+00,  1.3221452e+00,  1.8637592e+00, -3.4856634e+00,\n",
            "       -1.5134584e+00,  1.4903955e+00,  5.8037829e-01,  3.8152342e+00,\n",
            "       -2.8718462e+00, -4.1519940e-01, -1.0778165e+00, -1.2036705e+00,\n",
            "       -2.4488223e+00,  3.3278614e-01,  1.6219407e+00,  5.8989173e-01,\n",
            "       -1.6045240e-01, -4.4492722e+00, -1.9969853e+00,  3.6858869e-01,\n",
            "        4.5687404e-01,  3.7609034e+00, -2.3731236e+00,  7.0753968e-01,\n",
            "        4.5788890e-01, -9.5696855e-01,  3.2662640e+00, -2.8816020e-01,\n",
            "       -4.6123907e-01,  1.6537869e+00,  1.7158840e+00,  2.0979676e-01,\n",
            "        2.1983023e+00, -3.9730579e-01, -3.3438140e-01, -2.3690193e+00,\n",
            "        1.6532081e-01,  4.0991817e+00, -4.8172007e+00, -1.7149329e+00,\n",
            "       -1.1016763e+00, -1.1877431e+00,  7.3419017e-01, -3.6138836e-01,\n",
            "        1.2271140e+00,  8.8051325e-01,  6.9435954e-01, -1.7898861e+00,\n",
            "        2.7824349e+00, -2.0472994e+00, -1.2211678e+00,  2.0807030e+00,\n",
            "       -1.4071856e+00, -1.5005164e+00, -4.5010815e+00, -3.2176955e+00,\n",
            "        3.9888191e-01,  1.7593210e+00,  2.9637867e-01,  1.3111186e+00,\n",
            "        1.7826204e+00, -1.0648305e+01, -7.3398626e-01, -3.4418528e+00,\n",
            "        2.0452328e+00,  4.9285641e-01,  7.8177142e-01, -1.9489238e+00,\n",
            "       -2.5629053e+00, -5.7222905e+00, -1.2719601e-01,  2.1712725e+00,\n",
            "        6.6714936e-01,  5.0513309e-01, -7.6030672e-01,  3.0063385e-01,\n",
            "        2.3300939e+00,  2.6118522e+00, -3.4801143e-01,  4.7161913e+00,\n",
            "       -1.4384682e+00,  2.1736429e+00, -6.8353403e-01, -1.0930793e+00,\n",
            "        2.1342320e+00, -1.4864216e+00,  2.0403533e+00,  3.1883626e+00,\n",
            "        4.7703490e+00,  1.5276355e-01,  8.3814561e-01,  5.1185431e+00,\n",
            "        5.6009054e+00,  2.9843731e+00, -1.8185456e+00,  1.4111661e+00,\n",
            "        2.7592688e+00,  4.3015528e+00, -6.0116953e-01, -1.5080428e+00,\n",
            "        4.0745914e-01, -5.4498553e-01, -1.9987608e+00,  4.8906155e+00,\n",
            "       -2.9911532e+00, -1.3709620e-01,  1.6464858e+00, -3.3127637e+00,\n",
            "       -8.5517883e-01,  1.9957432e-01,  3.1978124e-01, -1.4650692e+00,\n",
            "       -3.1443806e+00,  1.1396453e+00, -3.4784145e+00,  4.1889796e-01,\n",
            "       -6.1333787e-01,  1.5554081e-01, -8.7003493e-01,  3.8532479e+00,\n",
            "        1.7353168e-01,  2.2841065e+00,  6.1933708e-01, -1.0639852e+00,\n",
            "       -2.9947824e+00,  5.3917437e+00, -3.0314028e-03, -2.4705596e+00,\n",
            "        1.4315869e+00,  2.3431990e+00,  2.9366708e-01, -4.3838459e-01,\n",
            "       -2.0184727e+00,  3.4412436e+00,  3.2384138e+00,  9.0133971e-01,\n",
            "        7.6722133e-01, -3.3728628e+00, -1.9782152e+00, -1.9836189e+00,\n",
            "        2.5271583e+00, -2.3086119e+00, -5.2198637e-01, -4.4360229e-01,\n",
            "       -1.5135169e-02,  4.6505928e-03, -8.1558025e-01, -4.6687541e+00,\n",
            "        2.2539101e+00,  1.2557261e+00,  7.0334566e-01,  2.8604441e+00,\n",
            "        1.3580842e+00,  7.3257732e-01, -1.0729924e+00,  2.5471656e+00,\n",
            "       -1.9063158e+00, -1.2449715e+00, -1.7718906e+00, -4.2406973e-01,\n",
            "        8.0127752e-01, -3.2321439e+00,  1.4707749e+00,  1.0261492e+00,\n",
            "       -6.7659354e-01,  6.8170214e-01, -8.6040813e-01,  5.3923213e-01,\n",
            "        1.1777929e+00, -3.8892338e-01, -1.1658629e+00,  2.0942361e+00,\n",
            "        2.4887218e+00, -1.9788036e+00, -7.9376435e-01,  1.5351042e+00,\n",
            "       -7.7426535e-01,  1.9307288e+00, -4.2418041e+00,  4.6999484e-01,\n",
            "       -2.1066141e+00,  1.3653737e+00, -1.2784021e+00, -2.2013690e+00,\n",
            "        1.3051666e+00,  6.3362432e-01, -1.3691987e+00, -3.5834539e+00,\n",
            "        1.9185579e+00,  1.5338340e+00, -4.3848181e-01, -8.1353158e-01,\n",
            "        1.7122843e+00,  1.4445944e+00,  1.3074538e-01, -2.0152144e+00,\n",
            "       -6.0794491e-01, -1.9106205e+00,  1.0759044e-01, -1.2460335e+00,\n",
            "        7.8742403e-01, -3.6572444e+00, -1.9562647e-02,  1.3234963e+00,\n",
            "        2.9457607e+00, -2.1431551e+00, -2.3588777e+00,  1.7680395e+00,\n",
            "       -2.4375989e+00, -8.2611620e-01,  3.4752524e+00,  6.8054581e-01,\n",
            "        1.2481339e+00, -2.2380369e+00, -2.1905091e-01, -5.1326613e+00,\n",
            "        1.3879175e+00, -5.3426182e-01, -5.8717614e-01, -2.8182619e+00,\n",
            "       -2.0982549e-01,  4.7976488e-01, -3.3187399e+00, -8.7854564e-01,\n",
            "       -3.6815209e+00,  3.3171475e-04, -9.1552985e-01, -9.2090547e-01,\n",
            "       -8.5030174e-01, -7.4507838e-01, -1.1574113e+00, -3.9363438e-01,\n",
            "        1.1677371e-01, -2.5789826e+00, -2.3053274e+00, -3.2414749e-01,\n",
            "       -8.9811838e-01,  8.4747934e-01,  3.9895868e-01,  2.2442625e+00,\n",
            "        6.3963264e-02, -1.4333651e+00,  1.2932411e+00, -3.3714190e+00,\n",
            "       -1.5105803e+00, -2.1409445e+00, -6.1090624e-01,  4.9079287e-01,\n",
            "       -1.3314092e-01, -1.1032519e-01, -1.3792351e+00,  2.9763401e-02,\n",
            "        1.7981529e+00,  8.8108939e-01,  3.4504414e+00,  2.7188408e-01,\n",
            "        3.1678476e+00,  1.6798770e+00, -1.6656517e+00, -6.8392205e-01,\n",
            "        1.7092943e+00,  2.3293247e+00,  1.3627096e-01, -2.7649746e+00,\n",
            "        1.3831081e+00,  1.0942190e+00, -2.2350276e+00, -2.1695569e+00,\n",
            "       -1.0535117e+00, -2.2815400e-01, -3.7481947e+00,  2.0187023e+00,\n",
            "        8.0545706e-01,  3.0738258e+00,  1.1648651e+00, -6.0576499e-01,\n",
            "        2.1524353e+00, -2.1265831e+00, -3.8191423e+00,  8.9095247e-01,\n",
            "       -1.5352212e+00, -6.1744590e+00,  1.9551690e+00,  8.9391732e-01,\n",
            "        2.2887204e+00,  3.0703592e-01, -3.6015421e-01, -1.4018190e+00,\n",
            "        1.2175610e+00,  3.1510811e+00,  1.1273377e+00,  7.2250593e-01,\n",
            "       -3.1145897e+00, -1.2624366e+00,  1.4264506e+00,  1.9020288e+00,\n",
            "        9.0609002e-01,  6.7687893e-01, -4.3731570e-01, -7.1926260e-01,\n",
            "        1.1130285e+00,  3.4170187e-01,  8.7937456e-01, -1.8719531e+00,\n",
            "        9.0805316e-01, -4.0830030e+00,  1.4468467e-01,  1.2142437e+00,\n",
            "       -2.7669535e+00,  1.4898044e-01,  2.0383587e+00, -3.8762891e-01,\n",
            "       -2.6181204e+00,  5.4143918e-01, -6.9003415e-01, -3.6672821e+00,\n",
            "       -3.4593709e+00,  5.0146991e-01,  2.2707469e+00,  1.5380719e+00,\n",
            "       -1.1069282e+00,  3.4457073e+00,  1.3068244e+00, -2.4084251e+00,\n",
            "        1.0193338e+00, -2.5181612e-01,  2.6819100e+00, -1.3548877e+00,\n",
            "        1.9155204e-02, -1.0733184e+00, -6.6056654e-02,  3.7506807e+00,\n",
            "        1.0107307e+00, -2.0909133e+00,  1.5398815e+00, -1.3039562e+00,\n",
            "       -2.1116626e+00,  5.0105257e+00,  3.6007209e+00, -1.1629994e+00,\n",
            "        1.9972790e+00,  1.0731370e+00,  1.3780657e+00, -4.4381523e-01,\n",
            "        1.3449736e+00,  2.1799502e+00,  9.0455967e-01,  1.5501672e+00,\n",
            "        4.2057991e+00,  2.9392538e+00,  2.7740836e+00, -3.3233526e+00,\n",
            "        1.9696116e-01,  1.0545052e+00,  3.7608194e+00,  1.2377191e+00,\n",
            "        8.9759523e-01, -2.1415217e+00, -7.7555990e-01,  1.5514189e+00,\n",
            "        2.8031225e+00,  4.8149794e-01,  2.1892338e+00,  2.7026160e+00,\n",
            "       -3.5473639e-01,  9.6925485e-01, -2.2449744e+00, -2.1259151e+00,\n",
            "        2.5007308e-01, -1.8882139e+00, -3.9018801e-01, -1.8753684e+00,\n",
            "       -1.9746052e+00, -1.2181193e+00, -6.4171553e-02, -3.8420193e+00,\n",
            "        6.4716828e-01,  1.8276513e+00, -4.3916753e-01,  1.4732931e+00,\n",
            "       -3.3307111e-01, -3.4418149e+00,  4.8501005e+00,  6.3881099e-02,\n",
            "       -1.4041576e+00,  1.4588107e+00,  3.5586317e+00,  5.6488919e-01,\n",
            "        2.0953476e+00, -1.9816406e+00, -8.2920648e-02, -7.6495707e-01,\n",
            "       -1.7489136e+00,  1.6986034e+00, -6.0296071e-01,  2.7619870e+00,\n",
            "       -2.6384940e+00, -1.1167768e-01,  3.3871584e+00,  2.0274720e+00,\n",
            "        4.9217564e-01, -2.8918555e+00,  7.1659070e-01,  1.6041691e+00,\n",
            "       -1.5404207e+00, -3.4837258e+00, -2.6941805e+00,  2.3184425e-01,\n",
            "       -4.6153274e+00, -1.5332251e+00,  6.4266837e-01,  2.4908156e+00,\n",
            "        1.0715441e+00, -1.1604868e+00,  5.5995882e-01, -2.0499001e+00,\n",
            "        1.0865598e+00, -6.2663722e-01,  3.9157858e+00,  2.7512720e+00,\n",
            "       -2.8009352e-01,  7.0344987e+00, -3.9650840e-01, -2.8185623e+00,\n",
            "       -1.0109532e+00,  2.8727183e+00,  1.2017834e+00, -1.0187482e+00,\n",
            "       -1.2865806e+00,  3.3537579e+00, -2.2255380e+00,  6.4769125e-01,\n",
            "        6.1927956e-01,  1.0400409e+00, -9.4538444e-01,  1.8184813e+00,\n",
            "       -5.5086881e-02, -1.1992550e+00,  9.7179037e-01, -1.1977906e+00,\n",
            "        1.1008482e+00, -1.8577096e+00, -1.7670141e-01,  2.5014267e+00,\n",
            "        1.2130004e-01, -1.3519651e+00, -8.0500245e-01,  5.0499945e+00],\n",
            "      dtype=float32)), ('a', array([-2.2509613e+00,  2.3951273e-01,  1.3522373e+00,  1.6802876e+00,\n",
            "       -1.5261861e+00, -2.0749142e+00,  1.0316242e+00, -2.2745126e-01,\n",
            "        4.6599060e-01, -7.1195042e-01, -3.2792509e-01, -2.8803155e+00,\n",
            "       -3.1726043e+00, -4.4522721e-01, -1.0793726e+00, -7.9573667e-01,\n",
            "        1.3283405e-01, -2.3188024e+00,  2.9882562e+00, -7.1860254e-01,\n",
            "        2.2045040e+00,  2.6459088e+00, -2.6278565e+00,  1.3572078e+00,\n",
            "        9.3373072e-01,  2.4865551e+00,  8.9365155e-01,  5.0377242e-02,\n",
            "        3.3414587e-01, -1.1971905e+00,  2.2694178e+00,  4.0191970e+00,\n",
            "        1.9852440e+00, -2.1850436e+00,  2.5378428e+00, -2.4988458e+00,\n",
            "        5.2788901e-01, -2.7135441e+00, -1.6017013e+00,  1.4625512e+00,\n",
            "        1.8639081e+00, -3.7828355e+00,  2.6851902e+00, -3.0577788e+00,\n",
            "       -2.4913619e+00, -4.0825665e-01,  4.3324035e-01, -1.6393827e+00,\n",
            "       -2.0576470e+00, -3.6096497e+00, -5.3749228e+00, -3.4457090e+00,\n",
            "        4.4586271e-01,  3.3251202e+00, -2.7616990e-01,  2.0578194e+00,\n",
            "       -6.0252893e-01, -3.7742088e+00,  3.6751056e+00, -1.3358605e+00,\n",
            "       -1.1680460e+00, -7.3259354e-01, -4.5515367e-01, -5.2977467e-01,\n",
            "        1.5176315e+00,  4.6883982e-01,  9.6331435e-01,  1.1269583e+00,\n",
            "       -2.9078133e+00,  1.7582836e+00, -1.6669090e+00, -1.3364738e+00,\n",
            "        9.1797280e-01,  1.3100126e+00, -3.0251412e+00, -6.5199637e-01,\n",
            "       -7.7653635e-01, -2.2693710e+00,  1.5591908e+00, -2.5700245e+00,\n",
            "       -1.9951298e+00,  1.1814482e+00, -8.0613530e-01,  1.9833114e+00,\n",
            "       -2.8674582e-01,  1.7286694e+00, -2.1787775e+00,  1.7452098e+00,\n",
            "       -2.8851483e+00,  2.0487216e+00, -8.8345820e-01,  5.8350742e-02,\n",
            "        4.0681899e-02, -1.5495948e+00,  1.5134448e+00, -1.7470150e+00,\n",
            "        2.6275587e+00, -1.8608155e+00,  2.5879030e+00, -2.1454287e+00,\n",
            "       -8.2808286e-01, -3.3733969e+00,  1.5724853e+00, -5.2858174e-01,\n",
            "       -3.7944406e-02, -2.3806603e+00, -3.5056645e-01,  2.0446892e+00,\n",
            "        1.3030680e+00, -3.1653708e-01, -1.4550745e-01,  2.4538574e+00,\n",
            "        8.8454241e-01, -1.7772717e+00, -1.3805616e+00,  1.3198924e+00,\n",
            "       -3.1791754e+00, -6.4536726e-01,  1.7404079e+00, -3.4152114e+00,\n",
            "        2.0991085e+00,  3.4717281e+00,  2.0577745e+00, -1.0132933e-01,\n",
            "        2.3448291e+00,  2.5009553e+00, -3.9055572e+00,  4.7835803e+00,\n",
            "       -2.9985673e+00, -6.6794240e-01,  1.7043360e+00,  3.7176437e+00,\n",
            "        5.7854609e+00, -2.0630252e+00,  1.1265563e+00, -1.5415256e-01,\n",
            "        1.4242870e-01, -1.9642999e+00, -4.1042867e+00,  1.8884416e+00,\n",
            "       -4.1893601e+00, -1.2738559e+00,  1.4724693e+00, -2.6704364e+00,\n",
            "        3.7282200e+00, -3.0426320e-01,  2.3593843e+00, -1.9438934e+00,\n",
            "        1.8334635e+00,  2.7011261e+00, -1.3830773e+00,  2.7660489e+00,\n",
            "       -5.0515785e+00,  1.4443003e-01,  7.0425957e-01, -3.4282038e-01,\n",
            "        1.9652448e+00,  2.8529091e+00, -2.0457125e+00,  8.5195291e-01,\n",
            "        2.7621889e+00,  1.7662649e+00, -1.0881697e+00, -1.8744770e+00,\n",
            "        3.2384992e+00, -1.0530045e+00, -2.6607364e-01,  5.4385319e+00,\n",
            "       -5.7495338e-01,  3.1880493e+00, -2.1179965e+00, -5.9051132e-01,\n",
            "        2.1605115e+00,  2.8658193e-01, -8.2733339e-01,  1.4120736e+00,\n",
            "       -4.6638435e-01,  2.1538636e-01,  2.4227147e+00,  1.1817781e+00,\n",
            "       -1.6640702e+00,  2.5418062e+00,  2.4755638e+00, -1.8046758e+00,\n",
            "       -2.7954881e+00, -1.7781286e+00, -1.0532327e+00, -2.6219616e+00,\n",
            "        2.7091997e+00,  2.5740969e+00, -3.1306133e+00,  1.2906544e+00,\n",
            "       -1.7021775e+00, -3.0474174e-01, -4.2408705e-04,  2.8548470e+00,\n",
            "       -2.5700626e+00, -1.6807437e-01, -7.9104745e-01,  4.5375955e-01,\n",
            "        1.7152801e+00,  2.0686893e+00,  3.5575569e-01, -1.8611958e+00,\n",
            "       -1.7123541e+00,  5.4877698e-01,  1.4337380e+00,  9.2384547e-01,\n",
            "       -3.5429177e+00,  3.8757017e+00, -1.2637227e+00,  3.1701584e+00,\n",
            "        1.8575218e+00, -3.7128800e-01,  2.2709877e+00,  2.2093582e+00,\n",
            "       -2.5857706e+00,  7.1658963e-01,  4.8099527e+00,  1.9619496e-01,\n",
            "        2.4954433e+00, -1.2750224e+00, -2.9244673e+00,  2.1186509e+00,\n",
            "       -3.0996686e-01,  5.6406107e+00,  2.8007414e+00,  6.5685481e-01,\n",
            "        6.8193932e+00,  2.8138361e+00,  1.5796130e+00, -1.8987252e+00,\n",
            "        4.2398363e-01,  1.9770364e+00,  1.8911662e+00,  3.2649570e+00,\n",
            "        2.3833956e-01, -2.6852565e+00,  1.4957581e+00,  7.1847320e-01,\n",
            "        1.3612887e+00, -3.5523945e-01,  1.8965912e+00, -1.9032189e+00,\n",
            "       -1.4184868e-01, -1.3634822e+00, -2.2870753e+00,  8.9477819e-01,\n",
            "       -8.7111628e-01, -1.4216628e+00, -3.8491068e+00, -3.0652566e+00,\n",
            "        3.6354291e-01, -1.6106279e+00, -1.6851389e+00,  9.5506620e-01,\n",
            "       -2.2039680e+00, -2.7627268e+00,  4.9663118e-01,  1.0673045e+00,\n",
            "        8.9099574e-01,  9.7543448e-01, -1.9539378e+00, -1.6752893e+00,\n",
            "       -1.4345094e+00,  4.0714511e-01, -1.0343981e+00,  2.0864234e+00,\n",
            "        4.0483713e+00, -1.8185660e-02, -1.4462113e+00, -2.6124346e+00,\n",
            "       -1.7524061e+00,  2.1167865e+00, -4.3359675e+00, -2.0473173e+00,\n",
            "       -1.6630538e+00, -1.9684417e+00, -2.2791650e+00,  1.0265366e+00,\n",
            "        1.7907032e+00,  2.7219219e+00, -2.7402613e+00, -1.1616714e+00,\n",
            "        9.3692702e-01,  1.2395570e+00, -9.7238636e-01,  1.2307144e+00,\n",
            "       -1.8627739e+00, -3.3801098e+00, -1.8686080e+00,  2.9353285e-01,\n",
            "       -3.5507443e+00, -5.1247811e+00,  4.1155100e+00,  6.8506247e-01,\n",
            "        1.3613216e+00,  7.5096726e-01,  1.3238966e+00, -3.1217856e+00,\n",
            "       -3.9861667e-01, -3.3354988e+00, -4.4032617e+00,  8.5085106e-01,\n",
            "       -6.6792530e-01,  3.1676331e+00, -1.9866586e+00, -3.2881036e+00,\n",
            "       -3.3792831e+01, -9.3085659e-01, -3.2243556e-01, -2.2117646e+00,\n",
            "       -3.9992806e-01,  1.2672403e+00, -3.3222091e+00, -4.5769703e-01,\n",
            "       -1.4414163e+00, -1.5421741e+00, -4.0789289e+00, -2.7218204e+00,\n",
            "       -1.4434944e+00, -3.0908000e-01,  2.6331103e+00, -3.1707922e-01,\n",
            "       -2.4088359e+00, -7.4798012e-01,  1.0562253e+00,  6.3800973e-01,\n",
            "       -1.2265269e+00,  2.7772806e+00, -2.1077087e+00, -3.3728263e+00,\n",
            "       -9.9584401e-01, -2.3201945e-01, -3.2761779e+00, -8.0758548e-01,\n",
            "        4.8730314e-02, -1.4039377e+00, -1.2246847e+00, -2.5556264e+00,\n",
            "        3.2305303e+00,  2.0185981e+00, -3.5488284e+00,  2.0129502e+00,\n",
            "        1.5663438e+00, -2.1292095e+00,  3.5916834e+00, -2.1435927e-01,\n",
            "        1.1148702e+00,  1.3897685e+00,  3.5856521e+00,  1.7508509e+00,\n",
            "        1.6304271e+00, -1.0384129e+00, -1.1738009e+00,  2.7303129e-02,\n",
            "       -6.7487143e-02,  2.7403796e+00, -3.2894125e+00, -2.4505310e+00,\n",
            "       -2.6897895e-01, -6.3078070e-01,  5.8271384e-01, -1.5814786e+00,\n",
            "        2.0965161e+00,  1.2927239e+00,  5.7077396e-01, -8.1235510e-01,\n",
            "       -5.1409012e-01, -3.1413636e+00,  1.0498829e+00,  1.0970428e+00,\n",
            "        1.1543579e+00, -2.3929472e+00, -5.3044295e-01, -5.3575583e+00,\n",
            "        9.9783504e-01,  3.6321259e-01,  3.5333461e-01,  1.8175850e+00,\n",
            "        1.3179778e+00, -1.0362404e+01,  1.3565853e-01, -3.8568292e+00,\n",
            "        1.2213070e-01,  7.6662546e-01,  2.4565604e+00, -3.2976043e+00,\n",
            "       -1.3906217e+00, -3.1604099e+00, -4.8658937e-01, -3.2052368e-01,\n",
            "        1.1952928e+00,  1.8185947e+00,  1.1279607e+00,  1.2454036e+00,\n",
            "        1.6696914e+00, -5.8016622e-01, -1.7783033e+00,  3.9665475e+00,\n",
            "       -1.2719199e-01,  1.5962347e+00,  6.0666448e-01, -1.4308281e+00,\n",
            "        2.8268764e+00, -3.0849147e+00,  2.8821976e+00,  2.7282414e+00,\n",
            "        3.4222646e+00, -1.9638883e+00,  8.8790810e-01,  4.1652346e+00,\n",
            "        2.3993517e-01,  4.3040946e-01, -4.0054989e+00,  3.3396664e-01,\n",
            "        2.9559605e+00,  4.7741461e+00, -2.1077746e-01, -3.6499891e-01,\n",
            "        2.8868467e-01, -7.6415014e-01, -2.5533049e+00,  3.3583984e+00,\n",
            "       -7.4781525e-01, -6.9233465e-01,  1.5167525e+00, -9.5894843e-01,\n",
            "        5.1942152e-01,  2.8718491e+00,  1.0383481e+00, -1.1021234e+00,\n",
            "       -2.3569174e+00,  1.4951656e+00, -4.4971166e+00,  1.7808645e+00,\n",
            "       -1.5194113e+00, -1.0261481e+00, -1.4751027e+00,  8.2234889e-01,\n",
            "       -4.3357539e-01, -1.3060989e+00,  2.3884926e+00, -4.5879393e+00,\n",
            "        3.0834335e-01,  3.4978595e+00,  9.9591970e-01, -3.1808181e+00,\n",
            "       -1.7204322e-01, -8.9981043e-01,  7.3785847e-01, -5.3346229e-01,\n",
            "       -4.3509904e-01,  9.8881596e-01,  3.1157627e+00, -4.1741252e-01,\n",
            "        2.8847566e-01, -3.7409611e+00, -1.8815417e+00, -2.9027886e+00,\n",
            "        3.6316020e+00, -3.5569575e+00, -7.9152834e-01, -2.0226088e+00,\n",
            "        2.8018951e+00,  4.9120381e-01,  8.3892727e-01, -2.5472770e+00,\n",
            "       -1.4122398e+00,  2.6446939e+00,  2.7771118e+00,  1.8330729e+00,\n",
            "        1.7448735e+00, -1.8665195e-03, -2.3022022e+00,  2.8381090e+00,\n",
            "       -2.9563327e+00, -2.0595450e+00, -5.0601239e+00,  1.7322978e-01,\n",
            "        3.0789607e+00, -4.1208229e+00,  8.4776723e-01,  2.7584894e+00,\n",
            "        1.0251822e+00,  1.9821632e+00, -2.5299683e+00, -1.2387242e+00,\n",
            "        2.1345158e+00,  1.4021188e-01,  2.2748230e+00,  2.6249037e+00,\n",
            "        3.3949232e+00, -2.2603292e+00, -1.5362798e+00,  3.9271629e+00,\n",
            "       -1.7327399e+00,  9.8465574e-01, -1.1795809e+00,  1.9089999e+00,\n",
            "       -2.7801132e+00, -8.9262760e-01,  4.7116897e-01, -6.9367719e-01,\n",
            "        1.7473514e+00, -2.0088372e+00, -1.1667128e+00, -2.6001904e+00,\n",
            "       -1.3078321e+00,  2.9263306e+00, -1.1504489e+00, -2.7291634e+00,\n",
            "        1.9313620e+00, -2.9855722e-01, -1.6088566e+00, -7.0329577e-01,\n",
            "       -1.4452100e+00, -3.3947313e+00, -5.8284372e-01, -1.4449464e+00,\n",
            "       -2.5131524e-01, -6.0466094e+00,  2.5247139e-01,  1.1093658e+00,\n",
            "        1.1603931e+00, -2.6570868e-01, -1.4585940e+00,  1.5132914e+00,\n",
            "        2.6963991e-01, -1.5630604e+00,  6.3553876e-01,  1.7816217e+00,\n",
            "        3.7433767e-01,  1.4592860e-02, -2.2732220e+00, -4.9142194e+00,\n",
            "        1.0991988e+00,  2.2265739e+00,  5.8004916e-02, -4.2308302e+00,\n",
            "       -9.2007613e-01,  1.0654442e+00, -1.5286707e+00, -1.9936463e+00,\n",
            "       -4.5512190e+00, -1.0240122e+00, -2.2704525e+00, -1.6415638e-01,\n",
            "       -2.7695227e+00,  1.3134800e-01, -3.7984047e+00,  1.0461457e-01,\n",
            "        1.2749852e+00, -5.3402185e+00, -7.5496042e-01, -2.1019084e+00,\n",
            "       -7.1542621e-01,  6.0427308e-01, -2.6773632e-01,  8.2667750e-01,\n",
            "        7.8702271e-01, -2.3359196e+00,  1.4492296e+00, -6.3654035e-01,\n",
            "       -1.9822178e+00,  2.0639358e-01, -1.0179186e+00,  1.9407948e+00,\n",
            "       -1.3912169e+00, -1.8007053e+00,  1.7518024e+00,  1.0425258e+00,\n",
            "        2.4647403e+00,  6.8170929e-01,  2.0460930e+00,  1.1621248e+00,\n",
            "        1.9957061e+00,  2.5146782e+00, -9.9365383e-01,  1.9891140e+00,\n",
            "       -3.1474754e-01,  1.8336157e+00, -3.3510566e-02, -3.8134351e+00,\n",
            "        3.3620481e+00, -4.8332319e-02, -2.4704256e+00, -2.2030792e-01,\n",
            "       -2.0940986e+00, -2.3361304e-01, -2.1356311e+00, -1.0599451e+00,\n",
            "        1.7282641e+00,  6.6912794e-01,  9.6126759e-01, -3.6056352e+00,\n",
            "        7.0709801e-01, -2.7018461e+00, -4.4097900e+00,  3.3636611e+00,\n",
            "       -6.3208699e-01, -3.3896000e+00,  2.4121170e+00,  6.4097536e-01,\n",
            "       -5.3162688e-01, -1.6592014e-01, -2.7024698e-01,  8.8154650e-01,\n",
            "       -1.0150086e+00,  8.8529015e-01,  1.5903410e+00,  1.3718281e+00,\n",
            "       -1.2875015e+00, -1.9014713e+00, -1.0684366e+00,  1.2940000e-01,\n",
            "        3.0592484e+00,  2.7392542e+00, -2.1789098e+00, -1.1983480e+00,\n",
            "        3.2345915e+00,  2.2125502e+00, -7.9165637e-02, -1.3173273e+00,\n",
            "        4.4118595e+00, -1.1552782e+00, -6.5785974e-01, -1.9341943e-01,\n",
            "       -1.1085522e+00,  1.1446358e+00,  1.3941784e+00, -1.4793068e+00,\n",
            "       -2.0898213e+00,  8.8888890e-01,  3.4443730e-01, -4.2833848e+00,\n",
            "       -3.2520101e+00,  7.3428613e-01,  3.1070530e+00,  3.4509451e+00,\n",
            "        1.0556042e-02,  2.9264241e-01,  1.9563744e+00, -2.5856680e-01,\n",
            "       -2.4599382e-01, -9.0601474e-01,  2.9235013e+00,  2.5449355e+00,\n",
            "        2.3113686e-01, -7.9972100e-01, -2.8319830e-01,  1.4028356e+00,\n",
            "       -4.6728760e-02, -3.5336781e+00,  2.1075015e+00,  7.5153959e-01,\n",
            "       -1.8570546e+00,  5.1984715e+00,  2.8714297e+00,  3.9084107e-01,\n",
            "        1.8262465e+00,  3.4102309e-01, -1.6515642e-01,  1.5298316e+00,\n",
            "        1.3711995e+00,  2.0534644e+00,  4.5290871e+00,  2.0354717e+00,\n",
            "        1.4655111e+00,  6.2462616e-01,  2.9892187e+00, -3.2762880e+00,\n",
            "        1.6804912e+00,  7.5845426e-01,  1.1074467e+00, -1.3928549e+00,\n",
            "       -7.2075999e-01, -1.5100986e-01, -5.5555761e-02,  1.7387620e+00,\n",
            "        3.7518167e+00,  5.3325291e+00,  7.8075707e-01, -3.7444010e-01,\n",
            "        7.7989727e-02,  3.1394329e+00, -1.4126689e+00, -8.0744833e-02,\n",
            "       -2.2633052e+00, -1.7474368e+00, -1.2575150e-01, -1.5555786e+00,\n",
            "       -2.7101331e+00, -3.1411057e+00, -3.6848917e+00, -1.8051226e+00,\n",
            "       -3.9174604e-01,  1.4507800e+00, -1.1526042e+00,  3.7908587e-01,\n",
            "       -3.0053157e-01, -3.7036314e+00,  7.1649809e+00,  1.2071404e+00,\n",
            "       -4.6325016e-01,  1.3369383e+00,  3.9590440e+00, -5.9300798e-01,\n",
            "        2.4638326e+00, -8.6900192e-01,  7.8769439e-01, -1.3850933e+00,\n",
            "       -3.2121105e+00, -2.3711416e-01,  1.2945766e+00,  3.1350231e+00,\n",
            "       -2.6872089e+00, -7.8025615e-01,  4.1831794e+00,  1.7822285e+00,\n",
            "        4.2722291e-01, -5.3394425e-01, -2.5771058e-01,  1.8650027e-01,\n",
            "       -4.9693739e-01, -2.4485679e+00, -3.5337400e+00,  2.5937457e+00,\n",
            "       -4.7093973e+00,  3.2850844e-01,  2.4002709e+00,  2.1868877e+00,\n",
            "        7.2543329e-01, -3.3779976e+00, -5.4267293e-01, -1.6326553e+00,\n",
            "       -1.1191313e+00,  2.8458369e-01,  3.5938077e+00,  1.4445792e+00,\n",
            "        2.7475154e-01,  2.4539087e+00, -1.1089212e+00, -2.0804546e+00,\n",
            "       -1.5321877e+00, -5.3730321e-01, -8.1358969e-01, -8.1212276e-01,\n",
            "       -2.7876508e-01,  2.6916294e+00, -4.2368948e-01, -9.1864723e-01,\n",
            "       -1.0348078e+00,  1.6405967e+00,  1.7969553e+00,  1.5605536e+00,\n",
            "       -8.7185031e-01, -3.6259527e+00,  5.1252037e-01, -1.5724301e-02,\n",
            "       -2.0885406e-01, -1.0535717e+00, -4.4241950e-01,  3.1288090e+00,\n",
            "       -7.5724560e-01, -1.1908400e+00, -1.9282305e-01,  6.1260486e+00],\n",
            "      dtype=float32)), ('one', array([-3.57056618e+00, -2.48316026e+00,  6.89478636e-01, -1.48279619e+00,\n",
            "       -1.00936306e+00, -1.18511713e+00, -7.19975591e-01,  3.17129946e+00,\n",
            "        6.41430616e-01,  2.61350751e-01,  1.23496401e+00, -3.17713588e-01,\n",
            "       -3.04682374e+00, -6.60136104e-01, -2.77826190e-02,  2.24312806e+00,\n",
            "       -1.13269579e+00,  1.83683121e+00, -3.79730177e+00, -1.23686051e+00,\n",
            "        4.94985676e+00, -1.91380605e-01, -3.54334474e+00,  1.80446357e-01,\n",
            "       -1.65030956e+00, -7.19634414e-01,  3.51956892e+00, -1.01961887e+00,\n",
            "       -8.86199832e-01,  1.04147643e-01,  1.52063203e+00,  1.28253067e+00,\n",
            "        2.76962066e+00, -9.40052569e-01, -1.92612982e+00,  1.53382993e+00,\n",
            "        2.96897197e+00, -3.43968034e-01, -2.41665316e+00, -9.46066976e-01,\n",
            "        6.93848372e-01, -3.22258562e-01, -1.24210030e-01, -3.07938528e+00,\n",
            "       -1.03360176e+00, -4.86531854e-03,  2.12452058e-02, -3.53303337e+00,\n",
            "       -1.15925908e-01, -1.79466355e+00, -7.22609997e+00, -1.53680551e+00,\n",
            "       -3.30966520e+00,  1.39770961e+00, -4.45517004e-01,  1.51677656e+00,\n",
            "       -2.16901827e+00, -2.77703643e+00, -1.43223786e+00, -2.30403617e-02,\n",
            "       -1.44304001e+00,  7.69381642e-01,  2.89101934e+00,  1.72020996e+00,\n",
            "       -3.81314307e-01,  1.46228051e+00,  7.22354650e-01,  2.93961501e+00,\n",
            "       -4.97092628e+00,  3.81090331e+00, -4.77412748e+00,  3.48977506e-01,\n",
            "       -1.51362807e-01,  3.36266875e+00, -1.60729811e-01, -1.52313113e+00,\n",
            "       -2.62206841e+00, -4.82901394e-01,  2.18403912e+00, -6.10109997e+00,\n",
            "        6.49831295e-01,  1.51737124e-01, -3.59211659e+00, -4.70679194e-01,\n",
            "        1.90351725e+00, -3.31529379e+00, -2.63423872e+00, -5.46104789e-01,\n",
            "       -5.74955177e+00, -2.81488943e+00,  1.03649318e-01, -5.34688234e+00,\n",
            "       -3.05931211e-01, -4.12732750e-01,  1.60256052e+00,  3.08998078e-01,\n",
            "        5.41995168e-01, -9.49538887e-01,  5.55761456e-02,  3.16058111e+00,\n",
            "       -1.17203832e+00, -6.94836617e-01,  4.67919946e-01, -2.04809308e+00,\n",
            "        1.49775839e+00, -1.72381997e+00,  6.25448287e-01,  1.48831934e-01,\n",
            "        5.54712105e+00, -6.97446406e-01,  2.82223368e+00, -2.96130776e-01,\n",
            "        9.42798674e-01,  1.03564417e+00, -2.23087144e+00,  8.69877696e-01,\n",
            "       -5.81735420e+00, -2.21491933e+00,  4.24313769e-02, -3.88313627e+00,\n",
            "       -2.92985141e-01,  1.88484859e+00, -4.94061613e+00,  2.33703351e+00,\n",
            "        1.73375738e+00,  1.11619473e+00,  5.30855954e-01, -1.00547683e+00,\n",
            "       -3.74949265e+00, -5.33253193e+00, -2.35227466e+00,  2.13247442e+00,\n",
            "        2.07415962e+00,  1.94571841e+00,  6.33660495e-01, -3.73133492e+00,\n",
            "       -8.45298827e-01,  1.11505485e+00, -6.33831501e+00, -2.96377754e+00,\n",
            "       -2.96482515e+00, -7.23459125e-01,  4.18975067e+00,  2.37280536e+00,\n",
            "        1.74028611e+00,  5.05076051e-01,  2.13491297e+00, -6.17371500e-01,\n",
            "        3.13610983e+00,  1.59795094e+00, -1.40090334e+00,  4.79708290e+00,\n",
            "        2.99208355e+00, -2.16216183e+00,  1.18467093e+00,  2.80460596e+00,\n",
            "       -7.75348306e-01,  3.94362831e+00, -2.24371409e+00, -5.00909328e-01,\n",
            "        2.52477384e+00,  1.22505724e+00,  2.84308434e+00,  2.45635414e+00,\n",
            "        6.64570272e-01,  2.10264683e+00, -3.20282555e+00,  6.22935295e-01,\n",
            "       -2.16826987e+00, -2.49286795e+00,  1.09675312e+00, -2.48688054e+00,\n",
            "       -1.18418145e+00, -2.53383636e+00, -1.56101632e+00, -3.45075965e-01,\n",
            "        1.47031379e+00, -2.67455721e+00,  2.78083682e+00, -3.80632973e+00,\n",
            "       -1.13444376e+00,  2.11679268e+00, -3.73848349e-01,  3.27701271e-01,\n",
            "       -4.53298235e+00,  1.10081816e+00, -1.02402270e+00,  1.54079676e+00,\n",
            "        1.90395367e+00,  1.33821571e+00,  2.72120023e+00,  2.72472411e-01,\n",
            "        2.14871907e+00, -2.04839373e+00,  2.73755383e+00,  2.78087544e+00,\n",
            "       -2.01412582e+00,  1.34380245e+00, -1.95803046e-02, -1.55055761e+00,\n",
            "        5.89897156e-01, -2.07236624e+00,  4.86764044e-01, -1.30756879e+00,\n",
            "        2.14536357e+00,  3.61105227e+00, -1.64309114e-01, -3.25373149e+00,\n",
            "       -5.02459335e+00, -1.18077612e+00, -3.56398964e+00,  3.18039680e+00,\n",
            "       -1.67501211e-01,  4.84186828e-01, -1.21380782e+00,  3.79272491e-01,\n",
            "        2.83040404e-01, -4.88817751e-01,  4.86379004e+00, -1.82085240e+00,\n",
            "        6.17538452e+00,  5.07856178e+00, -4.79322243e+00, -4.37633455e-01,\n",
            "       -1.88878977e+00,  3.96750784e+00,  2.85175610e+00,  9.58775058e-02,\n",
            "        6.90890026e+00,  3.12853694e-01, -1.65171814e+00, -6.31259680e-01,\n",
            "        1.58671081e-01, -1.21294534e+00, -1.12414825e+00,  5.07775402e+00,\n",
            "        7.65379891e-02, -1.46381688e+00,  1.36160803e+00, -3.29077148e+00,\n",
            "        8.80963802e-01,  8.29939187e-01, -5.02545881e+00, -4.43468809e+00,\n",
            "        5.21318555e-01, -2.21942258e+00,  5.53288221e-01, -3.04233742e+00,\n",
            "       -1.56912541e+00, -1.50560939e+00, -2.09509826e+00, -2.70814037e+00,\n",
            "       -5.17744422e-02,  1.36330545e+00, -6.09198987e-01,  1.27777779e+00,\n",
            "        4.15835202e-01, -6.62696362e-01,  7.33385026e-01,  1.94665480e+00,\n",
            "       -2.87382221e+00,  1.24965405e+00, -2.48022580e+00, -6.52301192e-01,\n",
            "        2.14378357e-01, -1.46861136e+00,  9.50549245e-02,  1.70895600e+00,\n",
            "        4.61088943e+00,  4.31923532e+00, -1.54753709e+00, -3.98251891e+00,\n",
            "        9.01148379e-01,  7.65382946e-01, -8.68681610e-01, -2.14241529e+00,\n",
            "       -2.97067463e-01,  1.60698569e+00, -2.65427160e+00, -1.64195448e-01,\n",
            "        1.04319358e+00, -2.45578766e-01, -4.48460996e-01, -4.26310390e-01,\n",
            "        2.33056355e+00, -2.87355804e+00,  6.61642253e-01,  1.64112651e+00,\n",
            "       -5.57926655e-01, -7.73799360e-01, -3.74842834e+00,  1.27984628e-01,\n",
            "       -2.87698507e+00, -3.72871351e+00,  4.02966738e+00,  2.73629975e+00,\n",
            "       -1.41500860e-01, -4.05830479e+00,  1.03632915e+00, -2.95809603e+00,\n",
            "       -1.67059684e+00, -5.23757637e-01, -2.21109891e+00,  4.10704327e+00,\n",
            "       -5.37440491e+00, -5.24142265e-01, -5.60272574e-01,  1.04673064e+00,\n",
            "       -3.33470535e+01, -2.22832537e+00, -2.73902702e+00,  4.59354937e-01,\n",
            "        3.47628504e-01,  1.95968854e+00,  2.46785307e+00, -6.87574923e-01,\n",
            "       -2.17919016e+00,  2.83521175e+00, -4.33061218e+00, -2.47179437e+00,\n",
            "       -1.08074796e+00, -3.43344748e-01,  3.25056648e+00,  1.01223731e+00,\n",
            "        1.97944298e-01,  2.81328034e+00,  2.83528864e-01,  4.39888096e+00,\n",
            "       -2.18365622e+00, -1.01762927e+00, -1.47979748e+00, -3.45374060e+00,\n",
            "        1.74801874e+00,  3.13547039e+00, -1.14304602e+00,  4.78284299e-01,\n",
            "       -5.45085955e+00,  1.02278304e+00,  2.27070665e+00, -1.58929431e+00,\n",
            "        5.47374964e-01, -3.91344875e-01, -5.86730146e+00, -4.40482092e+00,\n",
            "        3.55491519e+00, -3.02671576e+00, -3.06386352e+00,  5.58741474e+00,\n",
            "        1.69086635e-01, -2.48402596e+00, -1.16642702e+00, -4.43802804e-01,\n",
            "        1.45838833e+00,  2.79769421e-01, -1.65069640e+00, -4.33558750e+00,\n",
            "       -2.14931294e-01,  2.10158443e+00, -3.53977537e+00, -1.71227968e+00,\n",
            "        1.24703789e+00, -6.50691748e-01,  3.15855360e+00, -1.02479613e+00,\n",
            "        1.40716147e+00,  2.26661992e+00,  8.73263359e-01, -7.29065418e-01,\n",
            "        1.81567228e+00, -2.54633975e+00, -4.76895988e-01, -8.06980968e-01,\n",
            "       -4.81203735e-01, -3.94114226e-01, -4.47914124e+00,  2.53713727e-02,\n",
            "       -1.63824701e+00, -9.40153301e-01,  7.50209272e-01,  1.39251494e+00,\n",
            "        2.84251928e-01, -8.05093384e+00, -5.27801085e+00,  1.51982641e+00,\n",
            "       -7.99677372e-01, -3.88517976e-02,  4.08081579e+00,  4.05627918e+00,\n",
            "       -1.49890947e+00, -4.83413410e+00, -3.27319086e-01,  4.38995075e+00,\n",
            "        2.20204854e+00, -1.45896459e+00, -2.22140694e+00,  2.41280746e+00,\n",
            "       -1.10004616e+00,  3.69810104e-01, -1.51697648e+00,  9.28871572e-01,\n",
            "       -7.29476869e-01,  1.08897471e+00,  3.45312774e-01, -1.53824294e+00,\n",
            "        1.75499487e+00,  2.04553914e+00,  1.82639360e+00,  1.14458621e+00,\n",
            "        1.08710253e+00,  2.25156844e-01,  2.08394742e+00, -2.84627318e+00,\n",
            "       -5.01383960e-01,  1.94466770e+00, -4.80972230e-01, -2.83900023e-01,\n",
            "       -8.68557632e-01, -7.77020812e-01,  2.90153742e+00,  1.02016225e-01,\n",
            "       -9.28393722e-01,  6.00465596e-01, -2.35573053e+00,  3.41544390e+00,\n",
            "       -4.12476254e+00,  5.74878931e-01, -1.40407681e-02,  1.07155418e+00,\n",
            "        3.09572220e-02,  4.64301395e+00, -5.40979087e-01, -2.96260500e+00,\n",
            "       -4.09791708e+00,  2.87537313e+00, -2.15604329e+00, -1.22534983e-01,\n",
            "       -2.13480330e+00, -3.85200787e+00,  2.40363765e+00,  3.90160775e+00,\n",
            "       -3.05229926e+00, -7.36195326e-01,  2.18716335e+00, -1.00626385e+00,\n",
            "       -2.04468679e+00,  1.58256221e+00,  3.61990643e+00, -1.58806705e+00,\n",
            "        3.00617552e+00,  4.70918119e-01,  1.91461158e+00, -3.67568088e+00,\n",
            "       -1.00491846e+00,  1.99098182e+00, -1.92382085e+00,  5.52555025e-02,\n",
            "        1.73835123e+00,  2.44069648e+00,  4.97808754e-02, -1.44044161e+00,\n",
            "        1.83359361e+00, -1.94465995e+00, -1.18722343e+00,  1.39995944e+00,\n",
            "        8.89219999e-01, -7.23803997e-01,  2.18571281e+00, -5.86124480e-01,\n",
            "        1.74927664e+00,  1.69268024e+00, -5.42873859e-01, -1.64124107e+00,\n",
            "        3.72763777e+00,  1.17791843e+00,  5.71063697e-01,  8.29041183e-01,\n",
            "       -7.32857585e-01, -1.42480063e+00,  3.20262337e+00, -4.06029892e+00,\n",
            "        8.35701108e-01,  8.61060619e-01,  1.99050319e+00,  4.08366489e+00,\n",
            "        2.19472218e+00,  2.77503729e+00, -2.51309133e+00,  3.35668325e+00,\n",
            "        1.46209633e+00,  8.82901728e-01,  1.74501455e+00, -2.27038479e+00,\n",
            "        6.94460034e-01,  2.18053603e+00, -1.45106745e+00,  1.22948575e+00,\n",
            "        1.54265791e-01, -2.99263144e+00,  7.31791139e-01,  1.69353390e+00,\n",
            "       -3.79026127e+00, -1.77160382e+00,  7.52135515e-02, -4.56144333e-01,\n",
            "       -7.75680900e-01,  1.09254038e+00, -1.10685325e+00,  1.79119587e+00,\n",
            "       -3.77256441e+00, -1.46008682e+00, -3.74190569e+00, -1.54914653e+00,\n",
            "        3.06909871e+00, -1.78127861e+00,  2.11986470e+00, -1.80604780e+00,\n",
            "       -2.03332376e+00,  1.41006827e+00, -3.19022775e-01, -3.34952617e+00,\n",
            "        1.26562822e+00, -3.35997248e+00,  3.54446363e+00, -5.41157067e-01,\n",
            "       -8.76374483e-01, -9.84413743e-01, -1.13703394e+00, -4.44352150e-01,\n",
            "       -9.81952667e-01, -9.56397057e-01,  2.98665810e+00,  2.88034010e+00,\n",
            "        7.09629208e-02, -2.04309678e+00,  2.06507206e+00, -3.17913723e+00,\n",
            "       -6.18462741e-01,  1.83777440e+00,  2.71251130e+00, -5.72058010e+00,\n",
            "       -2.78875446e+00,  2.24753070e+00,  2.96231794e+00, -5.96390724e+00,\n",
            "       -2.84185266e+00, -1.93726039e+00, -1.06192470e+00, -2.76704907e-01,\n",
            "       -8.48202646e-01, -1.91969752e+00, -2.14647770e+00,  9.94979203e-01,\n",
            "        6.48926377e-01,  1.20667624e+00, -1.34494901e+00,  4.95062977e-01,\n",
            "       -1.53189242e+00,  7.87378490e-01, -1.99507558e+00,  5.74220121e-01,\n",
            "        2.81774616e+00, -2.58585840e-01,  2.73925233e+00,  5.87943673e-01,\n",
            "        3.54091311e+00, -1.99627578e+00, -2.00765562e+00,  8.72326255e-01,\n",
            "       -1.19210434e+00,  2.23049498e+00, -9.60886657e-01,  2.82280207e+00,\n",
            "        2.32747483e+00,  1.17900634e+00,  1.51658893e+00, -2.37189841e+00,\n",
            "        9.94906783e-01,  1.41987228e+00, -2.80052757e+00, -8.36880445e-01,\n",
            "       -3.42941761e+00,  1.27188587e+00, -9.98817027e-01,  3.98546600e+00,\n",
            "       -3.26310945e+00,  7.79857695e-01,  1.40603089e+00,  1.31441593e+00,\n",
            "       -6.74239159e-01, -2.77109098e+00,  4.24127579e+00,  2.44804144e-01,\n",
            "        2.60061955e+00,  1.76829529e+00, -1.60501218e+00, -3.93107796e+00,\n",
            "       -8.71721506e-01,  1.22874343e+00,  2.73675323e+00,  2.34482217e+00,\n",
            "        1.32542980e+00, -2.76742911e+00,  7.31899858e-01, -3.11824417e+00,\n",
            "        2.82908350e-01,  1.16059744e+00, -3.32451105e-01,  1.12141752e+00,\n",
            "        3.17547083e+00, -3.24193382e+00,  1.51627660e+00,  3.59122753e+00,\n",
            "       -9.99106348e-01,  2.01929998e+00,  9.97638345e-01,  1.88863802e+00,\n",
            "        2.07117438e-01, -2.54164904e-01,  6.58815205e-01, -3.58343029e+00,\n",
            "        2.47423387e+00, -1.48702133e+00,  2.10912323e+00, -2.14720941e+00,\n",
            "        3.35480952e+00,  1.17395854e+00,  2.93164921e+00, -1.16666123e-01,\n",
            "       -6.41824389e+00, -9.33412731e-01,  6.09323883e+00, -8.30215335e-01,\n",
            "       -6.04495823e-01,  1.21439075e+00, -1.35478318e-01, -1.19285035e+00,\n",
            "       -2.52797174e+00, -7.31345177e-01,  1.97473693e+00, -1.81841397e+00,\n",
            "       -4.10341167e+00,  7.41754055e-01,  6.99379027e-01, -1.96850836e+00,\n",
            "       -2.57196546e+00,  1.76423621e+00, -2.60842323e+00,  6.48850322e-01,\n",
            "        1.58431649e+00,  2.91165113e+00, -1.24724638e+00,  1.80049908e+00,\n",
            "       -1.95735395e-02, -2.80707335e+00,  2.10189724e+00,  2.27162218e+00,\n",
            "        9.41358328e-01,  2.91803932e+00,  1.26044714e+00,  1.89917833e-01,\n",
            "        3.54458237e+00,  4.26915789e+00, -9.19382572e-01, -2.93898177e+00,\n",
            "        2.16968274e+00, -2.57234216e-01,  1.51485801e-02,  3.61530709e+00,\n",
            "        3.30391026e+00,  1.06445289e+00,  1.29309440e+00, -7.67151490e-02,\n",
            "        6.66668177e-01, -1.65220916e-01,  1.45704091e+00, -1.48608887e+00,\n",
            "       -3.42228174e+00, -4.25860047e-01, -2.10394168e+00, -2.77317047e+00,\n",
            "       -1.06328917e+00,  2.70185530e-01,  1.14489400e+00,  5.34848809e-01,\n",
            "       -1.86888158e+00,  1.05061460e+00, -2.93087316e+00, -3.47175527e+00,\n",
            "        2.53391695e+00, -2.67553270e-01,  2.81020069e+00, -2.74850035e+00,\n",
            "       -3.62859845e-01,  4.48002958e+00,  2.66712964e-01,  2.66290474e+00,\n",
            "        1.35499895e+00, -7.06045628e-01,  1.62526011e+00,  6.00151479e-01,\n",
            "       -1.29161072e+00, -1.32959914e+00,  2.57688022e+00,  1.60861158e+00,\n",
            "        2.78139687e+00,  1.44305062e+00,  4.91506195e+00, -1.85925817e+00,\n",
            "        4.20474052e+00,  9.14107382e-01, -1.44083512e+00,  1.16631889e+00,\n",
            "        3.80623102e-01,  1.41758108e+00,  1.05567825e+00,  1.23708403e+00,\n",
            "       -4.39944220e+00,  1.79601550e+00,  4.37111187e+00,  3.26059866e+00,\n",
            "        1.12131453e+00,  1.03916693e+00,  7.04143882e-01, -4.32925081e+00,\n",
            "        1.86590290e+00, -6.39151931e-02, -1.96963871e+00, -2.61141992e+00,\n",
            "       -5.16826630e+00,  1.40500814e-01,  1.13907230e+00,  4.84269142e-01,\n",
            "       -6.51357830e-01, -4.82004118e+00,  1.16730094e+00, -6.36649877e-02,\n",
            "        1.28525007e+00, -5.94748616e-01, -1.39107001e+00, -1.73258948e+00,\n",
            "        1.29371583e+00,  1.94029725e+00, -3.20615172e+00, -5.75251484e+00,\n",
            "       -1.01821542e+00, -5.55076003e-01, -2.94931382e-01, -3.61141771e-01,\n",
            "       -1.47554398e+00,  1.75676692e+00, -2.95755386e-01,  2.03552079e+00,\n",
            "       -9.90007222e-01, -1.13870573e+00, -1.26258039e+00,  3.88889575e+00,\n",
            "       -4.38708401e+00,  8.04311216e-01,  3.29431057e+00,  1.22294521e+00,\n",
            "        2.99655747e+00, -6.65106654e-01,  1.09081936e+00,  2.34924436e+00,\n",
            "        1.62199938e+00, -1.05284691e+00,  1.12518704e+00,  4.01578999e+00],\n",
            "      dtype=float32)), ('sentence', array([-2.89526606e+00, -2.33423543e+00,  1.04965997e+00, -1.05030870e+00,\n",
            "       -2.61544681e+00, -8.41631353e-01, -1.34661961e+00,  7.65140653e-01,\n",
            "        6.70203269e-01,  1.10149944e+00,  2.95770586e-01, -9.95720625e-02,\n",
            "       -1.37891281e+00,  2.69321060e+00, -1.19387650e+00,  7.40682602e-01,\n",
            "       -2.28079867e+00,  1.25479722e+00, -1.86467981e+00, -3.50132823e+00,\n",
            "        3.48651791e+00,  3.15763354e-01, -3.88335347e+00, -2.86575109e-02,\n",
            "        3.25670433e+00, -2.02677906e-01,  1.58943832e+00, -1.07661390e+00,\n",
            "       -2.69553185e+00, -3.85768652e-01,  5.16369820e-01,  4.13455105e+00,\n",
            "        2.14680076e+00, -8.01225781e-01, -1.86867046e+00, -2.05210590e+00,\n",
            "       -9.49796259e-01, -2.85037065e+00, -2.34753227e+00,  1.61273092e-01,\n",
            "       -2.46570563e+00, -1.49671698e+00, -3.52857685e+00, -4.19130772e-01,\n",
            "       -1.92260516e+00, -2.18496728e+00,  2.94564867e+00, -7.85962224e-01,\n",
            "        1.31987035e+00, -1.40900373e+00, -7.01820517e+00, -1.05979419e+00,\n",
            "       -4.01220226e+00,  2.01068497e+00, -1.96470165e+00,  2.48932910e+00,\n",
            "       -4.18028921e-01, -3.30340934e+00,  3.54621887e+00, -8.69684756e-01,\n",
            "       -1.77512527e-01,  5.20005763e-01,  8.49088669e-01, -7.78476834e-01,\n",
            "       -8.37168694e-01, -7.82985389e-01, -2.25776005e+00, -6.51844263e-01,\n",
            "       -5.20737600e+00,  3.23197818e+00,  8.55691731e-01,  2.21909666e+00,\n",
            "        3.10286283e-02,  4.36430663e-01, -3.51062751e+00,  1.19892442e+00,\n",
            "       -1.88339531e+00,  3.00289005e-01,  9.39402461e-01, -1.77993894e-01,\n",
            "       -4.39650869e+00,  2.31493330e+00,  2.15850163e+00, -2.08400369e+00,\n",
            "        2.02819347e+00, -7.31855989e-01, -2.11851954e+00,  1.24455404e+00,\n",
            "       -4.32200050e+00,  2.11418748e+00,  1.76191497e+00, -7.11199522e-01,\n",
            "       -1.06911445e+00, -5.68522096e-01,  5.38708830e+00,  1.55635285e+00,\n",
            "        8.49860966e-01,  9.68923807e-01, -9.05435801e-01,  1.70243406e+00,\n",
            "       -2.87205815e+00, -8.24123192e+00,  1.32176423e+00, -2.53991032e+00,\n",
            "       -5.29295683e-01,  1.31491542e+00, -1.90754485e+00, -7.59026706e-01,\n",
            "        2.90672588e+00,  1.30837941e+00, -3.93070906e-01,  9.62926984e-01,\n",
            "       -1.73608935e+00, -1.33797133e+00, -7.47718096e-01,  1.16477323e+00,\n",
            "       -3.66526723e+00, -5.85341454e-01,  9.70293283e-01, -2.39283109e+00,\n",
            "       -2.36273766e+00,  1.93044770e+00,  2.11951923e+00,  2.34075117e+00,\n",
            "        3.03459597e+00,  1.04623866e+00, -1.89012098e+00,  2.77022123e+00,\n",
            "       -1.07374942e+00, -1.19571424e+00, -1.15533717e-01,  6.18456316e+00,\n",
            "        3.94180560e+00, -6.00608170e-01,  5.40240929e-02,  4.38157737e-01,\n",
            "        2.55781353e-01, -1.38257980e-01, -3.32207251e+00, -2.55468035e+00,\n",
            "       -1.73322535e+00,  1.38563335e+00,  1.60408807e+00, -2.84069210e-01,\n",
            "        5.06314039e+00,  2.27002668e+00,  1.68283820e-01,  2.27438855e+00,\n",
            "        3.90296721e+00,  2.88774920e+00,  1.63819575e+00,  6.07474804e+00,\n",
            "       -1.55920112e+00,  3.63734579e+00,  7.74926960e-01, -1.53122365e+00,\n",
            "        1.41300321e+00,  1.89714861e+00, -1.73345506e+00, -8.94383907e-01,\n",
            "        5.60563374e+00,  3.70681262e+00, -1.15526640e+00, -1.41365993e+00,\n",
            "        8.75474334e-01,  1.48174334e+00, -1.78540993e+00,  1.36456323e+00,\n",
            "        1.10059547e+00, -9.96607184e-01, -1.02043521e+00, -3.01329613e+00,\n",
            "       -2.03146076e+00,  6.55689001e-01, -1.46378410e+00, -1.87367606e+00,\n",
            "        5.73452055e-01, -5.85023308e+00,  1.29196835e+00,  2.77707314e+00,\n",
            "       -1.79865575e+00, -6.15790784e-02, -1.29630387e+00,  2.02568936e+00,\n",
            "       -5.71113408e-01,  5.64834476e-01,  2.32498264e+00, -2.58554864e+00,\n",
            "       -6.23525858e-01, -2.24897146e+00, -2.29407048e+00, -1.46124697e+00,\n",
            "       -2.28933907e+00, -6.06780148e+00,  1.51947355e+00,  8.48999470e-02,\n",
            "       -1.64595568e+00,  3.42883253e+00, -2.63846397e+00,  1.77225351e-01,\n",
            "       -3.62189114e-01,  1.58221543e+00, -7.12047637e-01, -1.45813823e+00,\n",
            "        3.69057322e+00,  9.95281339e-01, -1.80193925e+00,  7.04647303e-01,\n",
            "       -2.42761946e+00,  2.26314974e+00, -5.17424226e-01,  2.55501986e+00,\n",
            "        8.74917150e-01,  1.64373899e+00,  2.16576362e+00,  1.70203269e-01,\n",
            "       -2.02979267e-01, -1.85279083e+00,  2.53205776e+00, -2.79564619e+00,\n",
            "       -1.13785744e+00, -4.69301641e-03, -5.80812931e-01, -5.28186798e-01,\n",
            "       -3.90220737e+00,  4.93679953e+00,  3.10404301e+00,  2.25044560e+00,\n",
            "        2.60531735e+00, -1.61389267e+00,  3.01659751e+00, -4.13835907e+00,\n",
            "        9.57146168e-01, -2.16663980e+00, -1.20503616e+00,  2.81220388e+00,\n",
            "       -1.07466269e+00,  1.02255797e+00,  1.98224354e+00, -2.52248144e+00,\n",
            "        4.48093748e+00,  1.22481036e+00,  2.09348750e+00,  1.08204699e+00,\n",
            "       -1.38747424e-01, -1.37510216e+00,  8.75297189e-01, -2.85178089e+00,\n",
            "        3.92591506e-02, -8.74449313e-01, -2.77279186e+00, -1.05391693e+00,\n",
            "        3.76648366e-01,  5.98132730e-01, -1.26577711e+00, -3.50088096e+00,\n",
            "       -9.16174948e-01, -1.70873570e+00, -1.21371126e+00, -2.75572032e-01,\n",
            "        2.09128141e+00,  3.92674327e+00,  1.29357845e-01,  1.03319001e+00,\n",
            "       -1.75992155e+00, -7.95915365e-01, -1.11539364e+00,  1.81035972e+00,\n",
            "        4.67925358e+00,  1.77106142e+00, -1.00805759e+00, -4.37422371e+00,\n",
            "       -2.28720379e+00,  1.97610605e+00, -2.38540620e-01, -3.24151778e+00,\n",
            "       -1.14386356e+00, -1.98125362e-01, -2.46438193e+00, -2.05561399e+00,\n",
            "        1.74527764e+00,  6.29035175e-01,  3.33203602e+00, -2.03675556e+00,\n",
            "       -2.42367744e+00, -1.69724798e+00, -1.65793276e+00,  5.05444479e+00,\n",
            "       -5.31795204e-01,  1.05239058e+00, -2.46444726e+00,  1.42588878e+00,\n",
            "       -2.47280657e-01, -9.70345318e-01,  2.55619526e+00,  3.62074947e+00,\n",
            "        4.15350008e+00, -2.53337085e-01, -1.96097922e+00, -1.40491319e+00,\n",
            "       -1.97915459e+00,  1.22127116e-01, -3.87896299e-01,  6.52130663e-01,\n",
            "       -4.49555683e+00,  1.46400630e+00,  4.63756233e-01, -2.13241965e-01,\n",
            "       -3.09205856e+01, -2.62922573e+00, -1.13904536e+00,  5.43244362e-01,\n",
            "        7.53041148e-01,  1.49327898e+00,  3.57525051e-02,  7.44214356e-02,\n",
            "       -2.08438015e+00, -1.93076622e+00, -9.94974077e-01, -9.02930021e-01,\n",
            "        6.08472586e-01,  7.62319565e-01,  3.92505503e+00, -2.24659538e+00,\n",
            "        3.94927144e-01,  2.01273799e-01, -1.83394003e+00,  6.21534681e+00,\n",
            "       -2.12365794e+00,  3.01752150e-01,  6.81275606e-01, -1.03743815e+00,\n",
            "        7.72886455e-01, -6.67991829e+00, -2.08291650e+00,  1.40121132e-02,\n",
            "       -8.91180634e-01, -2.71850848e+00, -3.77682734e+00, -3.66759682e+00,\n",
            "        2.72083330e+00,  4.70407754e-01, -3.83814788e+00, -1.23598766e+00,\n",
            "        1.39653003e+00,  2.21957833e-01,  2.41150832e+00, -4.12205219e+00,\n",
            "       -5.72232962e-01,  1.22335994e+00, -3.00145209e-01,  1.50287300e-01,\n",
            "       -1.82866168e+00, -2.94021964e-01, -3.02510166e+00, -2.20271766e-01,\n",
            "        2.51792336e+00,  9.41682339e-01, -4.02447701e+00, -5.67488909e-01,\n",
            "       -2.46892023e+00, -4.39866260e-02,  2.60806131e+00, -9.94996130e-01,\n",
            "        3.38076997e+00, -1.29438841e+00,  2.28413534e+00,  2.75448084e+00,\n",
            "        1.88685310e+00, -3.25166583e+00, -1.15278983e+00, -6.23945713e-01,\n",
            "       -1.07050367e-01,  7.94568062e-01, -8.57978821e+00, -1.23339981e-01,\n",
            "       -4.13728952e+00, -5.21974087e-01, -3.94723415e-02, -1.96269488e+00,\n",
            "        7.00079441e-01, -9.83531761e+00,  6.27650142e-01, -3.49341512e-01,\n",
            "        2.15436530e+00, -4.23719597e+00,  3.83982444e+00,  6.07914388e-01,\n",
            "       -1.36531818e+00, -3.53585744e+00,  1.39687204e+00, -1.05333769e+00,\n",
            "        9.44331288e-04,  3.42462778e+00, -2.54884362e-01, -4.27435446e+00,\n",
            "        6.64719105e-01,  1.40623868e-01,  1.14306808e+00, -3.55044365e-01,\n",
            "        2.57787645e-01,  2.11484766e+00,  2.57868379e-01,  1.36000705e+00,\n",
            "        4.41601229e+00, -1.03608942e+00, -6.99215531e-01,  1.54225767e+00,\n",
            "        2.11812305e+00, -6.81948900e-01, -2.50573611e+00,  5.01756430e-01,\n",
            "       -4.22040969e-02,  3.00579405e+00, -6.36273623e+00, -8.40849638e-01,\n",
            "        1.87748730e+00,  3.63013458e+00,  1.23790964e-01, -2.25057721e-01,\n",
            "        1.05495763e+00,  4.46136653e-01, -7.19051361e-01,  1.02072167e+00,\n",
            "       -1.14021420e+00,  6.34179533e-01, -5.92509687e-01,  1.95934653e-01,\n",
            "       -7.93116808e-01, -5.43652534e-01, -1.80517912e+00, -1.64746022e+00,\n",
            "       -1.50453925e+00,  1.11539853e+00, -1.56744093e-01, -2.32722354e+00,\n",
            "       -1.69855833e+00, -2.73791862e+00, -2.45587897e+00, -2.73029208e+00,\n",
            "        3.51064825e+00, -1.36140275e+00,  2.58526421e+00, -3.34654355e+00,\n",
            "        9.42416549e-01,  4.31946468e+00, -1.03829300e+00, -4.30664062e+00,\n",
            "        7.27973223e-01,  1.38703859e+00,  2.67811203e+00, -5.29893017e+00,\n",
            "       -1.50107217e+00,  2.15300870e+00, -4.61119652e-01, -2.69493163e-01,\n",
            "        3.46784025e-01,  2.42451811e+00,  1.27126169e+00, -1.27026796e+00,\n",
            "        7.07336813e-02, -2.52938104e+00, -4.60965216e-01, -9.27675605e-01,\n",
            "       -4.81641245e+00, -1.74752414e-01,  3.78503752e+00, -3.60466838e+00,\n",
            "        1.67198706e+00,  2.28580117e+00,  1.45669949e+00,  6.14945516e-02,\n",
            "       -1.98520494e+00, -5.28300822e-01,  1.06720245e+00,  1.03425562e+00,\n",
            "       -1.27866292e+00,  1.05228436e+00, -2.39536238e+00, -3.30340457e+00,\n",
            "        4.35356236e+00,  1.75737679e+00,  9.03078675e-01, -2.76200652e+00,\n",
            "        2.77402329e+00,  7.47155488e-01,  3.27756977e+00,  2.33548713e+00,\n",
            "        2.09382701e+00,  2.57766008e+00, -5.39137840e-01,  1.43415213e+00,\n",
            "        1.39956200e+00,  1.44863391e+00,  1.90225661e+00,  4.42020655e+00,\n",
            "       -4.04792607e-01, -3.39197248e-01, -3.39448118e+00,  2.03428960e+00,\n",
            "       -4.10965323e-01, -4.12200928e+00,  1.20974350e+00, -2.26170492e+00,\n",
            "        1.40820205e-01,  1.70193863e+00, -9.63025570e-01, -8.62468362e-01,\n",
            "        5.13821959e-01,  2.35706902e+00, -5.05791605e-03, -7.54586577e-01,\n",
            "        2.94849753e+00, -3.99820995e+00, -5.33415198e-01,  3.28687519e-01,\n",
            "        2.24213600e+00, -1.37913966e+00,  7.05983877e-01, -6.93177283e-02,\n",
            "       -1.48339844e+00, -6.55582666e+00,  3.31933880e+00, -9.64372993e-01,\n",
            "       -3.68779850e+00,  3.87712196e-02, -1.80789387e+00, -1.40285754e+00,\n",
            "       -4.79472578e-01, -3.38616061e+00,  3.07375455e+00,  1.34960008e+00,\n",
            "        2.03766894e+00, -2.37684190e-01,  1.54259288e+00,  3.06167632e-01,\n",
            "       -1.21500242e+00, -1.13207531e+00,  2.46841282e-01, -4.94127083e+00,\n",
            "        4.12273943e-01,  8.82945895e-01,  6.59440085e-02, -3.89761496e+00,\n",
            "       -1.86226130e+00, -3.40612793e+00, -5.12479067e-01,  1.02450788e-01,\n",
            "        1.39274240e-01,  1.45560062e+00, -8.96371722e-01, -2.43426418e+00,\n",
            "        8.23222697e-02,  3.78443360e-01,  1.29020441e+00, -6.17596030e-01,\n",
            "        4.25214195e+00, -9.27031696e-01,  8.68063390e-01, -4.16873693e-01,\n",
            "        8.57739747e-01,  1.12979615e+00,  1.04050839e+00, -1.18065012e+00,\n",
            "       -7.14476824e-01, -2.27214265e+00, -5.17529607e-01,  2.45388103e+00,\n",
            "        1.42099500e-01,  1.26259577e+00, -4.00839746e-01,  3.60282278e+00,\n",
            "        1.44447601e+00,  9.41771984e-01,  9.78511453e-01,  1.06702137e+00,\n",
            "        8.43045712e-01,  1.32459474e+00,  3.58127880e+00, -9.38847363e-02,\n",
            "       -2.33988047e+00,  8.97507191e-01, -2.95188999e+00,  3.30398941e+00,\n",
            "        2.73758829e-01,  1.47037357e-01,  3.29995203e+00,  2.10630298e+00,\n",
            "       -1.89470887e+00, -3.42652059e+00, -2.17556286e+00,  7.54874587e-01,\n",
            "        1.66310835e+00, -9.90239143e-01,  2.48490706e-01, -5.59271514e-01,\n",
            "       -8.33085597e-01,  1.30715382e+00, -4.79636550e-01,  2.13024521e+00,\n",
            "       -3.88242960e-01,  5.32259524e-01, -8.64485264e-01, -2.49330968e-01,\n",
            "        6.47869289e-01,  1.24107075e+00,  6.06169760e-01,  1.02299666e+00,\n",
            "       -1.46192729e+00, -1.61739719e+00, -1.15664196e+00,  1.45019388e+00,\n",
            "       -1.42910600e+00,  8.05015206e-01, -1.87857795e+00, -6.03797793e-01,\n",
            "       -5.53691387e-01, -3.13641161e-01,  1.08246982e+00,  9.72470999e-01,\n",
            "        4.05073166e+00,  8.16085219e-01, -1.86292052e-01, -5.80113947e-01,\n",
            "        3.80463886e+00,  1.71658218e-01,  9.72988486e-01, -2.35796118e+00,\n",
            "       -2.46049428e+00,  6.56121492e-01,  3.30470395e+00, -1.42965436e-01,\n",
            "       -8.92056346e-01,  8.94151390e-01, -2.14101291e+00,  3.35314244e-01,\n",
            "       -1.81342173e+00,  4.18644905e+00, -4.62984055e-01,  2.77871585e+00,\n",
            "        1.46784306e+00, -3.01291853e-01, -3.98186922e+00,  1.27785361e+00,\n",
            "       -2.10467052e+00,  1.63790584e+00,  4.66155338e+00,  1.16322041e+00,\n",
            "        2.36979961e-01,  3.29518747e+00, -3.24371004e+00,  4.99054432e+00,\n",
            "        1.22188580e+00,  9.32570934e-01, -2.94881344e-01,  3.21521950e+00,\n",
            "       -8.17227960e-01,  3.91871595e+00,  4.40893316e+00, -1.53163314e+00,\n",
            "        1.82313120e+00, -2.70735550e+00, -3.38680077e+00,  9.25632834e-01,\n",
            "       -3.93529981e-01,  4.41268235e-02,  4.17374820e-02,  1.60654974e+00,\n",
            "        3.41460228e+00, -1.26306391e+00, -1.07889187e+00, -1.59497476e+00,\n",
            "        1.13882911e+00,  3.24373960e-01, -4.32001740e-01,  2.53984308e+00,\n",
            "       -1.96818781e+00, -2.43315458e+00, -6.15093529e-01, -4.60008234e-01,\n",
            "        7.97280669e-03,  2.89340115e+00, -1.16814458e+00,  2.98644900e+00,\n",
            "       -1.63542056e+00,  4.59177762e-01, -3.78325081e+00,  1.76876116e+00,\n",
            "        2.07817173e+00,  2.15066051e+00, -7.54548132e-01, -4.30914372e-01,\n",
            "       -2.21784329e+00, -1.70116961e+00,  1.48345277e-01,  4.41747570e+00,\n",
            "       -3.29837823e+00,  1.97386920e+00, -2.87645102e+00, -1.65390205e+00,\n",
            "       -4.79703724e-01, -1.20787346e+00,  4.88711739e+00,  3.04842210e+00,\n",
            "       -3.00401926e+00,  6.90927863e-01,  1.20140004e+00, -1.03380755e-01,\n",
            "        1.04118752e+00, -5.92236936e-01,  6.71297848e-01, -2.33729076e+00,\n",
            "       -1.10583115e+00,  1.15284896e+00, -7.37464547e-01,  2.01813626e+00,\n",
            "       -4.40834332e+00,  1.40995371e+00,  3.91956186e+00,  6.82333469e-01,\n",
            "       -5.80426931e-01,  2.38003778e+00,  4.40189242e-03, -1.46581841e+00,\n",
            "        7.01830029e-01,  8.89824852e-02,  1.15736818e+00,  6.66284561e-01,\n",
            "       -2.86552119e+00, -2.68623900e+00,  4.96880829e-01, -1.22610605e+00,\n",
            "        3.91677165e+00, -5.99451542e+00,  2.40109488e-01, -2.39744812e-01,\n",
            "       -2.67064214e+00, -4.35880959e-01, -2.62042642e+00,  1.75047660e+00,\n",
            "        2.51521420e+00, -2.98710287e-01, -1.36457920e+00, -6.14397347e-01,\n",
            "       -2.05335951e+00, -1.05606711e+00,  1.30274630e+00,  2.73196883e-02,\n",
            "       -6.69154346e-01,  4.62692833e+00, -1.94334126e+00,  7.24089682e-01,\n",
            "       -4.06719065e+00,  1.19721746e+00,  3.72253370e+00,  1.13506150e+00,\n",
            "       -2.59071970e+00,  1.44984508e+00,  6.51642561e-01, -2.47176647e+00,\n",
            "       -2.10966825e+00,  2.75800258e-01, -1.47441494e+00,  5.01982164e+00,\n",
            "        2.51186776e+00,  2.76600629e-01,  1.72340894e+00, -1.21462262e+00],\n",
            "      dtype=float32)), ('em', array([ 1.12246680e+00, -1.87177134e+00,  1.27597287e-01, -6.64028764e-01,\n",
            "        1.39930010e-01,  1.89054728e+00, -1.16383576e+00,  1.53025687e-01,\n",
            "       -1.87425625e+00,  7.99524128e-01, -7.95690179e-01,  1.87969398e+00,\n",
            "       -1.45420182e+00,  2.91378498e-01, -1.94399011e+00,  7.22629309e-01,\n",
            "        2.53598720e-01, -4.58206296e-01,  4.84655082e-01, -4.38053429e-01,\n",
            "        2.10287094e+00,  1.93930125e+00, -4.32426786e+00,  1.95235860e+00,\n",
            "        3.04581523e-01,  2.28641915e+00, -1.06604409e+00, -5.53102493e-01,\n",
            "       -2.90677643e+00,  5.97984493e-01,  3.18606079e-01,  4.91399193e+00,\n",
            "        9.50402379e-01, -3.03021502e+00, -3.35868120e+00, -2.42098570e+00,\n",
            "       -1.36462629e+00, -1.17211771e+00,  2.11523747e+00,  1.03240263e+00,\n",
            "       -3.57795382e+00,  2.94091177e+00, -3.48788351e-01, -1.52720511e+00,\n",
            "        6.32206440e-01, -1.20017815e+00, -3.60956526e+00, -2.33178377e+00,\n",
            "        7.73264170e-01, -5.36054707e+00, -6.01251411e+00, -1.35887712e-01,\n",
            "       -9.39500272e-01,  1.02473950e+00,  5.64085066e-01,  4.04626751e+00,\n",
            "        1.32737768e+00, -5.44298649e+00,  4.69971037e+00,  5.88703454e-01,\n",
            "        7.14439988e-01, -1.19816899e+00,  8.84525061e-01,  2.74404436e-01,\n",
            "       -1.02173257e+00,  8.31598222e-01, -5.66377938e-01,  4.11836863e-01,\n",
            "       -5.62756681e+00,  2.33396482e+00, -6.00643158e+00,  1.10076094e+00,\n",
            "        6.57738566e-01, -5.84808350e-01,  1.02346992e+00, -9.37584937e-01,\n",
            "       -1.39474070e+00, -5.30280948e-01,  8.18971753e-01,  6.71222568e-01,\n",
            "       -1.36566317e+00,  2.28623700e+00, -1.42634749e+00, -4.80035990e-01,\n",
            "        3.58318520e+00,  1.45326734e-01,  1.57090068e+00,  6.48920834e-01,\n",
            "       -3.31870723e+00,  3.92463827e+00,  2.26196364e-01, -1.55462337e+00,\n",
            "       -7.63278246e-01,  7.70983398e-01,  4.24608183e+00,  9.67769980e-01,\n",
            "       -1.77203166e+00, -2.16662139e-01,  1.04033160e+00,  5.09444535e-01,\n",
            "        2.00209308e+00, -1.76631296e+00,  1.57887435e+00,  5.62520921e-01,\n",
            "       -2.92388654e+00, -1.31293285e+00, -2.15943885e+00, -8.38229299e-01,\n",
            "        1.86467856e-01,  1.91853881e-01, -6.76314235e-01,  3.11256337e+00,\n",
            "       -1.41306117e-01, -5.53922951e-02,  1.40739751e+00, -6.25527024e-01,\n",
            "       -2.71891928e+00,  1.63761342e+00,  1.22434509e+00, -3.00115585e+00,\n",
            "       -7.13596165e-01,  1.84349537e+00,  2.61403799e+00,  2.71927857e+00,\n",
            "        8.60782385e-01,  2.15432882e+00, -3.76406574e+00,  2.33773613e+00,\n",
            "        1.56047940e-02,  2.41285563e+00, -3.14768481e+00,  1.21926236e+00,\n",
            "        4.97685528e+00, -6.01304471e-02, -1.32351601e+00, -1.37960649e+00,\n",
            "       -1.47719526e+00, -1.36355138e+00, -2.68883753e+00,  6.91363692e-01,\n",
            "       -6.41693115e+00, -3.26925993e-01,  1.73376000e+00, -4.44992483e-01,\n",
            "        3.49861407e+00, -5.71795464e-01, -2.95537949e+00,  1.99072754e+00,\n",
            "        3.24492860e+00,  2.84599280e+00, -2.93851227e-01,  4.08925295e+00,\n",
            "       -2.39066434e+00, -1.99440122e+00, -2.67467117e+00,  4.45960492e-01,\n",
            "       -2.34936595e-01,  3.46418762e+00,  2.78075188e-02, -4.31828529e-01,\n",
            "        2.87894535e+00,  1.31637585e+00,  2.77280182e-01,  3.41208410e+00,\n",
            "        1.31198978e+00, -2.56073356e+00, -1.31832516e+00,  1.64481723e+00,\n",
            "        1.81954622e+00,  5.74342847e-01, -3.22625089e+00, -3.32553530e+00,\n",
            "        1.80691314e+00, -1.11099911e+00,  4.10887301e-01, -1.37531340e+00,\n",
            "       -9.12398100e-03,  4.78865683e-01,  1.51260245e+00,  8.19977582e-01,\n",
            "       -1.36364496e+00, -2.02219629e+00, -1.79841757e+00, -4.29758906e-01,\n",
            "       -2.77538157e+00,  3.78011227e-01,  7.45912552e-01, -3.40144372e+00,\n",
            "        5.75053096e-01,  4.04860115e+00, -1.51678574e+00,  2.56691742e+00,\n",
            "        1.80954266e+00, -6.51095104e+00, -1.89307523e+00,  7.09737599e-01,\n",
            "       -5.31225872e+00, -8.01634490e-01, -1.67337799e+00,  2.39480585e-01,\n",
            "       -1.31130290e+00, -1.59018707e+00,  3.65432262e-01,  1.12352300e+00,\n",
            "        1.95110178e+00,  6.60873830e-01, -8.49956572e-01, -1.02463353e+00,\n",
            "       -2.13232422e+00,  3.03695536e+00, -1.48970604e+00,  6.62404871e+00,\n",
            "       -1.27149010e+00, -7.93748975e-01,  2.42420959e+00, -3.65520954e-01,\n",
            "       -1.05135584e+00, -2.75276399e+00, -6.14789248e-01, -2.56854749e+00,\n",
            "        6.25734270e-01, -1.15673435e+00, -5.21692872e-01, -1.18413866e-01,\n",
            "       -3.28994274e+00,  5.71238708e+00,  2.65615010e+00,  4.62405026e-01,\n",
            "        3.82613707e+00,  2.01591063e+00,  3.58347863e-01, -6.39051437e-01,\n",
            "        3.03689098e+00,  2.02642012e+00, -4.83906925e-01,  4.08558559e+00,\n",
            "        2.09780002e+00, -4.22342360e-01, -7.76452005e-01, -5.82071245e-01,\n",
            "       -9.01565552e-01,  9.64386404e-01, -2.48775482e+00,  1.63533479e-01,\n",
            "       -1.21938914e-01,  1.65406013e+00, -1.27085614e+00, -1.06240296e+00,\n",
            "       -2.03972769e+00, -1.02520317e-01, -3.75903130e+00, -3.93164301e+00,\n",
            "       -1.84681916e+00, -2.56824327e+00,  7.04967916e-01, -7.92376280e-01,\n",
            "       -2.64532495e+00,  7.24410474e-01,  1.04190099e+00,  5.08593678e-01,\n",
            "        8.69405270e-01,  6.37327194e-01,  9.13009644e-02, -9.83900785e-01,\n",
            "       -1.64793873e+00,  5.30619740e-01, -1.78037691e+00,  7.90153384e-01,\n",
            "        4.83463860e+00, -1.55983627e+00, -5.07541370e+00, -5.10308027e+00,\n",
            "        1.16951454e+00,  3.29800487e+00, -3.59115744e+00, -3.16148901e+00,\n",
            "       -9.37825382e-01,  2.72033811e-01, -2.49314785e+00, -2.10550165e+00,\n",
            "       -1.36399877e+00,  2.40814492e-01, -2.32141471e+00, -1.47298312e+00,\n",
            "       -1.01934350e+00, -2.37106562e+00, -2.86367846e+00,  2.14984155e+00,\n",
            "       -1.06455481e+00, -1.25575352e+00,  1.17138028e+00,  2.39278698e+00,\n",
            "       -1.46934068e+00, -9.61184323e-01,  1.68405807e+00,  3.14193320e+00,\n",
            "        1.66240919e+00,  9.62290108e-01,  1.21754420e+00, -1.67447674e+00,\n",
            "       -3.96322155e+00, -4.46344316e-02,  1.73147821e+00,  2.62752366e+00,\n",
            "       -2.19471431e+00,  3.37583232e+00, -1.67758226e+00, -5.69644213e-01,\n",
            "       -2.38776226e+01,  8.91890764e-01, -2.33843470e+00, -6.79198921e-01,\n",
            "        1.62087846e+00,  2.50124264e+00, -2.55354071e+00,  1.07451105e+00,\n",
            "       -3.30465603e+00, -1.26647711e-01,  2.15502191e+00, -2.28446126e+00,\n",
            "        1.00788033e+00, -3.88116264e+00,  3.56992722e+00,  3.33227134e+00,\n",
            "       -2.01975536e+00,  1.37131542e-01,  7.44942904e-01, -9.95834410e-01,\n",
            "       -3.40775299e+00,  4.74364877e-01,  2.64159918e-01, -7.02731609e-01,\n",
            "       -1.78273094e+00, -3.08687401e+00, -6.74214792e+00, -7.19348907e-01,\n",
            "        1.49056494e-01, -2.25153446e+00,  5.26338220e-02, -2.63046360e+00,\n",
            "       -9.32281613e-02,  2.65010500e+00, -6.14518642e+00,  2.15072966e+00,\n",
            "       -7.33534157e-01, -1.75835943e+00,  1.39476979e+00, -3.32597375e+00,\n",
            "       -5.90805769e-01, -8.18871975e-01,  1.39714646e+00, -3.25036144e+00,\n",
            "        3.68868637e+00, -1.42162800e+00,  2.69035846e-01, -8.19129407e-01,\n",
            "        5.11968970e-01,  1.98245072e+00, -1.73434258e+00, -1.68419409e+00,\n",
            "       -8.34264047e-03, -9.55289602e-01,  7.94461012e-01,  1.91800654e+00,\n",
            "        2.05546641e+00,  4.34851676e-01,  6.07774407e-02,  6.92726433e-01,\n",
            "       -1.88056827e-01, -8.05276990e-01, -1.92524862e+00, -2.13862479e-01,\n",
            "        1.32946050e+00,  6.52029872e-01, -8.58662319e+00, -2.28430581e+00,\n",
            "       -1.82558942e+00, -2.33119696e-01, -1.20701981e+00, -2.76953578e+00,\n",
            "        6.54623389e-01, -1.01522169e+01,  2.92542601e+00, -1.34922194e+00,\n",
            "        1.87066782e+00, -2.69994569e+00, -1.63060772e+00, -2.15517759e+00,\n",
            "       -6.14665031e-01, -2.24978018e+00,  4.46493816e+00,  1.02300048e-01,\n",
            "        2.94660044e+00,  2.35748863e+00, -1.05386484e+00, -1.98601985e+00,\n",
            "       -7.84351766e-01,  1.49991119e+00,  1.60341275e+00,  4.13729954e+00,\n",
            "        3.52384090e-01,  2.23234415e+00, -2.59849143e+00, -1.66781116e+00,\n",
            "        1.70336735e+00, -7.87643492e-01,  2.63620567e+00, -5.67436814e-02,\n",
            "       -1.10918559e-01, -1.32393622e+00,  6.15190804e-01,  2.36877251e+00,\n",
            "       -2.02139401e+00,  4.37375259e+00, -6.19827652e+00, -7.70383954e-01,\n",
            "        5.00292003e-01,  2.85040069e+00, -2.95864105e-01, -1.81257963e+00,\n",
            "        6.12893105e-01, -6.30077660e-01, -3.03793907e+00,  2.10241365e+00,\n",
            "        8.75460953e-02,  1.38982987e+00,  2.24870086e+00,  1.77356684e+00,\n",
            "       -3.57205868e+00,  9.34642792e-01,  7.19758034e-01, -3.39855242e+00,\n",
            "       -2.73240566e+00,  7.46909022e-01, -2.61445570e+00,  4.98322010e+00,\n",
            "       -7.59025156e-01, -4.60815096e+00,  4.75646973e-01, -1.16213095e+00,\n",
            "        2.33114213e-01, -1.09186900e+00,  2.49631977e+00, -1.86916685e+00,\n",
            "       -3.69602382e-01,  4.09247923e+00, -1.86791182e+00, -1.18316078e+00,\n",
            "        3.04699659e+00, -8.40892076e-01,  1.23632526e+00,  5.37824214e-01,\n",
            "       -9.62173820e-01, -7.72446454e-01,  1.51115608e+00, -3.92406082e+00,\n",
            "       -9.29403126e-01,  2.29318190e+00, -1.09827185e+00, -2.44699311e+00,\n",
            "        3.51774406e+00, -1.62711906e+00,  6.60269499e-01, -1.86771452e-02,\n",
            "       -1.55280542e+00, -2.23313785e+00,  7.76875019e-01, -2.66754961e+00,\n",
            "        2.69718599e+00,  9.02971625e-01,  3.62279987e+00,  2.59252810e+00,\n",
            "        1.01967466e+00,  5.99920034e-01, -2.87529230e+00,  8.70982230e-01,\n",
            "       -1.53345242e-03, -2.55755210e+00, -2.33818507e+00,  2.15453768e+00,\n",
            "        4.06119108e+00, -1.38909101e+00,  2.34448195e+00,  3.23117566e+00,\n",
            "        3.97678018e+00,  2.47956324e+00,  2.04952550e+00,  2.58131719e+00,\n",
            "        1.43748724e+00,  1.55419135e+00, -3.64482477e-02,  9.04971004e-01,\n",
            "        3.29923010e+00,  1.10583055e+00,  3.56212497e-01, -1.48036152e-01,\n",
            "        9.08654034e-01,  5.40243149e-01, -1.18884695e+00,  4.74547446e-01,\n",
            "       -9.01665986e-01, -4.32257032e+00, -2.07330287e-01, -1.75819612e+00,\n",
            "       -1.79232061e-01,  3.89188313e+00,  3.20474774e-01, -3.50554943e+00,\n",
            "        3.28687525e+00, -2.14253664e+00, -2.54859853e+00,  4.05899078e-01,\n",
            "       -1.72995436e+00, -1.49310875e+00,  8.99979398e-02,  4.21088648e+00,\n",
            "        1.44489145e+00,  1.79872960e-02,  1.82688951e+00, -2.25335264e+00,\n",
            "       -4.11586666e+00, -5.09413147e+00,  1.64398479e+00, -6.54769123e-01,\n",
            "        2.96082687e+00,  1.50710094e+00, -3.34624791e+00, -1.15532386e+00,\n",
            "        1.74759817e+00, -4.07614851e+00,  4.70137691e+00,  1.53410006e+00,\n",
            "       -1.57058084e+00, -2.33746958e+00,  2.03408194e+00, -2.50671721e+00,\n",
            "       -5.13277054e+00,  3.90329170e+00,  5.31293631e-01, -5.95457363e+00,\n",
            "        4.65825111e-01, -9.07026052e-01, -1.76127577e+00, -5.95433092e+00,\n",
            "        3.60289216e-01, -7.04984069e-01, -2.31297159e+00, -1.25909120e-01,\n",
            "       -2.55971575e+00,  8.02162051e-01,  6.88243032e-01, -2.27900171e+00,\n",
            "       -9.48619843e-02,  8.29874203e-02,  1.46614861e+00, -3.27562153e-01,\n",
            "        1.93835950e+00,  5.36135197e-01, -1.32739472e+00, -2.36581421e+00,\n",
            "        1.84663916e+00, -1.96366775e+00,  2.47727156e+00, -3.83890033e-01,\n",
            "       -6.91618145e-01,  2.27614641e-02, -1.01720071e+00,  2.87262917e+00,\n",
            "        1.48027301e+00, -3.05547428e+00, -1.08244979e+00,  2.66858888e+00,\n",
            "        1.69410777e+00,  2.13167921e-01,  3.10455751e+00,  1.91776454e-01,\n",
            "       -9.17978704e-01, -4.99193847e-01, -1.00004280e+00, -3.39385772e+00,\n",
            "        1.54253304e+00,  3.80092955e+00,  1.54541183e+00,  4.41090912e-01,\n",
            "       -2.12873888e+00, -3.32689583e-01, -2.98938692e-01, -1.87368727e+00,\n",
            "       -1.17561853e+00, -1.39443612e+00,  1.09076631e+00,  1.44346070e+00,\n",
            "       -2.26601124e+00, -1.40715086e+00, -1.83457822e-01, -2.20610213e+00,\n",
            "        8.66526365e-01, -4.44942379e+00, -8.15913379e-01, -1.68971837e+00,\n",
            "        2.06035554e-01, -1.42082787e+00, -1.92064905e+00,  2.85736251e+00,\n",
            "        4.27227545e+00, -1.30747437e+00,  6.42364144e-01,  3.57283205e-01,\n",
            "       -1.97231865e+00, -6.73545480e-01, -3.65655041e+00,  2.68631554e+00,\n",
            "       -2.35115242e+00,  1.18179500e+00, -1.54101491e+00,  2.92477310e-02,\n",
            "       -8.48141789e-01,  2.97673035e+00,  3.59424376e+00,  2.97612816e-01,\n",
            "        3.45810223e+00,  1.13824618e+00, -1.68647838e+00, -2.36708426e+00,\n",
            "        8.54472667e-02, -5.37140906e-01,  1.57792783e+00,  1.09671521e+00,\n",
            "        1.06810439e+00,  2.80789971e-01,  4.55340910e+00,  1.00373220e+00,\n",
            "       -3.00183964e+00,  2.10936165e+00, -2.42253304e+00, -1.08839917e+00,\n",
            "       -3.36115384e+00, -6.36742771e-01,  1.06033993e+00,  2.56787968e+00,\n",
            "       -4.33908403e-02,  6.90848827e-01, -1.01312459e+00, -4.32156920e-01,\n",
            "       -1.49174601e-01,  1.67884231e+00,  2.28530169e+00, -1.58657491e+00,\n",
            "        2.92219162e-01,  2.41083264e+00, -1.33255231e+00,  6.35974884e-01,\n",
            "       -1.06975698e+00, -2.24925518e+00,  1.91083169e+00,  1.46126831e+00,\n",
            "       -7.83697724e-01,  4.84571505e+00, -7.14079142e-02,  3.52452183e+00,\n",
            "        2.27493501e+00, -1.56915557e+00,  2.70522022e+00, -1.63196135e+00,\n",
            "        1.94678044e+00,  2.22994399e+00,  4.43089199e+00,  3.33869267e+00,\n",
            "        1.53099775e+00, -3.52289677e-02,  8.61462116e-01, -5.63872671e+00,\n",
            "        6.64291382e-02,  2.26815701e+00,  3.28920865e+00,  3.18809795e+00,\n",
            "        2.36213207e+00, -4.62083519e-01, -1.63962293e+00,  1.38646984e+00,\n",
            "        1.26165688e+00,  3.72782803e+00,  3.59548897e-01, -1.14926863e+00,\n",
            "       -9.33201551e-01,  1.34368086e+00, -2.59761930e+00,  3.59885365e-01,\n",
            "       -4.22989702e+00, -1.66548526e+00,  1.49700850e-01,  1.27500308e+00,\n",
            "       -5.21991014e-01, -2.27442980e+00, -8.50800991e-01,  3.41049767e+00,\n",
            "       -3.27163386e+00,  2.02057815e+00,  1.41811240e+00,  9.36486423e-01,\n",
            "       -3.88354689e-01, -1.44632876e+00,  6.05347729e+00,  2.18512893e+00,\n",
            "       -3.36564207e+00,  1.85790300e+00,  5.15057683e-01, -4.62271571e-01,\n",
            "        2.51087546e+00, -4.44269001e-01,  7.18360960e-01, -8.73312056e-01,\n",
            "       -2.44029260e+00, -2.18703836e-01,  2.20317066e-01,  9.88203883e-01,\n",
            "       -5.41603708e+00,  1.15537715e+00,  2.26390600e+00,  1.11910248e+00,\n",
            "       -2.52250046e-01,  1.38539481e+00,  5.04523039e-01, -1.57324290e+00,\n",
            "        5.11103034e-01, -2.93544269e+00, -1.81889856e+00,  3.53880405e+00,\n",
            "       -5.31981230e+00, -1.51884985e+00,  3.85458565e+00, -2.40899444e+00,\n",
            "        1.68249977e+00,  1.14424062e+00,  1.59736562e+00,  1.42532158e+00,\n",
            "        1.87996924e-01,  1.08319104e+00,  5.09715033e+00,  6.19176328e-01,\n",
            "       -3.49260151e-01,  4.95357037e+00, -3.09560537e+00, -2.44082183e-01,\n",
            "       -2.31940103e+00,  1.70101762e+00,  2.65433192e-02,  2.56497771e-01,\n",
            "       -2.24099851e+00,  5.49443007e+00, -1.98682678e+00,  2.76898885e+00,\n",
            "        5.51272571e-01,  3.74838614e+00, -4.13824260e-01,  7.91034162e-01,\n",
            "        1.16983378e+00,  2.07893461e-01,  8.32340598e-01, -1.86730242e+00,\n",
            "       -1.50109601e+00, -1.64256752e+00, -1.26399025e-01,  1.33744764e+00,\n",
            "       -3.60670567e-01,  7.56719470e-01, -1.43084848e+00,  5.73380530e-01],\n",
            "      dtype=float32)), ('##bed', array([ 1.9707551e+00, -5.2564657e-01,  1.5173976e+00,  1.5600002e+00,\n",
            "       -3.4101593e-01,  4.2693743e-01,  9.1095805e-01,  1.1531581e+00,\n",
            "        5.1662836e+00, -1.6912813e+00, -2.1359420e-01,  1.3368959e+00,\n",
            "       -2.2609818e-01,  8.1154019e-02, -3.4378858e+00,  3.1095307e+00,\n",
            "       -1.2761290e+00,  2.5845522e-01,  1.7251441e+00, -6.1972868e-01,\n",
            "        2.4014399e+00,  8.3880132e-01, -3.8041586e-01,  3.7969929e-01,\n",
            "        3.1779873e-01, -3.0066681e-01, -1.3151066e+00,  3.7275493e+00,\n",
            "       -2.1653670e-01,  2.0748301e+00,  1.4807150e+00,  3.1805141e+00,\n",
            "       -1.8211192e+00, -2.6908796e+00, -2.1846702e+00, -1.1191189e+00,\n",
            "       -1.8461169e-01, -1.7561601e+00, -1.4589257e+00,  2.0633628e+00,\n",
            "       -4.3661494e+00,  4.2932510e-01, -1.7352213e-01, -5.1500171e-01,\n",
            "       -4.1395992e-01, -1.7801417e+00, -7.1662502e+00, -2.6287081e+00,\n",
            "        1.1487292e+00, -5.5335398e+00, -1.2781401e+00, -1.7702215e+00,\n",
            "        1.6516223e+00,  1.7135732e+00,  2.0246325e+00,  4.1880264e+00,\n",
            "        1.6458466e+00, -5.3058391e+00,  7.0334911e+00, -4.2545003e-01,\n",
            "       -1.7537581e+00, -1.5272038e+00, -2.4823365e-01, -6.7160553e-01,\n",
            "        1.1126354e-01,  1.8927137e+00, -2.0260856e-01, -2.8883610e+00,\n",
            "       -5.3789258e+00,  1.0796313e+00, -3.7419934e+00, -1.2932276e+00,\n",
            "        1.5915389e+00,  1.0586773e-01,  1.5745786e+00,  6.8520427e-01,\n",
            "       -5.3494722e-01, -6.4037859e-01,  3.3859801e+00, -5.0565708e-01,\n",
            "       -2.5829077e+00, -2.5366694e-01, -1.1063524e+00, -2.0153501e+00,\n",
            "        1.1366078e+00, -2.4654346e+00,  3.2059412e+00,  3.0098505e+00,\n",
            "       -1.2461587e+00,  3.5159159e+00, -1.0656091e+00, -6.1622465e-01,\n",
            "       -7.1849316e-01, -1.8094853e+00, -2.6075816e-01,  2.3909080e+00,\n",
            "        1.4744942e-01,  1.0218127e+00, -1.0965619e+00,  1.2218037e+00,\n",
            "        3.0914629e+00, -1.0299351e+00,  3.1373620e+00, -9.4700313e-01,\n",
            "       -1.9086717e+00,  3.7925625e-01, -3.9596057e+00,  1.6710674e+00,\n",
            "       -2.2853710e-01, -9.9693424e-01, -2.0412250e+00,  2.2589900e+00,\n",
            "       -4.6274281e-01,  2.3751363e-01,  1.4818652e+00, -9.5625436e-01,\n",
            "       -1.7081772e+00,  7.5638670e-01, -1.0695124e+00, -5.1419082e+00,\n",
            "       -2.0955896e+00,  2.5228505e+00,  1.2139226e+00,  1.5316218e+00,\n",
            "       -2.9414438e-02, -2.8856225e+00, -5.7425656e+00, -4.3244186e-01,\n",
            "        2.4393270e+00,  5.2015076e+00, -1.1353451e-01, -1.7844677e+00,\n",
            "        2.4192235e+00, -7.4443802e-02, -1.6270432e+00, -9.0956792e-02,\n",
            "       -2.7641716e+00, -1.5664432e+00, -2.9431148e+00,  1.9913219e+00,\n",
            "       -1.0743936e+01,  3.4578197e+00,  1.5226557e+00, -6.2424636e-01,\n",
            "        4.3647485e+00, -6.8478978e-01, -1.9066219e+00,  1.7245458e-01,\n",
            "        1.9047098e+00,  4.8101110e+00, -2.2691157e+00,  4.5193624e+00,\n",
            "       -2.5374115e+00, -6.8306899e-01, -3.9238405e+00,  1.7502242e-01,\n",
            "       -4.1821843e-01,  1.2680771e+00,  7.8110993e-01, -1.2634305e+00,\n",
            "        3.7326884e+00,  2.8381350e+00, -1.1338291e+00,  7.0474267e-01,\n",
            "       -7.8434455e-01, -4.2659760e+00, -2.2100995e+00,  1.2990466e+00,\n",
            "        8.1858194e-01,  6.9637465e-01, -3.0359607e+00, -9.7567636e-01,\n",
            "        1.1149948e+00, -2.8671265e+00,  1.9608848e+00, -6.8096387e-01,\n",
            "       -1.0215205e+00, -1.9938363e+00,  5.9036070e-01,  1.3677758e+00,\n",
            "       -1.0938290e+00, -2.0192404e+00, -2.1313057e+00,  1.2265933e+00,\n",
            "        1.5999486e+00,  4.1973901e+00,  2.9333901e+00,  6.7218149e-01,\n",
            "        6.9503322e-02,  4.3373666e+00, -1.2337126e+00,  1.3955570e+00,\n",
            "        2.3469806e+00, -4.0747294e+00,  1.2220615e+00, -2.0986061e+00,\n",
            "       -5.5655169e+00,  5.6488168e-01,  1.1119473e+00,  4.0793890e-01,\n",
            "       -3.0353198e+00,  2.2220474e-01, -1.9379644e+00, -4.8174801e-01,\n",
            "       -1.1018502e+00,  1.2137967e-01, -8.2676256e-01, -1.2094414e+00,\n",
            "       -1.1288422e+00, -6.8833661e-01, -1.0494282e+00,  8.4146099e+00,\n",
            "       -2.8070841e+00, -1.9508792e+00, -1.5833745e+00, -5.9976459e-01,\n",
            "       -4.4061840e-01, -7.9872996e-01,  2.2638793e+00, -2.2461772e+00,\n",
            "       -7.2532868e-01, -2.5588636e+00,  3.1373733e-01,  6.8917908e-02,\n",
            "       -4.0660625e+00,  4.8594661e+00,  6.8864793e-01, -1.6750948e+00,\n",
            "        3.6766765e+00,  2.4759960e+00,  1.3997992e+00,  3.7503448e+00,\n",
            "        1.2143945e+00,  2.3651533e+00, -3.2012577e+00,  3.5266469e+00,\n",
            "       -2.4071866e-01, -9.4089597e-02,  7.9254583e-02, -2.3589644e-01,\n",
            "       -1.6784666e+00,  2.3146811e+00, -4.0875483e+00,  4.5022047e-01,\n",
            "       -1.1515141e+00,  1.8014379e+00,  1.1512340e+00, -6.0423976e-01,\n",
            "        1.4510833e+00,  6.0769069e-01, -2.8773682e+00, -1.2771664e+00,\n",
            "       -1.1181493e+00, -1.3175675e+00,  3.0079943e-01, -1.2064888e+00,\n",
            "       -4.4341006e+00,  1.6334214e+00,  3.8938445e-01,  1.5497059e+00,\n",
            "        9.5928508e-01,  9.9375737e-01, -1.6489420e+00, -6.0499728e-02,\n",
            "       -2.6234055e+00, -7.2975284e-01, -1.7407763e+00,  2.7908952e+00,\n",
            "        4.5040765e+00, -1.3509886e-01, -4.4757290e+00, -3.5693159e+00,\n",
            "        4.7885230e-01,  3.0491219e+00,  3.7146449e+00,  1.8807788e+00,\n",
            "        5.3691232e-01,  1.9947016e-01,  2.3694344e+00, -5.4723387e+00,\n",
            "       -2.6577601e+00, -3.2148476e+00, -1.2625945e+00, -1.2986646e+00,\n",
            "       -1.3636684e-01,  1.5440679e-01, -2.4107917e-01,  3.9868019e+00,\n",
            "        1.1284246e+00, -2.7506512e-01,  1.3988103e+00,  2.6856983e+00,\n",
            "       -1.9804362e+00,  3.1449597e-02,  4.5057325e+00,  2.6653593e+00,\n",
            "        1.1110190e+00, -3.7662635e+00,  2.9311600e+00, -2.4286706e+00,\n",
            "       -6.3617104e-01,  9.6128356e-01,  4.6613822e+00, -5.5058205e-01,\n",
            "        2.9186792e+00,  1.3355290e+00, -3.0355961e+00, -4.1051502e+00,\n",
            "       -1.6142715e+01, -1.7157907e+00,  1.5798929e+00, -1.5143971e+00,\n",
            "        5.4501748e+00,  2.9465592e+00, -6.7109981e+00,  2.1288300e-01,\n",
            "       -4.6062818e+00, -4.6680603e+00,  2.6589398e+00, -8.5599035e-02,\n",
            "        2.3851666e+00, -6.6967928e-01,  2.7442477e+00,  5.1799932e+00,\n",
            "       -4.0916314e+00,  8.9355284e-01,  1.4077519e+00, -1.3511069e+00,\n",
            "       -3.1949337e+00, -7.0888603e-01,  7.5716436e-01, -2.1736202e+00,\n",
            "        2.2574897e+00, -3.7494986e+00, -4.8565865e+00,  1.7409241e+00,\n",
            "       -2.0026467e+00, -3.2450504e+00,  1.4172901e+00, -2.8109021e+00,\n",
            "       -2.1173854e+00,  6.1188412e+00, -2.5485673e+00,  1.0014896e+00,\n",
            "       -1.8069098e+00, -3.7679490e-01, -7.7217782e-01, -2.2467570e+00,\n",
            "       -1.3158390e-01,  1.2414095e-01, -1.7930491e+00, -1.3108621e+00,\n",
            "        4.3637577e-01, -1.1231614e+00,  8.8139415e-02, -4.0549965e+00,\n",
            "       -1.0904125e+00,  2.8811064e+00, -1.4875400e+00, -1.3608932e+00,\n",
            "        1.5200417e+00, -7.8877646e-01,  1.4162905e+00,  2.8389688e+00,\n",
            "        1.1123216e+00,  3.0902727e+00, -1.0045750e+00,  3.1658485e+00,\n",
            "       -2.5197761e+00, -8.6594248e-01, -2.4426730e+00, -9.7828701e-02,\n",
            "        2.4483905e+00, -4.0615016e-01, -7.8322048e+00,  1.0746496e+00,\n",
            "       -2.1680319e-01, -3.5320768e+00,  8.5475969e-01, -8.7466139e-01,\n",
            "        2.5821787e-01, -8.7972355e+00,  3.2841840e+00,  5.5843890e-01,\n",
            "        2.5029514e+00, -2.9284620e+00, -1.4401572e+00, -1.1194369e-01,\n",
            "       -5.8793759e-01, -9.5265657e-01,  2.9835553e+00,  2.0806465e+00,\n",
            "        1.6305885e+00,  3.1697381e+00, -1.3765693e-04, -2.9661298e+00,\n",
            "       -3.6293718e-01, -1.9904603e+00,  3.8899765e+00, -9.6567965e-01,\n",
            "       -1.3985381e+00,  9.4458783e-01, -1.5594056e+00, -1.8297131e+00,\n",
            "       -2.6340933e+00, -2.3882011e-01,  9.6133983e-01, -5.7629067e-01,\n",
            "        3.9286356e+00, -3.5639336e+00, -3.7519898e+00,  1.9900221e+00,\n",
            "       -2.3353510e+00,  1.9583318e+00, -1.1312149e+00, -1.4701736e+00,\n",
            "        1.5215608e+00,  3.3847857e+00,  8.5790902e-02, -1.2244706e+00,\n",
            "       -1.6641685e-01,  1.2244487e+00, -1.8105195e-01,  7.3942173e-01,\n",
            "        4.0505686e+00,  1.2646259e+00,  3.2164707e+00, -3.9963272e-01,\n",
            "       -3.2177014e+00, -5.1351869e-01,  1.1766291e+00, -2.6040366e+00,\n",
            "        1.7433646e+00,  7.2604185e-01, -3.2945232e+00, -5.4990405e-01,\n",
            "        1.0529690e+00, -4.2506771e+00,  2.2369578e+00, -2.1440275e+00,\n",
            "       -2.1867414e+00, -2.2793458e-01,  3.1732569e+00, -2.0477486e+00,\n",
            "        1.4900208e-01,  1.9036136e+00, -5.6770468e+00,  2.6502397e+00,\n",
            "        3.0450492e+00, -1.5413946e-01,  9.3931770e-01, -1.0904640e+00,\n",
            "       -1.5849508e+00, -1.4625371e+00, -1.9547325e+00,  8.0139029e-01,\n",
            "       -3.4233325e+00,  2.6321263e+00, -6.9399077e-01, -4.9262431e-01,\n",
            "        7.3454809e-01, -2.0795701e+00, -1.7280570e+00, -1.2246909e+00,\n",
            "       -9.7385973e-01, -2.8953743e+00,  1.0691413e+00, -2.6144586e+00,\n",
            "        2.4202421e+00, -3.1875944e-01,  7.3255062e+00,  1.4558723e+00,\n",
            "       -8.7202346e-01, -6.5666819e-01, -5.2127832e-01, -6.2668955e-01,\n",
            "       -4.8194069e-01, -4.0780859e+00, -4.9111471e+00,  2.9907768e+00,\n",
            "        3.4763322e+00, -5.8153951e-01,  1.0059420e+00,  5.4182005e-01,\n",
            "        3.6218088e+00, -3.9938402e+00,  3.0692065e+00,  4.7922230e+00,\n",
            "       -2.3312777e-02,  2.4298981e-02, -1.2907867e+00,  3.9006114e+00,\n",
            "        3.0749443e+00,  3.5117447e+00, -9.4222289e-01, -1.9694374e+00,\n",
            "        1.4420763e+00,  1.2321117e+00, -2.7058520e+00,  6.4268398e-01,\n",
            "       -2.8975947e+00, -6.7907839e+00,  1.0841725e+00, -1.1574657e+00,\n",
            "        1.7510489e+00, -8.9698732e-03, -1.2131923e+00, -1.8471038e+00,\n",
            "       -3.3539624e+00, -2.7832785e+00, -4.5500028e-01,  1.3680172e-01,\n",
            "       -1.3601452e+00, -1.9526597e+00,  1.9799331e+00,  5.9156084e+00,\n",
            "        1.3307823e+00, -1.0215638e+00,  2.0786521e+00, -1.9738071e+00,\n",
            "       -8.3230209e+00, -2.2333007e+00,  2.8352165e+00, -1.2129422e+00,\n",
            "        2.9688408e+00,  2.8797288e+00, -1.9683359e+00, -1.9514835e+00,\n",
            "       -1.5993680e-01,  1.5135494e-01,  2.0577800e+00,  2.2772784e+00,\n",
            "       -2.5750015e+00,  1.3074241e+00, -1.8380759e+00, -1.7704495e+00,\n",
            "       -5.9472780e+00,  1.6525952e+00, -1.4059833e-01,  9.1157109e-01,\n",
            "       -8.2588866e-02, -1.4215584e+00, -3.6898050e+00, -3.7253957e+00,\n",
            "        9.6205211e-01, -5.1815063e-01, -1.1117105e+00, -6.2885684e-01,\n",
            "       -3.5779672e+00,  1.9997803e+00, -1.9257195e+00, -6.5100324e-01,\n",
            "        2.8162827e+00,  8.0310589e-01,  2.2991745e+00, -1.0307999e+00,\n",
            "       -8.8252950e-01,  5.2075666e-01, -2.1626902e+00, -3.5963383e+00,\n",
            "       -3.4538940e-01, -1.6420549e-01,  1.2528946e+00, -2.2091131e+00,\n",
            "       -2.3376024e+00, -1.4062955e+00, -3.2373581e+00,  4.5761409e+00,\n",
            "        1.9903052e-01,  1.0657572e+00, -1.7108483e+00,  3.2596309e+00,\n",
            "        9.0666473e-01, -1.8971171e+00,  1.9450856e+00, -2.4132805e+00,\n",
            "       -5.1821512e-01, -1.7600781e+00,  2.2065041e+00, -5.0543976e+00,\n",
            "        2.4103036e+00,  5.3456540e+00,  4.7092694e-01, -3.1475968e+00,\n",
            "       -2.0439503e+00, -2.2142467e+00,  3.4476380e+00, -2.9630861e+00,\n",
            "       -9.3732464e-01, -5.2601986e+00,  1.3625338e+00, -3.6492243e-01,\n",
            "        3.6951451e+00,  1.7411644e+00, -1.6617748e-01, -1.0327529e+00,\n",
            "       -5.4770482e-01, -6.9543386e+00,  1.3745458e+00, -2.7991567e+00,\n",
            "       -1.3091071e+00, -7.1051702e-02, -4.4979948e-01,  2.7808144e+00,\n",
            "        7.2232709e+00, -5.0105160e-01,  6.8706961e+00,  1.0336229e+00,\n",
            "        9.0910691e-01,  2.1051786e+00, -1.6371375e+00, -4.3461645e-01,\n",
            "       -2.5376129e+00,  3.5702958e+00, -1.5420505e+00,  3.8911569e+00,\n",
            "       -2.6507277e+00, -2.0409501e-01,  3.8495607e+00, -9.7721672e-01,\n",
            "        3.3038390e+00, -6.0071528e-01, -2.7424915e+00, -3.5089109e+00,\n",
            "        2.3233521e+00, -3.3665106e+00,  1.5853751e-01, -5.6379443e-01,\n",
            "       -3.5505438e+00,  2.7759075e+00,  4.8561277e+00,  6.9640750e-01,\n",
            "       -1.5753360e+00,  1.4937172e+00, -3.4982183e+00, -6.8724322e-01,\n",
            "       -4.1157846e+00,  1.0130600e+00,  1.3310314e+00, -4.7246179e-01,\n",
            "        5.8363765e-01,  1.1213703e+00,  4.3891731e-01, -2.6107414e+00,\n",
            "       -1.7954669e+00, -4.1831756e-01,  5.1177969e+00,  5.9862751e-01,\n",
            "       -1.5649548e+00, -6.5014851e-01,  1.0398061e+00, -1.9591743e-01,\n",
            "       -8.6447060e-01,  4.6882600e-01,  3.2916002e+00,  2.2694771e+00,\n",
            "       -1.1726263e+00,  3.2953880e+00,  2.0228934e+00, -1.7180641e+00,\n",
            "        6.1741738e+00, -4.6455441e+00,  1.2809116e-01, -1.3563907e+00,\n",
            "       -1.9430699e+00,  4.3262835e+00,  4.2880874e+00,  4.8459077e+00,\n",
            "        3.5937474e+00, -2.1632142e+00, -2.0399804e+00, -2.9601355e+00,\n",
            "        1.0034825e+00,  5.6316042e-01, -2.6798651e-01,  6.9580984e-01,\n",
            "        4.7422724e+00,  9.3237561e-01, -1.2082218e-01, -8.9341700e-01,\n",
            "        2.8054998e+00, -1.3237283e+00, -3.6618289e-01, -9.6338928e-01,\n",
            "       -1.9187455e+00,  3.2405610e+00, -1.0975088e+00, -1.6257343e+00,\n",
            "       -2.8584213e+00, -2.4156036e+00, -3.4612498e+00, -3.9495468e-01,\n",
            "       -1.4357727e+00,  3.2018259e+00, -1.7106326e+00,  3.7381878e+00,\n",
            "       -1.8118875e+00, -1.4465075e+00,  6.2323225e-01, -1.5945139e+00,\n",
            "        2.5016487e+00, -7.2347295e-01,  4.4749341e+00,  2.0332530e+00,\n",
            "       -4.5496392e+00,  1.7680765e+00,  3.0400879e+00, -3.6148107e-01,\n",
            "        2.0664616e+00,  6.3285810e-01, -1.4476515e-01,  1.4045069e+00,\n",
            "       -9.6318567e-01,  1.0784197e+00, -6.4657670e-01,  3.8305702e+00,\n",
            "       -4.5875196e+00,  2.2997115e+00,  3.9572377e+00,  6.0639036e-01,\n",
            "       -8.7517381e-01,  1.2317646e+00,  3.1249633e+00, -2.6809106e+00,\n",
            "       -3.2948546e+00, -2.2225914e+00, -2.8004489e+00,  1.2729604e+00,\n",
            "       -3.3003836e+00, -1.1727489e+00,  1.6232513e+00, -7.2032619e-01,\n",
            "        1.1179563e+00,  1.0729548e-01,  2.6380250e+00,  4.3547215e+00,\n",
            "       -9.5743227e-01,  2.1614811e-01,  3.6212158e+00, -6.0842669e-01,\n",
            "        8.8681942e-01,  2.2970936e+00, -1.9458308e+00, -1.4613789e+00,\n",
            "       -2.0128560e+00,  9.2612094e-01,  2.7031691e+00,  2.7146006e+00,\n",
            "        1.9960790e+00,  3.2892854e+00,  5.2160382e-01, -3.8693348e-01,\n",
            "        1.6624978e+00,  2.1850507e+00, -3.1261110e+00,  1.8281493e+00,\n",
            "        2.9332951e-02,  1.4069736e+00,  1.3944391e+00, -3.1258863e-01,\n",
            "       -1.2359002e+00, -1.0122671e+00,  9.0409696e-02, -2.1099503e+00,\n",
            "       -3.2727666e+00,  1.8298963e+00, -1.4734817e+00, -3.8446215e-01],\n",
            "      dtype=float32)), ('##ding', array([-2.73494434e+00, -1.03887153e+00, -2.18414974e+00,  3.72237593e-01,\n",
            "       -5.76958179e-01,  1.70010352e+00,  1.06254268e+00,  6.20586276e-01,\n",
            "       -4.97645915e-01, -1.17701483e+00, -3.47088784e-01,  8.43203008e-01,\n",
            "       -1.11973476e+00,  7.62510002e-01, -1.38628483e+00,  1.44292760e+00,\n",
            "       -5.15873075e-01,  1.49820638e+00,  1.19092345e+00, -1.02705991e+00,\n",
            "        1.71739292e+00,  2.17393184e+00, -4.53656960e+00, -3.00709677e+00,\n",
            "       -2.82995552e-01,  2.76491857e+00,  2.09942460e-02, -1.20142177e-01,\n",
            "       -2.33385324e+00,  4.81829047e-01,  2.48679829e+00,  4.23755360e+00,\n",
            "        4.84814835e+00, -3.23005199e-01, -2.15151858e+00, -2.52169669e-01,\n",
            "       -1.92871720e-01, -4.14842993e-01, -4.44548815e-01,  9.46101069e-01,\n",
            "        7.78724730e-01,  1.89164925e+00,  3.09170079e+00, -1.80070019e+00,\n",
            "       -1.10588765e+00, -3.45795631e+00, -9.83513951e-01, -6.88043237e-01,\n",
            "        1.93928158e+00, -3.54572582e+00, -4.86187935e+00,  1.05707204e+00,\n",
            "       -1.20272219e+00,  3.72648907e+00, -3.87958944e-01,  1.73104429e+00,\n",
            "        1.49935079e+00, -3.82876921e+00,  1.54361415e+00, -3.25374722e-01,\n",
            "       -8.45160186e-01,  2.74453282e-01,  2.02018768e-01, -1.48957229e+00,\n",
            "       -1.85818329e-01,  8.33460331e-01,  1.63991189e+00,  1.48719132e+00,\n",
            "       -6.63581848e+00,  1.28950393e+00, -4.09775639e+00,  5.00363064e+00,\n",
            "        1.73529434e+00, -1.40515339e+00, -4.25964117e-01, -1.23170167e-01,\n",
            "       -1.78260517e+00, -1.86546743e-01,  1.79987812e+00, -7.87854970e-01,\n",
            "       -2.28051424e+00,  2.89420700e+00, -5.24609566e+00,  2.72199959e-02,\n",
            "        2.14640665e+00, -3.95039797e-01,  4.75521564e-01,  1.37362742e+00,\n",
            "       -5.20315695e+00,  1.84832084e+00,  2.04271030e+00, -5.46057463e-01,\n",
            "       -8.24273765e-01, -1.57401454e+00,  4.16998100e+00, -3.62139255e-01,\n",
            "       -2.07301378e+00, -5.27535200e-01,  3.70530343e+00, -1.28558493e+00,\n",
            "       -1.11402524e+00, -1.95680666e+00,  1.84318519e+00,  4.34188545e-03,\n",
            "       -2.34904289e+00, -2.64024043e+00, -1.66604424e+00,  1.83231905e-02,\n",
            "        2.21566057e+00, -3.59374344e-01, -1.91581881e+00,  1.41370022e+00,\n",
            "        1.03387499e+00, -3.11216474e+00,  1.17861003e-01,  9.40351903e-01,\n",
            "       -2.32810855e+00,  1.30937505e+00, -5.96922398e-01, -1.91355097e+00,\n",
            "       -1.69334137e+00,  6.93938971e-01,  2.00568414e+00,  4.00945854e+00,\n",
            "       -1.15094447e+00,  6.34743154e-01, -2.37930632e+00,  1.90710819e+00,\n",
            "       -2.72846723e+00, -1.00341141e-02,  1.14129066e+00,  3.41498065e+00,\n",
            "        3.31460166e+00,  2.21567988e-01, -3.18610573e+00,  1.21597677e-01,\n",
            "       -3.73465836e-01,  1.04459584e-01, -2.03605747e+00, -2.11648798e+00,\n",
            "       -2.12202859e+00,  3.70627999e+00,  1.53720486e+00, -1.01351142e-02,\n",
            "        4.78998470e+00, -1.82745552e+00, -1.98788643e+00, -8.43923330e-01,\n",
            "        1.93360841e+00,  2.88675976e+00, -2.31069183e+00,  2.43453169e+00,\n",
            "       -4.51526546e+00, -3.17944437e-01,  5.58838248e-04, -1.74089122e+00,\n",
            "        4.01098937e-01,  3.20078492e+00,  1.04277574e-01,  1.53323734e+00,\n",
            "        6.67127466e+00,  1.81316793e+00, -9.02072668e-01,  8.39372754e-01,\n",
            "        3.30163169e+00, -9.19080794e-01, -1.74617910e+00,  4.41210985e+00,\n",
            "        1.13520706e+00, -1.70433730e-01, -1.25567484e+00, -1.65624845e+00,\n",
            "        3.24211073e+00, -2.15313673e+00, -6.00345969e-01, -1.10433602e+00,\n",
            "        1.26241577e+00, -4.92250204e+00,  1.62151659e+00,  1.46164611e-01,\n",
            "       -2.54435873e+00, -1.08706987e+00, -2.81983066e+00, -3.67581940e+00,\n",
            "       -1.03255248e+00,  8.36351931e-01,  9.43652511e-01, -4.16772175e+00,\n",
            "        1.13614297e+00, -2.20161676e-03, -1.64836907e+00, -1.93481886e+00,\n",
            "       -1.11750913e+00, -4.57232046e+00,  1.02303600e+00,  1.10065436e+00,\n",
            "       -1.23470396e-01,  6.32641852e-01,  2.14283049e-01,  2.06680679e+00,\n",
            "       -1.30421185e+00,  1.31711170e-01, -1.68752933e+00, -4.85780656e-01,\n",
            "        1.59403956e+00,  1.90230441e+00, -2.51094794e+00,  7.83704042e-01,\n",
            "       -2.25054359e+00,  1.89765775e+00, -1.57233512e+00,  5.83636332e+00,\n",
            "       -3.11879039e+00,  1.37550938e+00,  1.82883239e+00, -3.00519824e-01,\n",
            "       -2.58287573e+00, -1.63912368e+00,  5.66213369e-01, -1.08793592e+00,\n",
            "        2.80159044e+00, -2.36094379e+00, -3.27974319e+00,  2.57903785e-01,\n",
            "       -4.50130463e+00,  4.88545704e+00,  7.34509706e-01,  1.54323471e+00,\n",
            "        3.29194665e-01, -1.67106777e-01,  1.84468961e+00, -8.84800971e-01,\n",
            "        9.74773765e-01, -2.00116396e+00, -2.41206694e+00,  4.04663181e+00,\n",
            "       -6.53248191e-01, -8.36271286e-01, -9.54475462e-01, -2.66718566e-01,\n",
            "        1.22335064e+00,  2.92546034e+00,  7.49133587e-01, -1.23963118e+00,\n",
            "       -9.03468013e-01, -1.08263588e+00,  4.29223895e-01, -8.62132668e-01,\n",
            "       -3.90387267e-01, -8.23980808e-01, -5.48793697e+00, -2.36053205e+00,\n",
            "       -1.23208296e+00, -1.23475194e+00, -2.26632452e+00, -4.51915085e-01,\n",
            "       -1.67224586e+00, -2.08089304e+00,  8.84874284e-01,  1.19918799e+00,\n",
            "        1.44701600e+00, -3.01332295e-01, -3.10176492e-01,  9.94355142e-01,\n",
            "       -1.80455458e+00,  2.89902449e+00, -1.23718643e+00,  2.12521815e+00,\n",
            "        5.06413269e+00,  9.32739258e-01, -3.61030626e+00, -3.16612625e+00,\n",
            "       -2.14461875e+00,  1.31972122e+00, -4.36484385e+00, -2.98185825e+00,\n",
            "       -9.60835457e-01,  2.75837803e+00, -8.20594907e-01,  7.32880592e-01,\n",
            "       -2.32764935e+00, -6.62681282e-01, -7.94855535e-01, -7.43365705e-01,\n",
            "        3.39204407e+00,  3.21971714e-01, -3.56970453e+00,  9.15532291e-01,\n",
            "        4.34429824e-01, -2.34882966e-01,  2.55445451e-01,  3.41946578e+00,\n",
            "       -2.27308369e+00,  9.34155405e-01,  3.94040728e+00,  3.19844961e+00,\n",
            "        1.96419823e+00,  1.39961803e+00,  6.68746769e-01, -3.10289884e+00,\n",
            "       -2.64489579e+00,  7.20691681e-01,  3.32726121e+00,  1.16979003e+00,\n",
            "       -1.38676631e+00,  3.35961723e+00, -3.07461858e+00, -1.33033085e+00,\n",
            "       -3.02029381e+01, -1.49449205e+00,  2.42240524e+00, -1.95264542e+00,\n",
            "        1.05791020e+00, -2.02174187e-02, -2.41633439e+00, -7.77770936e-01,\n",
            "       -6.80700779e+00, -1.29133022e+00, -1.68249929e+00, -1.70625782e+00,\n",
            "        6.84615970e-01, -3.63663018e-01,  1.34826231e+00,  4.31894600e-01,\n",
            "       -1.56054950e+00, -5.73282003e-01,  4.55151558e-01,  6.98993087e-01,\n",
            "       -5.84881496e+00, -3.95877779e-01,  1.63040638e+00, -9.65555191e-01,\n",
            "       -2.00131178e+00, -4.80469131e+00, -3.34302950e+00,  3.04851818e+00,\n",
            "       -1.42159033e+00, -3.12598538e+00,  9.84254241e-01,  2.31151104e-01,\n",
            "        1.34440422e+00,  4.32169724e+00, -3.85794592e+00,  4.55150098e-01,\n",
            "        9.54810977e-01, -9.81383175e-02,  5.05126953e+00, -3.54735470e+00,\n",
            "        4.61581945e-01,  1.36225438e+00,  2.20099187e+00,  8.64194930e-02,\n",
            "        3.70057726e+00, -2.28794217e+00,  4.12367731e-02, -6.86176896e-01,\n",
            "        1.97016716e-01,  9.45823252e-01, -8.85317087e-01, -2.07024217e+00,\n",
            "        1.70449579e+00, -1.84547973e+00,  5.29828370e-01, -6.26570344e-01,\n",
            "        8.95474076e-01,  3.91103458e+00, -8.32327485e-01,  3.84412080e-01,\n",
            "        2.72158766e+00, -2.26110435e+00,  3.40105343e+00,  4.16066945e-01,\n",
            "       -2.95859790e+00,  3.13926077e+00, -5.65913725e+00, -9.08520579e-01,\n",
            "       -1.56784701e+00,  1.58752930e+00,  3.72817457e-01, -1.53279114e+00,\n",
            "        1.77695537e+00, -1.04779053e+01,  5.89066923e-01,  1.55539691e-01,\n",
            "       -1.65937114e+00, -1.23517251e+00,  1.53642297e-01, -4.49260086e-01,\n",
            "       -1.78936315e+00, -2.09253836e+00,  1.49963236e+00, -8.52946877e-01,\n",
            "        3.73701572e-01,  6.00161195e-01, -7.51595348e-02, -5.70494986e+00,\n",
            "        2.23814535e+00,  1.70503747e+00, -3.34201980e+00,  1.44228411e+00,\n",
            "        4.79229987e-02,  3.06951046e-01,  1.38382447e+00,  2.42027119e-01,\n",
            "       -1.60946965e-01, -3.11510623e-01, -9.62987542e-02,  1.30622661e+00,\n",
            "        1.62152767e+00, -3.59959483e+00, -1.45874381e-01,  3.47613621e+00,\n",
            "        1.20175004e+00,  3.90428901e+00, -7.01439667e+00,  8.14433396e-01,\n",
            "        1.96159256e+00,  2.14105725e+00, -2.93634534e-01,  2.41979465e-01,\n",
            "        2.06783724e+00,  7.56018341e-01, -3.33091545e+00, -1.76998571e-01,\n",
            "        3.88874620e-01,  8.77349377e-02, -1.13656294e+00,  3.04799616e-01,\n",
            "       -1.30246449e+00,  1.13236368e+00, -1.19085836e+00,  1.14257395e-01,\n",
            "       -1.20506167e-01, -1.21918619e-01, -9.01774764e-01, -2.94873548e+00,\n",
            "       -1.17477059e+00, -3.38582277e+00,  2.95889318e-01,  2.05643940e+00,\n",
            "       -1.11331582e+00, -3.52021128e-01, -1.15418029e+00, -1.91136456e+00,\n",
            "       -6.29281044e-01,  1.99190426e+00, -3.75090408e+00,  9.53750312e-01,\n",
            "        3.94850492e+00, -7.28629827e-02,  2.03088307e+00, -3.52011967e+00,\n",
            "        3.18405032e+00,  1.53145999e-01,  8.80990148e-01, -2.10712266e+00,\n",
            "       -1.03156483e+00,  1.04815674e+00,  6.25077069e-01, -4.44679070e+00,\n",
            "        1.52680743e+00, -5.20404398e-01,  2.65215874e-01, -1.70601237e+00,\n",
            "       -1.68550581e-01, -2.64983654e+00,  2.48107815e+00, -2.67502499e+00,\n",
            "        2.65944195e+00,  1.40118670e+00,  6.37780762e+00,  1.75000620e+00,\n",
            "        4.95318770e-02,  3.94126892e+00, -3.62386608e+00,  1.03301322e+00,\n",
            "       -8.42563331e-01, -2.87465692e+00, -1.23649275e+00,  1.09765160e+00,\n",
            "       -4.03311133e-01,  2.55394697e-01,  3.27681804e+00,  2.91852266e-01,\n",
            "        3.37104273e+00,  9.19799984e-01, -4.75460291e-02,  4.56579590e+00,\n",
            "        9.15399849e-01,  1.30204105e+00, -2.93522000e-01,  1.17477083e+00,\n",
            "        4.02887344e+00,  2.72184420e+00, -7.92082191e-01, -3.57599467e-01,\n",
            "        8.94807935e-01,  1.71562076e+00,  2.08037877e+00,  1.94154620e-01,\n",
            "       -3.53687070e-02, -1.99191463e+00, -2.54831612e-02, -8.22391152e-01,\n",
            "        1.31869149e+00,  2.28573412e-01,  1.39498627e+00,  8.23847413e-01,\n",
            "       -9.06608999e-03, -4.22478735e-01, -1.65036619e+00, -2.17039967e+00,\n",
            "        6.71163678e-01, -1.77934039e+00,  1.39900160e+00,  6.69208914e-02,\n",
            "        1.89971477e-01, -1.06196237e+00,  2.24275684e+00, -2.64788628e+00,\n",
            "       -4.99138737e+00, -7.05695868e+00,  2.35255003e+00,  2.25575447e+00,\n",
            "        3.42618012e+00,  2.37854052e+00, -6.37221634e-02, -1.84684360e+00,\n",
            "       -4.25742745e-01, -2.38875532e+00,  3.01365924e+00,  1.28844523e+00,\n",
            "       -4.36557353e-01, -2.17538148e-01, -7.18778014e-01, -4.10737705e+00,\n",
            "       -2.44609356e+00,  4.37804747e+00, -1.21078277e+00,  1.51752973e+00,\n",
            "       -2.84463435e-01, -4.86128986e-01,  2.02770734e+00, -4.32562780e+00,\n",
            "       -4.97898960e+00,  1.39134383e+00, -1.76183760e+00, -2.39256024e+00,\n",
            "       -1.35102427e+00, -1.58258998e+00, -3.01784134e+00,  1.38574570e-01,\n",
            "        3.18360269e-01, -1.73467052e+00,  7.83109739e-02,  1.25539005e+00,\n",
            "        2.42490315e+00,  3.72554874e+00, -4.07015419e+00,  1.02866805e+00,\n",
            "       -1.05568111e+00, -4.31417465e+00,  7.07724035e-01, -2.94176489e-01,\n",
            "       -7.20513225e-01, -2.24611616e+00, -1.30382526e+00, -2.74518281e-01,\n",
            "       -1.07433188e+00,  4.05005872e-01, -2.86070085e+00,  1.53142440e+00,\n",
            "        9.64807868e-01,  2.83653796e-01,  1.55940783e+00,  1.35967338e+00,\n",
            "        2.62849510e-01, -1.05793142e+00, -6.23220921e-01, -1.34411371e+00,\n",
            "        1.20984919e-01,  1.90564919e+00, -1.98689520e-01,  1.25774831e-01,\n",
            "        1.78924620e+00,  2.36184508e-01, -1.82533658e+00, -2.00443554e+00,\n",
            "       -1.93355131e+00, -1.61143935e+00,  7.44749129e-01,  2.76668668e+00,\n",
            "       -2.96399498e+00,  1.23262012e+00, -1.05472103e-01, -3.80544734e+00,\n",
            "       -1.03010654e+00, -4.78040886e+00, -3.02426100e-01, -1.95622110e+00,\n",
            "        8.00734878e-01,  2.63136774e-01, -1.91354442e+00,  2.90465641e+00,\n",
            "        2.47367239e+00,  1.01933372e+00, -2.11011887e+00, -2.40519166e+00,\n",
            "       -1.33690572e+00,  3.40279192e-01,  7.42940903e-01,  1.15084434e+00,\n",
            "        2.19965744e+00,  1.32953310e+00, -1.11921334e+00,  1.12212980e+00,\n",
            "        3.77985030e-01,  5.39086342e-01,  1.69744277e+00,  1.82755828e+00,\n",
            "        3.87805915e+00,  2.59217072e+00, -4.01405668e+00, -2.72409558e+00,\n",
            "        5.04790902e-01, -1.02132761e+00,  1.79881024e+00,  3.13669872e+00,\n",
            "       -2.09271908e+00, -1.26824844e+00,  1.09065533e+00, -1.62905955e+00,\n",
            "       -1.78596067e+00,  2.33969116e+00, -2.37177420e+00, -1.47443807e+00,\n",
            "       -1.95465231e+00,  1.35944450e+00, -5.48911393e-02,  7.05986857e-01,\n",
            "        8.16056490e-01,  3.42300701e+00,  1.59250212e+00,  5.65798998e-01,\n",
            "        3.44553518e+00, -5.77196836e-01, -1.20567203e+00, -1.07400584e+00,\n",
            "       -1.62184075e-01,  2.60238457e+00, -1.12180340e+00,  1.17906713e+00,\n",
            "        2.76628375e-01, -3.02256989e+00,  6.57432139e-01,  2.28125274e-01,\n",
            "       -1.49896228e+00,  4.53065681e+00,  3.40541363e+00,  1.26888347e+00,\n",
            "        1.34618700e-01, -1.42842615e+00,  1.03992283e-01,  3.79574984e-01,\n",
            "        2.08716393e+00,  1.67279696e+00,  1.04182208e+00,  1.83068061e+00,\n",
            "        4.41248226e+00,  1.10685110e+00,  6.27524376e-01, -1.85667074e+00,\n",
            "        5.26705563e-01,  1.13378191e+00,  1.90113616e+00, -6.41350925e-01,\n",
            "        4.88368988e-01, -1.03962302e+00, -1.12405944e+00,  3.70447731e+00,\n",
            "        2.65160680e+00,  2.75647688e+00,  2.26093316e+00, -1.12095404e+00,\n",
            "        4.25916612e-01,  3.95357513e+00, -3.49802876e+00, -1.97842705e+00,\n",
            "       -3.81676793e-01, -1.80235720e+00, -2.98843670e+00, -3.13256949e-01,\n",
            "        2.38012600e+00, -2.83614516e+00, -6.93154633e-01,  1.12842250e+00,\n",
            "       -1.91361499e+00, -1.64822742e-01, -1.99413091e-01,  9.48516607e-01,\n",
            "        6.85440719e-01, -2.99835205e-02,  6.11600590e+00,  3.32494497e+00,\n",
            "       -1.95459926e+00,  2.22274923e+00, -2.49979317e-01,  1.53830156e-01,\n",
            "        3.65220475e+00, -3.89543295e+00,  1.95192504e+00, -2.43477178e+00,\n",
            "       -2.09260178e+00, -1.26894474e+00, -1.70172477e+00, -4.12247539e-01,\n",
            "       -3.33165812e+00, -1.37602472e+00,  3.04900718e+00,  2.16168737e+00,\n",
            "       -3.40197176e-01, -1.74828184e+00,  3.05411100e+00, -2.03277755e+00,\n",
            "       -6.13622963e-01, -4.25175619e+00, -2.28477925e-01,  1.74428678e+00,\n",
            "       -4.27532864e+00, -1.10288441e+00,  2.63911754e-01, -1.37957597e+00,\n",
            "        4.21099722e-01,  1.05311489e+00,  1.38689935e+00,  2.00320387e+00,\n",
            "       -2.75100976e-01,  1.16915798e+00,  3.81840968e+00,  1.86121941e+00,\n",
            "        2.35238552e-01,  5.08717251e+00, -1.30727243e+00, -1.01185799e+00,\n",
            "       -1.43624759e+00, -1.85981083e+00,  2.03380728e+00, -1.48142830e-01,\n",
            "       -2.89238334e+00,  3.05780888e+00, -5.49223959e-01, -1.10099316e+00,\n",
            "        1.95938754e+00,  1.70063007e+00, -1.79415250e+00,  1.19344604e+00,\n",
            "       -5.87426350e-02, -8.73698592e-02,  1.54353499e+00, -2.02975941e+00,\n",
            "       -4.84261799e+00, -2.89230257e-01, -1.22712576e+00,  1.80103946e+00,\n",
            "        1.49851656e+00,  9.94955242e-01, -5.98995090e-02,  1.24773502e+00],\n",
            "      dtype=float32)), ('[SEP]', array([ 7.54562080e-01, -1.34544730e-01, -4.82176781e-01,  5.17899513e-01,\n",
            "       -7.14091539e-01, -8.19209337e-01,  6.26907945e-02, -1.27108836e+00,\n",
            "        1.01342225e+00, -1.27565160e-01,  1.23232231e-02, -2.98211306e-01,\n",
            "        1.47909746e-01, -4.16614294e-01, -6.40723348e-01, -6.70809746e-01,\n",
            "       -9.83649045e-02, -2.93712616e-01,  2.49795139e-01, -1.81160122e-01,\n",
            "       -7.16382414e-02,  2.50968784e-02,  5.02652645e-01, -2.88248301e-01,\n",
            "        1.11208640e-01,  1.39440596e-01, -2.04413891e-01,  2.51735002e-03,\n",
            "       -1.71379298e-01, -7.11336732e-01, -8.15357685e-01, -2.70316690e-01,\n",
            "       -3.13700318e-01,  5.33955991e-01,  1.24635696e-02, -2.05367118e-01,\n",
            "        6.51058555e-01, -2.95650721e-01, -3.79402161e-01,  1.90788805e-02,\n",
            "       -5.22682369e-01,  2.84264863e-01, -3.45842659e-01,  1.75631315e-01,\n",
            "        8.44867378e-02, -5.32347560e-01,  2.67867833e-01,  3.38294834e-01,\n",
            "       -1.40847445e-01,  4.71792400e-01,  2.37316206e-01,  3.47425520e-01,\n",
            "       -3.53317887e-01,  6.40054882e-01,  4.75220904e-02,  1.36030972e-01,\n",
            "        4.65528280e-01, -6.40989423e-01,  5.95181823e-01,  2.93201655e-01,\n",
            "        6.80106133e-02,  3.86226714e-01, -1.03167467e-01, -2.92584717e-01,\n",
            "        4.86974806e-01,  2.14373581e-02, -2.38129627e-02, -5.77747762e-01,\n",
            "       -4.95938689e-01, -8.63753334e-02,  6.67856112e-02, -1.21545804e+00,\n",
            "        6.31633699e-01, -1.43171251e-02,  1.87716693e-01,  3.09596658e-01,\n",
            "       -5.01212418e-01,  8.80184948e-01,  2.49700874e-01,  1.34034276e-01,\n",
            "       -1.32382020e-01, -1.06266454e-01,  1.99708194e-01, -1.94059521e-01,\n",
            "        5.83230734e-01, -1.65168166e-01, -1.75548822e-01,  1.88131303e-01,\n",
            "       -2.80605465e-01, -4.67742622e-01,  3.62951994e-01,  9.27340314e-02,\n",
            "        7.11366832e-02,  4.31813300e-03,  3.42042819e-02,  5.47008634e-01,\n",
            "       -5.70218325e-01,  1.35439694e-01,  8.85368213e-02, -4.91764657e-02,\n",
            "       -1.41508222e-01, -2.03740984e-01,  4.00527447e-01,  7.37156928e-01,\n",
            "       -2.93162107e-01, -2.93318331e-01,  1.31691024e-01,  3.72550815e-01,\n",
            "        3.88130367e-01,  6.42615318e-01,  9.39847350e-01,  2.98780710e-01,\n",
            "        3.31419051e-01, -5.71855158e-02, -2.79597759e-01, -5.35173833e-01,\n",
            "        4.38370496e-01,  4.14362162e-01,  4.31376338e-01, -3.04581821e-02,\n",
            "       -7.52844572e-01, -4.72607017e-01,  2.73237348e-01,  3.33066630e+00,\n",
            "       -1.23548932e-01, -5.61029837e-03,  2.03375190e-01, -7.95531869e-01,\n",
            "       -1.58832893e-01, -3.72903526e-01, -7.06457973e-01,  5.34329832e-01,\n",
            "        4.42952693e-01,  1.16475308e+00,  2.11283058e-01,  1.28341779e-01,\n",
            "       -2.29927540e-01,  1.24106243e-01, -6.48284614e-01,  1.01600483e-01,\n",
            "       -4.93757576e-02,  1.10449028e+00,  5.29787540e-01, -1.61071432e+00,\n",
            "       -3.01704228e-01,  7.79608965e-01,  7.38582373e-01,  2.53033310e-01,\n",
            "        4.18635786e-01, -5.43763518e-01,  8.55004132e-01, -2.35023513e-01,\n",
            "       -3.84769648e-01,  7.83878118e-02, -2.64364302e-01, -3.23159426e-01,\n",
            "       -5.22239655e-02,  7.31613487e-04,  5.01379848e-01,  8.00284028e-01,\n",
            "        1.90077111e-01,  5.18871784e-01,  5.54859519e-01,  9.30211842e-02,\n",
            "       -7.35349953e-01,  2.25530192e-01, -1.33573186e+00, -3.82026374e-01,\n",
            "        7.42796779e-01,  6.56100035e-01, -3.81339639e-01, -3.38442326e-01,\n",
            "       -3.88094544e-01,  1.46555513e-01, -5.80513418e-01,  4.91681993e-01,\n",
            "        1.18163094e-01, -3.76865327e-01, -4.04038936e-01, -8.61195683e-01,\n",
            "       -1.48582630e+01, -8.92343462e-01, -6.59355819e-02, -1.13426276e-01,\n",
            "       -3.81297432e-03, -2.21856102e-01, -1.10622573e+00, -4.13961560e-02,\n",
            "        1.02885447e-01, -1.22020209e+00,  3.66356403e-01, -2.15646476e-02,\n",
            "       -7.16234744e-01,  3.63442540e-01,  3.70013416e-01, -6.25244379e-02,\n",
            "        1.33318305e-02,  8.43233168e-02, -2.40700498e-01, -7.57250637e-02,\n",
            "        2.58387983e-01, -5.13479114e-01, -4.42164421e-01,  5.14602542e-01,\n",
            "       -2.59603292e-01, -1.47545755e+00,  3.19044888e-01, -4.02428240e-01,\n",
            "        2.06118211e-01,  1.29011422e-01, -1.02722347e+00, -3.41592878e-02,\n",
            "        5.76034188e-04, -9.98663902e-01,  6.23253465e-01, -2.18124583e-01,\n",
            "        1.62067801e-01, -5.61233163e-01, -9.15574074e-01, -4.72875088e-01,\n",
            "       -6.58498526e-01, -7.58422494e-01, -7.24744946e-02, -4.36547756e-01,\n",
            "        7.08389282e-01, -2.93004465e+00,  7.31357694e-01,  1.17328823e+00,\n",
            "        8.70417476e-01, -1.46472991e-01, -2.00992465e-01,  1.71992809e-01,\n",
            "        5.51114261e-01,  3.14939529e-01,  5.96807897e-01,  1.32175818e-01,\n",
            "        2.37893298e-01,  1.73018217e-01, -5.62096357e-01, -1.98930502e-02,\n",
            "        7.50200674e-02,  3.21234167e-01,  2.60579824e-01, -3.51948947e-01,\n",
            "       -7.22051859e-01, -1.02949071e+00, -1.97790876e-01,  6.63649559e-01,\n",
            "        8.78941894e-01, -2.74360567e-01, -1.63926274e-01, -7.97165275e-01,\n",
            "        2.15668932e-01, -6.27750337e-01,  5.71374297e-01,  9.06676292e-01,\n",
            "       -5.03514633e-02,  2.28495494e-01,  1.00970030e+00, -1.78110421e-01,\n",
            "        2.19859555e-01,  6.61662519e-01,  5.43972850e-01, -1.02546111e-01,\n",
            "       -4.45698559e-01,  1.08876002e+00,  4.28484976e-01,  2.90672243e-01,\n",
            "       -3.28856081e-01,  2.71493137e-01,  1.55679077e-01, -3.81944567e-01,\n",
            "       -2.63197750e-01,  3.98371130e-01, -1.19352847e-01, -7.98978925e-01,\n",
            "        4.56597596e-01, -1.25076622e-06,  5.79705119e-01, -1.31474048e-01,\n",
            "       -4.54281807e-01, -6.83213770e-02,  3.24512839e-01,  6.31037295e-01,\n",
            "        4.57412541e-01, -4.46616083e-01, -1.24677312e+00, -2.50259787e-01,\n",
            "        2.86627442e-01, -6.00826621e-01, -3.47888261e-01, -3.12302798e-01,\n",
            "        3.99317771e-01,  4.81147230e-01, -1.20715842e-01, -1.20431799e-02,\n",
            "        7.49987721e-01,  1.10549256e-01, -8.16369474e-01, -2.05901921e-01,\n",
            "        9.04398337e-02, -6.22923017e-01, -1.51420742e-01, -1.35275856e-01,\n",
            "       -5.20407736e-01, -2.11169615e-01,  2.52305597e-01,  7.74078965e-02,\n",
            "        4.71701050e+00, -2.27974311e-01, -1.74161434e-01, -5.83057702e-01,\n",
            "        1.41338453e-01,  1.08047515e-01,  5.41944392e-02, -3.51308703e-01,\n",
            "       -4.40465093e-01, -3.09298992e-01, -1.27496839e-01, -4.64266032e-01,\n",
            "        4.31130409e-01,  3.42784822e-01, -2.98688114e-01,  1.04538679e+00,\n",
            "        4.25199270e-02, -2.64443785e-01, -5.15500247e-01, -4.79292274e-01,\n",
            "       -1.16080865e-02,  5.77150106e-01,  6.79481328e-02, -3.44888955e-01,\n",
            "        6.36711061e-01, -6.78616285e-01, -4.23535883e-01,  1.47091560e-02,\n",
            "        3.41698349e-01, -1.26476601e-01, -1.33464307e-01, -3.77919912e-01,\n",
            "       -4.40379798e-01, -5.60446143e-01,  2.16203704e-02,  2.54916221e-01,\n",
            "       -6.24673069e-02,  7.21615613e-01,  5.44785976e-01, -7.22489655e-02,\n",
            "        1.30341232e-01,  1.09242010e+00,  7.50644505e-02, -9.33831394e-01,\n",
            "       -1.10277271e+00, -3.45021367e-01, -1.33051887e-01, -1.36227146e-01,\n",
            "        4.11313996e-02,  2.42616072e-01,  2.61927158e-01, -4.31544125e-01,\n",
            "       -2.74502456e-01,  4.35737669e-01, -6.27436280e-01, -6.90056264e-01,\n",
            "       -3.18570673e-01,  5.15884042e-01, -1.12366378e-01, -3.65772545e-01,\n",
            "        6.83755755e-01, -7.73450673e-01,  7.44525313e-01,  2.80425966e-01,\n",
            "       -4.34040695e-01,  7.83439398e-01,  4.90328074e-01,  5.37781835e-01,\n",
            "       -2.79879123e-01,  3.45245041e-02, -1.79852068e-01, -5.30256748e-01,\n",
            "       -7.68660784e-01, -9.62524891e+00, -6.51461601e-01,  4.45019901e-01,\n",
            "       -7.22632051e-01,  4.22283173e-01,  7.53462791e-01, -3.08932990e-01,\n",
            "        4.54176456e-01,  2.02006400e-01,  9.17702913e-02,  5.90851963e-01,\n",
            "       -2.45435089e-02,  6.22234792e-02,  1.34857178e-01, -2.10955054e-01,\n",
            "        8.21499884e-01, -3.44802529e-01,  7.37834349e-03,  5.87434769e-01,\n",
            "        1.31936073e-01,  4.62138727e-02, -1.98090881e-01,  5.93993545e-01,\n",
            "        5.04717112e-01,  2.29424879e-01,  4.15116608e-01,  2.54012316e-01,\n",
            "       -3.12002361e-01,  7.61452317e-03,  4.84635144e-01, -1.83388591e-04,\n",
            "       -3.23461026e-01,  4.06513512e-01, -7.91119039e-01, -7.01181054e-01,\n",
            "       -4.31784093e-01, -1.52552500e-01,  5.91279119e-02, -6.14803612e-01,\n",
            "        3.98066789e-01, -6.32724389e-02, -1.65813446e-01, -3.21446359e-01,\n",
            "       -4.57044005e-01,  4.66364413e-01,  1.70031905e-01,  6.68438792e-01,\n",
            "        9.13810372e-01,  1.72883987e-01,  6.31357014e-01,  6.16948485e-01,\n",
            "       -1.98966280e-01, -1.55333355e-01,  5.10136724e-01, -7.07405925e-01,\n",
            "        1.26684129e-01, -1.32546201e-01,  4.85877842e-01,  2.53844798e-01,\n",
            "       -3.62258196e-01, -8.00082445e-01, -6.96655869e-01,  6.79097652e-01,\n",
            "        8.29347789e-01,  1.52941990e+00,  8.08460236e-01,  5.05994976e-01,\n",
            "        5.25943220e-01,  6.51384413e-01, -7.43238509e-01, -4.00258183e-01,\n",
            "       -3.28215212e-02,  7.15268791e-01, -7.94415236e-01,  4.74128246e-01,\n",
            "        8.06633115e-01, -1.63292423e-01,  7.89067745e-01,  6.40057445e-01,\n",
            "        4.83861864e-01, -8.03405643e-01,  1.14680506e-01, -9.07856882e-01,\n",
            "       -1.00213118e-01, -3.80536877e-02, -1.29139757e+00,  6.65142179e-01,\n",
            "       -5.37942052e-01,  1.40802950e-01,  6.76861167e-01,  3.40565741e-02,\n",
            "       -6.34403944e-01, -9.02846873e-01,  5.14162421e-01, -4.36213523e-01,\n",
            "       -4.22461838e-01,  3.80710125e-01,  6.62935972e-01, -2.40033865e-01,\n",
            "        7.94759929e-01, -1.52769595e-01,  1.70339234e-02,  4.89110470e-01,\n",
            "        4.10051316e-01, -1.31274894e-01,  6.97831511e-02, -2.03069061e-01,\n",
            "        5.47342360e-01, -8.04947257e-01,  2.15466529e-01, -1.79878801e-01,\n",
            "        3.63157362e-01, -9.61537212e-02, -4.61282700e-01, -4.62463945e-01,\n",
            "        3.69572997e-01, -1.12580158e-01,  3.95714790e-01, -1.27143478e+00,\n",
            "       -9.11894500e-01,  8.87961760e-02, -6.43252581e-02,  7.17033029e-01,\n",
            "        3.15689117e-01, -6.76665306e-01,  4.36591685e-01,  4.19622287e-03,\n",
            "        6.49831295e-01,  2.71532059e-01, -6.54657960e-01, -4.13762406e-02,\n",
            "       -4.87846494e-01,  1.33159101e-01,  2.81689435e-01, -3.54670346e-01,\n",
            "       -2.25142226e-01, -7.39269614e-01,  2.48695746e-01, -6.65679276e-01,\n",
            "       -1.63062960e-01, -6.21800244e-01,  6.32686019e-01,  6.56217754e-01,\n",
            "        2.65620261e-01, -6.62301630e-02,  1.89854240e+00, -5.16331315e-01,\n",
            "       -7.65749931e-01, -3.30927402e-01, -2.85329640e-01,  5.42971969e-01,\n",
            "        3.17704558e-01, -9.41633284e-01, -9.25430059e-01,  1.11358367e-01,\n",
            "       -6.48863614e-01,  1.64354414e-01,  1.48860812e-01,  1.27321625e+00,\n",
            "       -7.72467136e-01,  3.33835743e-02,  7.51420379e-01,  1.03169996e-02,\n",
            "        1.62231669e-01,  6.53649986e-01,  2.74393290e-01, -3.11318070e-01,\n",
            "       -8.23342204e-01, -3.21126640e-01, -1.24702901e-02, -7.53140599e-02,\n",
            "        1.70841783e-01, -2.85032898e-01,  5.29035985e-01,  1.66359317e+00,\n",
            "       -1.48464561e-01, -1.01878428e+00, -3.18120778e-01, -2.87315473e-02,\n",
            "        5.18495917e-01,  1.77353650e-01, -6.13386095e-01, -5.26667297e-01,\n",
            "       -1.92729294e-01, -3.58271636e-02, -2.59603828e-01, -7.51388669e-01,\n",
            "        5.41874111e-01, -4.23316285e-02,  6.80079818e-01, -8.60917747e-01,\n",
            "        1.84779435e-01,  1.71197534e-01,  2.44218275e-01, -3.87013197e-01,\n",
            "       -1.57142460e-01,  6.99753940e-01, -1.60970315e-01,  8.25880468e-01,\n",
            "        1.47844911e-01,  1.38828918e-01, -7.17046857e-01,  2.72085786e-01,\n",
            "        3.60675931e-01, -2.45668560e-01, -8.06845605e-01,  2.33194306e-01,\n",
            "       -5.86926565e-03,  3.49357098e-01, -4.20839965e-01, -1.56768739e-01,\n",
            "       -3.65231663e-01, -1.69543102e-02,  4.42823976e-01,  3.09942812e-01,\n",
            "       -1.63170218e-01, -6.10975504e-01,  6.99054778e-01, -9.31237340e-02,\n",
            "       -4.50840741e-01, -1.65532663e-01, -3.49314451e-01,  1.29651874e-01,\n",
            "       -7.86935449e-01,  4.54703897e-01, -6.48979247e-01, -3.57882738e-01,\n",
            "        1.42137393e-01,  8.08148921e-01, -5.10652587e-02, -2.40582645e-01,\n",
            "       -1.44273773e-01, -1.53226882e-01,  3.57599169e-01, -4.50589359e-02,\n",
            "       -2.86721811e-03, -8.53264630e-02, -6.29575491e-01,  6.39153838e-01,\n",
            "       -1.32410079e-01,  4.72664177e-01, -1.41450644e+00, -2.43659854e-01,\n",
            "       -1.26039773e-01, -8.15855920e-01,  1.26674727e-01,  1.07872677e+00,\n",
            "        5.34136593e-03,  8.27540457e-02, -1.65527016e-01, -5.49870551e-01,\n",
            "        9.72707123e-02, -2.43022591e-02, -5.64975023e-01, -6.90560222e-01,\n",
            "       -6.52032733e-01, -2.91296877e-02,  6.63105369e-01,  7.42982686e-01,\n",
            "        3.05918157e-01,  4.13367778e-01,  2.08296195e-01,  1.41863450e-02,\n",
            "        5.14449000e-01,  9.53588724e-01, -3.55405331e-01, -1.17581260e+00,\n",
            "        6.53821081e-02, -9.99905914e-03, -6.04027331e-01,  2.70622939e-01,\n",
            "       -1.05854154e-01, -2.44120032e-01,  2.20235839e-01,  6.02841657e-03,\n",
            "       -4.51362193e-01, -2.21764445e-01,  4.25535798e-01, -4.68456671e-02,\n",
            "       -4.57547963e-01,  6.06656611e-01, -7.67522752e-01,  3.55555207e-01,\n",
            "        2.34232754e-01,  5.63044488e-01, -2.83367299e-02, -1.09845802e-01,\n",
            "       -1.79014355e-01, -8.72138381e-01, -1.12767208e+00, -4.35096085e-01,\n",
            "       -7.23442584e-02,  7.67762780e-01,  4.13116604e-01, -1.22394785e-01,\n",
            "       -9.56911743e-01,  2.40943775e-01,  4.17957246e-01,  8.18550408e-01,\n",
            "       -2.35983193e-01, -6.59654260e-01, -2.10889786e-01,  5.40749788e-01,\n",
            "       -2.82838702e-01,  4.81663853e-01, -8.87028635e-01, -1.83062553e-02,\n",
            "        7.77688205e-01,  4.14985418e-01, -9.46857482e-02,  1.06163591e-01,\n",
            "        5.20359427e-02, -6.92208827e-01, -3.80129278e-01, -2.47456759e-01,\n",
            "        4.08115804e-01,  6.09008074e-02,  2.11244106e-01, -7.95450151e-01,\n",
            "       -3.92491430e-01,  2.91023031e-02,  9.63951349e-01,  3.75003099e-01,\n",
            "        2.45593771e-01,  2.82618046e-01,  1.90308526e-01,  4.54706043e-01,\n",
            "        9.13441896e-01, -4.22157019e-01, -5.43387771e-01,  2.65407056e-01,\n",
            "       -8.10669363e-02, -2.29867071e-01,  1.21453702e+00, -3.86955976e-01,\n",
            "        8.21742415e-01, -4.81390476e-01, -6.37480915e-01, -1.21803947e-01,\n",
            "       -5.47374535e+00,  1.36420548e-01, -2.53994793e-01, -4.80653346e-01,\n",
            "       -1.66678160e-01,  5.08806646e-01,  1.50198177e-01, -7.31880963e-01,\n",
            "       -4.62321341e-01, -3.89751226e-01,  5.32101810e-01, -1.15817152e-02,\n",
            "       -4.28683400e-01, -1.41411468e-01, -1.39265299e-01,  7.93491840e-01,\n",
            "       -1.83734477e-01, -4.97354195e-02,  9.64968026e-01, -7.30810016e-02,\n",
            "        2.57922798e-01,  1.46962687e-01,  5.07534742e-01, -2.74890721e-01,\n",
            "       -1.66750669e-01,  1.58514269e-02, -2.19593808e-01, -6.84298337e-01,\n",
            "       -3.70021880e-01, -2.99096331e-02,  8.25766981e-01,  2.37429410e-01,\n",
            "        4.15568829e-01, -4.97947991e-01,  1.02637005e+00,  6.37055412e-02,\n",
            "       -1.75993055e-01, -4.08728004e-01,  1.79025531e-01, -3.87446582e-03,\n",
            "       -5.20723701e-01, -4.11496192e-01, -3.50301340e-03, -5.57872653e-01,\n",
            "        1.76990867e-01,  3.52621883e-01, -9.27242756e-01, -1.44963235e-01],\n",
            "      dtype=float32))])\n"
          ],
          "name": "stdout"
        }
      ]
    }
  ]
}