{
  "nbformat": 4,
  "nbformat_minor": 0,
  "metadata": {
    "colab": {
      "name": "BERT_on_IEMOCAP_for_ERC_Improvization.ipynb",
      "provenance": [],
      "collapsed_sections": [],
      "include_colab_link": true
    },
    "kernelspec": {
      "name": "python3",
      "display_name": "Python 3"
    },
    "accelerator": "GPU"
  },
  "cells": [
    {
      "cell_type": "markdown",
      "metadata": {
        "id": "view-in-github",
        "colab_type": "text"
      },
      "source": [
        "<a href=\"https://colab.research.google.com/github/anitayadav3/EmotionRecognitionInConversation/blob/master/BERT_on_IEMOCAP_for_DCNN.ipynb\" target=\"_parent\"><img src=\"https://colab.research.google.com/assets/colab-badge.svg\" alt=\"Open In Colab\"/></a>"
      ]
    },
    {
      "cell_type": "code",
      "metadata": {
        "id": "irbKXIVqMGym"
      },
      "source": [
        "import numpy as np # linear algebra\n",
        "import pandas as pd # data processing, CSV file I/O (e.g. pd.read_csv)\n",
        "import numpy as np\n",
        "import re\n",
        "import pandas as pd\n",
        "import tensorflow as tf\n",
        "from tensorflow.keras.layers import Dense, Input, Conv1D, MaxPooling1D, GlobalMaxPooling1D, Flatten\n",
        "from tensorflow.keras.optimizers import Adam  \n",
        "from tensorflow.keras.models import Model, Sequential\n",
        "from tensorflow.keras.callbacks import ModelCheckpoint\n",
        "import tensorflow_hub as hub\n",
        "import pickle\n",
        "from sklearn.metrics import f1_score\n",
        "from sklearn.metrics import accuracy_score\n",
        "from keras.utils.np_utils import to_categorical  \n",
        "import time\n",
        "\n",
        "import pandas as pd\n",
        "import numpy as np \n",
        "import matplotlib.pyplot as plt\n",
        "import os\n",
        "from urllib.request import urlopen,urlretrieve\n",
        "from PIL import Image\n",
        "from tqdm import tqdm_notebook\n",
        "%matplotlib inline\n",
        "from sklearn.utils import shuffle\n",
        "import cv2\n",
        "from keras.applications.resnet50 import ResNet50\n",
        "\n",
        "from keras.models import load_model\n",
        "from sklearn.datasets import load_files   \n",
        "from keras.utils import np_utils\n",
        "from glob import glob\n",
        "from keras import applications\n",
        "from keras.preprocessing.image import ImageDataGenerator \n",
        "from keras import optimizers\n",
        "from keras.models import Sequential,Model,load_model\n",
        "from keras.layers import Dense, Dropout, Flatten, Conv2D, MaxPool2D,GlobalAveragePooling2D\n",
        "from keras.callbacks import TensorBoard,ReduceLROnPlateau,ModelCheckpoint\n",
        "import pickle"
      ],
      "execution_count": 1,
      "outputs": []
    },
    {
      "cell_type": "code",
      "metadata": {
        "id": "lNTNsf6SMN0W",
        "colab": {
          "base_uri": "https://localhost:8080/"
        },
        "outputId": "87316468-ea32-4644-a727-2778556b69dc"
      },
      "source": [
        "!wget --quiet https://raw.githubusercontent.com/tensorflow/models/master/official/nlp/bert/tokenization.py\n",
        "!pip install sentencepiece"
      ],
      "execution_count": 2,
      "outputs": [
        {
          "output_type": "stream",
          "text": [
            "Requirement already satisfied: sentencepiece in /usr/local/lib/python3.6/dist-packages (0.1.94)\n"
          ],
          "name": "stdout"
        }
      ]
    },
    {
      "cell_type": "code",
      "metadata": {
        "id": "r72yzfDkMSVU"
      },
      "source": [
        "import tokenization"
      ],
      "execution_count": 3,
      "outputs": []
    },
    {
      "cell_type": "code",
      "metadata": {
        "id": "gAuiS6t4MW_4"
      },
      "source": [
        "def bert_encode(texts, tokenizer, max_len=512):\n",
        "    all_tokens = []\n",
        "    all_masks = []\n",
        "    all_segments = []\n",
        "    \n",
        "    for text in texts:\n",
        "        text = tokenizer.tokenize(text)\n",
        "            \n",
        "        text = text[:max_len-2]\n",
        "        input_sequence = [\"[CLS]\"] + text + [\"[SEP]\"]\n",
        "        pad_len = max_len - len(input_sequence)\n",
        "        \n",
        "        tokens = tokenizer.convert_tokens_to_ids(input_sequence)\n",
        "        tokens += [0] * pad_len\n",
        "        pad_masks = [1] * len(input_sequence) + [0] * pad_len\n",
        "        segment_ids = [0] * max_len\n",
        "        \n",
        "        all_tokens.append(tokens)\n",
        "        all_masks.append(pad_masks)\n",
        "        all_segments.append(segment_ids)\n",
        "    \n",
        "    return np.array(all_tokens), np.array(all_masks), np.array(all_segments)"
      ],
      "execution_count": 4,
      "outputs": []
    },
    {
      "cell_type": "code",
      "metadata": {
        "id": "2R5uSnu5MZQ3"
      },
      "source": [
        "def build_model(bert_layer, max_len=512):\n",
        "    input_word_ids = Input(shape=(max_len,), dtype=tf.int32, name=\"input_word_ids\")\n",
        "    input_mask = Input(shape=(max_len,), dtype=tf.int32, name=\"input_mask\")\n",
        "    segment_ids = Input(shape=(max_len,), dtype=tf.int32, name=\"segment_ids\")\n",
        "\n",
        "    \n",
        "    pooled_output, sequence_output = bert_layer([input_word_ids, input_mask, segment_ids])\n",
        "    clf_output = pooled_output\n",
        "    clf_output1 = tf.reshape(clf_output,[32,32,3])\n",
        "    base_model = applications.resnet50.ResNet50(weights= None, include_top=False, input_shape=clf_output1.shape)\n",
        "    print(\"Hi\")\n",
        "    # x = base_model.output\n",
        "    # x = GlobalAveragePooling2D()(x)\n",
        "    out = Dense(6, activation='softmax')(clf_output)\n",
        "    \n",
        "    model = Model(inputs=[input_word_ids, input_mask, segment_ids], outputs=out)\n",
        "    model.compile(Adam(lr=2e-6), loss='categorical_crossentropy', metrics=['accuracy'])\n",
        "    \n",
        "    return model,clf_output1"
      ],
      "execution_count": 5,
      "outputs": []
    },
    {
      "cell_type": "code",
      "metadata": {
        "id": "ILahRuvWwGDt"
      },
      "source": [
        "# base_model = applications.resnet50.ResNet50(weights= None, include_top=False, input_shape= (32,32,3))\n",
        "# x = base_model.output\n",
        "# x = GlobalAveragePooling2D()(x)\n",
        "# predictions = Dense(6 , activation= 'softmax')(x)\n",
        "# model = Model(inputs = base_model.input, outputs = predictions)"
      ],
      "execution_count": 6,
      "outputs": []
    },
    {
      "cell_type": "code",
      "metadata": {
        "id": "T0lDyjgKQrbW",
        "colab": {
          "base_uri": "https://localhost:8080/"
        },
        "outputId": "5e4af093-04e9-440e-9054-ede7be936616"
      },
      "source": [
        "from google.colab import drive\n",
        "drive.mount('/content/gdrive')"
      ],
      "execution_count": 6,
      "outputs": [
        {
          "output_type": "stream",
          "text": [
            "Drive already mounted at /content/gdrive; to attempt to forcibly remount, call drive.mount(\"/content/gdrive\", force_remount=True).\n"
          ],
          "name": "stdout"
        }
      ]
    },
    {
      "cell_type": "code",
      "metadata": {
        "id": "SPBiw3jdQqXo",
        "colab": {
          "base_uri": "https://localhost:8080/"
        },
        "outputId": "6f86d3f7-3c9f-4ba4-fc2a-08a96c8b7756"
      },
      "source": [
        "%%time\n",
        "module_url = \"https://tfhub.dev/tensorflow/bert_en_uncased_L-24_H-1024_A-16/1\"\n",
        "bert_layer = hub.KerasLayer(module_url, trainable=True)"
      ],
      "execution_count": 7,
      "outputs": [
        {
          "output_type": "stream",
          "text": [
            "CPU times: user 39.2 s, sys: 12 s, total: 51.2 s\n",
            "Wall time: 3min 14s\n"
          ],
          "name": "stdout"
        }
      ]
    },
    {
      "cell_type": "code",
      "metadata": {
        "id": "v-g0HXbfQuZa"
      },
      "source": [
        "with open('/content/gdrive/My Drive/iemocap/train/sentences.pkl', 'rb') as f:\n",
        "    data = pickle.load(f)\n",
        "with open('/content/gdrive/My Drive/iemocap/train/labels.pkl', 'rb') as f:\n",
        "    labels = pickle.load(f)\n",
        "with open('/content/gdrive/My Drive/iemocap/test/sentences.pkl', 'rb') as f:\n",
        "    test_data = pickle.load(f)\n",
        "with open('/content/gdrive/My Drive/iemocap/test/labels.pkl', 'rb') as f:\n",
        "    test_labels = pickle.load(f)"
      ],
      "execution_count": 8,
      "outputs": []
    },
    {
      "cell_type": "code",
      "metadata": {
        "id": "VTVssce7QwPd"
      },
      "source": [
        "def preprocessing(data,labels):\n",
        "  processed_data=[]\n",
        "  processed_label=[]\n",
        "  for i in range(0,len(data)):\n",
        "    for j in range(0,len(data[i])):\n",
        "      intermediate_data=[]\n",
        "      intermediate_label=[]\n",
        "      for k in range(0,len(data[i][j])):\n",
        "        text=data[i][j][k]\n",
        "        if text != '<eos>'and text!='<pad>':\n",
        "          intermediate_data.append(text)\n",
        "      processed_data.append(intermediate_data)\n",
        "  for i in labels:\n",
        "    for j in i:\n",
        "      processed_label.append(j)\n",
        "  return processed_data,processed_label"
      ],
      "execution_count": 9,
      "outputs": []
    },
    {
      "cell_type": "code",
      "metadata": {
        "id": "fKUpRX1cQw1y"
      },
      "source": [
        "processed_data,processed_label = preprocessing(data,labels)\n",
        "test_processed_data,test_processed_label = preprocessing(test_data,test_labels)"
      ],
      "execution_count": 10,
      "outputs": []
    },
    {
      "cell_type": "code",
      "metadata": {
        "id": "7DcF9IPt-2EQ"
      },
      "source": [
        "for i in range(0,len(processed_data)):\n",
        "  processed_data[i]= ' '.join(processed_data[i])\n",
        "for i in range(0,len(test_processed_data)):\n",
        "  test_processed_data[i]=' '.join(test_processed_data[i])"
      ],
      "execution_count": 11,
      "outputs": []
    },
    {
      "cell_type": "code",
      "metadata": {
        "id": "Asv8M-nY5BT1"
      },
      "source": [
        "processed_data_batching=processed_data"
      ],
      "execution_count": 12,
      "outputs": []
    },
    {
      "cell_type": "code",
      "metadata": {
        "id": "Bf4C0QIsRPiS"
      },
      "source": [
        "processed_data=np.asarray(processed_data)\n",
        "test_processed_data=np.asarray(test_processed_data)\n",
        "Y=to_categorical(processed_label, num_classes=6)\n",
        "test_Y=to_categorical(test_processed_label, num_classes=6)"
      ],
      "execution_count": 13,
      "outputs": []
    },
    {
      "cell_type": "code",
      "metadata": {
        "id": "kiTdbVgdRTAi"
      },
      "source": [
        "vocab_file = bert_layer.resolved_object.vocab_file.asset_path.numpy()\n",
        "do_lower_case = bert_layer.resolved_object.do_lower_case.numpy()\n",
        "tokenizer = tokenization.FullTokenizer(vocab_file, do_lower_case)"
      ],
      "execution_count": 14,
      "outputs": []
    },
    {
      "cell_type": "code",
      "metadata": {
        "id": "K8sAlpdtRW6n"
      },
      "source": [
        "t0 = time.time()\n",
        "train_input = bert_encode(processed_data, tokenizer, max_len=160)\n",
        "test_input = bert_encode(test_processed_data, tokenizer, max_len=160)\n",
        "train_labels = Y\n",
        "test_labels = test_Y"
      ],
      "execution_count": 15,
      "outputs": []
    },
    {
      "cell_type": "code",
      "metadata": {
        "id": "bYSK8AjpRYPx",
        "colab": {
          "base_uri": "https://localhost:8080/"
        },
        "outputId": "00df3ea0-5802-4f81-9612-5b945c5ea9a4"
      },
      "source": [
        "model,clf_output1 = build_model(bert_layer, max_len=161)\n",
        "model.summary()"
      ],
      "execution_count": 16,
      "outputs": [
        {
          "output_type": "stream",
          "text": [
            "Hi\n",
            "Model: \"functional_1\"\n",
            "__________________________________________________________________________________________________\n",
            "Layer (type)                    Output Shape         Param #     Connected to                     \n",
            "==================================================================================================\n",
            "input_word_ids (InputLayer)     [(None, 161)]        0                                            \n",
            "__________________________________________________________________________________________________\n",
            "input_mask (InputLayer)         [(None, 161)]        0                                            \n",
            "__________________________________________________________________________________________________\n",
            "segment_ids (InputLayer)        [(None, 161)]        0                                            \n",
            "__________________________________________________________________________________________________\n",
            "keras_layer (KerasLayer)        [(None, 1024), (None 335141889   input_word_ids[0][0]             \n",
            "                                                                 input_mask[0][0]                 \n",
            "                                                                 segment_ids[0][0]                \n",
            "__________________________________________________________________________________________________\n",
            "dense (Dense)                   (None, 6)            6150        keras_layer[0][0]                \n",
            "==================================================================================================\n",
            "Total params: 335,148,039\n",
            "Trainable params: 335,148,038\n",
            "Non-trainable params: 1\n",
            "__________________________________________________________________________________________________\n"
          ],
          "name": "stdout"
        }
      ]
    },
    {
      "cell_type": "code",
      "metadata": {
        "id": "99O-dUk_Ra5y",
        "colab": {
          "base_uri": "https://localhost:8080/"
        },
        "outputId": "de354c82-fe35-492c-d740-a737da5085ec"
      },
      "source": [
        "train_history = model.fit(\n",
        "    train_input, train_labels,\n",
        "    epochs=1,\n",
        "    batch_size=1\n",
        ")\n",
        "\n",
        "model.save('model.h5')"
      ],
      "execution_count": 17,
      "outputs": [
        {
          "output_type": "stream",
          "text": [
            "WARNING:tensorflow:Model was constructed with shape (None, 161) for input Tensor(\"input_word_ids:0\", shape=(None, 161), dtype=int32), but it was called on an input with incompatible shape (1, 160).\n"
          ],
          "name": "stdout"
        },
        {
          "output_type": "stream",
          "text": [
            "WARNING:tensorflow:Model was constructed with shape (None, 161) for input Tensor(\"input_word_ids:0\", shape=(None, 161), dtype=int32), but it was called on an input with incompatible shape (1, 160).\n"
          ],
          "name": "stderr"
        },
        {
          "output_type": "stream",
          "text": [
            "WARNING:tensorflow:Model was constructed with shape (None, 161) for input Tensor(\"input_mask:0\", shape=(None, 161), dtype=int32), but it was called on an input with incompatible shape (1, 160).\n"
          ],
          "name": "stdout"
        },
        {
          "output_type": "stream",
          "text": [
            "WARNING:tensorflow:Model was constructed with shape (None, 161) for input Tensor(\"input_mask:0\", shape=(None, 161), dtype=int32), but it was called on an input with incompatible shape (1, 160).\n"
          ],
          "name": "stderr"
        },
        {
          "output_type": "stream",
          "text": [
            "WARNING:tensorflow:Model was constructed with shape (None, 161) for input Tensor(\"segment_ids:0\", shape=(None, 161), dtype=int32), but it was called on an input with incompatible shape (1, 160).\n"
          ],
          "name": "stdout"
        },
        {
          "output_type": "stream",
          "text": [
            "WARNING:tensorflow:Model was constructed with shape (None, 161) for input Tensor(\"segment_ids:0\", shape=(None, 161), dtype=int32), but it was called on an input with incompatible shape (1, 160).\n"
          ],
          "name": "stderr"
        },
        {
          "output_type": "stream",
          "text": [
            "WARNING:tensorflow:Model was constructed with shape (None, 161) for input Tensor(\"input_word_ids:0\", shape=(None, 161), dtype=int32), but it was called on an input with incompatible shape (1, 160).\n"
          ],
          "name": "stdout"
        },
        {
          "output_type": "stream",
          "text": [
            "WARNING:tensorflow:Model was constructed with shape (None, 161) for input Tensor(\"input_word_ids:0\", shape=(None, 161), dtype=int32), but it was called on an input with incompatible shape (1, 160).\n"
          ],
          "name": "stderr"
        },
        {
          "output_type": "stream",
          "text": [
            "WARNING:tensorflow:Model was constructed with shape (None, 161) for input Tensor(\"input_mask:0\", shape=(None, 161), dtype=int32), but it was called on an input with incompatible shape (1, 160).\n"
          ],
          "name": "stdout"
        },
        {
          "output_type": "stream",
          "text": [
            "WARNING:tensorflow:Model was constructed with shape (None, 161) for input Tensor(\"input_mask:0\", shape=(None, 161), dtype=int32), but it was called on an input with incompatible shape (1, 160).\n"
          ],
          "name": "stderr"
        },
        {
          "output_type": "stream",
          "text": [
            "WARNING:tensorflow:Model was constructed with shape (None, 161) for input Tensor(\"segment_ids:0\", shape=(None, 161), dtype=int32), but it was called on an input with incompatible shape (1, 160).\n"
          ],
          "name": "stdout"
        },
        {
          "output_type": "stream",
          "text": [
            "WARNING:tensorflow:Model was constructed with shape (None, 161) for input Tensor(\"segment_ids:0\", shape=(None, 161), dtype=int32), but it was called on an input with incompatible shape (1, 160).\n"
          ],
          "name": "stderr"
        },
        {
          "output_type": "stream",
          "text": [
            "4699/4699 [==============================] - 810s 172ms/step - loss: 1.4660 - accuracy: 0.4173\n"
          ],
          "name": "stdout"
        }
      ]
    },
    {
      "cell_type": "markdown",
      "metadata": {
        "id": "cdF10o9nRno9"
      },
      "source": [
        "**SAVING THE INTERMEDIATE LAYER OUTPUT**"
      ]
    },
    {
      "cell_type": "code",
      "metadata": {
        "colab": {
          "base_uri": "https://localhost:8080/"
        },
        "id": "7jxTqfEN5cxX",
        "outputId": "6af62059-aaf4-4c95-a9cc-2db037bdb015"
      },
      "source": [
        "print(len(processed_data_batching))"
      ],
      "execution_count": 30,
      "outputs": [
        {
          "output_type": "stream",
          "text": [
            "4699\n"
          ],
          "name": "stdout"
        }
      ]
    },
    {
      "cell_type": "code",
      "metadata": {
        "id": "nz2LsC9QIOTW"
      },
      "source": [
        "count=0\n",
        "batch=[]\n",
        "batch_processed_data=[]\n",
        "for i in processed_data_batching:\n",
        "  batch.append(i)\n",
        "  count=count+1\n",
        "  if count==50:\n",
        "    batch_processed_data.append(batch)\n",
        "    batch=[]\n",
        "    count=0\n",
        "batch_processed_data.append(batch)"
      ],
      "execution_count": 68,
      "outputs": []
    },
    {
      "cell_type": "code",
      "metadata": {
        "colab": {
          "base_uri": "https://localhost:8080/"
        },
        "id": "bPhSK7DUUfGY",
        "outputId": "c0dcd676-5e8f-41db-f419-b7ff6b1c162c"
      },
      "source": [
        "train_labels = Y\n",
        "layer_names=[layer.name for layer in model.layers]\n",
        "layer_name=layer_names[3]\n",
        "intermediate_encodings=[]\n",
        "for processed_data in batch_processed_data:\n",
        "  train_input = bert_encode(processed_data, tokenizer, max_len=160)\n",
        "  intermediate_layer_model = Model(inputs=model.input,outputs=model.get_layer(layer_name).output)\n",
        "  intermediate_output = intermediate_layer_model.predict(train_input)\n",
        "  intermediate_encodings.append(intermediate_output)\n",
        "print(len(intermediate_encodings))"
      ],
      "execution_count": null,
      "outputs": [
        {
          "output_type": "stream",
          "text": [
            "WARNING:tensorflow:Model was constructed with shape (None, 161) for input Tensor(\"input_word_ids:0\", shape=(None, 161), dtype=int32), but it was called on an input with incompatible shape (None, 160).\n"
          ],
          "name": "stdout"
        },
        {
          "output_type": "stream",
          "text": [
            "WARNING:tensorflow:Model was constructed with shape (None, 161) for input Tensor(\"input_word_ids:0\", shape=(None, 161), dtype=int32), but it was called on an input with incompatible shape (None, 160).\n"
          ],
          "name": "stderr"
        },
        {
          "output_type": "stream",
          "text": [
            "WARNING:tensorflow:Model was constructed with shape (None, 161) for input Tensor(\"input_mask:0\", shape=(None, 161), dtype=int32), but it was called on an input with incompatible shape (None, 160).\n"
          ],
          "name": "stdout"
        },
        {
          "output_type": "stream",
          "text": [
            "WARNING:tensorflow:Model was constructed with shape (None, 161) for input Tensor(\"input_mask:0\", shape=(None, 161), dtype=int32), but it was called on an input with incompatible shape (None, 160).\n"
          ],
          "name": "stderr"
        },
        {
          "output_type": "stream",
          "text": [
            "WARNING:tensorflow:Model was constructed with shape (None, 161) for input Tensor(\"segment_ids:0\", shape=(None, 161), dtype=int32), but it was called on an input with incompatible shape (None, 160).\n"
          ],
          "name": "stdout"
        },
        {
          "output_type": "stream",
          "text": [
            "WARNING:tensorflow:Model was constructed with shape (None, 161) for input Tensor(\"segment_ids:0\", shape=(None, 161), dtype=int32), but it was called on an input with incompatible shape (None, 160).\n"
          ],
          "name": "stderr"
        },
        {
          "output_type": "stream",
          "text": [
            "WARNING:tensorflow:7 out of the last 12 calls to <function Model.make_predict_function.<locals>.predict_function at 0x7f8b1e0b8048> triggered tf.function retracing. Tracing is expensive and the excessive number of tracings could be due to (1) creating @tf.function repeatedly in a loop, (2) passing tensors with different shapes, (3) passing Python objects instead of tensors. For (1), please define your @tf.function outside of the loop. For (2), @tf.function has experimental_relax_shapes=True option that relaxes argument shapes that can avoid unnecessary retracing. For (3), please refer to https://www.tensorflow.org/tutorials/customization/performance#python_or_tensor_args and https://www.tensorflow.org/api_docs/python/tf/function for  more details.\n"
          ],
          "name": "stdout"
        },
        {
          "output_type": "stream",
          "text": [
            "WARNING:tensorflow:7 out of the last 12 calls to <function Model.make_predict_function.<locals>.predict_function at 0x7f8b1e0b8048> triggered tf.function retracing. Tracing is expensive and the excessive number of tracings could be due to (1) creating @tf.function repeatedly in a loop, (2) passing tensors with different shapes, (3) passing Python objects instead of tensors. For (1), please define your @tf.function outside of the loop. For (2), @tf.function has experimental_relax_shapes=True option that relaxes argument shapes that can avoid unnecessary retracing. For (3), please refer to https://www.tensorflow.org/tutorials/customization/performance#python_or_tensor_args and https://www.tensorflow.org/api_docs/python/tf/function for  more details.\n"
          ],
          "name": "stderr"
        },
        {
          "output_type": "stream",
          "text": [
            "WARNING:tensorflow:Model was constructed with shape (None, 161) for input Tensor(\"input_word_ids:0\", shape=(None, 161), dtype=int32), but it was called on an input with incompatible shape (None, 160).\n"
          ],
          "name": "stdout"
        },
        {
          "output_type": "stream",
          "text": [
            "WARNING:tensorflow:Model was constructed with shape (None, 161) for input Tensor(\"input_word_ids:0\", shape=(None, 161), dtype=int32), but it was called on an input with incompatible shape (None, 160).\n"
          ],
          "name": "stderr"
        },
        {
          "output_type": "stream",
          "text": [
            "WARNING:tensorflow:Model was constructed with shape (None, 161) for input Tensor(\"input_mask:0\", shape=(None, 161), dtype=int32), but it was called on an input with incompatible shape (None, 160).\n"
          ],
          "name": "stdout"
        },
        {
          "output_type": "stream",
          "text": [
            "WARNING:tensorflow:Model was constructed with shape (None, 161) for input Tensor(\"input_mask:0\", shape=(None, 161), dtype=int32), but it was called on an input with incompatible shape (None, 160).\n"
          ],
          "name": "stderr"
        },
        {
          "output_type": "stream",
          "text": [
            "WARNING:tensorflow:Model was constructed with shape (None, 161) for input Tensor(\"segment_ids:0\", shape=(None, 161), dtype=int32), but it was called on an input with incompatible shape (None, 160).\n"
          ],
          "name": "stdout"
        },
        {
          "output_type": "stream",
          "text": [
            "WARNING:tensorflow:Model was constructed with shape (None, 161) for input Tensor(\"segment_ids:0\", shape=(None, 161), dtype=int32), but it was called on an input with incompatible shape (None, 160).\n"
          ],
          "name": "stderr"
        },
        {
          "output_type": "stream",
          "text": [
            "WARNING:tensorflow:7 out of the last 12 calls to <function Model.make_predict_function.<locals>.predict_function at 0x7f8b19995400> triggered tf.function retracing. Tracing is expensive and the excessive number of tracings could be due to (1) creating @tf.function repeatedly in a loop, (2) passing tensors with different shapes, (3) passing Python objects instead of tensors. For (1), please define your @tf.function outside of the loop. For (2), @tf.function has experimental_relax_shapes=True option that relaxes argument shapes that can avoid unnecessary retracing. For (3), please refer to https://www.tensorflow.org/tutorials/customization/performance#python_or_tensor_args and https://www.tensorflow.org/api_docs/python/tf/function for  more details.\n"
          ],
          "name": "stdout"
        },
        {
          "output_type": "stream",
          "text": [
            "WARNING:tensorflow:7 out of the last 12 calls to <function Model.make_predict_function.<locals>.predict_function at 0x7f8b19995400> triggered tf.function retracing. Tracing is expensive and the excessive number of tracings could be due to (1) creating @tf.function repeatedly in a loop, (2) passing tensors with different shapes, (3) passing Python objects instead of tensors. For (1), please define your @tf.function outside of the loop. For (2), @tf.function has experimental_relax_shapes=True option that relaxes argument shapes that can avoid unnecessary retracing. For (3), please refer to https://www.tensorflow.org/tutorials/customization/performance#python_or_tensor_args and https://www.tensorflow.org/api_docs/python/tf/function for  more details.\n"
          ],
          "name": "stderr"
        },
        {
          "output_type": "stream",
          "text": [
            "WARNING:tensorflow:Model was constructed with shape (None, 161) for input Tensor(\"input_word_ids:0\", shape=(None, 161), dtype=int32), but it was called on an input with incompatible shape (None, 160).\n"
          ],
          "name": "stdout"
        },
        {
          "output_type": "stream",
          "text": [
            "WARNING:tensorflow:Model was constructed with shape (None, 161) for input Tensor(\"input_word_ids:0\", shape=(None, 161), dtype=int32), but it was called on an input with incompatible shape (None, 160).\n"
          ],
          "name": "stderr"
        },
        {
          "output_type": "stream",
          "text": [
            "WARNING:tensorflow:Model was constructed with shape (None, 161) for input Tensor(\"input_mask:0\", shape=(None, 161), dtype=int32), but it was called on an input with incompatible shape (None, 160).\n"
          ],
          "name": "stdout"
        },
        {
          "output_type": "stream",
          "text": [
            "WARNING:tensorflow:Model was constructed with shape (None, 161) for input Tensor(\"input_mask:0\", shape=(None, 161), dtype=int32), but it was called on an input with incompatible shape (None, 160).\n"
          ],
          "name": "stderr"
        },
        {
          "output_type": "stream",
          "text": [
            "WARNING:tensorflow:Model was constructed with shape (None, 161) for input Tensor(\"segment_ids:0\", shape=(None, 161), dtype=int32), but it was called on an input with incompatible shape (None, 160).\n"
          ],
          "name": "stdout"
        },
        {
          "output_type": "stream",
          "text": [
            "WARNING:tensorflow:Model was constructed with shape (None, 161) for input Tensor(\"segment_ids:0\", shape=(None, 161), dtype=int32), but it was called on an input with incompatible shape (None, 160).\n"
          ],
          "name": "stderr"
        },
        {
          "output_type": "stream",
          "text": [
            "WARNING:tensorflow:7 out of the last 12 calls to <function Model.make_predict_function.<locals>.predict_function at 0x7f8b1e0b8510> triggered tf.function retracing. Tracing is expensive and the excessive number of tracings could be due to (1) creating @tf.function repeatedly in a loop, (2) passing tensors with different shapes, (3) passing Python objects instead of tensors. For (1), please define your @tf.function outside of the loop. For (2), @tf.function has experimental_relax_shapes=True option that relaxes argument shapes that can avoid unnecessary retracing. For (3), please refer to https://www.tensorflow.org/tutorials/customization/performance#python_or_tensor_args and https://www.tensorflow.org/api_docs/python/tf/function for  more details.\n"
          ],
          "name": "stdout"
        },
        {
          "output_type": "stream",
          "text": [
            "WARNING:tensorflow:7 out of the last 12 calls to <function Model.make_predict_function.<locals>.predict_function at 0x7f8b1e0b8510> triggered tf.function retracing. Tracing is expensive and the excessive number of tracings could be due to (1) creating @tf.function repeatedly in a loop, (2) passing tensors with different shapes, (3) passing Python objects instead of tensors. For (1), please define your @tf.function outside of the loop. For (2), @tf.function has experimental_relax_shapes=True option that relaxes argument shapes that can avoid unnecessary retracing. For (3), please refer to https://www.tensorflow.org/tutorials/customization/performance#python_or_tensor_args and https://www.tensorflow.org/api_docs/python/tf/function for  more details.\n"
          ],
          "name": "stderr"
        },
        {
          "output_type": "stream",
          "text": [
            "WARNING:tensorflow:Model was constructed with shape (None, 161) for input Tensor(\"input_word_ids:0\", shape=(None, 161), dtype=int32), but it was called on an input with incompatible shape (None, 160).\n"
          ],
          "name": "stdout"
        },
        {
          "output_type": "stream",
          "text": [
            "WARNING:tensorflow:Model was constructed with shape (None, 161) for input Tensor(\"input_word_ids:0\", shape=(None, 161), dtype=int32), but it was called on an input with incompatible shape (None, 160).\n"
          ],
          "name": "stderr"
        },
        {
          "output_type": "stream",
          "text": [
            "WARNING:tensorflow:Model was constructed with shape (None, 161) for input Tensor(\"input_mask:0\", shape=(None, 161), dtype=int32), but it was called on an input with incompatible shape (None, 160).\n"
          ],
          "name": "stdout"
        },
        {
          "output_type": "stream",
          "text": [
            "WARNING:tensorflow:Model was constructed with shape (None, 161) for input Tensor(\"input_mask:0\", shape=(None, 161), dtype=int32), but it was called on an input with incompatible shape (None, 160).\n"
          ],
          "name": "stderr"
        },
        {
          "output_type": "stream",
          "text": [
            "WARNING:tensorflow:Model was constructed with shape (None, 161) for input Tensor(\"segment_ids:0\", shape=(None, 161), dtype=int32), but it was called on an input with incompatible shape (None, 160).\n"
          ],
          "name": "stdout"
        },
        {
          "output_type": "stream",
          "text": [
            "WARNING:tensorflow:Model was constructed with shape (None, 161) for input Tensor(\"segment_ids:0\", shape=(None, 161), dtype=int32), but it was called on an input with incompatible shape (None, 160).\n"
          ],
          "name": "stderr"
        },
        {
          "output_type": "stream",
          "text": [
            "WARNING:tensorflow:7 out of the last 12 calls to <function Model.make_predict_function.<locals>.predict_function at 0x7f8b19039ae8> triggered tf.function retracing. Tracing is expensive and the excessive number of tracings could be due to (1) creating @tf.function repeatedly in a loop, (2) passing tensors with different shapes, (3) passing Python objects instead of tensors. For (1), please define your @tf.function outside of the loop. For (2), @tf.function has experimental_relax_shapes=True option that relaxes argument shapes that can avoid unnecessary retracing. For (3), please refer to https://www.tensorflow.org/tutorials/customization/performance#python_or_tensor_args and https://www.tensorflow.org/api_docs/python/tf/function for  more details.\n"
          ],
          "name": "stdout"
        },
        {
          "output_type": "stream",
          "text": [
            "WARNING:tensorflow:7 out of the last 12 calls to <function Model.make_predict_function.<locals>.predict_function at 0x7f8b19039ae8> triggered tf.function retracing. Tracing is expensive and the excessive number of tracings could be due to (1) creating @tf.function repeatedly in a loop, (2) passing tensors with different shapes, (3) passing Python objects instead of tensors. For (1), please define your @tf.function outside of the loop. For (2), @tf.function has experimental_relax_shapes=True option that relaxes argument shapes that can avoid unnecessary retracing. For (3), please refer to https://www.tensorflow.org/tutorials/customization/performance#python_or_tensor_args and https://www.tensorflow.org/api_docs/python/tf/function for  more details.\n"
          ],
          "name": "stderr"
        },
        {
          "output_type": "stream",
          "text": [
            "WARNING:tensorflow:Model was constructed with shape (None, 161) for input Tensor(\"input_word_ids:0\", shape=(None, 161), dtype=int32), but it was called on an input with incompatible shape (None, 160).\n"
          ],
          "name": "stdout"
        },
        {
          "output_type": "stream",
          "text": [
            "WARNING:tensorflow:Model was constructed with shape (None, 161) for input Tensor(\"input_word_ids:0\", shape=(None, 161), dtype=int32), but it was called on an input with incompatible shape (None, 160).\n"
          ],
          "name": "stderr"
        },
        {
          "output_type": "stream",
          "text": [
            "WARNING:tensorflow:Model was constructed with shape (None, 161) for input Tensor(\"input_mask:0\", shape=(None, 161), dtype=int32), but it was called on an input with incompatible shape (None, 160).\n"
          ],
          "name": "stdout"
        },
        {
          "output_type": "stream",
          "text": [
            "WARNING:tensorflow:Model was constructed with shape (None, 161) for input Tensor(\"input_mask:0\", shape=(None, 161), dtype=int32), but it was called on an input with incompatible shape (None, 160).\n"
          ],
          "name": "stderr"
        },
        {
          "output_type": "stream",
          "text": [
            "WARNING:tensorflow:Model was constructed with shape (None, 161) for input Tensor(\"segment_ids:0\", shape=(None, 161), dtype=int32), but it was called on an input with incompatible shape (None, 160).\n"
          ],
          "name": "stdout"
        },
        {
          "output_type": "stream",
          "text": [
            "WARNING:tensorflow:Model was constructed with shape (None, 161) for input Tensor(\"segment_ids:0\", shape=(None, 161), dtype=int32), but it was called on an input with incompatible shape (None, 160).\n"
          ],
          "name": "stderr"
        },
        {
          "output_type": "stream",
          "text": [
            "WARNING:tensorflow:7 out of the last 12 calls to <function Model.make_predict_function.<locals>.predict_function at 0x7f8b1fbaf2f0> triggered tf.function retracing. Tracing is expensive and the excessive number of tracings could be due to (1) creating @tf.function repeatedly in a loop, (2) passing tensors with different shapes, (3) passing Python objects instead of tensors. For (1), please define your @tf.function outside of the loop. For (2), @tf.function has experimental_relax_shapes=True option that relaxes argument shapes that can avoid unnecessary retracing. For (3), please refer to https://www.tensorflow.org/tutorials/customization/performance#python_or_tensor_args and https://www.tensorflow.org/api_docs/python/tf/function for  more details.\n"
          ],
          "name": "stdout"
        },
        {
          "output_type": "stream",
          "text": [
            "WARNING:tensorflow:7 out of the last 12 calls to <function Model.make_predict_function.<locals>.predict_function at 0x7f8b1fbaf2f0> triggered tf.function retracing. Tracing is expensive and the excessive number of tracings could be due to (1) creating @tf.function repeatedly in a loop, (2) passing tensors with different shapes, (3) passing Python objects instead of tensors. For (1), please define your @tf.function outside of the loop. For (2), @tf.function has experimental_relax_shapes=True option that relaxes argument shapes that can avoid unnecessary retracing. For (3), please refer to https://www.tensorflow.org/tutorials/customization/performance#python_or_tensor_args and https://www.tensorflow.org/api_docs/python/tf/function for  more details.\n"
          ],
          "name": "stderr"
        },
        {
          "output_type": "stream",
          "text": [
            "WARNING:tensorflow:Model was constructed with shape (None, 161) for input Tensor(\"input_word_ids:0\", shape=(None, 161), dtype=int32), but it was called on an input with incompatible shape (None, 160).\n"
          ],
          "name": "stdout"
        },
        {
          "output_type": "stream",
          "text": [
            "WARNING:tensorflow:Model was constructed with shape (None, 161) for input Tensor(\"input_word_ids:0\", shape=(None, 161), dtype=int32), but it was called on an input with incompatible shape (None, 160).\n"
          ],
          "name": "stderr"
        },
        {
          "output_type": "stream",
          "text": [
            "WARNING:tensorflow:Model was constructed with shape (None, 161) for input Tensor(\"input_mask:0\", shape=(None, 161), dtype=int32), but it was called on an input with incompatible shape (None, 160).\n"
          ],
          "name": "stdout"
        },
        {
          "output_type": "stream",
          "text": [
            "WARNING:tensorflow:Model was constructed with shape (None, 161) for input Tensor(\"input_mask:0\", shape=(None, 161), dtype=int32), but it was called on an input with incompatible shape (None, 160).\n"
          ],
          "name": "stderr"
        },
        {
          "output_type": "stream",
          "text": [
            "WARNING:tensorflow:Model was constructed with shape (None, 161) for input Tensor(\"segment_ids:0\", shape=(None, 161), dtype=int32), but it was called on an input with incompatible shape (None, 160).\n"
          ],
          "name": "stdout"
        },
        {
          "output_type": "stream",
          "text": [
            "WARNING:tensorflow:Model was constructed with shape (None, 161) for input Tensor(\"segment_ids:0\", shape=(None, 161), dtype=int32), but it was called on an input with incompatible shape (None, 160).\n"
          ],
          "name": "stderr"
        },
        {
          "output_type": "stream",
          "text": [
            "WARNING:tensorflow:6 out of the last 11 calls to <function Model.make_predict_function.<locals>.predict_function at 0x7f8b08dd2c80> triggered tf.function retracing. Tracing is expensive and the excessive number of tracings could be due to (1) creating @tf.function repeatedly in a loop, (2) passing tensors with different shapes, (3) passing Python objects instead of tensors. For (1), please define your @tf.function outside of the loop. For (2), @tf.function has experimental_relax_shapes=True option that relaxes argument shapes that can avoid unnecessary retracing. For (3), please refer to https://www.tensorflow.org/tutorials/customization/performance#python_or_tensor_args and https://www.tensorflow.org/api_docs/python/tf/function for  more details.\n"
          ],
          "name": "stdout"
        },
        {
          "output_type": "stream",
          "text": [
            "WARNING:tensorflow:6 out of the last 11 calls to <function Model.make_predict_function.<locals>.predict_function at 0x7f8b08dd2c80> triggered tf.function retracing. Tracing is expensive and the excessive number of tracings could be due to (1) creating @tf.function repeatedly in a loop, (2) passing tensors with different shapes, (3) passing Python objects instead of tensors. For (1), please define your @tf.function outside of the loop. For (2), @tf.function has experimental_relax_shapes=True option that relaxes argument shapes that can avoid unnecessary retracing. For (3), please refer to https://www.tensorflow.org/tutorials/customization/performance#python_or_tensor_args and https://www.tensorflow.org/api_docs/python/tf/function for  more details.\n"
          ],
          "name": "stderr"
        },
        {
          "output_type": "stream",
          "text": [
            "WARNING:tensorflow:Model was constructed with shape (None, 161) for input Tensor(\"input_word_ids:0\", shape=(None, 161), dtype=int32), but it was called on an input with incompatible shape (None, 160).\n"
          ],
          "name": "stdout"
        },
        {
          "output_type": "stream",
          "text": [
            "WARNING:tensorflow:Model was constructed with shape (None, 161) for input Tensor(\"input_word_ids:0\", shape=(None, 161), dtype=int32), but it was called on an input with incompatible shape (None, 160).\n"
          ],
          "name": "stderr"
        },
        {
          "output_type": "stream",
          "text": [
            "WARNING:tensorflow:Model was constructed with shape (None, 161) for input Tensor(\"input_mask:0\", shape=(None, 161), dtype=int32), but it was called on an input with incompatible shape (None, 160).\n"
          ],
          "name": "stdout"
        },
        {
          "output_type": "stream",
          "text": [
            "WARNING:tensorflow:Model was constructed with shape (None, 161) for input Tensor(\"input_mask:0\", shape=(None, 161), dtype=int32), but it was called on an input with incompatible shape (None, 160).\n"
          ],
          "name": "stderr"
        },
        {
          "output_type": "stream",
          "text": [
            "WARNING:tensorflow:Model was constructed with shape (None, 161) for input Tensor(\"segment_ids:0\", shape=(None, 161), dtype=int32), but it was called on an input with incompatible shape (None, 160).\n"
          ],
          "name": "stdout"
        },
        {
          "output_type": "stream",
          "text": [
            "WARNING:tensorflow:Model was constructed with shape (None, 161) for input Tensor(\"segment_ids:0\", shape=(None, 161), dtype=int32), but it was called on an input with incompatible shape (None, 160).\n"
          ],
          "name": "stderr"
        }
      ]
    },
    {
      "cell_type": "code",
      "metadata": {
        "colab": {
          "base_uri": "https://localhost:8080/"
        },
        "id": "iUP4jHUAVDs3",
        "outputId": "2568b798-b1b5-4767-806b-97ac66096861"
      },
      "source": [
        "model = ResNet50(include_top=False, input_shape=(32,32,3), weights='imagenet')"
      ],
      "execution_count": 20,
      "outputs": [
        {
          "output_type": "stream",
          "text": [
            "Downloading data from https://storage.googleapis.com/tensorflow/keras-applications/resnet/resnet50_weights_tf_dim_ordering_tf_kernels_notop.h5\n",
            "94773248/94765736 [==============================] - 1s 0us/step\n"
          ],
          "name": "stdout"
        }
      ]
    },
    {
      "cell_type": "code",
      "metadata": {
        "id": "QBbofdXLkH7f"
      },
      "source": [
        "#Logic for creating the 32x32x3 shape\n",
        "# intermediate_encodings_in_np = np.array(intermediate_encodings)\n",
        "# inter_reshaped=intermediate_encodings_in_np[0][0][0].reshape(32,32)\n",
        "# inter_expanded=np.repeat(inter_reshaped[..., np.newaxis],3,-1)"
      ],
      "execution_count": 35,
      "outputs": []
    },
    {
      "cell_type": "code",
      "metadata": {
        "colab": {
          "base_uri": "https://localhost:8080/",
          "height": 229
        },
        "id": "zXLVGlDf362K",
        "outputId": "e9473243-6a7a-4e77-9d71-f9b55018432c"
      },
      "source": [
        "resnet_input=[]\n",
        "for i in range(0,94):\n",
        "  for j in range(0,50):\n",
        "    temp=np.array(intermediate_encodings[i][0][j])\n",
        "    temp2=temp.reshape(32,32)\n",
        "    temp3=np.repeat(temp2[...,np.newaxis],3,-1)\n",
        "    resnet_input.append(list(temp3))\n",
        "for i in range(0,50):\n",
        "    temp=np.array(intermediate_encodings[92][0][i])\n",
        "    temp2=temp.reshape(32,32)\n",
        "    temp3=np.repeat(temp2[...,np.newaxis],3,-1)\n",
        "    resnet_input.append(list(temp3))"
      ],
      "execution_count": 72,
      "outputs": [
        {
          "output_type": "error",
          "ename": "IndexError",
          "evalue": "ignored",
          "traceback": [
            "\u001b[0;31m---------------------------------------------------------------------------\u001b[0m",
            "\u001b[0;31mIndexError\u001b[0m                                Traceback (most recent call last)",
            "\u001b[0;32m<ipython-input-72-7730335c9283>\u001b[0m in \u001b[0;36m<module>\u001b[0;34m()\u001b[0m\n\u001b[1;32m      2\u001b[0m \u001b[0;32mfor\u001b[0m \u001b[0mi\u001b[0m \u001b[0;32min\u001b[0m \u001b[0mrange\u001b[0m\u001b[0;34m(\u001b[0m\u001b[0;36m0\u001b[0m\u001b[0;34m,\u001b[0m\u001b[0;36m94\u001b[0m\u001b[0;34m)\u001b[0m\u001b[0;34m:\u001b[0m\u001b[0;34m\u001b[0m\u001b[0;34m\u001b[0m\u001b[0m\n\u001b[1;32m      3\u001b[0m   \u001b[0;32mfor\u001b[0m \u001b[0mj\u001b[0m \u001b[0;32min\u001b[0m \u001b[0mrange\u001b[0m\u001b[0;34m(\u001b[0m\u001b[0;36m0\u001b[0m\u001b[0;34m,\u001b[0m\u001b[0;36m50\u001b[0m\u001b[0;34m)\u001b[0m\u001b[0;34m:\u001b[0m\u001b[0;34m\u001b[0m\u001b[0;34m\u001b[0m\u001b[0m\n\u001b[0;32m----> 4\u001b[0;31m     \u001b[0mtemp\u001b[0m\u001b[0;34m=\u001b[0m\u001b[0mnp\u001b[0m\u001b[0;34m.\u001b[0m\u001b[0marray\u001b[0m\u001b[0;34m(\u001b[0m\u001b[0mintermediate_encodings\u001b[0m\u001b[0;34m[\u001b[0m\u001b[0mi\u001b[0m\u001b[0;34m]\u001b[0m\u001b[0;34m[\u001b[0m\u001b[0;36m0\u001b[0m\u001b[0;34m]\u001b[0m\u001b[0;34m[\u001b[0m\u001b[0mj\u001b[0m\u001b[0;34m]\u001b[0m\u001b[0;34m)\u001b[0m\u001b[0;34m\u001b[0m\u001b[0;34m\u001b[0m\u001b[0m\n\u001b[0m\u001b[1;32m      5\u001b[0m     \u001b[0mtemp2\u001b[0m\u001b[0;34m=\u001b[0m\u001b[0mtemp\u001b[0m\u001b[0;34m.\u001b[0m\u001b[0mreshape\u001b[0m\u001b[0;34m(\u001b[0m\u001b[0;36m32\u001b[0m\u001b[0;34m,\u001b[0m\u001b[0;36m32\u001b[0m\u001b[0;34m)\u001b[0m\u001b[0;34m\u001b[0m\u001b[0;34m\u001b[0m\u001b[0m\n\u001b[1;32m      6\u001b[0m     \u001b[0mtemp3\u001b[0m\u001b[0;34m=\u001b[0m\u001b[0mnp\u001b[0m\u001b[0;34m.\u001b[0m\u001b[0mrepeat\u001b[0m\u001b[0;34m(\u001b[0m\u001b[0mtemp2\u001b[0m\u001b[0;34m[\u001b[0m\u001b[0;34m...\u001b[0m\u001b[0;34m,\u001b[0m\u001b[0mnp\u001b[0m\u001b[0;34m.\u001b[0m\u001b[0mnewaxis\u001b[0m\u001b[0;34m]\u001b[0m\u001b[0;34m,\u001b[0m\u001b[0;36m3\u001b[0m\u001b[0;34m,\u001b[0m\u001b[0;34m-\u001b[0m\u001b[0;36m1\u001b[0m\u001b[0;34m)\u001b[0m\u001b[0;34m\u001b[0m\u001b[0;34m\u001b[0m\u001b[0m\n",
            "\u001b[0;31mIndexError\u001b[0m: index 7 is out of bounds for axis 0 with size 7"
          ]
        }
      ]
    },
    {
      "cell_type": "code",
      "metadata": {
        "colab": {
          "base_uri": "https://localhost:8080/"
        },
        "id": "GzIRANv0Q6gC",
        "outputId": "32eb9b4e-7477-46cd-fc35-48c7494c916f"
      },
      "source": [
        "print((resnet_input[0]))"
      ],
      "execution_count": 52,
      "outputs": [
        {
          "output_type": "stream",
          "text": [
            "[array([[-0.53529656, -0.53529656, -0.53529656],\n",
            "       [-0.6607748 , -0.6607748 , -0.6607748 ],\n",
            "       [-0.893529  , -0.893529  , -0.893529  ],\n",
            "       [-0.29389694, -0.29389694, -0.29389694],\n",
            "       [-0.01192362, -0.01192362, -0.01192362],\n",
            "       [ 0.6830553 ,  0.6830553 ,  0.6830553 ],\n",
            "       [-0.20511113, -0.20511113, -0.20511113],\n",
            "       [ 0.3849892 ,  0.3849892 ,  0.3849892 ],\n",
            "       [ 0.44605434,  0.44605434,  0.44605434],\n",
            "       [ 0.5820899 ,  0.5820899 ,  0.5820899 ],\n",
            "       [ 0.92637837,  0.92637837,  0.92637837],\n",
            "       [ 0.04405622,  0.04405622,  0.04405622],\n",
            "       [ 0.7523585 ,  0.7523585 ,  0.7523585 ],\n",
            "       [-0.9488492 , -0.9488492 , -0.9488492 ],\n",
            "       [-0.4426989 , -0.4426989 , -0.4426989 ],\n",
            "       [-0.2506259 , -0.2506259 , -0.2506259 ],\n",
            "       [-0.566541  , -0.566541  , -0.566541  ],\n",
            "       [ 0.83346164,  0.83346164,  0.83346164],\n",
            "       [ 0.729618  ,  0.729618  ,  0.729618  ],\n",
            "       [-0.53454137, -0.53454137, -0.53454137],\n",
            "       [-0.43107393, -0.43107393, -0.43107393],\n",
            "       [ 0.9382651 ,  0.9382651 ,  0.9382651 ],\n",
            "       [ 0.9238332 ,  0.9238332 ,  0.9238332 ],\n",
            "       [-0.8644947 , -0.8644947 , -0.8644947 ],\n",
            "       [ 0.8112473 ,  0.8112473 ,  0.8112473 ],\n",
            "       [ 0.34717274,  0.34717274,  0.34717274],\n",
            "       [-0.37986043, -0.37986043, -0.37986043],\n",
            "       [ 0.08302374,  0.08302374,  0.08302374],\n",
            "       [ 0.49790967,  0.49790967,  0.49790967],\n",
            "       [-0.23391934, -0.23391934, -0.23391934],\n",
            "       [-0.11257316, -0.11257316, -0.11257316],\n",
            "       [-0.48007303, -0.48007303, -0.48007303]], dtype=float32), array([[-0.99407756, -0.99407756, -0.99407756],\n",
            "       [-0.7414067 , -0.7414067 , -0.7414067 ],\n",
            "       [ 0.16235472,  0.16235472,  0.16235472],\n",
            "       [-0.9954386 , -0.9954386 , -0.9954386 ],\n",
            "       [-0.45388007, -0.45388007, -0.45388007],\n",
            "       [ 0.30374044,  0.30374044,  0.30374044],\n",
            "       [-0.64495295, -0.64495295, -0.64495295],\n",
            "       [-0.5445109 , -0.5445109 , -0.5445109 ],\n",
            "       [ 0.25637734,  0.25637734,  0.25637734],\n",
            "       [ 0.9888936 ,  0.9888936 ,  0.9888936 ],\n",
            "       [-0.40150416, -0.40150416, -0.40150416],\n",
            "       [ 0.5809765 ,  0.5809765 ,  0.5809765 ],\n",
            "       [-0.3574563 , -0.3574563 , -0.3574563 ],\n",
            "       [-0.22882843, -0.22882843, -0.22882843],\n",
            "       [ 0.77728605,  0.77728605,  0.77728605],\n",
            "       [-0.73084587, -0.73084587, -0.73084587],\n",
            "       [-0.5359402 , -0.5359402 , -0.5359402 ],\n",
            "       [-0.06994393, -0.06994393, -0.06994393],\n",
            "       [ 0.8273071 ,  0.8273071 ,  0.8273071 ],\n",
            "       [ 0.38610503,  0.38610503,  0.38610503],\n",
            "       [ 0.2738412 ,  0.2738412 ,  0.2738412 ],\n",
            "       [ 0.7204965 ,  0.7204965 ,  0.7204965 ],\n",
            "       [ 0.548254  ,  0.548254  ,  0.548254  ],\n",
            "       [ 0.08276394,  0.08276394,  0.08276394],\n",
            "       [ 0.6252558 ,  0.6252558 ,  0.6252558 ],\n",
            "       [ 0.86896497,  0.86896497,  0.86896497],\n",
            "       [ 0.88815546,  0.88815546,  0.88815546],\n",
            "       [ 0.37834397,  0.37834397,  0.37834397],\n",
            "       [-0.27671206, -0.27671206, -0.27671206],\n",
            "       [ 0.04267164,  0.04267164,  0.04267164],\n",
            "       [ 0.85804343,  0.85804343,  0.85804343],\n",
            "       [ 0.4254183 ,  0.4254183 ,  0.4254183 ]], dtype=float32), array([[ 0.45825925,  0.45825925,  0.45825925],\n",
            "       [-0.90480965, -0.90480965, -0.90480965],\n",
            "       [-0.17674355, -0.17674355, -0.17674355],\n",
            "       [-0.62723196, -0.62723196, -0.62723196],\n",
            "       [-0.37183473, -0.37183473, -0.37183473],\n",
            "       [ 0.8196869 ,  0.8196869 ,  0.8196869 ],\n",
            "       [ 0.97008723,  0.97008723,  0.97008723],\n",
            "       [-0.4105307 , -0.4105307 , -0.4105307 ],\n",
            "       [-0.6041735 , -0.6041735 , -0.6041735 ],\n",
            "       [-0.9471213 , -0.9471213 , -0.9471213 ],\n",
            "       [-0.6758059 , -0.6758059 , -0.6758059 ],\n",
            "       [ 0.42212546,  0.42212546,  0.42212546],\n",
            "       [ 0.8917037 ,  0.8917037 ,  0.8917037 ],\n",
            "       [ 0.8734788 ,  0.8734788 ,  0.8734788 ],\n",
            "       [-0.3320399 , -0.3320399 , -0.3320399 ],\n",
            "       [-0.4703167 , -0.4703167 , -0.4703167 ],\n",
            "       [-0.90791756, -0.90791756, -0.90791756],\n",
            "       [ 0.01538091,  0.01538091,  0.01538091],\n",
            "       [-0.5366951 , -0.5366951 , -0.5366951 ],\n",
            "       [-0.5082381 , -0.5082381 , -0.5082381 ],\n",
            "       [-0.55028105, -0.55028105, -0.55028105],\n",
            "       [-0.5253289 , -0.5253289 , -0.5253289 ],\n",
            "       [-0.11671306, -0.11671306, -0.11671306],\n",
            "       [ 0.31478125,  0.31478125,  0.31478125],\n",
            "       [ 0.36121222,  0.36121222,  0.36121222],\n",
            "       [ 0.23678589,  0.23678589,  0.23678589],\n",
            "       [ 0.9272165 ,  0.9272165 ,  0.9272165 ],\n",
            "       [ 0.4222495 ,  0.4222495 ,  0.4222495 ],\n",
            "       [ 0.27163607,  0.27163607,  0.27163607],\n",
            "       [-0.13099125, -0.13099125, -0.13099125],\n",
            "       [ 0.22220443,  0.22220443,  0.22220443],\n",
            "       [-0.4204406 , -0.4204406 , -0.4204406 ]], dtype=float32), array([[ 0.72790265,  0.72790265,  0.72790265],\n",
            "       [-0.9123819 , -0.9123819 , -0.9123819 ],\n",
            "       [ 0.06513581,  0.06513581,  0.06513581],\n",
            "       [ 0.3369032 ,  0.3369032 ,  0.3369032 ],\n",
            "       [ 0.8503149 ,  0.8503149 ,  0.8503149 ],\n",
            "       [-0.03214959, -0.03214959, -0.03214959],\n",
            "       [ 0.8260136 ,  0.8260136 ,  0.8260136 ],\n",
            "       [-0.938989  , -0.938989  , -0.938989  ],\n",
            "       [-0.9126113 , -0.9126113 , -0.9126113 ],\n",
            "       [ 0.30248722,  0.30248722,  0.30248722],\n",
            "       [ 0.4520028 ,  0.4520028 ,  0.4520028 ],\n",
            "       [ 0.97319937,  0.97319937,  0.97319937],\n",
            "       [-0.8151389 , -0.8151389 , -0.8151389 ],\n",
            "       [ 0.38259056,  0.38259056,  0.38259056],\n",
            "       [-0.1565403 , -0.1565403 , -0.1565403 ],\n",
            "       [-0.27122304, -0.27122304, -0.27122304],\n",
            "       [-0.94500613, -0.94500613, -0.94500613],\n",
            "       [-0.79317963, -0.79317963, -0.79317963],\n",
            "       [ 0.93598086,  0.93598086,  0.93598086],\n",
            "       [-0.22934912, -0.22934912, -0.22934912],\n",
            "       [ 0.9714027 ,  0.9714027 ,  0.9714027 ],\n",
            "       [-0.6813129 , -0.6813129 , -0.6813129 ],\n",
            "       [-0.4897491 , -0.4897491 , -0.4897491 ],\n",
            "       [ 0.9951746 ,  0.9951746 ,  0.9951746 ],\n",
            "       [-0.39735055, -0.39735055, -0.39735055],\n",
            "       [-0.856922  , -0.856922  , -0.856922  ],\n",
            "       [ 0.09264652,  0.09264652,  0.09264652],\n",
            "       [-0.88347244, -0.88347244, -0.88347244],\n",
            "       [ 0.80824584,  0.80824584,  0.80824584],\n",
            "       [ 0.80188775,  0.80188775,  0.80188775],\n",
            "       [ 0.05787826,  0.05787826,  0.05787826],\n",
            "       [ 0.84908855,  0.84908855,  0.84908855]], dtype=float32), array([[-0.74500597, -0.74500597, -0.74500597],\n",
            "       [ 0.80040395,  0.80040395,  0.80040395],\n",
            "       [ 0.25562185,  0.25562185,  0.25562185],\n",
            "       [-0.8370562 , -0.8370562 , -0.8370562 ],\n",
            "       [ 0.86704195,  0.86704195,  0.86704195],\n",
            "       [-0.13585733, -0.13585733, -0.13585733],\n",
            "       [-0.42602366, -0.42602366, -0.42602366],\n",
            "       [ 0.4568838 ,  0.4568838 ,  0.4568838 ],\n",
            "       [ 0.07159469,  0.07159469,  0.07159469],\n",
            "       [-0.2885623 , -0.2885623 , -0.2885623 ],\n",
            "       [ 0.9306377 ,  0.9306377 ,  0.9306377 ],\n",
            "       [-0.42717838, -0.42717838, -0.42717838],\n",
            "       [ 0.02394154,  0.02394154,  0.02394154],\n",
            "       [-0.9416294 , -0.9416294 , -0.9416294 ],\n",
            "       [ 0.26844025,  0.26844025,  0.26844025],\n",
            "       [-0.5252964 , -0.5252964 , -0.5252964 ],\n",
            "       [-0.37392595, -0.37392595, -0.37392595],\n",
            "       [ 0.33991587,  0.33991587,  0.33991587],\n",
            "       [ 0.28595525,  0.28595525,  0.28595525],\n",
            "       [-0.0905167 , -0.0905167 , -0.0905167 ],\n",
            "       [-0.84743404, -0.84743404, -0.84743404],\n",
            "       [ 0.7580323 ,  0.7580323 ,  0.7580323 ],\n",
            "       [ 0.2428451 ,  0.2428451 ,  0.2428451 ],\n",
            "       [ 0.82329226,  0.82329226,  0.82329226],\n",
            "       [-0.02239078, -0.02239078, -0.02239078],\n",
            "       [ 0.11929503,  0.11929503,  0.11929503],\n",
            "       [-0.01023558, -0.01023558, -0.01023558],\n",
            "       [ 0.21021523,  0.21021523,  0.21021523],\n",
            "       [ 0.9686605 ,  0.9686605 ,  0.9686605 ],\n",
            "       [ 0.18880178,  0.18880178,  0.18880178],\n",
            "       [ 0.89723194,  0.89723194,  0.89723194],\n",
            "       [ 0.28417832,  0.28417832,  0.28417832]], dtype=float32), array([[-0.63762534, -0.63762534, -0.63762534],\n",
            "       [-0.767908  , -0.767908  , -0.767908  ],\n",
            "       [-0.00757425, -0.00757425, -0.00757425],\n",
            "       [-0.9012448 , -0.9012448 , -0.9012448 ],\n",
            "       [-0.54967755, -0.54967755, -0.54967755],\n",
            "       [ 0.57962525,  0.57962525,  0.57962525],\n",
            "       [ 0.3347472 ,  0.3347472 ,  0.3347472 ],\n",
            "       [ 0.8461048 ,  0.8461048 ,  0.8461048 ],\n",
            "       [-0.19909196, -0.19909196, -0.19909196],\n",
            "       [-0.8548057 , -0.8548057 , -0.8548057 ],\n",
            "       [-0.10647273, -0.10647273, -0.10647273],\n",
            "       [ 0.4239987 ,  0.4239987 ,  0.4239987 ],\n",
            "       [ 0.4907281 ,  0.4907281 ,  0.4907281 ],\n",
            "       [-0.11221141, -0.11221141, -0.11221141],\n",
            "       [ 0.91013545,  0.91013545,  0.91013545],\n",
            "       [-0.74925673, -0.74925673, -0.74925673],\n",
            "       [-0.7616195 , -0.7616195 , -0.7616195 ],\n",
            "       [-0.05595584, -0.05595584, -0.05595584],\n",
            "       [-0.7364875 , -0.7364875 , -0.7364875 ],\n",
            "       [ 0.7556399 ,  0.7556399 ,  0.7556399 ],\n",
            "       [ 0.00713138,  0.00713138,  0.00713138],\n",
            "       [-0.8994703 , -0.8994703 , -0.8994703 ],\n",
            "       [ 0.79771775,  0.79771775,  0.79771775],\n",
            "       [-0.6824324 , -0.6824324 , -0.6824324 ],\n",
            "       [-0.01812826, -0.01812826, -0.01812826],\n",
            "       [ 0.94725543,  0.94725543,  0.94725543],\n",
            "       [ 0.77466756,  0.77466756,  0.77466756],\n",
            "       [ 0.03887214,  0.03887214,  0.03887214],\n",
            "       [ 0.8902443 ,  0.8902443 ,  0.8902443 ],\n",
            "       [-0.9069483 , -0.9069483 , -0.9069483 ],\n",
            "       [ 0.77099836,  0.77099836,  0.77099836],\n",
            "       [ 0.48847258,  0.48847258,  0.48847258]], dtype=float32), array([[ 0.25494123,  0.25494123,  0.25494123],\n",
            "       [-0.70753556, -0.70753556, -0.70753556],\n",
            "       [ 0.7626037 ,  0.7626037 ,  0.7626037 ],\n",
            "       [-0.23620918, -0.23620918, -0.23620918],\n",
            "       [ 0.97474813,  0.97474813,  0.97474813],\n",
            "       [-0.97927284, -0.97927284, -0.97927284],\n",
            "       [-0.79481006, -0.79481006, -0.79481006],\n",
            "       [ 0.38512957,  0.38512957,  0.38512957],\n",
            "       [-0.45417735, -0.45417735, -0.45417735],\n",
            "       [-0.80936134, -0.80936134, -0.80936134],\n",
            "       [-0.10236914, -0.10236914, -0.10236914],\n",
            "       [ 0.8124927 ,  0.8124927 ,  0.8124927 ],\n",
            "       [-0.4878645 , -0.4878645 , -0.4878645 ],\n",
            "       [ 0.0365371 ,  0.0365371 ,  0.0365371 ],\n",
            "       [-0.98404557, -0.98404557, -0.98404557],\n",
            "       [-0.38549447, -0.38549447, -0.38549447],\n",
            "       [-0.38468423, -0.38468423, -0.38468423],\n",
            "       [-0.08161169, -0.08161169, -0.08161169],\n",
            "       [ 0.10145734,  0.10145734,  0.10145734],\n",
            "       [-0.0934085 , -0.0934085 , -0.0934085 ],\n",
            "       [-0.55083716, -0.55083716, -0.55083716],\n",
            "       [-0.4151448 , -0.4151448 , -0.4151448 ],\n",
            "       [-0.96268284, -0.96268284, -0.96268284],\n",
            "       [-0.9573375 , -0.9573375 , -0.9573375 ],\n",
            "       [ 0.1923843 ,  0.1923843 ,  0.1923843 ],\n",
            "       [ 0.18445581,  0.18445581,  0.18445581],\n",
            "       [-0.09566911, -0.09566911, -0.09566911],\n",
            "       [-0.8421807 , -0.8421807 , -0.8421807 ],\n",
            "       [-0.40196168, -0.40196168, -0.40196168],\n",
            "       [ 0.5554155 ,  0.5554155 ,  0.5554155 ],\n",
            "       [ 0.8656131 ,  0.8656131 ,  0.8656131 ],\n",
            "       [ 0.33046573,  0.33046573,  0.33046573]], dtype=float32), array([[-0.3690609 , -0.3690609 , -0.3690609 ],\n",
            "       [-0.3445397 , -0.3445397 , -0.3445397 ],\n",
            "       [-0.29234466, -0.29234466, -0.29234466],\n",
            "       [-0.6837066 , -0.6837066 , -0.6837066 ],\n",
            "       [ 0.9284364 ,  0.9284364 ,  0.9284364 ],\n",
            "       [-0.12323435, -0.12323435, -0.12323435],\n",
            "       [-0.835401  , -0.835401  , -0.835401  ],\n",
            "       [ 0.9503381 ,  0.9503381 ,  0.9503381 ],\n",
            "       [ 0.15728387,  0.15728387,  0.15728387],\n",
            "       [-0.7451173 , -0.7451173 , -0.7451173 ],\n",
            "       [-0.51755196, -0.51755196, -0.51755196],\n",
            "       [-0.88519096, -0.88519096, -0.88519096],\n",
            "       [ 0.7290242 ,  0.7290242 ,  0.7290242 ],\n",
            "       [-0.7576103 , -0.7576103 , -0.7576103 ],\n",
            "       [-0.44388515, -0.44388515, -0.44388515],\n",
            "       [ 0.55211425,  0.55211425,  0.55211425],\n",
            "       [-0.7152406 , -0.7152406 , -0.7152406 ],\n",
            "       [ 0.62388146,  0.62388146,  0.62388146],\n",
            "       [ 0.45718968,  0.45718968,  0.45718968],\n",
            "       [-0.93736386, -0.93736386, -0.93736386],\n",
            "       [-0.79951406, -0.79951406, -0.79951406],\n",
            "       [-0.13231885, -0.13231885, -0.13231885],\n",
            "       [-0.5986129 , -0.5986129 , -0.5986129 ],\n",
            "       [ 0.9575715 ,  0.9575715 ,  0.9575715 ],\n",
            "       [-0.5014169 , -0.5014169 , -0.5014169 ],\n",
            "       [ 0.82935315,  0.82935315,  0.82935315],\n",
            "       [-0.04644979, -0.04644979, -0.04644979],\n",
            "       [-0.51121783, -0.51121783, -0.51121783],\n",
            "       [-0.96259856, -0.96259856, -0.96259856],\n",
            "       [-0.02924935, -0.02924935, -0.02924935],\n",
            "       [ 0.86696935,  0.86696935,  0.86696935],\n",
            "       [ 0.34175554,  0.34175554,  0.34175554]], dtype=float32), array([[ 0.93192416,  0.93192416,  0.93192416],\n",
            "       [ 0.5158871 ,  0.5158871 ,  0.5158871 ],\n",
            "       [ 0.9610654 ,  0.9610654 ,  0.9610654 ],\n",
            "       [ 0.02110771,  0.02110771,  0.02110771],\n",
            "       [ 0.99543804,  0.99543804,  0.99543804],\n",
            "       [ 0.382287  ,  0.382287  ,  0.382287  ],\n",
            "       [-0.98636067, -0.98636067, -0.98636067],\n",
            "       [ 0.52743876,  0.52743876,  0.52743876],\n",
            "       [ 0.6229473 ,  0.6229473 ,  0.6229473 ],\n",
            "       [-0.3038218 , -0.3038218 , -0.3038218 ],\n",
            "       [ 0.897485  ,  0.897485  ,  0.897485  ],\n",
            "       [ 0.56579113,  0.56579113,  0.56579113],\n",
            "       [-0.5070414 , -0.5070414 , -0.5070414 ],\n",
            "       [-0.12585318, -0.12585318, -0.12585318],\n",
            "       [ 0.86701477,  0.86701477,  0.86701477],\n",
            "       [ 0.7090355 ,  0.7090355 ,  0.7090355 ],\n",
            "       [-0.7230919 , -0.7230919 , -0.7230919 ],\n",
            "       [ 0.43935055,  0.43935055,  0.43935055],\n",
            "       [ 0.5975561 ,  0.5975561 ,  0.5975561 ],\n",
            "       [ 0.84636754,  0.84636754,  0.84636754],\n",
            "       [-0.37026975, -0.37026975, -0.37026975],\n",
            "       [ 0.96306044,  0.96306044,  0.96306044],\n",
            "       [-0.42126167, -0.42126167, -0.42126167],\n",
            "       [-0.69131875, -0.69131875, -0.69131875],\n",
            "       [ 0.1882409 ,  0.1882409 ,  0.1882409 ],\n",
            "       [ 0.14163752,  0.14163752,  0.14163752],\n",
            "       [-0.8028909 , -0.8028909 , -0.8028909 ],\n",
            "       [ 0.8808261 ,  0.8808261 ,  0.8808261 ],\n",
            "       [-0.45330882, -0.45330882, -0.45330882],\n",
            "       [-0.39368945, -0.39368945, -0.39368945],\n",
            "       [ 0.06128069,  0.06128069,  0.06128069],\n",
            "       [-0.2275377 , -0.2275377 , -0.2275377 ]], dtype=float32), array([[-0.11618067, -0.11618067, -0.11618067],\n",
            "       [ 0.5820998 ,  0.5820998 ,  0.5820998 ],\n",
            "       [-0.26732162, -0.26732162, -0.26732162],\n",
            "       [ 0.76624995,  0.76624995,  0.76624995],\n",
            "       [-0.19671169, -0.19671169, -0.19671169],\n",
            "       [-0.80450183, -0.80450183, -0.80450183],\n",
            "       [ 0.68606776,  0.68606776,  0.68606776],\n",
            "       [-0.8241335 , -0.8241335 , -0.8241335 ],\n",
            "       [ 0.01301958,  0.01301958,  0.01301958],\n",
            "       [-0.47211784, -0.47211784, -0.47211784],\n",
            "       [-0.02260184, -0.02260184, -0.02260184],\n",
            "       [-0.4952443 , -0.4952443 , -0.4952443 ],\n",
            "       [-0.7061856 , -0.7061856 , -0.7061856 ],\n",
            "       [-0.43541437, -0.43541437, -0.43541437],\n",
            "       [ 0.30911684,  0.30911684,  0.30911684],\n",
            "       [-0.73626804, -0.73626804, -0.73626804],\n",
            "       [ 0.9306785 ,  0.9306785 ,  0.9306785 ],\n",
            "       [ 0.268608  ,  0.268608  ,  0.268608  ],\n",
            "       [ 0.4889226 ,  0.4889226 ,  0.4889226 ],\n",
            "       [-0.36641994, -0.36641994, -0.36641994],\n",
            "       [ 0.74136174,  0.74136174,  0.74136174],\n",
            "       [-0.5414612 , -0.5414612 , -0.5414612 ],\n",
            "       [ 0.37577003,  0.37577003,  0.37577003],\n",
            "       [ 0.29510593,  0.29510593,  0.29510593],\n",
            "       [ 0.31207174,  0.31207174,  0.31207174],\n",
            "       [-0.50282353, -0.50282353, -0.50282353],\n",
            "       [ 0.989223  ,  0.989223  ,  0.989223  ],\n",
            "       [ 0.2919488 ,  0.2919488 ,  0.2919488 ],\n",
            "       [-0.2908545 , -0.2908545 , -0.2908545 ],\n",
            "       [-0.57671416, -0.57671416, -0.57671416],\n",
            "       [-0.68900836, -0.68900836, -0.68900836],\n",
            "       [-0.993663  , -0.993663  , -0.993663  ]], dtype=float32), array([[-0.34844154, -0.34844154, -0.34844154],\n",
            "       [ 0.18523546,  0.18523546,  0.18523546],\n",
            "       [-0.4275249 , -0.4275249 , -0.4275249 ],\n",
            "       [-0.86160386, -0.86160386, -0.86160386],\n",
            "       [ 0.5197904 ,  0.5197904 ,  0.5197904 ],\n",
            "       [-0.14551552, -0.14551552, -0.14551552],\n",
            "       [-0.5368092 , -0.5368092 , -0.5368092 ],\n",
            "       [-0.5802828 , -0.5802828 , -0.5802828 ],\n",
            "       [-0.87845457, -0.87845457, -0.87845457],\n",
            "       [ 0.84230125,  0.84230125,  0.84230125],\n",
            "       [-0.72482747, -0.72482747, -0.72482747],\n",
            "       [ 0.9372567 ,  0.9372567 ,  0.9372567 ],\n",
            "       [ 0.5757061 ,  0.5757061 ,  0.5757061 ],\n",
            "       [ 0.08747712,  0.08747712,  0.08747712],\n",
            "       [ 0.9631681 ,  0.9631681 ,  0.9631681 ],\n",
            "       [ 0.3658599 ,  0.3658599 ,  0.3658599 ],\n",
            "       [ 0.2470174 ,  0.2470174 ,  0.2470174 ],\n",
            "       [ 0.50373954,  0.50373954,  0.50373954],\n",
            "       [-0.6739253 , -0.6739253 , -0.6739253 ],\n",
            "       [ 0.6802906 ,  0.6802906 ,  0.6802906 ],\n",
            "       [-0.31269524, -0.31269524, -0.31269524],\n",
            "       [ 0.5491651 ,  0.5491651 ,  0.5491651 ],\n",
            "       [ 0.58741045,  0.58741045,  0.58741045],\n",
            "       [ 0.22627419,  0.22627419,  0.22627419],\n",
            "       [ 0.70152813,  0.70152813,  0.70152813],\n",
            "       [-0.71823126, -0.71823126, -0.71823126],\n",
            "       [ 0.07268684,  0.07268684,  0.07268684],\n",
            "       [-0.8993898 , -0.8993898 , -0.8993898 ],\n",
            "       [ 0.7617857 ,  0.7617857 ,  0.7617857 ],\n",
            "       [ 0.46644804,  0.46644804,  0.46644804],\n",
            "       [-0.16005969, -0.16005969, -0.16005969],\n",
            "       [-0.40443724, -0.40443724, -0.40443724]], dtype=float32), array([[ 0.96987975,  0.96987975,  0.96987975],\n",
            "       [-0.9671373 , -0.9671373 , -0.9671373 ],\n",
            "       [ 0.12279207,  0.12279207,  0.12279207],\n",
            "       [-0.30917865, -0.30917865, -0.30917865],\n",
            "       [-0.587261  , -0.587261  , -0.587261  ],\n",
            "       [ 0.36024657,  0.36024657,  0.36024657],\n",
            "       [-0.6868084 , -0.6868084 , -0.6868084 ],\n",
            "       [-0.35264248, -0.35264248, -0.35264248],\n",
            "       [-0.45931652, -0.45931652, -0.45931652],\n",
            "       [-0.94237494, -0.94237494, -0.94237494],\n",
            "       [-0.9153578 , -0.9153578 , -0.9153578 ],\n",
            "       [ 0.5452777 ,  0.5452777 ,  0.5452777 ],\n",
            "       [ 0.9687545 ,  0.9687545 ,  0.9687545 ],\n",
            "       [-0.43505308, -0.43505308, -0.43505308],\n",
            "       [ 0.08255499,  0.08255499,  0.08255499],\n",
            "       [-0.47772777, -0.47772777, -0.47772777],\n",
            "       [-0.9216612 , -0.9216612 , -0.9216612 ],\n",
            "       [ 0.05464502,  0.05464502,  0.05464502],\n",
            "       [ 0.6013282 ,  0.6013282 ,  0.6013282 ],\n",
            "       [ 0.6911186 ,  0.6911186 ,  0.6911186 ],\n",
            "       [-0.01374078, -0.01374078, -0.01374078],\n",
            "       [ 0.27839726,  0.27839726,  0.27839726],\n",
            "       [-0.16588736, -0.16588736, -0.16588736],\n",
            "       [ 0.4115662 ,  0.4115662 ,  0.4115662 ],\n",
            "       [-0.20266616, -0.20266616, -0.20266616],\n",
            "       [ 0.21365283,  0.21365283,  0.21365283],\n",
            "       [-0.61085725, -0.61085725, -0.61085725],\n",
            "       [ 0.5927024 ,  0.5927024 ,  0.5927024 ],\n",
            "       [-0.22410753, -0.22410753, -0.22410753],\n",
            "       [ 0.9497371 ,  0.9497371 ,  0.9497371 ],\n",
            "       [-0.0588047 , -0.0588047 , -0.0588047 ],\n",
            "       [-0.5023767 , -0.5023767 , -0.5023767 ]], dtype=float32), array([[ 0.9740697 ,  0.9740697 ,  0.9740697 ],\n",
            "       [ 0.4995363 ,  0.4995363 ,  0.4995363 ],\n",
            "       [-0.40897468, -0.40897468, -0.40897468],\n",
            "       [ 0.042089  ,  0.042089  ,  0.042089  ],\n",
            "       [ 0.49510887,  0.49510887,  0.49510887],\n",
            "       [ 0.24463727,  0.24463727,  0.24463727],\n",
            "       [ 0.24284762,  0.24284762,  0.24284762],\n",
            "       [ 0.841468  ,  0.841468  ,  0.841468  ],\n",
            "       [-0.86414313, -0.86414313, -0.86414313],\n",
            "       [ 0.17889862,  0.17889862,  0.17889862],\n",
            "       [-0.68160677, -0.68160677, -0.68160677],\n",
            "       [-0.81899726, -0.81899726, -0.81899726],\n",
            "       [ 0.60257155,  0.60257155,  0.60257155],\n",
            "       [ 0.38570204,  0.38570204,  0.38570204],\n",
            "       [-0.9019737 , -0.9019737 , -0.9019737 ],\n",
            "       [ 0.02628715,  0.02628715,  0.02628715],\n",
            "       [ 0.2452126 ,  0.2452126 ,  0.2452126 ],\n",
            "       [ 0.37225682,  0.37225682,  0.37225682],\n",
            "       [-0.85453   , -0.85453   , -0.85453   ],\n",
            "       [ 0.5802851 ,  0.5802851 ,  0.5802851 ],\n",
            "       [-0.9870158 , -0.9870158 , -0.9870158 ],\n",
            "       [-0.85866493, -0.85866493, -0.85866493],\n",
            "       [-0.9607805 , -0.9607805 , -0.9607805 ],\n",
            "       [ 0.42681795,  0.42681795,  0.42681795],\n",
            "       [-0.18146731, -0.18146731, -0.18146731],\n",
            "       [-0.86363256, -0.86363256, -0.86363256],\n",
            "       [ 0.62628806,  0.62628806,  0.62628806],\n",
            "       [-0.5837986 , -0.5837986 , -0.5837986 ],\n",
            "       [-0.3560765 , -0.3560765 , -0.3560765 ],\n",
            "       [ 0.3466784 ,  0.3466784 ,  0.3466784 ],\n",
            "       [ 0.22443867,  0.22443867,  0.22443867],\n",
            "       [ 0.10572068,  0.10572068,  0.10572068]], dtype=float32), array([[ 0.751781  ,  0.751781  ,  0.751781  ],\n",
            "       [ 0.78705215,  0.78705215,  0.78705215],\n",
            "       [-0.32983556, -0.32983556, -0.32983556],\n",
            "       [-0.16109747, -0.16109747, -0.16109747],\n",
            "       [-0.2010229 , -0.2010229 , -0.2010229 ],\n",
            "       [-0.83127314, -0.83127314, -0.83127314],\n",
            "       [ 0.38730362,  0.38730362,  0.38730362],\n",
            "       [ 0.6122848 ,  0.6122848 ,  0.6122848 ],\n",
            "       [-0.7663641 , -0.7663641 , -0.7663641 ],\n",
            "       [ 0.55967593,  0.55967593,  0.55967593],\n",
            "       [-0.10446265, -0.10446265, -0.10446265],\n",
            "       [ 0.7076038 ,  0.7076038 ,  0.7076038 ],\n",
            "       [-0.01359576, -0.01359576, -0.01359576],\n",
            "       [-0.48758236, -0.48758236, -0.48758236],\n",
            "       [ 0.864962  ,  0.864962  ,  0.864962  ],\n",
            "       [ 0.5359862 ,  0.5359862 ,  0.5359862 ],\n",
            "       [ 0.8757678 ,  0.8757678 ,  0.8757678 ],\n",
            "       [ 0.5027747 ,  0.5027747 ,  0.5027747 ],\n",
            "       [ 0.10071345,  0.10071345,  0.10071345],\n",
            "       [ 0.03465316,  0.03465316,  0.03465316],\n",
            "       [ 0.6003158 ,  0.6003158 ,  0.6003158 ],\n",
            "       [-0.65576184, -0.65576184, -0.65576184],\n",
            "       [ 0.826682  ,  0.826682  ,  0.826682  ],\n",
            "       [ 0.81649685,  0.81649685,  0.81649685],\n",
            "       [ 0.7437711 ,  0.7437711 ,  0.7437711 ],\n",
            "       [ 0.99918604,  0.99918604,  0.99918604],\n",
            "       [-0.6434022 , -0.6434022 , -0.6434022 ],\n",
            "       [ 0.6889998 ,  0.6889998 ,  0.6889998 ],\n",
            "       [ 0.36233407,  0.36233407,  0.36233407],\n",
            "       [-0.0306357 , -0.0306357 , -0.0306357 ],\n",
            "       [-0.4870757 , -0.4870757 , -0.4870757 ],\n",
            "       [-0.12687916, -0.12687916, -0.12687916]], dtype=float32), array([[ 0.19049788,  0.19049788,  0.19049788],\n",
            "       [ 0.33898178,  0.33898178,  0.33898178],\n",
            "       [ 0.92048705,  0.92048705,  0.92048705],\n",
            "       [ 0.9779269 ,  0.9779269 ,  0.9779269 ],\n",
            "       [-0.566025  , -0.566025  , -0.566025  ],\n",
            "       [-0.9109116 , -0.9109116 , -0.9109116 ],\n",
            "       [ 0.65709853,  0.65709853,  0.65709853],\n",
            "       [ 0.9087729 ,  0.9087729 ,  0.9087729 ],\n",
            "       [ 0.4290241 ,  0.4290241 ,  0.4290241 ],\n",
            "       [ 0.6068549 ,  0.6068549 ,  0.6068549 ],\n",
            "       [ 0.4766455 ,  0.4766455 ,  0.4766455 ],\n",
            "       [-0.4390144 , -0.4390144 , -0.4390144 ],\n",
            "       [-0.04093486, -0.04093486, -0.04093486],\n",
            "       [-0.43267983, -0.43267983, -0.43267983],\n",
            "       [ 0.93606955,  0.93606955,  0.93606955],\n",
            "       [ 0.9220841 ,  0.9220841 ,  0.9220841 ],\n",
            "       [ 0.09899866,  0.09899866,  0.09899866],\n",
            "       [-0.41768667, -0.41768667, -0.41768667],\n",
            "       [ 0.9184022 ,  0.9184022 ,  0.9184022 ],\n",
            "       [-0.6434753 , -0.6434753 , -0.6434753 ],\n",
            "       [-0.26294303, -0.26294303, -0.26294303],\n",
            "       [ 0.9941795 ,  0.9941795 ,  0.9941795 ],\n",
            "       [-0.79550064, -0.79550064, -0.79550064],\n",
            "       [ 0.27556112,  0.27556112,  0.27556112],\n",
            "       [ 0.46646777,  0.46646777,  0.46646777],\n",
            "       [-0.9671763 , -0.9671763 , -0.9671763 ],\n",
            "       [ 0.18635944,  0.18635944,  0.18635944],\n",
            "       [-0.6860528 , -0.6860528 , -0.6860528 ],\n",
            "       [ 0.59194136,  0.59194136,  0.59194136],\n",
            "       [-0.9338903 , -0.9338903 , -0.9338903 ],\n",
            "       [-0.62534815, -0.62534815, -0.62534815],\n",
            "       [ 0.9933888 ,  0.9933888 ,  0.9933888 ]], dtype=float32), array([[-0.40201557, -0.40201557, -0.40201557],\n",
            "       [ 0.3613412 ,  0.3613412 ,  0.3613412 ],\n",
            "       [ 0.6492722 ,  0.6492722 ,  0.6492722 ],\n",
            "       [-0.55137706, -0.55137706, -0.55137706],\n",
            "       [ 0.489926  ,  0.489926  ,  0.489926  ],\n",
            "       [ 0.3174832 ,  0.3174832 ,  0.3174832 ],\n",
            "       [ 0.44541013,  0.44541013,  0.44541013],\n",
            "       [-0.8187238 , -0.8187238 , -0.8187238 ],\n",
            "       [ 0.9102415 ,  0.9102415 ,  0.9102415 ],\n",
            "       [ 0.7551655 ,  0.7551655 ,  0.7551655 ],\n",
            "       [ 0.00797521,  0.00797521,  0.00797521],\n",
            "       [-0.84499574, -0.84499574, -0.84499574],\n",
            "       [-0.83964753, -0.83964753, -0.83964753],\n",
            "       [ 0.45416114,  0.45416114,  0.45416114],\n",
            "       [-0.90822756, -0.90822756, -0.90822756],\n",
            "       [ 0.18459778,  0.18459778,  0.18459778],\n",
            "       [-0.02492305, -0.02492305, -0.02492305],\n",
            "       [ 0.1753057 ,  0.1753057 ,  0.1753057 ],\n",
            "       [-0.9706672 , -0.9706672 , -0.9706672 ],\n",
            "       [-0.22278136, -0.22278136, -0.22278136],\n",
            "       [-0.9490368 , -0.9490368 , -0.9490368 ],\n",
            "       [ 0.72917336,  0.72917336,  0.72917336],\n",
            "       [-0.87138623, -0.87138623, -0.87138623],\n",
            "       [-0.00636365, -0.00636365, -0.00636365],\n",
            "       [ 0.55875814,  0.55875814,  0.55875814],\n",
            "       [-0.8984104 , -0.8984104 , -0.8984104 ],\n",
            "       [ 0.9142817 ,  0.9142817 ,  0.9142817 ],\n",
            "       [ 0.22800733,  0.22800733,  0.22800733],\n",
            "       [ 0.94271445,  0.94271445,  0.94271445],\n",
            "       [ 0.75648355,  0.75648355,  0.75648355],\n",
            "       [ 0.6582746 ,  0.6582746 ,  0.6582746 ],\n",
            "       [ 0.18835033,  0.18835033,  0.18835033]], dtype=float32), array([[-2.5748366e-01, -2.5748366e-01, -2.5748366e-01],\n",
            "       [-2.9317468e-01, -2.9317468e-01, -2.9317468e-01],\n",
            "       [ 3.9592776e-01,  3.9592776e-01,  3.9592776e-01],\n",
            "       [ 9.6309286e-01,  9.6309286e-01,  9.6309286e-01],\n",
            "       [ 8.3277500e-01,  8.3277500e-01,  8.3277500e-01],\n",
            "       [-6.6945159e-01, -6.6945159e-01, -6.6945159e-01],\n",
            "       [-9.5133799e-01, -9.5133799e-01, -9.5133799e-01],\n",
            "       [ 3.3139080e-01,  3.3139080e-01,  3.3139080e-01],\n",
            "       [-9.9342400e-01, -9.9342400e-01, -9.9342400e-01],\n",
            "       [ 4.8223904e-01,  4.8223904e-01,  4.8223904e-01],\n",
            "       [-8.2359654e-01, -8.2359654e-01, -8.2359654e-01],\n",
            "       [ 8.9713717e-01,  8.9713717e-01,  8.9713717e-01],\n",
            "       [ 6.8371761e-01,  6.8371761e-01,  6.8371761e-01],\n",
            "       [ 5.4629731e-01,  5.4629731e-01,  5.4629731e-01],\n",
            "       [-7.7295130e-01, -7.7295130e-01, -7.7295130e-01],\n",
            "       [-6.4741576e-01, -6.4741576e-01, -6.4741576e-01],\n",
            "       [-9.1802913e-01, -9.1802913e-01, -9.1802913e-01],\n",
            "       [ 7.9088235e-01,  7.9088235e-01,  7.9088235e-01],\n",
            "       [-3.2819308e-02, -3.2819308e-02, -3.2819308e-02],\n",
            "       [-5.8694737e-04, -5.8694737e-04, -5.8694737e-04],\n",
            "       [-7.5456578e-01, -7.5456578e-01, -7.5456578e-01],\n",
            "       [ 9.7956222e-01,  9.7956222e-01,  9.7956222e-01],\n",
            "       [ 9.6772432e-01,  9.6772432e-01,  9.6772432e-01],\n",
            "       [-7.4575782e-01, -7.4575782e-01, -7.4575782e-01],\n",
            "       [ 4.1269082e-01,  4.1269082e-01,  4.1269082e-01],\n",
            "       [ 7.7787888e-01,  7.7787888e-01,  7.7787888e-01],\n",
            "       [ 6.8071103e-01,  6.8071103e-01,  6.8071103e-01],\n",
            "       [-9.4595840e-03, -9.4595840e-03, -9.4595840e-03],\n",
            "       [-6.2835169e-01, -6.2835169e-01, -6.2835169e-01],\n",
            "       [ 9.1919255e-01,  9.1919255e-01,  9.1919255e-01],\n",
            "       [-8.1395417e-01, -8.1395417e-01, -8.1395417e-01],\n",
            "       [ 9.9127221e-01,  9.9127221e-01,  9.9127221e-01]], dtype=float32), array([[ 0.5695046 ,  0.5695046 ,  0.5695046 ],\n",
            "       [-0.9816122 , -0.9816122 , -0.9816122 ],\n",
            "       [ 0.05233208,  0.05233208,  0.05233208],\n",
            "       [ 0.87059766,  0.87059766,  0.87059766],\n",
            "       [-0.6926475 , -0.6926475 , -0.6926475 ],\n",
            "       [-0.6669214 , -0.6669214 , -0.6669214 ],\n",
            "       [ 0.9705117 ,  0.9705117 ,  0.9705117 ],\n",
            "       [-0.3772694 , -0.3772694 , -0.3772694 ],\n",
            "       [ 0.5349649 ,  0.5349649 ,  0.5349649 ],\n",
            "       [ 0.9483605 ,  0.9483605 ,  0.9483605 ],\n",
            "       [-0.3375775 , -0.3375775 , -0.3375775 ],\n",
            "       [ 0.44105694,  0.44105694,  0.44105694],\n",
            "       [-0.43295246, -0.43295246, -0.43295246],\n",
            "       [ 0.89200103,  0.89200103,  0.89200103],\n",
            "       [-0.04133184, -0.04133184, -0.04133184],\n",
            "       [-0.00824613, -0.00824613, -0.00824613],\n",
            "       [ 0.7531376 ,  0.7531376 ,  0.7531376 ],\n",
            "       [-0.67622817, -0.67622817, -0.67622817],\n",
            "       [-0.6683346 , -0.6683346 , -0.6683346 ],\n",
            "       [ 0.01601962,  0.01601962,  0.01601962],\n",
            "       [-0.7535363 , -0.7535363 , -0.7535363 ],\n",
            "       [ 0.6946697 ,  0.6946697 ,  0.6946697 ],\n",
            "       [-0.911906  , -0.911906  , -0.911906  ],\n",
            "       [ 0.6432948 ,  0.6432948 ,  0.6432948 ],\n",
            "       [-0.40045464, -0.40045464, -0.40045464],\n",
            "       [ 0.19186549,  0.19186549,  0.19186549],\n",
            "       [-0.2807871 , -0.2807871 , -0.2807871 ],\n",
            "       [-0.96330607, -0.96330607, -0.96330607],\n",
            "       [-0.2619738 , -0.2619738 , -0.2619738 ],\n",
            "       [-0.06920278, -0.06920278, -0.06920278],\n",
            "       [-0.8331063 , -0.8331063 , -0.8331063 ],\n",
            "       [-0.42826724, -0.42826724, -0.42826724]], dtype=float32), array([[-0.60263085, -0.60263085, -0.60263085],\n",
            "       [-0.51158726, -0.51158726, -0.51158726],\n",
            "       [ 0.430247  ,  0.430247  ,  0.430247  ],\n",
            "       [ 0.67986166,  0.67986166,  0.67986166],\n",
            "       [ 0.49377412,  0.49377412,  0.49377412],\n",
            "       [-0.33684245, -0.33684245, -0.33684245],\n",
            "       [-0.02091455, -0.02091455, -0.02091455],\n",
            "       [ 0.8968664 ,  0.8968664 ,  0.8968664 ],\n",
            "       [ 0.26197383,  0.26197383,  0.26197383],\n",
            "       [-0.51557815, -0.51557815, -0.51557815],\n",
            "       [ 0.8875336 ,  0.8875336 ,  0.8875336 ],\n",
            "       [-0.4974274 , -0.4974274 , -0.4974274 ],\n",
            "       [ 0.5457297 ,  0.5457297 ,  0.5457297 ],\n",
            "       [-0.01928564, -0.01928564, -0.01928564],\n",
            "       [-0.88877785, -0.88877785, -0.88877785],\n",
            "       [ 0.45584098,  0.45584098,  0.45584098],\n",
            "       [ 0.4213781 ,  0.4213781 ,  0.4213781 ],\n",
            "       [ 0.05269741,  0.05269741,  0.05269741],\n",
            "       [-0.7400906 , -0.7400906 , -0.7400906 ],\n",
            "       [-0.05714457, -0.05714457, -0.05714457],\n",
            "       [ 0.8535811 ,  0.8535811 ,  0.8535811 ],\n",
            "       [ 0.7772665 ,  0.7772665 ,  0.7772665 ],\n",
            "       [ 0.7056877 ,  0.7056877 ,  0.7056877 ],\n",
            "       [-0.9506226 , -0.9506226 , -0.9506226 ],\n",
            "       [-0.04553919, -0.04553919, -0.04553919],\n",
            "       [-0.950298  , -0.950298  , -0.950298  ],\n",
            "       [ 0.76945746,  0.76945746,  0.76945746],\n",
            "       [-0.9005854 , -0.9005854 , -0.9005854 ],\n",
            "       [-0.9354815 , -0.9354815 , -0.9354815 ],\n",
            "       [ 0.8945118 ,  0.8945118 ,  0.8945118 ],\n",
            "       [-0.8579554 , -0.8579554 , -0.8579554 ],\n",
            "       [-0.14362817, -0.14362817, -0.14362817]], dtype=float32), array([[-0.74966896, -0.74966896, -0.74966896],\n",
            "       [-0.7960812 , -0.7960812 , -0.7960812 ],\n",
            "       [ 0.01723054,  0.01723054,  0.01723054],\n",
            "       [-0.6841887 , -0.6841887 , -0.6841887 ],\n",
            "       [ 0.25604087,  0.25604087,  0.25604087],\n",
            "       [ 0.28802705,  0.28802705,  0.28802705],\n",
            "       [ 0.3906303 ,  0.3906303 ,  0.3906303 ],\n",
            "       [-0.6452714 , -0.6452714 , -0.6452714 ],\n",
            "       [ 0.89490545,  0.89490545,  0.89490545],\n",
            "       [-0.6147174 , -0.6147174 , -0.6147174 ],\n",
            "       [-0.8930916 , -0.8930916 , -0.8930916 ],\n",
            "       [-0.36187524, -0.36187524, -0.36187524],\n",
            "       [-0.815375  , -0.815375  , -0.815375  ],\n",
            "       [-0.77745795, -0.77745795, -0.77745795],\n",
            "       [ 0.0792636 ,  0.0792636 ,  0.0792636 ],\n",
            "       [ 0.40673107,  0.40673107,  0.40673107],\n",
            "       [-0.30551097, -0.30551097, -0.30551097],\n",
            "       [ 0.800228  ,  0.800228  ,  0.800228  ],\n",
            "       [-0.17789759, -0.17789759, -0.17789759],\n",
            "       [ 0.29562783,  0.29562783,  0.29562783],\n",
            "       [-0.6304132 , -0.6304132 , -0.6304132 ],\n",
            "       [-0.44119987, -0.44119987, -0.44119987],\n",
            "       [ 0.76956356,  0.76956356,  0.76956356],\n",
            "       [ 0.20438962,  0.20438962,  0.20438962],\n",
            "       [-0.9491909 , -0.9491909 , -0.9491909 ],\n",
            "       [-0.51745605, -0.51745605, -0.51745605],\n",
            "       [ 0.24995345,  0.24995345,  0.24995345],\n",
            "       [-0.5860019 , -0.5860019 , -0.5860019 ],\n",
            "       [ 0.7633252 ,  0.7633252 ,  0.7633252 ],\n",
            "       [ 0.07239819,  0.07239819,  0.07239819],\n",
            "       [ 0.1795153 ,  0.1795153 ,  0.1795153 ],\n",
            "       [ 0.85033894,  0.85033894,  0.85033894]], dtype=float32), array([[-0.7156508 , -0.7156508 , -0.7156508 ],\n",
            "       [-0.60382533, -0.60382533, -0.60382533],\n",
            "       [-0.06074177, -0.06074177, -0.06074177],\n",
            "       [ 0.49195   ,  0.49195   ,  0.49195   ],\n",
            "       [ 0.08102289,  0.08102289,  0.08102289],\n",
            "       [ 0.9215915 ,  0.9215915 ,  0.9215915 ],\n",
            "       [-0.6004351 , -0.6004351 , -0.6004351 ],\n",
            "       [ 0.68896276,  0.68896276,  0.68896276],\n",
            "       [-0.25176752, -0.25176752, -0.25176752],\n",
            "       [ 0.20796408,  0.20796408,  0.20796408],\n",
            "       [ 0.9886163 ,  0.9886163 ,  0.9886163 ],\n",
            "       [ 0.43075725,  0.43075725,  0.43075725],\n",
            "       [ 0.23875767,  0.23875767,  0.23875767],\n",
            "       [ 0.6247914 ,  0.6247914 ,  0.6247914 ],\n",
            "       [ 0.10073079,  0.10073079,  0.10073079],\n",
            "       [ 0.7618023 ,  0.7618023 ,  0.7618023 ],\n",
            "       [ 0.98373485,  0.98373485,  0.98373485],\n",
            "       [-0.9016429 , -0.9016429 , -0.9016429 ],\n",
            "       [ 0.14752324,  0.14752324,  0.14752324],\n",
            "       [ 0.4803953 ,  0.4803953 ,  0.4803953 ],\n",
            "       [-0.1332088 , -0.1332088 , -0.1332088 ],\n",
            "       [-0.60488236, -0.60488236, -0.60488236],\n",
            "       [ 0.04335787,  0.04335787,  0.04335787],\n",
            "       [-0.9688707 , -0.9688707 , -0.9688707 ],\n",
            "       [ 0.77732515,  0.77732515,  0.77732515],\n",
            "       [-0.46272656, -0.46272656, -0.46272656],\n",
            "       [ 0.9020589 ,  0.9020589 ,  0.9020589 ],\n",
            "       [-0.33448133, -0.33448133, -0.33448133],\n",
            "       [ 0.89439434,  0.89439434,  0.89439434],\n",
            "       [-0.4684432 , -0.4684432 , -0.4684432 ],\n",
            "       [-0.84429765, -0.84429765, -0.84429765],\n",
            "       [ 0.90733445,  0.90733445,  0.90733445]], dtype=float32), array([[ 0.93744993,  0.93744993,  0.93744993],\n",
            "       [ 0.36371127,  0.36371127,  0.36371127],\n",
            "       [-0.07742056, -0.07742056, -0.07742056],\n",
            "       [ 0.43052015,  0.43052015,  0.43052015],\n",
            "       [-0.44144478, -0.44144478, -0.44144478],\n",
            "       [ 0.6440195 ,  0.6440195 ,  0.6440195 ],\n",
            "       [ 0.34767917,  0.34767917,  0.34767917],\n",
            "       [ 0.95393056,  0.95393056,  0.95393056],\n",
            "       [ 0.41675362,  0.41675362,  0.41675362],\n",
            "       [-0.21655776, -0.21655776, -0.21655776],\n",
            "       [ 0.19130418,  0.19130418,  0.19130418],\n",
            "       [ 0.99489796,  0.99489796,  0.99489796],\n",
            "       [ 0.05527038,  0.05527038,  0.05527038],\n",
            "       [ 0.02482416,  0.02482416,  0.02482416],\n",
            "       [-0.6667825 , -0.6667825 , -0.6667825 ],\n",
            "       [-0.55014   , -0.55014   , -0.55014   ],\n",
            "       [-0.56464684, -0.56464684, -0.56464684],\n",
            "       [-0.11195756, -0.11195756, -0.11195756],\n",
            "       [ 0.97455215,  0.97455215,  0.97455215],\n",
            "       [ 0.59254736,  0.59254736,  0.59254736],\n",
            "       [ 0.05200464,  0.05200464,  0.05200464],\n",
            "       [ 0.28316998,  0.28316998,  0.28316998],\n",
            "       [ 0.5262313 ,  0.5262313 ,  0.5262313 ],\n",
            "       [-0.21491215, -0.21491215, -0.21491215],\n",
            "       [ 0.871349  ,  0.871349  ,  0.871349  ],\n",
            "       [-0.30023992, -0.30023992, -0.30023992],\n",
            "       [ 0.13222472,  0.13222472,  0.13222472],\n",
            "       [ 0.6105724 ,  0.6105724 ,  0.6105724 ],\n",
            "       [ 0.3001775 ,  0.3001775 ,  0.3001775 ],\n",
            "       [ 0.02756962,  0.02756962,  0.02756962],\n",
            "       [ 0.31928158,  0.31928158,  0.31928158],\n",
            "       [ 0.9159627 ,  0.9159627 ,  0.9159627 ]], dtype=float32), array([[ 0.75419575,  0.75419575,  0.75419575],\n",
            "       [-0.7197012 , -0.7197012 , -0.7197012 ],\n",
            "       [ 0.8348855 ,  0.8348855 ,  0.8348855 ],\n",
            "       [-0.76630723, -0.76630723, -0.76630723],\n",
            "       [ 0.93698025,  0.93698025,  0.93698025],\n",
            "       [-0.30949578, -0.30949578, -0.30949578],\n",
            "       [-0.43959594, -0.43959594, -0.43959594],\n",
            "       [ 0.7706388 ,  0.7706388 ,  0.7706388 ],\n",
            "       [ 0.22800514,  0.22800514,  0.22800514],\n",
            "       [ 0.02724517,  0.02724517,  0.02724517],\n",
            "       [-0.02346335, -0.02346335, -0.02346335],\n",
            "       [ 0.48190483,  0.48190483,  0.48190483],\n",
            "       [ 0.6197875 ,  0.6197875 ,  0.6197875 ],\n",
            "       [-0.89608574, -0.89608574, -0.89608574],\n",
            "       [-0.84525925, -0.84525925, -0.84525925],\n",
            "       [ 0.8652596 ,  0.8652596 ,  0.8652596 ],\n",
            "       [ 0.50998306,  0.50998306,  0.50998306],\n",
            "       [-0.47866598, -0.47866598, -0.47866598],\n",
            "       [-0.6621299 , -0.6621299 , -0.6621299 ],\n",
            "       [-0.792657  , -0.792657  , -0.792657  ],\n",
            "       [-0.20073111, -0.20073111, -0.20073111],\n",
            "       [ 0.9395483 ,  0.9395483 ,  0.9395483 ],\n",
            "       [ 0.309868  ,  0.309868  ,  0.309868  ],\n",
            "       [-0.6066672 , -0.6066672 , -0.6066672 ],\n",
            "       [-0.89770013, -0.89770013, -0.89770013],\n",
            "       [ 0.04134176,  0.04134176,  0.04134176],\n",
            "       [-0.6858679 , -0.6858679 , -0.6858679 ],\n",
            "       [-0.60445416, -0.60445416, -0.60445416],\n",
            "       [-0.368448  , -0.368448  , -0.368448  ],\n",
            "       [ 0.26016298,  0.26016298,  0.26016298],\n",
            "       [ 0.8824923 ,  0.8824923 ,  0.8824923 ],\n",
            "       [-0.9952505 , -0.9952505 , -0.9952505 ]], dtype=float32), array([[ 0.19642946,  0.19642946,  0.19642946],\n",
            "       [-0.8811053 , -0.8811053 , -0.8811053 ],\n",
            "       [ 0.37652868,  0.37652868,  0.37652868],\n",
            "       [-0.6698086 , -0.6698086 , -0.6698086 ],\n",
            "       [-0.37209818, -0.37209818, -0.37209818],\n",
            "       [ 0.9465959 ,  0.9465959 ,  0.9465959 ],\n",
            "       [-0.47681296, -0.47681296, -0.47681296],\n",
            "       [-0.7798046 , -0.7798046 , -0.7798046 ],\n",
            "       [ 0.77861345,  0.77861345,  0.77861345],\n",
            "       [ 0.9769466 ,  0.9769466 ,  0.9769466 ],\n",
            "       [ 0.2840625 ,  0.2840625 ,  0.2840625 ],\n",
            "       [ 0.44693515,  0.44693515,  0.44693515],\n",
            "       [-0.8421542 , -0.8421542 , -0.8421542 ],\n",
            "       [ 0.8322914 ,  0.8322914 ,  0.8322914 ],\n",
            "       [ 0.79472584,  0.79472584,  0.79472584],\n",
            "       [ 0.5826292 ,  0.5826292 ,  0.5826292 ],\n",
            "       [-0.38834187, -0.38834187, -0.38834187],\n",
            "       [ 0.8429923 ,  0.8429923 ,  0.8429923 ],\n",
            "       [ 0.8301976 ,  0.8301976 ,  0.8301976 ],\n",
            "       [ 0.76915336,  0.76915336,  0.76915336],\n",
            "       [ 0.38679466,  0.38679466,  0.38679466],\n",
            "       [-0.20401634, -0.20401634, -0.20401634],\n",
            "       [-0.12997028, -0.12997028, -0.12997028],\n",
            "       [-0.58327997, -0.58327997, -0.58327997],\n",
            "       [-0.5578444 , -0.5578444 , -0.5578444 ],\n",
            "       [-0.8487991 , -0.8487991 , -0.8487991 ],\n",
            "       [ 0.587806  ,  0.587806  ,  0.587806  ],\n",
            "       [ 0.04777401,  0.04777401,  0.04777401],\n",
            "       [-0.8910149 , -0.8910149 , -0.8910149 ],\n",
            "       [ 0.55908895,  0.55908895,  0.55908895],\n",
            "       [ 0.21475163,  0.21475163,  0.21475163],\n",
            "       [-0.13332503, -0.13332503, -0.13332503]], dtype=float32), array([[ 0.52772725,  0.52772725,  0.52772725],\n",
            "       [-0.5077479 , -0.5077479 , -0.5077479 ],\n",
            "       [-0.38291046, -0.38291046, -0.38291046],\n",
            "       [ 0.07504516,  0.07504516,  0.07504516],\n",
            "       [ 0.8510321 ,  0.8510321 ,  0.8510321 ],\n",
            "       [ 0.36924988,  0.36924988,  0.36924988],\n",
            "       [ 0.37004194,  0.37004194,  0.37004194],\n",
            "       [-0.09039055, -0.09039055, -0.09039055],\n",
            "       [ 0.92312074,  0.92312074,  0.92312074],\n",
            "       [-0.6141898 , -0.6141898 , -0.6141898 ],\n",
            "       [-0.42227775, -0.42227775, -0.42227775],\n",
            "       [ 0.87841976,  0.87841976,  0.87841976],\n",
            "       [ 0.32928076,  0.32928076,  0.32928076],\n",
            "       [-0.46688163, -0.46688163, -0.46688163],\n",
            "       [-0.558653  , -0.558653  , -0.558653  ],\n",
            "       [ 0.8431586 ,  0.8431586 ,  0.8431586 ],\n",
            "       [-0.72436136, -0.72436136, -0.72436136],\n",
            "       [-0.82553077, -0.82553077, -0.82553077],\n",
            "       [ 0.29477048,  0.29477048,  0.29477048],\n",
            "       [-0.5280783 , -0.5280783 , -0.5280783 ],\n",
            "       [-0.880644  , -0.880644  , -0.880644  ],\n",
            "       [-0.5880765 , -0.5880765 , -0.5880765 ],\n",
            "       [ 0.5746682 ,  0.5746682 ,  0.5746682 ],\n",
            "       [-0.07172521, -0.07172521, -0.07172521],\n",
            "       [-0.8308455 , -0.8308455 , -0.8308455 ],\n",
            "       [ 0.9352187 ,  0.9352187 ,  0.9352187 ],\n",
            "       [-0.79411924, -0.79411924, -0.79411924],\n",
            "       [-0.86005056, -0.86005056, -0.86005056],\n",
            "       [-0.0666776 , -0.0666776 , -0.0666776 ],\n",
            "       [-0.27935708, -0.27935708, -0.27935708],\n",
            "       [-0.507652  , -0.507652  , -0.507652  ],\n",
            "       [ 0.8686116 ,  0.8686116 ,  0.8686116 ]], dtype=float32), array([[-0.49835205, -0.49835205, -0.49835205],\n",
            "       [ 0.9986047 ,  0.9986047 ,  0.9986047 ],\n",
            "       [-0.47732484, -0.47732484, -0.47732484],\n",
            "       [-0.5084145 , -0.5084145 , -0.5084145 ],\n",
            "       [-0.09564168, -0.09564168, -0.09564168],\n",
            "       [ 0.708887  ,  0.708887  ,  0.708887  ],\n",
            "       [ 0.01762165,  0.01762165,  0.01762165],\n",
            "       [ 0.7685255 ,  0.7685255 ,  0.7685255 ],\n",
            "       [ 0.9936433 ,  0.9936433 ,  0.9936433 ],\n",
            "       [-0.9764517 , -0.9764517 , -0.9764517 ],\n",
            "       [ 0.50773233,  0.50773233,  0.50773233],\n",
            "       [-0.46903902, -0.46903902, -0.46903902],\n",
            "       [-0.42647758, -0.42647758, -0.42647758],\n",
            "       [-0.3015985 , -0.3015985 , -0.3015985 ],\n",
            "       [ 0.14635922,  0.14635922,  0.14635922],\n",
            "       [-0.77737236, -0.77737236, -0.77737236],\n",
            "       [ 0.07932808,  0.07932808,  0.07932808],\n",
            "       [ 0.12424086,  0.12424086,  0.12424086],\n",
            "       [ 0.74529976,  0.74529976,  0.74529976],\n",
            "       [ 0.02348485,  0.02348485,  0.02348485],\n",
            "       [-0.286126  , -0.286126  , -0.286126  ],\n",
            "       [-0.4565505 , -0.4565505 , -0.4565505 ],\n",
            "       [-0.72333455, -0.72333455, -0.72333455],\n",
            "       [-0.48712432, -0.48712432, -0.48712432],\n",
            "       [-0.00225614, -0.00225614, -0.00225614],\n",
            "       [ 0.136232  ,  0.136232  ,  0.136232  ],\n",
            "       [-0.20291753, -0.20291753, -0.20291753],\n",
            "       [-0.3806716 , -0.3806716 , -0.3806716 ],\n",
            "       [ 0.6970748 ,  0.6970748 ,  0.6970748 ],\n",
            "       [ 0.9438995 ,  0.9438995 ,  0.9438995 ],\n",
            "       [ 0.6895195 ,  0.6895195 ,  0.6895195 ],\n",
            "       [ 0.09742919,  0.09742919,  0.09742919]], dtype=float32), array([[ 0.52350014,  0.52350014,  0.52350014],\n",
            "       [ 0.13418508,  0.13418508,  0.13418508],\n",
            "       [ 0.29414308,  0.29414308,  0.29414308],\n",
            "       [ 0.08002138,  0.08002138,  0.08002138],\n",
            "       [ 0.72823733,  0.72823733,  0.72823733],\n",
            "       [-0.51778936, -0.51778936, -0.51778936],\n",
            "       [-0.37671193, -0.37671193, -0.37671193],\n",
            "       [ 0.177218  ,  0.177218  ,  0.177218  ],\n",
            "       [-0.5546177 , -0.5546177 , -0.5546177 ],\n",
            "       [-0.16706948, -0.16706948, -0.16706948],\n",
            "       [ 0.70872235,  0.70872235,  0.70872235],\n",
            "       [ 0.20391183,  0.20391183,  0.20391183],\n",
            "       [ 0.55750906,  0.55750906,  0.55750906],\n",
            "       [-0.9346338 , -0.9346338 , -0.9346338 ],\n",
            "       [-0.5129428 , -0.5129428 , -0.5129428 ],\n",
            "       [ 0.44311193,  0.44311193,  0.44311193],\n",
            "       [-0.887717  , -0.887717  , -0.887717  ],\n",
            "       [-0.77902454, -0.77902454, -0.77902454],\n",
            "       [-0.5140146 , -0.5140146 , -0.5140146 ],\n",
            "       [ 0.8895696 ,  0.8895696 ,  0.8895696 ],\n",
            "       [ 0.5481285 ,  0.5481285 ,  0.5481285 ],\n",
            "       [-0.404262  , -0.404262  , -0.404262  ],\n",
            "       [ 0.9854475 ,  0.9854475 ,  0.9854475 ],\n",
            "       [-0.88396764, -0.88396764, -0.88396764],\n",
            "       [-0.4799568 , -0.4799568 , -0.4799568 ],\n",
            "       [ 0.7894733 ,  0.7894733 ,  0.7894733 ],\n",
            "       [ 0.6643145 ,  0.6643145 ,  0.6643145 ],\n",
            "       [ 0.31346253,  0.31346253,  0.31346253],\n",
            "       [ 0.1532958 ,  0.1532958 ,  0.1532958 ],\n",
            "       [-0.664585  , -0.664585  , -0.664585  ],\n",
            "       [-0.9452921 , -0.9452921 , -0.9452921 ],\n",
            "       [ 0.96288663,  0.96288663,  0.96288663]], dtype=float32), array([[-0.5798243 , -0.5798243 , -0.5798243 ],\n",
            "       [ 0.72146946,  0.72146946,  0.72146946],\n",
            "       [-0.7370077 , -0.7370077 , -0.7370077 ],\n",
            "       [-0.863984  , -0.863984  , -0.863984  ],\n",
            "       [-0.8464315 , -0.8464315 , -0.8464315 ],\n",
            "       [-0.13616736, -0.13616736, -0.13616736],\n",
            "       [ 0.39008722,  0.39008722,  0.39008722],\n",
            "       [-0.70887667, -0.70887667, -0.70887667],\n",
            "       [-0.86488855, -0.86488855, -0.86488855],\n",
            "       [ 0.8716677 ,  0.8716677 ,  0.8716677 ],\n",
            "       [-0.9016168 , -0.9016168 , -0.9016168 ],\n",
            "       [-0.86073536, -0.86073536, -0.86073536],\n",
            "       [-0.75006914, -0.75006914, -0.75006914],\n",
            "       [ 0.9853324 ,  0.9853324 ,  0.9853324 ],\n",
            "       [-0.91738415, -0.91738415, -0.91738415],\n",
            "       [ 0.6794652 ,  0.6794652 ,  0.6794652 ],\n",
            "       [-0.68848515, -0.68848515, -0.68848515],\n",
            "       [-0.56189245, -0.56189245, -0.56189245],\n",
            "       [ 0.91247535,  0.91247535,  0.91247535],\n",
            "       [ 0.18361081,  0.18361081,  0.18361081],\n",
            "       [ 0.4051812 ,  0.4051812 ,  0.4051812 ],\n",
            "       [ 0.492431  ,  0.492431  ,  0.492431  ],\n",
            "       [-0.5246776 , -0.5246776 , -0.5246776 ],\n",
            "       [ 0.67506415,  0.67506415,  0.67506415],\n",
            "       [ 0.64591   ,  0.64591   ,  0.64591   ],\n",
            "       [-0.4430947 , -0.4430947 , -0.4430947 ],\n",
            "       [ 0.66917825,  0.66917825,  0.66917825],\n",
            "       [ 0.99009264,  0.99009264,  0.99009264],\n",
            "       [ 0.9419112 ,  0.9419112 ,  0.9419112 ],\n",
            "       [ 0.7131834 ,  0.7131834 ,  0.7131834 ],\n",
            "       [-0.8043319 , -0.8043319 , -0.8043319 ],\n",
            "       [ 0.20255373,  0.20255373,  0.20255373]], dtype=float32), array([[-0.8540977 , -0.8540977 , -0.8540977 ],\n",
            "       [-0.9344792 , -0.9344792 , -0.9344792 ],\n",
            "       [-0.88868046, -0.88868046, -0.88868046],\n",
            "       [-0.8993264 , -0.8993264 , -0.8993264 ],\n",
            "       [ 0.29496083,  0.29496083,  0.29496083],\n",
            "       [-0.9272274 , -0.9272274 , -0.9272274 ],\n",
            "       [-0.9531976 , -0.9531976 , -0.9531976 ],\n",
            "       [ 0.05493866,  0.05493866,  0.05493866],\n",
            "       [ 0.64164835,  0.64164835,  0.64164835],\n",
            "       [-0.10781782, -0.10781782, -0.10781782],\n",
            "       [ 0.8590409 ,  0.8590409 ,  0.8590409 ],\n",
            "       [-0.98572075, -0.98572075, -0.98572075],\n",
            "       [-0.8898645 , -0.8898645 , -0.8898645 ],\n",
            "       [-0.9955967 , -0.9955967 , -0.9955967 ],\n",
            "       [-0.31319004, -0.31319004, -0.31319004],\n",
            "       [ 0.5865574 ,  0.5865574 ,  0.5865574 ],\n",
            "       [ 0.7087499 ,  0.7087499 ,  0.7087499 ],\n",
            "       [ 0.88980013,  0.88980013,  0.88980013],\n",
            "       [-0.43281686, -0.43281686, -0.43281686],\n",
            "       [ 0.13424665,  0.13424665,  0.13424665],\n",
            "       [-0.53530324, -0.53530324, -0.53530324],\n",
            "       [-0.06570493, -0.06570493, -0.06570493],\n",
            "       [ 0.27543575,  0.27543575,  0.27543575],\n",
            "       [ 0.45607185,  0.45607185,  0.45607185],\n",
            "       [-0.29747194, -0.29747194, -0.29747194],\n",
            "       [ 0.80549514,  0.80549514,  0.80549514],\n",
            "       [-0.24933705, -0.24933705, -0.24933705],\n",
            "       [ 0.9833517 ,  0.9833517 ,  0.9833517 ],\n",
            "       [ 0.09663074,  0.09663074,  0.09663074],\n",
            "       [ 0.01123465,  0.01123465,  0.01123465],\n",
            "       [-0.52617407, -0.52617407, -0.52617407],\n",
            "       [ 0.83767647,  0.83767647,  0.83767647]], dtype=float32), array([[ 0.35325414,  0.35325414,  0.35325414],\n",
            "       [ 0.34944302,  0.34944302,  0.34944302],\n",
            "       [ 0.9682867 ,  0.9682867 ,  0.9682867 ],\n",
            "       [-0.7302296 , -0.7302296 , -0.7302296 ],\n",
            "       [-0.34671253, -0.34671253, -0.34671253],\n",
            "       [-0.9605566 , -0.9605566 , -0.9605566 ],\n",
            "       [ 0.47716206,  0.47716206,  0.47716206],\n",
            "       [ 0.6037053 ,  0.6037053 ,  0.6037053 ],\n",
            "       [ 0.2126727 ,  0.2126727 ,  0.2126727 ],\n",
            "       [-0.69217616, -0.69217616, -0.69217616],\n",
            "       [-0.9030544 , -0.9030544 , -0.9030544 ],\n",
            "       [-0.96119505, -0.96119505, -0.96119505],\n",
            "       [ 0.8013277 ,  0.8013277 ,  0.8013277 ],\n",
            "       [-0.01866358, -0.01866358, -0.01866358],\n",
            "       [-0.95601124, -0.95601124, -0.95601124],\n",
            "       [-0.02144192, -0.02144192, -0.02144192],\n",
            "       [-0.2552535 , -0.2552535 , -0.2552535 ],\n",
            "       [-0.22760904, -0.22760904, -0.22760904],\n",
            "       [-0.24339962, -0.24339962, -0.24339962],\n",
            "       [-0.8245857 , -0.8245857 , -0.8245857 ],\n",
            "       [ 0.33615884,  0.33615884,  0.33615884],\n",
            "       [-0.03179595, -0.03179595, -0.03179595],\n",
            "       [-0.4539574 , -0.4539574 , -0.4539574 ],\n",
            "       [ 0.7630089 ,  0.7630089 ,  0.7630089 ],\n",
            "       [-0.8654105 , -0.8654105 , -0.8654105 ],\n",
            "       [ 0.7963952 ,  0.7963952 ,  0.7963952 ],\n",
            "       [-0.9444135 , -0.9444135 , -0.9444135 ],\n",
            "       [-0.73953366, -0.73953366, -0.73953366],\n",
            "       [-0.7112545 , -0.7112545 , -0.7112545 ],\n",
            "       [ 0.05467199,  0.05467199,  0.05467199],\n",
            "       [ 0.9722387 ,  0.9722387 ,  0.9722387 ],\n",
            "       [ 0.24773446,  0.24773446,  0.24773446]], dtype=float32), array([[ 0.74817085,  0.74817085,  0.74817085],\n",
            "       [ 0.33609703,  0.33609703,  0.33609703],\n",
            "       [ 0.58324206,  0.58324206,  0.58324206],\n",
            "       [-0.91399735, -0.91399735, -0.91399735],\n",
            "       [-0.31346667, -0.31346667, -0.31346667],\n",
            "       [ 0.98309106,  0.98309106,  0.98309106],\n",
            "       [ 0.5161085 ,  0.5161085 ,  0.5161085 ],\n",
            "       [ 0.9448767 ,  0.9448767 ,  0.9448767 ],\n",
            "       [ 0.42761293,  0.42761293,  0.42761293],\n",
            "       [-0.21899766, -0.21899766, -0.21899766],\n",
            "       [ 0.1534027 ,  0.1534027 ,  0.1534027 ],\n",
            "       [ 0.5131166 ,  0.5131166 ,  0.5131166 ],\n",
            "       [-0.9476916 , -0.9476916 , -0.9476916 ],\n",
            "       [-0.5601929 , -0.5601929 , -0.5601929 ],\n",
            "       [ 0.6107432 ,  0.6107432 ,  0.6107432 ],\n",
            "       [ 0.38947707,  0.38947707,  0.38947707],\n",
            "       [ 0.62944716,  0.62944716,  0.62944716],\n",
            "       [ 0.18929182,  0.18929182,  0.18929182],\n",
            "       [-0.88218886, -0.88218886, -0.88218886],\n",
            "       [ 0.96913755,  0.96913755,  0.96913755],\n",
            "       [ 0.85403454,  0.85403454,  0.85403454],\n",
            "       [-0.4203663 , -0.4203663 , -0.4203663 ],\n",
            "       [ 0.20653719,  0.20653719,  0.20653719],\n",
            "       [-0.38384607, -0.38384607, -0.38384607],\n",
            "       [ 0.45020312,  0.45020312,  0.45020312],\n",
            "       [-0.8434367 , -0.8434367 , -0.8434367 ],\n",
            "       [-0.119206  , -0.119206  , -0.119206  ],\n",
            "       [-0.7026974 , -0.7026974 , -0.7026974 ],\n",
            "       [-0.9316196 , -0.9316196 , -0.9316196 ],\n",
            "       [-0.57750225, -0.57750225, -0.57750225],\n",
            "       [ 0.00353782,  0.00353782,  0.00353782],\n",
            "       [ 0.07078405,  0.07078405,  0.07078405]], dtype=float32), array([[-0.9601182 , -0.9601182 , -0.9601182 ],\n",
            "       [-0.43994084, -0.43994084, -0.43994084],\n",
            "       [ 0.6667111 ,  0.6667111 ,  0.6667111 ],\n",
            "       [-0.5396486 , -0.5396486 , -0.5396486 ],\n",
            "       [ 0.36223015,  0.36223015,  0.36223015],\n",
            "       [-0.8877009 , -0.8877009 , -0.8877009 ],\n",
            "       [ 0.1696339 ,  0.1696339 ,  0.1696339 ],\n",
            "       [ 0.3602457 ,  0.3602457 ,  0.3602457 ],\n",
            "       [-0.29638347, -0.29638347, -0.29638347],\n",
            "       [ 0.4826482 ,  0.4826482 ,  0.4826482 ],\n",
            "       [ 0.9178951 ,  0.9178951 ,  0.9178951 ],\n",
            "       [-0.20263281, -0.20263281, -0.20263281],\n",
            "       [ 0.811394  ,  0.811394  ,  0.811394  ],\n",
            "       [-0.31898186, -0.31898186, -0.31898186],\n",
            "       [ 0.41410202,  0.41410202,  0.41410202],\n",
            "       [-0.32312706, -0.32312706, -0.32312706],\n",
            "       [ 0.30644354,  0.30644354,  0.30644354],\n",
            "       [-0.8537797 , -0.8537797 , -0.8537797 ],\n",
            "       [-0.15367502, -0.15367502, -0.15367502],\n",
            "       [ 0.4913074 ,  0.4913074 ,  0.4913074 ],\n",
            "       [ 0.6663041 ,  0.6663041 ,  0.6663041 ],\n",
            "       [-0.48635626, -0.48635626, -0.48635626],\n",
            "       [-0.4198688 , -0.4198688 , -0.4198688 ],\n",
            "       [ 0.9538195 ,  0.9538195 ,  0.9538195 ],\n",
            "       [ 0.52778435,  0.52778435,  0.52778435],\n",
            "       [ 0.95661896,  0.95661896,  0.95661896],\n",
            "       [ 0.9329851 ,  0.9329851 ,  0.9329851 ],\n",
            "       [-0.08110218, -0.08110218, -0.08110218],\n",
            "       [ 0.61652565,  0.61652565,  0.61652565],\n",
            "       [-0.10444321, -0.10444321, -0.10444321],\n",
            "       [ 0.28690425,  0.28690425,  0.28690425],\n",
            "       [-0.29514155, -0.29514155, -0.29514155]], dtype=float32)]\n"
          ],
          "name": "stdout"
        }
      ]
    },
    {
      "cell_type": "code",
      "metadata": {
        "id": "Qdznxx6LQaWI"
      },
      "source": [
        "print(intermediate_encodings)"
      ],
      "execution_count": null,
      "outputs": []
    },
    {
      "cell_type": "code",
      "metadata": {
        "id": "i1yXEXJpRcdF",
        "colab": {
          "base_uri": "https://localhost:8080/"
        },
        "outputId": "a0a0c509-705a-464e-e0a1-89af5c3f451d"
      },
      "source": [
        "y_pred=model.predict(test_input, batch_size=1)"
      ],
      "execution_count": 23,
      "outputs": [
        {
          "output_type": "stream",
          "text": [
            "WARNING:tensorflow:Model was constructed with shape (None, 161) for input Tensor(\"input_word_ids_1:0\", shape=(None, 161), dtype=int32), but it was called on an input with incompatible shape (1, 160).\n"
          ],
          "name": "stdout"
        },
        {
          "output_type": "stream",
          "text": [
            "WARNING:tensorflow:Model was constructed with shape (None, 161) for input Tensor(\"input_word_ids_1:0\", shape=(None, 161), dtype=int32), but it was called on an input with incompatible shape (1, 160).\n"
          ],
          "name": "stderr"
        },
        {
          "output_type": "stream",
          "text": [
            "WARNING:tensorflow:Model was constructed with shape (None, 161) for input Tensor(\"input_mask_1:0\", shape=(None, 161), dtype=int32), but it was called on an input with incompatible shape (1, 160).\n"
          ],
          "name": "stdout"
        },
        {
          "output_type": "stream",
          "text": [
            "WARNING:tensorflow:Model was constructed with shape (None, 161) for input Tensor(\"input_mask_1:0\", shape=(None, 161), dtype=int32), but it was called on an input with incompatible shape (1, 160).\n"
          ],
          "name": "stderr"
        },
        {
          "output_type": "stream",
          "text": [
            "WARNING:tensorflow:Model was constructed with shape (None, 161) for input Tensor(\"segment_ids_1:0\", shape=(None, 161), dtype=int32), but it was called on an input with incompatible shape (1, 160).\n"
          ],
          "name": "stdout"
        },
        {
          "output_type": "stream",
          "text": [
            "WARNING:tensorflow:Model was constructed with shape (None, 161) for input Tensor(\"segment_ids_1:0\", shape=(None, 161), dtype=int32), but it was called on an input with incompatible shape (1, 160).\n"
          ],
          "name": "stderr"
        }
      ]
    },
    {
      "cell_type": "code",
      "metadata": {
        "id": "ifq6GS_ylKXA",
        "colab": {
          "base_uri": "https://localhost:8080/"
        },
        "outputId": "766cf965-c805-4b52-8540-3fe0f39ed785"
      },
      "source": [
        "y_pred1=np.argmax(y_pred,axis=1)\n",
        "test_processed_label=np.asarray(test_processed_label)\n",
        "t1 = time.time()\n",
        "total = t1-t0\n",
        "print(\"Total Execution time (Training + Testing): \" + str(total))\n",
        "print(\"Accuracy : \" + str(accuracy_score(test_processed_label, y_pred1)))\n",
        "print(\"Weighted F1-score : \" + str(f1_score(test_processed_label, y_pred1, average='weighted')))"
      ],
      "execution_count": 24,
      "outputs": [
        {
          "output_type": "stream",
          "text": [
            "Total Execution time (Training + Testing): 948.8990435600281\n",
            "Accuracy : 0.5169439309919901\n",
            "Weighted F1-score : 0.5111446336164024\n"
          ],
          "name": "stdout"
        }
      ]
    }
  ]
}