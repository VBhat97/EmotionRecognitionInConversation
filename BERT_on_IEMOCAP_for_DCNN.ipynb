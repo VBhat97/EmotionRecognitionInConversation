{
  "nbformat": 4,
  "nbformat_minor": 0,
  "metadata": {
    "colab": {
      "name": "BERT_on_IEMOCAP_for_ERC_Improvization.ipynb",
      "provenance": [],
      "collapsed_sections": [],
      "include_colab_link": true
    },
    "kernelspec": {
      "name": "python3",
      "display_name": "Python 3"
    },
    "accelerator": "GPU"
  },
  "cells": [
    {
      "cell_type": "markdown",
      "metadata": {
        "id": "view-in-github",
        "colab_type": "text"
      },
      "source": [
        "<a href=\"https://colab.research.google.com/github/anitayadav3/EmotionRecognitionInConversation/blob/master/BERT_on_IEMOCAP_for_DCNN.ipynb\" target=\"_parent\"><img src=\"https://colab.research.google.com/assets/colab-badge.svg\" alt=\"Open In Colab\"/></a>"
      ]
    },
    {
      "cell_type": "code",
      "metadata": {
        "id": "irbKXIVqMGym"
      },
      "source": [
        "import numpy as np # linear algebra\n",
        "import pandas as pd # data processing, CSV file I/O (e.g. pd.read_csv)\n",
        "import numpy as np\n",
        "import re\n",
        "import pandas as pd\n",
        "import tensorflow as tf\n",
        "from tensorflow.keras.layers import Dense, Input, Conv1D, MaxPooling1D, GlobalMaxPooling1D, Flatten\n",
        "from tensorflow.keras.optimizers import Adam  \n",
        "from tensorflow.keras.models import Model, Sequential\n",
        "from tensorflow.keras.callbacks import ModelCheckpoint\n",
        "import tensorflow_hub as hub\n",
        "import pickle\n",
        "from sklearn.metrics import f1_score\n",
        "from sklearn.metrics import accuracy_score\n",
        "from keras.utils.np_utils import to_categorical  \n",
        "import time\n",
        "\n",
        "import pandas as pd\n",
        "import numpy as np \n",
        "import matplotlib.pyplot as plt\n",
        "import os\n",
        "from urllib.request import urlopen,urlretrieve\n",
        "from PIL import Image\n",
        "from tqdm import tqdm_notebook\n",
        "%matplotlib inline\n",
        "from sklearn.utils import shuffle\n",
        "import cv2\n",
        "from keras.applications.resnet50 import ResNet50\n",
        "\n",
        "from keras.models import load_model\n",
        "from sklearn.datasets import load_files   \n",
        "from keras.utils import np_utils\n",
        "from glob import glob\n",
        "from keras import applications\n",
        "from keras.preprocessing.image import ImageDataGenerator \n",
        "from keras import optimizers\n",
        "from keras.models import Sequential,Model,load_model\n",
        "from keras.layers import Dense, Dropout, Flatten, Conv2D, MaxPool2D,GlobalAveragePooling2D\n",
        "from keras.callbacks import TensorBoard,ReduceLROnPlateau,ModelCheckpoint"
      ],
      "execution_count": 1,
      "outputs": []
    },
    {
      "cell_type": "code",
      "metadata": {
        "id": "lNTNsf6SMN0W",
        "colab": {
          "base_uri": "https://localhost:8080/"
        },
        "outputId": "dd2907cb-a206-4e9b-a8af-928a4854dd0c"
      },
      "source": [
        "!wget --quiet https://raw.githubusercontent.com/tensorflow/models/master/official/nlp/bert/tokenization.py\n",
        "!pip install sentencepiece"
      ],
      "execution_count": 2,
      "outputs": [
        {
          "output_type": "stream",
          "text": [
            "Collecting sentencepiece\n",
            "\u001b[?25l  Downloading https://files.pythonhosted.org/packages/e5/2d/6d4ca4bef9a67070fa1cac508606328329152b1df10bdf31fb6e4e727894/sentencepiece-0.1.94-cp36-cp36m-manylinux2014_x86_64.whl (1.1MB)\n",
            "\r\u001b[K     |▎                               | 10kB 15.3MB/s eta 0:00:01\r\u001b[K     |▋                               | 20kB 19.3MB/s eta 0:00:01\r\u001b[K     |▉                               | 30kB 15.5MB/s eta 0:00:01\r\u001b[K     |█▏                              | 40kB 14.4MB/s eta 0:00:01\r\u001b[K     |█▌                              | 51kB 11.8MB/s eta 0:00:01\r\u001b[K     |█▊                              | 61kB 11.8MB/s eta 0:00:01\r\u001b[K     |██                              | 71kB 11.6MB/s eta 0:00:01\r\u001b[K     |██▍                             | 81kB 11.7MB/s eta 0:00:01\r\u001b[K     |██▋                             | 92kB 11.6MB/s eta 0:00:01\r\u001b[K     |███                             | 102kB 11.7MB/s eta 0:00:01\r\u001b[K     |███▎                            | 112kB 11.7MB/s eta 0:00:01\r\u001b[K     |███▌                            | 122kB 11.7MB/s eta 0:00:01\r\u001b[K     |███▉                            | 133kB 11.7MB/s eta 0:00:01\r\u001b[K     |████▏                           | 143kB 11.7MB/s eta 0:00:01\r\u001b[K     |████▍                           | 153kB 11.7MB/s eta 0:00:01\r\u001b[K     |████▊                           | 163kB 11.7MB/s eta 0:00:01\r\u001b[K     |█████                           | 174kB 11.7MB/s eta 0:00:01\r\u001b[K     |█████▎                          | 184kB 11.7MB/s eta 0:00:01\r\u001b[K     |█████▋                          | 194kB 11.7MB/s eta 0:00:01\r\u001b[K     |█████▉                          | 204kB 11.7MB/s eta 0:00:01\r\u001b[K     |██████▏                         | 215kB 11.7MB/s eta 0:00:01\r\u001b[K     |██████▌                         | 225kB 11.7MB/s eta 0:00:01\r\u001b[K     |██████▊                         | 235kB 11.7MB/s eta 0:00:01\r\u001b[K     |███████                         | 245kB 11.7MB/s eta 0:00:01\r\u001b[K     |███████▍                        | 256kB 11.7MB/s eta 0:00:01\r\u001b[K     |███████▋                        | 266kB 11.7MB/s eta 0:00:01\r\u001b[K     |████████                        | 276kB 11.7MB/s eta 0:00:01\r\u001b[K     |████████▎                       | 286kB 11.7MB/s eta 0:00:01\r\u001b[K     |████████▌                       | 296kB 11.7MB/s eta 0:00:01\r\u001b[K     |████████▉                       | 307kB 11.7MB/s eta 0:00:01\r\u001b[K     |█████████                       | 317kB 11.7MB/s eta 0:00:01\r\u001b[K     |█████████▍                      | 327kB 11.7MB/s eta 0:00:01\r\u001b[K     |█████████▊                      | 337kB 11.7MB/s eta 0:00:01\r\u001b[K     |██████████                      | 348kB 11.7MB/s eta 0:00:01\r\u001b[K     |██████████▎                     | 358kB 11.7MB/s eta 0:00:01\r\u001b[K     |██████████▋                     | 368kB 11.7MB/s eta 0:00:01\r\u001b[K     |██████████▉                     | 378kB 11.7MB/s eta 0:00:01\r\u001b[K     |███████████▏                    | 389kB 11.7MB/s eta 0:00:01\r\u001b[K     |███████████▌                    | 399kB 11.7MB/s eta 0:00:01\r\u001b[K     |███████████▊                    | 409kB 11.7MB/s eta 0:00:01\r\u001b[K     |████████████                    | 419kB 11.7MB/s eta 0:00:01\r\u001b[K     |████████████▍                   | 430kB 11.7MB/s eta 0:00:01\r\u001b[K     |████████████▋                   | 440kB 11.7MB/s eta 0:00:01\r\u001b[K     |█████████████                   | 450kB 11.7MB/s eta 0:00:01\r\u001b[K     |█████████████▎                  | 460kB 11.7MB/s eta 0:00:01\r\u001b[K     |█████████████▌                  | 471kB 11.7MB/s eta 0:00:01\r\u001b[K     |█████████████▉                  | 481kB 11.7MB/s eta 0:00:01\r\u001b[K     |██████████████                  | 491kB 11.7MB/s eta 0:00:01\r\u001b[K     |██████████████▍                 | 501kB 11.7MB/s eta 0:00:01\r\u001b[K     |██████████████▊                 | 512kB 11.7MB/s eta 0:00:01\r\u001b[K     |███████████████                 | 522kB 11.7MB/s eta 0:00:01\r\u001b[K     |███████████████▎                | 532kB 11.7MB/s eta 0:00:01\r\u001b[K     |███████████████▋                | 542kB 11.7MB/s eta 0:00:01\r\u001b[K     |███████████████▉                | 552kB 11.7MB/s eta 0:00:01\r\u001b[K     |████████████████▏               | 563kB 11.7MB/s eta 0:00:01\r\u001b[K     |████████████████▌               | 573kB 11.7MB/s eta 0:00:01\r\u001b[K     |████████████████▊               | 583kB 11.7MB/s eta 0:00:01\r\u001b[K     |█████████████████               | 593kB 11.7MB/s eta 0:00:01\r\u001b[K     |█████████████████▍              | 604kB 11.7MB/s eta 0:00:01\r\u001b[K     |█████████████████▋              | 614kB 11.7MB/s eta 0:00:01\r\u001b[K     |██████████████████              | 624kB 11.7MB/s eta 0:00:01\r\u001b[K     |██████████████████▏             | 634kB 11.7MB/s eta 0:00:01\r\u001b[K     |██████████████████▌             | 645kB 11.7MB/s eta 0:00:01\r\u001b[K     |██████████████████▉             | 655kB 11.7MB/s eta 0:00:01\r\u001b[K     |███████████████████             | 665kB 11.7MB/s eta 0:00:01\r\u001b[K     |███████████████████▍            | 675kB 11.7MB/s eta 0:00:01\r\u001b[K     |███████████████████▊            | 686kB 11.7MB/s eta 0:00:01\r\u001b[K     |████████████████████            | 696kB 11.7MB/s eta 0:00:01\r\u001b[K     |████████████████████▎           | 706kB 11.7MB/s eta 0:00:01\r\u001b[K     |████████████████████▋           | 716kB 11.7MB/s eta 0:00:01\r\u001b[K     |████████████████████▉           | 727kB 11.7MB/s eta 0:00:01\r\u001b[K     |█████████████████████▏          | 737kB 11.7MB/s eta 0:00:01\r\u001b[K     |█████████████████████▌          | 747kB 11.7MB/s eta 0:00:01\r\u001b[K     |█████████████████████▊          | 757kB 11.7MB/s eta 0:00:01\r\u001b[K     |██████████████████████          | 768kB 11.7MB/s eta 0:00:01\r\u001b[K     |██████████████████████▎         | 778kB 11.7MB/s eta 0:00:01\r\u001b[K     |██████████████████████▋         | 788kB 11.7MB/s eta 0:00:01\r\u001b[K     |███████████████████████         | 798kB 11.7MB/s eta 0:00:01\r\u001b[K     |███████████████████████▏        | 808kB 11.7MB/s eta 0:00:01\r\u001b[K     |███████████████████████▌        | 819kB 11.7MB/s eta 0:00:01\r\u001b[K     |███████████████████████▉        | 829kB 11.7MB/s eta 0:00:01\r\u001b[K     |████████████████████████        | 839kB 11.7MB/s eta 0:00:01\r\u001b[K     |████████████████████████▍       | 849kB 11.7MB/s eta 0:00:01\r\u001b[K     |████████████████████████▊       | 860kB 11.7MB/s eta 0:00:01\r\u001b[K     |█████████████████████████       | 870kB 11.7MB/s eta 0:00:01\r\u001b[K     |█████████████████████████▎      | 880kB 11.7MB/s eta 0:00:01\r\u001b[K     |█████████████████████████▋      | 890kB 11.7MB/s eta 0:00:01\r\u001b[K     |█████████████████████████▉      | 901kB 11.7MB/s eta 0:00:01\r\u001b[K     |██████████████████████████▏     | 911kB 11.7MB/s eta 0:00:01\r\u001b[K     |██████████████████████████▌     | 921kB 11.7MB/s eta 0:00:01\r\u001b[K     |██████████████████████████▊     | 931kB 11.7MB/s eta 0:00:01\r\u001b[K     |███████████████████████████     | 942kB 11.7MB/s eta 0:00:01\r\u001b[K     |███████████████████████████▎    | 952kB 11.7MB/s eta 0:00:01\r\u001b[K     |███████████████████████████▋    | 962kB 11.7MB/s eta 0:00:01\r\u001b[K     |████████████████████████████    | 972kB 11.7MB/s eta 0:00:01\r\u001b[K     |████████████████████████████▏   | 983kB 11.7MB/s eta 0:00:01\r\u001b[K     |████████████████████████████▌   | 993kB 11.7MB/s eta 0:00:01\r\u001b[K     |████████████████████████████▉   | 1.0MB 11.7MB/s eta 0:00:01\r\u001b[K     |█████████████████████████████   | 1.0MB 11.7MB/s eta 0:00:01\r\u001b[K     |█████████████████████████████▍  | 1.0MB 11.7MB/s eta 0:00:01\r\u001b[K     |█████████████████████████████▊  | 1.0MB 11.7MB/s eta 0:00:01\r\u001b[K     |██████████████████████████████  | 1.0MB 11.7MB/s eta 0:00:01\r\u001b[K     |██████████████████████████████▎ | 1.1MB 11.7MB/s eta 0:00:01\r\u001b[K     |██████████████████████████████▋ | 1.1MB 11.7MB/s eta 0:00:01\r\u001b[K     |██████████████████████████████▉ | 1.1MB 11.7MB/s eta 0:00:01\r\u001b[K     |███████████████████████████████▏| 1.1MB 11.7MB/s eta 0:00:01\r\u001b[K     |███████████████████████████████▍| 1.1MB 11.7MB/s eta 0:00:01\r\u001b[K     |███████████████████████████████▊| 1.1MB 11.7MB/s eta 0:00:01\r\u001b[K     |████████████████████████████████| 1.1MB 11.7MB/s \n",
            "\u001b[?25hInstalling collected packages: sentencepiece\n",
            "Successfully installed sentencepiece-0.1.94\n"
          ],
          "name": "stdout"
        }
      ]
    },
    {
      "cell_type": "code",
      "metadata": {
        "id": "r72yzfDkMSVU"
      },
      "source": [
        "import tokenization"
      ],
      "execution_count": 3,
      "outputs": []
    },
    {
      "cell_type": "code",
      "metadata": {
        "id": "gAuiS6t4MW_4"
      },
      "source": [
        "def bert_encode(texts, tokenizer, max_len=512):\n",
        "    all_tokens = []\n",
        "    all_masks = []\n",
        "    all_segments = []\n",
        "    \n",
        "    for text in texts:\n",
        "        text = tokenizer.tokenize(text)\n",
        "            \n",
        "        text = text[:max_len-2]\n",
        "        input_sequence = [\"[CLS]\"] + text + [\"[SEP]\"]\n",
        "        pad_len = max_len - len(input_sequence)\n",
        "        \n",
        "        tokens = tokenizer.convert_tokens_to_ids(input_sequence)\n",
        "        tokens += [0] * pad_len\n",
        "        pad_masks = [1] * len(input_sequence) + [0] * pad_len\n",
        "        segment_ids = [0] * max_len\n",
        "        \n",
        "        all_tokens.append(tokens)\n",
        "        all_masks.append(pad_masks)\n",
        "        all_segments.append(segment_ids)\n",
        "    \n",
        "    return np.array(all_tokens), np.array(all_masks), np.array(all_segments)"
      ],
      "execution_count": 4,
      "outputs": []
    },
    {
      "cell_type": "code",
      "metadata": {
        "id": "2R5uSnu5MZQ3"
      },
      "source": [
        "def build_model(bert_layer, max_len=512):\n",
        "    input_word_ids = Input(shape=(max_len,), dtype=tf.int32, name=\"input_word_ids\")\n",
        "    input_mask = Input(shape=(max_len,), dtype=tf.int32, name=\"input_mask\")\n",
        "    segment_ids = Input(shape=(max_len,), dtype=tf.int32, name=\"segment_ids\")\n",
        "\n",
        "    \n",
        "    pooled_output, sequence_output = bert_layer([input_word_ids, input_mask, segment_ids])\n",
        "    clf_output = pooled_output\n",
        "    clf_output1 = tf.reshape(clf_output,[32,32,3])\n",
        "    base_model = applications.resnet50.ResNet50(weights= None, include_top=False, input_shape=clf_output1.shape)\n",
        "    print(\"Hi\")\n",
        "    # x = base_model.output\n",
        "    # x = GlobalAveragePooling2D()(x)\n",
        "    out = Dense(6, activation='softmax')(clf_output)\n",
        "    \n",
        "    model = Model(inputs=[input_word_ids, input_mask, segment_ids], outputs=out)\n",
        "    model.compile(Adam(lr=2e-6), loss='categorical_crossentropy', metrics=['accuracy'])\n",
        "    \n",
        "    return model,clf_output1"
      ],
      "execution_count": 5,
      "outputs": []
    },
    {
      "cell_type": "code",
      "metadata": {
        "id": "ILahRuvWwGDt"
      },
      "source": [
        "# base_model = applications.resnet50.ResNet50(weights= None, include_top=False, input_shape= (32,32,3))\n",
        "# x = base_model.output\n",
        "# x = GlobalAveragePooling2D()(x)\n",
        "# predictions = Dense(6 , activation= 'softmax')(x)\n",
        "# model = Model(inputs = base_model.input, outputs = predictions)"
      ],
      "execution_count": null,
      "outputs": []
    },
    {
      "cell_type": "code",
      "metadata": {
        "id": "T0lDyjgKQrbW",
        "colab": {
          "base_uri": "https://localhost:8080/"
        },
        "outputId": "468757fe-9b8a-470a-ba53-36da736b504c"
      },
      "source": [
        "from google.colab import drive\n",
        "drive.mount('/content/gdrive')"
      ],
      "execution_count": 6,
      "outputs": [
        {
          "output_type": "stream",
          "text": [
            "Mounted at /content/gdrive\n"
          ],
          "name": "stdout"
        }
      ]
    },
    {
      "cell_type": "code",
      "metadata": {
        "id": "SPBiw3jdQqXo",
        "colab": {
          "base_uri": "https://localhost:8080/"
        },
        "outputId": "074a7d6f-1b88-4829-838c-97e9e8f30b70"
      },
      "source": [
        "%%time\n",
        "module_url = \"https://tfhub.dev/tensorflow/bert_en_uncased_L-24_H-1024_A-16/1\"\n",
        "bert_layer = hub.KerasLayer(module_url, trainable=True)"
      ],
      "execution_count": 7,
      "outputs": [
        {
          "output_type": "stream",
          "text": [
            "CPU times: user 43.5 s, sys: 10.8 s, total: 54.4 s\n",
            "Wall time: 2min 40s\n"
          ],
          "name": "stdout"
        }
      ]
    },
    {
      "cell_type": "code",
      "metadata": {
        "id": "v-g0HXbfQuZa"
      },
      "source": [
        "with open('/content/gdrive/My Drive/iemocap/train/sentences.pkl', 'rb') as f:\n",
        "    data = pickle.load(f)\n",
        "with open('/content/gdrive/My Drive/iemocap/train/labels.pkl', 'rb') as f:\n",
        "    labels = pickle.load(f)\n",
        "with open('/content/gdrive/My Drive/iemocap/test/sentences.pkl', 'rb') as f:\n",
        "    test_data = pickle.load(f)\n",
        "with open('/content/gdrive/My Drive/iemocap/test/labels.pkl', 'rb') as f:\n",
        "    test_labels = pickle.load(f)"
      ],
      "execution_count": 8,
      "outputs": []
    },
    {
      "cell_type": "code",
      "metadata": {
        "id": "VTVssce7QwPd"
      },
      "source": [
        "def preprocessing(data,labels):\n",
        "  processed_data=[]\n",
        "  processed_label=[]\n",
        "  for i in range(0,len(data)):\n",
        "    for j in range(0,len(data[i])):\n",
        "      intermediate_data=[]\n",
        "      intermediate_label=[]\n",
        "      for k in range(0,len(data[i][j])):\n",
        "        text=data[i][j][k]\n",
        "        if text != '<eos>'and text!='<pad>':\n",
        "          intermediate_data.append(text)\n",
        "      processed_data.append(intermediate_data)\n",
        "  for i in labels:\n",
        "    for j in i:\n",
        "      processed_label.append(j)\n",
        "  return processed_data,processed_label"
      ],
      "execution_count": 9,
      "outputs": []
    },
    {
      "cell_type": "code",
      "metadata": {
        "id": "fKUpRX1cQw1y"
      },
      "source": [
        "processed_data,processed_label = preprocessing(data,labels)\n",
        "test_processed_data,test_processed_label = preprocessing(test_data,test_labels)"
      ],
      "execution_count": 10,
      "outputs": []
    },
    {
      "cell_type": "code",
      "metadata": {
        "id": "7DcF9IPt-2EQ"
      },
      "source": [
        "for i in range(0,len(processed_data)):\n",
        "  processed_data[i]= ' '.join(processed_data[i])\n",
        "for i in range(0,len(test_processed_data)):\n",
        "  test_processed_data[i]=' '.join(test_processed_data[i])"
      ],
      "execution_count": 11,
      "outputs": []
    },
    {
      "cell_type": "code",
      "metadata": {
        "id": "Bf4C0QIsRPiS"
      },
      "source": [
        "processed_data=np.asarray(processed_data)\n",
        "test_processed_data=np.asarray(test_processed_data)\n",
        "Y=to_categorical(processed_label, num_classes=6)\n",
        "test_Y=to_categorical(test_processed_label, num_classes=6)"
      ],
      "execution_count": 12,
      "outputs": []
    },
    {
      "cell_type": "code",
      "metadata": {
        "id": "kiTdbVgdRTAi"
      },
      "source": [
        "vocab_file = bert_layer.resolved_object.vocab_file.asset_path.numpy()\n",
        "do_lower_case = bert_layer.resolved_object.do_lower_case.numpy()\n",
        "tokenizer = tokenization.FullTokenizer(vocab_file, do_lower_case)"
      ],
      "execution_count": 13,
      "outputs": []
    },
    {
      "cell_type": "code",
      "metadata": {
        "id": "K8sAlpdtRW6n"
      },
      "source": [
        "t0 = time.time()\n",
        "train_input = bert_encode(processed_data, tokenizer, max_len=160)\n",
        "test_input = bert_encode(test_processed_data, tokenizer, max_len=160)\n",
        "train_labels = Y\n",
        "test_labels = test_Y"
      ],
      "execution_count": 14,
      "outputs": []
    },
    {
      "cell_type": "code",
      "metadata": {
        "id": "bYSK8AjpRYPx",
        "colab": {
          "base_uri": "https://localhost:8080/"
        },
        "outputId": "126b50c1-e128-45b1-fa88-46f36f7732ca"
      },
      "source": [
        "model,clf_output1 = build_model(bert_layer, max_len=161)\n",
        "model.summary()"
      ],
      "execution_count": 15,
      "outputs": [
        {
          "output_type": "stream",
          "text": [
            "Hi\n",
            "Model: \"functional_1\"\n",
            "__________________________________________________________________________________________________\n",
            "Layer (type)                    Output Shape         Param #     Connected to                     \n",
            "==================================================================================================\n",
            "input_word_ids (InputLayer)     [(None, 161)]        0                                            \n",
            "__________________________________________________________________________________________________\n",
            "input_mask (InputLayer)         [(None, 161)]        0                                            \n",
            "__________________________________________________________________________________________________\n",
            "segment_ids (InputLayer)        [(None, 161)]        0                                            \n",
            "__________________________________________________________________________________________________\n",
            "keras_layer (KerasLayer)        [(None, 1024), (None 335141889   input_word_ids[0][0]             \n",
            "                                                                 input_mask[0][0]                 \n",
            "                                                                 segment_ids[0][0]                \n",
            "__________________________________________________________________________________________________\n",
            "dense (Dense)                   (None, 6)            6150        keras_layer[0][0]                \n",
            "==================================================================================================\n",
            "Total params: 335,148,039\n",
            "Trainable params: 335,148,038\n",
            "Non-trainable params: 1\n",
            "__________________________________________________________________________________________________\n"
          ],
          "name": "stdout"
        }
      ]
    },
    {
      "cell_type": "code",
      "metadata": {
        "id": "99O-dUk_Ra5y",
        "colab": {
          "base_uri": "https://localhost:8080/"
        },
        "outputId": "63146750-4265-4c46-afd5-2d7bcb0c1ac0"
      },
      "source": [
        "train_history = model.fit(\n",
        "    train_input, train_labels,\n",
        "    epochs=1,\n",
        "    batch_size=1\n",
        ")\n",
        "\n",
        "model.save('model.h5')"
      ],
      "execution_count": 16,
      "outputs": [
        {
          "output_type": "stream",
          "text": [
            "WARNING:tensorflow:Model was constructed with shape (None, 161) for input Tensor(\"input_word_ids:0\", shape=(None, 161), dtype=int32), but it was called on an input with incompatible shape (1, 160).\n"
          ],
          "name": "stdout"
        },
        {
          "output_type": "stream",
          "text": [
            "WARNING:tensorflow:Model was constructed with shape (None, 161) for input Tensor(\"input_word_ids:0\", shape=(None, 161), dtype=int32), but it was called on an input with incompatible shape (1, 160).\n"
          ],
          "name": "stderr"
        },
        {
          "output_type": "stream",
          "text": [
            "WARNING:tensorflow:Model was constructed with shape (None, 161) for input Tensor(\"input_mask:0\", shape=(None, 161), dtype=int32), but it was called on an input with incompatible shape (1, 160).\n"
          ],
          "name": "stdout"
        },
        {
          "output_type": "stream",
          "text": [
            "WARNING:tensorflow:Model was constructed with shape (None, 161) for input Tensor(\"input_mask:0\", shape=(None, 161), dtype=int32), but it was called on an input with incompatible shape (1, 160).\n"
          ],
          "name": "stderr"
        },
        {
          "output_type": "stream",
          "text": [
            "WARNING:tensorflow:Model was constructed with shape (None, 161) for input Tensor(\"segment_ids:0\", shape=(None, 161), dtype=int32), but it was called on an input with incompatible shape (1, 160).\n"
          ],
          "name": "stdout"
        },
        {
          "output_type": "stream",
          "text": [
            "WARNING:tensorflow:Model was constructed with shape (None, 161) for input Tensor(\"segment_ids:0\", shape=(None, 161), dtype=int32), but it was called on an input with incompatible shape (1, 160).\n"
          ],
          "name": "stderr"
        },
        {
          "output_type": "stream",
          "text": [
            "WARNING:tensorflow:Model was constructed with shape (None, 161) for input Tensor(\"input_word_ids:0\", shape=(None, 161), dtype=int32), but it was called on an input with incompatible shape (1, 160).\n"
          ],
          "name": "stdout"
        },
        {
          "output_type": "stream",
          "text": [
            "WARNING:tensorflow:Model was constructed with shape (None, 161) for input Tensor(\"input_word_ids:0\", shape=(None, 161), dtype=int32), but it was called on an input with incompatible shape (1, 160).\n"
          ],
          "name": "stderr"
        },
        {
          "output_type": "stream",
          "text": [
            "WARNING:tensorflow:Model was constructed with shape (None, 161) for input Tensor(\"input_mask:0\", shape=(None, 161), dtype=int32), but it was called on an input with incompatible shape (1, 160).\n"
          ],
          "name": "stdout"
        },
        {
          "output_type": "stream",
          "text": [
            "WARNING:tensorflow:Model was constructed with shape (None, 161) for input Tensor(\"input_mask:0\", shape=(None, 161), dtype=int32), but it was called on an input with incompatible shape (1, 160).\n"
          ],
          "name": "stderr"
        },
        {
          "output_type": "stream",
          "text": [
            "WARNING:tensorflow:Model was constructed with shape (None, 161) for input Tensor(\"segment_ids:0\", shape=(None, 161), dtype=int32), but it was called on an input with incompatible shape (1, 160).\n"
          ],
          "name": "stdout"
        },
        {
          "output_type": "stream",
          "text": [
            "WARNING:tensorflow:Model was constructed with shape (None, 161) for input Tensor(\"segment_ids:0\", shape=(None, 161), dtype=int32), but it was called on an input with incompatible shape (1, 160).\n"
          ],
          "name": "stderr"
        },
        {
          "output_type": "stream",
          "text": [
            "4699/4699 [==============================] - 793s 169ms/step - loss: 1.5051 - accuracy: 0.4033\n"
          ],
          "name": "stdout"
        }
      ]
    },
    {
      "cell_type": "code",
      "metadata": {
        "id": "S1xc0w8M0FE7"
      },
      "source": [
        "layer_names=[layer.name for layer in model.layers]\n",
        "layer_name=layer_names[3]\n",
        "intermediate_layer_model = Model(inputs=model.input,outputs=model.get_layer(layer_name).output)\n",
        "intermediate_output = intermediate_layer_model.predict(data)"
      ],
      "execution_count": 23,
      "outputs": []
    },
    {
      "cell_type": "code",
      "metadata": {
        "id": "mcmlcgKn0Hbf",
        "outputId": "35dba336-f73f-4ba8-a640-80340edbfc31",
        "colab": {
          "base_uri": "https://localhost:8080/"
        }
      },
      "source": [
        ""
      ],
      "execution_count": 25,
      "outputs": [
        {
          "output_type": "stream",
          "text": [
            "keras_layer\n"
          ],
          "name": "stdout"
        }
      ]
    },
    {
      "cell_type": "code",
      "metadata": {
        "id": "i1yXEXJpRcdF",
        "outputId": "a0a0c509-705a-464e-e0a1-89af5c3f451d",
        "colab": {
          "base_uri": "https://localhost:8080/"
        }
      },
      "source": [
        "y_pred=model.predict(test_input, batch_size=1)"
      ],
      "execution_count": 23,
      "outputs": [
        {
          "output_type": "stream",
          "text": [
            "WARNING:tensorflow:Model was constructed with shape (None, 161) for input Tensor(\"input_word_ids_1:0\", shape=(None, 161), dtype=int32), but it was called on an input with incompatible shape (1, 160).\n"
          ],
          "name": "stdout"
        },
        {
          "output_type": "stream",
          "text": [
            "WARNING:tensorflow:Model was constructed with shape (None, 161) for input Tensor(\"input_word_ids_1:0\", shape=(None, 161), dtype=int32), but it was called on an input with incompatible shape (1, 160).\n"
          ],
          "name": "stderr"
        },
        {
          "output_type": "stream",
          "text": [
            "WARNING:tensorflow:Model was constructed with shape (None, 161) for input Tensor(\"input_mask_1:0\", shape=(None, 161), dtype=int32), but it was called on an input with incompatible shape (1, 160).\n"
          ],
          "name": "stdout"
        },
        {
          "output_type": "stream",
          "text": [
            "WARNING:tensorflow:Model was constructed with shape (None, 161) for input Tensor(\"input_mask_1:0\", shape=(None, 161), dtype=int32), but it was called on an input with incompatible shape (1, 160).\n"
          ],
          "name": "stderr"
        },
        {
          "output_type": "stream",
          "text": [
            "WARNING:tensorflow:Model was constructed with shape (None, 161) for input Tensor(\"segment_ids_1:0\", shape=(None, 161), dtype=int32), but it was called on an input with incompatible shape (1, 160).\n"
          ],
          "name": "stdout"
        },
        {
          "output_type": "stream",
          "text": [
            "WARNING:tensorflow:Model was constructed with shape (None, 161) for input Tensor(\"segment_ids_1:0\", shape=(None, 161), dtype=int32), but it was called on an input with incompatible shape (1, 160).\n"
          ],
          "name": "stderr"
        }
      ]
    },
    {
      "cell_type": "code",
      "metadata": {
        "id": "ifq6GS_ylKXA",
        "outputId": "766cf965-c805-4b52-8540-3fe0f39ed785",
        "colab": {
          "base_uri": "https://localhost:8080/"
        }
      },
      "source": [
        "y_pred1=np.argmax(y_pred,axis=1)\n",
        "test_processed_label=np.asarray(test_processed_label)\n",
        "t1 = time.time()\n",
        "total = t1-t0\n",
        "print(\"Total Execution time (Training + Testing): \" + str(total))\n",
        "print(\"Accuracy : \" + str(accuracy_score(test_processed_label, y_pred1)))\n",
        "print(\"Weighted F1-score : \" + str(f1_score(test_processed_label, y_pred1, average='weighted')))"
      ],
      "execution_count": 24,
      "outputs": [
        {
          "output_type": "stream",
          "text": [
            "Total Execution time (Training + Testing): 948.8990435600281\n",
            "Accuracy : 0.5169439309919901\n",
            "Weighted F1-score : 0.5111446336164024\n"
          ],
          "name": "stdout"
        }
      ]
    }
  ]
}