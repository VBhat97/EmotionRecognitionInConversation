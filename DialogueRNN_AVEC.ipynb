{
  "nbformat": 4,
  "nbformat_minor": 0,
  "metadata": {
    "colab": {
      "name": "DialogueRNN_AVEC.ipynb",
      "provenance": [],
      "authorship_tag": "ABX9TyOLXKgZlP5sgEiwGhvQWANj",
      "include_colab_link": true
    },
    "kernelspec": {
      "name": "python3",
      "display_name": "Python 3"
    },
    "accelerator": "GPU"
  },
  "cells": [
    {
      "cell_type": "markdown",
      "metadata": {
        "id": "view-in-github",
        "colab_type": "text"
      },
      "source": [
        "<a href=\"https://colab.research.google.com/github/anitayadav3/EmotionRecognitionInConversation/blob/master/DialogueRNN_AVEC.ipynb\" target=\"_parent\"><img src=\"https://colab.research.google.com/assets/colab-badge.svg\" alt=\"Open In Colab\"/></a>"
      ]
    },
    {
      "cell_type": "code",
      "metadata": {
        "id": "jzS-rCc613k8",
        "colab_type": "code",
        "colab": {
          "base_uri": "https://localhost:8080/",
          "height": 34
        },
        "outputId": "a2a8dadf-34e8-43e0-8570-911f08d8fbfb"
      },
      "source": [
        "from google.colab import drive\n",
        "drive.mount('/content/drive')"
      ],
      "execution_count": 1,
      "outputs": [
        {
          "output_type": "stream",
          "text": [
            "Mounted at /content/drive\n"
          ],
          "name": "stdout"
        }
      ]
    },
    {
      "cell_type": "code",
      "metadata": {
        "id": "hndLVsAE2Jxr",
        "colab_type": "code",
        "colab": {
          "base_uri": "https://localhost:8080/",
          "height": 34
        },
        "outputId": "1016ef86-34dc-4711-fb95-6d00d58b4c30"
      },
      "source": [
        "%cd /content/drive/My Drive/DialogueRNN"
      ],
      "execution_count": 2,
      "outputs": [
        {
          "output_type": "stream",
          "text": [
            "/content/drive/My Drive/DialogueRNN\n"
          ],
          "name": "stdout"
        }
      ]
    },
    {
      "cell_type": "code",
      "metadata": {
        "id": "t06DQUVv3U3w",
        "colab_type": "code",
        "colab": {
          "base_uri": "https://localhost:8080/",
          "height": 1000
        },
        "outputId": "fccbf90e-8456-4228-e519-c247df9e752c"
      },
      "source": [
        "!python train_AVEC.py --dropout 0.4 --lr 0.0003 --batch-size 32 --l2 0.0"
      ],
      "execution_count": 3,
      "outputs": [
        {
          "output_type": "stream",
          "text": [
            "Namespace(active_listener=False, attention='simple', attribute=1, batch_size=32, dropout=0.4, epochs=100, l2=0.0, lr=0.0003, no_cuda=False, rec_dropout=0.0, tensorboard=False)\n",
            "Running on GPU\n",
            "epoch 1 train_loss 0.0957 train_mae 0.25540000200271606 train_pear -0.0131 valid_loss nan valid_mae nan valid_pear nan test_loss 0.0622 test_mae 0.20440000295639038 test_pear 0.1487 time 4.26\n",
            "epoch 2 train_loss 0.0653 train_mae 0.20640000700950623 train_pear 0.2226 valid_loss nan valid_mae nan valid_pear nan test_loss 0.0582 test_mae 0.18080000579357147 test_pear 0.107 time 3.77\n",
            "epoch 3 train_loss 0.0584 train_mae 0.186599999666214 train_pear 0.2291 valid_loss nan valid_mae nan valid_pear nan test_loss 0.0655 test_mae 0.18230000138282776 test_pear 0.0977 time 3.83\n",
            "epoch 4 train_loss 0.0628 train_mae 0.18889999389648438 train_pear 0.231 valid_loss nan valid_mae nan valid_pear nan test_loss 0.0711 test_mae 0.1891999989748001 test_pear 0.1007 time 3.93\n",
            "epoch 5 train_loss 0.0633 train_mae 0.18880000710487366 train_pear 0.2839 valid_loss nan valid_mae nan valid_pear nan test_loss 0.0676 test_mae 0.1842000037431717 test_pear 0.1103 time 4.14\n",
            "epoch 6 train_loss 0.059 train_mae 0.1826999932527542 train_pear 0.308 valid_loss nan valid_mae nan valid_pear nan test_loss 0.0626 test_mae 0.17870000004768372 test_pear 0.1238 time 4.05\n",
            "epoch 7 train_loss 0.0567 train_mae 0.1793999969959259 train_pear 0.2956 valid_loss nan valid_mae nan valid_pear nan test_loss 0.0588 test_mae 0.17710000276565552 test_pear 0.1412 time 4.08\n",
            "epoch 8 train_loss 0.0553 train_mae 0.1809999942779541 train_pear 0.3026 valid_loss nan valid_mae nan valid_pear nan test_loss 0.0572 test_mae 0.17990000545978546 test_pear 0.1597 time 3.83\n",
            "epoch 9 train_loss 0.0543 train_mae 0.18119999766349792 train_pear 0.3439 valid_loss nan valid_mae nan valid_pear nan test_loss 0.0569 test_mae 0.18209999799728394 test_pear 0.174 time 3.96\n",
            "epoch 10 train_loss 0.0546 train_mae 0.18230000138282776 train_pear 0.3586 valid_loss nan valid_mae nan valid_pear nan test_loss 0.0567 test_mae 0.1826999932527542 test_pear 0.1844 time 4.07\n",
            "epoch 11 train_loss 0.0531 train_mae 0.18070000410079956 train_pear 0.402 valid_loss nan valid_mae nan valid_pear nan test_loss 0.0565 test_mae 0.1808999925851822 test_pear 0.1891 time 4.13\n",
            "epoch 12 train_loss 0.0514 train_mae 0.17739999294281006 train_pear 0.4304 valid_loss nan valid_mae nan valid_pear nan test_loss 0.0567 test_mae 0.17790000140666962 test_pear 0.1905 time 4.11\n",
            "epoch 13 train_loss 0.0491 train_mae 0.1696999967098236 train_pear 0.4651 valid_loss nan valid_mae nan valid_pear nan test_loss 0.0577 test_mae 0.17560000717639923 test_pear 0.1906 time 4.07\n",
            "epoch 14 train_loss 0.0494 train_mae 0.1695999950170517 train_pear 0.4504 valid_loss nan valid_mae nan valid_pear nan test_loss 0.0594 test_mae 0.17520000040531158 test_pear 0.1914 time 3.97\n",
            "epoch 15 train_loss 0.0476 train_mae 0.16369999945163727 train_pear 0.4926 valid_loss nan valid_mae nan valid_pear nan test_loss 0.0595 test_mae 0.17509999871253967 test_pear 0.1991 time 4.01\n",
            "epoch 16 train_loss 0.0462 train_mae 0.16269999742507935 train_pear 0.5164 valid_loss nan valid_mae nan valid_pear nan test_loss 0.0581 test_mae 0.17489999532699585 test_pear 0.2113 time 3.87\n",
            "epoch 17 train_loss 0.0437 train_mae 0.15919999778270721 train_pear 0.5562 valid_loss nan valid_mae nan valid_pear nan test_loss 0.0568 test_mae 0.17560000717639923 test_pear 0.225 time 3.82\n",
            "epoch 18 train_loss 0.0424 train_mae 0.15690000355243683 train_pear 0.573 valid_loss nan valid_mae nan valid_pear nan test_loss 0.0558 test_mae 0.17759999632835388 test_pear 0.2392 time 4.12\n",
            "epoch 19 train_loss 0.0412 train_mae 0.15600000321865082 train_pear 0.5906 valid_loss nan valid_mae nan valid_pear nan test_loss 0.0554 test_mae 0.17990000545978546 test_pear 0.2514 time 3.96\n",
            "epoch 20 train_loss 0.0398 train_mae 0.1542000025510788 train_pear 0.6112 valid_loss nan valid_mae nan valid_pear nan test_loss 0.0557 test_mae 0.18019999563694 test_pear 0.2574 time 4.02\n",
            "epoch 21 train_loss 0.0375 train_mae 0.14890000224113464 train_pear 0.6292 valid_loss nan valid_mae nan valid_pear nan test_loss 0.0567 test_mae 0.18050000071525574 test_pear 0.2602 time 4.04\n",
            "epoch 22 train_loss 0.0358 train_mae 0.14429999887943268 train_pear 0.643 valid_loss nan valid_mae nan valid_pear nan test_loss 0.0577 test_mae 0.1826999932527542 test_pear 0.266 time 4.04\n",
            "epoch 23 train_loss 0.0351 train_mae 0.1437000036239624 train_pear 0.6509 valid_loss nan valid_mae nan valid_pear nan test_loss 0.0586 test_mae 0.1859000027179718 test_pear 0.273 time 3.92\n",
            "epoch 24 train_loss 0.0353 train_mae 0.1460999995470047 train_pear 0.6529 valid_loss nan valid_mae nan valid_pear nan test_loss 0.0599 test_mae 0.18950000405311584 test_pear 0.2787 time 3.91\n",
            "epoch 25 train_loss 0.0353 train_mae 0.1467999964952469 train_pear 0.6628 valid_loss nan valid_mae nan valid_pear nan test_loss 0.061 test_mae 0.19099999964237213 test_pear 0.2808 time 3.86\n",
            "epoch 26 train_loss 0.0357 train_mae 0.14650000631809235 train_pear 0.6619 valid_loss nan valid_mae nan valid_pear nan test_loss 0.061 test_mae 0.1899999976158142 test_pear 0.2809 time 3.93\n",
            "epoch 27 train_loss 0.0348 train_mae 0.1454000025987625 train_pear 0.6668 valid_loss nan valid_mae nan valid_pear nan test_loss 0.0597 test_mae 0.18940000236034393 test_pear 0.2855 time 3.83\n",
            "epoch 28 train_loss 0.0341 train_mae 0.14409999549388885 train_pear 0.6724 valid_loss nan valid_mae nan valid_pear nan test_loss 0.0588 test_mae 0.1868000030517578 test_pear 0.2854 time 3.92\n",
            "epoch 29 train_loss 0.0339 train_mae 0.14259999990463257 train_pear 0.6694 valid_loss nan valid_mae nan valid_pear nan test_loss 0.0586 test_mae 0.18449999392032623 test_pear 0.2842 time 3.89\n",
            "epoch 30 train_loss 0.0334 train_mae 0.1404999941587448 train_pear 0.6729 valid_loss nan valid_mae nan valid_pear nan test_loss 0.058 test_mae 0.18359999358654022 test_pear 0.2857 time 4.08\n",
            "epoch 31 train_loss 0.0338 train_mae 0.14149999618530273 train_pear 0.6672 valid_loss nan valid_mae nan valid_pear nan test_loss 0.0577 test_mae 0.18279999494552612 test_pear 0.2869 time 4.04\n",
            "epoch 32 train_loss 0.0333 train_mae 0.13979999721050262 train_pear 0.6733 valid_loss nan valid_mae nan valid_pear nan test_loss 0.0572 test_mae 0.1826000064611435 test_pear 0.2892 time 3.83\n",
            "epoch 33 train_loss 0.0333 train_mae 0.14030000567436218 train_pear 0.6743 valid_loss nan valid_mae nan valid_pear nan test_loss 0.0575 test_mae 0.1817999929189682 test_pear 0.2904 time 4.06\n",
            "epoch 34 train_loss 0.0329 train_mae 0.1387999951839447 train_pear 0.6776 valid_loss nan valid_mae nan valid_pear nan test_loss 0.0583 test_mae 0.18160000443458557 test_pear 0.2906 time 4.06\n",
            "epoch 35 train_loss 0.033 train_mae 0.1388999968767166 train_pear 0.6777 valid_loss nan valid_mae nan valid_pear nan test_loss 0.0575 test_mae 0.18160000443458557 test_pear 0.2951 time 3.78\n",
            "epoch 36 train_loss 0.0326 train_mae 0.13750000298023224 train_pear 0.6818 valid_loss nan valid_mae nan valid_pear nan test_loss 0.0572 test_mae 0.1817999929189682 test_pear 0.2987 time 3.91\n",
            "epoch 37 train_loss 0.0321 train_mae 0.13779999315738678 train_pear 0.6887 valid_loss nan valid_mae nan valid_pear nan test_loss 0.0567 test_mae 0.18279999494552612 test_pear 0.3037 time 3.84\n",
            "epoch 38 train_loss 0.0322 train_mae 0.13830000162124634 train_pear 0.689 valid_loss nan valid_mae nan valid_pear nan test_loss 0.0571 test_mae 0.1818999946117401 test_pear 0.305 time 4.12\n",
            "epoch 39 train_loss 0.0325 train_mae 0.13850000500679016 train_pear 0.6844 valid_loss nan valid_mae nan valid_pear nan test_loss 0.0576 test_mae 0.18160000443458557 test_pear 0.3062 time 4.07\n",
            "epoch 40 train_loss 0.0318 train_mae 0.13689999282360077 train_pear 0.6927 valid_loss nan valid_mae nan valid_pear nan test_loss 0.0571 test_mae 0.18219999969005585 test_pear 0.3112 time 3.77\n",
            "epoch 41 train_loss 0.0319 train_mae 0.1371999979019165 train_pear 0.6935 valid_loss nan valid_mae nan valid_pear nan test_loss 0.0573 test_mae 0.1817999929189682 test_pear 0.3131 time 3.92\n",
            "epoch 42 train_loss 0.0318 train_mae 0.1363999992609024 train_pear 0.6943 valid_loss nan valid_mae nan valid_pear nan test_loss 0.0575 test_mae 0.18129999935626984 test_pear 0.3142 time 3.97\n",
            "epoch 43 train_loss 0.0319 train_mae 0.13680000603199005 train_pear 0.6928 valid_loss nan valid_mae nan valid_pear nan test_loss 0.0569 test_mae 0.1809999942779541 test_pear 0.3181 time 3.87\n",
            "epoch 44 train_loss 0.0314 train_mae 0.13519999384880066 train_pear 0.6977 valid_loss nan valid_mae nan valid_pear nan test_loss 0.0569 test_mae 0.18029999732971191 test_pear 0.3195 time 4.02\n",
            "epoch 45 train_loss 0.0313 train_mae 0.13510000705718994 train_pear 0.6979 valid_loss nan valid_mae nan valid_pear nan test_loss 0.0566 test_mae 0.17970000207424164 test_pear 0.3221 time 3.99\n",
            "epoch 46 train_loss 0.031 train_mae 0.13439999520778656 train_pear 0.7009 valid_loss nan valid_mae nan valid_pear nan test_loss 0.0561 test_mae 0.179299995303154 test_pear 0.3254 time 4.05\n",
            "epoch 47 train_loss 0.0311 train_mae 0.13539999723434448 train_pear 0.7014 valid_loss nan valid_mae nan valid_pear nan test_loss 0.0555 test_mae 0.1793999969959259 test_pear 0.3297 time 3.89\n",
            "epoch 48 train_loss 0.031 train_mae 0.13570000231266022 train_pear 0.7032 valid_loss nan valid_mae nan valid_pear nan test_loss 0.0565 test_mae 0.17820000648498535 test_pear 0.328 time 3.98\n",
            "epoch 49 train_loss 0.0316 train_mae 0.13529999554157257 train_pear 0.697 valid_loss nan valid_mae nan valid_pear nan test_loss 0.0564 test_mae 0.17759999632835388 test_pear 0.3299 time 4.08\n",
            "epoch 50 train_loss 0.0311 train_mae 0.13529999554157257 train_pear 0.7003 valid_loss nan valid_mae nan valid_pear nan test_loss 0.0548 test_mae 0.17880000174045563 test_pear 0.3373 time 3.87\n",
            "epoch 51 train_loss 0.031 train_mae 0.1354999989271164 train_pear 0.7048 valid_loss nan valid_mae nan valid_pear nan test_loss 0.0561 test_mae 0.17720000445842743 test_pear 0.3344 time 4.04\n",
            "epoch 52 train_loss 0.0311 train_mae 0.1339000016450882 train_pear 0.7018 valid_loss nan valid_mae nan valid_pear nan test_loss 0.0566 test_mae 0.17720000445842743 test_pear 0.3356 time 3.75\n",
            "epoch 53 train_loss 0.0303 train_mae 0.13289999961853027 train_pear 0.7094 valid_loss nan valid_mae nan valid_pear nan test_loss 0.0549 test_mae 0.17749999463558197 test_pear 0.3423 time 3.93\n",
            "epoch 54 train_loss 0.0304 train_mae 0.13410000503063202 train_pear 0.7131 valid_loss nan valid_mae nan valid_pear nan test_loss 0.055 test_mae 0.17720000445842743 test_pear 0.344 time 4.0\n",
            "epoch 55 train_loss 0.0302 train_mae 0.1331000030040741 train_pear 0.7108 valid_loss nan valid_mae nan valid_pear nan test_loss 0.0574 test_mae 0.17720000445842743 test_pear 0.3399 time 4.08\n",
            "epoch 56 train_loss 0.0303 train_mae 0.13169999420642853 train_pear 0.7115 valid_loss nan valid_mae nan valid_pear nan test_loss 0.0553 test_mae 0.17649999260902405 test_pear 0.347 time 4.01\n",
            "epoch 57 train_loss 0.0298 train_mae 0.1324000060558319 train_pear 0.7157 valid_loss nan valid_mae nan valid_pear nan test_loss 0.0547 test_mae 0.17659999430179596 test_pear 0.3506 time 3.92\n",
            "epoch 58 train_loss 0.0298 train_mae 0.13249999284744263 train_pear 0.7165 valid_loss nan valid_mae nan valid_pear nan test_loss 0.0558 test_mae 0.17579999566078186 test_pear 0.349 time 4.02\n",
            "epoch 59 train_loss 0.03 train_mae 0.13249999284744263 train_pear 0.7134 valid_loss nan valid_mae nan valid_pear nan test_loss 0.0548 test_mae 0.17520000040531158 test_pear 0.3531 time 3.94\n",
            "epoch 60 train_loss 0.0292 train_mae 0.13120000064373016 train_pear 0.7218 valid_loss nan valid_mae nan valid_pear nan test_loss 0.0539 test_mae 0.17520000040531158 test_pear 0.3577 time 4.03\n",
            "epoch 61 train_loss 0.0301 train_mae 0.13279999792575836 train_pear 0.7143 valid_loss nan valid_mae nan valid_pear nan test_loss 0.0549 test_mae 0.1745000034570694 test_pear 0.3567 time 3.83\n",
            "epoch 62 train_loss 0.0298 train_mae 0.13120000064373016 train_pear 0.7151 valid_loss nan valid_mae nan valid_pear nan test_loss 0.0552 test_mae 0.17440000176429749 test_pear 0.3577 time 4.06\n",
            "epoch 63 train_loss 0.0302 train_mae 0.133200004696846 train_pear 0.7107 valid_loss nan valid_mae nan valid_pear nan test_loss 0.0539 test_mae 0.17470000684261322 test_pear 0.3637 time 3.99\n",
            "epoch 64 train_loss 0.0296 train_mae 0.13169999420642853 train_pear 0.7179 valid_loss nan valid_mae nan valid_pear nan test_loss 0.0561 test_mae 0.17499999701976776 test_pear 0.3588 time 4.08\n",
            "epoch 65 train_loss 0.0298 train_mae 0.13120000064373016 train_pear 0.7171 valid_loss nan valid_mae nan valid_pear nan test_loss 0.0545 test_mae 0.17419999837875366 test_pear 0.3647 time 4.04\n",
            "epoch 66 train_loss 0.0293 train_mae 0.1315000057220459 train_pear 0.7234 valid_loss nan valid_mae nan valid_pear nan test_loss 0.0537 test_mae 0.17419999837875366 test_pear 0.3679 time 4.03\n",
            "epoch 67 train_loss 0.0291 train_mae 0.13050000369548798 train_pear 0.7258 valid_loss nan valid_mae nan valid_pear nan test_loss 0.0562 test_mae 0.17470000684261322 test_pear 0.3623 time 3.82\n",
            "epoch 68 train_loss 0.0293 train_mae 0.1298000067472458 train_pear 0.7232 valid_loss nan valid_mae nan valid_pear nan test_loss 0.0556 test_mae 0.17389999330043793 test_pear 0.3643 time 3.8\n",
            "epoch 69 train_loss 0.0295 train_mae 0.13099999725818634 train_pear 0.7191 valid_loss nan valid_mae nan valid_pear nan test_loss 0.0534 test_mae 0.1729000061750412 test_pear 0.3709 time 4.04\n",
            "epoch 70 train_loss 0.0289 train_mae 0.13009999692440033 train_pear 0.7265 valid_loss nan valid_mae nan valid_pear nan test_loss 0.0551 test_mae 0.17299999296665192 test_pear 0.3675 time 4.08\n",
            "epoch 71 train_loss 0.0286 train_mae 0.12849999964237213 train_pear 0.7282 valid_loss nan valid_mae nan valid_pear nan test_loss 0.0552 test_mae 0.17299999296665192 test_pear 0.3686 time 3.8\n",
            "epoch 72 train_loss 0.0287 train_mae 0.12860000133514404 train_pear 0.7276 valid_loss nan valid_mae nan valid_pear nan test_loss 0.0541 test_mae 0.17239999771118164 test_pear 0.3727 time 4.03\n",
            "epoch 73 train_loss 0.0287 train_mae 0.12860000133514404 train_pear 0.7282 valid_loss nan valid_mae nan valid_pear nan test_loss 0.0541 test_mae 0.17239999771118164 test_pear 0.3744 time 3.84\n",
            "epoch 74 train_loss 0.0288 train_mae 0.12890000641345978 train_pear 0.7266 valid_loss nan valid_mae nan valid_pear nan test_loss 0.0547 test_mae 0.17270000278949738 test_pear 0.3742 time 4.05\n",
            "epoch 75 train_loss 0.0287 train_mae 0.1290999948978424 train_pear 0.7273 valid_loss nan valid_mae nan valid_pear nan test_loss 0.0536 test_mae 0.17260000109672546 test_pear 0.3788 time 3.76\n",
            "epoch 76 train_loss 0.0281 train_mae 0.12800000607967377 train_pear 0.7347 valid_loss nan valid_mae nan valid_pear nan test_loss 0.0554 test_mae 0.1736000031232834 test_pear 0.3755 time 4.06\n",
            "epoch 77 train_loss 0.0287 train_mae 0.12870000302791595 train_pear 0.7299 valid_loss nan valid_mae nan valid_pear nan test_loss 0.054 test_mae 0.17270000278949738 test_pear 0.3806 time 4.04\n",
            "epoch 78 train_loss 0.0284 train_mae 0.12890000641345978 train_pear 0.7318 valid_loss nan valid_mae nan valid_pear nan test_loss 0.053 test_mae 0.17229999601840973 test_pear 0.3845 time 3.91\n",
            "epoch 79 train_loss 0.0282 train_mae 0.12849999964237213 train_pear 0.7351 valid_loss nan valid_mae nan valid_pear nan test_loss 0.055 test_mae 0.17299999296665192 test_pear 0.3803 time 3.84\n",
            "epoch 80 train_loss 0.0281 train_mae 0.1274999976158142 train_pear 0.7346 valid_loss nan valid_mae nan valid_pear nan test_loss 0.0539 test_mae 0.1720000058412552 test_pear 0.3834 time 4.08\n",
            "epoch 81 train_loss 0.0277 train_mae 0.12690000236034393 train_pear 0.74 valid_loss nan valid_mae nan valid_pear nan test_loss 0.0534 test_mae 0.17180000245571136 test_pear 0.3852 time 3.87\n",
            "epoch 82 train_loss 0.0282 train_mae 0.1281999945640564 train_pear 0.7325 valid_loss nan valid_mae nan valid_pear nan test_loss 0.0549 test_mae 0.17270000278949738 test_pear 0.3821 time 3.72\n",
            "epoch 83 train_loss 0.0276 train_mae 0.12639999389648438 train_pear 0.7402 valid_loss nan valid_mae nan valid_pear nan test_loss 0.0533 test_mae 0.1720999926328659 test_pear 0.3863 time 3.77\n",
            "epoch 84 train_loss 0.028 train_mae 0.12809999287128448 train_pear 0.7362 valid_loss nan valid_mae nan valid_pear nan test_loss 0.0555 test_mae 0.17339999973773956 test_pear 0.3826 time 4.03\n",
            "epoch 85 train_loss 0.0282 train_mae 0.12800000607967377 train_pear 0.735 valid_loss nan valid_mae nan valid_pear nan test_loss 0.0543 test_mae 0.17239999771118164 test_pear 0.3856 time 4.03\n",
            "epoch 86 train_loss 0.028 train_mae 0.12800000607967377 train_pear 0.7368 valid_loss nan valid_mae nan valid_pear nan test_loss 0.053 test_mae 0.17180000245571136 test_pear 0.3897 time 4.03\n",
            "epoch 87 train_loss 0.0284 train_mae 0.12809999287128448 train_pear 0.7312 valid_loss nan valid_mae nan valid_pear nan test_loss 0.0561 test_mae 0.1736000031232834 test_pear 0.3817 time 4.0\n",
            "epoch 88 train_loss 0.0276 train_mae 0.1256999969482422 train_pear 0.7404 valid_loss nan valid_mae nan valid_pear nan test_loss 0.0518 test_mae 0.17149999737739563 test_pear 0.392 time 3.94\n",
            "epoch 89 train_loss 0.0285 train_mae 0.12999999523162842 train_pear 0.7391 valid_loss nan valid_mae nan valid_pear nan test_loss 0.0555 test_mae 0.17229999601840973 test_pear 0.381 time 3.74\n",
            "epoch 90 train_loss 0.0279 train_mae 0.12690000236034393 train_pear 0.7402 valid_loss nan valid_mae nan valid_pear nan test_loss 0.0559 test_mae 0.17270000278949738 test_pear 0.3793 time 3.99\n",
            "epoch 91 train_loss 0.0285 train_mae 0.12720000743865967 train_pear 0.7298 valid_loss nan valid_mae nan valid_pear nan test_loss 0.0522 test_mae 0.17110000550746918 test_pear 0.3886 time 4.03\n",
            "epoch 92 train_loss 0.0273 train_mae 0.1264999955892563 train_pear 0.7452 valid_loss nan valid_mae nan valid_pear nan test_loss 0.0558 test_mae 0.17299999296665192 test_pear 0.3786 time 4.0\n",
            "epoch 93 train_loss 0.0276 train_mae 0.1256999969482422 train_pear 0.7426 valid_loss nan valid_mae nan valid_pear nan test_loss 0.054 test_mae 0.17190000414848328 test_pear 0.3831 time 4.1\n",
            "epoch 94 train_loss 0.0276 train_mae 0.1265999972820282 train_pear 0.7421 valid_loss nan valid_mae nan valid_pear nan test_loss 0.0528 test_mae 0.1720999926328659 test_pear 0.3871 time 4.05\n",
            "epoch 95 train_loss 0.0274 train_mae 0.1273999959230423 train_pear 0.7452 valid_loss nan valid_mae nan valid_pear nan test_loss 0.057 test_mae 0.1753000020980835 test_pear 0.3763 time 4.05\n",
            "epoch 96 train_loss 0.0278 train_mae 0.1264999955892563 train_pear 0.7422 valid_loss nan valid_mae nan valid_pear nan test_loss 0.0547 test_mae 0.17309999465942383 test_pear 0.3815 time 3.87\n",
            "epoch 97 train_loss 0.0275 train_mae 0.12620000541210175 train_pear 0.742 valid_loss nan valid_mae nan valid_pear nan test_loss 0.0529 test_mae 0.17229999601840973 test_pear 0.386 time 3.93\n",
            "epoch 98 train_loss 0.0275 train_mae 0.12639999389648438 train_pear 0.743 valid_loss nan valid_mae nan valid_pear nan test_loss 0.0561 test_mae 0.1737000048160553 test_pear 0.3772 time 3.92\n",
            "epoch 99 train_loss 0.0275 train_mae 0.12530000507831573 train_pear 0.742 valid_loss nan valid_mae nan valid_pear nan test_loss 0.0547 test_mae 0.17229999601840973 test_pear 0.3804 time 3.93\n",
            "epoch 100 train_loss 0.0276 train_mae 0.1266999989748001 train_pear 0.7405 valid_loss nan valid_mae nan valid_pear nan test_loss 0.0538 test_mae 0.17170000076293945 test_pear 0.3831 time 3.67\n",
            "Test performance..\n",
            "Loss 0.0518 MAE 0.17149999737739563 r 0.392\n"
          ],
          "name": "stdout"
        }
      ]
    }
  ]
}