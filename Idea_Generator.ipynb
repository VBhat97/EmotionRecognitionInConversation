{
  "nbformat": 4,
  "nbformat_minor": 0,
  "metadata": {
    "colab": {
      "name": "Idea_Generator.ipynb",
      "provenance": [],
      "collapsed_sections": [],
      "authorship_tag": "ABX9TyM/Xxoe28gdAsMRJ80SvG/s",
      "include_colab_link": true
    },
    "kernelspec": {
      "name": "python3",
      "display_name": "Python 3"
    }
  },
  "cells": [
    {
      "cell_type": "markdown",
      "metadata": {
        "id": "view-in-github",
        "colab_type": "text"
      },
      "source": [
        "<a href=\"https://colab.research.google.com/github/anitayadav3/EmotionRecognitionInConversation/blob/master/Idea_Generator.ipynb\" target=\"_parent\"><img src=\"https://colab.research.google.com/assets/colab-badge.svg\" alt=\"Open In Colab\"/></a>"
      ]
    },
    {
      "cell_type": "code",
      "metadata": {
        "id": "7bYa3pQi_QfF",
        "outputId": "07e2c94d-32fb-4c2e-b35b-739952746cda",
        "colab": {
          "base_uri": "https://localhost:8080/",
          "height": 34
        }
      },
      "source": [
        "from google.colab import drive\n",
        "drive.mount('/content/gdrive')"
      ],
      "execution_count": 1,
      "outputs": [
        {
          "output_type": "stream",
          "text": [
            "Mounted at /content/gdrive\n"
          ],
          "name": "stdout"
        }
      ]
    },
    {
      "cell_type": "markdown",
      "metadata": {
        "id": "SNX4ip8dPCMQ"
      },
      "source": [
        "**Upload this folder on to your linked Google Drive :** https://drive.google.com/drive/folders/1d9xI1SI1F1xqBCIZ9UUvaQN3I-mdVFDl?usp=sharing"
      ]
    },
    {
      "cell_type": "code",
      "metadata": {
        "id": "ZDGtr_Ui_yXN"
      },
      "source": [
        "import pickle"
      ],
      "execution_count": 2,
      "outputs": []
    },
    {
      "cell_type": "markdown",
      "metadata": {
        "id": "ipcSYvt8Oonj"
      },
      "source": [
        "**Run only 1 and go directly to print data**"
      ]
    },
    {
      "cell_type": "markdown",
      "metadata": {
        "id": "NTZZM14xNeMC"
      },
      "source": [
        "**For Sentences**"
      ]
    },
    {
      "cell_type": "code",
      "metadata": {
        "id": "WVLdVrED_zpN"
      },
      "source": [
        "with open('/content/gdrive/My Drive/iemocap/train/sentences.pkl', 'rb') as f:\n",
        "    data = pickle.load(f)"
      ],
      "execution_count": 19,
      "outputs": []
    },
    {
      "cell_type": "markdown",
      "metadata": {
        "id": "KUulFlHJNyE7"
      },
      "source": [
        "**For Labels**"
      ]
    },
    {
      "cell_type": "code",
      "metadata": {
        "id": "oOOqby6VNjxm"
      },
      "source": [
        "with open('/content/gdrive/My Drive/iemocap/train/labels.pkl', 'rb') as f:\n",
        "    data = pickle.load(f)"
      ],
      "execution_count": 15,
      "outputs": []
    },
    {
      "cell_type": "markdown",
      "metadata": {
        "id": "b77B625jODP0"
      },
      "source": [
        "**Video ID's where we have the season names kinda thingy**"
      ]
    },
    {
      "cell_type": "code",
      "metadata": {
        "id": "CA3lBaTFN4Hz"
      },
      "source": [
        "with open('/content/gdrive/My Drive/iemocap/train/video_id.pkl', 'rb') as f:\n",
        "    data = pickle.load(f)"
      ],
      "execution_count": 17,
      "outputs": []
    },
    {
      "cell_type": "markdown",
      "metadata": {
        "id": "V0YzxviQOh-4"
      },
      "source": [
        "**Sentence Lengths**"
      ]
    },
    {
      "cell_type": "code",
      "metadata": {
        "id": "qIuzU5-MORSz"
      },
      "source": [
        "with open('/content/gdrive/My Drive/iemocap/train/sentence_length.pkl', 'rb') as f:\n",
        "    data = pickle.load(f)"
      ],
      "execution_count": 25,
      "outputs": []
    },
    {
      "cell_type": "markdown",
      "metadata": {
        "id": "GpGxieHMOk-Y"
      },
      "source": [
        "**Conversation Lengths**"
      ]
    },
    {
      "cell_type": "code",
      "metadata": {
        "id": "hUsNhv0oOWd_"
      },
      "source": [
        "with open('/content/gdrive/My Drive/iemocap/train/conversation_length.pkl', 'rb') as f:\n",
        "    data = pickle.load(f)"
      ],
      "execution_count": 28,
      "outputs": []
    },
    {
      "cell_type": "code",
      "metadata": {
        "id": "eKKJqSsz_4CT",
        "outputId": "a18f1438-943a-47be-90cb-bf431238e0b0",
        "colab": {
          "base_uri": "https://localhost:8080/",
          "height": 54
        }
      },
      "source": [
        "print(data)"
      ],
      "execution_count": 29,
      "outputs": [
        {
          "output_type": "stream",
          "text": [
            "[52, 37, 28, 18, 57, 87, 38, 77, 35, 26, 53, 32, 54, 47, 26, 50, 26, 51, 33, 53, 43, 53, 40, 72, 34, 110, 60, 64, 47, 54, 46, 26, 62, 34, 63, 40, 66, 66, 53, 79, 26, 47, 45, 45, 18, 56, 83, 50, 37, 47, 74, 41, 47, 34, 59, 51, 69, 27, 63, 54, 54, 24, 44, 60, 47, 35, 60, 26, 63, 27, 39, 46, 20, 35, 51, 53, 61, 69, 51, 42, 42, 29, 52, 38, 62, 78, 69, 56, 8, 61, 94, 53, 26, 59, 58, 42]\n"
          ],
          "name": "stdout"
        }
      ]
    }
  ]
}