{
  "nbformat": 4,
  "nbformat_minor": 0,
  "metadata": {
    "colab": {
      "name": "ELMo on IEMOCAP for ERC.ipynb",
      "provenance": [],
      "authorship_tag": "ABX9TyOw8mGjnBJ9bP/OfKFK8QRA",
      "include_colab_link": true
    },
    "kernelspec": {
      "name": "python3",
      "display_name": "Python 3"
    },
    "accelerator": "GPU"
  },
  "cells": [
    {
      "cell_type": "markdown",
      "metadata": {
        "id": "view-in-github",
        "colab_type": "text"
      },
      "source": [
        "<a href=\"https://colab.research.google.com/github/anitayadav3/EmotionRecognitionInConversation/blob/master/ELMo_on_IEMOCAP_for_ERC.ipynb\" target=\"_parent\"><img src=\"https://colab.research.google.com/assets/colab-badge.svg\" alt=\"Open In Colab\"/></a>"
      ]
    },
    {
      "cell_type": "code",
      "metadata": {
        "id": "xZCiffHPNvA_",
        "outputId": "bdf0133b-cc3a-45f9-ccb1-a0ce3bf807d5",
        "colab": {
          "base_uri": "https://localhost:8080/"
        }
      },
      "source": [
        "%tensorflow_version 1.x"
      ],
      "execution_count": 1,
      "outputs": [
        {
          "output_type": "stream",
          "text": [
            "TensorFlow 1.x selected.\n"
          ],
          "name": "stdout"
        }
      ]
    },
    {
      "cell_type": "markdown",
      "metadata": {
        "id": "X8ZKeZLbUhSV"
      },
      "source": [
        "**This is for ELMo**"
      ]
    },
    {
      "cell_type": "code",
      "metadata": {
        "id": "p3F3fNzhT_r6",
        "outputId": "f4f1c571-df8e-4c33-9bb0-2712c3c61019",
        "colab": {
          "base_uri": "https://localhost:8080/"
        }
      },
      "source": [
        "!pip install tensorflow-hub"
      ],
      "execution_count": 2,
      "outputs": [
        {
          "output_type": "stream",
          "text": [
            "Requirement already satisfied: tensorflow-hub in /usr/local/lib/python3.6/dist-packages (0.9.0)\n",
            "Requirement already satisfied: protobuf>=3.8.0 in /usr/local/lib/python3.6/dist-packages (from tensorflow-hub) (3.12.4)\n",
            "Requirement already satisfied: numpy>=1.12.0 in /usr/local/lib/python3.6/dist-packages (from tensorflow-hub) (1.18.5)\n",
            "Requirement already satisfied: six>=1.12.0 in /usr/local/lib/python3.6/dist-packages (from tensorflow-hub) (1.15.0)\n",
            "Requirement already satisfied: setuptools in /usr/local/lib/python3.6/dist-packages (from protobuf>=3.8.0->tensorflow-hub) (50.3.2)\n"
          ],
          "name": "stdout"
        }
      ]
    },
    {
      "cell_type": "code",
      "metadata": {
        "id": "eF20tZSXUCo5"
      },
      "source": [
        "import tensorflow_hub as hub\n",
        "import tensorflow as tf\n",
        "\n",
        "elmo = hub.Module(\"https://tfhub.dev/google/elmo/2\", trainable=True)"
      ],
      "execution_count": 3,
      "outputs": []
    },
    {
      "cell_type": "code",
      "metadata": {
        "id": "Fy-8FWguUODF"
      },
      "source": [
        "def elmo_vectors(x):\n",
        "  embeddings = elmo(x, signature=\"default\", as_dict=True)[\"elmo\"]\n",
        "\n",
        "  with tf.Session() as sess:\n",
        "    sess.run(tf.global_variables_initializer())\n",
        "    sess.run(tf.tables_initializer())\n",
        "    # return average of ELMo features\n",
        "    return sess.run(tf.reduce_mean(embeddings,1))"
      ],
      "execution_count": 4,
      "outputs": []
    },
    {
      "cell_type": "markdown",
      "metadata": {
        "id": "gRujkt88Ulgp"
      },
      "source": [
        "**This is for Preprocessing and model**"
      ]
    },
    {
      "cell_type": "code",
      "metadata": {
        "id": "gtjUPCP-U0di",
        "outputId": "10a07436-4c77-4e93-beb0-b25b6bc92e2b",
        "colab": {
          "base_uri": "https://localhost:8080/"
        }
      },
      "source": [
        "from google.colab import drive\n",
        "drive.mount('/content/gdrive')"
      ],
      "execution_count": 5,
      "outputs": [
        {
          "output_type": "stream",
          "text": [
            "Mounted at /content/gdrive\n"
          ],
          "name": "stdout"
        }
      ]
    },
    {
      "cell_type": "code",
      "metadata": {
        "id": "E6jhYeovUfUd",
        "outputId": "daad8af3-2e6e-4e82-83c8-4c19c02f48d8",
        "colab": {
          "base_uri": "https://localhost:8080/"
        }
      },
      "source": [
        "import pickle\n",
        "import pandas as pd\n",
        "import numpy as np\n",
        "import keras\n",
        "import itertools\n",
        "from sklearn.model_selection import train_test_split\n",
        "from keras.models import Sequential, Model\n",
        "from keras.layers import Dense, Dropout, LSTM, Embedding, Bidirectional, Input\n",
        "from keras.optimizers import Adam\n",
        "from keras.preprocessing.text import Tokenizer\n",
        "from keras.preprocessing.sequence import pad_sequences\n",
        "from keras.utils.np_utils import to_categorical  \n",
        "\n",
        "from keras.layers import Layer\n",
        "import keras.backend as K"
      ],
      "execution_count": 6,
      "outputs": [
        {
          "output_type": "stream",
          "text": [
            "Using TensorFlow backend.\n"
          ],
          "name": "stderr"
        }
      ]
    },
    {
      "cell_type": "code",
      "metadata": {
        "id": "Vj5LA9JPUuY1"
      },
      "source": [
        "with open('/content/gdrive/My Drive/iemocap/train/sentences.pkl', 'rb') as f:\n",
        "    data = pickle.load(f)\n",
        "with open('/content/gdrive/My Drive/iemocap/train/labels.pkl', 'rb') as f:\n",
        "    labels = pickle.load(f)\n",
        "with open('/content/gdrive/My Drive/iemocap/test/sentences.pkl', 'rb') as f:\n",
        "    test_data = pickle.load(f)\n",
        "with open('/content/gdrive/My Drive/iemocap/test/labels.pkl', 'rb') as f:\n",
        "    test_labels = pickle.load(f)"
      ],
      "execution_count": 7,
      "outputs": []
    },
    {
      "cell_type": "code",
      "metadata": {
        "id": "npjL2csXU3cZ"
      },
      "source": [
        "def preprocessing(data,labels):\n",
        "  processed_data=[]\n",
        "  processed_label=[]\n",
        "  for i in range(0,len(data)):\n",
        "    for j in range(0,len(data[i])):\n",
        "      intermediate_data=[]\n",
        "      intermediate_label=[]\n",
        "      for k in range(0,len(data[i][j])):\n",
        "        text=data[i][j][k]\n",
        "        if text != '<eos>'and text!='<pad>':\n",
        "          intermediate_data.append(text)\n",
        "      processed_data.append(intermediate_data)\n",
        "  for i in labels:\n",
        "    for j in i:\n",
        "      processed_label.append(j)\n",
        "  return processed_data,processed_label"
      ],
      "execution_count": 8,
      "outputs": []
    },
    {
      "cell_type": "code",
      "metadata": {
        "id": "R17I0SpEU8fK"
      },
      "source": [
        "processed_data,processed_label = preprocessing(data,labels)\n",
        "test_processed_data,test_processed_label = preprocessing(test_data,test_labels)"
      ],
      "execution_count": 9,
      "outputs": []
    },
    {
      "cell_type": "code",
      "metadata": {
        "id": "HngIF4UodyGF"
      },
      "source": [
        "for i in range(0,len(processed_data)):\n",
        "  processed_data[i]= ' '.join(processed_data[i])"
      ],
      "execution_count": 10,
      "outputs": []
    },
    {
      "cell_type": "code",
      "metadata": {
        "id": "CgHpnnLIeoq2"
      },
      "source": [
        "for i in range(0,len(test_processed_data)):\n",
        "  test_processed_data[i]=' '.join(test_processed_data[i])"
      ],
      "execution_count": 11,
      "outputs": []
    },
    {
      "cell_type": "code",
      "metadata": {
        "id": "qNyBjIg5hz2s"
      },
      "source": [
        "def create_batches(data):\n",
        "  count=0\n",
        "  temp=[]\n",
        "  batches=[]\n",
        "  for i in data:\n",
        "    count=count+1\n",
        "    temp.append(i)\n",
        "    if count%100==0:\n",
        "      count=0\n",
        "      batches.append(temp)\n",
        "      temp=[]\n",
        "  return batches"
      ],
      "execution_count": 31,
      "outputs": []
    },
    {
      "cell_type": "code",
      "metadata": {
        "id": "6KsISTFvjmti"
      },
      "source": [
        "list_train = create_batches(processed_data)\n",
        "list_test = create_batches(test_processed_data)"
      ],
      "execution_count": 35,
      "outputs": []
    },
    {
      "cell_type": "code",
      "metadata": {
        "id": "zSaGSgzLc19f",
        "outputId": "7081655d-7b2c-48dc-8fe7-b2d7af39ffe3",
        "colab": {
          "base_uri": "https://localhost:8080/"
        }
      },
      "source": [
        "elmo_train = elmo_vectors(processed_data)\n",
        "elmo_test = elmo_vectors(test_processed_data)"
      ],
      "execution_count": null,
      "outputs": [
        {
          "output_type": "stream",
          "text": [
            "INFO:tensorflow:Saver not created because there are no variables in the graph to restore\n"
          ],
          "name": "stdout"
        },
        {
          "output_type": "stream",
          "text": [
            "INFO:tensorflow:Saver not created because there are no variables in the graph to restore\n"
          ],
          "name": "stderr"
        }
      ]
    },
    {
      "cell_type": "code",
      "metadata": {
        "id": "IZoNfn2ggrBD"
      },
      "source": [
        "# save elmo_train_new\n",
        "pickle_out = open(\"elmo_train_03032019.pickle\",\"wb\")\n",
        "pickle.dump(elmo_train_new, pickle_out)\n",
        "pickle_out.close()\n",
        "\n",
        "# save elmo_test_new\n",
        "pickle_out = open(\"elmo_test_03032019.pickle\",\"wb\")\n",
        "pickle.dump(elmo_test_new, pickle_out)\n",
        "pickle_out.close()"
      ],
      "execution_count": null,
      "outputs": []
    }
  ]
}