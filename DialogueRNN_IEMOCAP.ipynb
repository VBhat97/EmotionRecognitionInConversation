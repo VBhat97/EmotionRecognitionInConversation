{
  "nbformat": 4,
  "nbformat_minor": 0,
  "metadata": {
    "colab": {
      "name": "DialogueRNN_IEMOCAP.ipynb",
      "provenance": [],
      "include_colab_link": true
    },
    "kernelspec": {
      "name": "python3",
      "display_name": "Python 3"
    },
    "accelerator": "GPU"
  },
  "cells": [
    {
      "cell_type": "markdown",
      "metadata": {
        "id": "view-in-github",
        "colab_type": "text"
      },
      "source": [
        "<a href=\"https://colab.research.google.com/github/anitayadav3/EmotionRecognitionInConversation/blob/master/DialogueRNN_IEMOCAP.ipynb\" target=\"_parent\"><img src=\"https://colab.research.google.com/assets/colab-badge.svg\" alt=\"Open In Colab\"/></a>"
      ]
    },
    {
      "cell_type": "code",
      "metadata": {
        "id": "pMPy2Xc47HW-",
        "colab_type": "code",
        "colab": {
          "base_uri": "https://localhost:8080/",
          "height": 558
        },
        "outputId": "25450fa6-b184-45e8-fb08-520e77cc812b"
      },
      "source": [
        "!pip install tensorboardX\n",
        "!pip install pytorch_pretrained_bert"
      ],
      "execution_count": null,
      "outputs": [
        {
          "output_type": "stream",
          "text": [
            "Collecting tensorboardX\n",
            "\u001b[?25l  Downloading https://files.pythonhosted.org/packages/af/0c/4f41bcd45db376e6fe5c619c01100e9b7531c55791b7244815bac6eac32c/tensorboardX-2.1-py2.py3-none-any.whl (308kB)\n",
            "\r\u001b[K     |█                               | 10kB 17.9MB/s eta 0:00:01\r\u001b[K     |██▏                             | 20kB 2.9MB/s eta 0:00:01\r\u001b[K     |███▏                            | 30kB 3.6MB/s eta 0:00:01\r\u001b[K     |████▎                           | 40kB 4.0MB/s eta 0:00:01\r\u001b[K     |█████▎                          | 51kB 3.4MB/s eta 0:00:01\r\u001b[K     |██████▍                         | 61kB 3.7MB/s eta 0:00:01\r\u001b[K     |███████▍                        | 71kB 4.2MB/s eta 0:00:01\r\u001b[K     |████████▌                       | 81kB 4.6MB/s eta 0:00:01\r\u001b[K     |█████████▌                      | 92kB 4.7MB/s eta 0:00:01\r\u001b[K     |██████████▋                     | 102kB 4.6MB/s eta 0:00:01\r\u001b[K     |███████████▊                    | 112kB 4.6MB/s eta 0:00:01\r\u001b[K     |████████████▊                   | 122kB 4.6MB/s eta 0:00:01\r\u001b[K     |█████████████▉                  | 133kB 4.6MB/s eta 0:00:01\r\u001b[K     |██████████████▉                 | 143kB 4.6MB/s eta 0:00:01\r\u001b[K     |████████████████                | 153kB 4.6MB/s eta 0:00:01\r\u001b[K     |█████████████████               | 163kB 4.6MB/s eta 0:00:01\r\u001b[K     |██████████████████              | 174kB 4.6MB/s eta 0:00:01\r\u001b[K     |███████████████████             | 184kB 4.6MB/s eta 0:00:01\r\u001b[K     |████████████████████▏           | 194kB 4.6MB/s eta 0:00:01\r\u001b[K     |█████████████████████▎          | 204kB 4.6MB/s eta 0:00:01\r\u001b[K     |██████████████████████▎         | 215kB 4.6MB/s eta 0:00:01\r\u001b[K     |███████████████████████▍        | 225kB 4.6MB/s eta 0:00:01\r\u001b[K     |████████████████████████▍       | 235kB 4.6MB/s eta 0:00:01\r\u001b[K     |█████████████████████████▌      | 245kB 4.6MB/s eta 0:00:01\r\u001b[K     |██████████████████████████▌     | 256kB 4.6MB/s eta 0:00:01\r\u001b[K     |███████████████████████████▋    | 266kB 4.6MB/s eta 0:00:01\r\u001b[K     |████████████████████████████▋   | 276kB 4.6MB/s eta 0:00:01\r\u001b[K     |█████████████████████████████▊  | 286kB 4.6MB/s eta 0:00:01\r\u001b[K     |██████████████████████████████▊ | 296kB 4.6MB/s eta 0:00:01\r\u001b[K     |███████████████████████████████▉| 307kB 4.6MB/s eta 0:00:01\r\u001b[K     |████████████████████████████████| 317kB 4.6MB/s \n",
            "\u001b[?25hRequirement already satisfied: protobuf>=3.8.0 in /usr/local/lib/python3.6/dist-packages (from tensorboardX) (3.12.4)\n",
            "Requirement already satisfied: numpy in /usr/local/lib/python3.6/dist-packages (from tensorboardX) (1.18.5)\n",
            "Requirement already satisfied: six in /usr/local/lib/python3.6/dist-packages (from tensorboardX) (1.15.0)\n",
            "Requirement already satisfied: setuptools in /usr/local/lib/python3.6/dist-packages (from protobuf>=3.8.0->tensorboardX) (50.3.0)\n",
            "Installing collected packages: tensorboardX\n",
            "Successfully installed tensorboardX-2.1\n",
            "Collecting pytorch_pretrained_bert\n",
            "\u001b[?25l  Downloading https://files.pythonhosted.org/packages/d7/e0/c08d5553b89973d9a240605b9c12404bcf8227590de62bae27acbcfe076b/pytorch_pretrained_bert-0.6.2-py3-none-any.whl (123kB)\n",
            "\u001b[K     |████████████████████████████████| 133kB 4.6MB/s \n",
            "\u001b[?25hRequirement already satisfied: boto3 in /usr/local/lib/python3.6/dist-packages (from pytorch_pretrained_bert) (1.14.63)\n",
            "Requirement already satisfied: regex in /usr/local/lib/python3.6/dist-packages (from pytorch_pretrained_bert) (2019.12.20)\n",
            "Requirement already satisfied: tqdm in /usr/local/lib/python3.6/dist-packages (from pytorch_pretrained_bert) (4.41.1)\n",
            "Requirement already satisfied: torch>=0.4.1 in /usr/local/lib/python3.6/dist-packages (from pytorch_pretrained_bert) (1.6.0+cu101)\n",
            "Requirement already satisfied: requests in /usr/local/lib/python3.6/dist-packages (from pytorch_pretrained_bert) (2.23.0)\n",
            "Requirement already satisfied: numpy in /usr/local/lib/python3.6/dist-packages (from pytorch_pretrained_bert) (1.18.5)\n",
            "Requirement already satisfied: jmespath<1.0.0,>=0.7.1 in /usr/local/lib/python3.6/dist-packages (from boto3->pytorch_pretrained_bert) (0.10.0)\n",
            "Requirement already satisfied: botocore<1.18.0,>=1.17.63 in /usr/local/lib/python3.6/dist-packages (from boto3->pytorch_pretrained_bert) (1.17.63)\n",
            "Requirement already satisfied: s3transfer<0.4.0,>=0.3.0 in /usr/local/lib/python3.6/dist-packages (from boto3->pytorch_pretrained_bert) (0.3.3)\n",
            "Requirement already satisfied: future in /usr/local/lib/python3.6/dist-packages (from torch>=0.4.1->pytorch_pretrained_bert) (0.16.0)\n",
            "Requirement already satisfied: certifi>=2017.4.17 in /usr/local/lib/python3.6/dist-packages (from requests->pytorch_pretrained_bert) (2020.6.20)\n",
            "Requirement already satisfied: chardet<4,>=3.0.2 in /usr/local/lib/python3.6/dist-packages (from requests->pytorch_pretrained_bert) (3.0.4)\n",
            "Requirement already satisfied: urllib3!=1.25.0,!=1.25.1,<1.26,>=1.21.1 in /usr/local/lib/python3.6/dist-packages (from requests->pytorch_pretrained_bert) (1.24.3)\n",
            "Requirement already satisfied: idna<3,>=2.5 in /usr/local/lib/python3.6/dist-packages (from requests->pytorch_pretrained_bert) (2.10)\n",
            "Requirement already satisfied: python-dateutil<3.0.0,>=2.1 in /usr/local/lib/python3.6/dist-packages (from botocore<1.18.0,>=1.17.63->boto3->pytorch_pretrained_bert) (2.8.1)\n",
            "Requirement already satisfied: docutils<0.16,>=0.10 in /usr/local/lib/python3.6/dist-packages (from botocore<1.18.0,>=1.17.63->boto3->pytorch_pretrained_bert) (0.15.2)\n",
            "Requirement already satisfied: six>=1.5 in /usr/local/lib/python3.6/dist-packages (from python-dateutil<3.0.0,>=2.1->botocore<1.18.0,>=1.17.63->boto3->pytorch_pretrained_bert) (1.15.0)\n",
            "Installing collected packages: pytorch-pretrained-bert\n",
            "Successfully installed pytorch-pretrained-bert-0.6.2\n"
          ],
          "name": "stdout"
        }
      ]
    },
    {
      "cell_type": "code",
      "metadata": {
        "id": "ffL9Ngmv9LgA",
        "colab_type": "code",
        "colab": {
          "base_uri": "https://localhost:8080/",
          "height": 34
        },
        "outputId": "39ec7a3d-73fd-45a4-86fa-fdf34124ee44"
      },
      "source": [
        "from google.colab import drive\n",
        "drive.mount('/content/gdrive')"
      ],
      "execution_count": 1,
      "outputs": [
        {
          "output_type": "stream",
          "text": [
            "Mounted at /content/gdrive\n"
          ],
          "name": "stdout"
        }
      ]
    },
    {
      "cell_type": "code",
      "metadata": {
        "id": "E11SeqCHJ31S",
        "colab_type": "code",
        "colab": {
          "base_uri": "https://localhost:8080/",
          "height": 34
        },
        "outputId": "7fec39e0-faf5-4e83-cc7a-11f3dbfada6b"
      },
      "source": [
        "%cd /content/gdrive/My Drive/DialogueGCN"
      ],
      "execution_count": null,
      "outputs": [
        {
          "output_type": "stream",
          "text": [
            "/content/gdrive/My Drive/DialogueGCN\n"
          ],
          "name": "stdout"
        }
      ]
    },
    {
      "cell_type": "code",
      "metadata": {
        "id": "ul56QTT6KWIZ",
        "colab_type": "code",
        "colab": {
          "base_uri": "https://localhost:8080/",
          "height": 843
        },
        "outputId": "e6097bcd-d782-4b9a-b94d-1d278acacb06"
      },
      "source": [
        "!pip install torch_geometric"
      ],
      "execution_count": null,
      "outputs": [
        {
          "output_type": "stream",
          "text": [
            "Collecting torch_geometric\n",
            "\u001b[?25l  Downloading https://files.pythonhosted.org/packages/88/67/6c0bce6b6e6bc806e25d996e46a686e5a11254d89257983265a988bb02ee/torch_geometric-1.6.1.tar.gz (178kB)\n",
            "\u001b[K     |████████████████████████████████| 184kB 4.9MB/s \n",
            "\u001b[?25hRequirement already satisfied: torch in /usr/local/lib/python3.6/dist-packages (from torch_geometric) (1.6.0+cu101)\n",
            "Requirement already satisfied: numpy in /usr/local/lib/python3.6/dist-packages (from torch_geometric) (1.18.5)\n",
            "Requirement already satisfied: tqdm in /usr/local/lib/python3.6/dist-packages (from torch_geometric) (4.41.1)\n",
            "Requirement already satisfied: scipy in /usr/local/lib/python3.6/dist-packages (from torch_geometric) (1.4.1)\n",
            "Requirement already satisfied: networkx in /usr/local/lib/python3.6/dist-packages (from torch_geometric) (2.5)\n",
            "Requirement already satisfied: scikit-learn in /usr/local/lib/python3.6/dist-packages (from torch_geometric) (0.22.2.post1)\n",
            "Requirement already satisfied: numba in /usr/local/lib/python3.6/dist-packages (from torch_geometric) (0.48.0)\n",
            "Requirement already satisfied: requests in /usr/local/lib/python3.6/dist-packages (from torch_geometric) (2.23.0)\n",
            "Requirement already satisfied: pandas in /usr/local/lib/python3.6/dist-packages (from torch_geometric) (1.0.5)\n",
            "Collecting rdflib\n",
            "\u001b[?25l  Downloading https://files.pythonhosted.org/packages/d0/6b/6454aa1db753c0f8bc265a5bd5c10b5721a4bb24160fb4faf758cf6be8a1/rdflib-5.0.0-py3-none-any.whl (231kB)\n",
            "\u001b[K     |████████████████████████████████| 235kB 15.0MB/s \n",
            "\u001b[?25hRequirement already satisfied: h5py in /usr/local/lib/python3.6/dist-packages (from torch_geometric) (2.10.0)\n",
            "Requirement already satisfied: googledrivedownloader in /usr/local/lib/python3.6/dist-packages (from torch_geometric) (0.4)\n",
            "Collecting ase\n",
            "\u001b[?25l  Downloading https://files.pythonhosted.org/packages/51/78/edadb45c7f26f8fbb99da81feadb561c26bb0393b6c5d1ac200ecdc12d61/ase-3.20.1-py3-none-any.whl (2.2MB)\n",
            "\u001b[K     |████████████████████████████████| 2.2MB 15.5MB/s \n",
            "\u001b[?25hRequirement already satisfied: jinja2 in /usr/local/lib/python3.6/dist-packages (from torch_geometric) (2.11.2)\n",
            "Requirement already satisfied: future in /usr/local/lib/python3.6/dist-packages (from torch->torch_geometric) (0.16.0)\n",
            "Requirement already satisfied: decorator>=4.3.0 in /usr/local/lib/python3.6/dist-packages (from networkx->torch_geometric) (4.4.2)\n",
            "Requirement already satisfied: joblib>=0.11 in /usr/local/lib/python3.6/dist-packages (from scikit-learn->torch_geometric) (0.16.0)\n",
            "Requirement already satisfied: setuptools in /usr/local/lib/python3.6/dist-packages (from numba->torch_geometric) (50.3.0)\n",
            "Requirement already satisfied: llvmlite<0.32.0,>=0.31.0dev0 in /usr/local/lib/python3.6/dist-packages (from numba->torch_geometric) (0.31.0)\n",
            "Requirement already satisfied: chardet<4,>=3.0.2 in /usr/local/lib/python3.6/dist-packages (from requests->torch_geometric) (3.0.4)\n",
            "Requirement already satisfied: idna<3,>=2.5 in /usr/local/lib/python3.6/dist-packages (from requests->torch_geometric) (2.10)\n",
            "Requirement already satisfied: certifi>=2017.4.17 in /usr/local/lib/python3.6/dist-packages (from requests->torch_geometric) (2020.6.20)\n",
            "Requirement already satisfied: urllib3!=1.25.0,!=1.25.1,<1.26,>=1.21.1 in /usr/local/lib/python3.6/dist-packages (from requests->torch_geometric) (1.24.3)\n",
            "Requirement already satisfied: python-dateutil>=2.6.1 in /usr/local/lib/python3.6/dist-packages (from pandas->torch_geometric) (2.8.1)\n",
            "Requirement already satisfied: pytz>=2017.2 in /usr/local/lib/python3.6/dist-packages (from pandas->torch_geometric) (2018.9)\n",
            "Requirement already satisfied: pyparsing in /usr/local/lib/python3.6/dist-packages (from rdflib->torch_geometric) (2.4.7)\n",
            "Requirement already satisfied: six in /usr/local/lib/python3.6/dist-packages (from rdflib->torch_geometric) (1.15.0)\n",
            "Collecting isodate\n",
            "\u001b[?25l  Downloading https://files.pythonhosted.org/packages/9b/9f/b36f7774ff5ea8e428fdcfc4bb332c39ee5b9362ddd3d40d9516a55221b2/isodate-0.6.0-py2.py3-none-any.whl (45kB)\n",
            "\u001b[K     |████████████████████████████████| 51kB 8.7MB/s \n",
            "\u001b[?25hRequirement already satisfied: matplotlib>=2.0.0 in /usr/local/lib/python3.6/dist-packages (from ase->torch_geometric) (3.2.2)\n",
            "Requirement already satisfied: MarkupSafe>=0.23 in /usr/local/lib/python3.6/dist-packages (from jinja2->torch_geometric) (1.1.1)\n",
            "Requirement already satisfied: cycler>=0.10 in /usr/local/lib/python3.6/dist-packages (from matplotlib>=2.0.0->ase->torch_geometric) (0.10.0)\n",
            "Requirement already satisfied: kiwisolver>=1.0.1 in /usr/local/lib/python3.6/dist-packages (from matplotlib>=2.0.0->ase->torch_geometric) (1.2.0)\n",
            "Building wheels for collected packages: torch-geometric\n",
            "  Building wheel for torch-geometric (setup.py) ... \u001b[?25l\u001b[?25hdone\n",
            "  Created wheel for torch-geometric: filename=torch_geometric-1.6.1-cp36-none-any.whl size=308552 sha256=3c7e2fcb3f65c716e0d18149594a58aedccfca895f5641b2478b78048e364c17\n",
            "  Stored in directory: /root/.cache/pip/wheels/e6/25/ea/3d71d2088dccc63214fa59259dcc598ded4150a5f8b41d84ff\n",
            "Successfully built torch-geometric\n",
            "Installing collected packages: isodate, rdflib, ase, torch-geometric\n",
            "Successfully installed ase-3.20.1 isodate-0.6.0 rdflib-5.0.0 torch-geometric-1.6.1\n"
          ],
          "name": "stdout"
        }
      ]
    },
    {
      "cell_type": "code",
      "metadata": {
        "id": "lGkdRLGlKpxy",
        "colab_type": "code",
        "colab": {
          "base_uri": "https://localhost:8080/",
          "height": 222
        },
        "outputId": "a77d6597-98c2-4be0-ed2b-5aab16b9897e"
      },
      "source": [
        "!pip install torch_sparse"
      ],
      "execution_count": null,
      "outputs": [
        {
          "output_type": "stream",
          "text": [
            "Collecting torch_sparse\n",
            "  Using cached https://files.pythonhosted.org/packages/ce/c0/f5ccc280629765cf1e97b601426cad6170d00603cf9836ba52f85d44ac27/torch_sparse-0.6.7.tar.gz\n",
            "Requirement already satisfied: scipy in /usr/local/lib/python3.6/dist-packages (from torch_sparse) (1.4.1)\n",
            "Requirement already satisfied: numpy>=1.13.3 in /usr/local/lib/python3.6/dist-packages (from scipy->torch_sparse) (1.18.5)\n",
            "Building wheels for collected packages: torch-sparse\n",
            "  Building wheel for torch-sparse (setup.py) ... \u001b[?25l\u001b[?25hdone\n",
            "  Created wheel for torch-sparse: filename=torch_sparse-0.6.7-cp36-cp36m-linux_x86_64.whl size=22081698 sha256=23c8dfb223c565cb4f02ac6fb3711df2e350a8c456ff41678cf2bc0bd7e32b5b\n",
            "  Stored in directory: /root/.cache/pip/wheels/56/54/57/495938ad744a865b8933e76fa71853495f2ac476475d49a9a2\n",
            "Successfully built torch-sparse\n",
            "Installing collected packages: torch-sparse\n",
            "Successfully installed torch-sparse-0.6.7\n"
          ],
          "name": "stdout"
        }
      ]
    },
    {
      "cell_type": "code",
      "metadata": {
        "id": "fPmAS7KfPymU",
        "colab_type": "code",
        "colab": {
          "base_uri": "https://localhost:8080/",
          "height": 188
        },
        "outputId": "b5fe77b4-e248-4844-8eed-b50d8fe7a1ad"
      },
      "source": [
        "!pip install torch_scatter"
      ],
      "execution_count": null,
      "outputs": [
        {
          "output_type": "stream",
          "text": [
            "Collecting torch_scatter\n",
            "  Downloading https://files.pythonhosted.org/packages/01/45/cd93ed3227248773ba8bc4b3beaa04e8bddb127a793a41bad875369951b3/torch_scatter-2.0.5.tar.gz\n",
            "Building wheels for collected packages: torch-scatter\n",
            "  Building wheel for torch-scatter (setup.py) ... \u001b[?25l\u001b[?25hdone\n",
            "  Created wheel for torch-scatter: filename=torch_scatter-2.0.5-cp36-cp36m-linux_x86_64.whl size=11359537 sha256=aac5620f7a6d436aec69f46e4cf8382791097b1c796fe49af9a3ad9408e371a8\n",
            "  Stored in directory: /root/.cache/pip/wheels/42/59/d3/9866e4fd8e1fe9260740acfe22322c428bc0dc064d3ebc456c\n",
            "Successfully built torch-scatter\n",
            "Installing collected packages: torch-scatter\n",
            "Successfully installed torch-scatter-2.0.5\n"
          ],
          "name": "stdout"
        }
      ]
    },
    {
      "cell_type": "code",
      "metadata": {
        "id": "rkknuZjTJeNb",
        "colab_type": "code",
        "colab": {
          "base_uri": "https://localhost:8080/",
          "height": 440
        },
        "outputId": "e37aa1cd-a49a-4378-8cb8-75a6fa4ae4dc"
      },
      "source": [
        "!python train_IEMOCAP.py --base-model 'LSTM' --graph-model --nodal-attention --dropout 0.4 --lr 0.0003 --batch-size 32 --class-weight --l2 0.0 --no-cuda"
      ],
      "execution_count": null,
      "outputs": [
        {
          "output_type": "stream",
          "text": [
            "Namespace(active_listener=False, attention='general', base_model='LSTM', batch_size=32, class_weight=True, dropout=0.4, epochs=60, graph_model=True, l2=0.0, lr=0.0003, no_cuda=True, nodal_attention=True, rec_dropout=0.1, tensorboard=False, windowf=10, windowp=10)\n",
            "Running on CPU\n",
            "Graph NN with LSTM as base model.\n",
            "train_IEMOCAP.py:140: UserWarning: This overload of nonzero is deprecated:\n",
            "\tnonzero()\n",
            "Consider using one of the following signatures instead:\n",
            "\tnonzero(*, bool as_tuple) (Triggered internally at  /pytorch/torch/csrc/utils/python_arg_parser.cpp:766.)\n",
            "  lengths = [(umask[j] == 1).nonzero().tolist()[-1][0] + 1 for j in range(len(umask))]\n",
            "Traceback (most recent call last):\n",
            "  File \"train_IEMOCAP.py\", line 333, in <module>\n",
            "    train_loss, train_acc, _, _, train_fscore, _, _, _, _, _ = train_or_eval_graph_model(model, loss_function, train_loader, e, cuda, optimizer, True)\n",
            "  File \"train_IEMOCAP.py\", line 142, in train_or_eval_graph_model\n",
            "    log_prob, e_i, e_n, e_t, e_l = model(textf, qmask, umask, lengths)\n",
            "  File \"/usr/local/lib/python3.6/dist-packages/torch/nn/modules/module.py\", line 722, in _call_impl\n",
            "    result = self.forward(*input, **kwargs)\n",
            "  File \"/content/gdrive/My Drive/DialogueGCN/model.py\", line 906, in forward\n",
            "    log_prob = self.graph_net(features, edge_index, edge_norm, edge_type, seq_lengths, umask, self.nodal_attention, self.avec)\n",
            "  File \"/usr/local/lib/python3.6/dist-packages/torch/nn/modules/module.py\", line 722, in _call_impl\n",
            "    result = self.forward(*input, **kwargs)\n",
            "  File \"/content/gdrive/My Drive/DialogueGCN/model.py\", line 806, in forward\n",
            "    out = self.conv1(x, edge_index, edge_type, edge_norm)\n",
            "  File \"/usr/local/lib/python3.6/dist-packages/torch/nn/modules/module.py\", line 722, in _call_impl\n",
            "    result = self.forward(*input, **kwargs)\n",
            "TypeError: forward() takes from 3 to 4 positional arguments but 5 were given\n"
          ],
          "name": "stdout"
        }
      ]
    },
    {
      "cell_type": "code",
      "metadata": {
        "id": "tbP6juklTFuC",
        "colab_type": "code",
        "colab": {
          "base_uri": "https://localhost:8080/",
          "height": 34
        },
        "outputId": "e3e584d6-0682-4ae5-b5d0-4b6305aa72b2"
      },
      "source": [
        "%cd /content/gdrive/My Drive/DialogueGCN-mianzhang\n"
      ],
      "execution_count": null,
      "outputs": [
        {
          "output_type": "stream",
          "text": [
            "/content/gdrive/My Drive/DialogueGCN-mianzhang\n"
          ],
          "name": "stdout"
        }
      ]
    },
    {
      "cell_type": "code",
      "metadata": {
        "id": "FlI5VDL0Tg7Q",
        "colab_type": "code",
        "colab": {
          "base_uri": "https://localhost:8080/",
          "height": 34
        },
        "outputId": "e801ccbe-14e3-426a-e4b4-220114b49bad"
      },
      "source": [
        "%cd scripts/ "
      ],
      "execution_count": null,
      "outputs": [
        {
          "output_type": "stream",
          "text": [
            "/content/gdrive/My Drive/DialogueGCN-mianzhang/scripts\n"
          ],
          "name": "stdout"
        }
      ]
    },
    {
      "cell_type": "code",
      "metadata": {
        "id": "hYbRtLwMs5zN",
        "colab_type": "code",
        "colab": {
          "base_uri": "https://localhost:8080/",
          "height": 34
        },
        "outputId": "6254be5c-82ec-4f61-8889-3e7eeb46a7e6"
      },
      "source": [
        "%cd /content/gdrive/My Drive/DialogueRNN"
      ],
      "execution_count": 4,
      "outputs": [
        {
          "output_type": "stream",
          "text": [
            "/content/gdrive/My Drive/DialogueRNN\n"
          ],
          "name": "stdout"
        }
      ]
    },
    {
      "cell_type": "code",
      "metadata": {
        "id": "L8lbv2Iss1M_",
        "colab_type": "code",
        "colab": {
          "base_uri": "https://localhost:8080/",
          "height": 1000
        },
        "outputId": "c5e35dd3-1851-4440-f67b-a02ae5bff48d"
      },
      "source": [
        "!python train_IEMOCAP.py --dropout 0.4 --lr 0.0003 --batch-size 32 --class-weight --l2 0.0"
      ],
      "execution_count": 5,
      "outputs": [
        {
          "output_type": "stream",
          "text": [
            "Namespace(active_listener=False, attention='general', batch_size=32, class_weight=True, dropout=0.4, epochs=60, l2=0.0, lr=0.0003, no_cuda=False, rec_dropout=0.1, tensorboard=False)\n",
            "Running on GPU\n",
            "epoch 1 train_loss 1.6796 train_acc 37.61 train_fscore38.94 valid_loss nan valid_acc nan val_fscorenan test_loss 1.5209 test_acc 57.42 test_fscore 54.02 time 8.54\n",
            "epoch 2 train_loss 1.256 train_acc 61.14 train_fscore59.66 valid_loss nan valid_acc nan val_fscorenan test_loss 1.1789 test_acc 61.61 test_fscore 59.06 time 8.13\n",
            "epoch 3 train_loss 0.9152 train_acc 66.78 train_fscore66.0 valid_loss nan valid_acc nan val_fscorenan test_loss 0.9686 test_acc 64.26 test_fscore 62.95 time 7.87\n",
            "epoch 4 train_loss 0.7564 train_acc 70.88 train_fscore70.59 valid_loss nan valid_acc nan val_fscorenan test_loss 0.9402 test_acc 62.6 test_fscore 61.85 time 7.67\n",
            "epoch 5 train_loss 0.6904 train_acc 74.56 train_fscore74.52 valid_loss nan valid_acc nan val_fscorenan test_loss 0.9481 test_acc 61.92 test_fscore 61.25 time 8.23\n",
            "epoch 6 train_loss 0.6234 train_acc 78.76 train_fscore78.69 valid_loss nan valid_acc nan val_fscorenan test_loss 0.9458 test_acc 62.97 test_fscore 62.34 time 8.15\n",
            "epoch 7 train_loss 0.5607 train_acc 81.84 train_fscore81.8 valid_loss nan valid_acc nan val_fscorenan test_loss 0.964 test_acc 62.05 test_fscore 61.74 time 7.96\n",
            "epoch 8 train_loss 0.4947 train_acc 84.78 train_fscore84.84 valid_loss nan valid_acc nan val_fscorenan test_loss 1.0356 test_acc 61.12 test_fscore 61.4 time 7.97\n",
            "epoch 9 train_loss 0.4481 train_acc 86.33 train_fscore86.38 valid_loss nan valid_acc nan val_fscorenan test_loss 1.0776 test_acc 60.32 test_fscore 60.32 time 8.33\n",
            "epoch 10 train_loss 0.4048 train_acc 88.0 train_fscore88.02 valid_loss nan valid_acc nan val_fscorenan test_loss 1.1009 test_acc 59.7 test_fscore 59.71 time 8.3\n",
            "epoch 11 train_loss 0.3791 train_acc 89.14 train_fscore89.16 valid_loss nan valid_acc nan val_fscorenan test_loss 1.1043 test_acc 60.14 test_fscore 60.25 time 8.77\n",
            "epoch 12 train_loss 0.3515 train_acc 90.09 train_fscore90.11 valid_loss nan valid_acc nan val_fscorenan test_loss 1.117 test_acc 59.95 test_fscore 60.14 time 8.37\n",
            "epoch 13 train_loss 0.3298 train_acc 90.67 train_fscore90.69 valid_loss nan valid_acc nan val_fscorenan test_loss 1.1441 test_acc 60.32 test_fscore 60.38 time 8.06\n",
            "epoch 14 train_loss 0.3155 train_acc 91.22 train_fscore91.22 valid_loss nan valid_acc nan val_fscorenan test_loss 1.1847 test_acc 59.64 test_fscore 59.6 time 8.59\n",
            "epoch 15 train_loss 0.2929 train_acc 91.45 train_fscore91.45 valid_loss nan valid_acc nan val_fscorenan test_loss 1.2364 test_acc 59.33 test_fscore 59.39 time 8.25\n",
            "epoch 16 train_loss 0.2764 train_acc 92.89 train_fscore92.89 valid_loss nan valid_acc nan val_fscorenan test_loss 1.2798 test_acc 58.47 test_fscore 58.52 time 8.66\n",
            "epoch 17 train_loss 0.2756 train_acc 92.69 train_fscore92.69 valid_loss nan valid_acc nan val_fscorenan test_loss 1.2695 test_acc 59.09 test_fscore 59.16 time 8.28\n",
            "epoch 18 train_loss 0.2566 train_acc 92.89 train_fscore92.89 valid_loss nan valid_acc nan val_fscorenan test_loss 1.278 test_acc 58.78 test_fscore 58.81 time 7.62\n",
            "epoch 19 train_loss 0.2589 train_acc 93.05 train_fscore93.05 valid_loss nan valid_acc nan val_fscorenan test_loss 1.2792 test_acc 58.1 test_fscore 57.97 time 8.32\n",
            "epoch 20 train_loss 0.2441 train_acc 93.12 train_fscore93.11 valid_loss nan valid_acc nan val_fscorenan test_loss 1.297 test_acc 57.92 test_fscore 57.73 time 8.27\n",
            "epoch 21 train_loss 0.2288 train_acc 93.82 train_fscore93.81 valid_loss nan valid_acc nan val_fscorenan test_loss 1.3677 test_acc 56.87 test_fscore 56.62 time 7.53\n",
            "epoch 22 train_loss 0.2289 train_acc 93.89 train_fscore93.89 valid_loss nan valid_acc nan val_fscorenan test_loss 1.3829 test_acc 56.81 test_fscore 56.53 time 7.81\n",
            "epoch 23 train_loss 0.2203 train_acc 93.68 train_fscore93.68 valid_loss nan valid_acc nan val_fscorenan test_loss 1.3699 test_acc 57.05 test_fscore 56.79 time 8.08\n",
            "epoch 24 train_loss 0.2293 train_acc 93.72 train_fscore93.71 valid_loss nan valid_acc nan val_fscorenan test_loss 1.3701 test_acc 57.42 test_fscore 57.16 time 8.1\n",
            "epoch 25 train_loss 0.215 train_acc 93.77 train_fscore93.76 valid_loss nan valid_acc nan val_fscorenan test_loss 1.3989 test_acc 57.36 test_fscore 57.14 time 8.39\n",
            "epoch 26 train_loss 0.2087 train_acc 94.44 train_fscore94.44 valid_loss nan valid_acc nan val_fscorenan test_loss 1.463 test_acc 57.18 test_fscore 56.95 time 8.64\n",
            "epoch 27 train_loss 0.2093 train_acc 94.29 train_fscore94.28 valid_loss nan valid_acc nan val_fscorenan test_loss 1.468 test_acc 56.81 test_fscore 56.63 time 8.51\n",
            "epoch 28 train_loss 0.2107 train_acc 94.22 train_fscore94.21 valid_loss nan valid_acc nan val_fscorenan test_loss 1.4631 test_acc 56.32 test_fscore 56.11 time 8.64\n",
            "Exception ignored in: <bound method _MultiProcessingDataLoaderIter.__del__ of <torch.utils.data.dataloader._MultiProcessingDataLoaderIter object at 0x7f6d8a0862e8>>\n",
            "Traceback (most recent call last):\n",
            "  File \"/usr/local/lib/python3.6/dist-packages/torch/utils/data/dataloader.py\", line 1101, in __del__\n",
            "    self._shutdown_workers()\n",
            "  File \"/usr/local/lib/python3.6/dist-packages/torch/utils/data/dataloader.py\", line 1075, in _shutdown_workers\n",
            "    w.join(timeout=_utils.MP_STATUS_CHECK_INTERVAL)\n",
            "  File \"/usr/lib/python3.6/multiprocessing/process.py\", line 124, in join\n",
            "    res = self._popen.wait(timeout)\n",
            "  File \"/usr/lib/python3.6/multiprocessing/popen_fork.py\", line 47, in wait\n",
            "    if not wait([self.sentinel], timeout):\n",
            "  File \"/usr/lib/python3.6/multiprocessing/connection.py\", line 911, in wait\n",
            "    ready = selector.select(timeout)\n",
            "  File \"/usr/lib/python3.6/selectors.py\", line 376, in select\n",
            "    fd_event_list = self._poll.poll(timeout)\n",
            "KeyboardInterrupt: \n",
            "Traceback (most recent call last):\n",
            "  File \"train_IEMOCAP.py\", line 190, in <module>\n",
            "    train_loader, e, optimizer, True)\n",
            "  File \"train_IEMOCAP.py\", line 69, in train_or_eval_model\n",
            "    log_prob, alpha, alpha_f, alpha_b = model(textf, qmask,umask,att2=True) # seq_len, batch, n_classes\n",
            "  File \"/usr/local/lib/python3.6/dist-packages/torch/nn/modules/module.py\", line 722, in _call_impl\n",
            "    result = self.forward(*input, **kwargs)\n",
            "  File \"/content/gdrive/My Drive/DialogueRNN/model.py\", line 238, in forward\n",
            "    emotions_f, alpha_f = self.dialog_rnn_f(U, qmask) # seq_len, batch, D_e\n",
            "  File \"/usr/local/lib/python3.6/dist-packages/torch/nn/modules/module.py\", line 722, in _call_impl\n",
            "    result = self.forward(*input, **kwargs)\n",
            "  File \"/content/gdrive/My Drive/DialogueRNN/model.py\", line 186, in forward\n",
            "    g_, q_, e_, alpha_ = self.dialogue_cell(u_, qmask_, g_hist, q_, e_)\n",
            "  File \"/usr/local/lib/python3.6/dist-packages/torch/nn/modules/module.py\", line 722, in _call_impl\n",
            "    result = self.forward(*input, **kwargs)\n",
            "  File \"/content/gdrive/My Drive/DialogueRNN/model.py\", line 152, in forward\n",
            "    e_ = self.e_cell(self._select_parties(q_,qm_idx), e0)\n",
            "  File \"/content/gdrive/My Drive/DialogueRNN/model.py\", line 108, in _select_parties\n",
            "    q0_sel.append(j[idx].unsqueeze(0))\n",
            "KeyboardInterrupt\n"
          ],
          "name": "stdout"
        }
      ]
    },
    {
      "cell_type": "code",
      "metadata": {
        "id": "11mzB5W-pbAh",
        "colab_type": "code",
        "colab": {}
      },
      "source": [
        ""
      ],
      "execution_count": null,
      "outputs": []
    }
  ]
}