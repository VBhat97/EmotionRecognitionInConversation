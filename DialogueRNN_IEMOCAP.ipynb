{
  "nbformat": 4,
  "nbformat_minor": 0,
  "metadata": {
    "colab": {
      "name": "DialogueRNN_IEMOCAP.ipynb",
      "provenance": [],
      "include_colab_link": true
    },
    "kernelspec": {
      "name": "python3",
      "display_name": "Python 3"
    },
    "accelerator": "GPU"
  },
  "cells": [
    {
      "cell_type": "markdown",
      "metadata": {
        "id": "view-in-github",
        "colab_type": "text"
      },
      "source": [
        "<a href=\"https://colab.research.google.com/github/anitayadav3/EmotionRecognitionInConversation/blob/master/DialogueRNN_IEMOCAP.ipynb\" target=\"_parent\"><img src=\"https://colab.research.google.com/assets/colab-badge.svg\" alt=\"Open In Colab\"/></a>"
      ]
    },
    {
      "cell_type": "code",
      "metadata": {
        "id": "lGkdRLGlKpxy",
        "colab_type": "code",
        "colab": {
          "base_uri": "https://localhost:8080/",
          "height": 222
        },
        "outputId": "a77d6597-98c2-4be0-ed2b-5aab16b9897e"
      },
      "source": [
        "!pip install torch_sparse"
      ],
      "execution_count": null,
      "outputs": [
        {
          "output_type": "stream",
          "text": [
            "Collecting torch_sparse\n",
            "  Using cached https://files.pythonhosted.org/packages/ce/c0/f5ccc280629765cf1e97b601426cad6170d00603cf9836ba52f85d44ac27/torch_sparse-0.6.7.tar.gz\n",
            "Requirement already satisfied: scipy in /usr/local/lib/python3.6/dist-packages (from torch_sparse) (1.4.1)\n",
            "Requirement already satisfied: numpy>=1.13.3 in /usr/local/lib/python3.6/dist-packages (from scipy->torch_sparse) (1.18.5)\n",
            "Building wheels for collected packages: torch-sparse\n",
            "  Building wheel for torch-sparse (setup.py) ... \u001b[?25l\u001b[?25hdone\n",
            "  Created wheel for torch-sparse: filename=torch_sparse-0.6.7-cp36-cp36m-linux_x86_64.whl size=22081698 sha256=23c8dfb223c565cb4f02ac6fb3711df2e350a8c456ff41678cf2bc0bd7e32b5b\n",
            "  Stored in directory: /root/.cache/pip/wheels/56/54/57/495938ad744a865b8933e76fa71853495f2ac476475d49a9a2\n",
            "Successfully built torch-sparse\n",
            "Installing collected packages: torch-sparse\n",
            "Successfully installed torch-sparse-0.6.7\n"
          ],
          "name": "stdout"
        }
      ]
    },
    {
      "cell_type": "code",
      "metadata": {
        "id": "fPmAS7KfPymU",
        "colab_type": "code",
        "colab": {
          "base_uri": "https://localhost:8080/",
          "height": 188
        },
        "outputId": "b5fe77b4-e248-4844-8eed-b50d8fe7a1ad"
      },
      "source": [
        "!pip install torch_scatter"
      ],
      "execution_count": null,
      "outputs": [
        {
          "output_type": "stream",
          "text": [
            "Collecting torch_scatter\n",
            "  Downloading https://files.pythonhosted.org/packages/01/45/cd93ed3227248773ba8bc4b3beaa04e8bddb127a793a41bad875369951b3/torch_scatter-2.0.5.tar.gz\n",
            "Building wheels for collected packages: torch-scatter\n",
            "  Building wheel for torch-scatter (setup.py) ... \u001b[?25l\u001b[?25hdone\n",
            "  Created wheel for torch-scatter: filename=torch_scatter-2.0.5-cp36-cp36m-linux_x86_64.whl size=11359537 sha256=aac5620f7a6d436aec69f46e4cf8382791097b1c796fe49af9a3ad9408e371a8\n",
            "  Stored in directory: /root/.cache/pip/wheels/42/59/d3/9866e4fd8e1fe9260740acfe22322c428bc0dc064d3ebc456c\n",
            "Successfully built torch-scatter\n",
            "Installing collected packages: torch-scatter\n",
            "Successfully installed torch-scatter-2.0.5\n"
          ],
          "name": "stdout"
        }
      ]
    },
    {
      "cell_type": "code",
      "metadata": {
        "id": "ITpsd3n93n1B",
        "colab_type": "code",
        "colab": {
          "base_uri": "https://localhost:8080/",
          "height": 34
        },
        "outputId": "6bc23c6a-1f89-4f70-cbc4-1e2e2572d318"
      },
      "source": [
        "from google.colab import drive\n",
        "drive.mount('/content/drive')"
      ],
      "execution_count": 2,
      "outputs": [
        {
          "output_type": "stream",
          "text": [
            "Mounted at /content/drive\n"
          ],
          "name": "stdout"
        }
      ]
    },
    {
      "cell_type": "code",
      "metadata": {
        "id": "3QmfMDch3yss",
        "colab_type": "code",
        "colab": {
          "base_uri": "https://localhost:8080/",
          "height": 34
        },
        "outputId": "2dd670ac-6dae-4062-a1c6-a117e6ca7c24"
      },
      "source": [
        "%cd /content/drive/My Drive/DialogueRNN"
      ],
      "execution_count": 3,
      "outputs": [
        {
          "output_type": "stream",
          "text": [
            "/content/drive/My Drive/DialogueRNN\n"
          ],
          "name": "stdout"
        }
      ]
    },
    {
      "cell_type": "code",
      "metadata": {
        "id": "L8lbv2Iss1M_",
        "colab_type": "code",
        "colab": {
          "base_uri": "https://localhost:8080/",
          "height": 1000
        },
        "outputId": "e4606a60-7a3f-425b-e257-90fa68deda09"
      },
      "source": [
        "!python train_IEMOCAP.py --dropout 0.4 --lr 0.0003 --batch-size 32 --class-weight --l2 0.0"
      ],
      "execution_count": 4,
      "outputs": [
        {
          "output_type": "stream",
          "text": [
            "Namespace(active_listener=False, attention='general', batch_size=32, class_weight=True, dropout=0.4, epochs=60, l2=0.0, lr=0.0003, no_cuda=False, rec_dropout=0.1, tensorboard=False)\n",
            "Running on GPU\n",
            "epoch 1 train_loss 1.6954 train_acc 31.26 train_fscore29.65 valid_loss nan valid_acc nan val_fscorenan test_loss 1.5296 test_acc 51.32 test_fscore 48.46 time 11.52\n",
            "epoch 2 train_loss 1.2874 train_acc 55.85 train_fscore52.7 valid_loss nan valid_acc nan val_fscorenan test_loss 1.214 test_acc 60.2 test_fscore 56.3 time 11.8\n",
            "epoch 3 train_loss 0.9896 train_acc 63.79 train_fscore61.26 valid_loss nan valid_acc nan val_fscorenan test_loss 1.0057 test_acc 63.4 test_fscore 61.88 time 12.17\n",
            "epoch 4 train_loss 0.8124 train_acc 68.78 train_fscore68.31 valid_loss nan valid_acc nan val_fscorenan test_loss 0.9531 test_acc 61.74 test_fscore 62.07 time 11.81\n",
            "epoch 5 train_loss 0.7109 train_acc 72.32 train_fscore72.14 valid_loss nan valid_acc nan val_fscorenan test_loss 0.9892 test_acc 62.23 test_fscore 62.17 time 11.88\n",
            "epoch 6 train_loss 0.6141 train_acc 79.1 train_fscore79.0 valid_loss nan valid_acc nan val_fscorenan test_loss 1.0324 test_acc 61.61 test_fscore 61.44 time 11.96\n",
            "epoch 7 train_loss 0.5584 train_acc 81.88 train_fscore81.8 valid_loss nan valid_acc nan val_fscorenan test_loss 1.0149 test_acc 62.11 test_fscore 61.93 time 12.46\n",
            "epoch 8 train_loss 0.4977 train_acc 84.03 train_fscore84.0 valid_loss nan valid_acc nan val_fscorenan test_loss 1.0235 test_acc 61.55 test_fscore 61.5 time 11.69\n",
            "epoch 9 train_loss 0.443 train_acc 86.3 train_fscore86.29 valid_loss nan valid_acc nan val_fscorenan test_loss 1.0885 test_acc 61.12 test_fscore 61.15 time 11.63\n",
            "epoch 10 train_loss 0.4003 train_acc 88.57 train_fscore88.57 valid_loss nan valid_acc nan val_fscorenan test_loss 1.1616 test_acc 59.58 test_fscore 59.71 time 12.39\n",
            "epoch 11 train_loss 0.3577 train_acc 90.38 train_fscore90.39 valid_loss nan valid_acc nan val_fscorenan test_loss 1.1996 test_acc 59.64 test_fscore 59.65 time 11.91\n",
            "epoch 12 train_loss 0.358 train_acc 90.41 train_fscore90.41 valid_loss nan valid_acc nan val_fscorenan test_loss 1.2054 test_acc 59.21 test_fscore 59.24 time 11.85\n",
            "epoch 13 train_loss 0.3307 train_acc 90.53 train_fscore90.53 valid_loss nan valid_acc nan val_fscorenan test_loss 1.2105 test_acc 59.33 test_fscore 59.37 time 11.73\n",
            "epoch 14 train_loss 0.3111 train_acc 91.45 train_fscore91.45 valid_loss nan valid_acc nan val_fscorenan test_loss 1.2372 test_acc 59.77 test_fscore 59.75 time 11.63\n",
            "epoch 15 train_loss 0.296 train_acc 91.89 train_fscore91.89 valid_loss nan valid_acc nan val_fscorenan test_loss 1.2623 test_acc 59.89 test_fscore 59.77 time 12.11\n",
            "epoch 16 train_loss 0.2716 train_acc 92.51 train_fscore92.51 valid_loss nan valid_acc nan val_fscorenan test_loss 1.2882 test_acc 59.21 test_fscore 59.06 time 12.23\n",
            "epoch 17 train_loss 0.2625 train_acc 92.74 train_fscore92.73 valid_loss nan valid_acc nan val_fscorenan test_loss 1.3298 test_acc 58.47 test_fscore 58.31 time 11.83\n",
            "epoch 18 train_loss 0.2619 train_acc 92.89 train_fscore92.89 valid_loss nan valid_acc nan val_fscorenan test_loss 1.3537 test_acc 57.92 test_fscore 57.88 time 11.41\n",
            "epoch 19 train_loss 0.2529 train_acc 93.03 train_fscore93.03 valid_loss nan valid_acc nan val_fscorenan test_loss 1.3807 test_acc 57.67 test_fscore 57.67 time 12.48\n",
            "epoch 20 train_loss 0.2363 train_acc 93.6 train_fscore93.6 valid_loss nan valid_acc nan val_fscorenan test_loss 1.3795 test_acc 57.49 test_fscore 57.48 time 11.88\n",
            "epoch 21 train_loss 0.2366 train_acc 93.34 train_fscore93.34 valid_loss nan valid_acc nan val_fscorenan test_loss 1.3574 test_acc 57.86 test_fscore 57.78 time 12.07\n",
            "epoch 22 train_loss 0.2215 train_acc 93.7 train_fscore93.69 valid_loss nan valid_acc nan val_fscorenan test_loss 1.3838 test_acc 57.55 test_fscore 57.27 time 11.98\n",
            "epoch 23 train_loss 0.2355 train_acc 93.49 train_fscore93.48 valid_loss nan valid_acc nan val_fscorenan test_loss 1.441 test_acc 57.86 test_fscore 57.55 time 11.72\n",
            "epoch 24 train_loss 0.2143 train_acc 93.75 train_fscore93.74 valid_loss nan valid_acc nan val_fscorenan test_loss 1.4726 test_acc 57.73 test_fscore 57.5 time 11.42\n",
            "epoch 25 train_loss 0.2134 train_acc 93.79 train_fscore93.78 valid_loss nan valid_acc nan val_fscorenan test_loss 1.489 test_acc 57.3 test_fscore 57.14 time 12.04\n",
            "epoch 26 train_loss 0.2057 train_acc 94.48 train_fscore94.47 valid_loss nan valid_acc nan val_fscorenan test_loss 1.4784 test_acc 57.18 test_fscore 57.01 time 11.9\n",
            "epoch 27 train_loss 0.2098 train_acc 93.96 train_fscore93.95 valid_loss nan valid_acc nan val_fscorenan test_loss 1.4912 test_acc 57.42 test_fscore 57.2 time 12.26\n",
            "epoch 28 train_loss 0.2028 train_acc 94.32 train_fscore94.31 valid_loss nan valid_acc nan val_fscorenan test_loss 1.5043 test_acc 56.99 test_fscore 56.78 time 11.85\n",
            "epoch 29 train_loss 0.1935 train_acc 94.48 train_fscore94.47 valid_loss nan valid_acc nan val_fscorenan test_loss 1.516 test_acc 56.44 test_fscore 56.18 time 11.97\n",
            "epoch 30 train_loss 0.1983 train_acc 94.29 train_fscore94.27 valid_loss nan valid_acc nan val_fscorenan test_loss 1.5352 test_acc 55.58 test_fscore 55.31 time 11.96\n",
            "epoch 31 train_loss 0.1823 train_acc 94.51 train_fscore94.5 valid_loss nan valid_acc nan val_fscorenan test_loss 1.5626 test_acc 56.01 test_fscore 55.73 time 11.96\n",
            "epoch 32 train_loss 0.1971 train_acc 94.34 train_fscore94.33 valid_loss nan valid_acc nan val_fscorenan test_loss 1.6089 test_acc 55.95 test_fscore 55.69 time 12.22\n",
            "epoch 33 train_loss 0.1908 train_acc 94.3 train_fscore94.3 valid_loss nan valid_acc nan val_fscorenan test_loss 1.6145 test_acc 55.14 test_fscore 54.94 time 12.04\n",
            "epoch 34 train_loss 0.1869 train_acc 94.65 train_fscore94.64 valid_loss nan valid_acc nan val_fscorenan test_loss 1.5923 test_acc 55.33 test_fscore 55.11 time 11.63\n",
            "epoch 35 train_loss 0.1942 train_acc 94.22 train_fscore94.21 valid_loss nan valid_acc nan val_fscorenan test_loss 1.5753 test_acc 56.25 test_fscore 55.95 time 11.84\n",
            "epoch 36 train_loss 0.173 train_acc 94.75 train_fscore94.74 valid_loss nan valid_acc nan val_fscorenan test_loss 1.5863 test_acc 55.82 test_fscore 55.55 time 12.16\n",
            "epoch 37 train_loss 0.1801 train_acc 94.72 train_fscore94.7 valid_loss nan valid_acc nan val_fscorenan test_loss 1.6136 test_acc 56.01 test_fscore 55.79 time 12.06\n",
            "epoch 38 train_loss 0.1766 train_acc 94.89 train_fscore94.88 valid_loss nan valid_acc nan val_fscorenan test_loss 1.6259 test_acc 56.32 test_fscore 56.1 time 11.71\n",
            "epoch 39 train_loss 0.1743 train_acc 95.28 train_fscore95.27 valid_loss nan valid_acc nan val_fscorenan test_loss 1.614 test_acc 56.19 test_fscore 56.03 time 11.6\n",
            "epoch 40 train_loss 0.1768 train_acc 94.8 train_fscore94.79 valid_loss nan valid_acc nan val_fscorenan test_loss 1.58 test_acc 56.32 test_fscore 56.2 time 12.02\n",
            "epoch 41 train_loss 0.1727 train_acc 94.99 train_fscore94.98 valid_loss nan valid_acc nan val_fscorenan test_loss 1.5745 test_acc 55.82 test_fscore 55.73 time 11.32\n",
            "epoch 42 train_loss 0.1686 train_acc 94.94 train_fscore94.93 valid_loss nan valid_acc nan val_fscorenan test_loss 1.5757 test_acc 56.01 test_fscore 55.93 time 12.19\n",
            "epoch 43 train_loss 0.1653 train_acc 94.89 train_fscore94.88 valid_loss nan valid_acc nan val_fscorenan test_loss 1.5906 test_acc 56.01 test_fscore 55.88 time 11.4\n",
            "epoch 44 train_loss 0.1598 train_acc 95.34 train_fscore95.33 valid_loss nan valid_acc nan val_fscorenan test_loss 1.6335 test_acc 55.82 test_fscore 55.65 time 12.43\n",
            "epoch 45 train_loss 0.1564 train_acc 95.4 train_fscore95.39 valid_loss nan valid_acc nan val_fscorenan test_loss 1.6723 test_acc 55.58 test_fscore 55.4 time 11.84\n",
            "epoch 46 train_loss 0.1631 train_acc 95.44 train_fscore95.43 valid_loss nan valid_acc nan val_fscorenan test_loss 1.6961 test_acc 54.71 test_fscore 54.69 time 12.6\n",
            "epoch 47 train_loss 0.1711 train_acc 95.13 train_fscore95.13 valid_loss nan valid_acc nan val_fscorenan test_loss 1.6691 test_acc 54.9 test_fscore 54.91 time 12.27\n",
            "epoch 48 train_loss 0.156 train_acc 95.37 train_fscore95.37 valid_loss nan valid_acc nan val_fscorenan test_loss 1.6324 test_acc 55.02 test_fscore 55.02 time 12.19\n",
            "epoch 49 train_loss 0.1484 train_acc 95.59 train_fscore95.58 valid_loss nan valid_acc nan val_fscorenan test_loss 1.64 test_acc 54.78 test_fscore 54.69 time 12.08\n",
            "epoch 50 train_loss 0.1474 train_acc 95.54 train_fscore95.53 valid_loss nan valid_acc nan val_fscorenan test_loss 1.6699 test_acc 55.02 test_fscore 54.95 time 11.63\n",
            "epoch 51 train_loss 0.1559 train_acc 95.58 train_fscore95.57 valid_loss nan valid_acc nan val_fscorenan test_loss 1.6905 test_acc 55.64 test_fscore 55.52 time 12.32\n",
            "epoch 52 train_loss 0.1468 train_acc 95.71 train_fscore95.7 valid_loss nan valid_acc nan val_fscorenan test_loss 1.7036 test_acc 54.9 test_fscore 54.88 time 12.24\n",
            "epoch 53 train_loss 0.1509 train_acc 95.23 train_fscore95.22 valid_loss nan valid_acc nan val_fscorenan test_loss 1.7306 test_acc 54.65 test_fscore 54.68 time 12.48\n",
            "epoch 54 train_loss 0.1427 train_acc 95.83 train_fscore95.83 valid_loss nan valid_acc nan val_fscorenan test_loss 1.7308 test_acc 54.53 test_fscore 54.54 time 11.76\n",
            "epoch 55 train_loss 0.1441 train_acc 95.7 train_fscore95.69 valid_loss nan valid_acc nan val_fscorenan test_loss 1.767 test_acc 54.47 test_fscore 54.36 time 11.96\n",
            "epoch 56 train_loss 0.1438 train_acc 95.7 train_fscore95.69 valid_loss nan valid_acc nan val_fscorenan test_loss 1.768 test_acc 54.78 test_fscore 54.61 time 12.24\n",
            "epoch 57 train_loss 0.138 train_acc 95.83 train_fscore95.82 valid_loss nan valid_acc nan val_fscorenan test_loss 1.7394 test_acc 55.51 test_fscore 55.35 time 12.52\n",
            "epoch 58 train_loss 0.1387 train_acc 95.77 train_fscore95.76 valid_loss nan valid_acc nan val_fscorenan test_loss 1.7187 test_acc 55.64 test_fscore 55.5 time 11.57\n",
            "epoch 59 train_loss 0.1403 train_acc 95.83 train_fscore95.83 valid_loss nan valid_acc nan val_fscorenan test_loss 1.7113 test_acc 54.47 test_fscore 54.55 time 12.13\n",
            "epoch 60 train_loss 0.145 train_acc 95.78 train_fscore95.78 valid_loss nan valid_acc nan val_fscorenan test_loss 1.706 test_acc 54.22 test_fscore 54.28 time 11.98\n",
            "Test performance..\n",
            "Loss 0.9531 accuracy 61.74\n",
            "              precision    recall  f1-score   support\n",
            "\n",
            "           0     0.3436    0.4653    0.3953     144.0\n",
            "           1     0.8230    0.8163    0.8197     245.0\n",
            "           2     0.5900    0.6146    0.6020     384.0\n",
            "           3     0.6556    0.5824    0.6168     170.0\n",
            "           4     0.6632    0.6388    0.6508     299.0\n",
            "           5     0.6040    0.5486    0.5750     381.0\n",
            "\n",
            "    accuracy                         0.6174    1623.0\n",
            "   macro avg     0.6133    0.6110    0.6099    1623.0\n",
            "weighted avg     0.6270    0.6174    0.6207    1623.0\n",
            "\n",
            "[[ 67.   1.  12.   0.  64.   0.]\n",
            " [ 13. 200.  12.   4.   1.  15.]\n",
            " [ 23.  17. 236.  17.  23.  68.]\n",
            " [  0.   5.  12.  99.   0.  54.]\n",
            " [ 92.   2.  14.   0. 191.   0.]\n",
            " [  0.  18. 114.  31.   9. 209.]]\n"
          ],
          "name": "stdout"
        }
      ]
    },
    {
      "cell_type": "code",
      "metadata": {
        "id": "11mzB5W-pbAh",
        "colab_type": "code",
        "colab": {}
      },
      "source": [
        ""
      ],
      "execution_count": null,
      "outputs": []
    }
  ]
}