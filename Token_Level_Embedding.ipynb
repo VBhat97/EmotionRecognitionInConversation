{
  "nbformat": 4,
  "nbformat_minor": 0,
  "metadata": {
    "colab": {
      "name": "Token_Level_Embedding.ipynb",
      "provenance": [],
      "authorship_tag": "ABX9TyPS7cEyS9M6xvce38lkVkup",
      "include_colab_link": true
    },
    "kernelspec": {
      "name": "python3",
      "display_name": "Python 3"
    },
    "accelerator": "GPU"
  },
  "cells": [
    {
      "cell_type": "markdown",
      "metadata": {
        "id": "view-in-github",
        "colab_type": "text"
      },
      "source": [
        "<a href=\"https://colab.research.google.com/github/anitayadav3/EmotionRecognitionInConversation/blob/master/Token_Level_Embedding.ipynb\" target=\"_parent\"><img src=\"https://colab.research.google.com/assets/colab-badge.svg\" alt=\"Open In Colab\"/></a>"
      ]
    },
    {
      "cell_type": "code",
      "metadata": {
        "id": "Fu3n3Ho71KHp"
      },
      "source": [
        "import itertools\n",
        "from gensim.models.word2vec import Text8Corpus\n",
        "from glove import Corpus, Glove"
      ],
      "execution_count": 6,
      "outputs": []
    },
    {
      "cell_type": "code",
      "metadata": {
        "id": "Pogvd5Fk1_Ff",
        "outputId": "406d3979-ebf0-4380-94ca-43eb3fb56ea7",
        "colab": {
          "base_uri": "https://localhost:8080/",
          "height": 218
        }
      },
      "source": [
        "! pip install glove_python"
      ],
      "execution_count": 5,
      "outputs": [
        {
          "output_type": "stream",
          "text": [
            "Collecting glove_python\n",
            "\u001b[?25l  Downloading https://files.pythonhosted.org/packages/3e/79/7e7e548dd9dcb741935d031117f4bed133276c2a047aadad42f1552d1771/glove_python-0.1.0.tar.gz (263kB)\n",
            "\r\u001b[K     |█▎                              | 10kB 24.0MB/s eta 0:00:01\r\u001b[K     |██▌                             | 20kB 21.4MB/s eta 0:00:01\r\u001b[K     |███▊                            | 30kB 13.1MB/s eta 0:00:01\r\u001b[K     |█████                           | 40kB 8.9MB/s eta 0:00:01\r\u001b[K     |██████▎                         | 51kB 7.9MB/s eta 0:00:01\r\u001b[K     |███████▌                        | 61kB 8.0MB/s eta 0:00:01\r\u001b[K     |████████▊                       | 71kB 7.8MB/s eta 0:00:01\r\u001b[K     |██████████                      | 81kB 8.1MB/s eta 0:00:01\r\u001b[K     |███████████▏                    | 92kB 7.9MB/s eta 0:00:01\r\u001b[K     |████████████▌                   | 102kB 8.0MB/s eta 0:00:01\r\u001b[K     |█████████████▊                  | 112kB 8.0MB/s eta 0:00:01\r\u001b[K     |███████████████                 | 122kB 8.0MB/s eta 0:00:01\r\u001b[K     |████████████████▏               | 133kB 8.0MB/s eta 0:00:01\r\u001b[K     |█████████████████▍              | 143kB 8.0MB/s eta 0:00:01\r\u001b[K     |██████████████████▊             | 153kB 8.0MB/s eta 0:00:01\r\u001b[K     |████████████████████            | 163kB 8.0MB/s eta 0:00:01\r\u001b[K     |█████████████████████▏          | 174kB 8.0MB/s eta 0:00:01\r\u001b[K     |██████████████████████▍         | 184kB 8.0MB/s eta 0:00:01\r\u001b[K     |███████████████████████▋        | 194kB 8.0MB/s eta 0:00:01\r\u001b[K     |█████████████████████████       | 204kB 8.0MB/s eta 0:00:01\r\u001b[K     |██████████████████████████▏     | 215kB 8.0MB/s eta 0:00:01\r\u001b[K     |███████████████████████████▍    | 225kB 8.0MB/s eta 0:00:01\r\u001b[K     |████████████████████████████▋   | 235kB 8.0MB/s eta 0:00:01\r\u001b[K     |█████████████████████████████▉  | 245kB 8.0MB/s eta 0:00:01\r\u001b[K     |███████████████████████████████▏| 256kB 8.0MB/s eta 0:00:01\r\u001b[K     |████████████████████████████████| 266kB 8.0MB/s \n",
            "\u001b[?25hRequirement already satisfied: numpy in /usr/local/lib/python3.6/dist-packages (from glove_python) (1.18.5)\n",
            "Requirement already satisfied: scipy in /usr/local/lib/python3.6/dist-packages (from glove_python) (1.4.1)\n",
            "Building wheels for collected packages: glove-python\n",
            "  Building wheel for glove-python (setup.py) ... \u001b[?25l\u001b[?25hdone\n",
            "  Created wheel for glove-python: filename=glove_python-0.1.0-cp36-cp36m-linux_x86_64.whl size=700267 sha256=bb56c715d2082cc90722f662f043862f8ba59ac0e1030de0fedb4f1915167a85\n",
            "  Stored in directory: /root/.cache/pip/wheels/88/4b/6d/10c0d2ad32c9d9d68beec9694a6f0b6e83ab1662a90a089a4b\n",
            "Successfully built glove-python\n",
            "Installing collected packages: glove-python\n",
            "Successfully installed glove-python-0.1.0\n"
          ],
          "name": "stdout"
        }
      ]
    },
    {
      "cell_type": "code",
      "metadata": {
        "id": "ZgtKKU3F3OFG"
      },
      "source": [
        "text = \"\"\"We introduce a new language representation model called BERT, which stands for Bidirectional Encoder Representations from Transformers.\n",
        " Unlike recent language representation models, BERT is designed to pre-train deep bidirectional representations by jointly conditioning on both left and right context in all layers.\n",
        " As a result, the pre-trained BERT representations can be fine-tuned with just one additional output layer to create state-of-the-art models for a wide range of tasks, such as question answering and language inference, without substantial task-specific architecture modifications. \n",
        "BERT is conceptually simple and empirically powerful. \n",
        "It obtains new state-of-the-art results on eleven natural language processing tasks, including pushing the GLUE benchmark to 80.4% (7.6% absolute improvement), MultiNLI accuracy to 86.7 (5.6% absolute improvement) and the SQuAD v1.1 question answering Test F1 to 93.2 (1.5% absolute improvement), outperforming human performance by 2.0%.\"\"\"\n",
        "sentences = text.split('\\n')"
      ],
      "execution_count": 7,
      "outputs": []
    },
    {
      "cell_type": "code",
      "metadata": {
        "id": "27jrED3e3hRp",
        "outputId": "7e409550-b8d7-461e-d756-baa716b71a10",
        "colab": {
          "base_uri": "https://localhost:8080/",
          "height": 346
        }
      },
      "source": [
        "corpus = Corpus()\n",
        "corpus.fit(sentences, window=10)\n",
        "glove = Glove(no_components=100, learning_rate=0.05)"
      ],
      "execution_count": 9,
      "outputs": [
        {
          "output_type": "error",
          "ename": "TypeError",
          "evalue": "ignored",
          "traceback": [
            "\u001b[0;31m---------------------------------------------------------------------------\u001b[0m",
            "\u001b[0;31mTypeError\u001b[0m                                 Traceback (most recent call last)",
            "\u001b[0;32m<ipython-input-9-9ec400cde968>\u001b[0m in \u001b[0;36m<module>\u001b[0;34m()\u001b[0m\n\u001b[1;32m      1\u001b[0m \u001b[0mcorpus\u001b[0m \u001b[0;34m=\u001b[0m \u001b[0mCorpus\u001b[0m\u001b[0;34m(\u001b[0m\u001b[0;34m)\u001b[0m\u001b[0;34m\u001b[0m\u001b[0;34m\u001b[0m\u001b[0m\n\u001b[0;32m----> 2\u001b[0;31m \u001b[0mcorpus\u001b[0m\u001b[0;34m.\u001b[0m\u001b[0mfit\u001b[0m\u001b[0;34m(\u001b[0m\u001b[0msentences\u001b[0m\u001b[0;34m,\u001b[0m \u001b[0mwindow\u001b[0m\u001b[0;34m=\u001b[0m\u001b[0;36m10\u001b[0m\u001b[0;34m)\u001b[0m\u001b[0;34m\u001b[0m\u001b[0;34m\u001b[0m\u001b[0m\n\u001b[0m\u001b[1;32m      3\u001b[0m \u001b[0mglove\u001b[0m \u001b[0;34m=\u001b[0m \u001b[0mGlove\u001b[0m\u001b[0;34m(\u001b[0m\u001b[0mno_components\u001b[0m\u001b[0;34m=\u001b[0m\u001b[0;36m100\u001b[0m\u001b[0;34m,\u001b[0m \u001b[0mlearning_rate\u001b[0m\u001b[0;34m=\u001b[0m\u001b[0;36m0.05\u001b[0m\u001b[0;34m)\u001b[0m\u001b[0;34m\u001b[0m\u001b[0;34m\u001b[0m\u001b[0m\n",
            "\u001b[0;32m/usr/local/lib/python3.6/dist-packages/glove/corpus.py\u001b[0m in \u001b[0;36mfit\u001b[0;34m(self, corpus, window, ignore_missing)\u001b[0m\n\u001b[1;32m     62\u001b[0m                                                     \u001b[0mint\u001b[0m\u001b[0;34m(\u001b[0m\u001b[0mself\u001b[0m\u001b[0;34m.\u001b[0m\u001b[0mdictionary_supplied\u001b[0m\u001b[0;34m)\u001b[0m\u001b[0;34m,\u001b[0m\u001b[0;34m\u001b[0m\u001b[0;34m\u001b[0m\u001b[0m\n\u001b[1;32m     63\u001b[0m                                                     \u001b[0mint\u001b[0m\u001b[0;34m(\u001b[0m\u001b[0mwindow\u001b[0m\u001b[0;34m)\u001b[0m\u001b[0;34m,\u001b[0m\u001b[0;34m\u001b[0m\u001b[0;34m\u001b[0m\u001b[0m\n\u001b[0;32m---> 64\u001b[0;31m                                                     int(ignore_missing))\n\u001b[0m\u001b[1;32m     65\u001b[0m \u001b[0;34m\u001b[0m\u001b[0m\n\u001b[1;32m     66\u001b[0m     \u001b[0;32mdef\u001b[0m \u001b[0msave\u001b[0m\u001b[0;34m(\u001b[0m\u001b[0mself\u001b[0m\u001b[0;34m,\u001b[0m \u001b[0mfilename\u001b[0m\u001b[0;34m)\u001b[0m\u001b[0;34m:\u001b[0m\u001b[0;34m\u001b[0m\u001b[0;34m\u001b[0m\u001b[0m\n",
            "\u001b[0;32mglove/corpus_cython.pyx\u001b[0m in \u001b[0;36mglove.corpus_cython.construct_cooccurrence_matrix (glove/corpus_cython.cpp:3199)\u001b[0;34m()\u001b[0m\n",
            "\u001b[0;31mTypeError\u001b[0m: Expected list, got str"
          ]
        }
      ]
    }
  ]
}