{
  "nbformat": 4,
  "nbformat_minor": 0,
  "metadata": {
    "colab": {
      "name": "Token_Level_Embedding.ipynb",
      "provenance": [],
      "authorship_tag": "ABX9TyNGKx3kMlu1QDZBW8DZLRW/",
      "include_colab_link": true
    },
    "kernelspec": {
      "name": "python3",
      "display_name": "Python 3"
    },
    "accelerator": "GPU"
  },
  "cells": [
    {
      "cell_type": "markdown",
      "metadata": {
        "id": "view-in-github",
        "colab_type": "text"
      },
      "source": [
        "<a href=\"https://colab.research.google.com/github/anitayadav3/EmotionRecognitionInConversation/blob/master/Token_Level_Embedding.ipynb\" target=\"_parent\"><img src=\"https://colab.research.google.com/assets/colab-badge.svg\" alt=\"Open In Colab\"/></a>"
      ]
    },
    {
      "cell_type": "code",
      "metadata": {
        "id": "Fu3n3Ho71KHp"
      },
      "source": [
        "import itertools\n",
        "from gensim.models.word2vec import Text8Corpus\n",
        "from glove import Corpus, Glove"
      ],
      "execution_count": 6,
      "outputs": []
    },
    {
      "cell_type": "code",
      "metadata": {
        "id": "Pogvd5Fk1_Ff",
        "outputId": "406d3979-ebf0-4380-94ca-43eb3fb56ea7",
        "colab": {
          "base_uri": "https://localhost:8080/",
          "height": 218
        }
      },
      "source": [
        "! pip install glove_python"
      ],
      "execution_count": 5,
      "outputs": [
        {
          "output_type": "stream",
          "text": [
            "Collecting glove_python\n",
            "\u001b[?25l  Downloading https://files.pythonhosted.org/packages/3e/79/7e7e548dd9dcb741935d031117f4bed133276c2a047aadad42f1552d1771/glove_python-0.1.0.tar.gz (263kB)\n",
            "\r\u001b[K     |█▎                              | 10kB 24.0MB/s eta 0:00:01\r\u001b[K     |██▌                             | 20kB 21.4MB/s eta 0:00:01\r\u001b[K     |███▊                            | 30kB 13.1MB/s eta 0:00:01\r\u001b[K     |█████                           | 40kB 8.9MB/s eta 0:00:01\r\u001b[K     |██████▎                         | 51kB 7.9MB/s eta 0:00:01\r\u001b[K     |███████▌                        | 61kB 8.0MB/s eta 0:00:01\r\u001b[K     |████████▊                       | 71kB 7.8MB/s eta 0:00:01\r\u001b[K     |██████████                      | 81kB 8.1MB/s eta 0:00:01\r\u001b[K     |███████████▏                    | 92kB 7.9MB/s eta 0:00:01\r\u001b[K     |████████████▌                   | 102kB 8.0MB/s eta 0:00:01\r\u001b[K     |█████████████▊                  | 112kB 8.0MB/s eta 0:00:01\r\u001b[K     |███████████████                 | 122kB 8.0MB/s eta 0:00:01\r\u001b[K     |████████████████▏               | 133kB 8.0MB/s eta 0:00:01\r\u001b[K     |█████████████████▍              | 143kB 8.0MB/s eta 0:00:01\r\u001b[K     |██████████████████▊             | 153kB 8.0MB/s eta 0:00:01\r\u001b[K     |████████████████████            | 163kB 8.0MB/s eta 0:00:01\r\u001b[K     |█████████████████████▏          | 174kB 8.0MB/s eta 0:00:01\r\u001b[K     |██████████████████████▍         | 184kB 8.0MB/s eta 0:00:01\r\u001b[K     |███████████████████████▋        | 194kB 8.0MB/s eta 0:00:01\r\u001b[K     |█████████████████████████       | 204kB 8.0MB/s eta 0:00:01\r\u001b[K     |██████████████████████████▏     | 215kB 8.0MB/s eta 0:00:01\r\u001b[K     |███████████████████████████▍    | 225kB 8.0MB/s eta 0:00:01\r\u001b[K     |████████████████████████████▋   | 235kB 8.0MB/s eta 0:00:01\r\u001b[K     |█████████████████████████████▉  | 245kB 8.0MB/s eta 0:00:01\r\u001b[K     |███████████████████████████████▏| 256kB 8.0MB/s eta 0:00:01\r\u001b[K     |████████████████████████████████| 266kB 8.0MB/s \n",
            "\u001b[?25hRequirement already satisfied: numpy in /usr/local/lib/python3.6/dist-packages (from glove_python) (1.18.5)\n",
            "Requirement already satisfied: scipy in /usr/local/lib/python3.6/dist-packages (from glove_python) (1.4.1)\n",
            "Building wheels for collected packages: glove-python\n",
            "  Building wheel for glove-python (setup.py) ... \u001b[?25l\u001b[?25hdone\n",
            "  Created wheel for glove-python: filename=glove_python-0.1.0-cp36-cp36m-linux_x86_64.whl size=700267 sha256=bb56c715d2082cc90722f662f043862f8ba59ac0e1030de0fedb4f1915167a85\n",
            "  Stored in directory: /root/.cache/pip/wheels/88/4b/6d/10c0d2ad32c9d9d68beec9694a6f0b6e83ab1662a90a089a4b\n",
            "Successfully built glove-python\n",
            "Installing collected packages: glove-python\n",
            "Successfully installed glove-python-0.1.0\n"
          ],
          "name": "stdout"
        }
      ]
    }
  ]
}