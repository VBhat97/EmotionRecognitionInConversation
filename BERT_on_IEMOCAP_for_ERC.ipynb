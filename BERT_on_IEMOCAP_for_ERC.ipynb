{
  "nbformat": 4,
  "nbformat_minor": 0,
  "metadata": {
    "colab": {
      "name": "BERT_on_IEMOCAP_for_ERC.ipynb",
      "provenance": [],
      "authorship_tag": "ABX9TyP2lzXl/GoDVxZHnYHVgKEa",
      "include_colab_link": true
    },
    "kernelspec": {
      "name": "python3",
      "display_name": "Python 3"
    },
    "accelerator": "GPU"
  },
  "cells": [
    {
      "cell_type": "markdown",
      "metadata": {
        "id": "view-in-github",
        "colab_type": "text"
      },
      "source": [
        "<a href=\"https://colab.research.google.com/github/anitayadav3/EmotionRecognitionInConversation/blob/master/BERT_on_IEMOCAP_for_ERC.ipynb\" target=\"_parent\"><img src=\"https://colab.research.google.com/assets/colab-badge.svg\" alt=\"Open In Colab\"/></a>"
      ]
    },
    {
      "cell_type": "code",
      "metadata": {
        "id": "irbKXIVqMGym",
        "colab": {
          "base_uri": "https://localhost:8080/"
        },
        "outputId": "d9ab80b8-071c-44b2-d58d-8e2e67aefdd1"
      },
      "source": [
        "import numpy as np # linear algebra\n",
        "import pandas as pd # data processing, CSV file I/O (e.g. pd.read_csv)\n",
        "import numpy as np\n",
        "import re\n",
        "import nltk\n",
        "from nltk.corpus import stopwords\n",
        "nltk.download('stopwords')\n",
        "nltk.download('punkt')\n",
        "from nltk.tokenize import word_tokenize\n",
        "import pandas as pd\n",
        "import tensorflow as tf\n",
        "from tensorflow.keras.layers import Dense, Input, GRU, Dropout\n",
        "from tensorflow.keras.optimizers import Adam\n",
        "from tensorflow.keras.models import Model\n",
        "from tensorflow.keras.callbacks import ModelCheckpoint\n",
        "import tensorflow_hub as hub\n",
        "import pickle\n",
        "from sklearn.metrics import f1_score\n",
        "from sklearn.metrics import accuracy_score\n",
        "from keras.utils.np_utils import to_categorical  "
      ],
      "execution_count": null,
      "outputs": [
        {
          "output_type": "stream",
          "text": [
            "[nltk_data] Downloading package stopwords to /root/nltk_data...\n",
            "[nltk_data]   Unzipping corpora/stopwords.zip.\n",
            "[nltk_data] Downloading package punkt to /root/nltk_data...\n",
            "[nltk_data]   Unzipping tokenizers/punkt.zip.\n"
          ],
          "name": "stdout"
        }
      ]
    },
    {
      "cell_type": "code",
      "metadata": {
        "id": "lNTNsf6SMN0W",
        "colab": {
          "base_uri": "https://localhost:8080/"
        },
        "outputId": "0053bb71-c3bd-43da-b9e9-6af8d4d7f1af"
      },
      "source": [
        "!wget --quiet https://raw.githubusercontent.com/tensorflow/models/master/official/nlp/bert/tokenization.py\n",
        "!pip install sentencepiece"
      ],
      "execution_count": null,
      "outputs": [
        {
          "output_type": "stream",
          "text": [
            "Collecting sentencepiece\n",
            "\u001b[?25l  Downloading https://files.pythonhosted.org/packages/e5/2d/6d4ca4bef9a67070fa1cac508606328329152b1df10bdf31fb6e4e727894/sentencepiece-0.1.94-cp36-cp36m-manylinux2014_x86_64.whl (1.1MB)\n",
            "\r\u001b[K     |▎                               | 10kB 22.4MB/s eta 0:00:01\r\u001b[K     |▋                               | 20kB 29.4MB/s eta 0:00:01\r\u001b[K     |▉                               | 30kB 21.2MB/s eta 0:00:01\r\u001b[K     |█▏                              | 40kB 20.2MB/s eta 0:00:01\r\u001b[K     |█▌                              | 51kB 21.0MB/s eta 0:00:01\r\u001b[K     |█▊                              | 61kB 15.5MB/s eta 0:00:01\r\u001b[K     |██                              | 71kB 15.7MB/s eta 0:00:01\r\u001b[K     |██▍                             | 81kB 16.5MB/s eta 0:00:01\r\u001b[K     |██▋                             | 92kB 14.6MB/s eta 0:00:01\r\u001b[K     |███                             | 102kB 15.5MB/s eta 0:00:01\r\u001b[K     |███▎                            | 112kB 15.5MB/s eta 0:00:01\r\u001b[K     |███▌                            | 122kB 15.5MB/s eta 0:00:01\r\u001b[K     |███▉                            | 133kB 15.5MB/s eta 0:00:01\r\u001b[K     |████▏                           | 143kB 15.5MB/s eta 0:00:01\r\u001b[K     |████▍                           | 153kB 15.5MB/s eta 0:00:01\r\u001b[K     |████▊                           | 163kB 15.5MB/s eta 0:00:01\r\u001b[K     |█████                           | 174kB 15.5MB/s eta 0:00:01\r\u001b[K     |█████▎                          | 184kB 15.5MB/s eta 0:00:01\r\u001b[K     |█████▋                          | 194kB 15.5MB/s eta 0:00:01\r\u001b[K     |█████▉                          | 204kB 15.5MB/s eta 0:00:01\r\u001b[K     |██████▏                         | 215kB 15.5MB/s eta 0:00:01\r\u001b[K     |██████▌                         | 225kB 15.5MB/s eta 0:00:01\r\u001b[K     |██████▊                         | 235kB 15.5MB/s eta 0:00:01\r\u001b[K     |███████                         | 245kB 15.5MB/s eta 0:00:01\r\u001b[K     |███████▍                        | 256kB 15.5MB/s eta 0:00:01\r\u001b[K     |███████▋                        | 266kB 15.5MB/s eta 0:00:01\r\u001b[K     |████████                        | 276kB 15.5MB/s eta 0:00:01\r\u001b[K     |████████▎                       | 286kB 15.5MB/s eta 0:00:01\r\u001b[K     |████████▌                       | 296kB 15.5MB/s eta 0:00:01\r\u001b[K     |████████▉                       | 307kB 15.5MB/s eta 0:00:01\r\u001b[K     |█████████                       | 317kB 15.5MB/s eta 0:00:01\r\u001b[K     |█████████▍                      | 327kB 15.5MB/s eta 0:00:01\r\u001b[K     |█████████▊                      | 337kB 15.5MB/s eta 0:00:01\r\u001b[K     |██████████                      | 348kB 15.5MB/s eta 0:00:01\r\u001b[K     |██████████▎                     | 358kB 15.5MB/s eta 0:00:01\r\u001b[K     |██████████▋                     | 368kB 15.5MB/s eta 0:00:01\r\u001b[K     |██████████▉                     | 378kB 15.5MB/s eta 0:00:01\r\u001b[K     |███████████▏                    | 389kB 15.5MB/s eta 0:00:01\r\u001b[K     |███████████▌                    | 399kB 15.5MB/s eta 0:00:01\r\u001b[K     |███████████▊                    | 409kB 15.5MB/s eta 0:00:01\r\u001b[K     |████████████                    | 419kB 15.5MB/s eta 0:00:01\r\u001b[K     |████████████▍                   | 430kB 15.5MB/s eta 0:00:01\r\u001b[K     |████████████▋                   | 440kB 15.5MB/s eta 0:00:01\r\u001b[K     |█████████████                   | 450kB 15.5MB/s eta 0:00:01\r\u001b[K     |█████████████▎                  | 460kB 15.5MB/s eta 0:00:01\r\u001b[K     |█████████████▌                  | 471kB 15.5MB/s eta 0:00:01\r\u001b[K     |█████████████▉                  | 481kB 15.5MB/s eta 0:00:01\r\u001b[K     |██████████████                  | 491kB 15.5MB/s eta 0:00:01\r\u001b[K     |██████████████▍                 | 501kB 15.5MB/s eta 0:00:01\r\u001b[K     |██████████████▊                 | 512kB 15.5MB/s eta 0:00:01\r\u001b[K     |███████████████                 | 522kB 15.5MB/s eta 0:00:01\r\u001b[K     |███████████████▎                | 532kB 15.5MB/s eta 0:00:01\r\u001b[K     |███████████████▋                | 542kB 15.5MB/s eta 0:00:01\r\u001b[K     |███████████████▉                | 552kB 15.5MB/s eta 0:00:01\r\u001b[K     |████████████████▏               | 563kB 15.5MB/s eta 0:00:01\r\u001b[K     |████████████████▌               | 573kB 15.5MB/s eta 0:00:01\r\u001b[K     |████████████████▊               | 583kB 15.5MB/s eta 0:00:01\r\u001b[K     |█████████████████               | 593kB 15.5MB/s eta 0:00:01\r\u001b[K     |█████████████████▍              | 604kB 15.5MB/s eta 0:00:01\r\u001b[K     |█████████████████▋              | 614kB 15.5MB/s eta 0:00:01\r\u001b[K     |██████████████████              | 624kB 15.5MB/s eta 0:00:01\r\u001b[K     |██████████████████▏             | 634kB 15.5MB/s eta 0:00:01\r\u001b[K     |██████████████████▌             | 645kB 15.5MB/s eta 0:00:01\r\u001b[K     |██████████████████▉             | 655kB 15.5MB/s eta 0:00:01\r\u001b[K     |███████████████████             | 665kB 15.5MB/s eta 0:00:01\r\u001b[K     |███████████████████▍            | 675kB 15.5MB/s eta 0:00:01\r\u001b[K     |███████████████████▊            | 686kB 15.5MB/s eta 0:00:01\r\u001b[K     |████████████████████            | 696kB 15.5MB/s eta 0:00:01\r\u001b[K     |████████████████████▎           | 706kB 15.5MB/s eta 0:00:01\r\u001b[K     |████████████████████▋           | 716kB 15.5MB/s eta 0:00:01\r\u001b[K     |████████████████████▉           | 727kB 15.5MB/s eta 0:00:01\r\u001b[K     |█████████████████████▏          | 737kB 15.5MB/s eta 0:00:01\r\u001b[K     |█████████████████████▌          | 747kB 15.5MB/s eta 0:00:01\r\u001b[K     |█████████████████████▊          | 757kB 15.5MB/s eta 0:00:01\r\u001b[K     |██████████████████████          | 768kB 15.5MB/s eta 0:00:01\r\u001b[K     |██████████████████████▎         | 778kB 15.5MB/s eta 0:00:01\r\u001b[K     |██████████████████████▋         | 788kB 15.5MB/s eta 0:00:01\r\u001b[K     |███████████████████████         | 798kB 15.5MB/s eta 0:00:01\r\u001b[K     |███████████████████████▏        | 808kB 15.5MB/s eta 0:00:01\r\u001b[K     |███████████████████████▌        | 819kB 15.5MB/s eta 0:00:01\r\u001b[K     |███████████████████████▉        | 829kB 15.5MB/s eta 0:00:01\r\u001b[K     |████████████████████████        | 839kB 15.5MB/s eta 0:00:01\r\u001b[K     |████████████████████████▍       | 849kB 15.5MB/s eta 0:00:01\r\u001b[K     |████████████████████████▊       | 860kB 15.5MB/s eta 0:00:01\r\u001b[K     |█████████████████████████       | 870kB 15.5MB/s eta 0:00:01\r\u001b[K     |█████████████████████████▎      | 880kB 15.5MB/s eta 0:00:01\r\u001b[K     |█████████████████████████▋      | 890kB 15.5MB/s eta 0:00:01\r\u001b[K     |█████████████████████████▉      | 901kB 15.5MB/s eta 0:00:01\r\u001b[K     |██████████████████████████▏     | 911kB 15.5MB/s eta 0:00:01\r\u001b[K     |██████████████████████████▌     | 921kB 15.5MB/s eta 0:00:01\r\u001b[K     |██████████████████████████▊     | 931kB 15.5MB/s eta 0:00:01\r\u001b[K     |███████████████████████████     | 942kB 15.5MB/s eta 0:00:01\r\u001b[K     |███████████████████████████▎    | 952kB 15.5MB/s eta 0:00:01\r\u001b[K     |███████████████████████████▋    | 962kB 15.5MB/s eta 0:00:01\r\u001b[K     |████████████████████████████    | 972kB 15.5MB/s eta 0:00:01\r\u001b[K     |████████████████████████████▏   | 983kB 15.5MB/s eta 0:00:01\r\u001b[K     |████████████████████████████▌   | 993kB 15.5MB/s eta 0:00:01\r\u001b[K     |████████████████████████████▉   | 1.0MB 15.5MB/s eta 0:00:01\r\u001b[K     |█████████████████████████████   | 1.0MB 15.5MB/s eta 0:00:01\r\u001b[K     |█████████████████████████████▍  | 1.0MB 15.5MB/s eta 0:00:01\r\u001b[K     |█████████████████████████████▊  | 1.0MB 15.5MB/s eta 0:00:01\r\u001b[K     |██████████████████████████████  | 1.0MB 15.5MB/s eta 0:00:01\r\u001b[K     |██████████████████████████████▎ | 1.1MB 15.5MB/s eta 0:00:01\r\u001b[K     |██████████████████████████████▋ | 1.1MB 15.5MB/s eta 0:00:01\r\u001b[K     |██████████████████████████████▉ | 1.1MB 15.5MB/s eta 0:00:01\r\u001b[K     |███████████████████████████████▏| 1.1MB 15.5MB/s eta 0:00:01\r\u001b[K     |███████████████████████████████▍| 1.1MB 15.5MB/s eta 0:00:01\r\u001b[K     |███████████████████████████████▊| 1.1MB 15.5MB/s eta 0:00:01\r\u001b[K     |████████████████████████████████| 1.1MB 15.5MB/s \n",
            "\u001b[?25hInstalling collected packages: sentencepiece\n",
            "Successfully installed sentencepiece-0.1.94\n"
          ],
          "name": "stdout"
        }
      ]
    },
    {
      "cell_type": "code",
      "metadata": {
        "id": "r72yzfDkMSVU"
      },
      "source": [
        "import tokenization"
      ],
      "execution_count": null,
      "outputs": []
    },
    {
      "cell_type": "code",
      "metadata": {
        "id": "gAuiS6t4MW_4"
      },
      "source": [
        "def bert_encode(texts, tokenizer, max_len=512):\n",
        "    all_tokens = []\n",
        "    all_masks = []\n",
        "    all_segments = []\n",
        "    \n",
        "    for text in texts:\n",
        "        text = tokenizer.tokenize(text)\n",
        "            \n",
        "        text = text[:max_len-2]\n",
        "        input_sequence = [\"[CLS]\"] + text + [\"[SEP]\"]\n",
        "        pad_len = max_len - len(input_sequence)\n",
        "        \n",
        "        tokens = tokenizer.convert_tokens_to_ids(input_sequence)\n",
        "        tokens += [0] * pad_len\n",
        "        pad_masks = [1] * len(input_sequence) + [0] * pad_len\n",
        "        segment_ids = [0] * max_len\n",
        "        \n",
        "        all_tokens.append(tokens)\n",
        "        all_masks.append(pad_masks)\n",
        "        all_segments.append(segment_ids)\n",
        "    \n",
        "    return np.array(all_tokens), np.array(all_masks), np.array(all_segments)"
      ],
      "execution_count": null,
      "outputs": []
    },
    {
      "cell_type": "code",
      "metadata": {
        "id": "2R5uSnu5MZQ3"
      },
      "source": [
        "def build_model(bert_layer, max_len=512):\n",
        "    input_word_ids = Input(shape=(max_len,), dtype=tf.int32, name=\"input_word_ids\")\n",
        "    input_mask = Input(shape=(max_len,), dtype=tf.int32, name=\"input_mask\")\n",
        "    segment_ids = Input(shape=(max_len,), dtype=tf.int32, name=\"segment_ids\")\n",
        "\n",
        "    pooled_output, sequence_output = bert_layer([input_word_ids, input_mask, segment_ids])\n",
        "    clf_output = pooled_output\n",
        "    clf_output1=tf.reshape(clf_output,[1,1,1024])\n",
        "    gru_output1 = GRU(100, input_shape=(1024,), return_sequences=True)(clf_output1)\n",
        "    dp_output1 = Dropout(0.2)(gru_output1)\n",
        "    print(\"Reached here 2?\")\n",
        "    gru_output2 = GRU(100, return_sequences=True)(dp_output1)\n",
        "    dp_output2 = Dropout(0.2)(gru_output2)\n",
        "    print(\"Reached here 3?\")\n",
        "    gru_output3 = GRU(100)(dp_output2)\n",
        "    dp_output3 = Dropout(0.2)(gru_output3)\n",
        "    out = Dense(6, activation='softmax')(dp_output3)\n",
        "    \n",
        "    model = Model(inputs=[input_word_ids, input_mask, segment_ids], outputs=out)\n",
        "    model.compile(Adam(lr=2e-6), loss='binary_crossentropy', metrics=['accuracy'])\n",
        "    \n",
        "    return model"
      ],
      "execution_count": null,
      "outputs": []
    },
    {
      "cell_type": "code",
      "metadata": {
        "id": "T0lDyjgKQrbW",
        "colab": {
          "base_uri": "https://localhost:8080/"
        },
        "outputId": "fd31b9e2-3ccd-4c4f-f7f1-be9da6fc1a9e"
      },
      "source": [
        "from google.colab import drive\n",
        "drive.mount('/content/gdrive')"
      ],
      "execution_count": null,
      "outputs": [
        {
          "output_type": "stream",
          "text": [
            "Mounted at /content/gdrive\n"
          ],
          "name": "stdout"
        }
      ]
    },
    {
      "cell_type": "code",
      "metadata": {
        "id": "SPBiw3jdQqXo",
        "colab": {
          "base_uri": "https://localhost:8080/"
        },
        "outputId": "42e2947d-1ed5-4adf-86bb-05980b0a9b52"
      },
      "source": [
        "%%time\n",
        "module_url = \"https://tfhub.dev/tensorflow/bert_en_uncased_L-24_H-1024_A-16/1\"\n",
        "bert_layer = hub.KerasLayer(module_url, trainable=True)"
      ],
      "execution_count": null,
      "outputs": [
        {
          "output_type": "stream",
          "text": [
            "CPU times: user 42.2 s, sys: 10.4 s, total: 52.6 s\n",
            "Wall time: 2min 40s\n"
          ],
          "name": "stdout"
        }
      ]
    },
    {
      "cell_type": "code",
      "metadata": {
        "id": "v-g0HXbfQuZa"
      },
      "source": [
        "with open('/content/gdrive/My Drive/iemocap/train/sentences.pkl', 'rb') as f:\n",
        "    data = pickle.load(f)\n",
        "with open('/content/gdrive/My Drive/iemocap/train/labels.pkl', 'rb') as f:\n",
        "    labels = pickle.load(f)\n",
        "with open('/content/gdrive/My Drive/iemocap/test/sentences.pkl', 'rb') as f:\n",
        "    test_data = pickle.load(f)\n",
        "with open('/content/gdrive/My Drive/iemocap/test/labels.pkl', 'rb') as f:\n",
        "    test_labels = pickle.load(f)"
      ],
      "execution_count": null,
      "outputs": []
    },
    {
      "cell_type": "code",
      "metadata": {
        "id": "VTVssce7QwPd"
      },
      "source": [
        "def preprocessing(data,labels):\n",
        "  processed_data=[]\n",
        "  processed_label=[]\n",
        "  for i in range(0,len(data)):\n",
        "    for j in range(0,len(data[i])):\n",
        "      intermediate_data=[]\n",
        "      intermediate_label=[]\n",
        "      for k in range(0,len(data[i][j])):\n",
        "        text=data[i][j][k]\n",
        "        if text != '<eos>'and text!='<pad>':\n",
        "          intermediate_data.append(text)\n",
        "      processed_data.append(intermediate_data)\n",
        "  for i in labels:\n",
        "    for j in i:\n",
        "      processed_label.append(j)\n",
        "  return processed_data,processed_label"
      ],
      "execution_count": null,
      "outputs": []
    },
    {
      "cell_type": "code",
      "metadata": {
        "id": "fKUpRX1cQw1y"
      },
      "source": [
        "processed_data,processed_label = preprocessing(data,labels)\n",
        "test_processed_data,test_processed_label = preprocessing(test_data,test_labels)"
      ],
      "execution_count": null,
      "outputs": []
    },
    {
      "cell_type": "code",
      "metadata": {
        "id": "2Eib7uuMRLsc"
      },
      "source": [
        "for i in range(0,len(processed_data)):\n",
        "  processed_data[i]= ' '.join(processed_data[i])\n",
        "for i in range(0,len(test_processed_data)):\n",
        "  test_processed_data[i]=' '.join(test_processed_data[i])"
      ],
      "execution_count": null,
      "outputs": []
    },
    {
      "cell_type": "markdown",
      "metadata": {
        "id": "VfvmEKeHI7Kf"
      },
      "source": [
        "**End of Preprocessing Here. Further Processing is for BERT**"
      ]
    },
    {
      "cell_type": "code",
      "metadata": {
        "id": "Bf4C0QIsRPiS"
      },
      "source": [
        "processed_data=np.asarray(processed_data)\n",
        "test_processed_data=np.asarray(test_processed_data)\n",
        "Y=to_categorical(processed_label, num_classes=6)\n",
        "test_Y=to_categorical(test_processed_label, num_classes=6)"
      ],
      "execution_count": null,
      "outputs": []
    },
    {
      "cell_type": "code",
      "metadata": {
        "id": "kiTdbVgdRTAi"
      },
      "source": [
        "vocab_file = bert_layer.resolved_object.vocab_file.asset_path.numpy()\n",
        "do_lower_case = bert_layer.resolved_object.do_lower_case.numpy()\n",
        "tokenizer = tokenization.FullTokenizer(vocab_file, do_lower_case)"
      ],
      "execution_count": null,
      "outputs": []
    },
    {
      "cell_type": "code",
      "metadata": {
        "id": "K8sAlpdtRW6n"
      },
      "source": [
        "train_input = bert_encode(processed_data, tokenizer, max_len=160)\n",
        "test_input = bert_encode(test_processed_data, tokenizer, max_len=160)\n",
        "train_labels = Y\n",
        "test_labels = test_Y"
      ],
      "execution_count": null,
      "outputs": []
    },
    {
      "cell_type": "code",
      "metadata": {
        "id": "bYSK8AjpRYPx",
        "colab": {
          "base_uri": "https://localhost:8080/"
        },
        "outputId": "194c5bbe-70a5-4cf4-aa5b-79c332810388"
      },
      "source": [
        "model = build_model(bert_layer, max_len=160)\n",
        "model.summary()"
      ],
      "execution_count": null,
      "outputs": [
        {
          "output_type": "stream",
          "text": [
            "Reached here 2?\n",
            "Reached here 3?\n",
            "Model: \"model\"\n",
            "__________________________________________________________________________________________________\n",
            "Layer (type)                    Output Shape         Param #     Connected to                     \n",
            "==================================================================================================\n",
            "input_word_ids (InputLayer)     [(None, 160)]        0                                            \n",
            "__________________________________________________________________________________________________\n",
            "input_mask (InputLayer)         [(None, 160)]        0                                            \n",
            "__________________________________________________________________________________________________\n",
            "segment_ids (InputLayer)        [(None, 160)]        0                                            \n",
            "__________________________________________________________________________________________________\n",
            "keras_layer (KerasLayer)        [(None, 1024), (None 335141889   input_word_ids[0][0]             \n",
            "                                                                 input_mask[0][0]                 \n",
            "                                                                 segment_ids[0][0]                \n",
            "__________________________________________________________________________________________________\n",
            "tf.reshape_1 (TFOpLambda)       (1, 1, 1024)         0           keras_layer[1][0]                \n",
            "__________________________________________________________________________________________________\n",
            "gru (GRU)                       (1, 1, 100)          337800      tf.reshape_1[0][0]               \n",
            "__________________________________________________________________________________________________\n",
            "dropout (Dropout)               (1, 1, 100)          0           gru[0][0]                        \n",
            "__________________________________________________________________________________________________\n",
            "gru_1 (GRU)                     (1, 1, 100)          60600       dropout[0][0]                    \n",
            "__________________________________________________________________________________________________\n",
            "dropout_1 (Dropout)             (1, 1, 100)          0           gru_1[0][0]                      \n",
            "__________________________________________________________________________________________________\n",
            "gru_2 (GRU)                     (1, 100)             60600       dropout_1[0][0]                  \n",
            "__________________________________________________________________________________________________\n",
            "dropout_2 (Dropout)             (1, 100)             0           gru_2[0][0]                      \n",
            "__________________________________________________________________________________________________\n",
            "dense (Dense)                   (1, 6)               606         dropout_2[0][0]                  \n",
            "==================================================================================================\n",
            "Total params: 335,601,495\n",
            "Trainable params: 335,601,494\n",
            "Non-trainable params: 1\n",
            "__________________________________________________________________________________________________\n"
          ],
          "name": "stdout"
        }
      ]
    },
    {
      "cell_type": "code",
      "metadata": {
        "id": "99O-dUk_Ra5y",
        "colab": {
          "base_uri": "https://localhost:8080/"
        },
        "outputId": "912924fa-ec72-4cc8-906e-7cbe7002bef5"
      },
      "source": [
        "train_history = model.fit(\n",
        "    train_input, train_labels,\n",
        "    epochs=6,\n",
        "    batch_size=1\n",
        ")\n",
        "\n",
        "model.save('model.h5')"
      ],
      "execution_count": null,
      "outputs": [
        {
          "output_type": "stream",
          "text": [
            "Epoch 1/6\n",
            "1476/4699 [========>.....................] - ETA: 9:02 - loss: 0.6504 - accuracy: 0.2171"
          ],
          "name": "stdout"
        }
      ]
    },
    {
      "cell_type": "code",
      "metadata": {
        "id": "i1yXEXJpRcdF"
      },
      "source": [
        "y_pred=model.predict(test_input, batch_size=1)"
      ],
      "execution_count": null,
      "outputs": []
    },
    {
      "cell_type": "code",
      "metadata": {
        "id": "ifq6GS_ylKXA"
      },
      "source": [
        "y_pred1=np.argmax(y_pred,axis=1)\n",
        "test_processed_label=np.asarray(test_processed_label)\n",
        "print(\"Accuracy : \" + str(accuracy_score(test_processed_label, y_pred1)))\n",
        "print(\"Weighted F1-score : \" + str(f1_score(test_processed_label, y_pred1, average='weighted')))"
      ],
      "execution_count": null,
      "outputs": []
    }
  ]
}