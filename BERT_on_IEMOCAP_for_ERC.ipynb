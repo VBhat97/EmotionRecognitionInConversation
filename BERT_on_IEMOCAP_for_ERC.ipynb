{
  "nbformat": 4,
  "nbformat_minor": 0,
  "metadata": {
    "colab": {
      "name": "BERT_on_IEMOCAP_for_ERC.ipynb",
      "provenance": [],
      "authorship_tag": "ABX9TyPWuaX1FiM/EGQP0u/Q1907",
      "include_colab_link": true
    },
    "kernelspec": {
      "name": "python3",
      "display_name": "Python 3"
    },
    "accelerator": "GPU"
  },
  "cells": [
    {
      "cell_type": "markdown",
      "metadata": {
        "id": "view-in-github",
        "colab_type": "text"
      },
      "source": [
        "<a href=\"https://colab.research.google.com/github/anitayadav3/EmotionRecognitionInConversation/blob/master/BERT_on_IEMOCAP_for_ERC.ipynb\" target=\"_parent\"><img src=\"https://colab.research.google.com/assets/colab-badge.svg\" alt=\"Open In Colab\"/></a>"
      ]
    },
    {
      "cell_type": "code",
      "metadata": {
        "id": "MmEvhf1ZjHct"
      },
      "source": [
        "import numpy as np # linear algebra\n",
        "import pandas as pd # data processing, CSV file I/O (e.g. pd.read_csv)\n",
        "import numpy as np\n",
        "import pandas as pd\n",
        "import tensorflow as tf\n",
        "from tensorflow.keras.layers import Dense, Input\n",
        "from tensorflow.keras.optimizers import Adam\n",
        "from tensorflow.keras.models import Model\n",
        "from tensorflow.keras.callbacks import ModelCheckpoint\n",
        "import tensorflow_hub as hub\n",
        "import pickle\n",
        "from keras.utils.np_utils import to_categorical  "
      ],
      "execution_count": 1,
      "outputs": []
    },
    {
      "cell_type": "code",
      "metadata": {
        "id": "jPQj8ZNajTfc",
        "outputId": "17ca2cf1-6f4d-42e8-e79b-7608bab16802",
        "colab": {
          "base_uri": "https://localhost:8080/"
        }
      },
      "source": [
        "!wget --quiet https://raw.githubusercontent.com/tensorflow/models/master/official/nlp/bert/tokenization.py\n",
        "!pip install sentencepiece"
      ],
      "execution_count": 2,
      "outputs": [
        {
          "output_type": "stream",
          "text": [
            "Collecting sentencepiece\n",
            "\u001b[?25l  Downloading https://files.pythonhosted.org/packages/e5/2d/6d4ca4bef9a67070fa1cac508606328329152b1df10bdf31fb6e4e727894/sentencepiece-0.1.94-cp36-cp36m-manylinux2014_x86_64.whl (1.1MB)\n",
            "\r\u001b[K     |▎                               | 10kB 21.4MB/s eta 0:00:01\r\u001b[K     |▋                               | 20kB 21.8MB/s eta 0:00:01\r\u001b[K     |▉                               | 30kB 17.0MB/s eta 0:00:01\r\u001b[K     |█▏                              | 40kB 11.1MB/s eta 0:00:01\r\u001b[K     |█▌                              | 51kB 9.3MB/s eta 0:00:01\r\u001b[K     |█▊                              | 61kB 9.2MB/s eta 0:00:01\r\u001b[K     |██                              | 71kB 6.2MB/s eta 0:00:01\r\u001b[K     |██▍                             | 81kB 6.4MB/s eta 0:00:01\r\u001b[K     |██▋                             | 92kB 6.5MB/s eta 0:00:01\r\u001b[K     |███                             | 102kB 6.6MB/s eta 0:00:01\r\u001b[K     |███▎                            | 112kB 6.6MB/s eta 0:00:01\r\u001b[K     |███▌                            | 122kB 6.6MB/s eta 0:00:01\r\u001b[K     |███▉                            | 133kB 6.6MB/s eta 0:00:01\r\u001b[K     |████▏                           | 143kB 6.6MB/s eta 0:00:01\r\u001b[K     |████▍                           | 153kB 6.6MB/s eta 0:00:01\r\u001b[K     |████▊                           | 163kB 6.6MB/s eta 0:00:01\r\u001b[K     |█████                           | 174kB 6.6MB/s eta 0:00:01\r\u001b[K     |█████▎                          | 184kB 6.6MB/s eta 0:00:01\r\u001b[K     |█████▋                          | 194kB 6.6MB/s eta 0:00:01\r\u001b[K     |█████▉                          | 204kB 6.6MB/s eta 0:00:01\r\u001b[K     |██████▏                         | 215kB 6.6MB/s eta 0:00:01\r\u001b[K     |██████▌                         | 225kB 6.6MB/s eta 0:00:01\r\u001b[K     |██████▊                         | 235kB 6.6MB/s eta 0:00:01\r\u001b[K     |███████                         | 245kB 6.6MB/s eta 0:00:01\r\u001b[K     |███████▍                        | 256kB 6.6MB/s eta 0:00:01\r\u001b[K     |███████▋                        | 266kB 6.6MB/s eta 0:00:01\r\u001b[K     |████████                        | 276kB 6.6MB/s eta 0:00:01\r\u001b[K     |████████▎                       | 286kB 6.6MB/s eta 0:00:01\r\u001b[K     |████████▌                       | 296kB 6.6MB/s eta 0:00:01\r\u001b[K     |████████▉                       | 307kB 6.6MB/s eta 0:00:01\r\u001b[K     |█████████                       | 317kB 6.6MB/s eta 0:00:01\r\u001b[K     |█████████▍                      | 327kB 6.6MB/s eta 0:00:01\r\u001b[K     |█████████▊                      | 337kB 6.6MB/s eta 0:00:01\r\u001b[K     |██████████                      | 348kB 6.6MB/s eta 0:00:01\r\u001b[K     |██████████▎                     | 358kB 6.6MB/s eta 0:00:01\r\u001b[K     |██████████▋                     | 368kB 6.6MB/s eta 0:00:01\r\u001b[K     |██████████▉                     | 378kB 6.6MB/s eta 0:00:01\r\u001b[K     |███████████▏                    | 389kB 6.6MB/s eta 0:00:01\r\u001b[K     |███████████▌                    | 399kB 6.6MB/s eta 0:00:01\r\u001b[K     |███████████▊                    | 409kB 6.6MB/s eta 0:00:01\r\u001b[K     |████████████                    | 419kB 6.6MB/s eta 0:00:01\r\u001b[K     |████████████▍                   | 430kB 6.6MB/s eta 0:00:01\r\u001b[K     |████████████▋                   | 440kB 6.6MB/s eta 0:00:01\r\u001b[K     |█████████████                   | 450kB 6.6MB/s eta 0:00:01\r\u001b[K     |█████████████▎                  | 460kB 6.6MB/s eta 0:00:01\r\u001b[K     |█████████████▌                  | 471kB 6.6MB/s eta 0:00:01\r\u001b[K     |█████████████▉                  | 481kB 6.6MB/s eta 0:00:01\r\u001b[K     |██████████████                  | 491kB 6.6MB/s eta 0:00:01\r\u001b[K     |██████████████▍                 | 501kB 6.6MB/s eta 0:00:01\r\u001b[K     |██████████████▊                 | 512kB 6.6MB/s eta 0:00:01\r\u001b[K     |███████████████                 | 522kB 6.6MB/s eta 0:00:01\r\u001b[K     |███████████████▎                | 532kB 6.6MB/s eta 0:00:01\r\u001b[K     |███████████████▋                | 542kB 6.6MB/s eta 0:00:01\r\u001b[K     |███████████████▉                | 552kB 6.6MB/s eta 0:00:01\r\u001b[K     |████████████████▏               | 563kB 6.6MB/s eta 0:00:01\r\u001b[K     |████████████████▌               | 573kB 6.6MB/s eta 0:00:01\r\u001b[K     |████████████████▊               | 583kB 6.6MB/s eta 0:00:01\r\u001b[K     |█████████████████               | 593kB 6.6MB/s eta 0:00:01\r\u001b[K     |█████████████████▍              | 604kB 6.6MB/s eta 0:00:01\r\u001b[K     |█████████████████▋              | 614kB 6.6MB/s eta 0:00:01\r\u001b[K     |██████████████████              | 624kB 6.6MB/s eta 0:00:01\r\u001b[K     |██████████████████▏             | 634kB 6.6MB/s eta 0:00:01\r\u001b[K     |██████████████████▌             | 645kB 6.6MB/s eta 0:00:01\r\u001b[K     |██████████████████▉             | 655kB 6.6MB/s eta 0:00:01\r\u001b[K     |███████████████████             | 665kB 6.6MB/s eta 0:00:01\r\u001b[K     |███████████████████▍            | 675kB 6.6MB/s eta 0:00:01\r\u001b[K     |███████████████████▊            | 686kB 6.6MB/s eta 0:00:01\r\u001b[K     |████████████████████            | 696kB 6.6MB/s eta 0:00:01\r\u001b[K     |████████████████████▎           | 706kB 6.6MB/s eta 0:00:01\r\u001b[K     |████████████████████▋           | 716kB 6.6MB/s eta 0:00:01\r\u001b[K     |████████████████████▉           | 727kB 6.6MB/s eta 0:00:01\r\u001b[K     |█████████████████████▏          | 737kB 6.6MB/s eta 0:00:01\r\u001b[K     |█████████████████████▌          | 747kB 6.6MB/s eta 0:00:01\r\u001b[K     |█████████████████████▊          | 757kB 6.6MB/s eta 0:00:01\r\u001b[K     |██████████████████████          | 768kB 6.6MB/s eta 0:00:01\r\u001b[K     |██████████████████████▎         | 778kB 6.6MB/s eta 0:00:01\r\u001b[K     |██████████████████████▋         | 788kB 6.6MB/s eta 0:00:01\r\u001b[K     |███████████████████████         | 798kB 6.6MB/s eta 0:00:01\r\u001b[K     |███████████████████████▏        | 808kB 6.6MB/s eta 0:00:01\r\u001b[K     |███████████████████████▌        | 819kB 6.6MB/s eta 0:00:01\r\u001b[K     |███████████████████████▉        | 829kB 6.6MB/s eta 0:00:01\r\u001b[K     |████████████████████████        | 839kB 6.6MB/s eta 0:00:01\r\u001b[K     |████████████████████████▍       | 849kB 6.6MB/s eta 0:00:01\r\u001b[K     |████████████████████████▊       | 860kB 6.6MB/s eta 0:00:01\r\u001b[K     |█████████████████████████       | 870kB 6.6MB/s eta 0:00:01\r\u001b[K     |█████████████████████████▎      | 880kB 6.6MB/s eta 0:00:01\r\u001b[K     |█████████████████████████▋      | 890kB 6.6MB/s eta 0:00:01\r\u001b[K     |█████████████████████████▉      | 901kB 6.6MB/s eta 0:00:01\r\u001b[K     |██████████████████████████▏     | 911kB 6.6MB/s eta 0:00:01\r\u001b[K     |██████████████████████████▌     | 921kB 6.6MB/s eta 0:00:01\r\u001b[K     |██████████████████████████▊     | 931kB 6.6MB/s eta 0:00:01\r\u001b[K     |███████████████████████████     | 942kB 6.6MB/s eta 0:00:01\r\u001b[K     |███████████████████████████▎    | 952kB 6.6MB/s eta 0:00:01\r\u001b[K     |███████████████████████████▋    | 962kB 6.6MB/s eta 0:00:01\r\u001b[K     |████████████████████████████    | 972kB 6.6MB/s eta 0:00:01\r\u001b[K     |████████████████████████████▏   | 983kB 6.6MB/s eta 0:00:01\r\u001b[K     |████████████████████████████▌   | 993kB 6.6MB/s eta 0:00:01\r\u001b[K     |████████████████████████████▉   | 1.0MB 6.6MB/s eta 0:00:01\r\u001b[K     |█████████████████████████████   | 1.0MB 6.6MB/s eta 0:00:01\r\u001b[K     |█████████████████████████████▍  | 1.0MB 6.6MB/s eta 0:00:01\r\u001b[K     |█████████████████████████████▊  | 1.0MB 6.6MB/s eta 0:00:01\r\u001b[K     |██████████████████████████████  | 1.0MB 6.6MB/s eta 0:00:01\r\u001b[K     |██████████████████████████████▎ | 1.1MB 6.6MB/s eta 0:00:01\r\u001b[K     |██████████████████████████████▋ | 1.1MB 6.6MB/s eta 0:00:01\r\u001b[K     |██████████████████████████████▉ | 1.1MB 6.6MB/s eta 0:00:01\r\u001b[K     |███████████████████████████████▏| 1.1MB 6.6MB/s eta 0:00:01\r\u001b[K     |███████████████████████████████▍| 1.1MB 6.6MB/s eta 0:00:01\r\u001b[K     |███████████████████████████████▊| 1.1MB 6.6MB/s eta 0:00:01\r\u001b[K     |████████████████████████████████| 1.1MB 6.6MB/s \n",
            "\u001b[?25hInstalling collected packages: sentencepiece\n",
            "Successfully installed sentencepiece-0.1.94\n"
          ],
          "name": "stdout"
        }
      ]
    },
    {
      "cell_type": "code",
      "metadata": {
        "id": "v40qD4r3jYKM"
      },
      "source": [
        "import tokenization"
      ],
      "execution_count": 3,
      "outputs": []
    },
    {
      "cell_type": "markdown",
      "metadata": {
        "id": "3bB32sbUjdbj"
      },
      "source": [
        "**BERT MODEL**"
      ]
    },
    {
      "cell_type": "code",
      "metadata": {
        "id": "2svsHvuMjabg"
      },
      "source": [
        "def bert_encode(texts, tokenizer, max_len=512):\n",
        "    all_tokens = []\n",
        "    all_masks = []\n",
        "    all_segments = []\n",
        "    \n",
        "    for text in texts:\n",
        "        text = tokenizer.tokenize(text)\n",
        "            \n",
        "        text = text[:max_len-2]\n",
        "        input_sequence = [\"[CLS]\"] + text + [\"[SEP]\"]\n",
        "        pad_len = max_len - len(input_sequence)\n",
        "        \n",
        "        tokens = tokenizer.convert_tokens_to_ids(input_sequence)\n",
        "        tokens += [0] * pad_len\n",
        "        pad_masks = [1] * len(input_sequence) + [0] * pad_len\n",
        "        segment_ids = [0] * max_len\n",
        "        \n",
        "        all_tokens.append(tokens)\n",
        "        all_masks.append(pad_masks)\n",
        "        all_segments.append(segment_ids)\n",
        "    \n",
        "    return np.array(all_tokens), np.array(all_masks), np.array(all_segments)"
      ],
      "execution_count": 4,
      "outputs": []
    },
    {
      "cell_type": "code",
      "metadata": {
        "id": "H-80Hx3Ujfs7"
      },
      "source": [
        "def build_model(bert_layer, max_len=512):\n",
        "    input_word_ids = Input(shape=(max_len,), dtype=tf.int32, name=\"input_word_ids\")\n",
        "    input_mask = Input(shape=(max_len,), dtype=tf.int32, name=\"input_mask\")\n",
        "    segment_ids = Input(shape=(max_len,), dtype=tf.int32, name=\"segment_ids\")\n",
        "\n",
        "    _, sequence_output = bert_layer([input_word_ids, input_mask, segment_ids])\n",
        "    clf_output = sequence_output[:, 0, :]\n",
        "    out = Dense(6, activation='softmax')(clf_output)\n",
        "    \n",
        "    model = Model(inputs=[input_word_ids, input_mask, segment_ids], outputs=out)\n",
        "    model.compile(Adam(lr=2e-6), loss='binary_crossentropy', metrics=['accuracy'])\n",
        "    \n",
        "    return model"
      ],
      "execution_count": 5,
      "outputs": []
    },
    {
      "cell_type": "code",
      "metadata": {
        "id": "rpTgXa2hjje-",
        "outputId": "635f56af-0106-478b-c696-afa2038345a9",
        "colab": {
          "base_uri": "https://localhost:8080/"
        }
      },
      "source": [
        "#Cell takes time between 2-10 mins. Run and wait\n",
        "%%time\n",
        "module_url = \"https://tfhub.dev/tensorflow/bert_en_uncased_L-24_H-1024_A-16/1\"\n",
        "bert_layer = hub.KerasLayer(module_url, trainable=True)"
      ],
      "execution_count": 6,
      "outputs": [
        {
          "output_type": "stream",
          "text": [
            "CPU times: user 41.5 s, sys: 12.2 s, total: 53.7 s\n",
            "Wall time: 1min 51s\n"
          ],
          "name": "stdout"
        }
      ]
    },
    {
      "cell_type": "markdown",
      "metadata": {
        "id": "BY5zw8JhkcKX"
      },
      "source": [
        "**Adding IEMOCAP data in the required format**"
      ]
    },
    {
      "cell_type": "code",
      "metadata": {
        "id": "oZ5pmNKbkf05",
        "outputId": "c40c1fac-6a9d-4bbf-c7e2-fbd843221f6f",
        "colab": {
          "base_uri": "https://localhost:8080/"
        }
      },
      "source": [
        "from google.colab import drive\n",
        "drive.mount('/content/gdrive')"
      ],
      "execution_count": 7,
      "outputs": [
        {
          "output_type": "stream",
          "text": [
            "Mounted at /content/gdrive\n"
          ],
          "name": "stdout"
        }
      ]
    },
    {
      "cell_type": "code",
      "metadata": {
        "id": "hc4k5JnFnSR8"
      },
      "source": [
        "with open('/content/gdrive/My Drive/iemocap/train/sentences.pkl', 'rb') as f:\n",
        "    data = pickle.load(f)\n",
        "with open('/content/gdrive/My Drive/iemocap/train/labels.pkl', 'rb') as f:\n",
        "    labels = pickle.load(f)\n",
        "with open('/content/gdrive/My Drive/iemocap/test/sentences.pkl', 'rb') as f:\n",
        "    test_data = pickle.load(f)\n",
        "with open('/content/gdrive/My Drive/iemocap/test/labels.pkl', 'rb') as f:\n",
        "    test_labels = pickle.load(f)"
      ],
      "execution_count": 8,
      "outputs": []
    },
    {
      "cell_type": "code",
      "metadata": {
        "id": "QxFLffkanaY1"
      },
      "source": [
        "def preprocessing(data,labels):\n",
        "  processed_data=[]\n",
        "  processed_label=[]\n",
        "  for i in range(0,len(data)):\n",
        "    for j in range(0,len(data[i])):\n",
        "      intermediate_data=[]\n",
        "      intermediate_label=[]\n",
        "      for k in range(0,len(data[i][j])):\n",
        "        text=data[i][j][k]\n",
        "        if text != '<eos>'and text!='<pad>':\n",
        "          intermediate_data.append(text)\n",
        "      processed_data.append(intermediate_data)\n",
        "  for i in labels:\n",
        "    for j in i:\n",
        "      processed_label.append(j)\n",
        "  return processed_data,processed_label"
      ],
      "execution_count": 9,
      "outputs": []
    },
    {
      "cell_type": "code",
      "metadata": {
        "id": "VJZvCVeKndGA"
      },
      "source": [
        "processed_data,processed_label = preprocessing(data,labels)\n",
        "test_processed_data,test_processed_label = preprocessing(test_data,test_labels)"
      ],
      "execution_count": 10,
      "outputs": []
    },
    {
      "cell_type": "code",
      "metadata": {
        "id": "V72pOXvcnfTc"
      },
      "source": [
        "for i in range(0,len(processed_data)):\n",
        "  processed_data[i]= ' '.join(processed_data[i])\n",
        "for i in range(0,len(test_processed_data)):\n",
        "  test_processed_data[i]=' '.join(test_processed_data[i])"
      ],
      "execution_count": 11,
      "outputs": []
    },
    {
      "cell_type": "code",
      "metadata": {
        "id": "B72KeG6yoiy3"
      },
      "source": [
        "processed_data=np.asarray(processed_data)\n",
        "test_processed_data=np.asarray(test_processed_data)"
      ],
      "execution_count": 12,
      "outputs": []
    },
    {
      "cell_type": "code",
      "metadata": {
        "id": "FH0titB8qFqZ"
      },
      "source": [
        "Y=to_categorical(processed_label, num_classes=6)\n",
        "test_Y=to_categorical(test_processed_label, num_classes=6)"
      ],
      "execution_count": 13,
      "outputs": []
    },
    {
      "cell_type": "markdown",
      "metadata": {
        "id": "qCsU3_48qRP_"
      },
      "source": [
        "**Inputting the data now**"
      ]
    },
    {
      "cell_type": "code",
      "metadata": {
        "id": "gdaaSY7jqNUb"
      },
      "source": [
        "vocab_file = bert_layer.resolved_object.vocab_file.asset_path.numpy()\n",
        "do_lower_case = bert_layer.resolved_object.do_lower_case.numpy()\n",
        "tokenizer = tokenization.FullTokenizer(vocab_file, do_lower_case)"
      ],
      "execution_count": 14,
      "outputs": []
    },
    {
      "cell_type": "code",
      "metadata": {
        "id": "OyvDfiZEqQgm"
      },
      "source": [
        "train_input = bert_encode(processed_data, tokenizer, max_len=160)\n",
        "test_input = bert_encode(test_processed_data, tokenizer, max_len=160)\n",
        "train_labels = Y\n",
        "test_labels = test_Y"
      ],
      "execution_count": 15,
      "outputs": []
    },
    {
      "cell_type": "code",
      "metadata": {
        "id": "1gmA9ffzqgMI",
        "outputId": "48fe7076-ff77-4517-dc4d-fc3129e3890d",
        "colab": {
          "base_uri": "https://localhost:8080/"
        }
      },
      "source": [
        "model = build_model(bert_layer, max_len=160)\n",
        "model.summary()"
      ],
      "execution_count": 16,
      "outputs": [
        {
          "output_type": "stream",
          "text": [
            "Model: \"functional_1\"\n",
            "__________________________________________________________________________________________________\n",
            "Layer (type)                    Output Shape         Param #     Connected to                     \n",
            "==================================================================================================\n",
            "input_word_ids (InputLayer)     [(None, 160)]        0                                            \n",
            "__________________________________________________________________________________________________\n",
            "input_mask (InputLayer)         [(None, 160)]        0                                            \n",
            "__________________________________________________________________________________________________\n",
            "segment_ids (InputLayer)        [(None, 160)]        0                                            \n",
            "__________________________________________________________________________________________________\n",
            "keras_layer (KerasLayer)        [(None, 1024), (None 335141889   input_word_ids[0][0]             \n",
            "                                                                 input_mask[0][0]                 \n",
            "                                                                 segment_ids[0][0]                \n",
            "__________________________________________________________________________________________________\n",
            "tf_op_layer_strided_slice (Tens [(None, 1024)]       0           keras_layer[0][1]                \n",
            "__________________________________________________________________________________________________\n",
            "dense (Dense)                   (None, 6)            6150        tf_op_layer_strided_slice[0][0]  \n",
            "==================================================================================================\n",
            "Total params: 335,148,039\n",
            "Trainable params: 335,148,038\n",
            "Non-trainable params: 1\n",
            "__________________________________________________________________________________________________\n"
          ],
          "name": "stdout"
        }
      ]
    },
    {
      "cell_type": "code",
      "metadata": {
        "id": "dh3lTp-DqsFm",
        "outputId": "e3851127-88e5-4ecb-c537-fe3793d0c44c",
        "colab": {
          "base_uri": "https://localhost:8080/"
        }
      },
      "source": [
        "train_history = model.fit(\n",
        "    train_input, train_labels,\n",
        "    epochs=6,\n",
        "    batch_size=1\n",
        ")\n",
        "\n",
        "model.save('model.h5')"
      ],
      "execution_count": 17,
      "outputs": [
        {
          "output_type": "stream",
          "text": [
            "Epoch 1/6\n",
            "4699/4699 [==============================] - 799s 170ms/step - loss: 0.3733 - accuracy: 0.4337\n",
            "Epoch 2/6\n",
            "4699/4699 [==============================] - 800s 170ms/step - loss: 0.2464 - accuracy: 0.6808\n",
            "Epoch 3/6\n",
            "4699/4699 [==============================] - 799s 170ms/step - loss: 0.1393 - accuracy: 0.8410\n",
            "Epoch 4/6\n",
            "4699/4699 [==============================] - 799s 170ms/step - loss: 0.0980 - accuracy: 0.8896\n",
            "Epoch 5/6\n",
            "4699/4699 [==============================] - 798s 170ms/step - loss: 0.0886 - accuracy: 0.8974\n",
            "Epoch 6/6\n",
            "4699/4699 [==============================] - 798s 170ms/step - loss: 0.0753 - accuracy: 0.9110\n"
          ],
          "name": "stdout"
        }
      ]
    },
    {
      "cell_type": "code",
      "metadata": {
        "id": "Cc_vLoXhvdc6",
        "outputId": "4d75a325-54c6-47cd-c787-d636f7bd576c",
        "colab": {
          "base_uri": "https://localhost:8080/"
        }
      },
      "source": [
        "score,acc=model.evaluate(test_input,test_Y,verbose=2)\n",
        "print(\"Accuracy : \"+ str(acc))"
      ],
      "execution_count": 18,
      "outputs": [
        {
          "output_type": "stream",
          "text": [
            "51/51 - 62s - loss: 0.4710 - accuracy: 0.5089\n",
            "Accuracy : 0.5089340806007385\n"
          ],
          "name": "stdout"
        }
      ]
    }
  ]
}