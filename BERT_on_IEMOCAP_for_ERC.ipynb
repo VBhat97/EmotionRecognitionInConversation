{
  "nbformat": 4,
  "nbformat_minor": 0,
  "metadata": {
    "colab": {
      "name": "BERT_on_IEMOCAP_for_ERC.ipynb",
      "provenance": [],
      "authorship_tag": "ABX9TyPSn9dHy2Am36FFWErcN7zE",
      "include_colab_link": true
    },
    "kernelspec": {
      "name": "python3",
      "display_name": "Python 3"
    },
    "accelerator": "GPU"
  },
  "cells": [
    {
      "cell_type": "markdown",
      "metadata": {
        "id": "view-in-github",
        "colab_type": "text"
      },
      "source": [
        "<a href=\"https://colab.research.google.com/github/anitayadav3/EmotionRecognitionInConversation/blob/master/BERT_on_IEMOCAP_for_ERC.ipynb\" target=\"_parent\"><img src=\"https://colab.research.google.com/assets/colab-badge.svg\" alt=\"Open In Colab\"/></a>"
      ]
    },
    {
      "cell_type": "code",
      "metadata": {
        "id": "MmEvhf1ZjHct"
      },
      "source": [
        "import numpy as np # linear algebra\n",
        "import pandas as pd # data processing, CSV file I/O (e.g. pd.read_csv)\n",
        "import numpy as np\n",
        "import pandas as pd\n",
        "import tensorflow as tf\n",
        "from tensorflow.keras.layers import Dense, Input\n",
        "from tensorflow.keras.optimizers import Adam\n",
        "from tensorflow.keras.models import Model\n",
        "from tensorflow.keras.callbacks import ModelCheckpoint\n",
        "import tensorflow_hub as hub\n",
        "import pickle"
      ],
      "execution_count": 9,
      "outputs": []
    },
    {
      "cell_type": "code",
      "metadata": {
        "id": "jPQj8ZNajTfc",
        "outputId": "5ab0b2ae-070f-431b-9ecc-29b281a72f62",
        "colab": {
          "base_uri": "https://localhost:8080/"
        }
      },
      "source": [
        "!wget --quiet https://raw.githubusercontent.com/tensorflow/models/master/official/nlp/bert/tokenization.py\n",
        "!pip install sentencepiece"
      ],
      "execution_count": 2,
      "outputs": [
        {
          "output_type": "stream",
          "text": [
            "Collecting sentencepiece\n",
            "\u001b[?25l  Downloading https://files.pythonhosted.org/packages/e5/2d/6d4ca4bef9a67070fa1cac508606328329152b1df10bdf31fb6e4e727894/sentencepiece-0.1.94-cp36-cp36m-manylinux2014_x86_64.whl (1.1MB)\n",
            "\r\u001b[K     |▎                               | 10kB 19.7MB/s eta 0:00:01\r\u001b[K     |▋                               | 20kB 25.7MB/s eta 0:00:01\r\u001b[K     |▉                               | 30kB 15.2MB/s eta 0:00:01\r\u001b[K     |█▏                              | 40kB 10.0MB/s eta 0:00:01\r\u001b[K     |█▌                              | 51kB 8.7MB/s eta 0:00:01\r\u001b[K     |█▊                              | 61kB 9.2MB/s eta 0:00:01\r\u001b[K     |██                              | 71kB 8.5MB/s eta 0:00:01\r\u001b[K     |██▍                             | 81kB 8.5MB/s eta 0:00:01\r\u001b[K     |██▋                             | 92kB 8.8MB/s eta 0:00:01\r\u001b[K     |███                             | 102kB 9.1MB/s eta 0:00:01\r\u001b[K     |███▎                            | 112kB 9.1MB/s eta 0:00:01\r\u001b[K     |███▌                            | 122kB 9.1MB/s eta 0:00:01\r\u001b[K     |███▉                            | 133kB 9.1MB/s eta 0:00:01\r\u001b[K     |████▏                           | 143kB 9.1MB/s eta 0:00:01\r\u001b[K     |████▍                           | 153kB 9.1MB/s eta 0:00:01\r\u001b[K     |████▊                           | 163kB 9.1MB/s eta 0:00:01\r\u001b[K     |█████                           | 174kB 9.1MB/s eta 0:00:01\r\u001b[K     |█████▎                          | 184kB 9.1MB/s eta 0:00:01\r\u001b[K     |█████▋                          | 194kB 9.1MB/s eta 0:00:01\r\u001b[K     |█████▉                          | 204kB 9.1MB/s eta 0:00:01\r\u001b[K     |██████▏                         | 215kB 9.1MB/s eta 0:00:01\r\u001b[K     |██████▌                         | 225kB 9.1MB/s eta 0:00:01\r\u001b[K     |██████▊                         | 235kB 9.1MB/s eta 0:00:01\r\u001b[K     |███████                         | 245kB 9.1MB/s eta 0:00:01\r\u001b[K     |███████▍                        | 256kB 9.1MB/s eta 0:00:01\r\u001b[K     |███████▋                        | 266kB 9.1MB/s eta 0:00:01\r\u001b[K     |████████                        | 276kB 9.1MB/s eta 0:00:01\r\u001b[K     |████████▎                       | 286kB 9.1MB/s eta 0:00:01\r\u001b[K     |████████▌                       | 296kB 9.1MB/s eta 0:00:01\r\u001b[K     |████████▉                       | 307kB 9.1MB/s eta 0:00:01\r\u001b[K     |█████████                       | 317kB 9.1MB/s eta 0:00:01\r\u001b[K     |█████████▍                      | 327kB 9.1MB/s eta 0:00:01\r\u001b[K     |█████████▊                      | 337kB 9.1MB/s eta 0:00:01\r\u001b[K     |██████████                      | 348kB 9.1MB/s eta 0:00:01\r\u001b[K     |██████████▎                     | 358kB 9.1MB/s eta 0:00:01\r\u001b[K     |██████████▋                     | 368kB 9.1MB/s eta 0:00:01\r\u001b[K     |██████████▉                     | 378kB 9.1MB/s eta 0:00:01\r\u001b[K     |███████████▏                    | 389kB 9.1MB/s eta 0:00:01\r\u001b[K     |███████████▌                    | 399kB 9.1MB/s eta 0:00:01\r\u001b[K     |███████████▊                    | 409kB 9.1MB/s eta 0:00:01\r\u001b[K     |████████████                    | 419kB 9.1MB/s eta 0:00:01\r\u001b[K     |████████████▍                   | 430kB 9.1MB/s eta 0:00:01\r\u001b[K     |████████████▋                   | 440kB 9.1MB/s eta 0:00:01\r\u001b[K     |█████████████                   | 450kB 9.1MB/s eta 0:00:01\r\u001b[K     |█████████████▎                  | 460kB 9.1MB/s eta 0:00:01\r\u001b[K     |█████████████▌                  | 471kB 9.1MB/s eta 0:00:01\r\u001b[K     |█████████████▉                  | 481kB 9.1MB/s eta 0:00:01\r\u001b[K     |██████████████                  | 491kB 9.1MB/s eta 0:00:01\r\u001b[K     |██████████████▍                 | 501kB 9.1MB/s eta 0:00:01\r\u001b[K     |██████████████▊                 | 512kB 9.1MB/s eta 0:00:01\r\u001b[K     |███████████████                 | 522kB 9.1MB/s eta 0:00:01\r\u001b[K     |███████████████▎                | 532kB 9.1MB/s eta 0:00:01\r\u001b[K     |███████████████▋                | 542kB 9.1MB/s eta 0:00:01\r\u001b[K     |███████████████▉                | 552kB 9.1MB/s eta 0:00:01\r\u001b[K     |████████████████▏               | 563kB 9.1MB/s eta 0:00:01\r\u001b[K     |████████████████▌               | 573kB 9.1MB/s eta 0:00:01\r\u001b[K     |████████████████▊               | 583kB 9.1MB/s eta 0:00:01\r\u001b[K     |█████████████████               | 593kB 9.1MB/s eta 0:00:01\r\u001b[K     |█████████████████▍              | 604kB 9.1MB/s eta 0:00:01\r\u001b[K     |█████████████████▋              | 614kB 9.1MB/s eta 0:00:01\r\u001b[K     |██████████████████              | 624kB 9.1MB/s eta 0:00:01\r\u001b[K     |██████████████████▏             | 634kB 9.1MB/s eta 0:00:01\r\u001b[K     |██████████████████▌             | 645kB 9.1MB/s eta 0:00:01\r\u001b[K     |██████████████████▉             | 655kB 9.1MB/s eta 0:00:01\r\u001b[K     |███████████████████             | 665kB 9.1MB/s eta 0:00:01\r\u001b[K     |███████████████████▍            | 675kB 9.1MB/s eta 0:00:01\r\u001b[K     |███████████████████▊            | 686kB 9.1MB/s eta 0:00:01\r\u001b[K     |████████████████████            | 696kB 9.1MB/s eta 0:00:01\r\u001b[K     |████████████████████▎           | 706kB 9.1MB/s eta 0:00:01\r\u001b[K     |████████████████████▋           | 716kB 9.1MB/s eta 0:00:01\r\u001b[K     |████████████████████▉           | 727kB 9.1MB/s eta 0:00:01\r\u001b[K     |█████████████████████▏          | 737kB 9.1MB/s eta 0:00:01\r\u001b[K     |█████████████████████▌          | 747kB 9.1MB/s eta 0:00:01\r\u001b[K     |█████████████████████▊          | 757kB 9.1MB/s eta 0:00:01\r\u001b[K     |██████████████████████          | 768kB 9.1MB/s eta 0:00:01\r\u001b[K     |██████████████████████▎         | 778kB 9.1MB/s eta 0:00:01\r\u001b[K     |██████████████████████▋         | 788kB 9.1MB/s eta 0:00:01\r\u001b[K     |███████████████████████         | 798kB 9.1MB/s eta 0:00:01\r\u001b[K     |███████████████████████▏        | 808kB 9.1MB/s eta 0:00:01\r\u001b[K     |███████████████████████▌        | 819kB 9.1MB/s eta 0:00:01\r\u001b[K     |███████████████████████▉        | 829kB 9.1MB/s eta 0:00:01\r\u001b[K     |████████████████████████        | 839kB 9.1MB/s eta 0:00:01\r\u001b[K     |████████████████████████▍       | 849kB 9.1MB/s eta 0:00:01\r\u001b[K     |████████████████████████▊       | 860kB 9.1MB/s eta 0:00:01\r\u001b[K     |█████████████████████████       | 870kB 9.1MB/s eta 0:00:01\r\u001b[K     |█████████████████████████▎      | 880kB 9.1MB/s eta 0:00:01\r\u001b[K     |█████████████████████████▋      | 890kB 9.1MB/s eta 0:00:01\r\u001b[K     |█████████████████████████▉      | 901kB 9.1MB/s eta 0:00:01\r\u001b[K     |██████████████████████████▏     | 911kB 9.1MB/s eta 0:00:01\r\u001b[K     |██████████████████████████▌     | 921kB 9.1MB/s eta 0:00:01\r\u001b[K     |██████████████████████████▊     | 931kB 9.1MB/s eta 0:00:01\r\u001b[K     |███████████████████████████     | 942kB 9.1MB/s eta 0:00:01\r\u001b[K     |███████████████████████████▎    | 952kB 9.1MB/s eta 0:00:01\r\u001b[K     |███████████████████████████▋    | 962kB 9.1MB/s eta 0:00:01\r\u001b[K     |████████████████████████████    | 972kB 9.1MB/s eta 0:00:01\r\u001b[K     |████████████████████████████▏   | 983kB 9.1MB/s eta 0:00:01\r\u001b[K     |████████████████████████████▌   | 993kB 9.1MB/s eta 0:00:01\r\u001b[K     |████████████████████████████▉   | 1.0MB 9.1MB/s eta 0:00:01\r\u001b[K     |█████████████████████████████   | 1.0MB 9.1MB/s eta 0:00:01\r\u001b[K     |█████████████████████████████▍  | 1.0MB 9.1MB/s eta 0:00:01\r\u001b[K     |█████████████████████████████▊  | 1.0MB 9.1MB/s eta 0:00:01\r\u001b[K     |██████████████████████████████  | 1.0MB 9.1MB/s eta 0:00:01\r\u001b[K     |██████████████████████████████▎ | 1.1MB 9.1MB/s eta 0:00:01\r\u001b[K     |██████████████████████████████▋ | 1.1MB 9.1MB/s eta 0:00:01\r\u001b[K     |██████████████████████████████▉ | 1.1MB 9.1MB/s eta 0:00:01\r\u001b[K     |███████████████████████████████▏| 1.1MB 9.1MB/s eta 0:00:01\r\u001b[K     |███████████████████████████████▍| 1.1MB 9.1MB/s eta 0:00:01\r\u001b[K     |███████████████████████████████▊| 1.1MB 9.1MB/s eta 0:00:01\r\u001b[K     |████████████████████████████████| 1.1MB 9.1MB/s \n",
            "\u001b[?25hInstalling collected packages: sentencepiece\n",
            "Successfully installed sentencepiece-0.1.94\n"
          ],
          "name": "stdout"
        }
      ]
    },
    {
      "cell_type": "code",
      "metadata": {
        "id": "v40qD4r3jYKM"
      },
      "source": [
        "import tokenization"
      ],
      "execution_count": 3,
      "outputs": []
    },
    {
      "cell_type": "markdown",
      "metadata": {
        "id": "3bB32sbUjdbj"
      },
      "source": [
        "**BERT MODEL**"
      ]
    },
    {
      "cell_type": "code",
      "metadata": {
        "id": "2svsHvuMjabg"
      },
      "source": [
        "def bert_encode(texts, tokenizer, max_len=512):\n",
        "    all_tokens = []\n",
        "    all_masks = []\n",
        "    all_segments = []\n",
        "    \n",
        "    for text in texts:\n",
        "        text = tokenizer.tokenize(text)\n",
        "            \n",
        "        text = text[:max_len-2]\n",
        "        input_sequence = [\"[CLS]\"] + text + [\"[SEP]\"]\n",
        "        pad_len = max_len - len(input_sequence)\n",
        "        \n",
        "        tokens = tokenizer.convert_tokens_to_ids(input_sequence)\n",
        "        tokens += [0] * pad_len\n",
        "        pad_masks = [1] * len(input_sequence) + [0] * pad_len\n",
        "        segment_ids = [0] * max_len\n",
        "        \n",
        "        all_tokens.append(tokens)\n",
        "        all_masks.append(pad_masks)\n",
        "        all_segments.append(segment_ids)\n",
        "    \n",
        "    return np.array(all_tokens), np.array(all_masks), np.array(all_segments)"
      ],
      "execution_count": 4,
      "outputs": []
    },
    {
      "cell_type": "code",
      "metadata": {
        "id": "H-80Hx3Ujfs7"
      },
      "source": [
        "def build_model(bert_layer, max_len=512):\n",
        "    input_word_ids = Input(shape=(max_len,), dtype=tf.int32, name=\"input_word_ids\")\n",
        "    input_mask = Input(shape=(max_len,), dtype=tf.int32, name=\"input_mask\")\n",
        "    segment_ids = Input(shape=(max_len,), dtype=tf.int32, name=\"segment_ids\")\n",
        "\n",
        "    _, sequence_output = bert_layer([input_word_ids, input_mask, segment_ids])\n",
        "    clf_output = sequence_output[:, 0, :]\n",
        "    out = Dense(1, activation='sigmoid')(clf_output)\n",
        "    \n",
        "    model = Model(inputs=[input_word_ids, input_mask, segment_ids], outputs=out)\n",
        "    model.compile(Adam(lr=2e-6), loss='binary_crossentropy', metrics=['accuracy'])\n",
        "    \n",
        "    return model"
      ],
      "execution_count": 5,
      "outputs": []
    },
    {
      "cell_type": "code",
      "metadata": {
        "id": "rpTgXa2hjje-",
        "outputId": "5190e328-97c6-4034-9696-adf42cb0b66b",
        "colab": {
          "base_uri": "https://localhost:8080/"
        }
      },
      "source": [
        "#Cell takes time between 2-10 mins. Run and wait\n",
        "%%time\n",
        "module_url = \"https://tfhub.dev/tensorflow/bert_en_uncased_L-24_H-1024_A-16/1\"\n",
        "bert_layer = hub.KerasLayer(module_url, trainable=True)"
      ],
      "execution_count": 6,
      "outputs": [
        {
          "output_type": "stream",
          "text": [
            "CPU times: user 43.8 s, sys: 11 s, total: 54.8 s\n",
            "Wall time: 2min 9s\n"
          ],
          "name": "stdout"
        }
      ]
    },
    {
      "cell_type": "markdown",
      "metadata": {
        "id": "BY5zw8JhkcKX"
      },
      "source": [
        "**Adding IEMOCAP data in the required format**"
      ]
    },
    {
      "cell_type": "code",
      "metadata": {
        "id": "oZ5pmNKbkf05",
        "outputId": "61106023-7018-474e-9b7f-09cde157d744",
        "colab": {
          "base_uri": "https://localhost:8080/"
        }
      },
      "source": [
        "from google.colab import drive\n",
        "drive.mount('/content/gdrive')"
      ],
      "execution_count": 7,
      "outputs": [
        {
          "output_type": "stream",
          "text": [
            "Mounted at /content/gdrive\n"
          ],
          "name": "stdout"
        }
      ]
    },
    {
      "cell_type": "code",
      "metadata": {
        "id": "hc4k5JnFnSR8"
      },
      "source": [
        "with open('/content/gdrive/My Drive/iemocap/train/sentences.pkl', 'rb') as f:\n",
        "    data = pickle.load(f)\n",
        "with open('/content/gdrive/My Drive/iemocap/train/labels.pkl', 'rb') as f:\n",
        "    labels = pickle.load(f)\n",
        "with open('/content/gdrive/My Drive/iemocap/test/sentences.pkl', 'rb') as f:\n",
        "    test_data = pickle.load(f)\n",
        "with open('/content/gdrive/My Drive/iemocap/test/labels.pkl', 'rb') as f:\n",
        "    test_labels = pickle.load(f)"
      ],
      "execution_count": 10,
      "outputs": []
    },
    {
      "cell_type": "code",
      "metadata": {
        "id": "QxFLffkanaY1"
      },
      "source": [
        "def preprocessing(data,labels):\n",
        "  processed_data=[]\n",
        "  processed_label=[]\n",
        "  for i in range(0,len(data)):\n",
        "    for j in range(0,len(data[i])):\n",
        "      intermediate_data=[]\n",
        "      intermediate_label=[]\n",
        "      for k in range(0,len(data[i][j])):\n",
        "        text=data[i][j][k]\n",
        "        if text != '<eos>'and text!='<pad>':\n",
        "          intermediate_data.append(text)\n",
        "      processed_data.append(intermediate_data)\n",
        "  for i in labels:\n",
        "    for j in i:\n",
        "      processed_label.append(j)\n",
        "  return processed_data,processed_label"
      ],
      "execution_count": 11,
      "outputs": []
    },
    {
      "cell_type": "code",
      "metadata": {
        "id": "VJZvCVeKndGA"
      },
      "source": [
        "processed_data,processed_label = preprocessing(data,labels)\n",
        "test_processed_data,test_processed_label = preprocessing(test_data,test_labels)"
      ],
      "execution_count": 12,
      "outputs": []
    },
    {
      "cell_type": "code",
      "metadata": {
        "id": "V72pOXvcnfTc"
      },
      "source": [
        "for i in range(0,len(processed_data)):\n",
        "  processed_data[i]= ' '.join(processed_data[i])\n",
        "for i in range(0,len(test_processed_data)):\n",
        "  test_processed_data[i]=' '.join(test_processed_data[i])"
      ],
      "execution_count": 13,
      "outputs": []
    }
  ]
}