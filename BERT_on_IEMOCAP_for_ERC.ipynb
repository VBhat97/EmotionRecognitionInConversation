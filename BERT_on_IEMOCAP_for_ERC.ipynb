{
  "nbformat": 4,
  "nbformat_minor": 0,
  "metadata": {
    "colab": {
      "name": "BERT_on_IEMOCAP_for_ERC.ipynb",
      "provenance": [],
      "authorship_tag": "ABX9TyPj05SWGpQpuQ+lyFhz6hh/",
      "include_colab_link": true
    },
    "kernelspec": {
      "name": "python3",
      "display_name": "Python 3"
    },
    "accelerator": "GPU"
  },
  "cells": [
    {
      "cell_type": "markdown",
      "metadata": {
        "id": "view-in-github",
        "colab_type": "text"
      },
      "source": [
        "<a href=\"https://colab.research.google.com/github/anitayadav3/EmotionRecognitionInConversation/blob/master/BERT_on_IEMOCAP_for_ERC.ipynb\" target=\"_parent\"><img src=\"https://colab.research.google.com/assets/colab-badge.svg\" alt=\"Open In Colab\"/></a>"
      ]
    },
    {
      "cell_type": "code",
      "metadata": {
        "id": "irbKXIVqMGym",
        "colab": {
          "base_uri": "https://localhost:8080/"
        },
        "outputId": "fd0b7237-d8c7-4bf6-d9c1-d1f74b4f6cdb"
      },
      "source": [
        "import numpy as np # linear algebra\n",
        "import pandas as pd # data processing, CSV file I/O (e.g. pd.read_csv)\n",
        "import numpy as np\n",
        "import re\n",
        "import nltk\n",
        "from nltk.corpus import stopwords\n",
        "nltk.download('stopwords')\n",
        "nltk.download('punkt')\n",
        "from nltk.tokenize import word_tokenize\n",
        "import pandas as pd\n",
        "import tensorflow as tf\n",
        "from tensorflow.keras.layers import Dense, Input, GRU, Dropout\n",
        "from tensorflow.keras.optimizers import Adam\n",
        "from tensorflow.keras.models import Model\n",
        "from tensorflow.keras.callbacks import ModelCheckpoint\n",
        "import tensorflow_hub as hub\n",
        "import pickle\n",
        "from sklearn.metrics import f1_score\n",
        "from sklearn.metrics import accuracy_score\n",
        "from keras.utils.np_utils import to_categorical  \n",
        "import string\n",
        "import requests"
      ],
      "execution_count": 1,
      "outputs": [
        {
          "output_type": "stream",
          "text": [
            "[nltk_data] Downloading package stopwords to /root/nltk_data...\n",
            "[nltk_data]   Unzipping corpora/stopwords.zip.\n",
            "[nltk_data] Downloading package punkt to /root/nltk_data...\n",
            "[nltk_data]   Unzipping tokenizers/punkt.zip.\n"
          ],
          "name": "stdout"
        }
      ]
    },
    {
      "cell_type": "code",
      "metadata": {
        "id": "lNTNsf6SMN0W",
        "colab": {
          "base_uri": "https://localhost:8080/"
        },
        "outputId": "9746e2fc-01ba-4b15-c9d6-25339c0197b1"
      },
      "source": [
        "!wget --quiet https://raw.githubusercontent.com/tensorflow/models/master/official/nlp/bert/tokenization.py\n",
        "!pip install sentencepiece"
      ],
      "execution_count": 2,
      "outputs": [
        {
          "output_type": "stream",
          "text": [
            "Collecting sentencepiece\n",
            "\u001b[?25l  Downloading https://files.pythonhosted.org/packages/14/67/e42bd1181472c95c8cda79305df848264f2a7f62740995a46945d9797b67/sentencepiece-0.1.95-cp36-cp36m-manylinux2014_x86_64.whl (1.2MB)\n",
            "\u001b[K     |████████████████████████████████| 1.2MB 6.1MB/s \n",
            "\u001b[?25hInstalling collected packages: sentencepiece\n",
            "Successfully installed sentencepiece-0.1.95\n"
          ],
          "name": "stdout"
        }
      ]
    },
    {
      "cell_type": "code",
      "metadata": {
        "id": "r72yzfDkMSVU"
      },
      "source": [
        "import tokenization"
      ],
      "execution_count": 3,
      "outputs": []
    },
    {
      "cell_type": "code",
      "metadata": {
        "id": "gAuiS6t4MW_4"
      },
      "source": [
        "def bert_encode(texts, tokenizer, max_len=512):\n",
        "    all_tokens = []\n",
        "    all_masks = []\n",
        "    all_segments = []\n",
        "    \n",
        "    for text in texts:\n",
        "        text = tokenizer.tokenize(text)\n",
        "            \n",
        "        text = text[:max_len-2]\n",
        "        input_sequence = [\"[CLS]\"] + text + [\"[SEP]\"]\n",
        "        pad_len = max_len - len(input_sequence)\n",
        "        \n",
        "        tokens = tokenizer.convert_tokens_to_ids(input_sequence)\n",
        "        tokens += [0] * pad_len\n",
        "        pad_masks = [1] * len(input_sequence) + [0] * pad_len\n",
        "        segment_ids = [0] * max_len\n",
        "        \n",
        "        all_tokens.append(tokens)\n",
        "        all_masks.append(pad_masks)\n",
        "        all_segments.append(segment_ids)\n",
        "    \n",
        "    return np.array(all_tokens), np.array(all_masks), np.array(all_segments)"
      ],
      "execution_count": 4,
      "outputs": []
    },
    {
      "cell_type": "code",
      "metadata": {
        "id": "2R5uSnu5MZQ3"
      },
      "source": [
        "def build_model(bert_layer, max_len=512):\n",
        "    input_word_ids = Input(shape=(max_len,), dtype=tf.int32, name=\"input_word_ids\")\n",
        "    input_mask = Input(shape=(max_len,), dtype=tf.int32, name=\"input_mask\")\n",
        "    segment_ids = Input(shape=(max_len,), dtype=tf.int32, name=\"segment_ids\")\n",
        "\n",
        "    pooled_output, sequence_output = bert_layer([input_word_ids, input_mask, segment_ids])\n",
        "    clf_output = pooled_output\n",
        "    clf_output1=tf.reshape(clf_output,[1,1,1024])\n",
        "    gru_output1 = GRU(100, input_shape=(1024,), return_sequences=True)(clf_output1)\n",
        "    dp_output1 = Dropout(0.2)(gru_output1)\n",
        "    print(\"Reached here 2?\")\n",
        "    gru_output2 = GRU(100, return_sequences=True)(dp_output1)\n",
        "    dp_output2 = Dropout(0.2)(gru_output2)\n",
        "    print(\"Reached here 3?\")\n",
        "    gru_output3 = GRU(100)(dp_output2)\n",
        "    dp_output3 = Dropout(0.2)(gru_output3)\n",
        "    out = Dense(6, activation='softmax')(dp_output3)\n",
        "    \n",
        "    model = Model(inputs=[input_word_ids, input_mask, segment_ids], outputs=out)\n",
        "    model.compile(Adam(lr=2e-6), loss='binary_crossentropy', metrics=['accuracy'])\n",
        "    \n",
        "    return model"
      ],
      "execution_count": 5,
      "outputs": []
    },
    {
      "cell_type": "code",
      "metadata": {
        "id": "T0lDyjgKQrbW",
        "colab": {
          "base_uri": "https://localhost:8080/"
        },
        "outputId": "93128eaf-6fb3-444d-ee2f-e16d6869c1f3"
      },
      "source": [
        "from google.colab import drive\n",
        "drive.mount('/content/gdrive')"
      ],
      "execution_count": 6,
      "outputs": [
        {
          "output_type": "stream",
          "text": [
            "Mounted at /content/gdrive\n"
          ],
          "name": "stdout"
        }
      ]
    },
    {
      "cell_type": "code",
      "metadata": {
        "id": "SPBiw3jdQqXo",
        "colab": {
          "base_uri": "https://localhost:8080/"
        },
        "outputId": "82954e04-8988-4418-b0c1-94c79c287428"
      },
      "source": [
        "%%time\n",
        "module_url = \"https://tfhub.dev/tensorflow/bert_en_uncased_L-24_H-1024_A-16/1\"\n",
        "bert_layer = hub.KerasLayer(module_url, trainable=True)"
      ],
      "execution_count": 7,
      "outputs": [
        {
          "output_type": "stream",
          "text": [
            "CPU times: user 22.3 s, sys: 4.24 s, total: 26.6 s\n",
            "Wall time: 43.8 s\n"
          ],
          "name": "stdout"
        }
      ]
    },
    {
      "cell_type": "code",
      "metadata": {
        "id": "v-g0HXbfQuZa"
      },
      "source": [
        "with open('/content/gdrive/My Drive/iemocap/train/sentences.pkl', 'rb') as f:\n",
        "    data = pickle.load(f)\n",
        "with open('/content/gdrive/My Drive/iemocap/train/labels.pkl', 'rb') as f:\n",
        "    labels = pickle.load(f)\n",
        "with open('/content/gdrive/My Drive/iemocap/test/sentences.pkl', 'rb') as f:\n",
        "    test_data = pickle.load(f)\n",
        "with open('/content/gdrive/My Drive/iemocap/test/labels.pkl', 'rb') as f:\n",
        "    test_labels = pickle.load(f)"
      ],
      "execution_count": 8,
      "outputs": []
    },
    {
      "cell_type": "code",
      "metadata": {
        "id": "VTVssce7QwPd"
      },
      "source": [
        "def preprocessing(data,labels):\n",
        "  processed_data=[]\n",
        "  processed_label=[]\n",
        "  for i in range(0,len(data)):\n",
        "    for j in range(0,len(data[i])):\n",
        "      intermediate_data=[]\n",
        "      intermediate_label=[]\n",
        "      for k in range(0,len(data[i][j])):\n",
        "        text=data[i][j][k]\n",
        "        if text != '<eos>'and text!='<pad>':\n",
        "          intermediate_data.append(text)\n",
        "      processed_data.append(intermediate_data)\n",
        "  for i in labels:\n",
        "    for j in i:\n",
        "      processed_label.append(j)\n",
        "  return processed_data,processed_label"
      ],
      "execution_count": 9,
      "outputs": []
    },
    {
      "cell_type": "code",
      "metadata": {
        "id": "fKUpRX1cQw1y"
      },
      "source": [
        "processed_data,processed_label = preprocessing(data,labels)\n",
        "test_processed_data,test_processed_label = preprocessing(test_data,test_labels)"
      ],
      "execution_count": 10,
      "outputs": []
    },
    {
      "cell_type": "code",
      "metadata": {
        "id": "2Eib7uuMRLsc"
      },
      "source": [
        "for i in range(0,len(processed_data)):\n",
        "  processed_data[i]= ' '.join(processed_data[i])\n",
        "for i in range(0,len(test_processed_data)):\n",
        "  test_processed_data[i]=' '.join(test_processed_data[i])"
      ],
      "execution_count": 11,
      "outputs": []
    },
    {
      "cell_type": "code",
      "metadata": {
        "id": "qd0vwdjxYgbX"
      },
      "source": [
        "def add_ConceptNet_Features(data):\r\n",
        "  for sentences in range(0,len(data)):\r\n",
        "    conceptnet_data=[]\r\n",
        "    cleaned_sentences=data[sentences].translate(str.maketrans('', '', string.punctuation))\r\n",
        "    tokens=nltk.word_tokenize(cleaned_sentences)\r\n",
        "    for i in tokens:\r\n",
        "      obj = requests.get('http://api.conceptnet.io/related/c/en/' + i + '?filter=/c/en').json()\r\n",
        "      for j in range(1,3):\r\n",
        "        response=obj['related'][j]['@id']\r\n",
        "        response=re.sub(r'[^\\w]', ' ', response)\r\n",
        "        response=response[6:]\r\n",
        "        conceptnet_data.append(response)\r\n",
        "    for i in conceptnet_data:\r\n",
        "      data[sentences]=data[sentences]+\" \"+str(i)\r\n",
        "  return data"
      ],
      "execution_count": 12,
      "outputs": []
    },
    {
      "cell_type": "code",
      "metadata": {
        "colab": {
          "base_uri": "https://localhost:8080/"
        },
        "id": "K2cUeGj5YhRn",
        "outputId": "9acac61e-b285-4d56-cb16-4ffae5c84a48"
      },
      "source": [
        "processed_data=add_ConceptNet_Features(processed_data)\r\n",
        "test_processed_data = add_ConceptNet_Features(test_processed_data)"
      ],
      "execution_count": null,
      "outputs": [
        {
          "output_type": "stream",
          "text": [
            "4699\n",
            "thank you for calling sprint . we care about everybody . how can i help you ?\n",
            "thanked\n",
            "thank you for calling sprint . we care about everybody . how can i help you ? thanked\n",
            "thank_you\n",
            "thank you for calling sprint . we care about everybody . how can i help you ? thanked thank_you\n",
            "y_all\n",
            "thank you for calling sprint . we care about everybody . how can i help you ? thanked thank_you y_all\n",
            "you ve\n",
            "thank you for calling sprint . we care about everybody . how can i help you ? thanked thank_you y_all you ve\n",
            "forthe\n",
            "thank you for calling sprint . we care about everybody . how can i help you ? thanked thank_you y_all you ve forthe\n",
            "herefor\n",
            "thank you for calling sprint . we care about everybody . how can i help you ? thanked thank_you y_all you ve forthe herefor\n",
            "calls\n",
            "thank you for calling sprint . we care about everybody . how can i help you ? thanked thank_you y_all you ve forthe herefor calls\n",
            "call\n",
            "thank you for calling sprint . we care about everybody . how can i help you ? thanked thank_you y_all you ve forthe herefor calls call\n",
            "sprints\n",
            "thank you for calling sprint . we care about everybody . how can i help you ? thanked thank_you y_all you ve forthe herefor calls call sprints\n",
            "sprinting\n",
            "thank you for calling sprint . we care about everybody . how can i help you ? thanked thank_you y_all you ve forthe herefor calls call sprints sprinting\n",
            "we re\n",
            "thank you for calling sprint . we care about everybody . how can i help you ? thanked thank_you y_all you ve forthe herefor calls call sprints sprinting we re\n",
            "we ve\n",
            "thank you for calling sprint . we care about everybody . how can i help you ? thanked thank_you y_all you ve forthe herefor calls call sprints sprinting we re we ve\n",
            "careth\n",
            "thank you for calling sprint . we care about everybody . how can i help you ? thanked thank_you y_all you ve forthe herefor calls call sprints sprinting we re we ve careth\n",
            "cared\n",
            "thank you for calling sprint . we care about everybody . how can i help you ? thanked thank_you y_all you ve forthe herefor calls call sprints sprinting we re we ve careth cared\n",
            "aboutness\n",
            "thank you for calling sprint . we care about everybody . how can i help you ? thanked thank_you y_all you ve forthe herefor calls call sprints sprinting we re we ve careth cared aboutness\n",
            "regarding\n",
            "thank you for calling sprint . we care about everybody . how can i help you ? thanked thank_you y_all you ve forthe herefor calls call sprints sprinting we re we ve careth cared aboutness regarding\n",
            "tout_le_monde\n",
            "thank you for calling sprint . we care about everybody . how can i help you ? thanked thank_you y_all you ve forthe herefor calls call sprints sprinting we re we ve careth cared aboutness regarding tout_le_monde\n",
            "everyone\n",
            "thank you for calling sprint . we care about everybody . how can i help you ? thanked thank_you y_all you ve forthe herefor calls call sprints sprinting we re we ve careth cared aboutness regarding tout_le_monde everyone\n",
            "quomodo\n",
            "thank you for calling sprint . we care about everybody . how can i help you ? thanked thank_you y_all you ve forthe herefor calls call sprints sprinting we re we ve careth cared aboutness regarding tout_le_monde everyone quomodo\n",
            "how re\n",
            "thank you for calling sprint . we care about everybody . how can i help you ? thanked thank_you y_all you ve forthe herefor calls call sprints sprinting we re we ve careth cared aboutness regarding tout_le_monde everyone quomodo how re\n",
            "could\n",
            "thank you for calling sprint . we care about everybody . how can i help you ? thanked thank_you y_all you ve forthe herefor calls call sprints sprinting we re we ve careth cared aboutness regarding tout_le_monde everyone quomodo how re could\n",
            "cannot\n",
            "thank you for calling sprint . we care about everybody . how can i help you ? thanked thank_you y_all you ve forthe herefor calls call sprints sprinting we re we ve careth cared aboutness regarding tout_le_monde everyone quomodo how re could cannot\n",
            "me\n",
            "thank you for calling sprint . we care about everybody . how can i help you ? thanked thank_you y_all you ve forthe herefor calls call sprints sprinting we re we ve careth cared aboutness regarding tout_le_monde everyone quomodo how re could cannot me\n",
            "you d\n",
            "thank you for calling sprint . we care about everybody . how can i help you ? thanked thank_you y_all you ve forthe herefor calls call sprints sprinting we re we ve careth cared aboutness regarding tout_le_monde everyone quomodo how re could cannot me you d\n",
            "helps\n",
            "thank you for calling sprint . we care about everybody . how can i help you ? thanked thank_you y_all you ve forthe herefor calls call sprints sprinting we re we ve careth cared aboutness regarding tout_le_monde everyone quomodo how re could cannot me you d helps\n",
            "lend_hand\n",
            "thank you for calling sprint . we care about everybody . how can i help you ? thanked thank_you y_all you ve forthe herefor calls call sprints sprinting we re we ve careth cared aboutness regarding tout_le_monde everyone quomodo how re could cannot me you d helps lend_hand\n",
            "y_all\n",
            "thank you for calling sprint . we care about everybody . how can i help you ? thanked thank_you y_all you ve forthe herefor calls call sprints sprinting we re we ve careth cared aboutness regarding tout_le_monde everyone quomodo how re could cannot me you d helps lend_hand y_all\n",
            "you ve\n",
            "hi . i ' ve been on the phone for an hour trying to get a little discrepancy on my bill fixed . i was charged for two hundred\n",
            "hello\n",
            "hi . i ' ve been on the phone for an hour trying to get a little discrepancy on my bill fixed . i was charged for two hundred hello\n",
            "hola\n",
            "hi . i ' ve been on the phone for an hour trying to get a little discrepancy on my bill fixed . i was charged for two hundred hello hola\n",
            "me\n",
            "hi . i ' ve been on the phone for an hour trying to get a little discrepancy on my bill fixed . i was charged for two hundred hello hola me\n",
            "you d\n",
            "hi . i ' ve been on the phone for an hour trying to get a little discrepancy on my bill fixed . i was charged for two hundred hello hola me you d\n",
            "to ve\n",
            "hi . i ' ve been on the phone for an hour trying to get a little discrepancy on my bill fixed . i was charged for two hundred hello hola me you d to ve\n",
            "had\n",
            "hi . i ' ve been on the phone for an hour trying to get a little discrepancy on my bill fixed . i was charged for two hundred hello hola me you d to ve had\n",
            "binna\n",
            "hi . i ' ve been on the phone for an hour trying to get a little discrepancy on my bill fixed . i was charged for two hundred hello hola me you d to ve had binna\n",
            "has\n",
            "hi . i ' ve been on the phone for an hour trying to get a little discrepancy on my bill fixed . i was charged for two hundred hello hola me you d to ve had binna has\n",
            "upon\n",
            "hi . i ' ve been on the phone for an hour trying to get a little discrepancy on my bill fixed . i was charged for two hundred hello hola me you d to ve had binna has upon\n",
            "onto\n",
            "hi . i ' ve been on the phone for an hour trying to get a little discrepancy on my bill fixed . i was charged for two hundred hello hola me you d to ve had binna has upon onto\n",
            "of\n",
            "hi . i ' ve been on the phone for an hour trying to get a little discrepancy on my bill fixed . i was charged for two hundred hello hola me you d to ve had binna has upon onto of\n",
            "tthe\n",
            "hi . i ' ve been on the phone for an hour trying to get a little discrepancy on my bill fixed . i was charged for two hundred hello hola me you d to ve had binna has upon onto of tthe\n",
            "phoned\n",
            "hi . i ' ve been on the phone for an hour trying to get a little discrepancy on my bill fixed . i was charged for two hundred hello hola me you d to ve had binna has upon onto of tthe phoned\n",
            "phones\n",
            "hi . i ' ve been on the phone for an hour trying to get a little discrepancy on my bill fixed . i was charged for two hundred hello hola me you d to ve had binna has upon onto of tthe phoned phones\n",
            "forthe\n",
            "hi . i ' ve been on the phone for an hour trying to get a little discrepancy on my bill fixed . i was charged for two hundred hello hola me you d to ve had binna has upon onto of tthe phoned phones forthe\n",
            "herefor\n",
            "hi . i ' ve been on the phone for an hour trying to get a little discrepancy on my bill fixed . i was charged for two hundred hello hola me you d to ve had binna has upon onto of tthe phoned phones forthe herefor\n",
            "a\n",
            "hi . i ' ve been on the phone for an hour trying to get a little discrepancy on my bill fixed . i was charged for two hundred hello hola me you d to ve had binna has upon onto of tthe phoned phones forthe herefor a\n",
            "ofan\n",
            "hi . i ' ve been on the phone for an hour trying to get a little discrepancy on my bill fixed . i was charged for two hundred hello hola me you d to ve had binna has upon onto of tthe phoned phones forthe herefor a ofan\n",
            "hours\n",
            "hi . i ' ve been on the phone for an hour trying to get a little discrepancy on my bill fixed . i was charged for two hundred hello hola me you d to ve had binna has upon onto of tthe phoned phones forthe herefor a ofan hours\n",
            "half_hour\n",
            "hi . i ' ve been on the phone for an hour trying to get a little discrepancy on my bill fixed . i was charged for two hundred hello hola me you d to ve had binna has upon onto of tthe phoned phones forthe herefor a ofan hours half_hour\n",
            "attempting\n",
            "hi . i ' ve been on the phone for an hour trying to get a little discrepancy on my bill fixed . i was charged for two hundred hello hola me you d to ve had binna has upon onto of tthe phoned phones forthe herefor a ofan hours half_hour attempting\n",
            "tries\n",
            "hi . i ' ve been on the phone for an hour trying to get a little discrepancy on my bill fixed . i was charged for two hundred hello hola me you d to ve had binna has upon onto of tthe phoned phones forthe herefor a ofan hours half_hour attempting tries\n",
            "to ve\n",
            "hi . i ' ve been on the phone for an hour trying to get a little discrepancy on my bill fixed . i was charged for two hundred hello hola me you d to ve had binna has upon onto of tthe phoned phones forthe herefor a ofan hours half_hour attempting tries to ve\n",
            "to_the\n",
            "hi . i ' ve been on the phone for an hour trying to get a little discrepancy on my bill fixed . i was charged for two hundred hello hola me you d to ve had binna has upon onto of tthe phoned phones forthe herefor a ofan hours half_hour attempting tries to ve to_the\n",
            "reget\n",
            "hi . i ' ve been on the phone for an hour trying to get a little discrepancy on my bill fixed . i was charged for two hundred hello hola me you d to ve had binna has upon onto of tthe phoned phones forthe herefor a ofan hours half_hour attempting tries to ve to_the reget\n",
            "gets\n",
            "hi . i ' ve been on the phone for an hour trying to get a little discrepancy on my bill fixed . i was charged for two hundred hello hola me you d to ve had binna has upon onto of tthe phoned phones forthe herefor a ofan hours half_hour attempting tries to ve to_the reget gets\n",
            "an\n",
            "hi . i ' ve been on the phone for an hour trying to get a little discrepancy on my bill fixed . i was charged for two hundred hello hola me you d to ve had binna has upon onto of tthe phoned phones forthe herefor a ofan hours half_hour attempting tries to ve to_the reget gets an\n",
            "another\n",
            "hi . i ' ve been on the phone for an hour trying to get a little discrepancy on my bill fixed . i was charged for two hundred hello hola me you d to ve had binna has upon onto of tthe phoned phones forthe herefor a ofan hours half_hour attempting tries to ve to_the reget gets an another\n",
            "weensy\n",
            "hi . i ' ve been on the phone for an hour trying to get a little discrepancy on my bill fixed . i was charged for two hundred hello hola me you d to ve had binna has upon onto of tthe phoned phones forthe herefor a ofan hours half_hour attempting tries to ve to_the reget gets an another weensy\n",
            "itty_bitty\n",
            "hi . i ' ve been on the phone for an hour trying to get a little discrepancy on my bill fixed . i was charged for two hundred hello hola me you d to ve had binna has upon onto of tthe phoned phones forthe herefor a ofan hours half_hour attempting tries to ve to_the reget gets an another weensy itty_bitty\n",
            "discrepancies\n",
            "hi . i ' ve been on the phone for an hour trying to get a little discrepancy on my bill fixed . i was charged for two hundred hello hola me you d to ve had binna has upon onto of tthe phoned phones forthe herefor a ofan hours half_hour attempting tries to ve to_the reget gets an another weensy itty_bitty discrepancies\n",
            "disparity\n",
            "hi . i ' ve been on the phone for an hour trying to get a little discrepancy on my bill fixed . i was charged for two hundred hello hola me you d to ve had binna has upon onto of tthe phoned phones forthe herefor a ofan hours half_hour attempting tries to ve to_the reget gets an another weensy itty_bitty discrepancies disparity\n",
            "upon\n",
            "hi . i ' ve been on the phone for an hour trying to get a little discrepancy on my bill fixed . i was charged for two hundred hello hola me you d to ve had binna has upon onto of tthe phoned phones forthe herefor a ofan hours half_hour attempting tries to ve to_the reget gets an another weensy itty_bitty discrepancies disparity upon\n",
            "onto\n",
            "hi . i ' ve been on the phone for an hour trying to get a little discrepancy on my bill fixed . i was charged for two hundred hello hola me you d to ve had binna has upon onto of tthe phoned phones forthe herefor a ofan hours half_hour attempting tries to ve to_the reget gets an another weensy itty_bitty discrepancies disparity upon onto\n",
            "mine\n",
            "hi . i ' ve been on the phone for an hour trying to get a little discrepancy on my bill fixed . i was charged for two hundred hello hola me you d to ve had binna has upon onto of tthe phoned phones forthe herefor a ofan hours half_hour attempting tries to ve to_the reget gets an another weensy itty_bitty discrepancies disparity upon onto mine\n",
            "for_me\n",
            "hi . i ' ve been on the phone for an hour trying to get a little discrepancy on my bill fixed . i was charged for two hundred hello hola me you d to ve had binna has upon onto of tthe phoned phones forthe herefor a ofan hours half_hour attempting tries to ve to_the reget gets an another weensy itty_bitty discrepancies disparity upon onto mine for_me\n",
            "appropriation_bill\n",
            "hi . i ' ve been on the phone for an hour trying to get a little discrepancy on my bill fixed . i was charged for two hundred hello hola me you d to ve had binna has upon onto of tthe phoned phones forthe herefor a ofan hours half_hour attempting tries to ve to_the reget gets an another weensy itty_bitty discrepancies disparity upon onto mine for_me appropriation_bill\n",
            "bills\n",
            "hi . i ' ve been on the phone for an hour trying to get a little discrepancy on my bill fixed . i was charged for two hundred hello hola me you d to ve had binna has upon onto of tthe phoned phones forthe herefor a ofan hours half_hour attempting tries to ve to_the reget gets an another weensy itty_bitty discrepancies disparity upon onto mine for_me appropriation_bill bills\n",
            "fixed_charges\n",
            "hi . i ' ve been on the phone for an hour trying to get a little discrepancy on my bill fixed . i was charged for two hundred hello hola me you d to ve had binna has upon onto of tthe phoned phones forthe herefor a ofan hours half_hour attempting tries to ve to_the reget gets an another weensy itty_bitty discrepancies disparity upon onto mine for_me appropriation_bill bills fixed_charges\n",
            "fixt\n",
            "hi . i ' ve been on the phone for an hour trying to get a little discrepancy on my bill fixed . i was charged for two hundred hello hola me you d to ve had binna has upon onto of tthe phoned phones forthe herefor a ofan hours half_hour attempting tries to ve to_the reget gets an another weensy itty_bitty discrepancies disparity upon onto mine for_me appropriation_bill bills fixed_charges fixt\n",
            "me\n",
            "hi . i ' ve been on the phone for an hour trying to get a little discrepancy on my bill fixed . i was charged for two hundred hello hola me you d to ve had binna has upon onto of tthe phoned phones forthe herefor a ofan hours half_hour attempting tries to ve to_the reget gets an another weensy itty_bitty discrepancies disparity upon onto mine for_me appropriation_bill bills fixed_charges fixt me\n",
            "you d\n",
            "hi . i ' ve been on the phone for an hour trying to get a little discrepancy on my bill fixed . i was charged for two hundred hello hola me you d to ve had binna has upon onto of tthe phoned phones forthe herefor a ofan hours half_hour attempting tries to ve to_the reget gets an another weensy itty_bitty discrepancies disparity upon onto mine for_me appropriation_bill bills fixed_charges fixt me you d\n",
            "wasn t\n",
            "hi . i ' ve been on the phone for an hour trying to get a little discrepancy on my bill fixed . i was charged for two hundred hello hola me you d to ve had binna has upon onto of tthe phoned phones forthe herefor a ofan hours half_hour attempting tries to ve to_the reget gets an another weensy itty_bitty discrepancies disparity upon onto mine for_me appropriation_bill bills fixed_charges fixt me you d wasn t\n",
            "weren t\n",
            "hi . i ' ve been on the phone for an hour trying to get a little discrepancy on my bill fixed . i was charged for two hundred hello hola me you d to ve had binna has upon onto of tthe phoned phones forthe herefor a ofan hours half_hour attempting tries to ve to_the reget gets an another weensy itty_bitty discrepancies disparity upon onto mine for_me appropriation_bill bills fixed_charges fixt me you d wasn t weren t\n",
            "charge\n",
            "hi . i ' ve been on the phone for an hour trying to get a little discrepancy on my bill fixed . i was charged for two hundred hello hola me you d to ve had binna has upon onto of tthe phoned phones forthe herefor a ofan hours half_hour attempting tries to ve to_the reget gets an another weensy itty_bitty discrepancies disparity upon onto mine for_me appropriation_bill bills fixed_charges fixt me you d wasn t weren t charge\n",
            "charges\n",
            "hi . i ' ve been on the phone for an hour trying to get a little discrepancy on my bill fixed . i was charged for two hundred hello hola me you d to ve had binna has upon onto of tthe phoned phones forthe herefor a ofan hours half_hour attempting tries to ve to_the reget gets an another weensy itty_bitty discrepancies disparity upon onto mine for_me appropriation_bill bills fixed_charges fixt me you d wasn t weren t charge charges\n",
            "forthe\n",
            "hi . i ' ve been on the phone for an hour trying to get a little discrepancy on my bill fixed . i was charged for two hundred hello hola me you d to ve had binna has upon onto of tthe phoned phones forthe herefor a ofan hours half_hour attempting tries to ve to_the reget gets an another weensy itty_bitty discrepancies disparity upon onto mine for_me appropriation_bill bills fixed_charges fixt me you d wasn t weren t charge charges forthe\n",
            "herefor\n",
            "hi . i ' ve been on the phone for an hour trying to get a little discrepancy on my bill fixed . i was charged for two hundred hello hola me you d to ve had binna has upon onto of tthe phoned phones forthe herefor a ofan hours half_hour attempting tries to ve to_the reget gets an another weensy itty_bitty discrepancies disparity upon onto mine for_me appropriation_bill bills fixed_charges fixt me you d wasn t weren t charge charges forthe herefor\n",
            "three\n",
            "hi . i ' ve been on the phone for an hour trying to get a little discrepancy on my bill fixed . i was charged for two hundred hello hola me you d to ve had binna has upon onto of tthe phoned phones forthe herefor a ofan hours half_hour attempting tries to ve to_the reget gets an another weensy itty_bitty discrepancies disparity upon onto mine for_me appropriation_bill bills fixed_charges fixt me you d wasn t weren t charge charges forthe herefor three\n",
            "four\n",
            "hi . i ' ve been on the phone for an hour trying to get a little discrepancy on my bill fixed . i was charged for two hundred hello hola me you d to ve had binna has upon onto of tthe phoned phones forthe herefor a ofan hours half_hour attempting tries to ve to_the reget gets an another weensy itty_bitty discrepancies disparity upon onto mine for_me appropriation_bill bills fixed_charges fixt me you d wasn t weren t charge charges forthe herefor three four\n",
            "thousand\n",
            "hi . i ' ve been on the phone for an hour trying to get a little discrepancy on my bill fixed . i was charged for two hundred hello hola me you d to ve had binna has upon onto of tthe phoned phones forthe herefor a ofan hours half_hour attempting tries to ve to_the reget gets an another weensy itty_bitty discrepancies disparity upon onto mine for_me appropriation_bill bills fixed_charges fixt me you d wasn t weren t charge charges forthe herefor three four thousand\n",
            "fifty\n",
            "are you sure you did n't make them ?\n",
            "them s\n",
            "are you sure you did n't make them ? them s\n",
            "aren t\n",
            "are you sure you did n't make them ? them s aren t\n",
            "y_all\n",
            "are you sure you did n't make them ? them s aren t y_all\n",
            "you ve\n",
            "are you sure you did n't make them ? them s aren t y_all you ve\n",
            "certainly\n",
            "are you sure you did n't make them ? them s aren t y_all you ve certainly\n",
            "definitely\n",
            "are you sure you did n't make them ? them s aren t y_all you ve certainly definitely\n",
            "y_all\n",
            "are you sure you did n't make them ? them s aren t y_all you ve certainly definitely y_all\n",
            "you ve\n",
            "are you sure you did n't make them ? them s aren t y_all you ve certainly definitely y_all you ve\n",
            "what d\n",
            "are you sure you did n't make them ? them s aren t y_all you ve certainly definitely y_all you ve what d\n",
            "how d\n",
            "are you sure you did n't make them ? them s aren t y_all you ve certainly definitely y_all you ve what d how d\n",
            "nts\n",
            "are you sure you did n't make them ? them s aren t y_all you ve certainly definitely y_all you ve what d how d nts\n",
            "northwest_territories\n",
            "are you sure you did n't make them ? them s aren t y_all you ve certainly definitely y_all you ve what d how d nts northwest_territories\n",
            "makest\n",
            "are you sure you did n't make them ? them s aren t y_all you ve certainly definitely y_all you ve what d how d nts northwest_territories makest\n",
            "maketh\n",
            "are you sure you did n't make them ? them s aren t y_all you ve certainly definitely y_all you ve what d how d nts northwest_territories makest maketh\n",
            "they\n",
            "are you sure you did n't make them ? them s aren t y_all you ve certainly definitely y_all you ve what d how d nts northwest_territories makest maketh they\n",
            "theirselves\n",
            "i 'm positive . they came from like another state .\n",
            "me\n",
            "i 'm positive . they came from like another state . me\n",
            "you d\n",
            "i 'm positive . they came from like another state . me you d\n",
            "l\n",
            "i 'm positive . they came from like another state . me you d l\n",
            "am\n",
            "i 'm positive . they came from like another state . me you d l am\n",
            "negative\n",
            "i 'm positive . they came from like another state . me you d l am negative\n",
            "positivity\n",
            "i 'm positive . they came from like another state . me you d l am negative positivity\n",
            "they ve\n",
            "i 'm positive . they came from like another state . me you d l am negative positivity they ve\n",
            "them\n",
            "i 'm positive . they came from like another state . me you d l am negative positivity they ve them\n",
            "camest\n",
            "i 'm positive . they came from like another state . me you d l am negative positivity they ve them camest\n",
            "come\n",
            "i 'm positive . they came from like another state . me you d l am negative positivity they ve them camest come\n",
            "fromthe\n",
            "i 'm positive . they came from like another state . me you d l am negative positivity they ve them camest come fromthe\n",
            "ffrom\n",
            "i 'm positive . they came from like another state . me you d l am negative positivity they ve them camest come fromthe ffrom\n",
            "liker\n",
            "i 'm positive . they came from like another state . me you d l am negative positivity they ve them camest come fromthe ffrom liker\n",
            "likes\n",
            "i 'm positive . they came from like another state . me you d l am negative positivity they ve them camest come fromthe ffrom liker likes\n",
            "one_more\n",
            "i 'm positive . they came from like another state . me you d l am negative positivity they ve them camest come fromthe ffrom liker likes one_more\n",
            "nother\n",
            "i 'm positive . they came from like another state . me you d l am negative positivity they ve them camest come fromthe ffrom liker likes one_more nother\n",
            "res_publica\n",
            "i 'm positive . they came from like another state . me you d l am negative positivity they ve them camest come fromthe ffrom liker likes one_more nother res_publica\n",
            "multistate\n",
            "can i get your phone number , please ?\n",
            "could\n",
            "can i get your phone number , please ? could\n",
            "cannot\n",
            "can i get your phone number , please ? could cannot\n",
            "me\n",
            "can i get your phone number , please ? could cannot me\n",
            "you d\n",
            "can i get your phone number , please ? could cannot me you d\n",
            "reget\n",
            "can i get your phone number , please ? could cannot me you d reget\n",
            "gets\n",
            "can i get your phone number , please ? could cannot me you d reget gets\n",
            "yours\n",
            "can i get your phone number , please ? could cannot me you d reget gets yours\n",
            "ofyour\n",
            "can i get your phone number , please ? could cannot me you d reget gets yours ofyour\n",
            "phoned\n",
            "can i get your phone number , please ? could cannot me you d reget gets yours ofyour phoned\n",
            "phones\n",
            "can i get your phone number , please ? could cannot me you d reget gets yours ofyour phoned phones\n",
            "numbers\n",
            "can i get your phone number , please ? could cannot me you d reget gets yours ofyour phoned phones numbers\n",
            "identification_number\n",
            "can i get your phone number , please ? could cannot me you d reget gets yours ofyour phoned phones numbers identification_number\n",
            "pleaseth\n",
            "can i get your phone number , please ? could cannot me you d reget gets yours ofyour phoned phones numbers identification_number pleaseth\n",
            "pl0x\n",
            "uh . yeah , i just gave it to the automated thing like five times .\n",
            "umm\n",
            "uh . yeah , i just gave it to the automated thing like five times . umm\n",
            "uh_huh\n",
            "uh . yeah , i just gave it to the automated thing like five times . umm uh_huh\n",
            "yep\n",
            "uh . yeah , i just gave it to the automated thing like five times . umm uh_huh yep\n",
            "yup\n",
            "uh . yeah , i just gave it to the automated thing like five times . umm uh_huh yep yup\n",
            "me\n",
            "uh . yeah , i just gave it to the automated thing like five times . umm uh_huh yep yup me\n",
            "you d\n",
            "uh . yeah , i just gave it to the automated thing like five times . umm uh_huh yep yup me you d\n",
            "juster\n",
            "uh . yeah , i just gave it to the automated thing like five times . umm uh_huh yep yup me you d juster\n",
            "justs\n",
            "uh . yeah , i just gave it to the automated thing like five times . umm uh_huh yep yup me you d juster justs\n",
            "gavest\n",
            "uh . yeah , i just gave it to the automated thing like five times . umm uh_huh yep yup me you d juster justs gavest\n",
            "give\n",
            "uh . yeah , i just gave it to the automated thing like five times . umm uh_huh yep yup me you d juster justs gavest give\n",
            "he\n",
            "uh . yeah , i just gave it to the automated thing like five times . umm uh_huh yep yup me you d juster justs gavest give he\n",
            "that\n",
            "uh . yeah , i just gave it to the automated thing like five times . umm uh_huh yep yup me you d juster justs gavest give he that\n",
            "to ve\n",
            "uh . yeah , i just gave it to the automated thing like five times . umm uh_huh yep yup me you d juster justs gavest give he that to ve\n",
            "to_the\n",
            "uh . yeah , i just gave it to the automated thing like five times . umm uh_huh yep yup me you d juster justs gavest give he that to ve to_the\n",
            "of\n",
            "uh . yeah , i just gave it to the automated thing like five times . umm uh_huh yep yup me you d juster justs gavest give he that to ve to_the of\n",
            "tthe\n",
            "uh . yeah , i just gave it to the automated thing like five times . umm uh_huh yep yup me you d juster justs gavest give he that to ve to_the of tthe\n",
            "automate\n",
            "uh . yeah , i just gave it to the automated thing like five times . umm uh_huh yep yup me you d juster justs gavest give he that to ve to_the of tthe automate\n",
            "automatized\n",
            "uh . yeah , i just gave it to the automated thing like five times . umm uh_huh yep yup me you d juster justs gavest give he that to ve to_the of tthe automate automatized\n",
            "dealie\n",
            "uh . yeah , i just gave it to the automated thing like five times . umm uh_huh yep yup me you d juster justs gavest give he that to ve to_the of tthe automate automatized dealie\n",
            "thingo\n",
            "uh . yeah , i just gave it to the automated thing like five times . umm uh_huh yep yup me you d juster justs gavest give he that to ve to_the of tthe automate automatized dealie thingo\n",
            "liker\n",
            "uh . yeah , i just gave it to the automated thing like five times . umm uh_huh yep yup me you d juster justs gavest give he that to ve to_the of tthe automate automatized dealie thingo liker\n",
            "likes\n",
            "uh . yeah , i just gave it to the automated thing like five times . umm uh_huh yep yup me you d juster justs gavest give he that to ve to_the of tthe automate automatized dealie thingo liker likes\n",
            "six\n",
            "uh . yeah , i just gave it to the automated thing like five times . umm uh_huh yep yup me you d juster justs gavest give he that to ve to_the of tthe automate automatized dealie thingo liker likes six\n",
            "seven\n",
            "uh . yeah , i just gave it to the automated thing like five times . umm uh_huh yep yup me you d juster justs gavest give he that to ve to_the of tthe automate automatized dealie thingo liker likes six seven\n",
            "twice\n",
            "uh . yeah , i just gave it to the automated thing like five times . umm uh_huh yep yup me you d juster justs gavest give he that to ve to_the of tthe automate automatized dealie thingo liker likes six seven twice\n",
            "thrice\n"
          ],
          "name": "stdout"
        }
      ]
    },
    {
      "cell_type": "markdown",
      "metadata": {
        "id": "VfvmEKeHI7Kf"
      },
      "source": [
        "**End of Preprocessing Here. Further Processing is for BERT**"
      ]
    },
    {
      "cell_type": "code",
      "metadata": {
        "id": "Bf4C0QIsRPiS"
      },
      "source": [
        "processed_data=np.asarray(processed_data)\n",
        "test_processed_data=np.asarray(test_processed_data)\n",
        "Y=to_categorical(processed_label, num_classes=6)\n",
        "test_Y=to_categorical(test_processed_label, num_classes=6)"
      ],
      "execution_count": null,
      "outputs": []
    },
    {
      "cell_type": "code",
      "metadata": {
        "id": "kiTdbVgdRTAi"
      },
      "source": [
        "vocab_file = bert_layer.resolved_object.vocab_file.asset_path.numpy()\n",
        "do_lower_case = bert_layer.resolved_object.do_lower_case.numpy()\n",
        "tokenizer = tokenization.FullTokenizer(vocab_file, do_lower_case)"
      ],
      "execution_count": null,
      "outputs": []
    },
    {
      "cell_type": "code",
      "metadata": {
        "id": "K8sAlpdtRW6n"
      },
      "source": [
        "train_input = bert_encode(processed_data, tokenizer, max_len=160)\n",
        "test_input = bert_encode(test_processed_data, tokenizer, max_len=160)\n",
        "train_labels = Y\n",
        "test_labels = test_Y"
      ],
      "execution_count": null,
      "outputs": []
    },
    {
      "cell_type": "code",
      "metadata": {
        "id": "bYSK8AjpRYPx"
      },
      "source": [
        "model = build_model(bert_layer, max_len=160)\n",
        "model.summary()"
      ],
      "execution_count": null,
      "outputs": []
    },
    {
      "cell_type": "code",
      "metadata": {
        "id": "99O-dUk_Ra5y"
      },
      "source": [
        "train_history = model.fit(\n",
        "    train_input, train_labels,\n",
        "    epochs=6,\n",
        "    batch_size=1\n",
        ")\n",
        "\n",
        "model.save('model.h5')"
      ],
      "execution_count": null,
      "outputs": []
    },
    {
      "cell_type": "code",
      "metadata": {
        "id": "i1yXEXJpRcdF"
      },
      "source": [
        "y_pred=model.predict(test_input, batch_size=1)"
      ],
      "execution_count": null,
      "outputs": []
    },
    {
      "cell_type": "code",
      "metadata": {
        "id": "ifq6GS_ylKXA"
      },
      "source": [
        "y_pred1=np.argmax(y_pred,axis=1)\n",
        "test_processed_label=np.asarray(test_processed_label)\n",
        "print(\"Accuracy : \" + str(accuracy_score(test_processed_label, y_pred1)))\n",
        "print(\"Weighted F1-score : \" + str(f1_score(test_processed_label, y_pred1, average='weighted')))"
      ],
      "execution_count": null,
      "outputs": []
    }
  ]
}