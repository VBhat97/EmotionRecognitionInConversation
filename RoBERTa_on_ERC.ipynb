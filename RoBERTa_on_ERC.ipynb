{
  "nbformat": 4,
  "nbformat_minor": 0,
  "metadata": {
    "colab": {
      "name": "RoBERTa_on_ERC.ipynb",
      "provenance": [],
      "authorship_tag": "ABX9TyN36uATfLlHZpjx0JPIsYa+",
      "include_colab_link": true
    },
    "kernelspec": {
      "name": "python3",
      "display_name": "Python 3"
    }
  },
  "cells": [
    {
      "cell_type": "markdown",
      "metadata": {
        "id": "view-in-github",
        "colab_type": "text"
      },
      "source": [
        "<a href=\"https://colab.research.google.com/github/anitayadav3/EmotionRecognitionInConversation/blob/master/RoBERTa_on_ERC.ipynb\" target=\"_parent\"><img src=\"https://colab.research.google.com/assets/colab-badge.svg\" alt=\"Open In Colab\"/></a>"
      ]
    },
    {
      "cell_type": "code",
      "metadata": {
        "colab": {
          "base_uri": "https://localhost:8080/"
        },
        "id": "Olmz5sdiAERJ",
        "outputId": "32c7a03b-7c35-4795-edbd-fb74d636a806"
      },
      "source": [
        "!pip install -q transformers"
      ],
      "execution_count": 2,
      "outputs": [
        {
          "output_type": "stream",
          "text": [
            "\u001b[K     |████████████████████████████████| 1.5MB 7.0MB/s \n",
            "\u001b[K     |████████████████████████████████| 2.9MB 22.8MB/s \n",
            "\u001b[K     |████████████████████████████████| 890kB 42.6MB/s \n",
            "\u001b[?25h  Building wheel for sacremoses (setup.py) ... \u001b[?25l\u001b[?25hdone\n"
          ],
          "name": "stdout"
        }
      ]
    },
    {
      "cell_type": "code",
      "metadata": {
        "colab": {
          "base_uri": "https://localhost:8080/"
        },
        "id": "ETWOWe6W1lz9",
        "outputId": "99c15745-f824-4d55-8454-3aa688cd8cb5"
      },
      "source": [
        "import fastai\r\n",
        "import transformers\r\n",
        "print(fastai.__version__)\r\n",
        "print(transformers.__version__)"
      ],
      "execution_count": 3,
      "outputs": [
        {
          "output_type": "stream",
          "text": [
            "1.0.61\n",
            "4.1.1\n"
          ],
          "name": "stdout"
        }
      ]
    },
    {
      "cell_type": "code",
      "metadata": {
        "id": "sFznjbKeATIO"
      },
      "source": [
        "import numpy as np # linear algebra\r\n",
        "import pandas as pd # data processing, CSV file I/O (e.g. pd.read_csv)\r\n",
        "from pathlib import Path \r\n",
        "\r\n",
        "import os\r\n",
        "\r\n",
        "import torch\r\n",
        "import torch.optim as optim\r\n",
        "\r\n",
        "import random \r\n",
        "\r\n",
        "# fastai\r\n",
        "from fastai import *\r\n",
        "from fastai.text import *\r\n",
        "from fastai.callbacks import *\r\n",
        "\r\n",
        "# transformers\r\n",
        "from transformers import PreTrainedModel, PreTrainedTokenizer, PretrainedConfig\r\n",
        "from transformers import RobertaForSequenceClassification, RobertaTokenizer, RobertaConfig"
      ],
      "execution_count": 4,
      "outputs": []
    },
    {
      "cell_type": "code",
      "metadata": {
        "id": "eM6Dn9KbAWt7"
      },
      "source": [
        "MODEL_CLASSES = {\r\n",
        "    'roberta': (RobertaForSequenceClassification, RobertaTokenizer, RobertaConfig),\r\n",
        "}"
      ],
      "execution_count": 6,
      "outputs": []
    },
    {
      "cell_type": "code",
      "metadata": {
        "id": "3zde8T1PFFPH"
      },
      "source": [
        "# Parameters\r\n",
        "seed = 42\r\n",
        "use_fp16 = False\r\n",
        "bs = 16\r\n",
        "\r\n",
        "model_type = 'roberta'\r\n",
        "pretrained_model_name = 'roberta-base'"
      ],
      "execution_count": 7,
      "outputs": []
    },
    {
      "cell_type": "code",
      "metadata": {
        "id": "vph3koySFHqD"
      },
      "source": [
        "model_class, tokenizer_class, config_class = MODEL_CLASSES[model_type]"
      ],
      "execution_count": 10,
      "outputs": []
    }
  ]
}